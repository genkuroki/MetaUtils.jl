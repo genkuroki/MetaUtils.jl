{
 "cells": [
  {
   "cell_type": "markdown",
   "metadata": {},
   "source": [
    "# MetaUtils\n",
    "\n",
    "* Author: Gen Kuroki\n",
    "* Date: 2020-10-11～2020-10-17, 2021-03-20～2021-03-24\n",
    "* Repository: https://github.com/genkuroki/MetaUtils.jl\n",
    "* File: https://nbviewer.jupyter.org/github/genkuroki/MetaUtils.jl/blob/master/MetaUtils.ipynb"
   ]
  },
  {
   "cell_type": "markdown",
   "metadata": {
    "toc": true
   },
   "source": [
    "<h1>Table of Contents<span class=\"tocSkip\"></span></h1>\n",
    "<div class=\"toc\"><ul class=\"toc-item\"><li><span><a href=\"#Explanatory-examples\" data-toc-modified-id=\"Explanatory-examples-1\"><span class=\"toc-item-num\">1&nbsp;&nbsp;</span>Explanatory examples</a></span></li><li><span><a href=\"#Miscellaneous-examples-of-@show_texpr,-etc.\" data-toc-modified-id=\"Miscellaneous-examples-of-@show_texpr,-etc.-2\"><span class=\"toc-item-num\">2&nbsp;&nbsp;</span>Miscellaneous examples of @show_texpr, etc.</a></span><ul class=\"toc-item\"><li><span><a href=\"#for-loop\" data-toc-modified-id=\"for-loop-2.1\"><span class=\"toc-item-num\">2.1&nbsp;&nbsp;</span>for loop</a></span></li><li><span><a href=\"#subtype-trees\" data-toc-modified-id=\"subtype-trees-2.2\"><span class=\"toc-item-num\">2.2&nbsp;&nbsp;</span>subtype trees</a></span></li><li><span><a href=\"#function-definition\" data-toc-modified-id=\"function-definition-2.3\"><span class=\"toc-item-num\">2.3&nbsp;&nbsp;</span>function definition</a></span></li><li><span><a href=\"#macro-and-LineNumberNode\" data-toc-modified-id=\"macro-and-LineNumberNode-2.4\"><span class=\"toc-item-num\">2.4&nbsp;&nbsp;</span>macro and LineNumberNode</a></span></li><li><span><a href=\"#QuoteNode\" data-toc-modified-id=\"QuoteNode-2.5\"><span class=\"toc-item-num\">2.5&nbsp;&nbsp;</span>QuoteNode</a></span></li></ul></li><li><span><a href=\"#Evaluation-of-Lisp-like-tuple-expressions\" data-toc-modified-id=\"Evaluation-of-Lisp-like-tuple-expressions-3\"><span class=\"toc-item-num\">3&nbsp;&nbsp;</span>Evaluation of Lisp-like tuple expressions</a></span></li><li><span><a href=\"#Plot-example\" data-toc-modified-id=\"Plot-example-4\"><span class=\"toc-item-num\">4&nbsp;&nbsp;</span>Plot example</a></span></li><li><span><a href=\"#Documents\" data-toc-modified-id=\"Documents-5\"><span class=\"toc-item-num\">5&nbsp;&nbsp;</span>Documents</a></span></li></ul></div>"
   ]
  },
  {
   "cell_type": "code",
   "execution_count": 1,
   "metadata": {},
   "outputs": [],
   "source": [
    "if isfile(\"Project.toml\")\n",
    "    using Pkg\n",
    "    Pkg.activate(\".\")\n",
    "    using Revise\n",
    "end"
   ]
  },
  {
   "cell_type": "code",
   "execution_count": 2,
   "metadata": {},
   "outputs": [
    {
     "name": "stderr",
     "output_type": "stream",
     "text": [
      "┌ Info: Precompiling MetaUtils [ed17dc9e-20eb-4460-9701-8d0520e45e1f]\n",
      "└ @ Base loading.jl:1314\n"
     ]
    }
   ],
   "source": [
    "using MetaUtils"
   ]
  },
  {
   "cell_type": "markdown",
   "metadata": {},
   "source": [
    "## Explanatory examples"
   ]
  },
  {
   "cell_type": "code",
   "execution_count": 3,
   "metadata": {},
   "outputs": [
    {
     "name": "stdout",
     "output_type": "stream",
     "text": [
      "(:call, :+, (:call, :*, 2, :x), 1)"
     ]
    }
   ],
   "source": [
    "@show_sexpr 2x+1"
   ]
  },
  {
   "cell_type": "code",
   "execution_count": 4,
   "metadata": {},
   "outputs": [
    {
     "data": {
      "text/plain": [
       "21"
      ]
     },
     "execution_count": 4,
     "metadata": {},
     "output_type": "execute_result"
    }
   ],
   "source": [
    "x = 10; (:call, :+, (:call, :*, 2, :x), 1) |> teval"
   ]
  },
  {
   "cell_type": "code",
   "execution_count": 5,
   "metadata": {},
   "outputs": [
    {
     "name": "stdout",
     "output_type": "stream",
     "text": [
      "Expr(:call)\n",
      "├─ :+\n",
      "├─ Expr(:call)\n",
      "│  ├─ :*\n",
      "│  ├─ 2\n",
      "│  └─ :x\n",
      "└─ 1\n"
     ]
    }
   ],
   "source": [
    "@show_tree 2x+1"
   ]
  },
  {
   "cell_type": "code",
   "execution_count": 6,
   "metadata": {},
   "outputs": [
    {
     "name": "stdout",
     "output_type": "stream",
     "text": [
      "AbstractRange\n",
      "├─ LinRange\n",
      "├─ OrdinalRange\n",
      "│  ├─ AbstractUnitRange\n",
      "│  │  ├─ IdentityUnitRange\n",
      "│  │  ├─ OneTo\n",
      "│  │  ├─ Slice\n",
      "│  │  └─ UnitRange\n",
      "│  └─ StepRange\n",
      "└─ StepRangeLen\n"
     ]
    }
   ],
   "source": [
    "print_subtypes(AbstractRange)"
   ]
  },
  {
   "cell_type": "code",
   "execution_count": 7,
   "metadata": {},
   "outputs": [
    {
     "name": "stdout",
     "output_type": "stream",
     "text": [
      "Expr(:call, :f, :x, \n",
      "    Expr(:call, :g, :y, :z))"
     ]
    }
   ],
   "source": [
    "show_expr(:(f(x, g(y, z))))"
   ]
  },
  {
   "cell_type": "code",
   "execution_count": 8,
   "metadata": {},
   "outputs": [
    {
     "name": "stdout",
     "output_type": "stream",
     "text": [
      "Expr(:call, :+, \n",
      "    Expr(:call, :*, 2, :x), 1)"
     ]
    }
   ],
   "source": [
    "@show_expr 2x+1"
   ]
  },
  {
   "cell_type": "code",
   "execution_count": 9,
   "metadata": {},
   "outputs": [
    {
     "data": {
      "text/plain": [
       "21"
      ]
     },
     "execution_count": 9,
     "metadata": {},
     "output_type": "execute_result"
    }
   ],
   "source": [
    "x = 10; Expr(:call, :+, \n",
    "    Expr(:call, :*, 2, :x), 1) |> eval"
   ]
  },
  {
   "cell_type": "code",
   "execution_count": 10,
   "metadata": {},
   "outputs": [
    {
     "name": "stdout",
     "output_type": "stream",
     "text": [
      "(:call, :f, :x, \n",
      "    (:call, :g, :y, :z))"
     ]
    }
   ],
   "source": [
    "show_texpr(:(f(x, g(y, z))))"
   ]
  },
  {
   "cell_type": "code",
   "execution_count": 11,
   "metadata": {},
   "outputs": [
    {
     "name": "stdout",
     "output_type": "stream",
     "text": [
      "(:call, :+, \n",
      "    (:call, :*, 2, :x), 1)"
     ]
    }
   ],
   "source": [
    "@show_texpr 2x+1"
   ]
  },
  {
   "cell_type": "code",
   "execution_count": 12,
   "metadata": {},
   "outputs": [
    {
     "data": {
      "text/plain": [
       "21"
      ]
     },
     "execution_count": 12,
     "metadata": {},
     "output_type": "execute_result"
    }
   ],
   "source": [
    "x = 10; (:call, :+, \n",
    "    (:call, :*, 2, :x), 1) |> teval"
   ]
  },
  {
   "cell_type": "code",
   "execution_count": 13,
   "metadata": {
    "scrolled": true
   },
   "outputs": [
    {
     "data": {
      "text/plain": [
       ":(sin(π / 6))"
      ]
     },
     "execution_count": 13,
     "metadata": {},
     "output_type": "execute_result"
    }
   ],
   "source": [
    "texpr2expr((:call, :sin, (:call, :/, π, 6)))"
   ]
  },
  {
   "cell_type": "code",
   "execution_count": 14,
   "metadata": {
    "scrolled": true
   },
   "outputs": [
    {
     "data": {
      "text/plain": [
       "0.49999999999999994"
      ]
     },
     "execution_count": 14,
     "metadata": {},
     "output_type": "execute_result"
    }
   ],
   "source": [
    "(:call, :sin, (:call, :/, π, 6)) |> teval"
   ]
  },
  {
   "cell_type": "code",
   "execution_count": 15,
   "metadata": {
    "scrolled": true
   },
   "outputs": [
    {
     "data": {
      "text/plain": [
       "0.49999999999999994"
      ]
     },
     "execution_count": 15,
     "metadata": {},
     "output_type": "execute_result"
    }
   ],
   "source": [
    "@teval (:call, :sin, (:call, :/, π, 6))"
   ]
  },
  {
   "cell_type": "code",
   "execution_count": 16,
   "metadata": {},
   "outputs": [
    {
     "name": "stdout",
     "output_type": "stream",
     "text": [
      ":(sin(π / 6))\n",
      "→ 0.49999999999999994\n"
     ]
    }
   ],
   "source": [
    "MetaUtils.@t (:call, :sin, (:call, :/, π, 6))"
   ]
  },
  {
   "cell_type": "code",
   "execution_count": 17,
   "metadata": {},
   "outputs": [
    {
     "name": "stdout",
     "output_type": "stream",
     "text": [
      "(:call, :sin, (:call, :/, π, 6))\n",
      "→ (:call, :sin, \n",
      "    (:call, :/, π, 6))\n",
      "→ :(sin(π / 6))\n",
      "→ 0.49999999999999994\n"
     ]
    }
   ],
   "source": [
    "MetaUtils.@T (:call, :sin, (:call, :/, π, 6))"
   ]
  },
  {
   "cell_type": "code",
   "execution_count": 18,
   "metadata": {
    "scrolled": true
   },
   "outputs": [
    {
     "data": {
      "text/plain": [
       "0.49999999999999994"
      ]
     },
     "execution_count": 18,
     "metadata": {},
     "output_type": "execute_result"
    }
   ],
   "source": [
    "(:sin, (:/, π, 6)) |> teval"
   ]
  },
  {
   "cell_type": "code",
   "execution_count": 19,
   "metadata": {
    "scrolled": true
   },
   "outputs": [
    {
     "data": {
      "text/plain": [
       "0.49999999999999994"
      ]
     },
     "execution_count": 19,
     "metadata": {},
     "output_type": "execute_result"
    }
   ],
   "source": [
    "@teval (:sin, (:/, π, 6))"
   ]
  },
  {
   "cell_type": "code",
   "execution_count": 20,
   "metadata": {},
   "outputs": [
    {
     "name": "stdout",
     "output_type": "stream",
     "text": [
      ":(sin(π / 6))\n",
      "→ 0.49999999999999994\n"
     ]
    }
   ],
   "source": [
    "MetaUtils.@t (:sin, (:/, π, 6))"
   ]
  },
  {
   "cell_type": "code",
   "execution_count": 21,
   "metadata": {},
   "outputs": [
    {
     "name": "stdout",
     "output_type": "stream",
     "text": [
      "(:sin, (:/, π, 6))\n",
      "→ (:call, :sin, \n",
      "    (:call, :/, π, 6))\n",
      "→ :(sin(π / 6))\n",
      "→ 0.49999999999999994\n"
     ]
    }
   ],
   "source": [
    "MetaUtils.@T (:sin, (:/, π, 6))"
   ]
  },
  {
   "cell_type": "markdown",
   "metadata": {},
   "source": [
    "## Miscellaneous examples of @show_texpr, etc."
   ]
  },
  {
   "cell_type": "markdown",
   "metadata": {},
   "source": [
    "### for loop"
   ]
  },
  {
   "cell_type": "code",
   "execution_count": 22,
   "metadata": {},
   "outputs": [
    {
     "name": "stdout",
     "output_type": "stream",
     "text": [
      "(:for, \n",
      "    (:(=), :k, \n",
      "        (:call, :(:), 1, 10)), \n",
      "    (:block, \n",
      "        (:(=), :x, \n",
      "            (:call, :÷, \n",
      "                (:call, :*, :k, \n",
      "                    (:call, :+, :k, 1)), 2)), \n",
      "        (:call, :println, \"k(k+1)/2 = \", :x)))"
     ]
    }
   ],
   "source": [
    "@show_texpr for k in 1:10\n",
    "    x = k*(k+1) ÷ 2\n",
    "    println(\"k(k+1)/2 = \", x)\n",
    "end"
   ]
  },
  {
   "cell_type": "code",
   "execution_count": 23,
   "metadata": {},
   "outputs": [
    {
     "name": "stdout",
     "output_type": "stream",
     "text": [
      "(:for, \n",
      "    (:(=), :k, \n",
      "        (:call, :(:), 1, 10)), \n",
      "    (:block, LineNumberNode(2, Symbol(\"In[23]\")), \n",
      "        (:(=), :x, \n",
      "            (:call, :÷, \n",
      "                (:call, :*, :k, \n",
      "                    (:call, :+, :k, 1)), 2)), LineNumberNode(3, Symbol(\"In[23]\")), \n",
      "        (:call, :println, \"k(k+1)/2 = \", :x)))"
     ]
    }
   ],
   "source": [
    "@show_texpr for k in 1:10\n",
    "    x = k*(k+1) ÷ 2\n",
    "    println(\"k(k+1)/2 = \", x)\n",
    "end true"
   ]
  },
  {
   "cell_type": "code",
   "execution_count": 24,
   "metadata": {},
   "outputs": [
    {
     "name": "stdout",
     "output_type": "stream",
     "text": [
      "Expr(:for)\n",
      "├─ Expr(:(=))\n",
      "│  ├─ :k\n",
      "│  └─ Expr(:call)\n",
      "│     ⋮\n",
      "│     \n",
      "└─ Expr(:block)\n",
      "   ├─ Expr(:(=))\n",
      "   │  ⋮\n",
      "   │  \n",
      "   └─ Expr(:call)\n",
      "      ⋮\n",
      "      \n"
     ]
    }
   ],
   "source": [
    "@show_tree for k in 1:10\n",
    "    x = k*(k+1) ÷ 2\n",
    "    println(\"k(k+1)/2 = \", x)\n",
    "end 2"
   ]
  },
  {
   "cell_type": "code",
   "execution_count": 25,
   "metadata": {},
   "outputs": [
    {
     "name": "stdout",
     "output_type": "stream",
     "text": [
      "Expr(:for)\n",
      "├─ Expr(:(=))\n",
      "│  ├─ :k\n",
      "│  └─ Expr(:call)\n",
      "│     ├─ :(:)\n",
      "│     ├─ 1\n",
      "│     └─ 10\n",
      "└─ Expr(:block)\n",
      "   ├─ Expr(:(=))\n",
      "   │  ├─ :x\n",
      "   │  └─ Expr(:call)\n",
      "   │     ├─ :÷\n",
      "   │     ├─ Expr(:call)\n",
      "   │     │  ├─ :*\n",
      "   │     │  ├─ :k\n",
      "   │     │  └─ Expr(:call)\n",
      "   │     │     ├─ :+\n",
      "   │     │     ├─ :k\n",
      "   │     │     └─ 1\n",
      "   │     └─ 2\n",
      "   └─ Expr(:call)\n",
      "      ├─ :println\n",
      "      ├─ \"k(k+1)/2 = \"\n",
      "      └─ :x\n"
     ]
    }
   ],
   "source": [
    "@show_tree for k in 1:10\n",
    "    x = k*(k+1) ÷ 2\n",
    "    println(\"k(k+1)/2 = \", x)\n",
    "end"
   ]
  },
  {
   "cell_type": "code",
   "execution_count": 26,
   "metadata": {},
   "outputs": [
    {
     "name": "stdout",
     "output_type": "stream",
     "text": [
      "Expr(:for)\n",
      "├─ Expr(:(=))\n",
      "│  ├─ :k\n",
      "│  └─ Expr(:call)\n",
      "│     ├─ :(:)\n",
      "│     ├─ 1\n",
      "│     └─ 10\n",
      "└─ Expr(:block)\n",
      "   ├─ :(#= In[26]:2 =#)\n",
      "   ├─ Expr(:(=))\n",
      "   │  ├─ :x\n",
      "   │  └─ Expr(:call)\n",
      "   │     ├─ :÷\n",
      "   │     ├─ Expr(:call)\n",
      "   │     │  ├─ :*\n",
      "   │     │  ├─ :k\n",
      "   │     │  └─ Expr(:call)\n",
      "   │     │     ├─ :+\n",
      "   │     │     ├─ :k\n",
      "   │     │     └─ 1\n",
      "   │     └─ 2\n",
      "   ├─ :(#= In[26]:3 =#)\n",
      "   └─ Expr(:call)\n",
      "      ├─ :println\n",
      "      ├─ \"k(k+1)/2 = \"\n",
      "      └─ :x\n"
     ]
    }
   ],
   "source": [
    "@show_tree for k in 1:10\n",
    "    x = k*(k+1) ÷ 2\n",
    "    println(\"k(k+1)/2 = \", x)\n",
    "end 10 true"
   ]
  },
  {
   "cell_type": "code",
   "execution_count": 27,
   "metadata": {},
   "outputs": [
    {
     "name": "stdout",
     "output_type": "stream",
     "text": [
      "Expr\n",
      "  head: Symbol for\n",
      "  args: Array{Any}((2,))\n",
      "    1: Expr\n",
      "      head: Symbol =\n",
      "      args: Array{Any}((2,))\n",
      "        1: Symbol k\n",
      "        2: Expr\n",
      "          head: Symbol call\n",
      "          args: Array{Any}((3,))\n",
      "            1: Symbol :\n",
      "            2: Int64 1\n",
      "            3: Int64 10\n",
      "    2: Expr\n",
      "      head: Symbol block\n",
      "      args: Array{Any}((4,))\n",
      "        1: LineNumberNode\n",
      "          line: Int64 2\n",
      "          file: Symbol In[27]\n",
      "        2: Expr\n",
      "          head: Symbol =\n",
      "          args: Array{Any}((2,))\n",
      "            1: Symbol x\n",
      "            2: Expr\n",
      "              head: Symbol call\n",
      "              args: Array{Any}((3,))\n",
      "                1: Symbol ÷\n",
      "                2: Expr\n",
      "                3: Int64 2\n",
      "        3: LineNumberNode\n",
      "          line: Int64 3\n",
      "          file: Symbol In[27]\n",
      "        4: Expr\n",
      "          head: Symbol call\n",
      "          args: Array{Any}((3,))\n",
      "            1: Symbol println\n",
      "            2: String \"k(k+1)/2 = \"\n",
      "            3: Symbol x\n"
     ]
    }
   ],
   "source": [
    "Meta.@dump for k in 1:10\n",
    "    x = k*(k+1) ÷ 2\n",
    "    println(\"k(k+1)/2 = \", x)\n",
    "end"
   ]
  },
  {
   "cell_type": "code",
   "execution_count": 28,
   "metadata": {
    "scrolled": true
   },
   "outputs": [
    {
     "name": "stdout",
     "output_type": "stream",
     "text": [
      "Expr(:for, \n",
      "    Expr(:(=), :k, \n",
      "        Expr(:call, :(:), 1, 10)), \n",
      "    Expr(:block, \n",
      "        Expr(:(=), :x, \n",
      "            Expr(:call, :÷, \n",
      "                Expr(:call, :*, :k, \n",
      "                    Expr(:call, :+, :k, 1)), 2)), \n",
      "        Expr(:call, :println, \"k(k+1)/2 = \", :x)))"
     ]
    }
   ],
   "source": [
    "@show_expr for k in 1:10\n",
    "    x = k*(k+1) ÷ 2\n",
    "    println(\"k(k+1)/2 = \", x)\n",
    "end"
   ]
  },
  {
   "cell_type": "code",
   "execution_count": 29,
   "metadata": {},
   "outputs": [
    {
     "name": "stdout",
     "output_type": "stream",
     "text": [
      "(:for, \n",
      "    (:(=), :k, \n",
      "        (:call, :(:), 1, 10)), \n",
      "    (:block, \n",
      "        (:(=), :x, \n",
      "            (:call, :÷, \n",
      "                (:call, :*, :k, \n",
      "                    (:call, :+, :k, 1)), 2)), \n",
      "        (:call, :println, \"k(k+1)/2 = \", :x)))"
     ]
    }
   ],
   "source": [
    "@show_texpr for k in 1:10\n",
    "    x = k*(k+1) ÷ 2\n",
    "    println(\"k(k+1)/2 = \", x)\n",
    "end"
   ]
  },
  {
   "cell_type": "markdown",
   "metadata": {},
   "source": [
    "### subtype trees"
   ]
  },
  {
   "cell_type": "code",
   "execution_count": 30,
   "metadata": {},
   "outputs": [
    {
     "name": "stdout",
     "output_type": "stream",
     "text": [
      "Number\n",
      "├─ Complex\n",
      "└─ Real\n",
      "   ├─ AbstractFloat\n",
      "   │  ├─ BigFloat\n",
      "   │  ├─ Float16\n",
      "   │  ├─ Float32\n",
      "   │  └─ Float64\n",
      "   ├─ AbstractIrrational\n",
      "   │  └─ Irrational\n",
      "   ├─ Integer\n",
      "   │  ├─ Bool\n",
      "   │  ├─ Signed\n",
      "   │  │  ├─ BigInt\n",
      "   │  │  ├─ Int128\n",
      "   │  │  ├─ Int16\n",
      "   │  │  ├─ Int32\n",
      "   │  │  ├─ Int64\n",
      "   │  │  └─ Int8\n",
      "   │  └─ Unsigned\n",
      "   │     ├─ UInt128\n",
      "   │     ├─ UInt16\n",
      "   │     ├─ UInt32\n",
      "   │     ├─ UInt64\n",
      "   │     └─ UInt8\n",
      "   └─ Rational\n"
     ]
    }
   ],
   "source": [
    "print_subtypes(Number)"
   ]
  },
  {
   "cell_type": "code",
   "execution_count": 31,
   "metadata": {},
   "outputs": [
    {
     "name": "stdout",
     "output_type": "stream",
     "text": [
      "AbstractVector{T} where T\n",
      "├─ AbstractRange\n",
      "│  ├─ LinRange\n",
      "│  ├─ OrdinalRange\n",
      "│  │  ├─ AbstractUnitRange\n",
      "│  │  │  ├─ IdentityUnitRange\n",
      "│  │  │  ├─ OneTo\n",
      "│  │  │  ├─ Slice\n",
      "│  │  │  └─ UnitRange\n",
      "│  │  └─ StepRange\n",
      "│  └─ StepRangeLen\n",
      "├─ LogicalIndex\n",
      "├─ ReinterpretArray{T, 1, S, A, IsReshaped} where {T, S, A<:(AbstractArray{S, N} where N), IsReshaped}\n",
      "├─ ReshapedArray{T, 1, P, MI} where {T, P<:AbstractArray, MI<:Tuple{Vararg{SignedMultiplicativeInverse{Int64}}}}\n",
      "├─ BitVector\n",
      "├─ CartesianIndices{1, R} where R<:Tuple{OrdinalRange{Int64, Int64}}\n",
      "├─ AbstractRange\n",
      "│  ├─ LinRange\n",
      "│  ├─ OrdinalRange\n",
      "│  │  ├─ AbstractUnitRange\n",
      "│  │  │  ├─ IdentityUnitRange\n",
      "│  │  │  ├─ OneTo\n",
      "│  │  │  ├─ Slice\n",
      "│  │  │  ├─ StmtRange\n",
      "│  │  │  └─ UnitRange\n",
      "│  │  └─ StepRange\n",
      "│  └─ StepRangeLen\n",
      "├─ BitArray{1}\n",
      "├─ LinearIndices{1, R} where R<:Tuple{AbstractUnitRange{Int64}}\n",
      "├─ DenseVector{T} where T\n",
      "│  ├─ CodeUnits\n",
      "│  ├─ Const{T, 1} where T\n",
      "│  ├─ UnsafeView\n",
      "│  ├─ SharedVector{T} where T\n",
      "│  └─ Vector{T} where T\n",
      "├─ LinearIndices{1, R} where R<:Tuple{AbstractUnitRange{Int64}}\n",
      "├─ PermutedDimsArray{T, 1, perm, iperm, AA} where {T, perm, iperm, AA<:AbstractArray}\n",
      "├─ AbstractSparseVector{Tv, Ti} where {Tv, Ti}\n",
      "│  └─ SparseVector\n",
      "├─ SubArray{T, 1, P, I, L} where {T, P, I, L}\n",
      "├─ GenericArray{T, 1} where T\n",
      "└─ Message\n"
     ]
    }
   ],
   "source": [
    "print_subtypes(AbstractVector)"
   ]
  },
  {
   "cell_type": "markdown",
   "metadata": {},
   "source": [
    "### function definition"
   ]
  },
  {
   "cell_type": "code",
   "execution_count": 32,
   "metadata": {},
   "outputs": [
    {
     "name": "stdout",
     "output_type": "stream",
     "text": [
      "(:function, \n",
      "    (:where, \n",
      "        (:call, :f, \n",
      "            (:(::), :x, :T)), \n",
      "        (:<:, :T, :Number)), \n",
      "    (:block, \n",
      "        (:call, :sin, :x)))"
     ]
    }
   ],
   "source": [
    "@show_texpr function f(x::T) where T<:Number\n",
    "    sin(x)\n",
    "end"
   ]
  },
  {
   "cell_type": "code",
   "execution_count": 33,
   "metadata": {},
   "outputs": [
    {
     "name": "stdout",
     "output_type": "stream",
     "text": [
      "Expr(:function)\n",
      "├─ Expr(:where)\n",
      "│  ├─ Expr(:call)\n",
      "│  │  ├─ :f\n",
      "│  │  └─ Expr(:(::))\n",
      "│  │     ├─ :x\n",
      "│  │     └─ :T\n",
      "│  └─ Expr(:<:)\n",
      "│     ├─ :T\n",
      "│     └─ :Number\n",
      "└─ Expr(:block)\n",
      "   └─ Expr(:call)\n",
      "      ├─ :sin\n",
      "      └─ :x\n"
     ]
    }
   ],
   "source": [
    "@show_tree function f(x::T) where T<:Number\n",
    "    sin(x)\n",
    "end"
   ]
  },
  {
   "cell_type": "code",
   "execution_count": 34,
   "metadata": {},
   "outputs": [
    {
     "name": "stdout",
     "output_type": "stream",
     "text": [
      "Expr(:function, \n",
      "    Expr(:where, \n",
      "        Expr(:call, :f, \n",
      "            Expr(:(::), :x, :T)), \n",
      "        Expr(:<:, :T, :Number)), \n",
      "    Expr(:block, \n",
      "        Expr(:call, :sin, :x)))"
     ]
    }
   ],
   "source": [
    "@show_expr function f(x::T) where T<:Number\n",
    "    sin(x)\n",
    "end"
   ]
  },
  {
   "cell_type": "code",
   "execution_count": 35,
   "metadata": {},
   "outputs": [
    {
     "name": "stdout",
     "output_type": "stream",
     "text": [
      "(:function, \n",
      "    (:where, \n",
      "        (:call, :f, \n",
      "            (:(::), :x, :T)), \n",
      "        (:<:, :T, :Number)), \n",
      "    (:block, \n",
      "        (:call, :sin, :x)))"
     ]
    }
   ],
   "source": [
    "@show_texpr function f(x::T) where T<:Number\n",
    "    sin(x)\n",
    "end"
   ]
  },
  {
   "cell_type": "markdown",
   "metadata": {},
   "source": [
    "### macro and LineNumberNode"
   ]
  },
  {
   "cell_type": "code",
   "execution_count": 36,
   "metadata": {},
   "outputs": [
    {
     "name": "stdout",
     "output_type": "stream",
     "text": [
      "Expr(:macrocall)\n",
      "├─ Symbol(\"@show\")\n",
      "├─ :(#= In[36]:1 =#)\n",
      "└─ Expr(:call)\n",
      "   ├─ :float\n",
      "   └─ :π\n"
     ]
    }
   ],
   "source": [
    "@show_tree @show float(π)"
   ]
  },
  {
   "cell_type": "code",
   "execution_count": 37,
   "metadata": {},
   "outputs": [
    {
     "name": "stdout",
     "output_type": "stream",
     "text": [
      "(:macrocall, Symbol(\"@show\"), :(#= In[37]:1 =#), (:call, :float, :π))"
     ]
    }
   ],
   "source": [
    "@show_sexpr @show float(π)"
   ]
  },
  {
   "cell_type": "code",
   "execution_count": 38,
   "metadata": {},
   "outputs": [
    {
     "name": "stdout",
     "output_type": "stream",
     "text": [
      "float(π) = 3.141592653589793\n"
     ]
    },
    {
     "data": {
      "text/plain": [
       "3.141592653589793"
      ]
     },
     "execution_count": 38,
     "metadata": {},
     "output_type": "execute_result"
    }
   ],
   "source": [
    "@teval (:macrocall, Symbol(\"@show\"), :(#= In[34]:1 =#), (:call, :float, :π))"
   ]
  },
  {
   "cell_type": "code",
   "execution_count": 39,
   "metadata": {},
   "outputs": [
    {
     "name": "stdout",
     "output_type": "stream",
     "text": [
      "Expr(:macrocall, Symbol(\"@show\"), LineNumberNode(1, Symbol(\"In[39]\")), \n",
      "    Expr(:call, :float, :π))"
     ]
    }
   ],
   "source": [
    "@show_expr @show float(π)"
   ]
  },
  {
   "cell_type": "code",
   "execution_count": 40,
   "metadata": {},
   "outputs": [
    {
     "name": "stdout",
     "output_type": "stream",
     "text": [
      "Expr(:macrocall, Symbol(\"@show\"), LineNumberNode(1, Symbol(\"In[40]\")), \n",
      "    Expr(:call, :float, :π))"
     ]
    }
   ],
   "source": [
    "Expr(:macrocall, Symbol(\"@show\"), LineNumberNode(@__LINE__, @__FILE__), \n",
    "    Expr(:call, :float, :π)) |> show_expr"
   ]
  },
  {
   "cell_type": "code",
   "execution_count": 41,
   "metadata": {},
   "outputs": [
    {
     "name": "stdout",
     "output_type": "stream",
     "text": [
      "float(π) = 3.141592653589793\n"
     ]
    },
    {
     "data": {
      "text/plain": [
       "3.141592653589793"
      ]
     },
     "execution_count": 41,
     "metadata": {},
     "output_type": "execute_result"
    }
   ],
   "source": [
    "Expr(:macrocall, Symbol(\"@show\"), LineNumberNode(@__LINE__, @__FILE__), \n",
    "    Expr(:call, :float, :π)) |> eval"
   ]
  },
  {
   "cell_type": "code",
   "execution_count": 42,
   "metadata": {},
   "outputs": [
    {
     "name": "stdout",
     "output_type": "stream",
     "text": [
      "(:macrocall, Symbol(\"@show\"), LineNumberNode(1, Symbol(\"In[42]\")), \n",
      "    (:call, :float, :π))"
     ]
    }
   ],
   "source": [
    "@show_texpr @show float(π)"
   ]
  },
  {
   "cell_type": "code",
   "execution_count": 43,
   "metadata": {},
   "outputs": [
    {
     "name": "stdout",
     "output_type": "stream",
     "text": [
      "float(π) = 3.141592653589793\n"
     ]
    },
    {
     "data": {
      "text/plain": [
       "3.141592653589793"
      ]
     },
     "execution_count": 43,
     "metadata": {},
     "output_type": "execute_result"
    }
   ],
   "source": [
    "(:macrocall, Symbol(\"@show\"), LineNumberNode(@__LINE__, @__FILE__), \n",
    "    (:call, :float, :π)) |> teval"
   ]
  },
  {
   "cell_type": "code",
   "execution_count": 44,
   "metadata": {},
   "outputs": [
    {
     "name": "stdout",
     "output_type": "stream",
     "text": [
      "float(π) = 3.141592653589793\n"
     ]
    },
    {
     "data": {
      "text/plain": [
       "3.141592653589793"
      ]
     },
     "execution_count": 44,
     "metadata": {},
     "output_type": "execute_result"
    }
   ],
   "source": [
    "@teval (:macrocall, Symbol(\"@show\"), LineNumberNode(@__LINE__, @__FILE__),  \n",
    "    (:call, :float, :π))"
   ]
  },
  {
   "cell_type": "markdown",
   "metadata": {},
   "source": [
    "### QuoteNode"
   ]
  },
  {
   "cell_type": "code",
   "execution_count": 45,
   "metadata": {},
   "outputs": [
    {
     "data": {
      "text/plain": [
       ":($(QuoteNode(:(sin(x)))))"
      ]
     },
     "execution_count": 45,
     "metadata": {},
     "output_type": "execute_result"
    }
   ],
   "source": [
    "QuoteNode(:(sin(x)))"
   ]
  },
  {
   "cell_type": "code",
   "execution_count": 46,
   "metadata": {},
   "outputs": [
    {
     "name": "stdout",
     "output_type": "stream",
     "text": [
      "(:quote, #QuoteNode\n",
      "  (:call, :sin, :x)\n",
      ")"
     ]
    }
   ],
   "source": [
    "QuoteNode(:(sin(x))) |> Meta.show_sexpr"
   ]
  },
  {
   "cell_type": "code",
   "execution_count": 47,
   "metadata": {},
   "outputs": [
    {
     "name": "stdout",
     "output_type": "stream",
     "text": [
      "QuoteNode(\n",
      "    Expr(:call, :sin, :x))"
     ]
    }
   ],
   "source": [
    "QuoteNode(:(sin(x))) |> show_expr"
   ]
  },
  {
   "cell_type": "code",
   "execution_count": 48,
   "metadata": {},
   "outputs": [
    {
     "name": "stdout",
     "output_type": "stream",
     "text": [
      "QuoteNode(\n",
      "    (:call, :sin, :x))"
     ]
    }
   ],
   "source": [
    "QuoteNode(:(sin(x))) |> show_texpr"
   ]
  },
  {
   "cell_type": "code",
   "execution_count": 49,
   "metadata": {},
   "outputs": [
    {
     "data": {
      "text/plain": [
       "true"
      ]
     },
     "execution_count": 49,
     "metadata": {},
     "output_type": "execute_result"
    }
   ],
   "source": [
    "QuoteNode(\n",
    "    (:call, :sin, :x)) |> texpr2expr == QuoteNode(:(sin(x)))"
   ]
  },
  {
   "cell_type": "code",
   "execution_count": 50,
   "metadata": {},
   "outputs": [
    {
     "data": {
      "text/plain": [
       ":(sin(x))"
      ]
     },
     "execution_count": 50,
     "metadata": {},
     "output_type": "execute_result"
    }
   ],
   "source": [
    "@teval QuoteNode(\n",
    "    (:call, :sin, :x))"
   ]
  },
  {
   "cell_type": "markdown",
   "metadata": {},
   "source": [
    "## Evaluation of Lisp-like tuple expressions\n",
    "\n",
    "If you want more Lisp-like examamples, see [LispLikeEval.ipynb](https://nbviewer.jupyter.org/github/genkuroki/LispLikeEval.jl/blob/master/LispLikeEval.ipynb)."
   ]
  },
  {
   "cell_type": "code",
   "execution_count": 51,
   "metadata": {},
   "outputs": [],
   "source": [
    "using MetaUtils: @t, @T"
   ]
  },
  {
   "cell_type": "code",
   "execution_count": 52,
   "metadata": {},
   "outputs": [
    {
     "name": "stdout",
     "output_type": "stream",
     "text": [
      ":(f(x) = sin(x))\n",
      "→ f\n",
      "\n",
      ":(f(π / 6))\n",
      "→ 0.49999999999999994\n"
     ]
    }
   ],
   "source": [
    "# Define and run a function f(x) = sin(x)\n",
    "\n",
    "@t (:(=), :(f(x)), (:sin, :x))\n",
    "println()\n",
    "@t (:f, (:/, π, 6))"
   ]
  },
  {
   "cell_type": "code",
   "execution_count": 53,
   "metadata": {},
   "outputs": [
    {
     "name": "stdout",
     "output_type": "stream",
     "text": [
      "(:(=), :(f(x)), (:sin, :x))\n",
      "→ (:(=), \n",
      "    (:call, :f, :x), \n",
      "    (:call, :sin, :x))\n",
      "→ :(f(x) = sin(x))\n",
      "→ f\n",
      "\n",
      "(:f, (:/, π, 6))\n",
      "→ (:call, :f, \n",
      "    (:call, :/, π, 6))\n",
      "→ :(f(π / 6))\n",
      "→ 0.49999999999999994\n"
     ]
    }
   ],
   "source": [
    "# Define and run a function f(x) = sin(x)\n",
    "\n",
    "@T (:(=), :(f(x)), (:sin, :x))\n",
    "println()\n",
    "@T (:f, (:/, π, 6))"
   ]
  },
  {
   "cell_type": "code",
   "execution_count": 54,
   "metadata": {},
   "outputs": [
    {
     "name": "stdout",
     "output_type": "stream",
     "text": [
      "quote\n",
      "    function g(x)\n",
      "        sin(x)\n",
      "    end\n",
      "    g(π / 6)\n",
      "end\n",
      "→ 0.49999999999999994\n"
     ]
    }
   ],
   "source": [
    "# Define and run a function g(x) = sin(x)\n",
    "\n",
    "@t (:block,\n",
    "    (:function, :(g(x)), (:sin, :x)),\n",
    "    (:call, :g, (:/, π, 6)))"
   ]
  },
  {
   "cell_type": "code",
   "execution_count": 55,
   "metadata": {},
   "outputs": [
    {
     "name": "stdout",
     "output_type": "stream",
     "text": [
      "(:block, (:function, :(g(x)), (:sin, :x)), (:call, :g, (:/, π, 6)))\n",
      "→ (:block, \n",
      "    (:function, \n",
      "        (:call, :g, :x), \n",
      "        (:call, :sin, :x)), \n",
      "    (:call, :g, \n",
      "        (:call, :/, π, 6)))\n",
      "→ quote\n",
      "    function g(x)\n",
      "        sin(x)\n",
      "    end\n",
      "    g(π / 6)\n",
      "end\n",
      "→ 0.49999999999999994\n"
     ]
    }
   ],
   "source": [
    "# Define and run a function g(x) = sin(x)\n",
    "\n",
    "@T (:block,\n",
    "    (:function, :(g(x)), (:sin, :x)),\n",
    "    (:call, :g, (:/, π, 6)))"
   ]
  },
  {
   "cell_type": "code",
   "execution_count": 56,
   "metadata": {},
   "outputs": [
    {
     "name": "stdout",
     "output_type": "stream",
     "text": [
      "quote\n",
      "    function pi_mc(N)\n",
      "        c = 0\n",
      "        for i = 1:N\n",
      "            c += ifelse(rand() ^ 2 + rand() ^ 2 ≤ 1, 1, 0)\n",
      "        end\n",
      "        (4c) / N\n",
      "    end\n",
      "    pi_mc(10 ^ 8)\n",
      "end\n",
      "→ 3.14156968\n"
     ]
    }
   ],
   "source": [
    "# Calculation of pi by the Monte Carlo method\n",
    "\n",
    "@t (:block, \n",
    "    (:function, :(pi_mc(N)), \n",
    "        (:block, \n",
    "            (:(=), :c, 0), \n",
    "            (:for, (:(=), :i, (:(:), 1, :N)), \n",
    "                (:block, \n",
    "                    (:+=, :c, \n",
    "                        (:call, :ifelse, \n",
    "                            (:≤, (:+, (:^, (:rand,), 2), (:^, (:rand,), 2)), 1), \n",
    "                            1, 0)))), \n",
    "            (:/, (:*, 4, :c), :N))), \n",
    "    (:call, :pi_mc, (:^, 10, 8)))"
   ]
  },
  {
   "cell_type": "code",
   "execution_count": 57,
   "metadata": {},
   "outputs": [
    {
     "name": "stdout",
     "output_type": "stream",
     "text": [
      ":($(Expr(:quote, :(sin(x)))))\n",
      "→ :(sin(x))\n"
     ]
    }
   ],
   "source": [
    "# quote\n",
    "\n",
    "@t (:quote, (:sin, :x))"
   ]
  },
  {
   "cell_type": "code",
   "execution_count": 58,
   "metadata": {},
   "outputs": [
    {
     "name": "stdout",
     "output_type": "stream",
     "text": [
      ":((1, 2, 3))\n",
      "→ (1, 2, 3)\n"
     ]
    }
   ],
   "source": [
    "# tuple\n",
    "\n",
    "@t (:tuple, 1, 2, 3)"
   ]
  },
  {
   "cell_type": "markdown",
   "metadata": {},
   "source": [
    "## Plot example"
   ]
  },
  {
   "cell_type": "code",
   "execution_count": 59,
   "metadata": {},
   "outputs": [
    {
     "data": {
      "image/svg+xml": [
       "<?xml version=\"1.0\" encoding=\"utf-8\"?>\n",
       "<svg xmlns=\"http://www.w3.org/2000/svg\" xmlns:xlink=\"http://www.w3.org/1999/xlink\" width=\"600\" height=\"400\" viewBox=\"0 0 2400 1600\">\n",
       "<defs>\n",
       "  <clipPath id=\"clip960\">\n",
       "    <rect x=\"0\" y=\"0\" width=\"2400\" height=\"1600\"/>\n",
       "  </clipPath>\n",
       "</defs>\n",
       "<path clip-path=\"url(#clip960)\" d=\"\n",
       "M0 1600 L2400 1600 L2400 0 L0 0  Z\n",
       "  \" fill=\"#ffffff\" fill-rule=\"evenodd\" fill-opacity=\"1\"/>\n",
       "<defs>\n",
       "  <clipPath id=\"clip961\">\n",
       "    <rect x=\"480\" y=\"0\" width=\"1681\" height=\"1600\"/>\n",
       "  </clipPath>\n",
       "</defs>\n",
       "<path clip-path=\"url(#clip960)\" d=\"\n",
       "M179.654 1486.45 L2352.76 1486.45 L2352.76 47.2441 L179.654 47.2441  Z\n",
       "  \" fill=\"#ffffff\" fill-rule=\"evenodd\" fill-opacity=\"1\"/>\n",
       "<defs>\n",
       "  <clipPath id=\"clip962\">\n",
       "    <rect x=\"179\" y=\"47\" width=\"2174\" height=\"1440\"/>\n",
       "  </clipPath>\n",
       "</defs>\n",
       "<polyline clip-path=\"url(#clip962)\" style=\"stroke:#000000; stroke-width:2; stroke-opacity:0.1; fill:none\" points=\"\n",
       "  287.356,1486.45 287.356,47.2441 \n",
       "  \"/>\n",
       "<polyline clip-path=\"url(#clip962)\" style=\"stroke:#000000; stroke-width:2; stroke-opacity:0.1; fill:none\" points=\"\n",
       "  613.639,1486.45 613.639,47.2441 \n",
       "  \"/>\n",
       "<polyline clip-path=\"url(#clip962)\" style=\"stroke:#000000; stroke-width:2; stroke-opacity:0.1; fill:none\" points=\"\n",
       "  939.922,1486.45 939.922,47.2441 \n",
       "  \"/>\n",
       "<polyline clip-path=\"url(#clip962)\" style=\"stroke:#000000; stroke-width:2; stroke-opacity:0.1; fill:none\" points=\"\n",
       "  1266.2,1486.45 1266.2,47.2441 \n",
       "  \"/>\n",
       "<polyline clip-path=\"url(#clip962)\" style=\"stroke:#000000; stroke-width:2; stroke-opacity:0.1; fill:none\" points=\"\n",
       "  1592.49,1486.45 1592.49,47.2441 \n",
       "  \"/>\n",
       "<polyline clip-path=\"url(#clip962)\" style=\"stroke:#000000; stroke-width:2; stroke-opacity:0.1; fill:none\" points=\"\n",
       "  1918.77,1486.45 1918.77,47.2441 \n",
       "  \"/>\n",
       "<polyline clip-path=\"url(#clip962)\" style=\"stroke:#000000; stroke-width:2; stroke-opacity:0.1; fill:none\" points=\"\n",
       "  2245.05,1486.45 2245.05,47.2441 \n",
       "  \"/>\n",
       "<polyline clip-path=\"url(#clip960)\" style=\"stroke:#000000; stroke-width:4; stroke-opacity:1; fill:none\" points=\"\n",
       "  179.654,1486.45 2352.76,1486.45 \n",
       "  \"/>\n",
       "<polyline clip-path=\"url(#clip960)\" style=\"stroke:#000000; stroke-width:4; stroke-opacity:1; fill:none\" points=\"\n",
       "  287.356,1486.45 287.356,1469.18 \n",
       "  \"/>\n",
       "<polyline clip-path=\"url(#clip960)\" style=\"stroke:#000000; stroke-width:4; stroke-opacity:1; fill:none\" points=\"\n",
       "  613.639,1486.45 613.639,1469.18 \n",
       "  \"/>\n",
       "<polyline clip-path=\"url(#clip960)\" style=\"stroke:#000000; stroke-width:4; stroke-opacity:1; fill:none\" points=\"\n",
       "  939.922,1486.45 939.922,1469.18 \n",
       "  \"/>\n",
       "<polyline clip-path=\"url(#clip960)\" style=\"stroke:#000000; stroke-width:4; stroke-opacity:1; fill:none\" points=\"\n",
       "  1266.2,1486.45 1266.2,1469.18 \n",
       "  \"/>\n",
       "<polyline clip-path=\"url(#clip960)\" style=\"stroke:#000000; stroke-width:4; stroke-opacity:1; fill:none\" points=\"\n",
       "  1592.49,1486.45 1592.49,1469.18 \n",
       "  \"/>\n",
       "<polyline clip-path=\"url(#clip960)\" style=\"stroke:#000000; stroke-width:4; stroke-opacity:1; fill:none\" points=\"\n",
       "  1918.77,1486.45 1918.77,1469.18 \n",
       "  \"/>\n",
       "<polyline clip-path=\"url(#clip960)\" style=\"stroke:#000000; stroke-width:4; stroke-opacity:1; fill:none\" points=\"\n",
       "  2245.05,1486.45 2245.05,1469.18 \n",
       "  \"/>\n",
       "<path clip-path=\"url(#clip960)\" d=\"M 0 0 M259.335 1530.29 L289.011 1530.29 L289.011 1534.23 L259.335 1534.23 L259.335 1530.29 Z\" fill=\"#000000\" fill-rule=\"evenodd\" fill-opacity=\"1\" /><path clip-path=\"url(#clip960)\" d=\"M 0 0 M308.247 1528.49 Q311.603 1529.2 313.478 1531.47 Q315.377 1533.74 315.377 1537.07 Q315.377 1542.19 311.858 1544.99 Q308.34 1547.79 301.858 1547.79 Q299.682 1547.79 297.367 1547.35 Q295.076 1546.93 292.622 1546.08 L292.622 1541.56 Q294.566 1542.7 296.881 1543.28 Q299.196 1543.86 301.719 1543.86 Q306.117 1543.86 308.409 1542.12 Q310.724 1540.38 310.724 1537.07 Q310.724 1534.02 308.571 1532.31 Q306.441 1530.57 302.622 1530.57 L298.594 1530.57 L298.594 1526.73 L302.807 1526.73 Q306.256 1526.73 308.085 1525.36 Q309.914 1523.97 309.914 1521.38 Q309.914 1518.72 308.015 1517.31 Q306.14 1515.87 302.622 1515.87 Q300.701 1515.87 298.502 1516.29 Q296.303 1516.7 293.664 1517.58 L293.664 1513.42 Q296.326 1512.68 298.64 1512.31 Q300.978 1511.93 303.039 1511.93 Q308.363 1511.93 311.465 1514.37 Q314.566 1516.77 314.566 1520.89 Q314.566 1523.76 312.923 1525.75 Q311.279 1527.72 308.247 1528.49 Z\" fill=\"#000000\" fill-rule=\"evenodd\" fill-opacity=\"1\" /><path clip-path=\"url(#clip960)\" d=\"M 0 0 M586.093 1530.29 L615.768 1530.29 L615.768 1534.23 L586.093 1534.23 L586.093 1530.29 Z\" fill=\"#000000\" fill-rule=\"evenodd\" fill-opacity=\"1\" /><path clip-path=\"url(#clip960)\" d=\"M 0 0 M624.866 1543.18 L641.185 1543.18 L641.185 1547.12 L619.241 1547.12 L619.241 1543.18 Q621.903 1540.43 626.486 1535.8 Q631.092 1531.15 632.273 1529.81 Q634.518 1527.28 635.398 1525.55 Q636.301 1523.79 636.301 1522.1 Q636.301 1519.34 634.356 1517.61 Q632.435 1515.87 629.333 1515.87 Q627.134 1515.87 624.68 1516.63 Q622.25 1517.4 619.472 1518.95 L619.472 1514.23 Q622.296 1513.09 624.75 1512.51 Q627.204 1511.93 629.241 1511.93 Q634.611 1511.93 637.805 1514.62 Q641 1517.31 641 1521.8 Q641 1523.93 640.19 1525.85 Q639.403 1527.74 637.296 1530.34 Q636.717 1531.01 633.616 1534.23 Q630.514 1537.42 624.866 1543.18 Z\" fill=\"#000000\" fill-rule=\"evenodd\" fill-opacity=\"1\" /><path clip-path=\"url(#clip960)\" d=\"M 0 0 M912.19 1530.29 L941.866 1530.29 L941.866 1534.23 L912.19 1534.23 L912.19 1530.29 Z\" fill=\"#000000\" fill-rule=\"evenodd\" fill-opacity=\"1\" /><path clip-path=\"url(#clip960)\" d=\"M 0 0 M947.746 1543.18 L955.385 1543.18 L955.385 1516.82 L947.075 1518.49 L947.075 1514.23 L955.338 1512.56 L960.014 1512.56 L960.014 1543.18 L967.653 1543.18 L967.653 1547.12 L947.746 1547.12 L947.746 1543.18 Z\" fill=\"#000000\" fill-rule=\"evenodd\" fill-opacity=\"1\" /><path clip-path=\"url(#clip960)\" d=\"M 0 0 M1266.2 1515.64 Q1262.59 1515.64 1260.77 1519.2 Q1258.96 1522.75 1258.96 1529.87 Q1258.96 1536.98 1260.77 1540.55 Q1262.59 1544.09 1266.2 1544.09 Q1269.84 1544.09 1271.64 1540.55 Q1273.47 1536.98 1273.47 1529.87 Q1273.47 1522.75 1271.64 1519.2 Q1269.84 1515.64 1266.2 1515.64 M1266.2 1511.93 Q1272.01 1511.93 1275.07 1516.54 Q1278.15 1521.12 1278.15 1529.87 Q1278.15 1538.6 1275.07 1543.21 Q1272.01 1547.79 1266.2 1547.79 Q1260.39 1547.79 1257.32 1543.21 Q1254.26 1538.6 1254.26 1529.87 Q1254.26 1521.12 1257.32 1516.54 Q1260.39 1511.93 1266.2 1511.93 Z\" fill=\"#000000\" fill-rule=\"evenodd\" fill-opacity=\"1\" /><path clip-path=\"url(#clip960)\" d=\"M 0 0 M1582.87 1543.18 L1590.51 1543.18 L1590.51 1516.82 L1582.2 1518.49 L1582.2 1514.23 L1590.46 1512.56 L1595.14 1512.56 L1595.14 1543.18 L1602.78 1543.18 L1602.78 1547.12 L1582.87 1547.12 L1582.87 1543.18 Z\" fill=\"#000000\" fill-rule=\"evenodd\" fill-opacity=\"1\" /><path clip-path=\"url(#clip960)\" d=\"M 0 0 M1913.42 1543.18 L1929.74 1543.18 L1929.74 1547.12 L1907.8 1547.12 L1907.8 1543.18 Q1910.46 1540.43 1915.04 1535.8 Q1919.65 1531.15 1920.83 1529.81 Q1923.08 1527.28 1923.96 1525.55 Q1924.86 1523.79 1924.86 1522.1 Q1924.86 1519.34 1922.91 1517.61 Q1920.99 1515.87 1917.89 1515.87 Q1915.69 1515.87 1913.24 1516.63 Q1910.81 1517.4 1908.03 1518.95 L1908.03 1514.23 Q1910.85 1513.09 1913.31 1512.51 Q1915.76 1511.93 1917.8 1511.93 Q1923.17 1511.93 1926.36 1514.62 Q1929.56 1517.31 1929.56 1521.8 Q1929.56 1523.93 1928.75 1525.85 Q1927.96 1527.74 1925.85 1530.34 Q1925.28 1531.01 1922.17 1534.23 Q1919.07 1537.42 1913.42 1543.18 Z\" fill=\"#000000\" fill-rule=\"evenodd\" fill-opacity=\"1\" /><path clip-path=\"url(#clip960)\" d=\"M 0 0 M2249.3 1528.49 Q2252.66 1529.2 2254.53 1531.47 Q2256.43 1533.74 2256.43 1537.07 Q2256.43 1542.19 2252.91 1544.99 Q2249.39 1547.79 2242.91 1547.79 Q2240.74 1547.79 2238.42 1547.35 Q2236.13 1546.93 2233.68 1546.08 L2233.68 1541.56 Q2235.62 1542.7 2237.94 1543.28 Q2240.25 1543.86 2242.77 1543.86 Q2247.17 1543.86 2249.46 1542.12 Q2251.78 1540.38 2251.78 1537.07 Q2251.78 1534.02 2249.63 1532.31 Q2247.5 1530.57 2243.68 1530.57 L2239.65 1530.57 L2239.65 1526.73 L2243.86 1526.73 Q2247.31 1526.73 2249.14 1525.36 Q2250.97 1523.97 2250.97 1521.38 Q2250.97 1518.72 2249.07 1517.31 Q2247.19 1515.87 2243.68 1515.87 Q2241.76 1515.87 2239.56 1516.29 Q2237.36 1516.7 2234.72 1517.58 L2234.72 1513.42 Q2237.38 1512.68 2239.69 1512.31 Q2242.03 1511.93 2244.09 1511.93 Q2249.42 1511.93 2252.52 1514.37 Q2255.62 1516.77 2255.62 1520.89 Q2255.62 1523.76 2253.98 1525.75 Q2252.33 1527.72 2249.3 1528.49 Z\" fill=\"#000000\" fill-rule=\"evenodd\" fill-opacity=\"1\" /><polyline clip-path=\"url(#clip962)\" style=\"stroke:#000000; stroke-width:2; stroke-opacity:0.1; fill:none\" points=\"\n",
       "  179.654,1268.13 2352.76,1268.13 \n",
       "  \"/>\n",
       "<polyline clip-path=\"url(#clip962)\" style=\"stroke:#000000; stroke-width:2; stroke-opacity:0.1; fill:none\" points=\"\n",
       "  179.654,1001.58 2352.76,1001.58 \n",
       "  \"/>\n",
       "<polyline clip-path=\"url(#clip962)\" style=\"stroke:#000000; stroke-width:2; stroke-opacity:0.1; fill:none\" points=\"\n",
       "  179.654,735.022 2352.76,735.022 \n",
       "  \"/>\n",
       "<polyline clip-path=\"url(#clip962)\" style=\"stroke:#000000; stroke-width:2; stroke-opacity:0.1; fill:none\" points=\"\n",
       "  179.654,468.465 2352.76,468.465 \n",
       "  \"/>\n",
       "<polyline clip-path=\"url(#clip962)\" style=\"stroke:#000000; stroke-width:2; stroke-opacity:0.1; fill:none\" points=\"\n",
       "  179.654,201.909 2352.76,201.909 \n",
       "  \"/>\n",
       "<polyline clip-path=\"url(#clip960)\" style=\"stroke:#000000; stroke-width:4; stroke-opacity:1; fill:none\" points=\"\n",
       "  179.654,1486.45 179.654,47.2441 \n",
       "  \"/>\n",
       "<polyline clip-path=\"url(#clip960)\" style=\"stroke:#000000; stroke-width:4; stroke-opacity:1; fill:none\" points=\"\n",
       "  179.654,1268.13 205.731,1268.13 \n",
       "  \"/>\n",
       "<polyline clip-path=\"url(#clip960)\" style=\"stroke:#000000; stroke-width:4; stroke-opacity:1; fill:none\" points=\"\n",
       "  179.654,1001.58 205.731,1001.58 \n",
       "  \"/>\n",
       "<polyline clip-path=\"url(#clip960)\" style=\"stroke:#000000; stroke-width:4; stroke-opacity:1; fill:none\" points=\"\n",
       "  179.654,735.022 205.731,735.022 \n",
       "  \"/>\n",
       "<polyline clip-path=\"url(#clip960)\" style=\"stroke:#000000; stroke-width:4; stroke-opacity:1; fill:none\" points=\"\n",
       "  179.654,468.465 205.731,468.465 \n",
       "  \"/>\n",
       "<polyline clip-path=\"url(#clip960)\" style=\"stroke:#000000; stroke-width:4; stroke-opacity:1; fill:none\" points=\"\n",
       "  179.654,201.909 205.731,201.909 \n",
       "  \"/>\n",
       "<path clip-path=\"url(#clip960)\" d=\"M 0 0 M51.2236 1268.59 L80.8994 1268.59 L80.8994 1272.52 L51.2236 1272.52 L51.2236 1268.59 Z\" fill=\"#000000\" fill-rule=\"evenodd\" fill-opacity=\"1\" /><path clip-path=\"url(#clip960)\" d=\"M 0 0 M86.779 1281.48 L94.4178 1281.48 L94.4178 1255.11 L86.1077 1256.78 L86.1077 1252.52 L94.3715 1250.85 L99.0474 1250.85 L99.0474 1281.48 L106.686 1281.48 L106.686 1285.41 L86.779 1285.41 L86.779 1281.48 Z\" fill=\"#000000\" fill-rule=\"evenodd\" fill-opacity=\"1\" /><path clip-path=\"url(#clip960)\" d=\"M 0 0 M111.756 1279.53 L116.64 1279.53 L116.64 1285.41 L111.756 1285.41 L111.756 1279.53 Z\" fill=\"#000000\" fill-rule=\"evenodd\" fill-opacity=\"1\" /><path clip-path=\"url(#clip960)\" d=\"M 0 0 M131.709 1253.93 Q128.098 1253.93 126.27 1257.5 Q124.464 1261.04 124.464 1268.17 Q124.464 1275.28 126.27 1278.84 Q128.098 1282.38 131.709 1282.38 Q135.344 1282.38 137.149 1278.84 Q138.978 1275.28 138.978 1268.17 Q138.978 1261.04 137.149 1257.5 Q135.344 1253.93 131.709 1253.93 M131.709 1250.23 Q137.519 1250.23 140.575 1254.84 Q143.654 1259.42 143.654 1268.17 Q143.654 1276.9 140.575 1281.5 Q137.519 1286.09 131.709 1286.09 Q125.899 1286.09 122.82 1281.5 Q119.765 1276.9 119.765 1268.17 Q119.765 1259.42 122.82 1254.84 Q125.899 1250.23 131.709 1250.23 Z\" fill=\"#000000\" fill-rule=\"evenodd\" fill-opacity=\"1\" /><path clip-path=\"url(#clip960)\" d=\"M 0 0 M50.9921 1002.03 L80.6679 1002.03 L80.6679 1005.96 L50.9921 1005.96 L50.9921 1002.03 Z\" fill=\"#000000\" fill-rule=\"evenodd\" fill-opacity=\"1\" /><path clip-path=\"url(#clip960)\" d=\"M 0 0 M95.7373 987.377 Q92.1262 987.377 90.2975 990.941 Q88.4919 994.483 88.4919 1001.61 Q88.4919 1008.72 90.2975 1012.28 Q92.1262 1015.83 95.7373 1015.83 Q99.3715 1015.83 101.177 1012.28 Q103.006 1008.72 103.006 1001.61 Q103.006 994.483 101.177 990.941 Q99.3715 987.377 95.7373 987.377 M95.7373 983.673 Q101.547 983.673 104.603 988.279 Q107.682 992.863 107.682 1001.61 Q107.682 1010.34 104.603 1014.95 Q101.547 1019.53 95.7373 1019.53 Q89.9271 1019.53 86.8484 1014.95 Q83.7929 1010.34 83.7929 1001.61 Q83.7929 992.863 86.8484 988.279 Q89.9271 983.673 95.7373 983.673 Z\" fill=\"#000000\" fill-rule=\"evenodd\" fill-opacity=\"1\" /><path clip-path=\"url(#clip960)\" d=\"M 0 0 M112.751 1012.98 L117.635 1012.98 L117.635 1018.86 L112.751 1018.86 L112.751 1012.98 Z\" fill=\"#000000\" fill-rule=\"evenodd\" fill-opacity=\"1\" /><path clip-path=\"url(#clip960)\" d=\"M 0 0 M122.751 984.298 L141.107 984.298 L141.107 988.233 L127.033 988.233 L127.033 996.705 Q128.052 996.358 129.07 996.196 Q130.089 996.011 131.107 996.011 Q136.894 996.011 140.274 999.182 Q143.654 1002.35 143.654 1007.77 Q143.654 1013.35 140.181 1016.45 Q136.709 1019.53 130.39 1019.53 Q128.214 1019.53 125.945 1019.16 Q123.7 1018.79 121.293 1018.05 L121.293 1013.35 Q123.376 1014.48 125.598 1015.04 Q127.82 1015.59 130.297 1015.59 Q134.302 1015.59 136.64 1013.49 Q138.978 1011.38 138.978 1007.77 Q138.978 1004.16 136.64 1002.05 Q134.302 999.946 130.297 999.946 Q128.422 999.946 126.547 1000.36 Q124.695 1000.78 122.751 1001.66 L122.751 984.298 Z\" fill=\"#000000\" fill-rule=\"evenodd\" fill-opacity=\"1\" /><path clip-path=\"url(#clip960)\" d=\"M 0 0 M94.7419 720.82 Q91.1308 720.82 89.3021 724.385 Q87.4966 727.927 87.4966 735.056 Q87.4966 742.163 89.3021 745.728 Q91.1308 749.269 94.7419 749.269 Q98.3761 749.269 100.182 745.728 Q102.01 742.163 102.01 735.056 Q102.01 727.927 100.182 724.385 Q98.3761 720.82 94.7419 720.82 M94.7419 717.117 Q100.552 717.117 103.608 721.723 Q106.686 726.306 106.686 735.056 Q106.686 743.783 103.608 748.39 Q100.552 752.973 94.7419 752.973 Q88.9317 752.973 85.8531 748.39 Q82.7975 743.783 82.7975 735.056 Q82.7975 726.306 85.8531 721.723 Q88.9317 717.117 94.7419 717.117 Z\" fill=\"#000000\" fill-rule=\"evenodd\" fill-opacity=\"1\" /><path clip-path=\"url(#clip960)\" d=\"M 0 0 M111.756 746.422 L116.64 746.422 L116.64 752.302 L111.756 752.302 L111.756 746.422 Z\" fill=\"#000000\" fill-rule=\"evenodd\" fill-opacity=\"1\" /><path clip-path=\"url(#clip960)\" d=\"M 0 0 M131.709 720.82 Q128.098 720.82 126.27 724.385 Q124.464 727.927 124.464 735.056 Q124.464 742.163 126.27 745.728 Q128.098 749.269 131.709 749.269 Q135.344 749.269 137.149 745.728 Q138.978 742.163 138.978 735.056 Q138.978 727.927 137.149 724.385 Q135.344 720.82 131.709 720.82 M131.709 717.117 Q137.519 717.117 140.575 721.723 Q143.654 726.306 143.654 735.056 Q143.654 743.783 140.575 748.39 Q137.519 752.973 131.709 752.973 Q125.899 752.973 122.82 748.39 Q119.765 743.783 119.765 735.056 Q119.765 726.306 122.82 721.723 Q125.899 717.117 131.709 717.117 Z\" fill=\"#000000\" fill-rule=\"evenodd\" fill-opacity=\"1\" /><path clip-path=\"url(#clip960)\" d=\"M 0 0 M95.7373 454.264 Q92.1262 454.264 90.2975 457.829 Q88.4919 461.37 88.4919 468.5 Q88.4919 475.606 90.2975 479.171 Q92.1262 482.713 95.7373 482.713 Q99.3715 482.713 101.177 479.171 Q103.006 475.606 103.006 468.5 Q103.006 461.37 101.177 457.829 Q99.3715 454.264 95.7373 454.264 M95.7373 450.56 Q101.547 450.56 104.603 455.167 Q107.682 459.75 107.682 468.5 Q107.682 477.227 104.603 481.833 Q101.547 486.417 95.7373 486.417 Q89.9271 486.417 86.8484 481.833 Q83.7929 477.227 83.7929 468.5 Q83.7929 459.75 86.8484 455.167 Q89.9271 450.56 95.7373 450.56 Z\" fill=\"#000000\" fill-rule=\"evenodd\" fill-opacity=\"1\" /><path clip-path=\"url(#clip960)\" d=\"M 0 0 M112.751 479.866 L117.635 479.866 L117.635 485.745 L112.751 485.745 L112.751 479.866 Z\" fill=\"#000000\" fill-rule=\"evenodd\" fill-opacity=\"1\" /><path clip-path=\"url(#clip960)\" d=\"M 0 0 M122.751 451.185 L141.107 451.185 L141.107 455.12 L127.033 455.12 L127.033 463.593 Q128.052 463.245 129.07 463.083 Q130.089 462.898 131.107 462.898 Q136.894 462.898 140.274 466.07 Q143.654 469.241 143.654 474.657 Q143.654 480.236 140.181 483.338 Q136.709 486.417 130.39 486.417 Q128.214 486.417 125.945 486.046 Q123.7 485.676 121.293 484.935 L121.293 480.236 Q123.376 481.37 125.598 481.926 Q127.82 482.481 130.297 482.481 Q134.302 482.481 136.64 480.375 Q138.978 478.269 138.978 474.657 Q138.978 471.046 136.64 468.94 Q134.302 466.833 130.297 466.833 Q128.422 466.833 126.547 467.25 Q124.695 467.667 122.751 468.546 L122.751 451.185 Z\" fill=\"#000000\" fill-rule=\"evenodd\" fill-opacity=\"1\" /><path clip-path=\"url(#clip960)\" d=\"M 0 0 M86.779 215.254 L94.4178 215.254 L94.4178 188.888 L86.1077 190.555 L86.1077 186.296 L94.3715 184.629 L99.0474 184.629 L99.0474 215.254 L106.686 215.254 L106.686 219.189 L86.779 219.189 L86.779 215.254 Z\" fill=\"#000000\" fill-rule=\"evenodd\" fill-opacity=\"1\" /><path clip-path=\"url(#clip960)\" d=\"M 0 0 M111.756 213.309 L116.64 213.309 L116.64 219.189 L111.756 219.189 L111.756 213.309 Z\" fill=\"#000000\" fill-rule=\"evenodd\" fill-opacity=\"1\" /><path clip-path=\"url(#clip960)\" d=\"M 0 0 M131.709 187.708 Q128.098 187.708 126.27 191.273 Q124.464 194.814 124.464 201.944 Q124.464 209.05 126.27 212.615 Q128.098 216.157 131.709 216.157 Q135.344 216.157 137.149 212.615 Q138.978 209.05 138.978 201.944 Q138.978 194.814 137.149 191.273 Q135.344 187.708 131.709 187.708 M131.709 184.004 Q137.519 184.004 140.575 188.61 Q143.654 193.194 143.654 201.944 Q143.654 210.671 140.575 215.277 Q137.519 219.86 131.709 219.86 Q125.899 219.86 122.82 215.277 Q119.765 210.671 119.765 201.944 Q119.765 193.194 122.82 188.61 Q125.899 184.004 131.709 184.004 Z\" fill=\"#000000\" fill-rule=\"evenodd\" fill-opacity=\"1\" /><circle clip-path=\"url(#clip962)\" cx=\"241.157\" cy=\"839.343\" r=\"14\" fill=\"#009af9\" fill-rule=\"evenodd\" fill-opacity=\"1\" stroke=\"#000000\" stroke-opacity=\"1\" stroke-width=\"3.2\"/>\n",
       "<circle clip-path=\"url(#clip962)\" cx=\"349.056\" cy=\"940.114\" r=\"14\" fill=\"#009af9\" fill-rule=\"evenodd\" fill-opacity=\"1\" stroke=\"#000000\" stroke-opacity=\"1\" stroke-width=\"3.2\"/>\n",
       "<circle clip-path=\"url(#clip962)\" cx=\"456.956\" cy=\"1044.2\" r=\"14\" fill=\"#009af9\" fill-rule=\"evenodd\" fill-opacity=\"1\" stroke=\"#000000\" stroke-opacity=\"1\" stroke-width=\"3.2\"/>\n",
       "<circle clip-path=\"url(#clip962)\" cx=\"564.856\" cy=\"1010.7\" r=\"14\" fill=\"#009af9\" fill-rule=\"evenodd\" fill-opacity=\"1\" stroke=\"#000000\" stroke-opacity=\"1\" stroke-width=\"3.2\"/>\n",
       "<circle clip-path=\"url(#clip962)\" cx=\"672.756\" cy=\"1445.72\" r=\"14\" fill=\"#009af9\" fill-rule=\"evenodd\" fill-opacity=\"1\" stroke=\"#000000\" stroke-opacity=\"1\" stroke-width=\"3.2\"/>\n",
       "<circle clip-path=\"url(#clip962)\" cx=\"780.656\" cy=\"1157.01\" r=\"14\" fill=\"#009af9\" fill-rule=\"evenodd\" fill-opacity=\"1\" stroke=\"#000000\" stroke-opacity=\"1\" stroke-width=\"3.2\"/>\n",
       "<circle clip-path=\"url(#clip962)\" cx=\"888.555\" cy=\"1139.27\" r=\"14\" fill=\"#009af9\" fill-rule=\"evenodd\" fill-opacity=\"1\" stroke=\"#000000\" stroke-opacity=\"1\" stroke-width=\"3.2\"/>\n",
       "<circle clip-path=\"url(#clip962)\" cx=\"996.455\" cy=\"1084.28\" r=\"14\" fill=\"#009af9\" fill-rule=\"evenodd\" fill-opacity=\"1\" stroke=\"#000000\" stroke-opacity=\"1\" stroke-width=\"3.2\"/>\n",
       "<circle clip-path=\"url(#clip962)\" cx=\"1104.36\" cy=\"828.986\" r=\"14\" fill=\"#009af9\" fill-rule=\"evenodd\" fill-opacity=\"1\" stroke=\"#000000\" stroke-opacity=\"1\" stroke-width=\"3.2\"/>\n",
       "<circle clip-path=\"url(#clip962)\" cx=\"1212.25\" cy=\"1212.66\" r=\"14\" fill=\"#009af9\" fill-rule=\"evenodd\" fill-opacity=\"1\" stroke=\"#000000\" stroke-opacity=\"1\" stroke-width=\"3.2\"/>\n",
       "<circle clip-path=\"url(#clip962)\" cx=\"1320.15\" cy=\"524.365\" r=\"14\" fill=\"#009af9\" fill-rule=\"evenodd\" fill-opacity=\"1\" stroke=\"#000000\" stroke-opacity=\"1\" stroke-width=\"3.2\"/>\n",
       "<circle clip-path=\"url(#clip962)\" cx=\"1428.05\" cy=\"601.207\" r=\"14\" fill=\"#009af9\" fill-rule=\"evenodd\" fill-opacity=\"1\" stroke=\"#000000\" stroke-opacity=\"1\" stroke-width=\"3.2\"/>\n",
       "<circle clip-path=\"url(#clip962)\" cx=\"1535.95\" cy=\"87.9763\" r=\"14\" fill=\"#009af9\" fill-rule=\"evenodd\" fill-opacity=\"1\" stroke=\"#000000\" stroke-opacity=\"1\" stroke-width=\"3.2\"/>\n",
       "<circle clip-path=\"url(#clip962)\" cx=\"1643.85\" cy=\"301.896\" r=\"14\" fill=\"#009af9\" fill-rule=\"evenodd\" fill-opacity=\"1\" stroke=\"#000000\" stroke-opacity=\"1\" stroke-width=\"3.2\"/>\n",
       "<circle clip-path=\"url(#clip962)\" cx=\"1751.75\" cy=\"348.275\" r=\"14\" fill=\"#009af9\" fill-rule=\"evenodd\" fill-opacity=\"1\" stroke=\"#000000\" stroke-opacity=\"1\" stroke-width=\"3.2\"/>\n",
       "<circle clip-path=\"url(#clip962)\" cx=\"1859.65\" cy=\"367.568\" r=\"14\" fill=\"#009af9\" fill-rule=\"evenodd\" fill-opacity=\"1\" stroke=\"#000000\" stroke-opacity=\"1\" stroke-width=\"3.2\"/>\n",
       "<circle clip-path=\"url(#clip962)\" cx=\"1967.55\" cy=\"295.78\" r=\"14\" fill=\"#009af9\" fill-rule=\"evenodd\" fill-opacity=\"1\" stroke=\"#000000\" stroke-opacity=\"1\" stroke-width=\"3.2\"/>\n",
       "<circle clip-path=\"url(#clip962)\" cx=\"2075.45\" cy=\"369.578\" r=\"14\" fill=\"#009af9\" fill-rule=\"evenodd\" fill-opacity=\"1\" stroke=\"#000000\" stroke-opacity=\"1\" stroke-width=\"3.2\"/>\n",
       "<circle clip-path=\"url(#clip962)\" cx=\"2183.35\" cy=\"396.639\" r=\"14\" fill=\"#009af9\" fill-rule=\"evenodd\" fill-opacity=\"1\" stroke=\"#000000\" stroke-opacity=\"1\" stroke-width=\"3.2\"/>\n",
       "<circle clip-path=\"url(#clip962)\" cx=\"2291.25\" cy=\"849.724\" r=\"14\" fill=\"#009af9\" fill-rule=\"evenodd\" fill-opacity=\"1\" stroke=\"#000000\" stroke-opacity=\"1\" stroke-width=\"3.2\"/>\n",
       "<polyline clip-path=\"url(#clip962)\" style=\"stroke:#0000ff; stroke-width:4; stroke-opacity:1; fill:none\" stroke-dasharray=\"16, 10\" points=\"\n",
       "  241.157,735.022 246.295,743.416 251.433,751.809 256.571,760.198 261.709,768.58 266.847,776.954 271.985,785.317 277.123,793.668 282.261,802.005 287.399,810.325 \n",
       "  292.537,818.626 297.676,826.907 302.814,835.164 307.952,843.397 313.09,851.603 318.228,859.78 323.366,867.927 328.504,876.04 333.642,884.118 338.78,892.159 \n",
       "  343.918,900.162 349.056,908.123 354.194,916.041 359.333,923.915 364.471,931.742 369.609,939.52 374.747,947.247 379.885,954.921 385.023,962.542 390.161,970.105 \n",
       "  395.299,977.611 400.437,985.056 405.575,992.439 410.713,999.758 415.851,1007.01 420.99,1014.2 426.128,1021.32 431.266,1028.36 436.404,1035.33 441.542,1042.23 \n",
       "  446.68,1049.06 451.818,1055.8 456.956,1062.47 462.094,1069.05 467.232,1075.55 472.37,1081.97 477.509,1088.3 482.647,1094.54 487.785,1100.7 492.923,1106.76 \n",
       "  498.061,1112.73 503.199,1118.61 508.337,1124.39 513.475,1130.08 518.613,1135.66 523.751,1141.15 528.889,1146.54 534.027,1151.83 539.166,1157.01 544.304,1162.09 \n",
       "  549.442,1167.06 554.58,1171.92 559.718,1176.68 564.856,1181.33 569.994,1185.86 575.132,1190.29 580.27,1194.6 585.408,1198.8 590.546,1202.88 595.685,1206.84 \n",
       "  600.823,1210.69 605.961,1214.43 611.099,1218.04 616.237,1221.53 621.375,1224.9 626.513,1228.15 631.651,1231.28 636.789,1234.29 641.927,1237.17 647.065,1239.93 \n",
       "  652.203,1242.56 657.342,1245.06 662.48,1247.44 667.618,1249.7 672.756,1251.82 677.894,1253.82 683.032,1255.69 688.17,1257.42 693.308,1259.03 698.446,1260.51 \n",
       "  703.584,1261.86 708.722,1263.08 713.861,1264.17 718.999,1265.13 724.137,1265.95 729.275,1266.64 734.413,1267.2 739.551,1267.63 744.689,1267.93 749.827,1268.1 \n",
       "  754.965,1268.13 760.103,1268.03 765.241,1267.8 770.379,1267.44 775.518,1266.94 780.656,1266.31 785.794,1265.55 790.932,1264.66 796.07,1263.64 801.208,1262.49 \n",
       "  806.346,1261.2 811.484,1259.79 816.622,1258.25 821.76,1256.57 826.898,1254.77 832.036,1252.84 837.175,1250.77 842.313,1248.59 847.451,1246.27 852.589,1243.83 \n",
       "  857.727,1241.26 862.865,1238.56 868.003,1235.74 873.141,1232.8 878.279,1229.73 883.417,1226.54 888.555,1223.23 893.694,1219.8 898.832,1216.25 903.97,1212.57 \n",
       "  909.108,1208.78 914.246,1204.88 919.384,1200.85 924.522,1196.71 929.66,1192.46 934.798,1188.09 939.936,1183.61 945.074,1179.02 950.212,1174.31 955.351,1169.5 \n",
       "  960.489,1164.59 965.627,1159.56 970.765,1154.43 975.903,1149.2 981.041,1143.86 986.179,1138.42 991.317,1132.88 996.455,1127.25 1001.59,1121.51 1006.73,1115.68 \n",
       "  1011.87,1109.76 1017.01,1103.74 1022.15,1097.63 1027.28,1091.43 1032.42,1085.14 1037.56,1078.77 1042.7,1072.31 1047.84,1065.77 1052.97,1059.14 1058.11,1052.44 \n",
       "  1063.25,1045.65 1068.39,1038.79 1073.53,1031.86 1078.66,1024.85 1083.8,1017.77 1088.94,1010.61 1094.08,1003.39 1099.22,996.107 1104.36,988.755 1109.49,981.341 \n",
       "  1114.63,973.865 1119.77,966.331 1124.91,958.738 1130.05,951.091 1135.18,943.39 1140.32,935.637 1145.46,927.834 1150.6,919.984 1155.74,912.088 1160.87,904.148 \n",
       "  1166.01,896.165 1171.15,888.143 1176.29,880.083 1181.43,871.987 1186.56,863.857 1191.7,855.696 1196.84,847.504 1201.98,839.284 1207.12,831.038 1212.25,822.769 \n",
       "  1217.39,814.478 1222.53,806.167 1227.67,797.839 1232.81,789.495 1237.95,781.137 1243.08,772.768 1248.22,764.39 1253.36,756.004 1258.5,747.613 1263.64,739.219 \n",
       "  1268.77,730.824 1273.91,722.43 1279.05,714.039 1284.19,705.654 1289.33,697.275 1294.46,688.906 1299.6,680.549 1304.74,672.205 1309.88,663.876 1315.02,655.565 \n",
       "  1320.15,647.274 1325.29,639.005 1330.43,630.759 1335.57,622.54 1340.71,614.348 1345.85,606.186 1350.98,598.056 1356.12,589.96 1361.26,581.9 1366.4,573.878 \n",
       "  1371.54,565.896 1376.67,557.956 1381.81,550.059 1386.95,542.209 1392.09,534.406 1397.23,526.654 1402.36,518.952 1407.5,511.305 1412.64,503.713 1417.78,496.178 \n",
       "  1422.92,488.703 1428.05,481.288 1433.19,473.937 1438.33,466.65 1443.47,459.43 1448.61,452.278 1453.74,445.196 1458.88,438.186 1464.02,431.25 1469.16,424.389 \n",
       "  1474.3,417.605 1479.44,410.9 1484.57,404.275 1489.71,397.732 1494.85,391.273 1499.99,384.899 1505.13,378.612 1510.26,372.413 1515.4,366.304 1520.54,360.287 \n",
       "  1525.68,354.362 1530.82,348.532 1535.95,342.798 1541.09,337.161 1546.23,331.623 1551.37,326.184 1556.51,320.847 1561.64,315.613 1566.78,310.483 1571.92,305.458 \n",
       "  1577.06,300.54 1582.2,295.729 1587.34,291.027 1592.47,286.436 1597.61,281.955 1602.75,277.587 1607.89,273.333 1613.03,269.192 1618.16,265.168 1623.3,261.26 \n",
       "  1628.44,257.469 1633.58,253.797 1638.72,250.244 1643.85,246.811 1648.99,243.5 1654.13,240.31 1659.27,237.243 1664.41,234.299 1669.54,231.48 1674.68,228.785 \n",
       "  1679.82,226.216 1684.96,223.773 1690.1,221.457 1695.23,219.269 1700.37,217.208 1705.51,215.275 1710.65,213.472 1715.79,211.797 1720.93,210.253 1726.06,208.839 \n",
       "  1731.2,207.555 1736.34,206.402 1741.48,205.38 1746.62,204.489 1751.75,203.73 1756.89,203.103 1762.03,202.607 1767.17,202.244 1772.31,202.012 1777.44,201.913 \n",
       "  1782.58,201.946 1787.72,202.111 1792.86,202.409 1798,202.838 1803.13,203.4 1808.27,204.093 1813.41,204.918 1818.55,205.874 1823.69,206.962 1828.83,208.18 \n",
       "  1833.96,209.53 1839.1,211.009 1844.24,212.618 1849.38,214.357 1854.52,216.225 1859.65,218.222 1864.79,220.347 1869.93,222.6 1875.07,224.979 1880.21,227.485 \n",
       "  1885.34,230.117 1890.48,232.874 1895.62,235.756 1900.76,238.761 1905.9,241.89 1911.03,245.14 1916.17,248.513 1921.31,252.005 1926.45,255.618 1931.59,259.35 \n",
       "  1936.73,263.199 1941.86,267.166 1947,271.248 1952.14,275.446 1957.28,279.757 1962.42,284.181 1967.55,288.718 1972.69,293.364 1977.83,298.121 1982.97,302.986 \n",
       "  1988.11,307.957 1993.24,313.035 1998.38,318.217 2003.52,323.503 2008.66,328.891 2013.8,334.379 2018.93,339.967 2024.07,345.653 2029.21,351.435 2034.35,357.313 \n",
       "  2039.49,363.284 2044.62,369.347 2049.76,375.501 2054.9,381.744 2060.04,388.075 2065.18,394.492 2070.32,400.993 2075.45,407.577 2080.59,414.242 2085.73,420.987 \n",
       "  2090.87,427.81 2096.01,434.709 2101.14,441.682 2106.28,448.728 2111.42,455.845 2116.56,463.031 2121.7,470.285 2126.83,477.604 2131.97,484.988 2137.11,492.433 \n",
       "  2142.25,499.938 2147.39,507.502 2152.52,515.122 2157.66,522.796 2162.8,530.524 2167.94,538.302 2173.08,546.128 2178.22,554.002 2183.35,561.92 2188.49,569.882 \n",
       "  2193.63,577.884 2198.77,585.925 2203.91,594.003 2209.04,602.117 2214.18,610.263 2219.32,618.44 2224.46,626.646 2229.6,634.879 2234.73,643.137 2239.87,651.417 \n",
       "  2245.01,659.718 2250.15,668.038 2255.29,676.375 2260.42,684.726 2265.56,693.089 2270.7,701.463 2275.84,709.846 2280.98,718.234 2286.11,726.627 2291.25,735.022 \n",
       "  \n",
       "  \"/>\n",
       "<polyline clip-path=\"url(#clip962)\" style=\"stroke:#ff0000; stroke-width:8; stroke-opacity:1; fill:none\" points=\"\n",
       "  241.157,739.72 246.295,752.591 251.433,765.266 256.571,777.748 261.709,790.037 266.847,802.133 271.985,814.039 277.123,825.755 282.261,837.282 287.399,848.62 \n",
       "  292.537,859.772 297.676,870.738 302.814,881.518 307.952,892.114 313.09,902.528 318.228,912.759 323.366,922.809 328.504,932.679 333.642,942.37 338.78,951.882 \n",
       "  343.918,961.218 349.056,970.377 354.194,979.361 359.333,988.171 364.471,996.807 369.609,1005.27 374.747,1013.56 379.885,1021.69 385.023,1029.64 390.161,1037.43 \n",
       "  395.299,1045.04 400.437,1052.5 405.575,1059.78 410.713,1066.9 415.851,1073.86 420.99,1080.66 426.128,1087.29 431.266,1093.77 436.404,1100.08 441.542,1106.24 \n",
       "  446.68,1112.24 451.818,1118.08 456.956,1123.77 462.094,1129.3 467.232,1134.68 472.37,1139.91 477.509,1144.98 482.647,1149.91 487.785,1154.68 492.923,1159.31 \n",
       "  498.061,1163.79 503.199,1168.12 508.337,1172.31 513.475,1176.35 518.613,1180.25 523.751,1184.01 528.889,1187.62 534.027,1191.1 539.166,1194.43 544.304,1197.63 \n",
       "  549.442,1200.69 554.58,1203.61 559.718,1206.39 564.856,1209.04 569.994,1211.56 575.132,1213.95 580.27,1216.2 585.408,1218.32 590.546,1220.31 595.685,1222.18 \n",
       "  600.823,1223.91 605.961,1225.52 611.099,1227 616.237,1228.36 621.375,1229.6 626.513,1230.71 631.651,1231.7 636.789,1232.57 641.927,1233.31 647.065,1233.94 \n",
       "  652.203,1234.46 657.342,1234.85 662.48,1235.13 667.618,1235.29 672.756,1235.34 677.894,1235.28 683.032,1235.11 688.17,1234.82 693.308,1234.42 698.446,1233.92 \n",
       "  703.584,1233.31 708.722,1232.59 713.861,1231.76 718.999,1230.83 724.137,1229.79 729.275,1228.65 734.413,1227.41 739.551,1226.07 744.689,1224.63 749.827,1223.09 \n",
       "  754.965,1221.45 760.103,1219.71 765.241,1217.88 770.379,1215.95 775.518,1213.93 780.656,1211.81 785.794,1209.61 790.932,1207.31 796.07,1204.92 801.208,1202.44 \n",
       "  806.346,1199.87 811.484,1197.22 816.622,1194.48 821.76,1191.65 826.898,1188.74 832.036,1185.75 837.175,1182.67 842.313,1179.52 847.451,1176.28 852.589,1172.96 \n",
       "  857.727,1169.57 862.865,1166.09 868.003,1162.54 873.141,1158.92 878.279,1155.22 883.417,1151.45 888.555,1147.6 893.694,1143.68 898.832,1139.7 903.97,1135.64 \n",
       "  909.108,1131.51 914.246,1127.32 919.384,1123.06 924.522,1118.74 929.66,1114.35 934.798,1109.89 939.936,1105.38 945.074,1100.8 950.212,1096.16 955.351,1091.46 \n",
       "  960.489,1086.71 965.627,1081.89 970.765,1077.02 975.903,1072.09 981.041,1067.11 986.179,1062.08 991.317,1056.99 996.455,1051.85 1001.59,1046.66 1006.73,1041.42 \n",
       "  1011.87,1036.13 1017.01,1030.79 1022.15,1025.41 1027.28,1019.98 1032.42,1014.5 1037.56,1008.98 1042.7,1003.42 1047.84,997.819 1052.97,992.174 1058.11,986.49 \n",
       "  1063.25,980.767 1068.39,975.006 1073.53,969.208 1078.66,963.374 1083.8,957.506 1088.94,951.603 1094.08,945.667 1099.22,939.699 1104.36,933.7 1109.49,927.671 \n",
       "  1114.63,921.613 1119.77,915.527 1124.91,909.414 1130.05,903.274 1135.18,897.11 1140.32,890.921 1145.46,884.71 1150.6,878.476 1155.74,872.221 1160.87,865.946 \n",
       "  1166.01,859.651 1171.15,853.339 1176.29,847.009 1181.43,840.663 1186.56,834.302 1191.7,827.927 1196.84,821.538 1201.98,815.137 1207.12,808.725 1212.25,802.302 \n",
       "  1217.39,795.87 1222.53,789.43 1227.67,782.983 1232.81,776.529 1237.95,770.07 1243.08,763.606 1248.22,757.139 1253.36,750.67 1258.5,744.199 1263.64,737.728 \n",
       "  1268.77,731.257 1273.91,724.788 1279.05,718.322 1284.19,711.859 1289.33,705.4 1294.46,698.947 1299.6,692.501 1304.74,686.062 1309.88,679.631 1315.02,673.21 \n",
       "  1320.15,666.8 1325.29,660.4 1330.43,654.014 1335.57,647.64 1340.71,641.281 1345.85,634.937 1350.98,628.61 1356.12,622.3 1361.26,616.009 1366.4,609.737 \n",
       "  1371.54,603.485 1376.67,597.254 1381.81,591.046 1386.95,584.861 1392.09,578.7 1397.23,572.564 1402.36,566.455 1407.5,560.373 1412.64,554.319 1417.78,548.294 \n",
       "  1422.92,542.3 1428.05,536.337 1433.19,530.406 1438.33,524.508 1443.47,518.644 1448.61,512.815 1453.74,507.023 1458.88,501.267 1464.02,495.55 1469.16,489.871 \n",
       "  1474.3,484.233 1479.44,478.636 1484.57,473.081 1489.71,467.569 1494.85,462.101 1499.99,456.678 1505.13,451.3 1510.26,445.97 1515.4,440.688 1520.54,435.455 \n",
       "  1525.68,430.272 1530.82,425.139 1535.95,420.059 1541.09,415.031 1546.23,410.058 1551.37,405.139 1556.51,400.276 1561.64,395.47 1566.78,390.722 1571.92,386.032 \n",
       "  1577.06,381.403 1582.2,376.834 1587.34,372.327 1592.47,367.883 1597.61,363.502 1602.75,359.187 1607.89,354.937 1613.03,350.753 1618.16,346.638 1623.3,342.591 \n",
       "  1628.44,338.614 1633.58,334.707 1638.72,330.873 1643.85,327.11 1648.99,323.422 1654.13,319.808 1659.27,316.27 1664.41,312.808 1669.54,309.424 1674.68,306.119 \n",
       "  1679.82,302.893 1684.96,299.747 1690.1,296.683 1695.23,293.702 1700.37,290.804 1705.51,287.991 1710.65,285.263 1715.79,282.622 1720.93,280.068 1726.06,277.602 \n",
       "  1731.2,275.226 1736.34,272.941 1741.48,270.747 1746.62,268.645 1751.75,266.637 1756.89,264.723 1762.03,262.904 1767.17,261.182 1772.31,259.557 1777.44,258.03 \n",
       "  1782.58,256.603 1787.72,255.276 1792.86,254.05 1798,252.927 1803.13,251.907 1808.27,250.991 1813.41,250.18 1818.55,249.475 1823.69,248.878 1828.83,248.389 \n",
       "  1833.96,248.009 1839.1,247.74 1844.24,247.581 1849.38,247.535 1854.52,247.601 1859.65,247.782 1864.79,248.078 1869.93,248.49 1875.07,249.019 1880.21,249.667 \n",
       "  1885.34,250.433 1890.48,251.319 1895.62,252.327 1900.76,253.456 1905.9,254.709 1911.03,256.085 1916.17,257.586 1921.31,259.214 1926.45,260.968 1931.59,262.85 \n",
       "  1936.73,264.862 1941.86,267.003 1947,269.275 1952.14,271.679 1957.28,274.216 1962.42,276.886 1967.55,279.692 1972.69,282.633 1977.83,285.712 1982.97,288.928 \n",
       "  1988.11,292.283 1993.24,295.777 1998.38,299.413 2003.52,303.19 2008.66,307.11 2013.8,311.174 2018.93,315.382 2024.07,319.737 2029.21,324.238 2034.35,328.886 \n",
       "  2039.49,333.684 2044.62,338.63 2049.76,343.728 2054.9,348.977 2060.04,354.379 2065.18,359.935 2070.32,365.645 2075.45,371.511 2080.59,377.533 2085.73,383.713 \n",
       "  2090.87,390.052 2096.01,396.55 2101.14,403.208 2106.28,410.028 2111.42,417.011 2116.56,424.157 2121.7,431.468 2126.83,438.944 2131.97,446.586 2137.11,454.396 \n",
       "  2142.25,462.374 2147.39,470.522 2152.52,478.84 2157.66,487.33 2162.8,495.992 2167.94,504.827 2173.08,513.837 2178.22,523.022 2183.35,532.384 2188.49,541.922 \n",
       "  2193.63,551.639 2198.77,561.536 2203.91,571.612 2209.04,581.87 2214.18,592.311 2219.32,602.934 2224.46,613.742 2229.6,624.734 2234.73,635.913 2239.87,647.28 \n",
       "  2245.01,658.834 2250.15,670.578 2255.29,682.512 2260.42,694.636 2265.56,706.954 2270.7,719.464 2275.84,732.168 2280.98,745.067 2286.11,758.163 2291.25,771.455 \n",
       "  \n",
       "  \"/>\n",
       "<path clip-path=\"url(#clip960)\" d=\"\n",
       "M252.09 337.138 L923.174 337.138 L923.174 95.2176 L252.09 95.2176  Z\n",
       "  \" fill=\"#ffffff\" fill-rule=\"evenodd\" fill-opacity=\"1\"/>\n",
       "<polyline clip-path=\"url(#clip960)\" style=\"stroke:#000000; stroke-width:4; stroke-opacity:1; fill:none\" points=\"\n",
       "  252.09,337.138 923.174,337.138 923.174,95.2176 252.09,95.2176 252.09,337.138 \n",
       "  \"/>\n",
       "<circle clip-path=\"url(#clip960)\" cx=\"348.673\" cy=\"155.698\" r=\"23\" fill=\"#009af9\" fill-rule=\"evenodd\" fill-opacity=\"1\" stroke=\"#000000\" stroke-opacity=\"1\" stroke-width=\"5.12\"/>\n",
       "<path clip-path=\"url(#clip960)\" d=\"M 0 0 M463.681 147.816 L463.681 151.843 Q461.875 150.917 459.931 150.455 Q457.986 149.992 455.903 149.992 Q452.732 149.992 451.135 150.964 Q449.561 151.936 449.561 153.88 Q449.561 155.362 450.695 156.218 Q451.829 157.052 455.255 157.816 L456.713 158.14 Q461.25 159.112 463.148 160.894 Q465.07 162.654 465.07 165.825 Q465.07 169.436 462.199 171.542 Q459.352 173.649 454.352 173.649 Q452.269 173.649 450 173.232 Q447.755 172.839 445.255 172.028 L445.255 167.63 Q447.616 168.857 449.908 169.482 Q452.199 170.084 454.445 170.084 Q457.454 170.084 459.074 169.066 Q460.695 168.024 460.695 166.149 Q460.695 164.413 459.514 163.487 Q458.357 162.561 454.399 161.704 L452.917 161.357 Q448.959 160.524 447.199 158.811 Q445.44 157.075 445.44 154.066 Q445.44 150.408 448.033 148.418 Q450.625 146.427 455.394 146.427 Q457.755 146.427 459.838 146.774 Q461.922 147.121 463.681 147.816 Z\" fill=\"#000000\" fill-rule=\"evenodd\" fill-opacity=\"1\" /><path clip-path=\"url(#clip960)\" d=\"M 0 0 M481.32 159.945 Q476.158 159.945 474.167 161.126 Q472.176 162.306 472.176 165.154 Q472.176 167.422 473.658 168.765 Q475.162 170.084 477.732 170.084 Q481.273 170.084 483.403 167.584 Q485.556 165.061 485.556 160.894 L485.556 159.945 L481.32 159.945 M489.815 158.186 L489.815 172.978 L485.556 172.978 L485.556 169.042 Q484.097 171.403 481.922 172.538 Q479.746 173.649 476.597 173.649 Q472.616 173.649 470.255 171.427 Q467.917 169.181 467.917 165.431 Q467.917 161.056 470.834 158.834 Q473.773 156.612 479.584 156.612 L485.556 156.612 L485.556 156.195 Q485.556 153.255 483.611 151.658 Q481.69 150.038 478.195 150.038 Q475.972 150.038 473.866 150.57 Q471.76 151.103 469.815 152.167 L469.815 148.232 Q472.153 147.33 474.352 146.89 Q476.551 146.427 478.635 146.427 Q484.259 146.427 487.037 149.343 Q489.815 152.26 489.815 158.186 Z\" fill=\"#000000\" fill-rule=\"evenodd\" fill-opacity=\"1\" /><path clip-path=\"url(#clip960)\" d=\"M 0 0 M514.468 152.029 Q516.065 149.158 518.287 147.793 Q520.509 146.427 523.519 146.427 Q527.569 146.427 529.768 149.274 Q531.968 152.098 531.968 157.329 L531.968 172.978 L527.685 172.978 L527.685 157.468 Q527.685 153.742 526.366 151.936 Q525.046 150.13 522.338 150.13 Q519.028 150.13 517.107 152.33 Q515.185 154.529 515.185 158.325 L515.185 172.978 L510.903 172.978 L510.903 157.468 Q510.903 153.718 509.583 151.936 Q508.264 150.13 505.509 150.13 Q502.245 150.13 500.324 152.353 Q498.403 154.552 498.403 158.325 L498.403 172.978 L494.121 172.978 L494.121 147.052 L498.403 147.052 L498.403 151.08 Q499.861 148.695 501.898 147.561 Q503.935 146.427 506.736 146.427 Q509.56 146.427 511.528 147.862 Q513.519 149.297 514.468 152.029 Z\" fill=\"#000000\" fill-rule=\"evenodd\" fill-opacity=\"1\" /><path clip-path=\"url(#clip960)\" d=\"M 0 0 M540.555 169.089 L540.555 182.839 L536.273 182.839 L536.273 147.052 L540.555 147.052 L540.555 150.987 Q541.898 148.672 543.935 147.561 Q545.995 146.427 548.842 146.427 Q553.565 146.427 556.504 150.177 Q559.467 153.927 559.467 160.038 Q559.467 166.149 556.504 169.899 Q553.565 173.649 548.842 173.649 Q545.995 173.649 543.935 172.538 Q541.898 171.403 540.555 169.089 M555.046 160.038 Q555.046 155.339 553.102 152.677 Q551.18 149.992 547.801 149.992 Q544.421 149.992 542.477 152.677 Q540.555 155.339 540.555 160.038 Q540.555 164.737 542.477 167.422 Q544.421 170.084 547.801 170.084 Q551.18 170.084 553.102 167.422 Q555.046 164.737 555.046 160.038 Z\" fill=\"#000000\" fill-rule=\"evenodd\" fill-opacity=\"1\" /><path clip-path=\"url(#clip960)\" d=\"M 0 0 M563.935 136.959 L568.194 136.959 L568.194 172.978 L563.935 172.978 L563.935 136.959 Z\" fill=\"#000000\" fill-rule=\"evenodd\" fill-opacity=\"1\" /><path clip-path=\"url(#clip960)\" d=\"M 0 0 M594.838 158.95 L594.838 161.033 L575.254 161.033 Q575.532 165.431 577.893 167.746 Q580.277 170.038 584.514 170.038 Q586.967 170.038 589.259 169.436 Q591.574 168.834 593.842 167.63 L593.842 171.658 Q591.551 172.63 589.143 173.14 Q586.736 173.649 584.259 173.649 Q578.055 173.649 574.421 170.038 Q570.81 166.427 570.81 160.269 Q570.81 153.904 574.236 150.177 Q577.685 146.427 583.518 146.427 Q588.75 146.427 591.782 149.806 Q594.838 153.163 594.838 158.95 M590.578 157.7 Q590.532 154.205 588.611 152.121 Q586.713 150.038 583.564 150.038 Q580 150.038 577.847 152.052 Q575.717 154.066 575.393 157.723 L590.578 157.7 Z\" fill=\"#000000\" fill-rule=\"evenodd\" fill-opacity=\"1\" /><polyline clip-path=\"url(#clip960)\" style=\"stroke:#0000ff; stroke-width:4; stroke-opacity:1; fill:none\" stroke-dasharray=\"16, 10\" points=\"\n",
       "  276.236,216.178 421.109,216.178 \n",
       "  \"/>\n",
       "<path clip-path=\"url(#clip960)\" d=\"M 0 0 M463.681 208.296 L463.681 212.323 Q461.875 211.397 459.931 210.935 Q457.986 210.472 455.903 210.472 Q452.732 210.472 451.135 211.444 Q449.561 212.416 449.561 214.36 Q449.561 215.842 450.695 216.698 Q451.829 217.532 455.255 218.296 L456.713 218.62 Q461.25 219.592 463.148 221.374 Q465.07 223.134 465.07 226.305 Q465.07 229.916 462.199 232.022 Q459.352 234.129 454.352 234.129 Q452.269 234.129 450 233.712 Q447.755 233.319 445.255 232.508 L445.255 228.11 Q447.616 229.337 449.908 229.962 Q452.199 230.564 454.445 230.564 Q457.454 230.564 459.074 229.546 Q460.695 228.504 460.695 226.629 Q460.695 224.893 459.514 223.967 Q458.357 223.041 454.399 222.184 L452.917 221.837 Q448.959 221.004 447.199 219.291 Q445.44 217.555 445.44 214.546 Q445.44 210.888 448.033 208.898 Q450.625 206.907 455.394 206.907 Q457.755 206.907 459.838 207.254 Q461.922 207.601 463.681 208.296 Z\" fill=\"#000000\" fill-rule=\"evenodd\" fill-opacity=\"1\" /><path clip-path=\"url(#clip960)\" d=\"M 0 0 M469.537 207.532 L473.797 207.532 L473.797 233.458 L469.537 233.458 L469.537 207.532 M469.537 197.439 L473.797 197.439 L473.797 202.833 L469.537 202.833 L469.537 197.439 Z\" fill=\"#000000\" fill-rule=\"evenodd\" fill-opacity=\"1\" /><path clip-path=\"url(#clip960)\" d=\"M 0 0 M499.815 217.809 L499.815 233.458 L495.556 233.458 L495.556 217.948 Q495.556 214.268 494.121 212.439 Q492.685 210.61 489.815 210.61 Q486.366 210.61 484.375 212.81 Q482.384 215.009 482.384 218.805 L482.384 233.458 L478.102 233.458 L478.102 207.532 L482.384 207.532 L482.384 211.56 Q483.912 209.222 485.972 208.064 Q488.056 206.907 490.764 206.907 Q495.232 206.907 497.523 209.685 Q499.815 212.439 499.815 217.809 Z\" fill=\"#000000\" fill-rule=\"evenodd\" fill-opacity=\"1\" /><path clip-path=\"url(#clip960)\" d=\"M 0 0 M514.514 197.486 Q511.412 202.81 509.907 208.018 Q508.403 213.226 508.403 218.573 Q508.403 223.921 509.907 229.175 Q511.435 234.407 514.514 239.708 L510.81 239.708 Q507.338 234.268 505.602 229.013 Q503.889 223.759 503.889 218.573 Q503.889 213.411 505.602 208.18 Q507.315 202.948 510.81 197.486 L514.514 197.486 Z\" fill=\"#000000\" fill-rule=\"evenodd\" fill-opacity=\"1\" /><path clip-path=\"url(#clip960)\" d=\"M 0 0 M540.532 207.532 L531.157 220.147 L541.018 233.458 L535.995 233.458 L528.449 223.272 L520.903 233.458 L515.88 233.458 L525.949 219.893 L516.736 207.532 L521.759 207.532 L528.634 216.768 L535.509 207.532 L540.532 207.532 Z\" fill=\"#000000\" fill-rule=\"evenodd\" fill-opacity=\"1\" /><path clip-path=\"url(#clip960)\" d=\"M 0 0 M544.815 197.486 L548.518 197.486 Q551.991 202.948 553.704 208.18 Q555.44 213.411 555.44 218.573 Q555.44 223.759 553.704 229.013 Q551.991 234.268 548.518 239.708 L544.815 239.708 Q547.893 234.407 549.398 229.175 Q550.926 223.921 550.926 218.573 Q550.926 213.226 549.398 208.018 Q547.893 202.81 544.815 197.486 Z\" fill=\"#000000\" fill-rule=\"evenodd\" fill-opacity=\"1\" /><polyline clip-path=\"url(#clip960)\" style=\"stroke:#ff0000; stroke-width:4; stroke-opacity:1; fill:none\" points=\"\n",
       "  276.236,276.658 421.109,276.658 \n",
       "  \"/>\n",
       "<path clip-path=\"url(#clip960)\" d=\"M 0 0 M464.167 271.947 L464.167 257.919 L468.426 257.919 L468.426 293.938 L464.167 293.938 L464.167 290.049 Q462.824 292.363 460.764 293.498 Q458.727 294.609 455.857 294.609 Q451.158 294.609 448.195 290.859 Q445.255 287.109 445.255 280.998 Q445.255 274.887 448.195 271.137 Q451.158 267.387 455.857 267.387 Q458.727 267.387 460.764 268.521 Q462.824 269.632 464.167 271.947 M449.653 280.998 Q449.653 285.697 451.574 288.382 Q453.519 291.044 456.899 291.044 Q460.278 291.044 462.223 288.382 Q464.167 285.697 464.167 280.998 Q464.167 276.299 462.223 273.637 Q460.278 270.952 456.899 270.952 Q453.519 270.952 451.574 273.637 Q449.653 276.299 449.653 280.998 Z\" fill=\"#000000\" fill-rule=\"evenodd\" fill-opacity=\"1\" /><path clip-path=\"url(#clip960)\" d=\"M 0 0 M495.07 279.91 L495.07 281.993 L475.486 281.993 Q475.764 286.391 478.125 288.706 Q480.509 290.998 484.746 290.998 Q487.199 290.998 489.491 290.396 Q491.806 289.794 494.074 288.59 L494.074 292.618 Q491.783 293.59 489.375 294.1 Q486.968 294.609 484.491 294.609 Q478.287 294.609 474.653 290.998 Q471.042 287.387 471.042 281.229 Q471.042 274.864 474.468 271.137 Q477.917 267.387 483.75 267.387 Q488.982 267.387 492.014 270.766 Q495.07 274.123 495.07 279.91 M490.81 278.66 Q490.764 275.165 488.843 273.081 Q486.945 270.998 483.797 270.998 Q480.232 270.998 478.079 273.012 Q475.949 275.026 475.625 278.683 L490.81 278.66 Z\" fill=\"#000000\" fill-rule=\"evenodd\" fill-opacity=\"1\" /><path clip-path=\"url(#clip960)\" d=\"M 0 0 M516.597 280.674 Q516.597 276.044 514.676 273.498 Q512.778 270.952 509.329 270.952 Q505.903 270.952 503.982 273.498 Q502.083 276.044 502.083 280.674 Q502.083 285.28 503.982 287.826 Q505.903 290.373 509.329 290.373 Q512.778 290.373 514.676 287.826 Q516.597 285.28 516.597 280.674 M520.856 290.72 Q520.856 297.34 517.917 300.558 Q514.977 303.799 508.912 303.799 Q506.667 303.799 504.676 303.451 Q502.685 303.127 500.81 302.433 L500.81 298.289 Q502.685 299.308 504.514 299.794 Q506.343 300.28 508.241 300.28 Q512.431 300.28 514.514 298.081 Q516.597 295.905 516.597 291.484 L516.597 289.377 Q515.278 291.669 513.218 292.803 Q511.157 293.938 508.287 293.938 Q503.519 293.938 500.602 290.303 Q497.685 286.669 497.685 280.674 Q497.685 274.655 500.602 271.021 Q503.519 267.387 508.287 267.387 Q511.157 267.387 513.218 268.521 Q515.278 269.655 516.597 271.947 L516.597 268.012 L520.856 268.012 L520.856 290.72 Z\" fill=\"#000000\" fill-rule=\"evenodd\" fill-opacity=\"1\" /><path clip-path=\"url(#clip960)\" d=\"M 0 0 M540.347 271.993 Q539.63 271.577 538.773 271.391 Q537.94 271.183 536.921 271.183 Q533.31 271.183 531.366 273.544 Q529.444 275.882 529.444 280.28 L529.444 293.938 L525.162 293.938 L525.162 268.012 L529.444 268.012 L529.444 272.04 Q530.787 269.678 532.94 268.544 Q535.093 267.387 538.171 267.387 Q538.611 267.387 539.143 267.456 Q539.676 267.503 540.324 267.618 L540.347 271.993 Z\" fill=\"#000000\" fill-rule=\"evenodd\" fill-opacity=\"1\" /><path clip-path=\"url(#clip960)\" d=\"M 0 0 M565.949 279.91 L565.949 281.993 L546.366 281.993 Q546.643 286.391 549.004 288.706 Q551.389 290.998 555.625 290.998 Q558.079 290.998 560.37 290.396 Q562.685 289.794 564.953 288.59 L564.953 292.618 Q562.662 293.59 560.254 294.1 Q557.847 294.609 555.37 294.609 Q549.167 294.609 545.532 290.998 Q541.921 287.387 541.921 281.229 Q541.921 274.864 545.347 271.137 Q548.796 267.387 554.629 267.387 Q559.861 267.387 562.893 270.766 Q565.949 274.123 565.949 279.91 M561.69 278.66 Q561.643 275.165 559.722 273.081 Q557.824 270.998 554.676 270.998 Q551.111 270.998 548.958 273.012 Q546.829 275.026 546.505 278.683 L561.69 278.66 Z\" fill=\"#000000\" fill-rule=\"evenodd\" fill-opacity=\"1\" /><path clip-path=\"url(#clip960)\" d=\"M 0 0 M592.592 279.91 L592.592 281.993 L573.009 281.993 Q573.287 286.391 575.648 288.706 Q578.032 290.998 582.268 290.998 Q584.722 290.998 587.014 290.396 Q589.328 289.794 591.597 288.59 L591.597 292.618 Q589.305 293.59 586.898 294.1 Q584.49 294.609 582.014 294.609 Q575.81 294.609 572.176 290.998 Q568.565 287.387 568.565 281.229 Q568.565 274.864 571.99 271.137 Q575.44 267.387 581.273 267.387 Q586.504 267.387 589.537 270.766 Q592.592 274.123 592.592 279.91 M588.333 278.66 Q588.287 275.165 586.365 273.081 Q584.467 270.998 581.319 270.998 Q577.754 270.998 575.602 273.012 Q573.472 275.026 573.148 278.683 L588.333 278.66 Z\" fill=\"#000000\" fill-rule=\"evenodd\" fill-opacity=\"1\" /><path clip-path=\"url(#clip960)\" d=\"M 0 0 M594.907 279.053 L607.384 279.053 L607.384 282.85 L594.907 282.85 L594.907 279.053 Z\" fill=\"#000000\" fill-rule=\"evenodd\" fill-opacity=\"1\" /><path clip-path=\"url(#clip960)\" d=\"M 0 0 M626.62 275.303 Q629.976 276.021 631.851 278.289 Q633.749 280.558 633.749 283.891 Q633.749 289.007 630.231 291.808 Q626.712 294.609 620.231 294.609 Q618.055 294.609 615.74 294.169 Q613.449 293.752 610.995 292.896 L610.995 288.382 Q612.939 289.516 615.254 290.095 Q617.569 290.674 620.092 290.674 Q624.49 290.674 626.782 288.938 Q629.097 287.201 629.097 283.891 Q629.097 280.836 626.944 279.123 Q624.814 277.387 620.995 277.387 L616.967 277.387 L616.967 273.544 L621.18 273.544 Q624.629 273.544 626.458 272.178 Q628.286 270.79 628.286 268.197 Q628.286 265.535 626.388 264.123 Q624.513 262.688 620.995 262.688 Q619.074 262.688 616.875 263.104 Q614.675 263.521 612.037 264.401 L612.037 260.234 Q614.699 259.493 617.013 259.123 Q619.351 258.753 621.412 258.753 Q626.736 258.753 629.837 261.183 Q632.939 263.59 632.939 267.711 Q632.939 270.581 631.296 272.572 Q629.652 274.54 626.62 275.303 Z\" fill=\"#000000\" fill-rule=\"evenodd\" fill-opacity=\"1\" /><path clip-path=\"url(#clip960)\" d=\"M 0 0 M657.407 290.049 L657.407 303.799 L653.124 303.799 L653.124 268.012 L657.407 268.012 L657.407 271.947 Q658.749 269.632 660.786 268.521 Q662.846 267.387 665.694 267.387 Q670.416 267.387 673.356 271.137 Q676.319 274.887 676.319 280.998 Q676.319 287.109 673.356 290.859 Q670.416 294.609 665.694 294.609 Q662.846 294.609 660.786 293.498 Q658.749 292.363 657.407 290.049 M671.897 280.998 Q671.897 276.299 669.953 273.637 Q668.032 270.952 664.652 270.952 Q661.272 270.952 659.328 273.637 Q657.407 276.299 657.407 280.998 Q657.407 285.697 659.328 288.382 Q661.272 291.044 664.652 291.044 Q668.032 291.044 669.953 288.382 Q671.897 285.697 671.897 280.998 Z\" fill=\"#000000\" fill-rule=\"evenodd\" fill-opacity=\"1\" /><path clip-path=\"url(#clip960)\" d=\"M 0 0 M690.832 270.998 Q687.407 270.998 685.416 273.683 Q683.425 276.345 683.425 280.998 Q683.425 285.651 685.393 288.336 Q687.383 290.998 690.832 290.998 Q694.235 290.998 696.226 288.313 Q698.217 285.627 698.217 280.998 Q698.217 276.391 696.226 273.706 Q694.235 270.998 690.832 270.998 M690.832 267.387 Q696.388 267.387 699.559 270.998 Q702.731 274.609 702.731 280.998 Q702.731 287.364 699.559 290.998 Q696.388 294.609 690.832 294.609 Q685.254 294.609 682.082 290.998 Q678.934 287.364 678.934 280.998 Q678.934 274.609 682.082 270.998 Q685.254 267.387 690.832 267.387 Z\" fill=\"#000000\" fill-rule=\"evenodd\" fill-opacity=\"1\" /><path clip-path=\"url(#clip960)\" d=\"M 0 0 M707.198 257.919 L711.457 257.919 L711.457 293.938 L707.198 293.938 L707.198 257.919 Z\" fill=\"#000000\" fill-rule=\"evenodd\" fill-opacity=\"1\" /><path clip-path=\"url(#clip960)\" d=\"M 0 0 M726.712 296.345 Q724.906 300.975 723.193 302.387 Q721.48 303.799 718.61 303.799 L715.207 303.799 L715.207 300.234 L717.707 300.234 Q719.467 300.234 720.439 299.4 Q721.411 298.567 722.592 295.465 L723.355 293.521 L712.869 268.012 L717.383 268.012 L725.485 288.289 L733.587 268.012 L738.101 268.012 L726.712 296.345 Z\" fill=\"#000000\" fill-rule=\"evenodd\" fill-opacity=\"1\" /><path clip-path=\"url(#clip960)\" d=\"M 0 0 M764.119 278.289 L764.119 293.938 L759.86 293.938 L759.86 278.428 Q759.86 274.748 758.425 272.919 Q756.989 271.09 754.119 271.09 Q750.67 271.09 748.679 273.29 Q746.689 275.489 746.689 279.285 L746.689 293.938 L742.406 293.938 L742.406 268.012 L746.689 268.012 L746.689 272.04 Q748.216 269.702 750.277 268.544 Q752.36 267.387 755.068 267.387 Q759.536 267.387 761.827 270.165 Q764.119 272.919 764.119 278.289 Z\" fill=\"#000000\" fill-rule=\"evenodd\" fill-opacity=\"1\" /><path clip-path=\"url(#clip960)\" d=\"M 0 0 M778.633 270.998 Q775.207 270.998 773.216 273.683 Q771.226 276.345 771.226 280.998 Q771.226 285.651 773.193 288.336 Q775.184 290.998 778.633 290.998 Q782.036 290.998 784.026 288.313 Q786.017 285.627 786.017 280.998 Q786.017 276.391 784.026 273.706 Q782.036 270.998 778.633 270.998 M778.633 267.387 Q784.188 267.387 787.36 270.998 Q790.531 274.609 790.531 280.998 Q790.531 287.364 787.36 290.998 Q784.188 294.609 778.633 294.609 Q773.054 294.609 769.883 290.998 Q766.735 287.364 766.735 280.998 Q766.735 274.609 769.883 270.998 Q773.054 267.387 778.633 267.387 Z\" fill=\"#000000\" fill-rule=\"evenodd\" fill-opacity=\"1\" /><path clip-path=\"url(#clip960)\" d=\"M 0 0 M815.184 272.989 Q816.781 270.118 819.003 268.753 Q821.225 267.387 824.235 267.387 Q828.285 267.387 830.484 270.234 Q832.684 273.058 832.684 278.289 L832.684 293.938 L828.401 293.938 L828.401 278.428 Q828.401 274.702 827.082 272.896 Q825.762 271.09 823.054 271.09 Q819.744 271.09 817.822 273.29 Q815.901 275.489 815.901 279.285 L815.901 293.938 L811.619 293.938 L811.619 278.428 Q811.619 274.678 810.299 272.896 Q808.98 271.09 806.225 271.09 Q802.961 271.09 801.04 273.313 Q799.119 275.512 799.119 279.285 L799.119 293.938 L794.837 293.938 L794.837 268.012 L799.119 268.012 L799.119 272.04 Q800.577 269.655 802.614 268.521 Q804.651 267.387 807.452 267.387 Q810.276 267.387 812.244 268.822 Q814.235 270.257 815.184 272.989 Z\" fill=\"#000000\" fill-rule=\"evenodd\" fill-opacity=\"1\" /><path clip-path=\"url(#clip960)\" d=\"M 0 0 M837.151 268.012 L841.41 268.012 L841.41 293.938 L837.151 293.938 L837.151 268.012 M837.151 257.919 L841.41 257.919 L841.41 263.313 L837.151 263.313 L837.151 257.919 Z\" fill=\"#000000\" fill-rule=\"evenodd\" fill-opacity=\"1\" /><path clip-path=\"url(#clip960)\" d=\"M 0 0 M857.66 280.905 Q852.498 280.905 850.508 282.086 Q848.517 283.266 848.517 286.114 Q848.517 288.382 849.998 289.725 Q851.503 291.044 854.072 291.044 Q857.614 291.044 859.744 288.544 Q861.896 286.021 861.896 281.854 L861.896 280.905 L857.66 280.905 M866.156 279.146 L866.156 293.938 L861.896 293.938 L861.896 290.002 Q860.438 292.363 858.262 293.498 Q856.086 294.609 852.938 294.609 Q848.957 294.609 846.595 292.387 Q844.258 290.141 844.258 286.391 Q844.258 282.016 847.174 279.794 Q850.114 277.572 855.924 277.572 L861.896 277.572 L861.896 277.155 Q861.896 274.215 859.952 272.618 Q858.031 270.998 854.535 270.998 Q852.313 270.998 850.207 271.53 Q848.1 272.063 846.156 273.127 L846.156 269.192 Q848.494 268.29 850.693 267.85 Q852.892 267.387 854.975 267.387 Q860.6 267.387 863.378 270.303 Q866.156 273.22 866.156 279.146 Z\" fill=\"#000000\" fill-rule=\"evenodd\" fill-opacity=\"1\" /><path clip-path=\"url(#clip960)\" d=\"M 0 0 M870.623 257.919 L874.882 257.919 L874.882 293.938 L870.623 293.938 L870.623 257.919 Z\" fill=\"#000000\" fill-rule=\"evenodd\" fill-opacity=\"1\" /></svg>\n"
      ]
     },
     "execution_count": 59,
     "metadata": {},
     "output_type": "execute_result"
    }
   ],
   "source": [
    "begin\n",
    "    using Plots\n",
    "    n = 20\n",
    "    x = range(-π, π; length=20)\n",
    "    noise = 0.3randn(n)\n",
    "    y = sin.(x) + noise\n",
    "    X = hcat((x.^k for k in 0:3)...)\n",
    "    b = X\\y\n",
    "    f(x) = sum(b[k+1]*x^k for k in 0:3)\n",
    "    xs = range(-π, π; length=400)\n",
    "    plot(; legend=:topleft)\n",
    "    scatter!(x, y; label=\"sample\")\n",
    "    plot!(xs, sin.(xs); label=\"sin(x)\", color=:blue, ls=:dash)\n",
    "    plot!(xs, f.(xs); label=\"degree-3 polynomial\", color=:red, lw=2)\n",
    "end"
   ]
  },
  {
   "cell_type": "code",
   "execution_count": 60,
   "metadata": {},
   "outputs": [
    {
     "name": "stdout",
     "output_type": "stream",
     "text": [
      "(:block, \n",
      "    (:using, \n",
      "        (:., :Plots)), \n",
      "    (:(=), :n, 20), \n",
      "    (:(=), :x, \n",
      "        (:call, :range, \n",
      "            (:parameters, \n",
      "                (:kw, :length, 20)), \n",
      "            (:call, :-, :π), :π)), \n",
      "    (:(=), :noise, \n",
      "        (:call, :*, 0.3, \n",
      "            (:call, :randn, :n))), \n",
      "    (:(=), :y, \n",
      "        (:call, :+, \n",
      "            (:., :sin, \n",
      "                (:tuple, :x)), :noise)), \n",
      "    (:(=), :X, \n",
      "        (:call, :hcat, \n",
      "            (:..., \n",
      "                (:generator, \n",
      "                    (:call, :.^, :x, :k), \n",
      "                    (:(=), :k, \n",
      "                        (:call, :(:), 0, 3)))))), \n",
      "    (:(=), :b, \n",
      "        (:call, :\\, :X, :y)), \n",
      "    (:(=), \n",
      "        (:call, :f, :x), \n",
      "        (:block, \n",
      "            (:call, :sum, \n",
      "                (:generator, \n",
      "                    (:call, :*, \n",
      "                        (:ref, :b, \n",
      "                            (:call, :+, :k, 1)), \n",
      "                        (:call, :^, :x, :k)), \n",
      "                    (:(=), :k, \n",
      "                        (:call, :(:), 0, 3)))))), \n",
      "    (:(=), :xs, \n",
      "        (:call, :range, \n",
      "            (:parameters, \n",
      "                (:kw, :length, 400)), \n",
      "            (:call, :-, :π), :π)), \n",
      "    (:call, :plot, \n",
      "        (:parameters, \n",
      "            (:kw, :legend, QuoteNode(:topleft)))), \n",
      "    (:call, :scatter!, \n",
      "        (:parameters, \n",
      "            (:kw, :label, \"sample\")), :x, :y), \n",
      "    (:call, :plot!, \n",
      "        (:parameters, \n",
      "            (:kw, :label, \"sin(x)\"), \n",
      "            (:kw, :color, QuoteNode(:blue)), \n",
      "            (:kw, :ls, QuoteNode(:dash))), :xs, \n",
      "        (:., :sin, \n",
      "            (:tuple, :xs))), \n",
      "    (:call, :plot!, \n",
      "        (:parameters, \n",
      "            (:kw, :label, \"degree-3 polynomial\"), \n",
      "            (:kw, :color, QuoteNode(:red)), \n",
      "            (:kw, :lw, 2)), :xs, \n",
      "        (:., :f, \n",
      "            (:tuple, :xs))))"
     ]
    }
   ],
   "source": [
    "@show_texpr begin\n",
    "    using Plots\n",
    "    n = 20\n",
    "    x = range(-π, π; length=20)\n",
    "    noise = 0.3randn(n)\n",
    "    y = sin.(x) + noise\n",
    "    X = hcat((x.^k for k in 0:3)...)\n",
    "    b = X\\y\n",
    "    f(x) = sum(b[k+1]*x^k for k in 0:3)\n",
    "    xs = range(-π, π; length=400)\n",
    "    plot(; legend=:topleft)\n",
    "    scatter!(x, y; label=\"sample\")\n",
    "    plot!(xs, sin.(xs); label=\"sin(x)\", color=:blue, ls=:dash)\n",
    "    plot!(xs, f.(xs); label=\"degree-3 polynomial\", color=:red, lw=2)\n",
    "end"
   ]
  },
  {
   "cell_type": "code",
   "execution_count": 61,
   "metadata": {},
   "outputs": [
    {
     "data": {
      "image/svg+xml": [
       "<?xml version=\"1.0\" encoding=\"utf-8\"?>\n",
       "<svg xmlns=\"http://www.w3.org/2000/svg\" xmlns:xlink=\"http://www.w3.org/1999/xlink\" width=\"600\" height=\"400\" viewBox=\"0 0 2400 1600\">\n",
       "<defs>\n",
       "  <clipPath id=\"clip000\">\n",
       "    <rect x=\"0\" y=\"0\" width=\"2400\" height=\"1600\"/>\n",
       "  </clipPath>\n",
       "</defs>\n",
       "<path clip-path=\"url(#clip000)\" d=\"\n",
       "M0 1600 L2400 1600 L2400 0 L0 0  Z\n",
       "  \" fill=\"#ffffff\" fill-rule=\"evenodd\" fill-opacity=\"1\"/>\n",
       "<defs>\n",
       "  <clipPath id=\"clip001\">\n",
       "    <rect x=\"480\" y=\"0\" width=\"1681\" height=\"1600\"/>\n",
       "  </clipPath>\n",
       "</defs>\n",
       "<path clip-path=\"url(#clip000)\" d=\"\n",
       "M179.654 1486.45 L2352.76 1486.45 L2352.76 47.2441 L179.654 47.2441  Z\n",
       "  \" fill=\"#ffffff\" fill-rule=\"evenodd\" fill-opacity=\"1\"/>\n",
       "<defs>\n",
       "  <clipPath id=\"clip002\">\n",
       "    <rect x=\"179\" y=\"47\" width=\"2174\" height=\"1440\"/>\n",
       "  </clipPath>\n",
       "</defs>\n",
       "<polyline clip-path=\"url(#clip002)\" style=\"stroke:#000000; stroke-width:2; stroke-opacity:0.1; fill:none\" points=\"\n",
       "  287.356,1486.45 287.356,47.2441 \n",
       "  \"/>\n",
       "<polyline clip-path=\"url(#clip002)\" style=\"stroke:#000000; stroke-width:2; stroke-opacity:0.1; fill:none\" points=\"\n",
       "  613.639,1486.45 613.639,47.2441 \n",
       "  \"/>\n",
       "<polyline clip-path=\"url(#clip002)\" style=\"stroke:#000000; stroke-width:2; stroke-opacity:0.1; fill:none\" points=\"\n",
       "  939.922,1486.45 939.922,47.2441 \n",
       "  \"/>\n",
       "<polyline clip-path=\"url(#clip002)\" style=\"stroke:#000000; stroke-width:2; stroke-opacity:0.1; fill:none\" points=\"\n",
       "  1266.2,1486.45 1266.2,47.2441 \n",
       "  \"/>\n",
       "<polyline clip-path=\"url(#clip002)\" style=\"stroke:#000000; stroke-width:2; stroke-opacity:0.1; fill:none\" points=\"\n",
       "  1592.49,1486.45 1592.49,47.2441 \n",
       "  \"/>\n",
       "<polyline clip-path=\"url(#clip002)\" style=\"stroke:#000000; stroke-width:2; stroke-opacity:0.1; fill:none\" points=\"\n",
       "  1918.77,1486.45 1918.77,47.2441 \n",
       "  \"/>\n",
       "<polyline clip-path=\"url(#clip002)\" style=\"stroke:#000000; stroke-width:2; stroke-opacity:0.1; fill:none\" points=\"\n",
       "  2245.05,1486.45 2245.05,47.2441 \n",
       "  \"/>\n",
       "<polyline clip-path=\"url(#clip000)\" style=\"stroke:#000000; stroke-width:4; stroke-opacity:1; fill:none\" points=\"\n",
       "  179.654,1486.45 2352.76,1486.45 \n",
       "  \"/>\n",
       "<polyline clip-path=\"url(#clip000)\" style=\"stroke:#000000; stroke-width:4; stroke-opacity:1; fill:none\" points=\"\n",
       "  287.356,1486.45 287.356,1469.18 \n",
       "  \"/>\n",
       "<polyline clip-path=\"url(#clip000)\" style=\"stroke:#000000; stroke-width:4; stroke-opacity:1; fill:none\" points=\"\n",
       "  613.639,1486.45 613.639,1469.18 \n",
       "  \"/>\n",
       "<polyline clip-path=\"url(#clip000)\" style=\"stroke:#000000; stroke-width:4; stroke-opacity:1; fill:none\" points=\"\n",
       "  939.922,1486.45 939.922,1469.18 \n",
       "  \"/>\n",
       "<polyline clip-path=\"url(#clip000)\" style=\"stroke:#000000; stroke-width:4; stroke-opacity:1; fill:none\" points=\"\n",
       "  1266.2,1486.45 1266.2,1469.18 \n",
       "  \"/>\n",
       "<polyline clip-path=\"url(#clip000)\" style=\"stroke:#000000; stroke-width:4; stroke-opacity:1; fill:none\" points=\"\n",
       "  1592.49,1486.45 1592.49,1469.18 \n",
       "  \"/>\n",
       "<polyline clip-path=\"url(#clip000)\" style=\"stroke:#000000; stroke-width:4; stroke-opacity:1; fill:none\" points=\"\n",
       "  1918.77,1486.45 1918.77,1469.18 \n",
       "  \"/>\n",
       "<polyline clip-path=\"url(#clip000)\" style=\"stroke:#000000; stroke-width:4; stroke-opacity:1; fill:none\" points=\"\n",
       "  2245.05,1486.45 2245.05,1469.18 \n",
       "  \"/>\n",
       "<path clip-path=\"url(#clip000)\" d=\"M 0 0 M259.335 1530.29 L289.011 1530.29 L289.011 1534.23 L259.335 1534.23 L259.335 1530.29 Z\" fill=\"#000000\" fill-rule=\"evenodd\" fill-opacity=\"1\" /><path clip-path=\"url(#clip000)\" d=\"M 0 0 M308.247 1528.49 Q311.603 1529.2 313.478 1531.47 Q315.377 1533.74 315.377 1537.07 Q315.377 1542.19 311.858 1544.99 Q308.34 1547.79 301.858 1547.79 Q299.682 1547.79 297.367 1547.35 Q295.076 1546.93 292.622 1546.08 L292.622 1541.56 Q294.566 1542.7 296.881 1543.28 Q299.196 1543.86 301.719 1543.86 Q306.117 1543.86 308.409 1542.12 Q310.724 1540.38 310.724 1537.07 Q310.724 1534.02 308.571 1532.31 Q306.441 1530.57 302.622 1530.57 L298.594 1530.57 L298.594 1526.73 L302.807 1526.73 Q306.256 1526.73 308.085 1525.36 Q309.914 1523.97 309.914 1521.38 Q309.914 1518.72 308.015 1517.31 Q306.14 1515.87 302.622 1515.87 Q300.701 1515.87 298.502 1516.29 Q296.303 1516.7 293.664 1517.58 L293.664 1513.42 Q296.326 1512.68 298.64 1512.31 Q300.978 1511.93 303.039 1511.93 Q308.363 1511.93 311.465 1514.37 Q314.566 1516.77 314.566 1520.89 Q314.566 1523.76 312.923 1525.75 Q311.279 1527.72 308.247 1528.49 Z\" fill=\"#000000\" fill-rule=\"evenodd\" fill-opacity=\"1\" /><path clip-path=\"url(#clip000)\" d=\"M 0 0 M586.093 1530.29 L615.768 1530.29 L615.768 1534.23 L586.093 1534.23 L586.093 1530.29 Z\" fill=\"#000000\" fill-rule=\"evenodd\" fill-opacity=\"1\" /><path clip-path=\"url(#clip000)\" d=\"M 0 0 M624.866 1543.18 L641.185 1543.18 L641.185 1547.12 L619.241 1547.12 L619.241 1543.18 Q621.903 1540.43 626.486 1535.8 Q631.092 1531.15 632.273 1529.81 Q634.518 1527.28 635.398 1525.55 Q636.301 1523.79 636.301 1522.1 Q636.301 1519.34 634.356 1517.61 Q632.435 1515.87 629.333 1515.87 Q627.134 1515.87 624.68 1516.63 Q622.25 1517.4 619.472 1518.95 L619.472 1514.23 Q622.296 1513.09 624.75 1512.51 Q627.204 1511.93 629.241 1511.93 Q634.611 1511.93 637.805 1514.62 Q641 1517.31 641 1521.8 Q641 1523.93 640.19 1525.85 Q639.403 1527.74 637.296 1530.34 Q636.717 1531.01 633.616 1534.23 Q630.514 1537.42 624.866 1543.18 Z\" fill=\"#000000\" fill-rule=\"evenodd\" fill-opacity=\"1\" /><path clip-path=\"url(#clip000)\" d=\"M 0 0 M912.19 1530.29 L941.866 1530.29 L941.866 1534.23 L912.19 1534.23 L912.19 1530.29 Z\" fill=\"#000000\" fill-rule=\"evenodd\" fill-opacity=\"1\" /><path clip-path=\"url(#clip000)\" d=\"M 0 0 M947.746 1543.18 L955.385 1543.18 L955.385 1516.82 L947.075 1518.49 L947.075 1514.23 L955.338 1512.56 L960.014 1512.56 L960.014 1543.18 L967.653 1543.18 L967.653 1547.12 L947.746 1547.12 L947.746 1543.18 Z\" fill=\"#000000\" fill-rule=\"evenodd\" fill-opacity=\"1\" /><path clip-path=\"url(#clip000)\" d=\"M 0 0 M1266.2 1515.64 Q1262.59 1515.64 1260.77 1519.2 Q1258.96 1522.75 1258.96 1529.87 Q1258.96 1536.98 1260.77 1540.55 Q1262.59 1544.09 1266.2 1544.09 Q1269.84 1544.09 1271.64 1540.55 Q1273.47 1536.98 1273.47 1529.87 Q1273.47 1522.75 1271.64 1519.2 Q1269.84 1515.64 1266.2 1515.64 M1266.2 1511.93 Q1272.01 1511.93 1275.07 1516.54 Q1278.15 1521.12 1278.15 1529.87 Q1278.15 1538.6 1275.07 1543.21 Q1272.01 1547.79 1266.2 1547.79 Q1260.39 1547.79 1257.32 1543.21 Q1254.26 1538.6 1254.26 1529.87 Q1254.26 1521.12 1257.32 1516.54 Q1260.39 1511.93 1266.2 1511.93 Z\" fill=\"#000000\" fill-rule=\"evenodd\" fill-opacity=\"1\" /><path clip-path=\"url(#clip000)\" d=\"M 0 0 M1582.87 1543.18 L1590.51 1543.18 L1590.51 1516.82 L1582.2 1518.49 L1582.2 1514.23 L1590.46 1512.56 L1595.14 1512.56 L1595.14 1543.18 L1602.78 1543.18 L1602.78 1547.12 L1582.87 1547.12 L1582.87 1543.18 Z\" fill=\"#000000\" fill-rule=\"evenodd\" fill-opacity=\"1\" /><path clip-path=\"url(#clip000)\" d=\"M 0 0 M1913.42 1543.18 L1929.74 1543.18 L1929.74 1547.12 L1907.8 1547.12 L1907.8 1543.18 Q1910.46 1540.43 1915.04 1535.8 Q1919.65 1531.15 1920.83 1529.81 Q1923.08 1527.28 1923.96 1525.55 Q1924.86 1523.79 1924.86 1522.1 Q1924.86 1519.34 1922.91 1517.61 Q1920.99 1515.87 1917.89 1515.87 Q1915.69 1515.87 1913.24 1516.63 Q1910.81 1517.4 1908.03 1518.95 L1908.03 1514.23 Q1910.85 1513.09 1913.31 1512.51 Q1915.76 1511.93 1917.8 1511.93 Q1923.17 1511.93 1926.36 1514.62 Q1929.56 1517.31 1929.56 1521.8 Q1929.56 1523.93 1928.75 1525.85 Q1927.96 1527.74 1925.85 1530.34 Q1925.28 1531.01 1922.17 1534.23 Q1919.07 1537.42 1913.42 1543.18 Z\" fill=\"#000000\" fill-rule=\"evenodd\" fill-opacity=\"1\" /><path clip-path=\"url(#clip000)\" d=\"M 0 0 M2249.3 1528.49 Q2252.66 1529.2 2254.53 1531.47 Q2256.43 1533.74 2256.43 1537.07 Q2256.43 1542.19 2252.91 1544.99 Q2249.39 1547.79 2242.91 1547.79 Q2240.74 1547.79 2238.42 1547.35 Q2236.13 1546.93 2233.68 1546.08 L2233.68 1541.56 Q2235.62 1542.7 2237.94 1543.28 Q2240.25 1543.86 2242.77 1543.86 Q2247.17 1543.86 2249.46 1542.12 Q2251.78 1540.38 2251.78 1537.07 Q2251.78 1534.02 2249.63 1532.31 Q2247.5 1530.57 2243.68 1530.57 L2239.65 1530.57 L2239.65 1526.73 L2243.86 1526.73 Q2247.31 1526.73 2249.14 1525.36 Q2250.97 1523.97 2250.97 1521.38 Q2250.97 1518.72 2249.07 1517.31 Q2247.19 1515.87 2243.68 1515.87 Q2241.76 1515.87 2239.56 1516.29 Q2237.36 1516.7 2234.72 1517.58 L2234.72 1513.42 Q2237.38 1512.68 2239.69 1512.31 Q2242.03 1511.93 2244.09 1511.93 Q2249.42 1511.93 2252.52 1514.37 Q2255.62 1516.77 2255.62 1520.89 Q2255.62 1523.76 2253.98 1525.75 Q2252.33 1527.72 2249.3 1528.49 Z\" fill=\"#000000\" fill-rule=\"evenodd\" fill-opacity=\"1\" /><polyline clip-path=\"url(#clip002)\" style=\"stroke:#000000; stroke-width:2; stroke-opacity:0.1; fill:none\" points=\"\n",
       "  179.654,1275.4 2352.76,1275.4 \n",
       "  \"/>\n",
       "<polyline clip-path=\"url(#clip002)\" style=\"stroke:#000000; stroke-width:2; stroke-opacity:0.1; fill:none\" points=\"\n",
       "  179.654,1008.78 2352.76,1008.78 \n",
       "  \"/>\n",
       "<polyline clip-path=\"url(#clip002)\" style=\"stroke:#000000; stroke-width:2; stroke-opacity:0.1; fill:none\" points=\"\n",
       "  179.654,742.16 2352.76,742.16 \n",
       "  \"/>\n",
       "<polyline clip-path=\"url(#clip002)\" style=\"stroke:#000000; stroke-width:2; stroke-opacity:0.1; fill:none\" points=\"\n",
       "  179.654,475.538 2352.76,475.538 \n",
       "  \"/>\n",
       "<polyline clip-path=\"url(#clip002)\" style=\"stroke:#000000; stroke-width:2; stroke-opacity:0.1; fill:none\" points=\"\n",
       "  179.654,208.916 2352.76,208.916 \n",
       "  \"/>\n",
       "<polyline clip-path=\"url(#clip000)\" style=\"stroke:#000000; stroke-width:4; stroke-opacity:1; fill:none\" points=\"\n",
       "  179.654,1486.45 179.654,47.2441 \n",
       "  \"/>\n",
       "<polyline clip-path=\"url(#clip000)\" style=\"stroke:#000000; stroke-width:4; stroke-opacity:1; fill:none\" points=\"\n",
       "  179.654,1275.4 205.731,1275.4 \n",
       "  \"/>\n",
       "<polyline clip-path=\"url(#clip000)\" style=\"stroke:#000000; stroke-width:4; stroke-opacity:1; fill:none\" points=\"\n",
       "  179.654,1008.78 205.731,1008.78 \n",
       "  \"/>\n",
       "<polyline clip-path=\"url(#clip000)\" style=\"stroke:#000000; stroke-width:4; stroke-opacity:1; fill:none\" points=\"\n",
       "  179.654,742.16 205.731,742.16 \n",
       "  \"/>\n",
       "<polyline clip-path=\"url(#clip000)\" style=\"stroke:#000000; stroke-width:4; stroke-opacity:1; fill:none\" points=\"\n",
       "  179.654,475.538 205.731,475.538 \n",
       "  \"/>\n",
       "<polyline clip-path=\"url(#clip000)\" style=\"stroke:#000000; stroke-width:4; stroke-opacity:1; fill:none\" points=\"\n",
       "  179.654,208.916 205.731,208.916 \n",
       "  \"/>\n",
       "<path clip-path=\"url(#clip000)\" d=\"M 0 0 M51.2236 1275.86 L80.8994 1275.86 L80.8994 1279.79 L51.2236 1279.79 L51.2236 1275.86 Z\" fill=\"#000000\" fill-rule=\"evenodd\" fill-opacity=\"1\" /><path clip-path=\"url(#clip000)\" d=\"M 0 0 M86.779 1288.75 L94.4178 1288.75 L94.4178 1262.38 L86.1077 1264.05 L86.1077 1259.79 L94.3715 1258.12 L99.0474 1258.12 L99.0474 1288.75 L106.686 1288.75 L106.686 1292.68 L86.779 1292.68 L86.779 1288.75 Z\" fill=\"#000000\" fill-rule=\"evenodd\" fill-opacity=\"1\" /><path clip-path=\"url(#clip000)\" d=\"M 0 0 M111.756 1286.8 L116.64 1286.8 L116.64 1292.68 L111.756 1292.68 L111.756 1286.8 Z\" fill=\"#000000\" fill-rule=\"evenodd\" fill-opacity=\"1\" /><path clip-path=\"url(#clip000)\" d=\"M 0 0 M131.709 1261.2 Q128.098 1261.2 126.27 1264.77 Q124.464 1268.31 124.464 1275.44 Q124.464 1282.54 126.27 1286.11 Q128.098 1289.65 131.709 1289.65 Q135.344 1289.65 137.149 1286.11 Q138.978 1282.54 138.978 1275.44 Q138.978 1268.31 137.149 1264.77 Q135.344 1261.2 131.709 1261.2 M131.709 1257.5 Q137.519 1257.5 140.575 1262.11 Q143.654 1266.69 143.654 1275.44 Q143.654 1284.17 140.575 1288.77 Q137.519 1293.35 131.709 1293.35 Q125.899 1293.35 122.82 1288.77 Q119.765 1284.17 119.765 1275.44 Q119.765 1266.69 122.82 1262.11 Q125.899 1257.5 131.709 1257.5 Z\" fill=\"#000000\" fill-rule=\"evenodd\" fill-opacity=\"1\" /><path clip-path=\"url(#clip000)\" d=\"M 0 0 M50.9921 1009.23 L80.6679 1009.23 L80.6679 1013.17 L50.9921 1013.17 L50.9921 1009.23 Z\" fill=\"#000000\" fill-rule=\"evenodd\" fill-opacity=\"1\" /><path clip-path=\"url(#clip000)\" d=\"M 0 0 M95.7373 994.58 Q92.1262 994.58 90.2975 998.145 Q88.4919 1001.69 88.4919 1008.82 Q88.4919 1015.92 90.2975 1019.49 Q92.1262 1023.03 95.7373 1023.03 Q99.3715 1023.03 101.177 1019.49 Q103.006 1015.92 103.006 1008.82 Q103.006 1001.69 101.177 998.145 Q99.3715 994.58 95.7373 994.58 M95.7373 990.877 Q101.547 990.877 104.603 995.483 Q107.682 1000.07 107.682 1008.82 Q107.682 1017.54 104.603 1022.15 Q101.547 1026.73 95.7373 1026.73 Q89.9271 1026.73 86.8484 1022.15 Q83.7929 1017.54 83.7929 1008.82 Q83.7929 1000.07 86.8484 995.483 Q89.9271 990.877 95.7373 990.877 Z\" fill=\"#000000\" fill-rule=\"evenodd\" fill-opacity=\"1\" /><path clip-path=\"url(#clip000)\" d=\"M 0 0 M112.751 1020.18 L117.635 1020.18 L117.635 1026.06 L112.751 1026.06 L112.751 1020.18 Z\" fill=\"#000000\" fill-rule=\"evenodd\" fill-opacity=\"1\" /><path clip-path=\"url(#clip000)\" d=\"M 0 0 M122.751 991.502 L141.107 991.502 L141.107 995.437 L127.033 995.437 L127.033 1003.91 Q128.052 1003.56 129.07 1003.4 Q130.089 1003.21 131.107 1003.21 Q136.894 1003.21 140.274 1006.39 Q143.654 1009.56 143.654 1014.97 Q143.654 1020.55 140.181 1023.65 Q136.709 1026.73 130.39 1026.73 Q128.214 1026.73 125.945 1026.36 Q123.7 1025.99 121.293 1025.25 L121.293 1020.55 Q123.376 1021.69 125.598 1022.24 Q127.82 1022.8 130.297 1022.8 Q134.302 1022.8 136.64 1020.69 Q138.978 1018.58 138.978 1014.97 Q138.978 1011.36 136.64 1009.26 Q134.302 1007.15 130.297 1007.15 Q128.422 1007.15 126.547 1007.57 Q124.695 1007.98 122.751 1008.86 L122.751 991.502 Z\" fill=\"#000000\" fill-rule=\"evenodd\" fill-opacity=\"1\" /><path clip-path=\"url(#clip000)\" d=\"M 0 0 M94.7419 727.958 Q91.1308 727.958 89.3021 731.523 Q87.4966 735.065 87.4966 742.194 Q87.4966 749.301 89.3021 752.866 Q91.1308 756.407 94.7419 756.407 Q98.3761 756.407 100.182 752.866 Q102.01 749.301 102.01 742.194 Q102.01 735.065 100.182 731.523 Q98.3761 727.958 94.7419 727.958 M94.7419 724.255 Q100.552 724.255 103.608 728.861 Q106.686 733.445 106.686 742.194 Q106.686 750.921 103.608 755.528 Q100.552 760.111 94.7419 760.111 Q88.9317 760.111 85.8531 755.528 Q82.7975 750.921 82.7975 742.194 Q82.7975 733.445 85.8531 728.861 Q88.9317 724.255 94.7419 724.255 Z\" fill=\"#000000\" fill-rule=\"evenodd\" fill-opacity=\"1\" /><path clip-path=\"url(#clip000)\" d=\"M 0 0 M111.756 753.56 L116.64 753.56 L116.64 759.44 L111.756 759.44 L111.756 753.56 Z\" fill=\"#000000\" fill-rule=\"evenodd\" fill-opacity=\"1\" /><path clip-path=\"url(#clip000)\" d=\"M 0 0 M131.709 727.958 Q128.098 727.958 126.27 731.523 Q124.464 735.065 124.464 742.194 Q124.464 749.301 126.27 752.866 Q128.098 756.407 131.709 756.407 Q135.344 756.407 137.149 752.866 Q138.978 749.301 138.978 742.194 Q138.978 735.065 137.149 731.523 Q135.344 727.958 131.709 727.958 M131.709 724.255 Q137.519 724.255 140.575 728.861 Q143.654 733.445 143.654 742.194 Q143.654 750.921 140.575 755.528 Q137.519 760.111 131.709 760.111 Q125.899 760.111 122.82 755.528 Q119.765 750.921 119.765 742.194 Q119.765 733.445 122.82 728.861 Q125.899 724.255 131.709 724.255 Z\" fill=\"#000000\" fill-rule=\"evenodd\" fill-opacity=\"1\" /><path clip-path=\"url(#clip000)\" d=\"M 0 0 M95.7373 461.337 Q92.1262 461.337 90.2975 464.901 Q88.4919 468.443 88.4919 475.573 Q88.4919 482.679 90.2975 486.244 Q92.1262 489.785 95.7373 489.785 Q99.3715 489.785 101.177 486.244 Q103.006 482.679 103.006 475.573 Q103.006 468.443 101.177 464.901 Q99.3715 461.337 95.7373 461.337 M95.7373 457.633 Q101.547 457.633 104.603 462.239 Q107.682 466.823 107.682 475.573 Q107.682 484.299 104.603 488.906 Q101.547 493.489 95.7373 493.489 Q89.9271 493.489 86.8484 488.906 Q83.7929 484.299 83.7929 475.573 Q83.7929 466.823 86.8484 462.239 Q89.9271 457.633 95.7373 457.633 Z\" fill=\"#000000\" fill-rule=\"evenodd\" fill-opacity=\"1\" /><path clip-path=\"url(#clip000)\" d=\"M 0 0 M112.751 486.938 L117.635 486.938 L117.635 492.818 L112.751 492.818 L112.751 486.938 Z\" fill=\"#000000\" fill-rule=\"evenodd\" fill-opacity=\"1\" /><path clip-path=\"url(#clip000)\" d=\"M 0 0 M122.751 458.258 L141.107 458.258 L141.107 462.193 L127.033 462.193 L127.033 470.665 Q128.052 470.318 129.07 470.156 Q130.089 469.971 131.107 469.971 Q136.894 469.971 140.274 473.142 Q143.654 476.313 143.654 481.73 Q143.654 487.309 140.181 490.41 Q136.709 493.489 130.39 493.489 Q128.214 493.489 125.945 493.119 Q123.7 492.748 121.293 492.008 L121.293 487.309 Q123.376 488.443 125.598 488.998 Q127.82 489.554 130.297 489.554 Q134.302 489.554 136.64 487.448 Q138.978 485.341 138.978 481.73 Q138.978 478.119 136.64 476.012 Q134.302 473.906 130.297 473.906 Q128.422 473.906 126.547 474.323 Q124.695 474.739 122.751 475.619 L122.751 458.258 Z\" fill=\"#000000\" fill-rule=\"evenodd\" fill-opacity=\"1\" /><path clip-path=\"url(#clip000)\" d=\"M 0 0 M86.779 222.261 L94.4178 222.261 L94.4178 195.895 L86.1077 197.562 L86.1077 193.303 L94.3715 191.636 L99.0474 191.636 L99.0474 222.261 L106.686 222.261 L106.686 226.196 L86.779 226.196 L86.779 222.261 Z\" fill=\"#000000\" fill-rule=\"evenodd\" fill-opacity=\"1\" /><path clip-path=\"url(#clip000)\" d=\"M 0 0 M111.756 220.316 L116.64 220.316 L116.64 226.196 L111.756 226.196 L111.756 220.316 Z\" fill=\"#000000\" fill-rule=\"evenodd\" fill-opacity=\"1\" /><path clip-path=\"url(#clip000)\" d=\"M 0 0 M131.709 194.715 Q128.098 194.715 126.27 198.279 Q124.464 201.821 124.464 208.951 Q124.464 216.057 126.27 219.622 Q128.098 223.164 131.709 223.164 Q135.344 223.164 137.149 219.622 Q138.978 216.057 138.978 208.951 Q138.978 201.821 137.149 198.279 Q135.344 194.715 131.709 194.715 M131.709 191.011 Q137.519 191.011 140.575 195.617 Q143.654 200.201 143.654 208.951 Q143.654 217.677 140.575 222.284 Q137.519 226.867 131.709 226.867 Q125.899 226.867 122.82 222.284 Q119.765 217.677 119.765 208.951 Q119.765 200.201 122.82 195.617 Q125.899 191.011 131.709 191.011 Z\" fill=\"#000000\" fill-rule=\"evenodd\" fill-opacity=\"1\" /><circle clip-path=\"url(#clip002)\" cx=\"241.157\" cy=\"854.203\" r=\"14\" fill=\"#009af9\" fill-rule=\"evenodd\" fill-opacity=\"1\" stroke=\"#000000\" stroke-opacity=\"1\" stroke-width=\"3.2\"/>\n",
       "<circle clip-path=\"url(#clip002)\" cx=\"349.056\" cy=\"679.805\" r=\"14\" fill=\"#009af9\" fill-rule=\"evenodd\" fill-opacity=\"1\" stroke=\"#000000\" stroke-opacity=\"1\" stroke-width=\"3.2\"/>\n",
       "<circle clip-path=\"url(#clip002)\" cx=\"456.956\" cy=\"973.879\" r=\"14\" fill=\"#009af9\" fill-rule=\"evenodd\" fill-opacity=\"1\" stroke=\"#000000\" stroke-opacity=\"1\" stroke-width=\"3.2\"/>\n",
       "<circle clip-path=\"url(#clip002)\" cx=\"564.856\" cy=\"1439.76\" r=\"14\" fill=\"#009af9\" fill-rule=\"evenodd\" fill-opacity=\"1\" stroke=\"#000000\" stroke-opacity=\"1\" stroke-width=\"3.2\"/>\n",
       "<circle clip-path=\"url(#clip002)\" cx=\"672.756\" cy=\"1411.12\" r=\"14\" fill=\"#009af9\" fill-rule=\"evenodd\" fill-opacity=\"1\" stroke=\"#000000\" stroke-opacity=\"1\" stroke-width=\"3.2\"/>\n",
       "<circle clip-path=\"url(#clip002)\" cx=\"780.656\" cy=\"1445.72\" r=\"14\" fill=\"#009af9\" fill-rule=\"evenodd\" fill-opacity=\"1\" stroke=\"#000000\" stroke-opacity=\"1\" stroke-width=\"3.2\"/>\n",
       "<circle clip-path=\"url(#clip002)\" cx=\"888.555\" cy=\"1280.54\" r=\"14\" fill=\"#009af9\" fill-rule=\"evenodd\" fill-opacity=\"1\" stroke=\"#000000\" stroke-opacity=\"1\" stroke-width=\"3.2\"/>\n",
       "<circle clip-path=\"url(#clip002)\" cx=\"996.455\" cy=\"587.571\" r=\"14\" fill=\"#009af9\" fill-rule=\"evenodd\" fill-opacity=\"1\" stroke=\"#000000\" stroke-opacity=\"1\" stroke-width=\"3.2\"/>\n",
       "<circle clip-path=\"url(#clip002)\" cx=\"1104.36\" cy=\"1025.98\" r=\"14\" fill=\"#009af9\" fill-rule=\"evenodd\" fill-opacity=\"1\" stroke=\"#000000\" stroke-opacity=\"1\" stroke-width=\"3.2\"/>\n",
       "<circle clip-path=\"url(#clip002)\" cx=\"1212.25\" cy=\"508.199\" r=\"14\" fill=\"#009af9\" fill-rule=\"evenodd\" fill-opacity=\"1\" stroke=\"#000000\" stroke-opacity=\"1\" stroke-width=\"3.2\"/>\n",
       "<circle clip-path=\"url(#clip002)\" cx=\"1320.15\" cy=\"727.788\" r=\"14\" fill=\"#009af9\" fill-rule=\"evenodd\" fill-opacity=\"1\" stroke=\"#000000\" stroke-opacity=\"1\" stroke-width=\"3.2\"/>\n",
       "<circle clip-path=\"url(#clip002)\" cx=\"1428.05\" cy=\"341.841\" r=\"14\" fill=\"#009af9\" fill-rule=\"evenodd\" fill-opacity=\"1\" stroke=\"#000000\" stroke-opacity=\"1\" stroke-width=\"3.2\"/>\n",
       "<circle clip-path=\"url(#clip002)\" cx=\"1535.95\" cy=\"246.656\" r=\"14\" fill=\"#009af9\" fill-rule=\"evenodd\" fill-opacity=\"1\" stroke=\"#000000\" stroke-opacity=\"1\" stroke-width=\"3.2\"/>\n",
       "<circle clip-path=\"url(#clip002)\" cx=\"1643.85\" cy=\"244.378\" r=\"14\" fill=\"#009af9\" fill-rule=\"evenodd\" fill-opacity=\"1\" stroke=\"#000000\" stroke-opacity=\"1\" stroke-width=\"3.2\"/>\n",
       "<circle clip-path=\"url(#clip002)\" cx=\"1751.75\" cy=\"151.925\" r=\"14\" fill=\"#009af9\" fill-rule=\"evenodd\" fill-opacity=\"1\" stroke=\"#000000\" stroke-opacity=\"1\" stroke-width=\"3.2\"/>\n",
       "<circle clip-path=\"url(#clip002)\" cx=\"1859.65\" cy=\"442.051\" r=\"14\" fill=\"#009af9\" fill-rule=\"evenodd\" fill-opacity=\"1\" stroke=\"#000000\" stroke-opacity=\"1\" stroke-width=\"3.2\"/>\n",
       "<circle clip-path=\"url(#clip002)\" cx=\"1967.55\" cy=\"87.9763\" r=\"14\" fill=\"#009af9\" fill-rule=\"evenodd\" fill-opacity=\"1\" stroke=\"#000000\" stroke-opacity=\"1\" stroke-width=\"3.2\"/>\n",
       "<circle clip-path=\"url(#clip002)\" cx=\"2075.45\" cy=\"337.935\" r=\"14\" fill=\"#009af9\" fill-rule=\"evenodd\" fill-opacity=\"1\" stroke=\"#000000\" stroke-opacity=\"1\" stroke-width=\"3.2\"/>\n",
       "<circle clip-path=\"url(#clip002)\" cx=\"2183.35\" cy=\"556.054\" r=\"14\" fill=\"#009af9\" fill-rule=\"evenodd\" fill-opacity=\"1\" stroke=\"#000000\" stroke-opacity=\"1\" stroke-width=\"3.2\"/>\n",
       "<circle clip-path=\"url(#clip002)\" cx=\"2291.25\" cy=\"622.414\" r=\"14\" fill=\"#009af9\" fill-rule=\"evenodd\" fill-opacity=\"1\" stroke=\"#000000\" stroke-opacity=\"1\" stroke-width=\"3.2\"/>\n",
       "<polyline clip-path=\"url(#clip002)\" style=\"stroke:#0000ff; stroke-width:4; stroke-opacity:1; fill:none\" stroke-dasharray=\"16, 10\" points=\"\n",
       "  241.157,742.16 246.295,750.557 251.433,758.951 256.571,767.342 261.709,775.726 266.847,784.102 271.985,792.468 277.123,800.821 282.261,809.16 287.399,817.482 \n",
       "  292.537,825.785 297.676,834.067 302.814,842.327 307.952,850.562 313.09,858.77 318.228,866.949 323.366,875.097 328.504,883.213 333.642,891.293 338.78,899.336 \n",
       "  343.918,907.34 349.056,915.304 354.194,923.224 359.333,931.1 364.471,938.928 369.609,946.708 374.747,954.437 379.885,962.114 385.023,969.736 390.161,977.301 \n",
       "  395.299,984.808 400.437,992.255 405.575,999.64 410.713,1006.96 415.851,1014.22 420.99,1021.41 426.128,1028.52 431.266,1035.57 436.404,1042.55 441.542,1049.45 \n",
       "  446.68,1056.27 451.818,1063.02 456.956,1069.68 462.094,1076.27 467.232,1082.77 472.37,1089.19 477.509,1095.52 482.647,1101.77 487.785,1107.92 492.923,1113.99 \n",
       "  498.061,1119.96 503.199,1125.84 508.337,1131.62 513.475,1137.31 518.613,1142.9 523.751,1148.39 528.889,1153.78 534.027,1159.07 539.166,1164.25 544.304,1169.33 \n",
       "  549.442,1174.3 554.58,1179.17 559.718,1183.93 564.856,1188.57 569.994,1193.11 575.132,1197.54 580.27,1201.85 585.408,1206.05 590.546,1210.13 595.685,1214.1 \n",
       "  600.823,1217.95 605.961,1221.68 611.099,1225.29 616.237,1228.79 621.375,1232.16 626.513,1235.41 631.651,1238.54 636.789,1241.55 641.927,1244.43 647.065,1247.19 \n",
       "  652.203,1249.82 657.342,1252.33 662.48,1254.71 667.618,1256.96 672.756,1259.09 677.894,1261.08 683.032,1262.95 688.17,1264.69 693.308,1266.3 698.446,1267.78 \n",
       "  703.584,1269.13 708.722,1270.35 713.861,1271.44 718.999,1272.39 724.137,1273.22 729.275,1273.91 734.413,1274.47 739.551,1274.9 744.689,1275.2 749.827,1275.37 \n",
       "  754.965,1275.4 760.103,1275.3 765.241,1275.07 770.379,1274.71 775.518,1274.21 780.656,1273.58 785.794,1272.82 790.932,1271.93 796.07,1270.91 801.208,1269.76 \n",
       "  806.346,1268.47 811.484,1267.06 816.622,1265.51 821.76,1263.84 826.898,1262.03 832.036,1260.1 837.175,1258.04 842.313,1255.85 847.451,1253.53 852.589,1251.09 \n",
       "  857.727,1248.52 862.865,1245.83 868.003,1243.01 873.141,1240.06 878.279,1236.99 883.417,1233.8 888.555,1230.49 893.694,1227.06 898.832,1223.5 903.97,1219.83 \n",
       "  909.108,1216.04 914.246,1212.13 919.384,1208.1 924.522,1203.96 929.66,1199.71 934.798,1195.34 939.936,1190.86 945.074,1186.26 950.212,1181.56 955.351,1176.75 \n",
       "  960.489,1171.83 965.627,1166.8 970.765,1161.67 975.903,1156.44 981.041,1151.1 986.179,1145.66 991.317,1140.12 996.455,1134.48 1001.59,1128.74 1006.73,1122.91 \n",
       "  1011.87,1116.99 1017.01,1110.97 1022.15,1104.86 1027.28,1098.66 1032.42,1092.37 1037.56,1085.99 1042.7,1079.53 1047.84,1072.99 1052.97,1066.36 1058.11,1059.65 \n",
       "  1063.25,1052.87 1068.39,1046.01 1073.53,1039.07 1078.66,1032.06 1083.8,1024.97 1088.94,1017.82 1094.08,1010.6 1099.22,1003.31 1104.36,995.956 1109.49,988.54 \n",
       "  1114.63,981.062 1119.77,973.526 1124.91,965.932 1130.05,958.282 1135.18,950.579 1140.32,942.824 1145.46,935.02 1150.6,927.168 1155.74,919.269 1160.87,911.327 \n",
       "  1166.01,903.343 1171.15,895.319 1176.29,887.257 1181.43,879.159 1186.56,871.027 1191.7,862.863 1196.84,854.67 1201.98,846.448 1207.12,838.2 1212.25,829.929 \n",
       "  1217.39,821.636 1222.53,813.323 1227.67,804.992 1232.81,796.646 1237.95,788.286 1243.08,779.915 1248.22,771.535 1253.36,763.147 1258.5,754.754 1263.64,746.358 \n",
       "  1268.77,737.961 1273.91,729.565 1279.05,721.172 1284.19,712.785 1289.33,704.404 1294.46,696.033 1299.6,687.673 1304.74,679.327 1309.88,670.997 1315.02,662.684 \n",
       "  1320.15,654.391 1325.29,646.119 1330.43,637.872 1335.57,629.65 1340.71,621.456 1345.85,613.292 1350.98,605.16 1356.12,597.062 1361.26,589 1366.4,580.976 \n",
       "  1371.54,572.992 1376.67,565.05 1381.81,557.152 1386.95,549.3 1392.09,541.495 1397.23,533.74 1402.36,526.037 1407.5,518.388 1412.64,510.794 1417.78,503.257 \n",
       "  1422.92,495.78 1428.05,488.364 1433.19,481.01 1438.33,473.722 1443.47,466.5 1448.61,459.346 1453.74,452.263 1458.88,445.251 1464.02,438.313 1469.16,431.45 \n",
       "  1474.3,424.665 1479.44,417.958 1484.57,411.332 1489.71,404.787 1494.85,398.326 1499.99,391.951 1505.13,385.662 1510.26,379.462 1515.4,373.352 1520.54,367.333 \n",
       "  1525.68,361.407 1530.82,355.575 1535.95,349.84 1541.09,344.201 1546.23,338.661 1551.37,333.222 1556.51,327.884 1561.64,322.648 1566.78,317.517 1571.92,312.49 \n",
       "  1577.06,307.571 1582.2,302.759 1587.34,298.056 1592.47,293.463 1597.61,288.982 1602.75,284.613 1607.89,280.357 1613.03,276.216 1618.16,272.19 1623.3,268.281 \n",
       "  1628.44,264.49 1633.58,260.817 1638.72,257.263 1643.85,253.829 1648.99,250.517 1654.13,247.326 1659.27,244.259 1664.41,241.314 1669.54,238.494 1674.68,235.799 \n",
       "  1679.82,233.229 1684.96,230.786 1690.1,228.469 1695.23,226.28 1700.37,224.218 1705.51,222.285 1710.65,220.481 1715.79,218.807 1720.93,217.262 1726.06,215.847 \n",
       "  1731.2,214.563 1736.34,213.41 1741.48,212.387 1746.62,211.497 1751.75,210.737 1756.89,210.11 1762.03,209.614 1767.17,209.251 1772.31,209.019 1777.44,208.92 \n",
       "  1782.58,208.953 1787.72,209.118 1792.86,209.416 1798,209.845 1803.13,210.407 1808.27,211.1 1813.41,211.926 1818.55,212.882 1823.69,213.97 1828.83,215.189 \n",
       "  1833.96,216.538 1839.1,218.018 1844.24,219.628 1849.38,221.367 1854.52,223.236 1859.65,225.233 1864.79,227.358 1869.93,229.611 1875.07,231.992 1880.21,234.498 \n",
       "  1885.34,237.131 1890.48,239.889 1895.62,242.771 1900.76,245.777 1905.9,248.906 1911.03,252.158 1916.17,255.531 1921.31,259.025 1926.45,262.638 1931.59,266.371 \n",
       "  1936.73,270.221 1941.86,274.189 1947,278.272 1952.14,282.471 1957.28,286.783 1962.42,291.209 1967.55,295.746 1972.69,300.394 1977.83,305.151 1982.97,310.017 \n",
       "  1988.11,314.99 1993.24,320.069 1998.38,325.253 2003.52,330.54 2008.66,335.929 2013.8,341.419 2018.93,347.008 2024.07,352.695 2029.21,358.479 2034.35,364.358 \n",
       "  2039.49,370.331 2044.62,376.395 2049.76,382.551 2054.9,388.795 2060.04,395.128 2065.18,401.546 2070.32,408.049 2075.45,414.635 2080.59,421.301 2085.73,428.048 \n",
       "  2090.87,434.872 2096.01,441.773 2101.14,448.748 2106.28,455.796 2111.42,462.914 2116.56,470.102 2121.7,477.358 2126.83,484.679 2131.97,492.064 2137.11,499.511 \n",
       "  2142.25,507.018 2147.39,514.584 2152.52,522.206 2157.66,529.882 2162.8,537.611 2167.94,545.391 2173.08,553.22 2178.22,561.095 2183.35,569.016 2188.49,576.979 \n",
       "  2193.63,584.983 2198.77,593.027 2203.91,601.107 2209.04,609.222 2214.18,617.37 2219.32,625.549 2224.46,633.757 2229.6,641.992 2234.73,650.252 2239.87,658.535 \n",
       "  2245.01,666.838 2250.15,675.16 2255.29,683.499 2260.42,691.852 2265.56,700.217 2270.7,708.593 2275.84,716.978 2280.98,725.368 2286.11,733.763 2291.25,742.16 \n",
       "  \n",
       "  \"/>\n",
       "<polyline clip-path=\"url(#clip002)\" style=\"stroke:#ff0000; stroke-width:8; stroke-opacity:1; fill:none\" points=\"\n",
       "  241.157,724.15 246.295,737.98 251.433,751.597 256.571,765.001 261.709,778.194 266.847,791.176 271.985,803.948 277.123,816.513 282.261,828.87 287.399,841.021 \n",
       "  292.537,852.967 297.676,864.709 302.814,876.248 307.952,887.585 313.09,898.722 318.228,909.659 323.366,920.398 328.504,930.939 333.642,941.284 338.78,951.434 \n",
       "  343.918,961.39 349.056,971.153 354.194,980.724 359.333,990.104 364.471,999.294 369.609,1008.3 374.747,1017.11 379.885,1025.74 385.023,1034.18 390.161,1042.44 \n",
       "  395.299,1050.51 400.437,1058.41 405.575,1066.12 410.713,1073.65 415.851,1081 420.99,1088.18 426.128,1095.18 431.266,1102 436.404,1108.65 441.542,1115.12 \n",
       "  446.68,1121.43 451.818,1127.56 456.956,1133.52 462.094,1139.32 467.232,1144.94 472.37,1150.4 477.509,1155.69 482.647,1160.82 487.785,1165.78 492.923,1170.59 \n",
       "  498.061,1175.23 503.199,1179.71 508.337,1184.03 513.475,1188.19 518.613,1192.2 523.751,1196.05 528.889,1199.75 534.027,1203.29 539.166,1206.68 544.304,1209.92 \n",
       "  549.442,1213.01 554.58,1215.94 559.718,1218.73 564.856,1221.38 569.994,1223.88 575.132,1226.23 580.27,1228.44 585.408,1230.5 590.546,1232.43 595.685,1234.21 \n",
       "  600.823,1235.85 605.961,1237.36 611.099,1238.73 616.237,1239.96 621.375,1241.06 626.513,1242.02 631.651,1242.85 636.789,1243.55 641.927,1244.12 647.065,1244.56 \n",
       "  652.203,1244.87 657.342,1245.05 662.48,1245.1 667.618,1245.03 672.756,1244.84 677.894,1244.52 683.032,1244.09 688.17,1243.53 693.308,1242.85 698.446,1242.05 \n",
       "  703.584,1241.13 708.722,1240.1 713.861,1238.95 718.999,1237.69 724.137,1236.32 729.275,1234.83 734.413,1233.23 739.551,1231.52 744.689,1229.71 749.827,1227.78 \n",
       "  754.965,1225.75 760.103,1223.61 765.241,1221.37 770.379,1219.03 775.518,1216.58 780.656,1214.03 785.794,1211.38 790.932,1208.64 796.07,1205.79 801.208,1202.85 \n",
       "  806.346,1199.81 811.484,1196.68 816.622,1193.45 821.76,1190.13 826.898,1186.72 832.036,1183.22 837.175,1179.63 842.313,1175.96 847.451,1172.19 852.589,1168.34 \n",
       "  857.727,1164.41 862.865,1160.39 868.003,1156.28 873.141,1152.1 878.279,1147.84 883.417,1143.49 888.555,1139.07 893.694,1134.58 898.832,1130 903.97,1125.35 \n",
       "  909.108,1120.63 914.246,1115.83 919.384,1110.96 924.522,1106.02 929.66,1101.02 934.798,1095.94 939.936,1090.8 945.074,1085.59 950.212,1080.31 955.351,1074.97 \n",
       "  960.489,1069.57 965.627,1064.11 970.765,1058.58 975.903,1053 981.041,1047.35 986.179,1041.65 991.317,1035.9 996.455,1030.08 1001.59,1024.22 1006.73,1018.3 \n",
       "  1011.87,1012.33 1017.01,1006.3 1022.15,1000.23 1027.28,994.11 1032.42,987.941 1037.56,981.725 1042.7,975.465 1047.84,969.159 1052.97,962.811 1058.11,956.42 \n",
       "  1063.25,949.988 1068.39,943.516 1073.53,937.005 1078.66,930.457 1083.8,923.871 1088.94,917.25 1094.08,910.595 1099.22,903.906 1104.36,897.184 1109.49,890.432 \n",
       "  1114.63,883.649 1119.77,876.837 1124.91,869.997 1130.05,863.131 1135.18,856.238 1140.32,849.321 1145.46,842.38 1150.6,835.416 1155.74,828.432 1160.87,821.426 \n",
       "  1166.01,814.402 1171.15,807.359 1176.29,800.3 1181.43,793.224 1186.56,786.134 1191.7,779.029 1196.84,771.912 1201.98,764.784 1207.12,757.645 1212.25,750.496 \n",
       "  1217.39,743.339 1222.53,736.175 1227.67,729.005 1232.81,721.83 1237.95,714.651 1243.08,707.469 1248.22,700.285 1253.36,693.101 1258.5,685.917 1263.64,678.734 \n",
       "  1268.77,671.555 1273.91,664.378 1279.05,657.207 1284.19,650.042 1289.33,642.883 1294.46,635.733 1299.6,628.591 1304.74,621.46 1309.88,614.341 1315.02,607.234 \n",
       "  1320.15,600.14 1325.29,593.061 1330.43,585.998 1335.57,578.951 1340.71,571.923 1345.85,564.913 1350.98,557.923 1356.12,550.955 1361.26,544.009 1366.4,537.087 \n",
       "  1371.54,530.188 1376.67,523.316 1381.81,516.47 1386.95,509.652 1392.09,502.862 1397.23,496.103 1402.36,489.374 1407.5,482.678 1412.64,476.015 1417.78,469.386 \n",
       "  1422.92,462.793 1428.05,456.236 1433.19,449.717 1438.33,443.236 1443.47,436.795 1448.61,430.395 1453.74,424.037 1458.88,417.722 1464.02,411.451 1469.16,405.226 \n",
       "  1474.3,399.046 1479.44,392.914 1484.57,386.831 1489.71,380.797 1494.85,374.814 1499.99,368.883 1505.13,363.004 1510.26,357.18 1515.4,351.411 1520.54,345.697 \n",
       "  1525.68,340.041 1530.82,334.444 1535.95,328.905 1541.09,323.428 1546.23,318.012 1551.37,312.658 1556.51,307.369 1561.64,302.144 1566.78,296.986 1571.92,291.894 \n",
       "  1577.06,286.871 1582.2,281.917 1587.34,277.033 1592.47,272.221 1597.61,267.481 1602.75,262.815 1607.89,258.224 1613.03,253.708 1618.16,249.27 1623.3,244.909 \n",
       "  1628.44,240.628 1633.58,236.426 1638.72,232.306 1643.85,228.269 1648.99,224.315 1654.13,220.445 1659.27,216.661 1664.41,212.964 1669.54,209.355 1674.68,205.835 \n",
       "  1679.82,202.405 1684.96,199.066 1690.1,195.819 1695.23,192.665 1700.37,189.606 1705.51,186.642 1710.65,183.775 1715.79,181.006 1720.93,178.335 1726.06,175.764 \n",
       "  1731.2,173.295 1736.34,170.927 1741.48,168.662 1746.62,166.502 1751.75,164.447 1756.89,162.499 1762.03,160.657 1767.17,158.925 1772.31,157.302 1777.44,155.79 \n",
       "  1782.58,154.39 1787.72,153.103 1792.86,151.93 1798,150.873 1803.13,149.931 1808.27,149.107 1813.41,148.401 1818.55,147.815 1823.69,147.35 1828.83,147.006 \n",
       "  1833.96,146.785 1839.1,146.688 1844.24,146.716 1849.38,146.87 1854.52,147.151 1859.65,147.561 1864.79,148.1 1869.93,148.769 1875.07,149.57 1880.21,150.503 \n",
       "  1885.34,151.571 1890.48,152.773 1895.62,154.111 1900.76,155.586 1905.9,157.2 1911.03,158.952 1916.17,160.845 1921.31,162.879 1926.45,165.056 1931.59,167.376 \n",
       "  1936.73,169.841 1941.86,172.452 1947,175.209 1952.14,178.115 1957.28,181.17 1962.42,184.374 1967.55,187.73 1972.69,191.239 1977.83,194.9 1982.97,198.717 \n",
       "  1988.11,202.689 1993.24,206.817 1998.38,211.103 2003.52,215.549 2008.66,220.154 2013.8,224.92 2018.93,229.849 2024.07,234.94 2029.21,240.196 2034.35,245.618 \n",
       "  2039.49,251.206 2044.62,256.962 2049.76,262.886 2054.9,268.98 2060.04,275.245 2065.18,281.682 2070.32,288.293 2075.45,295.077 2080.59,302.037 2085.73,309.173 \n",
       "  2090.87,316.486 2096.01,323.978 2101.14,331.65 2106.28,339.502 2111.42,347.537 2116.56,355.754 2121.7,364.155 2126.83,372.741 2131.97,381.514 2137.11,390.474 \n",
       "  2142.25,399.622 2147.39,408.96 2152.52,418.488 2157.66,428.208 2162.8,438.121 2167.94,448.227 2173.08,458.529 2178.22,469.026 2183.35,479.721 2188.49,490.614 \n",
       "  2193.63,501.706 2198.77,512.999 2203.91,524.493 2209.04,536.19 2214.18,548.09 2219.32,560.196 2224.46,572.507 2229.6,585.025 2234.73,597.751 2239.87,610.686 \n",
       "  2245.01,623.832 2250.15,637.189 2255.29,650.758 2260.42,664.541 2265.56,678.539 2270.7,692.752 2275.84,707.182 2280.98,721.83 2286.11,736.697 2291.25,751.784 \n",
       "  \n",
       "  \"/>\n",
       "<path clip-path=\"url(#clip000)\" d=\"\n",
       "M252.09 337.138 L923.174 337.138 L923.174 95.2176 L252.09 95.2176  Z\n",
       "  \" fill=\"#ffffff\" fill-rule=\"evenodd\" fill-opacity=\"1\"/>\n",
       "<polyline clip-path=\"url(#clip000)\" style=\"stroke:#000000; stroke-width:4; stroke-opacity:1; fill:none\" points=\"\n",
       "  252.09,337.138 923.174,337.138 923.174,95.2176 252.09,95.2176 252.09,337.138 \n",
       "  \"/>\n",
       "<circle clip-path=\"url(#clip000)\" cx=\"348.673\" cy=\"155.698\" r=\"23\" fill=\"#009af9\" fill-rule=\"evenodd\" fill-opacity=\"1\" stroke=\"#000000\" stroke-opacity=\"1\" stroke-width=\"5.12\"/>\n",
       "<path clip-path=\"url(#clip000)\" d=\"M 0 0 M463.681 147.816 L463.681 151.843 Q461.875 150.917 459.931 150.455 Q457.986 149.992 455.903 149.992 Q452.732 149.992 451.135 150.964 Q449.561 151.936 449.561 153.88 Q449.561 155.362 450.695 156.218 Q451.829 157.052 455.255 157.816 L456.713 158.14 Q461.25 159.112 463.148 160.894 Q465.07 162.654 465.07 165.825 Q465.07 169.436 462.199 171.542 Q459.352 173.649 454.352 173.649 Q452.269 173.649 450 173.232 Q447.755 172.839 445.255 172.028 L445.255 167.63 Q447.616 168.857 449.908 169.482 Q452.199 170.084 454.445 170.084 Q457.454 170.084 459.074 169.066 Q460.695 168.024 460.695 166.149 Q460.695 164.413 459.514 163.487 Q458.357 162.561 454.399 161.704 L452.917 161.357 Q448.959 160.524 447.199 158.811 Q445.44 157.075 445.44 154.066 Q445.44 150.408 448.033 148.418 Q450.625 146.427 455.394 146.427 Q457.755 146.427 459.838 146.774 Q461.922 147.121 463.681 147.816 Z\" fill=\"#000000\" fill-rule=\"evenodd\" fill-opacity=\"1\" /><path clip-path=\"url(#clip000)\" d=\"M 0 0 M481.32 159.945 Q476.158 159.945 474.167 161.126 Q472.176 162.306 472.176 165.154 Q472.176 167.422 473.658 168.765 Q475.162 170.084 477.732 170.084 Q481.273 170.084 483.403 167.584 Q485.556 165.061 485.556 160.894 L485.556 159.945 L481.32 159.945 M489.815 158.186 L489.815 172.978 L485.556 172.978 L485.556 169.042 Q484.097 171.403 481.922 172.538 Q479.746 173.649 476.597 173.649 Q472.616 173.649 470.255 171.427 Q467.917 169.181 467.917 165.431 Q467.917 161.056 470.834 158.834 Q473.773 156.612 479.584 156.612 L485.556 156.612 L485.556 156.195 Q485.556 153.255 483.611 151.658 Q481.69 150.038 478.195 150.038 Q475.972 150.038 473.866 150.57 Q471.76 151.103 469.815 152.167 L469.815 148.232 Q472.153 147.33 474.352 146.89 Q476.551 146.427 478.635 146.427 Q484.259 146.427 487.037 149.343 Q489.815 152.26 489.815 158.186 Z\" fill=\"#000000\" fill-rule=\"evenodd\" fill-opacity=\"1\" /><path clip-path=\"url(#clip000)\" d=\"M 0 0 M514.468 152.029 Q516.065 149.158 518.287 147.793 Q520.509 146.427 523.519 146.427 Q527.569 146.427 529.768 149.274 Q531.968 152.098 531.968 157.329 L531.968 172.978 L527.685 172.978 L527.685 157.468 Q527.685 153.742 526.366 151.936 Q525.046 150.13 522.338 150.13 Q519.028 150.13 517.107 152.33 Q515.185 154.529 515.185 158.325 L515.185 172.978 L510.903 172.978 L510.903 157.468 Q510.903 153.718 509.583 151.936 Q508.264 150.13 505.509 150.13 Q502.245 150.13 500.324 152.353 Q498.403 154.552 498.403 158.325 L498.403 172.978 L494.121 172.978 L494.121 147.052 L498.403 147.052 L498.403 151.08 Q499.861 148.695 501.898 147.561 Q503.935 146.427 506.736 146.427 Q509.56 146.427 511.528 147.862 Q513.519 149.297 514.468 152.029 Z\" fill=\"#000000\" fill-rule=\"evenodd\" fill-opacity=\"1\" /><path clip-path=\"url(#clip000)\" d=\"M 0 0 M540.555 169.089 L540.555 182.839 L536.273 182.839 L536.273 147.052 L540.555 147.052 L540.555 150.987 Q541.898 148.672 543.935 147.561 Q545.995 146.427 548.842 146.427 Q553.565 146.427 556.504 150.177 Q559.467 153.927 559.467 160.038 Q559.467 166.149 556.504 169.899 Q553.565 173.649 548.842 173.649 Q545.995 173.649 543.935 172.538 Q541.898 171.403 540.555 169.089 M555.046 160.038 Q555.046 155.339 553.102 152.677 Q551.18 149.992 547.801 149.992 Q544.421 149.992 542.477 152.677 Q540.555 155.339 540.555 160.038 Q540.555 164.737 542.477 167.422 Q544.421 170.084 547.801 170.084 Q551.18 170.084 553.102 167.422 Q555.046 164.737 555.046 160.038 Z\" fill=\"#000000\" fill-rule=\"evenodd\" fill-opacity=\"1\" /><path clip-path=\"url(#clip000)\" d=\"M 0 0 M563.935 136.959 L568.194 136.959 L568.194 172.978 L563.935 172.978 L563.935 136.959 Z\" fill=\"#000000\" fill-rule=\"evenodd\" fill-opacity=\"1\" /><path clip-path=\"url(#clip000)\" d=\"M 0 0 M594.838 158.95 L594.838 161.033 L575.254 161.033 Q575.532 165.431 577.893 167.746 Q580.277 170.038 584.514 170.038 Q586.967 170.038 589.259 169.436 Q591.574 168.834 593.842 167.63 L593.842 171.658 Q591.551 172.63 589.143 173.14 Q586.736 173.649 584.259 173.649 Q578.055 173.649 574.421 170.038 Q570.81 166.427 570.81 160.269 Q570.81 153.904 574.236 150.177 Q577.685 146.427 583.518 146.427 Q588.75 146.427 591.782 149.806 Q594.838 153.163 594.838 158.95 M590.578 157.7 Q590.532 154.205 588.611 152.121 Q586.713 150.038 583.564 150.038 Q580 150.038 577.847 152.052 Q575.717 154.066 575.393 157.723 L590.578 157.7 Z\" fill=\"#000000\" fill-rule=\"evenodd\" fill-opacity=\"1\" /><polyline clip-path=\"url(#clip000)\" style=\"stroke:#0000ff; stroke-width:4; stroke-opacity:1; fill:none\" stroke-dasharray=\"16, 10\" points=\"\n",
       "  276.236,216.178 421.109,216.178 \n",
       "  \"/>\n",
       "<path clip-path=\"url(#clip000)\" d=\"M 0 0 M463.681 208.296 L463.681 212.323 Q461.875 211.397 459.931 210.935 Q457.986 210.472 455.903 210.472 Q452.732 210.472 451.135 211.444 Q449.561 212.416 449.561 214.36 Q449.561 215.842 450.695 216.698 Q451.829 217.532 455.255 218.296 L456.713 218.62 Q461.25 219.592 463.148 221.374 Q465.07 223.134 465.07 226.305 Q465.07 229.916 462.199 232.022 Q459.352 234.129 454.352 234.129 Q452.269 234.129 450 233.712 Q447.755 233.319 445.255 232.508 L445.255 228.11 Q447.616 229.337 449.908 229.962 Q452.199 230.564 454.445 230.564 Q457.454 230.564 459.074 229.546 Q460.695 228.504 460.695 226.629 Q460.695 224.893 459.514 223.967 Q458.357 223.041 454.399 222.184 L452.917 221.837 Q448.959 221.004 447.199 219.291 Q445.44 217.555 445.44 214.546 Q445.44 210.888 448.033 208.898 Q450.625 206.907 455.394 206.907 Q457.755 206.907 459.838 207.254 Q461.922 207.601 463.681 208.296 Z\" fill=\"#000000\" fill-rule=\"evenodd\" fill-opacity=\"1\" /><path clip-path=\"url(#clip000)\" d=\"M 0 0 M469.537 207.532 L473.797 207.532 L473.797 233.458 L469.537 233.458 L469.537 207.532 M469.537 197.439 L473.797 197.439 L473.797 202.833 L469.537 202.833 L469.537 197.439 Z\" fill=\"#000000\" fill-rule=\"evenodd\" fill-opacity=\"1\" /><path clip-path=\"url(#clip000)\" d=\"M 0 0 M499.815 217.809 L499.815 233.458 L495.556 233.458 L495.556 217.948 Q495.556 214.268 494.121 212.439 Q492.685 210.61 489.815 210.61 Q486.366 210.61 484.375 212.81 Q482.384 215.009 482.384 218.805 L482.384 233.458 L478.102 233.458 L478.102 207.532 L482.384 207.532 L482.384 211.56 Q483.912 209.222 485.972 208.064 Q488.056 206.907 490.764 206.907 Q495.232 206.907 497.523 209.685 Q499.815 212.439 499.815 217.809 Z\" fill=\"#000000\" fill-rule=\"evenodd\" fill-opacity=\"1\" /><path clip-path=\"url(#clip000)\" d=\"M 0 0 M514.514 197.486 Q511.412 202.81 509.907 208.018 Q508.403 213.226 508.403 218.573 Q508.403 223.921 509.907 229.175 Q511.435 234.407 514.514 239.708 L510.81 239.708 Q507.338 234.268 505.602 229.013 Q503.889 223.759 503.889 218.573 Q503.889 213.411 505.602 208.18 Q507.315 202.948 510.81 197.486 L514.514 197.486 Z\" fill=\"#000000\" fill-rule=\"evenodd\" fill-opacity=\"1\" /><path clip-path=\"url(#clip000)\" d=\"M 0 0 M540.532 207.532 L531.157 220.147 L541.018 233.458 L535.995 233.458 L528.449 223.272 L520.903 233.458 L515.88 233.458 L525.949 219.893 L516.736 207.532 L521.759 207.532 L528.634 216.768 L535.509 207.532 L540.532 207.532 Z\" fill=\"#000000\" fill-rule=\"evenodd\" fill-opacity=\"1\" /><path clip-path=\"url(#clip000)\" d=\"M 0 0 M544.815 197.486 L548.518 197.486 Q551.991 202.948 553.704 208.18 Q555.44 213.411 555.44 218.573 Q555.44 223.759 553.704 229.013 Q551.991 234.268 548.518 239.708 L544.815 239.708 Q547.893 234.407 549.398 229.175 Q550.926 223.921 550.926 218.573 Q550.926 213.226 549.398 208.018 Q547.893 202.81 544.815 197.486 Z\" fill=\"#000000\" fill-rule=\"evenodd\" fill-opacity=\"1\" /><polyline clip-path=\"url(#clip000)\" style=\"stroke:#ff0000; stroke-width:4; stroke-opacity:1; fill:none\" points=\"\n",
       "  276.236,276.658 421.109,276.658 \n",
       "  \"/>\n",
       "<path clip-path=\"url(#clip000)\" d=\"M 0 0 M464.167 271.947 L464.167 257.919 L468.426 257.919 L468.426 293.938 L464.167 293.938 L464.167 290.049 Q462.824 292.363 460.764 293.498 Q458.727 294.609 455.857 294.609 Q451.158 294.609 448.195 290.859 Q445.255 287.109 445.255 280.998 Q445.255 274.887 448.195 271.137 Q451.158 267.387 455.857 267.387 Q458.727 267.387 460.764 268.521 Q462.824 269.632 464.167 271.947 M449.653 280.998 Q449.653 285.697 451.574 288.382 Q453.519 291.044 456.899 291.044 Q460.278 291.044 462.223 288.382 Q464.167 285.697 464.167 280.998 Q464.167 276.299 462.223 273.637 Q460.278 270.952 456.899 270.952 Q453.519 270.952 451.574 273.637 Q449.653 276.299 449.653 280.998 Z\" fill=\"#000000\" fill-rule=\"evenodd\" fill-opacity=\"1\" /><path clip-path=\"url(#clip000)\" d=\"M 0 0 M495.07 279.91 L495.07 281.993 L475.486 281.993 Q475.764 286.391 478.125 288.706 Q480.509 290.998 484.746 290.998 Q487.199 290.998 489.491 290.396 Q491.806 289.794 494.074 288.59 L494.074 292.618 Q491.783 293.59 489.375 294.1 Q486.968 294.609 484.491 294.609 Q478.287 294.609 474.653 290.998 Q471.042 287.387 471.042 281.229 Q471.042 274.864 474.468 271.137 Q477.917 267.387 483.75 267.387 Q488.982 267.387 492.014 270.766 Q495.07 274.123 495.07 279.91 M490.81 278.66 Q490.764 275.165 488.843 273.081 Q486.945 270.998 483.797 270.998 Q480.232 270.998 478.079 273.012 Q475.949 275.026 475.625 278.683 L490.81 278.66 Z\" fill=\"#000000\" fill-rule=\"evenodd\" fill-opacity=\"1\" /><path clip-path=\"url(#clip000)\" d=\"M 0 0 M516.597 280.674 Q516.597 276.044 514.676 273.498 Q512.778 270.952 509.329 270.952 Q505.903 270.952 503.982 273.498 Q502.083 276.044 502.083 280.674 Q502.083 285.28 503.982 287.826 Q505.903 290.373 509.329 290.373 Q512.778 290.373 514.676 287.826 Q516.597 285.28 516.597 280.674 M520.856 290.72 Q520.856 297.34 517.917 300.558 Q514.977 303.799 508.912 303.799 Q506.667 303.799 504.676 303.451 Q502.685 303.127 500.81 302.433 L500.81 298.289 Q502.685 299.308 504.514 299.794 Q506.343 300.28 508.241 300.28 Q512.431 300.28 514.514 298.081 Q516.597 295.905 516.597 291.484 L516.597 289.377 Q515.278 291.669 513.218 292.803 Q511.157 293.938 508.287 293.938 Q503.519 293.938 500.602 290.303 Q497.685 286.669 497.685 280.674 Q497.685 274.655 500.602 271.021 Q503.519 267.387 508.287 267.387 Q511.157 267.387 513.218 268.521 Q515.278 269.655 516.597 271.947 L516.597 268.012 L520.856 268.012 L520.856 290.72 Z\" fill=\"#000000\" fill-rule=\"evenodd\" fill-opacity=\"1\" /><path clip-path=\"url(#clip000)\" d=\"M 0 0 M540.347 271.993 Q539.63 271.577 538.773 271.391 Q537.94 271.183 536.921 271.183 Q533.31 271.183 531.366 273.544 Q529.444 275.882 529.444 280.28 L529.444 293.938 L525.162 293.938 L525.162 268.012 L529.444 268.012 L529.444 272.04 Q530.787 269.678 532.94 268.544 Q535.093 267.387 538.171 267.387 Q538.611 267.387 539.143 267.456 Q539.676 267.503 540.324 267.618 L540.347 271.993 Z\" fill=\"#000000\" fill-rule=\"evenodd\" fill-opacity=\"1\" /><path clip-path=\"url(#clip000)\" d=\"M 0 0 M565.949 279.91 L565.949 281.993 L546.366 281.993 Q546.643 286.391 549.004 288.706 Q551.389 290.998 555.625 290.998 Q558.079 290.998 560.37 290.396 Q562.685 289.794 564.953 288.59 L564.953 292.618 Q562.662 293.59 560.254 294.1 Q557.847 294.609 555.37 294.609 Q549.167 294.609 545.532 290.998 Q541.921 287.387 541.921 281.229 Q541.921 274.864 545.347 271.137 Q548.796 267.387 554.629 267.387 Q559.861 267.387 562.893 270.766 Q565.949 274.123 565.949 279.91 M561.69 278.66 Q561.643 275.165 559.722 273.081 Q557.824 270.998 554.676 270.998 Q551.111 270.998 548.958 273.012 Q546.829 275.026 546.505 278.683 L561.69 278.66 Z\" fill=\"#000000\" fill-rule=\"evenodd\" fill-opacity=\"1\" /><path clip-path=\"url(#clip000)\" d=\"M 0 0 M592.592 279.91 L592.592 281.993 L573.009 281.993 Q573.287 286.391 575.648 288.706 Q578.032 290.998 582.268 290.998 Q584.722 290.998 587.014 290.396 Q589.328 289.794 591.597 288.59 L591.597 292.618 Q589.305 293.59 586.898 294.1 Q584.49 294.609 582.014 294.609 Q575.81 294.609 572.176 290.998 Q568.565 287.387 568.565 281.229 Q568.565 274.864 571.99 271.137 Q575.44 267.387 581.273 267.387 Q586.504 267.387 589.537 270.766 Q592.592 274.123 592.592 279.91 M588.333 278.66 Q588.287 275.165 586.365 273.081 Q584.467 270.998 581.319 270.998 Q577.754 270.998 575.602 273.012 Q573.472 275.026 573.148 278.683 L588.333 278.66 Z\" fill=\"#000000\" fill-rule=\"evenodd\" fill-opacity=\"1\" /><path clip-path=\"url(#clip000)\" d=\"M 0 0 M594.907 279.053 L607.384 279.053 L607.384 282.85 L594.907 282.85 L594.907 279.053 Z\" fill=\"#000000\" fill-rule=\"evenodd\" fill-opacity=\"1\" /><path clip-path=\"url(#clip000)\" d=\"M 0 0 M626.62 275.303 Q629.976 276.021 631.851 278.289 Q633.749 280.558 633.749 283.891 Q633.749 289.007 630.231 291.808 Q626.712 294.609 620.231 294.609 Q618.055 294.609 615.74 294.169 Q613.449 293.752 610.995 292.896 L610.995 288.382 Q612.939 289.516 615.254 290.095 Q617.569 290.674 620.092 290.674 Q624.49 290.674 626.782 288.938 Q629.097 287.201 629.097 283.891 Q629.097 280.836 626.944 279.123 Q624.814 277.387 620.995 277.387 L616.967 277.387 L616.967 273.544 L621.18 273.544 Q624.629 273.544 626.458 272.178 Q628.286 270.79 628.286 268.197 Q628.286 265.535 626.388 264.123 Q624.513 262.688 620.995 262.688 Q619.074 262.688 616.875 263.104 Q614.675 263.521 612.037 264.401 L612.037 260.234 Q614.699 259.493 617.013 259.123 Q619.351 258.753 621.412 258.753 Q626.736 258.753 629.837 261.183 Q632.939 263.59 632.939 267.711 Q632.939 270.581 631.296 272.572 Q629.652 274.54 626.62 275.303 Z\" fill=\"#000000\" fill-rule=\"evenodd\" fill-opacity=\"1\" /><path clip-path=\"url(#clip000)\" d=\"M 0 0 M657.407 290.049 L657.407 303.799 L653.124 303.799 L653.124 268.012 L657.407 268.012 L657.407 271.947 Q658.749 269.632 660.786 268.521 Q662.846 267.387 665.694 267.387 Q670.416 267.387 673.356 271.137 Q676.319 274.887 676.319 280.998 Q676.319 287.109 673.356 290.859 Q670.416 294.609 665.694 294.609 Q662.846 294.609 660.786 293.498 Q658.749 292.363 657.407 290.049 M671.897 280.998 Q671.897 276.299 669.953 273.637 Q668.032 270.952 664.652 270.952 Q661.272 270.952 659.328 273.637 Q657.407 276.299 657.407 280.998 Q657.407 285.697 659.328 288.382 Q661.272 291.044 664.652 291.044 Q668.032 291.044 669.953 288.382 Q671.897 285.697 671.897 280.998 Z\" fill=\"#000000\" fill-rule=\"evenodd\" fill-opacity=\"1\" /><path clip-path=\"url(#clip000)\" d=\"M 0 0 M690.832 270.998 Q687.407 270.998 685.416 273.683 Q683.425 276.345 683.425 280.998 Q683.425 285.651 685.393 288.336 Q687.383 290.998 690.832 290.998 Q694.235 290.998 696.226 288.313 Q698.217 285.627 698.217 280.998 Q698.217 276.391 696.226 273.706 Q694.235 270.998 690.832 270.998 M690.832 267.387 Q696.388 267.387 699.559 270.998 Q702.731 274.609 702.731 280.998 Q702.731 287.364 699.559 290.998 Q696.388 294.609 690.832 294.609 Q685.254 294.609 682.082 290.998 Q678.934 287.364 678.934 280.998 Q678.934 274.609 682.082 270.998 Q685.254 267.387 690.832 267.387 Z\" fill=\"#000000\" fill-rule=\"evenodd\" fill-opacity=\"1\" /><path clip-path=\"url(#clip000)\" d=\"M 0 0 M707.198 257.919 L711.457 257.919 L711.457 293.938 L707.198 293.938 L707.198 257.919 Z\" fill=\"#000000\" fill-rule=\"evenodd\" fill-opacity=\"1\" /><path clip-path=\"url(#clip000)\" d=\"M 0 0 M726.712 296.345 Q724.906 300.975 723.193 302.387 Q721.48 303.799 718.61 303.799 L715.207 303.799 L715.207 300.234 L717.707 300.234 Q719.467 300.234 720.439 299.4 Q721.411 298.567 722.592 295.465 L723.355 293.521 L712.869 268.012 L717.383 268.012 L725.485 288.289 L733.587 268.012 L738.101 268.012 L726.712 296.345 Z\" fill=\"#000000\" fill-rule=\"evenodd\" fill-opacity=\"1\" /><path clip-path=\"url(#clip000)\" d=\"M 0 0 M764.119 278.289 L764.119 293.938 L759.86 293.938 L759.86 278.428 Q759.86 274.748 758.425 272.919 Q756.989 271.09 754.119 271.09 Q750.67 271.09 748.679 273.29 Q746.689 275.489 746.689 279.285 L746.689 293.938 L742.406 293.938 L742.406 268.012 L746.689 268.012 L746.689 272.04 Q748.216 269.702 750.277 268.544 Q752.36 267.387 755.068 267.387 Q759.536 267.387 761.827 270.165 Q764.119 272.919 764.119 278.289 Z\" fill=\"#000000\" fill-rule=\"evenodd\" fill-opacity=\"1\" /><path clip-path=\"url(#clip000)\" d=\"M 0 0 M778.633 270.998 Q775.207 270.998 773.216 273.683 Q771.226 276.345 771.226 280.998 Q771.226 285.651 773.193 288.336 Q775.184 290.998 778.633 290.998 Q782.036 290.998 784.026 288.313 Q786.017 285.627 786.017 280.998 Q786.017 276.391 784.026 273.706 Q782.036 270.998 778.633 270.998 M778.633 267.387 Q784.188 267.387 787.36 270.998 Q790.531 274.609 790.531 280.998 Q790.531 287.364 787.36 290.998 Q784.188 294.609 778.633 294.609 Q773.054 294.609 769.883 290.998 Q766.735 287.364 766.735 280.998 Q766.735 274.609 769.883 270.998 Q773.054 267.387 778.633 267.387 Z\" fill=\"#000000\" fill-rule=\"evenodd\" fill-opacity=\"1\" /><path clip-path=\"url(#clip000)\" d=\"M 0 0 M815.184 272.989 Q816.781 270.118 819.003 268.753 Q821.225 267.387 824.235 267.387 Q828.285 267.387 830.484 270.234 Q832.684 273.058 832.684 278.289 L832.684 293.938 L828.401 293.938 L828.401 278.428 Q828.401 274.702 827.082 272.896 Q825.762 271.09 823.054 271.09 Q819.744 271.09 817.822 273.29 Q815.901 275.489 815.901 279.285 L815.901 293.938 L811.619 293.938 L811.619 278.428 Q811.619 274.678 810.299 272.896 Q808.98 271.09 806.225 271.09 Q802.961 271.09 801.04 273.313 Q799.119 275.512 799.119 279.285 L799.119 293.938 L794.837 293.938 L794.837 268.012 L799.119 268.012 L799.119 272.04 Q800.577 269.655 802.614 268.521 Q804.651 267.387 807.452 267.387 Q810.276 267.387 812.244 268.822 Q814.235 270.257 815.184 272.989 Z\" fill=\"#000000\" fill-rule=\"evenodd\" fill-opacity=\"1\" /><path clip-path=\"url(#clip000)\" d=\"M 0 0 M837.151 268.012 L841.41 268.012 L841.41 293.938 L837.151 293.938 L837.151 268.012 M837.151 257.919 L841.41 257.919 L841.41 263.313 L837.151 263.313 L837.151 257.919 Z\" fill=\"#000000\" fill-rule=\"evenodd\" fill-opacity=\"1\" /><path clip-path=\"url(#clip000)\" d=\"M 0 0 M857.66 280.905 Q852.498 280.905 850.508 282.086 Q848.517 283.266 848.517 286.114 Q848.517 288.382 849.998 289.725 Q851.503 291.044 854.072 291.044 Q857.614 291.044 859.744 288.544 Q861.896 286.021 861.896 281.854 L861.896 280.905 L857.66 280.905 M866.156 279.146 L866.156 293.938 L861.896 293.938 L861.896 290.002 Q860.438 292.363 858.262 293.498 Q856.086 294.609 852.938 294.609 Q848.957 294.609 846.595 292.387 Q844.258 290.141 844.258 286.391 Q844.258 282.016 847.174 279.794 Q850.114 277.572 855.924 277.572 L861.896 277.572 L861.896 277.155 Q861.896 274.215 859.952 272.618 Q858.031 270.998 854.535 270.998 Q852.313 270.998 850.207 271.53 Q848.1 272.063 846.156 273.127 L846.156 269.192 Q848.494 268.29 850.693 267.85 Q852.892 267.387 854.975 267.387 Q860.6 267.387 863.378 270.303 Q866.156 273.22 866.156 279.146 Z\" fill=\"#000000\" fill-rule=\"evenodd\" fill-opacity=\"1\" /><path clip-path=\"url(#clip000)\" d=\"M 0 0 M870.623 257.919 L874.882 257.919 L874.882 293.938 L870.623 293.938 L870.623 257.919 Z\" fill=\"#000000\" fill-rule=\"evenodd\" fill-opacity=\"1\" /></svg>\n"
      ]
     },
     "execution_count": 61,
     "metadata": {},
     "output_type": "execute_result"
    }
   ],
   "source": [
    "@teval (:block, \n",
    "    (:using, (:., :Plots)), \n",
    "    (:(=), :n, 20), \n",
    "    (:(=), :x, (:range, (:parameters, (:kw, :length, 20)), (:-, :π), :π)), \n",
    "    (:(=), :noise, (:*, 0.3, (:randn, :n))), \n",
    "    (:(=), :y, (:+, (:., :sin, (:tuple, :x)), :noise)), \n",
    "    (:(=), :X, \n",
    "        (:hcat, (:..., (:generator, (:call, :.^, :x, :k), (:(=), :k, (:(:), 0, 3)))))), \n",
    "    (:(=), :b, (:\\, :X, :y)), \n",
    "    (:(=), (:call, :f, :x), \n",
    "        (:sum, (:generator, (:*, (:ref, :b, (:+, :k, 1)), (:^, :x, :k)), \n",
    "            (:(=), :k, (:(:), 0, 3))))), \n",
    "    (:(=), :xs, (:range, (:parameters, (:kw, :length, 400)), (:-, :π), :π)), \n",
    "    (:plot, (:parameters, (:kw, :legend, QuoteNode(:topleft)))), \n",
    "    (:scatter!, (:parameters, (:kw, :label, \"sample\")), :x, :y), \n",
    "    (:plot!, (:parameters, \n",
    "            (:kw, :label, \"sin(x)\"), \n",
    "            (:kw, :color, QuoteNode(:blue)), \n",
    "            (:kw, :ls, QuoteNode(:dash))), \n",
    "        :xs, (:., :sin, (:tuple, :xs))), \n",
    "    (:plot!, (:parameters, \n",
    "            (:kw, :label, \"degree-3 polynomial\"), \n",
    "            (:kw, :color, QuoteNode(:red)), \n",
    "            (:kw, :lw, 2)), \n",
    "        :xs, (:., :f, (:tuple, :xs))))"
   ]
  },
  {
   "cell_type": "code",
   "execution_count": 62,
   "metadata": {},
   "outputs": [
    {
     "data": {
      "text/markdown": [
       "```julia\n",
       "begin\n",
       "    using Plots\n",
       "    n = 20\n",
       "    x = range(-π, π; length = 20)\n",
       "    noise = 0.3 * randn(n)\n",
       "    y = sin.(x) + noise\n",
       "    X = hcat((x .^ k for k = 0:3)...)\n",
       "    b = X \\ y\n",
       "    f(x) = sum((b[k + 1] * x ^ k for k = 0:3))\n",
       "    xs = range(-π, π; length = 400)\n",
       "    plot(; legend = :topleft)\n",
       "    scatter!(x, y; label = \"sample\")\n",
       "    plot!(xs, sin.(xs); label = \"sin(x)\", color = :blue, ls = :dash)\n",
       "    plot!(xs, f.(xs); label = \"degree-3 polynomial\", color = :red, lw = 2)\n",
       "end\n",
       "```"
      ]
     },
     "metadata": {},
     "output_type": "display_data"
    }
   ],
   "source": [
    "(:block, \n",
    "    (:using, (:., :Plots)), \n",
    "    (:(=), :n, 20), \n",
    "    (:(=), :x, (:range, (:parameters, (:kw, :length, 20)), (:-, :π), :π)), \n",
    "    (:(=), :noise, (:*, 0.3, (:randn, :n))), \n",
    "    (:(=), :y, (:+, (:., :sin, (:tuple, :x)), :noise)), \n",
    "    (:(=), :X, \n",
    "        (:hcat, (:..., (:generator, (:call, :.^, :x, :k), (:(=), :k, (:(:), 0, 3)))))), \n",
    "    (:(=), :b, (:\\, :X, :y)), \n",
    "    (:(=), (:call, :f, :x), \n",
    "        (:sum, (:generator, (:*, (:ref, :b, (:+, :k, 1)), (:^, :x, :k)), \n",
    "            (:(=), :k, (:(:), 0, 3))))), \n",
    "    (:(=), :xs, (:range, (:parameters, (:kw, :length, 400)), (:-, :π), :π)), \n",
    "    (:plot, (:parameters, (:kw, :legend, QuoteNode(:topleft)))), \n",
    "    (:scatter!, (:parameters, (:kw, :label, \"sample\")), :x, :y), \n",
    "    (:plot!, (:parameters, \n",
    "            (:kw, :label, \"sin(x)\"), \n",
    "            (:kw, :color, QuoteNode(:blue)), \n",
    "            (:kw, :ls, QuoteNode(:dash))), \n",
    "        :xs, (:., :sin, (:tuple, :xs))), \n",
    "    (:plot!, (:parameters, \n",
    "            (:kw, :label, \"degree-3 polynomial\"), \n",
    "            (:kw, :color, QuoteNode(:red)), \n",
    "            (:kw, :lw, 2)), \n",
    "        :xs, (:., :f, (:tuple, :xs)))) |> texpr2expr |> \n",
    "x -> display(\"text/markdown\", \"```julia\\n$x\\n```\")"
   ]
  },
  {
   "cell_type": "markdown",
   "metadata": {},
   "source": [
    "## Documents"
   ]
  },
  {
   "cell_type": "code",
   "execution_count": 63,
   "metadata": {},
   "outputs": [
    {
     "data": {
      "text/latex": [
       "\\begin{verbatim}\n",
       "MetaUtils\n",
       "\\end{verbatim}\n",
       "contains utilities for metaprogramming in Julia.\n",
       "\n",
       "\\begin{verbatim}\n",
       "export @show_sexpr, \n",
       "    @show_tree, \n",
       "    print_subtypes, \n",
       "    show_expr, @show_expr, \n",
       "    show_texpr, @show_texpr, \n",
       "    texpr2expr, teval, @teval\n",
       "\\end{verbatim}\n"
      ],
      "text/markdown": [
       "```\n",
       "MetaUtils\n",
       "```\n",
       "\n",
       "contains utilities for metaprogramming in Julia.\n",
       "\n",
       "```julia\n",
       "export @show_sexpr, \n",
       "    @show_tree, \n",
       "    print_subtypes, \n",
       "    show_expr, @show_expr, \n",
       "    show_texpr, @show_texpr, \n",
       "    texpr2expr, teval, @teval\n",
       "```\n"
      ],
      "text/plain": [
       "\u001b[36m  MetaUtils\u001b[39m\n",
       "\n",
       "  contains utilities for metaprogramming in Julia.\n",
       "\n",
       "\u001b[36m  export @show_sexpr, \u001b[39m\n",
       "\u001b[36m      @show_tree, \u001b[39m\n",
       "\u001b[36m      print_subtypes, \u001b[39m\n",
       "\u001b[36m      show_expr, @show_expr, \u001b[39m\n",
       "\u001b[36m      show_texpr, @show_texpr, \u001b[39m\n",
       "\u001b[36m      texpr2expr, teval, @teval\u001b[39m"
      ]
     },
     "execution_count": 63,
     "metadata": {},
     "output_type": "execute_result"
    }
   ],
   "source": [
    "@doc MetaUtils"
   ]
  },
  {
   "cell_type": "code",
   "execution_count": 64,
   "metadata": {},
   "outputs": [
    {
     "data": {
      "text/latex": [
       "\\begin{verbatim}\n",
       "@show_sexpr(expr, linenums=false)\n",
       "\\end{verbatim}\n",
       "shows the lisp style S-expression of \\texttt{expr} and prints the line number nodes if \\texttt{linenums} is true.  This is the macro version of \\texttt{Meta.show\\_sexpr}.\n",
       "\n",
       "\\subsection{Example}\n",
       "\\begin{verbatim}\n",
       "julia> @show_sexpr 2x+1\n",
       "(:call, :+, (:call, :*, 2, :x), 1)\n",
       "\\end{verbatim}\n",
       "\\texttt{teval} function can evaluate the output of \\texttt{@show\\_sexpr}. \n",
       "\n",
       "\\begin{verbatim}\n",
       "julia> x = 10; (:call, :+, (:call, :*, 2, :x), 1) |> teval\n",
       "21\n",
       "\\end{verbatim}\n"
      ],
      "text/markdown": [
       "```\n",
       "@show_sexpr(expr, linenums=false)\n",
       "```\n",
       "\n",
       "shows the lisp style S-expression of `expr` and prints the line number nodes if `linenums` is true.  This is the macro version of `Meta.show_sexpr`.\n",
       "\n",
       "## Example\n",
       "\n",
       "```julia\n",
       "julia> @show_sexpr 2x+1\n",
       "(:call, :+, (:call, :*, 2, :x), 1)\n",
       "```\n",
       "\n",
       "`teval` function can evaluate the output of `@show_sexpr`. \n",
       "\n",
       "```julia\n",
       "julia> x = 10; (:call, :+, (:call, :*, 2, :x), 1) |> teval\n",
       "21\n",
       "```\n"
      ],
      "text/plain": [
       "\u001b[36m  @show_sexpr(expr, linenums=false)\u001b[39m\n",
       "\n",
       "  shows the lisp style S-expression of \u001b[36mexpr\u001b[39m and prints the line number nodes\n",
       "  if \u001b[36mlinenums\u001b[39m is true. This is the macro version of \u001b[36mMeta.show_sexpr\u001b[39m.\n",
       "\n",
       "\u001b[1m  Example\u001b[22m\n",
       "\u001b[1m  =========\u001b[22m\n",
       "\n",
       "\u001b[36m  julia> @show_sexpr 2x+1\u001b[39m\n",
       "\u001b[36m  (:call, :+, (:call, :*, 2, :x), 1)\u001b[39m\n",
       "\n",
       "  \u001b[36mteval\u001b[39m function can evaluate the output of \u001b[36m@show_sexpr\u001b[39m.\n",
       "\n",
       "\u001b[36m  julia> x = 10; (:call, :+, (:call, :*, 2, :x), 1) |> teval\u001b[39m\n",
       "\u001b[36m  21\u001b[39m"
      ]
     },
     "execution_count": 64,
     "metadata": {},
     "output_type": "execute_result"
    }
   ],
   "source": [
    "@doc @show_sexpr"
   ]
  },
  {
   "cell_type": "code",
   "execution_count": 65,
   "metadata": {},
   "outputs": [
    {
     "data": {
      "text/latex": [
       "\\begin{verbatim}\n",
       "@show_tree(expr, maxdepth=10, linenums=false)\n",
       "\\end{verbatim}\n",
       "shows the tree form of the expression \\texttt{expr} with maxdepth and prints the line number nodes if \\texttt{linenums} is true.\n",
       "\n",
       "\\subsection{Example}\n",
       "\\begin{verbatim}\n",
       "julia> @show_tree 2x+1\n",
       ":call\n",
       "├─ :+\n",
       "├─ :call\n",
       "│  ├─ :*\n",
       "│  ├─ 2\n",
       "│  └─ :x\n",
       "└─ 1\n",
       "\\end{verbatim}\n"
      ],
      "text/markdown": [
       "```\n",
       "@show_tree(expr, maxdepth=10, linenums=false)\n",
       "```\n",
       "\n",
       "shows the tree form of the expression `expr` with maxdepth and prints the line number nodes if `linenums` is true.\n",
       "\n",
       "## Example\n",
       "\n",
       "```julia\n",
       "julia> @show_tree 2x+1\n",
       ":call\n",
       "├─ :+\n",
       "├─ :call\n",
       "│  ├─ :*\n",
       "│  ├─ 2\n",
       "│  └─ :x\n",
       "└─ 1\n",
       "```\n"
      ],
      "text/plain": [
       "\u001b[36m  @show_tree(expr, maxdepth=10, linenums=false)\u001b[39m\n",
       "\n",
       "  shows the tree form of the expression \u001b[36mexpr\u001b[39m with maxdepth and prints the line\n",
       "  number nodes if \u001b[36mlinenums\u001b[39m is true.\n",
       "\n",
       "\u001b[1m  Example\u001b[22m\n",
       "\u001b[1m  =========\u001b[22m\n",
       "\n",
       "\u001b[36m  julia> @show_tree 2x+1\u001b[39m\n",
       "\u001b[36m  :call\u001b[39m\n",
       "\u001b[36m  ├─ :+\u001b[39m\n",
       "\u001b[36m  ├─ :call\u001b[39m\n",
       "\u001b[36m  │  ├─ :*\u001b[39m\n",
       "\u001b[36m  │  ├─ 2\u001b[39m\n",
       "\u001b[36m  │  └─ :x\u001b[39m\n",
       "\u001b[36m  └─ 1\u001b[39m"
      ]
     },
     "execution_count": 65,
     "metadata": {},
     "output_type": "execute_result"
    }
   ],
   "source": [
    "@doc @show_tree"
   ]
  },
  {
   "cell_type": "code",
   "execution_count": 66,
   "metadata": {},
   "outputs": [
    {
     "data": {
      "text/latex": [
       "\\begin{verbatim}\n",
       "print_subtypes(T::Type; kwargs...)\n",
       "print_subtypes(io::IO, T::Type; kwargs...)\n",
       "print_subtypes(f, io::IO, T::Type; kwargs...)\n",
       "\\end{verbatim}\n",
       "prints the subtypes of \\texttt{T} by \\texttt{AbstractTrees.print\\_tree}.\n",
       "\n",
       "\\subsection{Example}\n",
       "\\begin{verbatim}\n",
       "julia> print_subtypes(AbstractRange)\n",
       "AbstractRange\n",
       "├─ LinRange\n",
       "├─ OrdinalRange\n",
       "│  ├─ AbstractUnitRange\n",
       "│  │  ├─ IdentityUnitRange\n",
       "│  │  ├─ OneTo\n",
       "│  │  ├─ Slice\n",
       "│  │  └─ UnitRange\n",
       "│  └─ StepRange\n",
       "└─ StepRangeLen\n",
       "\\end{verbatim}\n"
      ],
      "text/markdown": [
       "```\n",
       "print_subtypes(T::Type; kwargs...)\n",
       "print_subtypes(io::IO, T::Type; kwargs...)\n",
       "print_subtypes(f, io::IO, T::Type; kwargs...)\n",
       "```\n",
       "\n",
       "prints the subtypes of `T` by `AbstractTrees.print_tree`.\n",
       "\n",
       "## Example\n",
       "\n",
       "```julia\n",
       "julia> print_subtypes(AbstractRange)\n",
       "AbstractRange\n",
       "├─ LinRange\n",
       "├─ OrdinalRange\n",
       "│  ├─ AbstractUnitRange\n",
       "│  │  ├─ IdentityUnitRange\n",
       "│  │  ├─ OneTo\n",
       "│  │  ├─ Slice\n",
       "│  │  └─ UnitRange\n",
       "│  └─ StepRange\n",
       "└─ StepRangeLen\n",
       "```\n"
      ],
      "text/plain": [
       "\u001b[36m  print_subtypes(T::Type; kwargs...)\u001b[39m\n",
       "\u001b[36m  print_subtypes(io::IO, T::Type; kwargs...)\u001b[39m\n",
       "\u001b[36m  print_subtypes(f, io::IO, T::Type; kwargs...)\u001b[39m\n",
       "\n",
       "  prints the subtypes of \u001b[36mT\u001b[39m by \u001b[36mAbstractTrees.print_tree\u001b[39m.\n",
       "\n",
       "\u001b[1m  Example\u001b[22m\n",
       "\u001b[1m  =========\u001b[22m\n",
       "\n",
       "\u001b[36m  julia> print_subtypes(AbstractRange)\u001b[39m\n",
       "\u001b[36m  AbstractRange\u001b[39m\n",
       "\u001b[36m  ├─ LinRange\u001b[39m\n",
       "\u001b[36m  ├─ OrdinalRange\u001b[39m\n",
       "\u001b[36m  │  ├─ AbstractUnitRange\u001b[39m\n",
       "\u001b[36m  │  │  ├─ IdentityUnitRange\u001b[39m\n",
       "\u001b[36m  │  │  ├─ OneTo\u001b[39m\n",
       "\u001b[36m  │  │  ├─ Slice\u001b[39m\n",
       "\u001b[36m  │  │  └─ UnitRange\u001b[39m\n",
       "\u001b[36m  │  └─ StepRange\u001b[39m\n",
       "\u001b[36m  └─ StepRangeLen\u001b[39m"
      ]
     },
     "execution_count": 66,
     "metadata": {},
     "output_type": "execute_result"
    }
   ],
   "source": [
    "@doc print_subtypes"
   ]
  },
  {
   "cell_type": "code",
   "execution_count": 67,
   "metadata": {},
   "outputs": [
    {
     "data": {
      "text/latex": [
       "\\begin{verbatim}\n",
       "show_expr([io::IO,], ex)\n",
       "\\end{verbatim}\n",
       "shows expression \\texttt{ex} as a Julia style expression.\n",
       "\n",
       "\\section{Examples}\n",
       "\\begin{verbatim}\n",
       "julia> show_expr(:(f(x, g(y, z))))\n",
       "Expr(:call, :f, :x, \n",
       "    Expr(:call, :g, :y, :z))\n",
       "\\end{verbatim}\n"
      ],
      "text/markdown": [
       "```\n",
       "show_expr([io::IO,], ex)\n",
       "```\n",
       "\n",
       "shows expression `ex` as a Julia style expression.\n",
       "\n",
       "# Examples\n",
       "\n",
       "```julia\n",
       "julia> show_expr(:(f(x, g(y, z))))\n",
       "Expr(:call, :f, :x, \n",
       "    Expr(:call, :g, :y, :z))\n",
       "```\n"
      ],
      "text/plain": [
       "\u001b[36m  show_expr([io::IO,], ex)\u001b[39m\n",
       "\n",
       "  shows expression \u001b[36mex\u001b[39m as a Julia style expression.\n",
       "\n",
       "\u001b[1m  Examples\u001b[22m\n",
       "\u001b[1m  ≡≡≡≡≡≡≡≡≡≡\u001b[22m\n",
       "\n",
       "\u001b[36m  julia> show_expr(:(f(x, g(y, z))))\u001b[39m\n",
       "\u001b[36m  Expr(:call, :f, :x, \u001b[39m\n",
       "\u001b[36m      Expr(:call, :g, :y, :z))\u001b[39m"
      ]
     },
     "execution_count": 67,
     "metadata": {},
     "output_type": "execute_result"
    }
   ],
   "source": [
    "@doc show_expr"
   ]
  },
  {
   "cell_type": "code",
   "execution_count": 68,
   "metadata": {},
   "outputs": [
    {
     "data": {
      "text/latex": [
       "\\begin{verbatim}\n",
       "@show_expr(expr, linenums=false)\n",
       "\\end{verbatim}\n",
       "shows the Juia style expression of \\texttt{expr} and prints the line number nodes if \\texttt{linenums} is true.  This is the macro version of \\texttt{show\\_expr}.\n",
       "\n",
       "\\subsection{Example}\n",
       "\\begin{verbatim}\n",
       "julia> @show_expr 2x+1\n",
       "Expr(:call, :+, \n",
       "    Expr(:call, :*, 2, :x), 1)\n",
       "\\end{verbatim}\n",
       "\\texttt{eval} function can evaluate the output of \\texttt{@show\\_expr}. \n",
       "\n",
       "\\begin{verbatim}\n",
       "julia> x = 10; Expr(:call, :+, \n",
       "    Expr(:call, :*, 2, :x), 1) |> eval\n",
       "21\n",
       "\\end{verbatim}\n"
      ],
      "text/markdown": [
       "```\n",
       "@show_expr(expr, linenums=false)\n",
       "```\n",
       "\n",
       "shows the Juia style expression of `expr` and prints the line number nodes if `linenums` is true.  This is the macro version of `show_expr`.\n",
       "\n",
       "## Example\n",
       "\n",
       "```julia\n",
       "julia> @show_expr 2x+1\n",
       "Expr(:call, :+, \n",
       "    Expr(:call, :*, 2, :x), 1)\n",
       "```\n",
       "\n",
       "`eval` function can evaluate the output of `@show_expr`. \n",
       "\n",
       "```julia\n",
       "julia> x = 10; Expr(:call, :+, \n",
       "    Expr(:call, :*, 2, :x), 1) |> eval\n",
       "21\n",
       "```\n"
      ],
      "text/plain": [
       "\u001b[36m  @show_expr(expr, linenums=false)\u001b[39m\n",
       "\n",
       "  shows the Juia style expression of \u001b[36mexpr\u001b[39m and prints the line number nodes if\n",
       "  \u001b[36mlinenums\u001b[39m is true. This is the macro version of \u001b[36mshow_expr\u001b[39m.\n",
       "\n",
       "\u001b[1m  Example\u001b[22m\n",
       "\u001b[1m  =========\u001b[22m\n",
       "\n",
       "\u001b[36m  julia> @show_expr 2x+1\u001b[39m\n",
       "\u001b[36m  Expr(:call, :+, \u001b[39m\n",
       "\u001b[36m      Expr(:call, :*, 2, :x), 1)\u001b[39m\n",
       "\n",
       "  \u001b[36meval\u001b[39m function can evaluate the output of \u001b[36m@show_expr\u001b[39m.\n",
       "\n",
       "\u001b[36m  julia> x = 10; Expr(:call, :+, \u001b[39m\n",
       "\u001b[36m      Expr(:call, :*, 2, :x), 1) |> eval\u001b[39m\n",
       "\u001b[36m  21\u001b[39m"
      ]
     },
     "execution_count": 68,
     "metadata": {},
     "output_type": "execute_result"
    }
   ],
   "source": [
    "@doc @show_expr"
   ]
  },
  {
   "cell_type": "code",
   "execution_count": 69,
   "metadata": {},
   "outputs": [
    {
     "data": {
      "text/latex": [
       "\\begin{verbatim}\n",
       "show_texpr([io::IO,], ex)\n",
       "\\end{verbatim}\n",
       "Yet another \\texttt{Meta.show\\_sexpr}.  It shows expression \\texttt{ex} as a lisp style expression.\n",
       "\n",
       "Remark: The indentation is different from \\texttt{Meta.show\\_sexpr}.\n",
       "\n",
       "\\section{Examples}\n",
       "\\begin{verbatim}\n",
       "julia> show_texpr(:(f(x, g(y, z))))\n",
       "Expr(:call, :f, :x, \n",
       "    Expr(:call, :g, :y, :z))\n",
       "\\end{verbatim}\n"
      ],
      "text/markdown": [
       "```\n",
       "show_texpr([io::IO,], ex)\n",
       "```\n",
       "\n",
       "Yet another `Meta.show_sexpr`.  It shows expression `ex` as a lisp style expression.\n",
       "\n",
       "Remark: The indentation is different from `Meta.show_sexpr`.\n",
       "\n",
       "# Examples\n",
       "\n",
       "```julia\n",
       "julia> show_texpr(:(f(x, g(y, z))))\n",
       "Expr(:call, :f, :x, \n",
       "    Expr(:call, :g, :y, :z))\n",
       "```\n"
      ],
      "text/plain": [
       "\u001b[36m  show_texpr([io::IO,], ex)\u001b[39m\n",
       "\n",
       "  Yet another \u001b[36mMeta.show_sexpr\u001b[39m. It shows expression \u001b[36mex\u001b[39m as a lisp style\n",
       "  expression.\n",
       "\n",
       "  Remark: The indentation is different from \u001b[36mMeta.show_sexpr\u001b[39m.\n",
       "\n",
       "\u001b[1m  Examples\u001b[22m\n",
       "\u001b[1m  ≡≡≡≡≡≡≡≡≡≡\u001b[22m\n",
       "\n",
       "\u001b[36m  julia> show_texpr(:(f(x, g(y, z))))\u001b[39m\n",
       "\u001b[36m  Expr(:call, :f, :x, \u001b[39m\n",
       "\u001b[36m      Expr(:call, :g, :y, :z))\u001b[39m"
      ]
     },
     "execution_count": 69,
     "metadata": {},
     "output_type": "execute_result"
    }
   ],
   "source": [
    "@doc show_texpr"
   ]
  },
  {
   "cell_type": "code",
   "execution_count": 70,
   "metadata": {},
   "outputs": [
    {
     "data": {
      "text/latex": [
       "\\begin{verbatim}\n",
       "@show_texpr(expr, linenums=false)\n",
       "\\end{verbatim}\n",
       "Yet another \\texttt{@show\\_sexpr}.  It shows the lisp style S-expression of \\texttt{expr} and prints the line number nodes if \\texttt{linenums} is true.\n",
       "\n",
       "Remark: The indentation is different from \\texttt{@show\\_sexpr}.\n",
       "\n",
       "\\subsection{Example}\n",
       "\\begin{verbatim}\n",
       "julia> @show_texpr 2x+1\n",
       "(:call, :+, \n",
       "    (:call, :*, 2, :x), 1)\n",
       "\\end{verbatim}\n",
       "\\texttt{teval} function can evaluate the output of \\texttt{@show\\_texpr}.\n",
       "\n",
       "\\begin{verbatim}\n",
       "julia> x = 10; (:call, :+, \n",
       "    (:call, :*, 2, :x), 1) |> teval\n",
       "21\n",
       "\\end{verbatim}\n"
      ],
      "text/markdown": [
       "```\n",
       "@show_texpr(expr, linenums=false)\n",
       "```\n",
       "\n",
       "Yet another `@show_sexpr`.  It shows the lisp style S-expression of `expr` and prints the line number nodes if `linenums` is true.\n",
       "\n",
       "Remark: The indentation is different from `@show_sexpr`.\n",
       "\n",
       "## Example\n",
       "\n",
       "```julia\n",
       "julia> @show_texpr 2x+1\n",
       "(:call, :+, \n",
       "    (:call, :*, 2, :x), 1)\n",
       "```\n",
       "\n",
       "`teval` function can evaluate the output of `@show_texpr`.\n",
       "\n",
       "```julia\n",
       "julia> x = 10; (:call, :+, \n",
       "    (:call, :*, 2, :x), 1) |> teval\n",
       "21\n",
       "```\n"
      ],
      "text/plain": [
       "\u001b[36m  @show_texpr(expr, linenums=false)\u001b[39m\n",
       "\n",
       "  Yet another \u001b[36m@show_sexpr\u001b[39m. It shows the lisp style S-expression of \u001b[36mexpr\u001b[39m and\n",
       "  prints the line number nodes if \u001b[36mlinenums\u001b[39m is true.\n",
       "\n",
       "  Remark: The indentation is different from \u001b[36m@show_sexpr\u001b[39m.\n",
       "\n",
       "\u001b[1m  Example\u001b[22m\n",
       "\u001b[1m  =========\u001b[22m\n",
       "\n",
       "\u001b[36m  julia> @show_texpr 2x+1\u001b[39m\n",
       "\u001b[36m  (:call, :+, \u001b[39m\n",
       "\u001b[36m      (:call, :*, 2, :x), 1)\u001b[39m\n",
       "\n",
       "  \u001b[36mteval\u001b[39m function can evaluate the output of \u001b[36m@show_texpr\u001b[39m.\n",
       "\n",
       "\u001b[36m  julia> x = 10; (:call, :+, \u001b[39m\n",
       "\u001b[36m      (:call, :*, 2, :x), 1) |> teval\u001b[39m\n",
       "\u001b[36m  21\u001b[39m"
      ]
     },
     "execution_count": 70,
     "metadata": {},
     "output_type": "execute_result"
    }
   ],
   "source": [
    "@doc @show_texpr"
   ]
  },
  {
   "cell_type": "code",
   "execution_count": 71,
   "metadata": {},
   "outputs": [
    {
     "data": {
      "text/latex": [
       "\\begin{verbatim}\n",
       "teval(texpr, m::Module=Main)\n",
       "\\end{verbatim}\n",
       "evaluates the lisp-like tuple expression \\texttt{texpr}.\n",
       "\n",
       "Example: Calculation of \\texttt{sin(π/6)}\n",
       "\n",
       "\\begin{verbatim}\n",
       "julia> (:call, :sin, (:call, :/, π, 6)) |> teval\n",
       "0.49999999999999994\n",
       "\\end{verbatim}\n",
       "In some cases, you can omit \\texttt{:call}.\n",
       "\n",
       "\\begin{verbatim}\n",
       "julia> (:sin, (:/, π, 6)) |> teval\n",
       "0.49999999999999994\n",
       "\\end{verbatim}\n"
      ],
      "text/markdown": [
       "```\n",
       "teval(texpr, m::Module=Main)\n",
       "```\n",
       "\n",
       "evaluates the lisp-like tuple expression `texpr`.\n",
       "\n",
       "Example: Calculation of `sin(π/6)`\n",
       "\n",
       "```julia\n",
       "julia> (:call, :sin, (:call, :/, π, 6)) |> teval\n",
       "0.49999999999999994\n",
       "```\n",
       "\n",
       "In some cases, you can omit `:call`.\n",
       "\n",
       "```julia\n",
       "julia> (:sin, (:/, π, 6)) |> teval\n",
       "0.49999999999999994\n",
       "```\n"
      ],
      "text/plain": [
       "\u001b[36m  teval(texpr, m::Module=Main)\u001b[39m\n",
       "\n",
       "  evaluates the lisp-like tuple expression \u001b[36mtexpr\u001b[39m.\n",
       "\n",
       "  Example: Calculation of \u001b[36msin(π/6)\u001b[39m\n",
       "\n",
       "\u001b[36m  julia> (:call, :sin, (:call, :/, π, 6)) |> teval\u001b[39m\n",
       "\u001b[36m  0.49999999999999994\u001b[39m\n",
       "\n",
       "  In some cases, you can omit \u001b[36m:call\u001b[39m.\n",
       "\n",
       "\u001b[36m  julia> (:sin, (:/, π, 6)) |> teval\u001b[39m\n",
       "\u001b[36m  0.49999999999999994\u001b[39m"
      ]
     },
     "execution_count": 71,
     "metadata": {},
     "output_type": "execute_result"
    }
   ],
   "source": [
    "@doc teval"
   ]
  },
  {
   "cell_type": "code",
   "execution_count": 72,
   "metadata": {},
   "outputs": [
    {
     "data": {
      "text/latex": [
       "\\begin{verbatim}\n",
       "@teval texpr\n",
       "\\end{verbatim}\n",
       "evaluates the lisp-like tuple expression \\texttt{texpr}.\n",
       "\n",
       "Example: Calculation of \\texttt{sin(π/6)}\n",
       "\n",
       "\\begin{verbatim}\n",
       "julia> @teval (:call, :sin, (:call, :/, π, 6))\n",
       "0.49999999999999994\n",
       "\\end{verbatim}\n",
       "In some cases, you can omit \\texttt{:call}.\n",
       "\n",
       "\\begin{verbatim}\n",
       "julia> @teval (:sin, (:/, π, 6))\n",
       "0.49999999999999994\n",
       "\\end{verbatim}\n"
      ],
      "text/markdown": [
       "```\n",
       "@teval texpr\n",
       "```\n",
       "\n",
       "evaluates the lisp-like tuple expression `texpr`.\n",
       "\n",
       "Example: Calculation of `sin(π/6)`\n",
       "\n",
       "```julia\n",
       "julia> @teval (:call, :sin, (:call, :/, π, 6))\n",
       "0.49999999999999994\n",
       "```\n",
       "\n",
       "In some cases, you can omit `:call`.\n",
       "\n",
       "```julia\n",
       "julia> @teval (:sin, (:/, π, 6))\n",
       "0.49999999999999994\n",
       "```\n"
      ],
      "text/plain": [
       "\u001b[36m  @teval texpr\u001b[39m\n",
       "\n",
       "  evaluates the lisp-like tuple expression \u001b[36mtexpr\u001b[39m.\n",
       "\n",
       "  Example: Calculation of \u001b[36msin(π/6)\u001b[39m\n",
       "\n",
       "\u001b[36m  julia> @teval (:call, :sin, (:call, :/, π, 6))\u001b[39m\n",
       "\u001b[36m  0.49999999999999994\u001b[39m\n",
       "\n",
       "  In some cases, you can omit \u001b[36m:call\u001b[39m.\n",
       "\n",
       "\u001b[36m  julia> @teval (:sin, (:/, π, 6))\u001b[39m\n",
       "\u001b[36m  0.49999999999999994\u001b[39m"
      ]
     },
     "execution_count": 72,
     "metadata": {},
     "output_type": "execute_result"
    }
   ],
   "source": [
    "@doc @teval"
   ]
  },
  {
   "cell_type": "code",
   "execution_count": 73,
   "metadata": {},
   "outputs": [
    {
     "data": {
      "text/latex": [
       "\\begin{verbatim}\n",
       "MetaUtils.@t texpr\n",
       "\\end{verbatim}\n",
       "shows the Julia expression and the value of the lisp-like tuple expression \\texttt{texpr}.\n",
       "\n",
       "Example:\n",
       "\n",
       "\\begin{verbatim}\n",
       "julia> MetaUtils.@t (:call, :sin, (:call, :/, π, 6))\n",
       ":(sin(π / 6))\n",
       "→ 0.49999999999999994\n",
       "\\end{verbatim}\n"
      ],
      "text/markdown": [
       "```\n",
       "MetaUtils.@t texpr\n",
       "```\n",
       "\n",
       "shows the Julia expression and the value of the lisp-like tuple expression `texpr`.\n",
       "\n",
       "Example:\n",
       "\n",
       "```julia\n",
       "julia> MetaUtils.@t (:call, :sin, (:call, :/, π, 6))\n",
       ":(sin(π / 6))\n",
       "→ 0.49999999999999994\n",
       "```\n"
      ],
      "text/plain": [
       "\u001b[36m  MetaUtils.@t texpr\u001b[39m\n",
       "\n",
       "  shows the Julia expression and the value of the lisp-like tuple expression\n",
       "  \u001b[36mtexpr\u001b[39m.\n",
       "\n",
       "  Example:\n",
       "\n",
       "\u001b[36m  julia> MetaUtils.@t (:call, :sin, (:call, :/, π, 6))\u001b[39m\n",
       "\u001b[36m  :(sin(π / 6))\u001b[39m\n",
       "\u001b[36m  → 0.49999999999999994\u001b[39m"
      ]
     },
     "execution_count": 73,
     "metadata": {},
     "output_type": "execute_result"
    }
   ],
   "source": [
    "@doc MetaUtils.@t"
   ]
  },
  {
   "cell_type": "code",
   "execution_count": 74,
   "metadata": {},
   "outputs": [
    {
     "data": {
      "text/latex": [
       "\\begin{verbatim}\n",
       "MetaUtils.@T texpr\n",
       "\\end{verbatim}\n",
       "shows \\texttt{show(texpr)}, \\texttt{show\\_texpr(texpr)}, the Julia expression, and the value of the lisp-like tuple expression \\texttt{texpr}.\n",
       "\n",
       "Example:\n",
       "\n",
       "\\begin{verbatim}\n",
       "julia> MetaUtils.@T (:call, :sin, (:call, :/, π, 6))\n",
       "(:call, :sin, (:call, :/, π, 6))\n",
       "→ (:call, :sin, \n",
       "    (:call, :/, π, 6))\n",
       "→ :(sin(π / 6))\n",
       "→ 0.49999999999999994\n",
       "\\end{verbatim}\n"
      ],
      "text/markdown": [
       "```\n",
       "MetaUtils.@T texpr\n",
       "```\n",
       "\n",
       "shows `show(texpr)`, `show_texpr(texpr)`, the Julia expression, and the value of the lisp-like tuple expression `texpr`.\n",
       "\n",
       "Example:\n",
       "\n",
       "```julia\n",
       "julia> MetaUtils.@T (:call, :sin, (:call, :/, π, 6))\n",
       "(:call, :sin, (:call, :/, π, 6))\n",
       "→ (:call, :sin, \n",
       "    (:call, :/, π, 6))\n",
       "→ :(sin(π / 6))\n",
       "→ 0.49999999999999994\n",
       "```\n"
      ],
      "text/plain": [
       "\u001b[36m  MetaUtils.@T texpr\u001b[39m\n",
       "\n",
       "  shows \u001b[36mshow(texpr)\u001b[39m, \u001b[36mshow_texpr(texpr)\u001b[39m, the Julia expression, and the value of\n",
       "  the lisp-like tuple expression \u001b[36mtexpr\u001b[39m.\n",
       "\n",
       "  Example:\n",
       "\n",
       "\u001b[36m  julia> MetaUtils.@T (:call, :sin, (:call, :/, π, 6))\u001b[39m\n",
       "\u001b[36m  (:call, :sin, (:call, :/, π, 6))\u001b[39m\n",
       "\u001b[36m  → (:call, :sin, \u001b[39m\n",
       "\u001b[36m      (:call, :/, π, 6))\u001b[39m\n",
       "\u001b[36m  → :(sin(π / 6))\u001b[39m\n",
       "\u001b[36m  → 0.49999999999999994\u001b[39m"
      ]
     },
     "execution_count": 74,
     "metadata": {},
     "output_type": "execute_result"
    }
   ],
   "source": [
    "@doc MetaUtils.@T"
   ]
  },
  {
   "cell_type": "code",
   "execution_count": null,
   "metadata": {},
   "outputs": [],
   "source": []
  }
 ],
 "metadata": {
  "@webio": {
   "lastCommId": null,
   "lastKernelId": null
  },
  "jupytext": {
   "formats": "ipynb,md"
  },
  "kernelspec": {
   "display_name": "Julia 1.7.0-DEV depwarn -O3",
   "language": "julia",
   "name": "julia-1.7-depwarn-o3"
  },
  "language_info": {
   "file_extension": ".jl",
   "mimetype": "application/julia",
   "name": "julia",
   "version": "1.7.0"
  },
  "toc": {
   "base_numbering": 1,
   "nav_menu": {},
   "number_sections": true,
   "sideBar": true,
   "skip_h1_title": true,
   "title_cell": "Table of Contents",
   "title_sidebar": "Contents",
   "toc_cell": true,
   "toc_position": {
    "height": "calc(100% - 180px)",
    "left": "10px",
    "top": "150px",
    "width": "250px"
   },
   "toc_section_display": true,
   "toc_window_display": false
  }
 },
 "nbformat": 4,
 "nbformat_minor": 4
}
