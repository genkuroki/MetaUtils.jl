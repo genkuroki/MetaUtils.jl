{
 "cells": [
  {
   "cell_type": "markdown",
   "metadata": {},
   "source": [
    "# MetaUtils\n",
    "\n",
    "* Author: Gen Kuroki\n",
    "* Date: 2020-10-11～2020-10-17\n",
    "* Repository: https://github.com/genkuroki/MetaUtils.jl\n",
    "* File: https://nbviewer.jupyter.org/github/genkuroki/MetaUtils.jl/blob/master/MetaUtils.ipynb"
   ]
  },
  {
   "cell_type": "markdown",
   "metadata": {
    "toc": true
   },
   "source": [
    "<h1>Table of Contents<span class=\"tocSkip\"></span></h1>\n",
    "<div class=\"toc\"><ul class=\"toc-item\"><li><span><a href=\"#Explanatory-examples\" data-toc-modified-id=\"Explanatory-examples-1\"><span class=\"toc-item-num\">1&nbsp;&nbsp;</span>Explanatory examples</a></span></li><li><span><a href=\"#Miscellaneous-examples-of-@show_texpr,-etc.\" data-toc-modified-id=\"Miscellaneous-examples-of-@show_texpr,-etc.-2\"><span class=\"toc-item-num\">2&nbsp;&nbsp;</span>Miscellaneous examples of @show_texpr, etc.</a></span><ul class=\"toc-item\"><li><span><a href=\"#for-loop\" data-toc-modified-id=\"for-loop-2.1\"><span class=\"toc-item-num\">2.1&nbsp;&nbsp;</span>for loop</a></span></li><li><span><a href=\"#type-trees\" data-toc-modified-id=\"type-trees-2.2\"><span class=\"toc-item-num\">2.2&nbsp;&nbsp;</span>type trees</a></span></li><li><span><a href=\"#function-definition\" data-toc-modified-id=\"function-definition-2.3\"><span class=\"toc-item-num\">2.3&nbsp;&nbsp;</span>function definition</a></span></li><li><span><a href=\"#macro-and-LineNumberNode\" data-toc-modified-id=\"macro-and-LineNumberNode-2.4\"><span class=\"toc-item-num\">2.4&nbsp;&nbsp;</span>macro and LineNumberNode</a></span></li><li><span><a href=\"#QuoteNode\" data-toc-modified-id=\"QuoteNode-2.5\"><span class=\"toc-item-num\">2.5&nbsp;&nbsp;</span>QuoteNode</a></span></li></ul></li><li><span><a href=\"#Evaluation-of-Lisp-like-tuple-expressions\" data-toc-modified-id=\"Evaluation-of-Lisp-like-tuple-expressions-3\"><span class=\"toc-item-num\">3&nbsp;&nbsp;</span>Evaluation of Lisp-like tuple expressions</a></span></li><li><span><a href=\"#Plot-example\" data-toc-modified-id=\"Plot-example-4\"><span class=\"toc-item-num\">4&nbsp;&nbsp;</span>Plot example</a></span></li><li><span><a href=\"#Documents\" data-toc-modified-id=\"Documents-5\"><span class=\"toc-item-num\">5&nbsp;&nbsp;</span>Documents</a></span></li></ul></div>"
   ]
  },
  {
   "cell_type": "code",
   "execution_count": 1,
   "metadata": {},
   "outputs": [
    {
     "name": "stderr",
     "output_type": "stream",
     "text": [
      "\u001b[32m\u001b[1m Activating\u001b[22m\u001b[39m environment at `C:\\Users\\genkuroki\\OneDrive\\work\\MetaUtils.jl\\Project.toml`\n"
     ]
    }
   ],
   "source": [
    "if isfile(\"Project.toml\")\n",
    "    using Pkg\n",
    "    Pkg.activate(\".\")\n",
    "    using Revise\n",
    "end"
   ]
  },
  {
   "cell_type": "code",
   "execution_count": 2,
   "metadata": {},
   "outputs": [],
   "source": [
    "using MetaUtils"
   ]
  },
  {
   "cell_type": "markdown",
   "metadata": {},
   "source": [
    "## Explanatory examples"
   ]
  },
  {
   "cell_type": "code",
   "execution_count": 3,
   "metadata": {},
   "outputs": [
    {
     "name": "stdout",
     "output_type": "stream",
     "text": [
      "(:call, :+, (:call, :*, 2, :x), 1)"
     ]
    }
   ],
   "source": [
    "@show_sexpr 2x+1"
   ]
  },
  {
   "cell_type": "code",
   "execution_count": 4,
   "metadata": {},
   "outputs": [
    {
     "data": {
      "text/plain": [
       "21"
      ]
     },
     "execution_count": 4,
     "metadata": {},
     "output_type": "execute_result"
    }
   ],
   "source": [
    "x = 10; (:call, :+, (:call, :*, 2, :x), 1) |> teval"
   ]
  },
  {
   "cell_type": "code",
   "execution_count": 5,
   "metadata": {},
   "outputs": [
    {
     "name": "stdout",
     "output_type": "stream",
     "text": [
      ":call\n",
      "├─ :+\n",
      "├─ :call\n",
      "│  ├─ :*\n",
      "│  ├─ 2\n",
      "│  └─ :x\n",
      "└─ 1\n"
     ]
    }
   ],
   "source": [
    "@show_tree 2x+1"
   ]
  },
  {
   "cell_type": "code",
   "execution_count": 6,
   "metadata": {},
   "outputs": [
    {
     "name": "stdout",
     "output_type": "stream",
     "text": [
      "AbstractRange\n",
      "├─ LinRange\n",
      "├─ OrdinalRange\n",
      "│  ├─ AbstractUnitRange\n",
      "│  │  ├─ IdentityUnitRange\n",
      "│  │  ├─ OneTo\n",
      "│  │  ├─ Slice\n",
      "│  │  └─ UnitRange\n",
      "│  └─ StepRange\n",
      "└─ StepRangeLen\n"
     ]
    }
   ],
   "source": [
    "print_tree(AbstractRange)"
   ]
  },
  {
   "cell_type": "code",
   "execution_count": 7,
   "metadata": {},
   "outputs": [
    {
     "name": "stdout",
     "output_type": "stream",
     "text": [
      "Expr(:call, :f, :x, \n",
      "    Expr(:call, :g, :y, :z))"
     ]
    }
   ],
   "source": [
    "show_expr(:(f(x, g(y, z))))"
   ]
  },
  {
   "cell_type": "code",
   "execution_count": 8,
   "metadata": {},
   "outputs": [
    {
     "name": "stdout",
     "output_type": "stream",
     "text": [
      "Expr(:call, :+, \n",
      "    Expr(:call, :*, 2, :x), 1)"
     ]
    }
   ],
   "source": [
    "@show_expr 2x+1"
   ]
  },
  {
   "cell_type": "code",
   "execution_count": 9,
   "metadata": {},
   "outputs": [
    {
     "data": {
      "text/plain": [
       "21"
      ]
     },
     "execution_count": 9,
     "metadata": {},
     "output_type": "execute_result"
    }
   ],
   "source": [
    "x = 10; Expr(:call, :+, \n",
    "    Expr(:call, :*, 2, :x), 1) |> eval"
   ]
  },
  {
   "cell_type": "code",
   "execution_count": 10,
   "metadata": {},
   "outputs": [
    {
     "name": "stdout",
     "output_type": "stream",
     "text": [
      "(:call, :f, :x, \n",
      "    (:call, :g, :y, :z))"
     ]
    }
   ],
   "source": [
    "show_texpr(:(f(x, g(y, z))))"
   ]
  },
  {
   "cell_type": "code",
   "execution_count": 11,
   "metadata": {},
   "outputs": [
    {
     "name": "stdout",
     "output_type": "stream",
     "text": [
      "(:call, :+, \n",
      "    (:call, :*, 2, :x), 1)"
     ]
    }
   ],
   "source": [
    "@show_texpr 2x+1"
   ]
  },
  {
   "cell_type": "code",
   "execution_count": 12,
   "metadata": {},
   "outputs": [
    {
     "data": {
      "text/plain": [
       "21"
      ]
     },
     "execution_count": 12,
     "metadata": {},
     "output_type": "execute_result"
    }
   ],
   "source": [
    "x = 10; (:call, :+, \n",
    "    (:call, :*, 2, :x), 1) |> teval"
   ]
  },
  {
   "cell_type": "code",
   "execution_count": 13,
   "metadata": {
    "scrolled": true
   },
   "outputs": [
    {
     "data": {
      "text/plain": [
       ":(sin(π / 6))"
      ]
     },
     "execution_count": 13,
     "metadata": {},
     "output_type": "execute_result"
    }
   ],
   "source": [
    "texpr2expr((:call, :sin, (:call, :/, π, 6)))"
   ]
  },
  {
   "cell_type": "code",
   "execution_count": 14,
   "metadata": {
    "scrolled": true
   },
   "outputs": [
    {
     "data": {
      "text/plain": [
       "0.49999999999999994"
      ]
     },
     "execution_count": 14,
     "metadata": {},
     "output_type": "execute_result"
    }
   ],
   "source": [
    "(:call, :sin, (:call, :/, π, 6)) |> teval"
   ]
  },
  {
   "cell_type": "code",
   "execution_count": 15,
   "metadata": {
    "scrolled": true
   },
   "outputs": [
    {
     "data": {
      "text/plain": [
       "0.49999999999999994"
      ]
     },
     "execution_count": 15,
     "metadata": {},
     "output_type": "execute_result"
    }
   ],
   "source": [
    "@teval (:call, :sin, (:call, :/, π, 6))"
   ]
  },
  {
   "cell_type": "code",
   "execution_count": 16,
   "metadata": {},
   "outputs": [
    {
     "name": "stdout",
     "output_type": "stream",
     "text": [
      ":(sin(π / 6))\n",
      "→ 0.49999999999999994\n"
     ]
    }
   ],
   "source": [
    "MetaUtils.@t (:call, :sin, (:call, :/, π, 6))"
   ]
  },
  {
   "cell_type": "code",
   "execution_count": 17,
   "metadata": {},
   "outputs": [
    {
     "name": "stdout",
     "output_type": "stream",
     "text": [
      "(:call, :sin, (:call, :/, π, 6))\n",
      "→ (:call, :sin, \n",
      "    (:call, :/, π, 6))\n",
      "→ :(sin(π / 6))\n",
      "→ 0.49999999999999994\n"
     ]
    }
   ],
   "source": [
    "MetaUtils.@T (:call, :sin, (:call, :/, π, 6))"
   ]
  },
  {
   "cell_type": "code",
   "execution_count": 18,
   "metadata": {
    "scrolled": true
   },
   "outputs": [
    {
     "data": {
      "text/plain": [
       "0.49999999999999994"
      ]
     },
     "execution_count": 18,
     "metadata": {},
     "output_type": "execute_result"
    }
   ],
   "source": [
    "(:sin, (:/, π, 6)) |> teval"
   ]
  },
  {
   "cell_type": "code",
   "execution_count": 19,
   "metadata": {
    "scrolled": true
   },
   "outputs": [
    {
     "data": {
      "text/plain": [
       "0.49999999999999994"
      ]
     },
     "execution_count": 19,
     "metadata": {},
     "output_type": "execute_result"
    }
   ],
   "source": [
    "@teval (:sin, (:/, π, 6))"
   ]
  },
  {
   "cell_type": "code",
   "execution_count": 20,
   "metadata": {},
   "outputs": [
    {
     "name": "stdout",
     "output_type": "stream",
     "text": [
      ":(sin(π / 6))\n",
      "→ 0.49999999999999994\n"
     ]
    }
   ],
   "source": [
    "MetaUtils.@t (:sin, (:/, π, 6))"
   ]
  },
  {
   "cell_type": "code",
   "execution_count": 21,
   "metadata": {},
   "outputs": [
    {
     "name": "stdout",
     "output_type": "stream",
     "text": [
      "(:sin, (:/, π, 6))\n",
      "→ (:call, :sin, \n",
      "    (:call, :/, π, 6))\n",
      "→ :(sin(π / 6))\n",
      "→ 0.49999999999999994\n"
     ]
    }
   ],
   "source": [
    "MetaUtils.@T (:sin, (:/, π, 6))"
   ]
  },
  {
   "cell_type": "markdown",
   "metadata": {},
   "source": [
    "## Miscellaneous examples of @show_texpr, etc."
   ]
  },
  {
   "cell_type": "markdown",
   "metadata": {},
   "source": [
    "### for loop"
   ]
  },
  {
   "cell_type": "code",
   "execution_count": 22,
   "metadata": {},
   "outputs": [
    {
     "name": "stdout",
     "output_type": "stream",
     "text": [
      "(:for, \n",
      "    (:(=), :k, \n",
      "        (:call, :(:), 1, 10)), \n",
      "    (:block, \n",
      "        (:(=), :x, \n",
      "            (:call, :÷, \n",
      "                (:call, :*, :k, \n",
      "                    (:call, :+, :k, 1)), 2)), \n",
      "        (:call, :println, \"k(k+1)/2 = \", :x)))"
     ]
    }
   ],
   "source": [
    "@show_texpr for k in 1:10\n",
    "    x = k*(k+1) ÷ 2\n",
    "    println(\"k(k+1)/2 = \", x)\n",
    "end"
   ]
  },
  {
   "cell_type": "code",
   "execution_count": 23,
   "metadata": {},
   "outputs": [
    {
     "name": "stdout",
     "output_type": "stream",
     "text": [
      "(:for, \n",
      "    (:(=), :k, \n",
      "        (:call, :(:), 1, 10)), \n",
      "    (:block, LineNumberNode(2, Symbol(\"In[23]\")), \n",
      "        (:(=), :x, \n",
      "            (:call, :÷, \n",
      "                (:call, :*, :k, \n",
      "                    (:call, :+, :k, 1)), 2)), LineNumberNode(3, Symbol(\"In[23]\")), \n",
      "        (:call, :println, \"k(k+1)/2 = \", :x)))"
     ]
    }
   ],
   "source": [
    "@show_texpr for k in 1:10\n",
    "    x = k*(k+1) ÷ 2\n",
    "    println(\"k(k+1)/2 = \", x)\n",
    "end true"
   ]
  },
  {
   "cell_type": "code",
   "execution_count": 24,
   "metadata": {},
   "outputs": [
    {
     "name": "stdout",
     "output_type": "stream",
     "text": [
      ":for\n",
      "├─ :(=)\n",
      "│  ├─ :k\n",
      "│  └─ :call\n",
      "│     ⋮\n",
      "│     \n",
      "└─ :block\n",
      "   ├─ :(=)\n",
      "   │  ⋮\n",
      "   │  \n",
      "   └─ :call\n",
      "      ⋮\n",
      "      \n"
     ]
    }
   ],
   "source": [
    "@show_tree for k in 1:10\n",
    "    x = k*(k+1) ÷ 2\n",
    "    println(\"k(k+1)/2 = \", x)\n",
    "end 2"
   ]
  },
  {
   "cell_type": "code",
   "execution_count": 25,
   "metadata": {},
   "outputs": [
    {
     "name": "stdout",
     "output_type": "stream",
     "text": [
      ":for\n",
      "├─ :(=)\n",
      "│  ├─ :k\n",
      "│  └─ :call\n",
      "│     ├─ :(:)\n",
      "│     ├─ 1\n",
      "│     └─ 10\n",
      "└─ :block\n",
      "   ├─ :(=)\n",
      "   │  ├─ :x\n",
      "   │  └─ :call\n",
      "   │     ├─ :÷\n",
      "   │     ├─ :call\n",
      "   │     │  ├─ :*\n",
      "   │     │  ├─ :k\n",
      "   │     │  └─ :call\n",
      "   │     │     ├─ :+\n",
      "   │     │     ├─ :k\n",
      "   │     │     └─ 1\n",
      "   │     └─ 2\n",
      "   └─ :call\n",
      "      ├─ :println\n",
      "      ├─ \"k(k+1)/2 = \"\n",
      "      └─ :x\n"
     ]
    }
   ],
   "source": [
    "@show_tree for k in 1:10\n",
    "    x = k*(k+1) ÷ 2\n",
    "    println(\"k(k+1)/2 = \", x)\n",
    "end"
   ]
  },
  {
   "cell_type": "code",
   "execution_count": 26,
   "metadata": {},
   "outputs": [
    {
     "name": "stdout",
     "output_type": "stream",
     "text": [
      ":for\n",
      "├─ :(=)\n",
      "│  ├─ :k\n",
      "│  └─ :call\n",
      "│     ├─ :(:)\n",
      "│     ├─ 1\n",
      "│     └─ 10\n",
      "└─ :block\n",
      "   ├─ :(#= In[26]:2 =#)\n",
      "   ├─ :(=)\n",
      "   │  ├─ :x\n",
      "   │  └─ :call\n",
      "   │     ├─ :÷\n",
      "   │     ├─ :call\n",
      "   │     │  ├─ :*\n",
      "   │     │  ├─ :k\n",
      "   │     │  └─ :call\n",
      "   │     │     ├─ :+\n",
      "   │     │     ├─ :k\n",
      "   │     │     └─ 1\n",
      "   │     └─ 2\n",
      "   ├─ :(#= In[26]:3 =#)\n",
      "   └─ :call\n",
      "      ├─ :println\n",
      "      ├─ \"k(k+1)/2 = \"\n",
      "      └─ :x\n"
     ]
    }
   ],
   "source": [
    "@show_tree for k in 1:10\n",
    "    x = k*(k+1) ÷ 2\n",
    "    println(\"k(k+1)/2 = \", x)\n",
    "end 10 true"
   ]
  },
  {
   "cell_type": "code",
   "execution_count": 27,
   "metadata": {},
   "outputs": [
    {
     "name": "stdout",
     "output_type": "stream",
     "text": [
      "Expr\n",
      "  head: Symbol for\n",
      "  args: Array{Any}((2,))\n",
      "    1: Expr\n",
      "      head: Symbol =\n",
      "      args: Array{Any}((2,))\n",
      "        1: Symbol k\n",
      "        2: Expr\n",
      "          head: Symbol call\n",
      "          args: Array{Any}((3,))\n",
      "            1: Symbol :\n",
      "            2: Int64 1\n",
      "            3: Int64 10\n",
      "    2: Expr\n",
      "      head: Symbol block\n",
      "      args: Array{Any}((4,))\n",
      "        1: LineNumberNode\n",
      "          line: Int64 2\n",
      "          file: Symbol In[27]\n",
      "        2: Expr\n",
      "          head: Symbol =\n",
      "          args: Array{Any}((2,))\n",
      "            1: Symbol x\n",
      "            2: Expr\n",
      "              head: Symbol call\n",
      "              args: Array{Any}((3,))\n",
      "                1: Symbol ÷\n",
      "                2: Expr\n",
      "                3: Int64 2\n",
      "        3: LineNumberNode\n",
      "          line: Int64 3\n",
      "          file: Symbol In[27]\n",
      "        4: Expr\n",
      "          head: Symbol call\n",
      "          args: Array{Any}((3,))\n",
      "            1: Symbol println\n",
      "            2: String \"k(k+1)/2 = \"\n",
      "            3: Symbol x\n"
     ]
    }
   ],
   "source": [
    "Meta.@dump for k in 1:10\n",
    "    x = k*(k+1) ÷ 2\n",
    "    println(\"k(k+1)/2 = \", x)\n",
    "end"
   ]
  },
  {
   "cell_type": "code",
   "execution_count": 28,
   "metadata": {
    "scrolled": true
   },
   "outputs": [
    {
     "name": "stdout",
     "output_type": "stream",
     "text": [
      "Expr(:for, \n",
      "    Expr(:(=), :k, \n",
      "        Expr(:call, :(:), 1, 10)), \n",
      "    Expr(:block, \n",
      "        Expr(:(=), :x, \n",
      "            Expr(:call, :÷, \n",
      "                Expr(:call, :*, :k, \n",
      "                    Expr(:call, :+, :k, 1)), 2)), \n",
      "        Expr(:call, :println, \"k(k+1)/2 = \", :x)))"
     ]
    }
   ],
   "source": [
    "@show_expr for k in 1:10\n",
    "    x = k*(k+1) ÷ 2\n",
    "    println(\"k(k+1)/2 = \", x)\n",
    "end"
   ]
  },
  {
   "cell_type": "code",
   "execution_count": 29,
   "metadata": {},
   "outputs": [
    {
     "name": "stdout",
     "output_type": "stream",
     "text": [
      "(:for, \n",
      "    (:(=), :k, \n",
      "        (:call, :(:), 1, 10)), \n",
      "    (:block, \n",
      "        (:(=), :x, \n",
      "            (:call, :÷, \n",
      "                (:call, :*, :k, \n",
      "                    (:call, :+, :k, 1)), 2)), \n",
      "        (:call, :println, \"k(k+1)/2 = \", :x)))"
     ]
    }
   ],
   "source": [
    "@show_texpr for k in 1:10\n",
    "    x = k*(k+1) ÷ 2\n",
    "    println(\"k(k+1)/2 = \", x)\n",
    "end"
   ]
  },
  {
   "cell_type": "markdown",
   "metadata": {},
   "source": [
    "### type trees"
   ]
  },
  {
   "cell_type": "code",
   "execution_count": 30,
   "metadata": {},
   "outputs": [
    {
     "name": "stdout",
     "output_type": "stream",
     "text": [
      "Number\n",
      "├─ Complex\n",
      "└─ Real\n",
      "   ├─ AbstractFloat\n",
      "   │  ├─ BigFloat\n",
      "   │  ├─ Float16\n",
      "   │  ├─ Float32\n",
      "   │  └─ Float64\n",
      "   ├─ AbstractIrrational\n",
      "   │  └─ Irrational\n",
      "   ├─ Integer\n",
      "   │  ├─ Bool\n",
      "   │  ├─ Signed\n",
      "   │  │  ├─ BigInt\n",
      "   │  │  ├─ Int128\n",
      "   │  │  ├─ Int16\n",
      "   │  │  ├─ Int32\n",
      "   │  │  ├─ Int64\n",
      "   │  │  └─ Int8\n",
      "   │  └─ Unsigned\n",
      "   │     ├─ UInt128\n",
      "   │     ├─ UInt16\n",
      "   │     ├─ UInt32\n",
      "   │     ├─ UInt64\n",
      "   │     └─ UInt8\n",
      "   └─ Rational\n"
     ]
    }
   ],
   "source": [
    "print_tree(Number)"
   ]
  },
  {
   "cell_type": "code",
   "execution_count": 31,
   "metadata": {},
   "outputs": [
    {
     "name": "stdout",
     "output_type": "stream",
     "text": [
      "AbstractArray{T,1} where T\n",
      "├─ AbstractRange\n",
      "│  ├─ LinRange\n",
      "│  ├─ OrdinalRange\n",
      "│  │  ├─ AbstractUnitRange\n",
      "│  │  │  ├─ IdentityUnitRange\n",
      "│  │  │  ├─ OneTo\n",
      "│  │  │  ├─ Slice\n",
      "│  │  │  └─ UnitRange\n",
      "│  │  └─ StepRange\n",
      "│  └─ StepRangeLen\n",
      "├─ LogicalIndex\n",
      "├─ ReshapedArray{T,1,P,MI} where MI<:Tuple{Vararg{SignedMultiplicativeInverse{Int64},N} where N} where P<:AbstractArray where T\n",
      "├─ BitArray{1}\n",
      "├─ CartesianIndices{1,R} where R<:Tuple{AbstractUnitRange{Int64}}\n",
      "├─ AbstractRange\n",
      "│  ├─ LinRange\n",
      "│  ├─ OrdinalRange\n",
      "│  │  ├─ AbstractUnitRange\n",
      "│  │  │  ├─ IdentityUnitRange\n",
      "│  │  │  ├─ OneTo\n",
      "│  │  │  ├─ Slice\n",
      "│  │  │  ├─ StmtRange\n",
      "│  │  │  └─ UnitRange\n",
      "│  │  └─ StepRange\n",
      "│  └─ StepRangeLen\n",
      "├─ BitArray{1}\n",
      "├─ LinearIndices{1,R} where R<:Tuple{AbstractUnitRange{Int64}}\n",
      "├─ DenseArray{T,1} where T\n",
      "│  ├─ Array{T,1} where T\n",
      "│  ├─ CodeUnits\n",
      "│  ├─ Const{T,1} where T\n",
      "│  ├─ UnsafeView\n",
      "│  └─ SharedArray{T,1} where T\n",
      "├─ LinearIndices{1,R} where R<:Tuple{AbstractUnitRange{Int64}}\n",
      "├─ PermutedDimsArray{T,1,perm,iperm,AA} where AA<:AbstractArray where iperm where perm where T\n",
      "├─ AbstractSparseArray{Tv,Ti,1} where Ti where Tv\n",
      "│  └─ SparseVector\n",
      "├─ SubArray{T,1,P,I,L} where L where I where P where T\n",
      "├─ GenericArray{T,1} where T\n",
      "├─ Union{ReinterpretArray{T,1,S,A} where A<:AbstractArray{S,1} where S, ReinterpretArray{T,1,S,A} where A<:AbstractArray{S,1} where S} where T\n",
      "└─ Message\n"
     ]
    }
   ],
   "source": [
    "print_tree(AbstractVector)"
   ]
  },
  {
   "cell_type": "markdown",
   "metadata": {},
   "source": [
    "### function definition"
   ]
  },
  {
   "cell_type": "code",
   "execution_count": 32,
   "metadata": {},
   "outputs": [
    {
     "name": "stdout",
     "output_type": "stream",
     "text": [
      "(:function, \n",
      "    (:where, \n",
      "        (:call, :f, \n",
      "            (:(::), :x, :T)), \n",
      "        (:<:, :T, :Number)), \n",
      "    (:block, \n",
      "        (:call, :sin, :x)))"
     ]
    }
   ],
   "source": [
    "@show_texpr function f(x::T) where T<:Number\n",
    "    sin(x)\n",
    "end"
   ]
  },
  {
   "cell_type": "code",
   "execution_count": 33,
   "metadata": {},
   "outputs": [
    {
     "name": "stdout",
     "output_type": "stream",
     "text": [
      ":function\n",
      "├─ :where\n",
      "│  ├─ :call\n",
      "│  │  ├─ :f\n",
      "│  │  └─ :(::)\n",
      "│  │     ├─ :x\n",
      "│  │     └─ :T\n",
      "│  └─ :<:\n",
      "│     ├─ :T\n",
      "│     └─ :Number\n",
      "└─ :block\n",
      "   └─ :call\n",
      "      ├─ :sin\n",
      "      └─ :x\n"
     ]
    }
   ],
   "source": [
    "@show_tree function f(x::T) where T<:Number\n",
    "    sin(x)\n",
    "end"
   ]
  },
  {
   "cell_type": "code",
   "execution_count": 34,
   "metadata": {},
   "outputs": [
    {
     "name": "stdout",
     "output_type": "stream",
     "text": [
      "Expr(:function, \n",
      "    Expr(:where, \n",
      "        Expr(:call, :f, \n",
      "            Expr(:(::), :x, :T)), \n",
      "        Expr(:<:, :T, :Number)), \n",
      "    Expr(:block, \n",
      "        Expr(:call, :sin, :x)))"
     ]
    }
   ],
   "source": [
    "@show_expr function f(x::T) where T<:Number\n",
    "    sin(x)\n",
    "end"
   ]
  },
  {
   "cell_type": "code",
   "execution_count": 35,
   "metadata": {},
   "outputs": [
    {
     "name": "stdout",
     "output_type": "stream",
     "text": [
      "(:function, \n",
      "    (:where, \n",
      "        (:call, :f, \n",
      "            (:(::), :x, :T)), \n",
      "        (:<:, :T, :Number)), \n",
      "    (:block, \n",
      "        (:call, :sin, :x)))"
     ]
    }
   ],
   "source": [
    "@show_texpr function f(x::T) where T<:Number\n",
    "    sin(x)\n",
    "end"
   ]
  },
  {
   "cell_type": "markdown",
   "metadata": {},
   "source": [
    "### macro and LineNumberNode"
   ]
  },
  {
   "cell_type": "code",
   "execution_count": 36,
   "metadata": {},
   "outputs": [
    {
     "name": "stdout",
     "output_type": "stream",
     "text": [
      ":macrocall\n",
      "├─ Symbol(\"@show\")\n",
      "├─ :(#= In[36]:1 =#)\n",
      "└─ :call\n",
      "   ├─ :float\n",
      "   └─ :π\n"
     ]
    }
   ],
   "source": [
    "@show_tree @show float(π)"
   ]
  },
  {
   "cell_type": "code",
   "execution_count": 37,
   "metadata": {},
   "outputs": [
    {
     "name": "stdout",
     "output_type": "stream",
     "text": [
      "(:macrocall, Symbol(\"@show\"), :(#= In[37]:1 =#), (:call, :float, :π))"
     ]
    }
   ],
   "source": [
    "@show_sexpr @show float(π)"
   ]
  },
  {
   "cell_type": "code",
   "execution_count": 38,
   "metadata": {},
   "outputs": [
    {
     "name": "stdout",
     "output_type": "stream",
     "text": [
      "float(π) = 3.141592653589793\n"
     ]
    },
    {
     "data": {
      "text/plain": [
       "3.141592653589793"
      ]
     },
     "execution_count": 38,
     "metadata": {},
     "output_type": "execute_result"
    }
   ],
   "source": [
    "@teval (:macrocall, Symbol(\"@show\"), :(#= In[34]:1 =#), (:call, :float, :π))"
   ]
  },
  {
   "cell_type": "code",
   "execution_count": 39,
   "metadata": {},
   "outputs": [
    {
     "name": "stdout",
     "output_type": "stream",
     "text": [
      "Expr(:macrocall, Symbol(\"@show\"), LineNumberNode(1, Symbol(\"In[39]\")), \n",
      "    Expr(:call, :float, :π))"
     ]
    }
   ],
   "source": [
    "@show_expr @show float(π)"
   ]
  },
  {
   "cell_type": "code",
   "execution_count": 40,
   "metadata": {},
   "outputs": [
    {
     "name": "stdout",
     "output_type": "stream",
     "text": [
      "Expr(:macrocall, Symbol(\"@show\"), LineNumberNode(1, Symbol(\"In[40]\")), \n",
      "    Expr(:call, :float, :π))"
     ]
    }
   ],
   "source": [
    "Expr(:macrocall, Symbol(\"@show\"), LineNumberNode(@__LINE__, @__FILE__), \n",
    "    Expr(:call, :float, :π)) |> show_expr"
   ]
  },
  {
   "cell_type": "code",
   "execution_count": 41,
   "metadata": {},
   "outputs": [
    {
     "name": "stdout",
     "output_type": "stream",
     "text": [
      "float(π) = 3.141592653589793\n"
     ]
    },
    {
     "data": {
      "text/plain": [
       "3.141592653589793"
      ]
     },
     "execution_count": 41,
     "metadata": {},
     "output_type": "execute_result"
    }
   ],
   "source": [
    "Expr(:macrocall, Symbol(\"@show\"), LineNumberNode(@__LINE__, @__FILE__), \n",
    "    Expr(:call, :float, :π)) |> eval"
   ]
  },
  {
   "cell_type": "code",
   "execution_count": 42,
   "metadata": {},
   "outputs": [
    {
     "name": "stdout",
     "output_type": "stream",
     "text": [
      "(:macrocall, Symbol(\"@show\"), LineNumberNode(1, Symbol(\"In[42]\")), \n",
      "    (:call, :float, :π))"
     ]
    }
   ],
   "source": [
    "@show_texpr @show float(π)"
   ]
  },
  {
   "cell_type": "code",
   "execution_count": 43,
   "metadata": {},
   "outputs": [
    {
     "name": "stdout",
     "output_type": "stream",
     "text": [
      "float(π) = 3.141592653589793\n"
     ]
    },
    {
     "data": {
      "text/plain": [
       "3.141592653589793"
      ]
     },
     "execution_count": 43,
     "metadata": {},
     "output_type": "execute_result"
    }
   ],
   "source": [
    "(:macrocall, Symbol(\"@show\"), LineNumberNode(@__LINE__, @__FILE__), \n",
    "    (:call, :float, :π)) |> teval"
   ]
  },
  {
   "cell_type": "code",
   "execution_count": 44,
   "metadata": {},
   "outputs": [
    {
     "name": "stdout",
     "output_type": "stream",
     "text": [
      "float(π) = 3.141592653589793\n"
     ]
    },
    {
     "data": {
      "text/plain": [
       "3.141592653589793"
      ]
     },
     "execution_count": 44,
     "metadata": {},
     "output_type": "execute_result"
    }
   ],
   "source": [
    "@teval (:macrocall, Symbol(\"@show\"), LineNumberNode(@__LINE__, @__FILE__),  \n",
    "    (:call, :float, :π))"
   ]
  },
  {
   "cell_type": "markdown",
   "metadata": {},
   "source": [
    "### QuoteNode"
   ]
  },
  {
   "cell_type": "code",
   "execution_count": 45,
   "metadata": {},
   "outputs": [
    {
     "data": {
      "text/plain": [
       ":($(QuoteNode(:(sin(x)))))"
      ]
     },
     "execution_count": 45,
     "metadata": {},
     "output_type": "execute_result"
    }
   ],
   "source": [
    "QuoteNode(:(sin(x)))"
   ]
  },
  {
   "cell_type": "code",
   "execution_count": 46,
   "metadata": {},
   "outputs": [
    {
     "name": "stdout",
     "output_type": "stream",
     "text": [
      "(:quote, #QuoteNode\n",
      "  (:call, :sin, :x)\n",
      ")"
     ]
    }
   ],
   "source": [
    "QuoteNode(:(sin(x))) |> Meta.show_sexpr"
   ]
  },
  {
   "cell_type": "code",
   "execution_count": 47,
   "metadata": {},
   "outputs": [
    {
     "name": "stdout",
     "output_type": "stream",
     "text": [
      "QuoteNode(\n",
      "    Expr(:call, :sin, :x))"
     ]
    }
   ],
   "source": [
    "QuoteNode(:(sin(x))) |> show_expr"
   ]
  },
  {
   "cell_type": "code",
   "execution_count": 48,
   "metadata": {},
   "outputs": [
    {
     "name": "stdout",
     "output_type": "stream",
     "text": [
      "QuoteNode(\n",
      "    (:call, :sin, :x))"
     ]
    }
   ],
   "source": [
    "QuoteNode(:(sin(x))) |> show_texpr"
   ]
  },
  {
   "cell_type": "code",
   "execution_count": 49,
   "metadata": {},
   "outputs": [
    {
     "data": {
      "text/plain": [
       "true"
      ]
     },
     "execution_count": 49,
     "metadata": {},
     "output_type": "execute_result"
    }
   ],
   "source": [
    "QuoteNode(\n",
    "    (:call, :sin, :x)) |> texpr2expr == QuoteNode(:(sin(x)))"
   ]
  },
  {
   "cell_type": "code",
   "execution_count": 50,
   "metadata": {},
   "outputs": [
    {
     "data": {
      "text/plain": [
       ":(sin(x))"
      ]
     },
     "execution_count": 50,
     "metadata": {},
     "output_type": "execute_result"
    }
   ],
   "source": [
    "@teval QuoteNode(\n",
    "    (:call, :sin, :x))"
   ]
  },
  {
   "cell_type": "markdown",
   "metadata": {},
   "source": [
    "## Evaluation of Lisp-like tuple expressions\n",
    "\n",
    "If you want more Lisp-like examamples, see [LispLikeEval.ipynb](https://nbviewer.jupyter.org/github/genkuroki/LispLikeEval.jl/blob/master/LispLikeEval.ipynb)."
   ]
  },
  {
   "cell_type": "code",
   "execution_count": 51,
   "metadata": {},
   "outputs": [],
   "source": [
    "using MetaUtils: @t, @T"
   ]
  },
  {
   "cell_type": "code",
   "execution_count": 52,
   "metadata": {},
   "outputs": [
    {
     "name": "stdout",
     "output_type": "stream",
     "text": [
      ":(f(x) = sin(x))\n",
      "→ f\n",
      "\n",
      ":(f(π / 6))\n",
      "→ 0.49999999999999994\n"
     ]
    }
   ],
   "source": [
    "# Define and run a function f(x) = sin(x)\n",
    "\n",
    "@t (:(=), :(f(x)), (:sin, :x))\n",
    "println()\n",
    "@t (:f, (:/, π, 6))"
   ]
  },
  {
   "cell_type": "code",
   "execution_count": 53,
   "metadata": {},
   "outputs": [
    {
     "name": "stdout",
     "output_type": "stream",
     "text": [
      "(:(=), :(f(x)), (:sin, :x))\n",
      "→ (:(=), \n",
      "    (:call, :f, :x), \n",
      "    (:call, :sin, :x))\n",
      "→ :(f(x) = sin(x))\n",
      "→ f\n",
      "\n",
      "(:f, (:/, π, 6))\n",
      "→ (:call, :f, \n",
      "    (:call, :/, π, 6))\n",
      "→ :(f(π / 6))\n",
      "→ 0.49999999999999994\n"
     ]
    }
   ],
   "source": [
    "# Define and run a function f(x) = sin(x)\n",
    "\n",
    "@T (:(=), :(f(x)), (:sin, :x))\n",
    "println()\n",
    "@T (:f, (:/, π, 6))"
   ]
  },
  {
   "cell_type": "code",
   "execution_count": 54,
   "metadata": {},
   "outputs": [
    {
     "name": "stdout",
     "output_type": "stream",
     "text": [
      "quote\n",
      "    function g(x)\n",
      "        sin(x)\n",
      "    end\n",
      "    g(π / 6)\n",
      "end\n",
      "→ 0.49999999999999994\n"
     ]
    }
   ],
   "source": [
    "# Define and run a function g(x) = sin(x)\n",
    "\n",
    "@t (:block,\n",
    "    (:function, :(g(x)), (:sin, :x)),\n",
    "    (:call, :g, (:/, π, 6)))"
   ]
  },
  {
   "cell_type": "code",
   "execution_count": 55,
   "metadata": {},
   "outputs": [
    {
     "name": "stdout",
     "output_type": "stream",
     "text": [
      "(:block, (:function, :(g(x)), (:sin, :x)), (:call, :g, (:/, π, 6)))\n",
      "→ (:block, \n",
      "    (:function, \n",
      "        (:call, :g, :x), \n",
      "        (:call, :sin, :x)), \n",
      "    (:call, :g, \n",
      "        (:call, :/, π, 6)))\n",
      "→ quote\n",
      "    function g(x)\n",
      "        sin(x)\n",
      "    end\n",
      "    g(π / 6)\n",
      "end\n",
      "→ 0.49999999999999994\n"
     ]
    }
   ],
   "source": [
    "# Define and run a function g(x) = sin(x)\n",
    "\n",
    "@T (:block,\n",
    "    (:function, :(g(x)), (:sin, :x)),\n",
    "    (:call, :g, (:/, π, 6)))"
   ]
  },
  {
   "cell_type": "code",
   "execution_count": 56,
   "metadata": {},
   "outputs": [
    {
     "name": "stdout",
     "output_type": "stream",
     "text": [
      "quote\n",
      "    function pi_mc(N)\n",
      "        c = 0\n",
      "        for i = 1:N\n",
      "            c += ifelse(rand() ^ 2 + rand() ^ 2 ≤ 1, 1, 0)\n",
      "        end\n",
      "        (4c) / N\n",
      "    end\n",
      "    pi_mc(10 ^ 8)\n",
      "end\n",
      "→ 3.141615\n"
     ]
    }
   ],
   "source": [
    "# Calculation of pi by the Monte Carlo method\n",
    "\n",
    "@t (:block, \n",
    "    (:function, :(pi_mc(N)), \n",
    "        (:block, \n",
    "            (:(=), :c, 0), \n",
    "            (:for, (:(=), :i, (:(:), 1, :N)), \n",
    "                (:block, \n",
    "                    (:+=, :c, \n",
    "                        (:call, :ifelse, \n",
    "                            (:≤, (:+, (:^, (:rand,), 2), (:^, (:rand,), 2)), 1), \n",
    "                            1, 0)))), \n",
    "            (:/, (:*, 4, :c), :N))), \n",
    "    (:call, :pi_mc, (:^, 10, 8)))"
   ]
  },
  {
   "cell_type": "code",
   "execution_count": 57,
   "metadata": {},
   "outputs": [
    {
     "name": "stdout",
     "output_type": "stream",
     "text": [
      ":($(Expr(:quote, :(sin(x)))))\n",
      "→ :(sin(x))\n"
     ]
    }
   ],
   "source": [
    "# quote\n",
    "\n",
    "@t (:quote, (:sin, :x))"
   ]
  },
  {
   "cell_type": "code",
   "execution_count": 58,
   "metadata": {},
   "outputs": [
    {
     "name": "stdout",
     "output_type": "stream",
     "text": [
      ":((1, 2, 3))\n",
      "→ (1, 2, 3)\n"
     ]
    }
   ],
   "source": [
    "# tuple\n",
    "\n",
    "@t (:tuple, 1, 2, 3)"
   ]
  },
  {
   "cell_type": "markdown",
   "metadata": {},
   "source": [
    "## Plot example"
   ]
  },
  {
   "cell_type": "code",
   "execution_count": 59,
   "metadata": {},
   "outputs": [
    {
     "data": {
      "image/svg+xml": [
       "<?xml version=\"1.0\" encoding=\"utf-8\"?>\n",
       "<svg xmlns=\"http://www.w3.org/2000/svg\" xmlns:xlink=\"http://www.w3.org/1999/xlink\" width=\"600\" height=\"400\" viewBox=\"0 0 2400 1600\">\n",
       "<defs>\n",
       "  <clipPath id=\"clip830\">\n",
       "    <rect x=\"0\" y=\"0\" width=\"2400\" height=\"1600\"/>\n",
       "  </clipPath>\n",
       "</defs>\n",
       "<path clip-path=\"url(#clip830)\" d=\"\n",
       "M0 1600 L2400 1600 L2400 0 L0 0  Z\n",
       "  \" fill=\"#ffffff\" fill-rule=\"evenodd\" fill-opacity=\"1\"/>\n",
       "<defs>\n",
       "  <clipPath id=\"clip831\">\n",
       "    <rect x=\"480\" y=\"0\" width=\"1681\" height=\"1600\"/>\n",
       "  </clipPath>\n",
       "</defs>\n",
       "<path clip-path=\"url(#clip830)\" d=\"\n",
       "M179.654 1486.45 L2352.76 1486.45 L2352.76 47.2441 L179.654 47.2441  Z\n",
       "  \" fill=\"#ffffff\" fill-rule=\"evenodd\" fill-opacity=\"1\"/>\n",
       "<defs>\n",
       "  <clipPath id=\"clip832\">\n",
       "    <rect x=\"179\" y=\"47\" width=\"2174\" height=\"1440\"/>\n",
       "  </clipPath>\n",
       "</defs>\n",
       "<polyline clip-path=\"url(#clip832)\" style=\"stroke:#000000; stroke-width:2; stroke-opacity:0.1; fill:none\" points=\"\n",
       "  287.356,1486.45 287.356,47.2441 \n",
       "  \"/>\n",
       "<polyline clip-path=\"url(#clip832)\" style=\"stroke:#000000; stroke-width:2; stroke-opacity:0.1; fill:none\" points=\"\n",
       "  613.639,1486.45 613.639,47.2441 \n",
       "  \"/>\n",
       "<polyline clip-path=\"url(#clip832)\" style=\"stroke:#000000; stroke-width:2; stroke-opacity:0.1; fill:none\" points=\"\n",
       "  939.922,1486.45 939.922,47.2441 \n",
       "  \"/>\n",
       "<polyline clip-path=\"url(#clip832)\" style=\"stroke:#000000; stroke-width:2; stroke-opacity:0.1; fill:none\" points=\"\n",
       "  1266.2,1486.45 1266.2,47.2441 \n",
       "  \"/>\n",
       "<polyline clip-path=\"url(#clip832)\" style=\"stroke:#000000; stroke-width:2; stroke-opacity:0.1; fill:none\" points=\"\n",
       "  1592.49,1486.45 1592.49,47.2441 \n",
       "  \"/>\n",
       "<polyline clip-path=\"url(#clip832)\" style=\"stroke:#000000; stroke-width:2; stroke-opacity:0.1; fill:none\" points=\"\n",
       "  1918.77,1486.45 1918.77,47.2441 \n",
       "  \"/>\n",
       "<polyline clip-path=\"url(#clip832)\" style=\"stroke:#000000; stroke-width:2; stroke-opacity:0.1; fill:none\" points=\"\n",
       "  2245.05,1486.45 2245.05,47.2441 \n",
       "  \"/>\n",
       "<polyline clip-path=\"url(#clip830)\" style=\"stroke:#000000; stroke-width:4; stroke-opacity:1; fill:none\" points=\"\n",
       "  179.654,1486.45 2352.76,1486.45 \n",
       "  \"/>\n",
       "<polyline clip-path=\"url(#clip830)\" style=\"stroke:#000000; stroke-width:4; stroke-opacity:1; fill:none\" points=\"\n",
       "  287.356,1486.45 287.356,1469.18 \n",
       "  \"/>\n",
       "<polyline clip-path=\"url(#clip830)\" style=\"stroke:#000000; stroke-width:4; stroke-opacity:1; fill:none\" points=\"\n",
       "  613.639,1486.45 613.639,1469.18 \n",
       "  \"/>\n",
       "<polyline clip-path=\"url(#clip830)\" style=\"stroke:#000000; stroke-width:4; stroke-opacity:1; fill:none\" points=\"\n",
       "  939.922,1486.45 939.922,1469.18 \n",
       "  \"/>\n",
       "<polyline clip-path=\"url(#clip830)\" style=\"stroke:#000000; stroke-width:4; stroke-opacity:1; fill:none\" points=\"\n",
       "  1266.2,1486.45 1266.2,1469.18 \n",
       "  \"/>\n",
       "<polyline clip-path=\"url(#clip830)\" style=\"stroke:#000000; stroke-width:4; stroke-opacity:1; fill:none\" points=\"\n",
       "  1592.49,1486.45 1592.49,1469.18 \n",
       "  \"/>\n",
       "<polyline clip-path=\"url(#clip830)\" style=\"stroke:#000000; stroke-width:4; stroke-opacity:1; fill:none\" points=\"\n",
       "  1918.77,1486.45 1918.77,1469.18 \n",
       "  \"/>\n",
       "<polyline clip-path=\"url(#clip830)\" style=\"stroke:#000000; stroke-width:4; stroke-opacity:1; fill:none\" points=\"\n",
       "  2245.05,1486.45 2245.05,1469.18 \n",
       "  \"/>\n",
       "<path clip-path=\"url(#clip830)\" d=\"M 0 0 M259.335 1530.29 L289.011 1530.29 L289.011 1534.23 L259.335 1534.23 L259.335 1530.29 Z\" fill=\"#000000\" fill-rule=\"evenodd\" fill-opacity=\"1\" /><path clip-path=\"url(#clip830)\" d=\"M 0 0 M308.247 1528.49 Q311.603 1529.2 313.478 1531.47 Q315.377 1533.74 315.377 1537.07 Q315.377 1542.19 311.858 1544.99 Q308.34 1547.79 301.858 1547.79 Q299.682 1547.79 297.367 1547.35 Q295.076 1546.93 292.622 1546.08 L292.622 1541.56 Q294.566 1542.7 296.881 1543.28 Q299.196 1543.86 301.719 1543.86 Q306.117 1543.86 308.409 1542.12 Q310.724 1540.38 310.724 1537.07 Q310.724 1534.02 308.571 1532.31 Q306.441 1530.57 302.622 1530.57 L298.594 1530.57 L298.594 1526.73 L302.807 1526.73 Q306.256 1526.73 308.085 1525.36 Q309.914 1523.97 309.914 1521.38 Q309.914 1518.72 308.015 1517.31 Q306.14 1515.87 302.622 1515.87 Q300.701 1515.87 298.502 1516.29 Q296.303 1516.7 293.664 1517.58 L293.664 1513.42 Q296.326 1512.68 298.64 1512.31 Q300.978 1511.93 303.039 1511.93 Q308.363 1511.93 311.465 1514.37 Q314.566 1516.77 314.566 1520.89 Q314.566 1523.76 312.923 1525.75 Q311.279 1527.72 308.247 1528.49 Z\" fill=\"#000000\" fill-rule=\"evenodd\" fill-opacity=\"1\" /><path clip-path=\"url(#clip830)\" d=\"M 0 0 M586.093 1530.29 L615.768 1530.29 L615.768 1534.23 L586.093 1534.23 L586.093 1530.29 Z\" fill=\"#000000\" fill-rule=\"evenodd\" fill-opacity=\"1\" /><path clip-path=\"url(#clip830)\" d=\"M 0 0 M624.866 1543.18 L641.185 1543.18 L641.185 1547.12 L619.241 1547.12 L619.241 1543.18 Q621.903 1540.43 626.486 1535.8 Q631.092 1531.15 632.273 1529.81 Q634.518 1527.28 635.398 1525.55 Q636.301 1523.79 636.301 1522.1 Q636.301 1519.34 634.356 1517.61 Q632.435 1515.87 629.333 1515.87 Q627.134 1515.87 624.68 1516.63 Q622.25 1517.4 619.472 1518.95 L619.472 1514.23 Q622.296 1513.09 624.75 1512.51 Q627.204 1511.93 629.241 1511.93 Q634.611 1511.93 637.805 1514.62 Q641 1517.31 641 1521.8 Q641 1523.93 640.19 1525.85 Q639.403 1527.74 637.296 1530.34 Q636.717 1531.01 633.616 1534.23 Q630.514 1537.42 624.866 1543.18 Z\" fill=\"#000000\" fill-rule=\"evenodd\" fill-opacity=\"1\" /><path clip-path=\"url(#clip830)\" d=\"M 0 0 M912.19 1530.29 L941.866 1530.29 L941.866 1534.23 L912.19 1534.23 L912.19 1530.29 Z\" fill=\"#000000\" fill-rule=\"evenodd\" fill-opacity=\"1\" /><path clip-path=\"url(#clip830)\" d=\"M 0 0 M947.746 1543.18 L955.385 1543.18 L955.385 1516.82 L947.075 1518.49 L947.075 1514.23 L955.338 1512.56 L960.014 1512.56 L960.014 1543.18 L967.653 1543.18 L967.653 1547.12 L947.746 1547.12 L947.746 1543.18 Z\" fill=\"#000000\" fill-rule=\"evenodd\" fill-opacity=\"1\" /><path clip-path=\"url(#clip830)\" d=\"M 0 0 M1266.2 1515.64 Q1262.59 1515.64 1260.77 1519.2 Q1258.96 1522.75 1258.96 1529.87 Q1258.96 1536.98 1260.77 1540.55 Q1262.59 1544.09 1266.2 1544.09 Q1269.84 1544.09 1271.64 1540.55 Q1273.47 1536.98 1273.47 1529.87 Q1273.47 1522.75 1271.64 1519.2 Q1269.84 1515.64 1266.2 1515.64 M1266.2 1511.93 Q1272.01 1511.93 1275.07 1516.54 Q1278.15 1521.12 1278.15 1529.87 Q1278.15 1538.6 1275.07 1543.21 Q1272.01 1547.79 1266.2 1547.79 Q1260.39 1547.79 1257.32 1543.21 Q1254.26 1538.6 1254.26 1529.87 Q1254.26 1521.12 1257.32 1516.54 Q1260.39 1511.93 1266.2 1511.93 Z\" fill=\"#000000\" fill-rule=\"evenodd\" fill-opacity=\"1\" /><path clip-path=\"url(#clip830)\" d=\"M 0 0 M1582.87 1543.18 L1590.51 1543.18 L1590.51 1516.82 L1582.2 1518.49 L1582.2 1514.23 L1590.46 1512.56 L1595.14 1512.56 L1595.14 1543.18 L1602.78 1543.18 L1602.78 1547.12 L1582.87 1547.12 L1582.87 1543.18 Z\" fill=\"#000000\" fill-rule=\"evenodd\" fill-opacity=\"1\" /><path clip-path=\"url(#clip830)\" d=\"M 0 0 M1913.42 1543.18 L1929.74 1543.18 L1929.74 1547.12 L1907.8 1547.12 L1907.8 1543.18 Q1910.46 1540.43 1915.04 1535.8 Q1919.65 1531.15 1920.83 1529.81 Q1923.08 1527.28 1923.96 1525.55 Q1924.86 1523.79 1924.86 1522.1 Q1924.86 1519.34 1922.91 1517.61 Q1920.99 1515.87 1917.89 1515.87 Q1915.69 1515.87 1913.24 1516.63 Q1910.81 1517.4 1908.03 1518.95 L1908.03 1514.23 Q1910.85 1513.09 1913.31 1512.51 Q1915.76 1511.93 1917.8 1511.93 Q1923.17 1511.93 1926.36 1514.62 Q1929.56 1517.31 1929.56 1521.8 Q1929.56 1523.93 1928.75 1525.85 Q1927.96 1527.74 1925.85 1530.34 Q1925.28 1531.01 1922.17 1534.23 Q1919.07 1537.42 1913.42 1543.18 Z\" fill=\"#000000\" fill-rule=\"evenodd\" fill-opacity=\"1\" /><path clip-path=\"url(#clip830)\" d=\"M 0 0 M2249.3 1528.49 Q2252.66 1529.2 2254.53 1531.47 Q2256.43 1533.74 2256.43 1537.07 Q2256.43 1542.19 2252.91 1544.99 Q2249.39 1547.79 2242.91 1547.79 Q2240.74 1547.79 2238.42 1547.35 Q2236.13 1546.93 2233.68 1546.08 L2233.68 1541.56 Q2235.62 1542.7 2237.94 1543.28 Q2240.25 1543.86 2242.77 1543.86 Q2247.17 1543.86 2249.46 1542.12 Q2251.78 1540.38 2251.78 1537.07 Q2251.78 1534.02 2249.63 1532.31 Q2247.5 1530.57 2243.68 1530.57 L2239.65 1530.57 L2239.65 1526.73 L2243.86 1526.73 Q2247.31 1526.73 2249.14 1525.36 Q2250.97 1523.97 2250.97 1521.38 Q2250.97 1518.72 2249.07 1517.31 Q2247.19 1515.87 2243.68 1515.87 Q2241.76 1515.87 2239.56 1516.29 Q2237.36 1516.7 2234.72 1517.58 L2234.72 1513.42 Q2237.38 1512.68 2239.69 1512.31 Q2242.03 1511.93 2244.09 1511.93 Q2249.42 1511.93 2252.52 1514.37 Q2255.62 1516.77 2255.62 1520.89 Q2255.62 1523.76 2253.98 1525.75 Q2252.33 1527.72 2249.3 1528.49 Z\" fill=\"#000000\" fill-rule=\"evenodd\" fill-opacity=\"1\" /><polyline clip-path=\"url(#clip832)\" style=\"stroke:#000000; stroke-width:2; stroke-opacity:0.1; fill:none\" points=\"\n",
       "  179.654,1282.16 2352.76,1282.16 \n",
       "  \"/>\n",
       "<polyline clip-path=\"url(#clip832)\" style=\"stroke:#000000; stroke-width:2; stroke-opacity:0.1; fill:none\" points=\"\n",
       "  179.654,1003.09 2352.76,1003.09 \n",
       "  \"/>\n",
       "<polyline clip-path=\"url(#clip832)\" style=\"stroke:#000000; stroke-width:2; stroke-opacity:0.1; fill:none\" points=\"\n",
       "  179.654,724.018 2352.76,724.018 \n",
       "  \"/>\n",
       "<polyline clip-path=\"url(#clip832)\" style=\"stroke:#000000; stroke-width:2; stroke-opacity:0.1; fill:none\" points=\"\n",
       "  179.654,444.948 2352.76,444.948 \n",
       "  \"/>\n",
       "<polyline clip-path=\"url(#clip832)\" style=\"stroke:#000000; stroke-width:2; stroke-opacity:0.1; fill:none\" points=\"\n",
       "  179.654,165.877 2352.76,165.877 \n",
       "  \"/>\n",
       "<polyline clip-path=\"url(#clip830)\" style=\"stroke:#000000; stroke-width:4; stroke-opacity:1; fill:none\" points=\"\n",
       "  179.654,1486.45 179.654,47.2441 \n",
       "  \"/>\n",
       "<polyline clip-path=\"url(#clip830)\" style=\"stroke:#000000; stroke-width:4; stroke-opacity:1; fill:none\" points=\"\n",
       "  179.654,1282.16 205.731,1282.16 \n",
       "  \"/>\n",
       "<polyline clip-path=\"url(#clip830)\" style=\"stroke:#000000; stroke-width:4; stroke-opacity:1; fill:none\" points=\"\n",
       "  179.654,1003.09 205.731,1003.09 \n",
       "  \"/>\n",
       "<polyline clip-path=\"url(#clip830)\" style=\"stroke:#000000; stroke-width:4; stroke-opacity:1; fill:none\" points=\"\n",
       "  179.654,724.018 205.731,724.018 \n",
       "  \"/>\n",
       "<polyline clip-path=\"url(#clip830)\" style=\"stroke:#000000; stroke-width:4; stroke-opacity:1; fill:none\" points=\"\n",
       "  179.654,444.948 205.731,444.948 \n",
       "  \"/>\n",
       "<polyline clip-path=\"url(#clip830)\" style=\"stroke:#000000; stroke-width:4; stroke-opacity:1; fill:none\" points=\"\n",
       "  179.654,165.877 205.731,165.877 \n",
       "  \"/>\n",
       "<path clip-path=\"url(#clip830)\" d=\"M 0 0 M51.2236 1282.61 L80.8994 1282.61 L80.8994 1286.55 L51.2236 1286.55 L51.2236 1282.61 Z\" fill=\"#000000\" fill-rule=\"evenodd\" fill-opacity=\"1\" /><path clip-path=\"url(#clip830)\" d=\"M 0 0 M86.779 1295.5 L94.4178 1295.5 L94.4178 1269.14 L86.1077 1270.81 L86.1077 1266.55 L94.3715 1264.88 L99.0474 1264.88 L99.0474 1295.5 L106.686 1295.5 L106.686 1299.44 L86.779 1299.44 L86.779 1295.5 Z\" fill=\"#000000\" fill-rule=\"evenodd\" fill-opacity=\"1\" /><path clip-path=\"url(#clip830)\" d=\"M 0 0 M111.756 1293.56 L116.64 1293.56 L116.64 1299.44 L111.756 1299.44 L111.756 1293.56 Z\" fill=\"#000000\" fill-rule=\"evenodd\" fill-opacity=\"1\" /><path clip-path=\"url(#clip830)\" d=\"M 0 0 M131.709 1267.96 Q128.098 1267.96 126.27 1271.52 Q124.464 1275.07 124.464 1282.19 Q124.464 1289.3 126.27 1292.87 Q128.098 1296.41 131.709 1296.41 Q135.344 1296.41 137.149 1292.87 Q138.978 1289.3 138.978 1282.19 Q138.978 1275.07 137.149 1271.52 Q135.344 1267.96 131.709 1267.96 M131.709 1264.25 Q137.519 1264.25 140.575 1268.86 Q143.654 1273.44 143.654 1282.19 Q143.654 1290.92 140.575 1295.53 Q137.519 1300.11 131.709 1300.11 Q125.899 1300.11 122.82 1295.53 Q119.765 1290.92 119.765 1282.19 Q119.765 1273.44 122.82 1268.86 Q125.899 1264.25 131.709 1264.25 Z\" fill=\"#000000\" fill-rule=\"evenodd\" fill-opacity=\"1\" /><path clip-path=\"url(#clip830)\" d=\"M 0 0 M50.9921 1003.54 L80.6679 1003.54 L80.6679 1007.48 L50.9921 1007.48 L50.9921 1003.54 Z\" fill=\"#000000\" fill-rule=\"evenodd\" fill-opacity=\"1\" /><path clip-path=\"url(#clip830)\" d=\"M 0 0 M95.7373 988.888 Q92.1262 988.888 90.2975 992.453 Q88.4919 995.994 88.4919 1003.12 Q88.4919 1010.23 90.2975 1013.8 Q92.1262 1017.34 95.7373 1017.34 Q99.3715 1017.34 101.177 1013.8 Q103.006 1010.23 103.006 1003.12 Q103.006 995.994 101.177 992.453 Q99.3715 988.888 95.7373 988.888 M95.7373 985.184 Q101.547 985.184 104.603 989.791 Q107.682 994.374 107.682 1003.12 Q107.682 1011.85 104.603 1016.46 Q101.547 1021.04 95.7373 1021.04 Q89.9271 1021.04 86.8484 1016.46 Q83.7929 1011.85 83.7929 1003.12 Q83.7929 994.374 86.8484 989.791 Q89.9271 985.184 95.7373 985.184 Z\" fill=\"#000000\" fill-rule=\"evenodd\" fill-opacity=\"1\" /><path clip-path=\"url(#clip830)\" d=\"M 0 0 M112.751 1014.49 L117.635 1014.49 L117.635 1020.37 L112.751 1020.37 L112.751 1014.49 Z\" fill=\"#000000\" fill-rule=\"evenodd\" fill-opacity=\"1\" /><path clip-path=\"url(#clip830)\" d=\"M 0 0 M122.751 985.809 L141.107 985.809 L141.107 989.744 L127.033 989.744 L127.033 998.216 Q128.052 997.869 129.07 997.707 Q130.089 997.522 131.107 997.522 Q136.894 997.522 140.274 1000.69 Q143.654 1003.86 143.654 1009.28 Q143.654 1014.86 140.181 1017.96 Q136.709 1021.04 130.39 1021.04 Q128.214 1021.04 125.945 1020.67 Q123.7 1020.3 121.293 1019.56 L121.293 1014.86 Q123.376 1015.99 125.598 1016.55 Q127.82 1017.11 130.297 1017.11 Q134.302 1017.11 136.64 1015 Q138.978 1012.89 138.978 1009.28 Q138.978 1005.67 136.64 1003.56 Q134.302 1001.46 130.297 1001.46 Q128.422 1001.46 126.547 1001.87 Q124.695 1002.29 122.751 1003.17 L122.751 985.809 Z\" fill=\"#000000\" fill-rule=\"evenodd\" fill-opacity=\"1\" /><path clip-path=\"url(#clip830)\" d=\"M 0 0 M94.7419 709.817 Q91.1308 709.817 89.3021 713.382 Q87.4966 716.923 87.4966 724.053 Q87.4966 731.159 89.3021 734.724 Q91.1308 738.266 94.7419 738.266 Q98.3761 738.266 100.182 734.724 Q102.01 731.159 102.01 724.053 Q102.01 716.923 100.182 713.382 Q98.3761 709.817 94.7419 709.817 M94.7419 706.113 Q100.552 706.113 103.608 710.72 Q106.686 715.303 106.686 724.053 Q106.686 732.78 103.608 737.386 Q100.552 741.97 94.7419 741.97 Q88.9317 741.97 85.8531 737.386 Q82.7975 732.78 82.7975 724.053 Q82.7975 715.303 85.8531 710.72 Q88.9317 706.113 94.7419 706.113 Z\" fill=\"#000000\" fill-rule=\"evenodd\" fill-opacity=\"1\" /><path clip-path=\"url(#clip830)\" d=\"M 0 0 M111.756 735.419 L116.64 735.419 L116.64 741.298 L111.756 741.298 L111.756 735.419 Z\" fill=\"#000000\" fill-rule=\"evenodd\" fill-opacity=\"1\" /><path clip-path=\"url(#clip830)\" d=\"M 0 0 M131.709 709.817 Q128.098 709.817 126.27 713.382 Q124.464 716.923 124.464 724.053 Q124.464 731.159 126.27 734.724 Q128.098 738.266 131.709 738.266 Q135.344 738.266 137.149 734.724 Q138.978 731.159 138.978 724.053 Q138.978 716.923 137.149 713.382 Q135.344 709.817 131.709 709.817 M131.709 706.113 Q137.519 706.113 140.575 710.72 Q143.654 715.303 143.654 724.053 Q143.654 732.78 140.575 737.386 Q137.519 741.97 131.709 741.97 Q125.899 741.97 122.82 737.386 Q119.765 732.78 119.765 724.053 Q119.765 715.303 122.82 710.72 Q125.899 706.113 131.709 706.113 Z\" fill=\"#000000\" fill-rule=\"evenodd\" fill-opacity=\"1\" /><path clip-path=\"url(#clip830)\" d=\"M 0 0 M95.7373 430.746 Q92.1262 430.746 90.2975 434.311 Q88.4919 437.853 88.4919 444.982 Q88.4919 452.089 90.2975 455.653 Q92.1262 459.195 95.7373 459.195 Q99.3715 459.195 101.177 455.653 Q103.006 452.089 103.006 444.982 Q103.006 437.853 101.177 434.311 Q99.3715 430.746 95.7373 430.746 M95.7373 427.043 Q101.547 427.043 104.603 431.649 Q107.682 436.232 107.682 444.982 Q107.682 453.709 104.603 458.315 Q101.547 462.899 95.7373 462.899 Q89.9271 462.899 86.8484 458.315 Q83.7929 453.709 83.7929 444.982 Q83.7929 436.232 86.8484 431.649 Q89.9271 427.043 95.7373 427.043 Z\" fill=\"#000000\" fill-rule=\"evenodd\" fill-opacity=\"1\" /><path clip-path=\"url(#clip830)\" d=\"M 0 0 M112.751 456.348 L117.635 456.348 L117.635 462.228 L112.751 462.228 L112.751 456.348 Z\" fill=\"#000000\" fill-rule=\"evenodd\" fill-opacity=\"1\" /><path clip-path=\"url(#clip830)\" d=\"M 0 0 M122.751 427.668 L141.107 427.668 L141.107 431.603 L127.033 431.603 L127.033 440.075 Q128.052 439.728 129.07 439.566 Q130.089 439.38 131.107 439.38 Q136.894 439.38 140.274 442.552 Q143.654 445.723 143.654 451.14 Q143.654 456.718 140.181 459.82 Q136.709 462.899 130.39 462.899 Q128.214 462.899 125.945 462.528 Q123.7 462.158 121.293 461.417 L121.293 456.718 Q123.376 457.853 125.598 458.408 Q127.82 458.964 130.297 458.964 Q134.302 458.964 136.64 456.857 Q138.978 454.751 138.978 451.14 Q138.978 447.529 136.64 445.422 Q134.302 443.316 130.297 443.316 Q128.422 443.316 126.547 443.732 Q124.695 444.149 122.751 445.029 L122.751 427.668 Z\" fill=\"#000000\" fill-rule=\"evenodd\" fill-opacity=\"1\" /><path clip-path=\"url(#clip830)\" d=\"M 0 0 M86.779 179.222 L94.4178 179.222 L94.4178 152.856 L86.1077 154.523 L86.1077 150.263 L94.3715 148.597 L99.0474 148.597 L99.0474 179.222 L106.686 179.222 L106.686 183.157 L86.779 183.157 L86.779 179.222 Z\" fill=\"#000000\" fill-rule=\"evenodd\" fill-opacity=\"1\" /><path clip-path=\"url(#clip830)\" d=\"M 0 0 M111.756 177.277 L116.64 177.277 L116.64 183.157 L111.756 183.157 L111.756 177.277 Z\" fill=\"#000000\" fill-rule=\"evenodd\" fill-opacity=\"1\" /><path clip-path=\"url(#clip830)\" d=\"M 0 0 M131.709 151.675 Q128.098 151.675 126.27 155.24 Q124.464 158.782 124.464 165.911 Q124.464 173.018 126.27 176.583 Q128.098 180.124 131.709 180.124 Q135.344 180.124 137.149 176.583 Q138.978 173.018 138.978 165.911 Q138.978 158.782 137.149 155.24 Q135.344 151.675 131.709 151.675 M131.709 147.972 Q137.519 147.972 140.575 152.578 Q143.654 157.161 143.654 165.911 Q143.654 174.638 140.575 179.245 Q137.519 183.828 131.709 183.828 Q125.899 183.828 122.82 179.245 Q119.765 174.638 119.765 165.911 Q119.765 157.161 122.82 152.578 Q125.899 147.972 131.709 147.972 Z\" fill=\"#000000\" fill-rule=\"evenodd\" fill-opacity=\"1\" /><circle clip-path=\"url(#clip832)\" cx=\"241.157\" cy=\"732.484\" r=\"14\" fill=\"#009af9\" fill-rule=\"evenodd\" fill-opacity=\"1\" stroke=\"#000000\" stroke-opacity=\"1\" stroke-width=\"3.2\"/>\n",
       "<circle clip-path=\"url(#clip832)\" cx=\"349.056\" cy=\"543.326\" r=\"14\" fill=\"#009af9\" fill-rule=\"evenodd\" fill-opacity=\"1\" stroke=\"#000000\" stroke-opacity=\"1\" stroke-width=\"3.2\"/>\n",
       "<circle clip-path=\"url(#clip832)\" cx=\"456.956\" cy=\"974.289\" r=\"14\" fill=\"#009af9\" fill-rule=\"evenodd\" fill-opacity=\"1\" stroke=\"#000000\" stroke-opacity=\"1\" stroke-width=\"3.2\"/>\n",
       "<circle clip-path=\"url(#clip832)\" cx=\"564.856\" cy=\"1222.16\" r=\"14\" fill=\"#009af9\" fill-rule=\"evenodd\" fill-opacity=\"1\" stroke=\"#000000\" stroke-opacity=\"1\" stroke-width=\"3.2\"/>\n",
       "<circle clip-path=\"url(#clip832)\" cx=\"672.756\" cy=\"1266.63\" r=\"14\" fill=\"#009af9\" fill-rule=\"evenodd\" fill-opacity=\"1\" stroke=\"#000000\" stroke-opacity=\"1\" stroke-width=\"3.2\"/>\n",
       "<circle clip-path=\"url(#clip832)\" cx=\"780.656\" cy=\"1193.07\" r=\"14\" fill=\"#009af9\" fill-rule=\"evenodd\" fill-opacity=\"1\" stroke=\"#000000\" stroke-opacity=\"1\" stroke-width=\"3.2\"/>\n",
       "<circle clip-path=\"url(#clip832)\" cx=\"888.555\" cy=\"1445.72\" r=\"14\" fill=\"#009af9\" fill-rule=\"evenodd\" fill-opacity=\"1\" stroke=\"#000000\" stroke-opacity=\"1\" stroke-width=\"3.2\"/>\n",
       "<circle clip-path=\"url(#clip832)\" cx=\"996.455\" cy=\"1017.25\" r=\"14\" fill=\"#009af9\" fill-rule=\"evenodd\" fill-opacity=\"1\" stroke=\"#000000\" stroke-opacity=\"1\" stroke-width=\"3.2\"/>\n",
       "<circle clip-path=\"url(#clip832)\" cx=\"1104.36\" cy=\"761.256\" r=\"14\" fill=\"#009af9\" fill-rule=\"evenodd\" fill-opacity=\"1\" stroke=\"#000000\" stroke-opacity=\"1\" stroke-width=\"3.2\"/>\n",
       "<circle clip-path=\"url(#clip832)\" cx=\"1212.25\" cy=\"1133.1\" r=\"14\" fill=\"#009af9\" fill-rule=\"evenodd\" fill-opacity=\"1\" stroke=\"#000000\" stroke-opacity=\"1\" stroke-width=\"3.2\"/>\n",
       "<circle clip-path=\"url(#clip832)\" cx=\"1320.15\" cy=\"736.194\" r=\"14\" fill=\"#009af9\" fill-rule=\"evenodd\" fill-opacity=\"1\" stroke=\"#000000\" stroke-opacity=\"1\" stroke-width=\"3.2\"/>\n",
       "<circle clip-path=\"url(#clip832)\" cx=\"1428.05\" cy=\"691.936\" r=\"14\" fill=\"#009af9\" fill-rule=\"evenodd\" fill-opacity=\"1\" stroke=\"#000000\" stroke-opacity=\"1\" stroke-width=\"3.2\"/>\n",
       "<circle clip-path=\"url(#clip832)\" cx=\"1535.95\" cy=\"512.49\" r=\"14\" fill=\"#009af9\" fill-rule=\"evenodd\" fill-opacity=\"1\" stroke=\"#000000\" stroke-opacity=\"1\" stroke-width=\"3.2\"/>\n",
       "<circle clip-path=\"url(#clip832)\" cx=\"1643.85\" cy=\"215.408\" r=\"14\" fill=\"#009af9\" fill-rule=\"evenodd\" fill-opacity=\"1\" stroke=\"#000000\" stroke-opacity=\"1\" stroke-width=\"3.2\"/>\n",
       "<circle clip-path=\"url(#clip832)\" cx=\"1751.75\" cy=\"87.9763\" r=\"14\" fill=\"#009af9\" fill-rule=\"evenodd\" fill-opacity=\"1\" stroke=\"#000000\" stroke-opacity=\"1\" stroke-width=\"3.2\"/>\n",
       "<circle clip-path=\"url(#clip832)\" cx=\"1859.65\" cy=\"237.754\" r=\"14\" fill=\"#009af9\" fill-rule=\"evenodd\" fill-opacity=\"1\" stroke=\"#000000\" stroke-opacity=\"1\" stroke-width=\"3.2\"/>\n",
       "<circle clip-path=\"url(#clip832)\" cx=\"1967.55\" cy=\"115.801\" r=\"14\" fill=\"#009af9\" fill-rule=\"evenodd\" fill-opacity=\"1\" stroke=\"#000000\" stroke-opacity=\"1\" stroke-width=\"3.2\"/>\n",
       "<circle clip-path=\"url(#clip832)\" cx=\"2075.45\" cy=\"461.967\" r=\"14\" fill=\"#009af9\" fill-rule=\"evenodd\" fill-opacity=\"1\" stroke=\"#000000\" stroke-opacity=\"1\" stroke-width=\"3.2\"/>\n",
       "<circle clip-path=\"url(#clip832)\" cx=\"2183.35\" cy=\"583.237\" r=\"14\" fill=\"#009af9\" fill-rule=\"evenodd\" fill-opacity=\"1\" stroke=\"#000000\" stroke-opacity=\"1\" stroke-width=\"3.2\"/>\n",
       "<circle clip-path=\"url(#clip832)\" cx=\"2291.25\" cy=\"690.843\" r=\"14\" fill=\"#009af9\" fill-rule=\"evenodd\" fill-opacity=\"1\" stroke=\"#000000\" stroke-opacity=\"1\" stroke-width=\"3.2\"/>\n",
       "<polyline clip-path=\"url(#clip832)\" style=\"stroke:#0000ff; stroke-width:4; stroke-opacity:1; fill:none\" stroke-dasharray=\"16, 10\" points=\"\n",
       "  241.157,724.018 246.295,732.807 251.433,741.594 256.571,750.376 261.709,759.152 266.847,767.919 271.985,776.675 277.123,785.418 282.261,794.146 287.399,802.857 \n",
       "  292.537,811.548 297.676,820.217 302.814,828.863 307.952,837.482 313.09,846.073 318.228,854.634 323.366,863.163 328.504,871.657 333.642,880.115 338.78,888.533 \n",
       "  343.918,896.911 349.056,905.247 354.194,913.537 359.333,921.78 364.471,929.974 369.609,938.117 374.747,946.207 379.885,954.242 385.023,962.22 390.161,970.139 \n",
       "  395.299,977.996 400.437,985.791 405.575,993.521 410.713,1001.18 415.851,1008.78 420.99,1016.3 426.128,1023.75 431.266,1031.13 436.404,1038.43 441.542,1045.65 \n",
       "  446.68,1052.8 451.818,1059.86 456.956,1066.84 462.094,1073.73 467.232,1080.54 472.37,1087.25 477.509,1093.88 482.647,1100.42 487.785,1106.86 492.923,1113.21 \n",
       "  498.061,1119.46 503.199,1125.61 508.337,1131.67 513.475,1137.62 518.613,1143.47 523.751,1149.22 528.889,1154.86 534.027,1160.39 539.166,1165.82 544.304,1171.13 \n",
       "  549.442,1176.34 554.58,1181.43 559.718,1186.41 564.856,1191.28 569.994,1196.02 575.132,1200.66 580.27,1205.17 585.408,1209.57 590.546,1213.84 595.685,1217.99 \n",
       "  600.823,1222.02 605.961,1225.93 611.099,1229.71 616.237,1233.37 621.375,1236.9 626.513,1240.3 631.651,1243.58 636.789,1246.72 641.927,1249.74 647.065,1252.63 \n",
       "  652.203,1255.38 657.342,1258.01 662.48,1260.5 667.618,1262.86 672.756,1265.08 677.894,1267.17 683.032,1269.13 688.17,1270.95 693.308,1272.63 698.446,1274.18 \n",
       "  703.584,1275.59 708.722,1276.87 713.861,1278.01 718.999,1279.01 724.137,1279.87 729.275,1280.6 734.413,1281.19 739.551,1281.64 744.689,1281.95 749.827,1282.12 \n",
       "  754.965,1282.16 760.103,1282.05 765.241,1281.81 770.379,1281.43 775.518,1280.91 780.656,1280.25 785.794,1279.46 790.932,1278.53 796.07,1277.46 801.208,1276.25 \n",
       "  806.346,1274.91 811.484,1273.42 816.622,1271.81 821.76,1270.05 826.898,1268.17 832.036,1266.14 837.175,1263.99 842.313,1261.69 847.451,1259.27 852.589,1256.71 \n",
       "  857.727,1254.02 862.865,1251.2 868.003,1248.25 873.141,1245.17 878.279,1241.96 883.417,1238.62 888.555,1235.15 893.694,1231.56 898.832,1227.84 903.97,1223.99 \n",
       "  909.108,1220.02 914.246,1215.93 919.384,1211.72 924.522,1207.38 929.66,1202.93 934.798,1198.36 939.936,1193.66 945.074,1188.86 950.212,1183.94 955.351,1178.9 \n",
       "  960.489,1173.75 965.627,1168.49 970.765,1163.12 975.903,1157.64 981.041,1152.05 986.179,1146.36 991.317,1140.56 996.455,1134.66 1001.59,1128.65 1006.73,1122.55 \n",
       "  1011.87,1116.35 1017.01,1110.05 1022.15,1103.65 1027.28,1097.16 1032.42,1090.58 1037.56,1083.91 1042.7,1077.14 1047.84,1070.29 1052.97,1063.36 1058.11,1056.34 \n",
       "  1063.25,1049.23 1068.39,1042.05 1073.53,1034.79 1078.66,1027.45 1083.8,1020.04 1088.94,1012.55 1094.08,1004.99 1099.22,997.361 1104.36,989.664 1109.49,981.902 \n",
       "  1114.63,974.075 1119.77,966.187 1124.91,958.238 1130.05,950.232 1135.18,942.169 1140.32,934.052 1145.46,925.883 1150.6,917.664 1155.74,909.397 1160.87,901.085 \n",
       "  1166.01,892.728 1171.15,884.329 1176.29,875.891 1181.43,867.415 1186.56,858.903 1191.7,850.358 1196.84,841.781 1201.98,833.176 1207.12,824.543 1212.25,815.885 \n",
       "  1217.39,807.205 1222.53,798.504 1227.67,789.784 1232.81,781.049 1237.95,772.299 1243.08,763.537 1248.22,754.765 1253.36,745.986 1258.5,737.201 1263.64,728.413 \n",
       "  1268.77,719.624 1273.91,710.836 1279.05,702.051 1284.19,693.272 1289.33,684.5 1294.46,675.738 1299.6,666.988 1304.74,658.252 1309.88,649.533 1315.02,640.832 \n",
       "  1320.15,632.151 1325.29,623.494 1330.43,614.861 1335.57,606.255 1340.71,597.679 1345.85,589.134 1350.98,580.622 1356.12,572.146 1361.26,563.708 1366.4,555.309 \n",
       "  1371.54,546.952 1376.67,538.639 1381.81,530.372 1386.95,522.153 1392.09,513.984 1397.23,505.868 1402.36,497.805 1407.5,489.798 1412.64,481.85 1417.78,473.961 \n",
       "  1422.92,466.135 1428.05,458.372 1433.19,450.676 1438.33,443.047 1443.47,435.488 1448.61,428 1453.74,420.586 1458.88,413.247 1464.02,405.985 1469.16,398.802 \n",
       "  1474.3,391.699 1479.44,384.679 1484.57,377.743 1489.71,370.893 1494.85,364.131 1499.99,357.458 1505.13,350.875 1510.26,344.386 1515.4,337.99 1520.54,331.69 \n",
       "  1525.68,325.487 1530.82,319.384 1535.95,313.38 1541.09,307.479 1546.23,301.68 1551.37,295.987 1556.51,290.399 1561.64,284.919 1566.78,279.548 1571.92,274.287 \n",
       "  1577.06,269.138 1582.2,264.101 1587.34,259.179 1592.47,254.372 1597.61,249.681 1602.75,245.108 1607.89,240.653 1613.03,236.319 1618.16,232.105 1623.3,228.014 \n",
       "  1628.44,224.045 1633.58,220.201 1638.72,216.481 1643.85,212.887 1648.99,209.42 1654.13,206.081 1659.27,202.87 1664.41,199.788 1669.54,196.836 1674.68,194.015 \n",
       "  1679.82,191.325 1684.96,188.768 1690.1,186.343 1695.23,184.051 1700.37,181.894 1705.51,179.87 1710.65,177.982 1715.79,176.229 1720.93,174.612 1726.06,173.132 \n",
       "  1731.2,171.787 1736.34,170.58 1741.48,169.51 1746.62,168.578 1751.75,167.783 1756.89,167.126 1762.03,166.607 1767.17,166.227 1772.31,165.985 1777.44,165.881 \n",
       "  1782.58,165.916 1787.72,166.089 1792.86,166.4 1798,166.85 1803.13,167.437 1808.27,168.163 1813.41,169.027 1818.55,170.028 1823.69,171.167 1828.83,172.442 \n",
       "  1833.96,173.855 1839.1,175.404 1844.24,177.089 1849.38,178.909 1854.52,180.865 1859.65,182.956 1864.79,185.18 1869.93,187.539 1875.07,190.03 1880.21,192.654 \n",
       "  1885.34,195.409 1890.48,198.296 1895.62,201.312 1900.76,204.459 1905.9,207.734 1911.03,211.138 1916.17,214.668 1921.31,218.325 1926.45,222.107 1931.59,226.014 \n",
       "  1936.73,230.044 1941.86,234.197 1947,238.471 1952.14,242.866 1957.28,247.38 1962.42,252.012 1967.55,256.761 1972.69,261.626 1977.83,266.606 1982.97,271.699 \n",
       "  1988.11,276.904 1993.24,282.22 1998.38,287.646 2003.52,293.18 2008.66,298.82 2013.8,304.566 2018.93,310.417 2024.07,316.369 2029.21,322.423 2034.35,328.576 \n",
       "  2039.49,334.828 2044.62,341.176 2049.76,347.619 2054.9,354.155 2060.04,360.783 2065.18,367.501 2070.32,374.307 2075.45,381.201 2080.59,388.179 2085.73,395.24 \n",
       "  2090.87,402.383 2096.01,409.606 2101.14,416.907 2106.28,424.283 2111.42,431.735 2116.56,439.258 2121.7,446.853 2126.83,454.516 2131.97,462.245 2137.11,470.04 \n",
       "  2142.25,477.898 2147.39,485.817 2152.52,493.794 2157.66,501.829 2162.8,509.919 2167.94,518.062 2173.08,526.257 2178.22,534.5 2183.35,542.79 2188.49,551.125 \n",
       "  2193.63,559.503 2198.77,567.922 2203.91,576.38 2209.04,584.874 2214.18,593.402 2219.32,601.963 2224.46,610.555 2229.6,619.174 2234.73,627.819 2239.87,636.489 \n",
       "  2245.01,645.18 2250.15,653.89 2255.29,662.618 2260.42,671.361 2265.56,680.118 2270.7,688.885 2275.84,697.66 2280.98,706.443 2286.11,715.229 2291.25,724.018 \n",
       "  \n",
       "  \"/>\n",
       "<polyline clip-path=\"url(#clip832)\" style=\"stroke:#ff0000; stroke-width:8; stroke-opacity:1; fill:none\" points=\"\n",
       "  241.157,500.003 246.295,517.47 251.433,534.7 256.571,551.695 261.709,568.456 266.847,584.983 271.985,601.278 277.123,617.342 282.261,633.177 287.399,648.783 \n",
       "  292.537,664.161 297.676,679.314 302.814,694.241 307.952,708.944 313.09,723.424 318.228,737.682 323.366,751.72 328.504,765.538 333.642,779.139 338.78,792.522 \n",
       "  343.918,805.689 349.056,818.641 354.194,831.379 359.333,843.905 364.471,856.22 369.609,868.324 374.747,880.22 379.885,891.907 385.023,903.387 390.161,914.662 \n",
       "  395.299,925.733 400.437,936.6 405.575,947.264 410.713,957.728 415.851,967.992 420.99,978.057 426.128,987.925 431.266,997.596 436.404,1007.07 441.542,1016.35 \n",
       "  446.68,1025.44 451.818,1034.34 456.956,1043.04 462.094,1051.56 467.232,1059.89 472.37,1068.03 477.509,1075.98 482.647,1083.75 487.785,1091.34 492.923,1098.74 \n",
       "  498.061,1105.96 503.199,1113 508.337,1119.87 513.475,1126.55 518.613,1133.06 523.751,1139.39 528.889,1145.54 534.027,1151.53 539.166,1157.34 544.304,1162.98 \n",
       "  549.442,1168.44 554.58,1173.74 559.718,1178.88 564.856,1183.84 569.994,1188.64 575.132,1193.28 580.27,1197.75 585.408,1202.06 590.546,1206.21 595.685,1210.2 \n",
       "  600.823,1214.04 605.961,1217.71 611.099,1221.23 616.237,1224.59 621.375,1227.8 626.513,1230.86 631.651,1233.76 636.789,1236.51 641.927,1239.12 647.065,1241.57 \n",
       "  652.203,1243.88 657.342,1246.05 662.48,1248.06 667.618,1249.94 672.756,1251.67 677.894,1253.26 683.032,1254.71 688.17,1256.02 693.308,1257.2 698.446,1258.23 \n",
       "  703.584,1259.13 708.722,1259.9 713.861,1260.53 718.999,1261.04 724.137,1261.41 729.275,1261.65 734.413,1261.76 739.551,1261.74 744.689,1261.6 749.827,1261.33 \n",
       "  754.965,1260.94 760.103,1260.42 765.241,1259.79 770.379,1259.03 775.518,1258.15 780.656,1257.16 785.794,1256.04 790.932,1254.82 796.07,1253.47 801.208,1252.01 \n",
       "  806.346,1250.44 811.484,1248.76 816.622,1246.97 821.76,1245.07 826.898,1243.06 832.036,1240.94 837.175,1238.72 842.313,1236.39 847.451,1233.96 852.589,1231.43 \n",
       "  857.727,1228.8 862.865,1226.06 868.003,1223.23 873.141,1220.3 878.279,1217.27 883.417,1214.15 888.555,1210.93 893.694,1207.63 898.832,1204.22 903.97,1200.73 \n",
       "  909.108,1197.15 914.246,1193.48 919.384,1189.72 924.522,1185.87 929.66,1181.94 934.798,1177.93 939.936,1173.83 945.074,1169.66 950.212,1165.4 955.351,1161.06 \n",
       "  960.489,1156.64 965.627,1152.15 970.765,1147.58 975.903,1142.94 981.041,1138.22 986.179,1133.43 991.317,1128.57 996.455,1123.63 1001.59,1118.63 1006.73,1113.57 \n",
       "  1011.87,1108.43 1017.01,1103.23 1022.15,1097.96 1027.28,1092.64 1032.42,1087.24 1037.56,1081.79 1042.7,1076.28 1047.84,1070.71 1052.97,1065.08 1058.11,1059.4 \n",
       "  1063.25,1053.66 1068.39,1047.86 1073.53,1042.02 1078.66,1036.12 1083.8,1030.17 1088.94,1024.17 1094.08,1018.12 1099.22,1012.03 1104.36,1005.89 1109.49,999.704 \n",
       "  1114.63,993.474 1119.77,987.203 1124.91,980.889 1130.05,974.536 1135.18,968.143 1140.32,961.712 1145.46,955.244 1150.6,948.741 1155.74,942.203 1160.87,935.631 \n",
       "  1166.01,929.027 1171.15,922.392 1176.29,915.727 1181.43,909.033 1186.56,902.312 1191.7,895.564 1196.84,888.79 1201.98,881.992 1207.12,875.171 1212.25,868.328 \n",
       "  1217.39,861.465 1222.53,854.581 1227.67,847.679 1232.81,840.76 1237.95,833.824 1243.08,826.874 1248.22,819.909 1253.36,812.932 1258.5,805.943 1263.64,798.943 \n",
       "  1268.77,791.934 1273.91,784.917 1279.05,777.893 1284.19,770.863 1289.33,763.828 1294.46,756.79 1299.6,749.749 1304.74,742.707 1309.88,735.665 1315.02,728.624 \n",
       "  1320.15,721.584 1325.29,714.549 1330.43,707.517 1335.57,700.491 1340.71,693.472 1345.85,686.461 1350.98,679.459 1356.12,672.467 1361.26,665.486 1366.4,658.518 \n",
       "  1371.54,651.563 1376.67,644.623 1381.81,637.699 1386.95,630.792 1392.09,623.904 1397.23,617.034 1402.36,610.185 1407.5,603.358 1412.64,596.554 1417.78,589.773 \n",
       "  1422.92,583.018 1428.05,576.289 1433.19,569.587 1438.33,562.914 1443.47,556.271 1448.61,549.658 1453.74,543.077 1458.88,536.53 1464.02,530.017 1469.16,523.539 \n",
       "  1474.3,517.098 1479.44,510.694 1484.57,504.329 1489.71,498.005 1494.85,491.721 1499.99,485.48 1505.13,479.282 1510.26,473.129 1515.4,467.022 1520.54,460.962 \n",
       "  1525.68,454.949 1530.82,448.986 1535.95,443.073 1541.09,437.212 1546.23,431.403 1551.37,425.649 1556.51,419.949 1561.64,414.305 1566.78,408.718 1571.92,403.19 \n",
       "  1577.06,397.722 1582.2,392.314 1587.34,386.967 1592.47,381.684 1597.61,376.465 1602.75,371.311 1607.89,366.224 1613.03,361.204 1618.16,356.253 1623.3,351.372 \n",
       "  1628.44,346.562 1633.58,341.824 1638.72,337.159 1643.85,332.569 1648.99,328.055 1654.13,323.617 1659.27,319.257 1664.41,314.976 1669.54,310.775 1674.68,306.656 \n",
       "  1679.82,302.619 1684.96,298.666 1690.1,294.797 1695.23,291.015 1700.37,287.319 1705.51,283.712 1710.65,280.194 1715.79,276.767 1720.93,273.432 1726.06,270.189 \n",
       "  1731.2,267.04 1736.34,263.986 1741.48,261.029 1746.62,258.169 1751.75,255.408 1756.89,252.746 1762.03,250.185 1767.17,247.726 1772.31,245.371 1777.44,243.119 \n",
       "  1782.58,240.974 1787.72,238.934 1792.86,237.003 1798,235.18 1803.13,233.468 1808.27,231.866 1813.41,230.377 1818.55,229.002 1823.69,227.741 1828.83,226.595 \n",
       "  1833.96,225.567 1839.1,224.657 1844.24,223.866 1849.38,223.196 1854.52,222.647 1859.65,222.221 1864.79,221.918 1869.93,221.741 1875.07,221.689 1880.21,221.765 \n",
       "  1885.34,221.969 1890.48,222.303 1895.62,222.768 1900.76,223.364 1905.9,224.094 1911.03,224.957 1916.17,225.956 1921.31,227.091 1926.45,228.364 1931.59,229.776 \n",
       "  1936.73,231.328 1941.86,233.02 1947,234.855 1952.14,236.833 1957.28,238.956 1962.42,241.224 1967.55,243.639 1972.69,246.202 1977.83,248.914 1982.97,251.776 \n",
       "  1988.11,254.79 1993.24,257.956 1998.38,261.276 2003.52,264.751 2008.66,268.381 2013.8,272.169 2018.93,276.115 2024.07,280.221 2029.21,284.487 2034.35,288.914 \n",
       "  2039.49,293.505 2044.62,298.259 2049.76,303.179 2054.9,308.265 2060.04,313.519 2065.18,318.941 2070.32,324.532 2075.45,330.295 2080.59,336.23 2085.73,342.338 \n",
       "  2090.87,348.62 2096.01,355.078 2101.14,361.712 2106.28,368.524 2111.42,375.515 2116.56,382.686 2121.7,390.039 2126.83,397.573 2131.97,405.291 2137.11,413.194 \n",
       "  2142.25,421.283 2147.39,429.559 2152.52,438.022 2157.66,446.676 2162.8,455.519 2167.94,464.554 2173.08,473.782 2178.22,483.203 2183.35,492.82 2188.49,502.632 \n",
       "  2193.63,512.642 2198.77,522.851 2203.91,533.259 2209.04,543.868 2214.18,554.678 2219.32,565.692 2224.46,576.91 2229.6,588.333 2234.73,599.963 2239.87,611.8 \n",
       "  2245.01,623.846 2250.15,636.102 2255.29,648.569 2260.42,661.248 2265.56,674.141 2270.7,687.248 2275.84,700.571 2280.98,714.11 2286.11,727.868 2291.25,741.845 \n",
       "  \n",
       "  \"/>\n",
       "<path clip-path=\"url(#clip830)\" d=\"\n",
       "M252.09 337.138 L923.174 337.138 L923.174 95.2176 L252.09 95.2176  Z\n",
       "  \" fill=\"#ffffff\" fill-rule=\"evenodd\" fill-opacity=\"1\"/>\n",
       "<polyline clip-path=\"url(#clip830)\" style=\"stroke:#000000; stroke-width:4; stroke-opacity:1; fill:none\" points=\"\n",
       "  252.09,337.138 923.174,337.138 923.174,95.2176 252.09,95.2176 252.09,337.138 \n",
       "  \"/>\n",
       "<circle clip-path=\"url(#clip830)\" cx=\"348.673\" cy=\"155.698\" r=\"23\" fill=\"#009af9\" fill-rule=\"evenodd\" fill-opacity=\"1\" stroke=\"#000000\" stroke-opacity=\"1\" stroke-width=\"5.12\"/>\n",
       "<path clip-path=\"url(#clip830)\" d=\"M 0 0 M463.681 147.816 L463.681 151.843 Q461.875 150.917 459.931 150.455 Q457.986 149.992 455.903 149.992 Q452.732 149.992 451.135 150.964 Q449.561 151.936 449.561 153.88 Q449.561 155.362 450.695 156.218 Q451.829 157.052 455.255 157.816 L456.713 158.14 Q461.25 159.112 463.148 160.894 Q465.07 162.654 465.07 165.825 Q465.07 169.436 462.199 171.542 Q459.352 173.649 454.352 173.649 Q452.269 173.649 450 173.232 Q447.755 172.839 445.255 172.028 L445.255 167.63 Q447.616 168.857 449.908 169.482 Q452.199 170.084 454.445 170.084 Q457.454 170.084 459.074 169.066 Q460.695 168.024 460.695 166.149 Q460.695 164.413 459.514 163.487 Q458.357 162.561 454.399 161.704 L452.917 161.357 Q448.959 160.524 447.199 158.811 Q445.44 157.075 445.44 154.066 Q445.44 150.408 448.033 148.418 Q450.625 146.427 455.394 146.427 Q457.755 146.427 459.838 146.774 Q461.922 147.121 463.681 147.816 Z\" fill=\"#000000\" fill-rule=\"evenodd\" fill-opacity=\"1\" /><path clip-path=\"url(#clip830)\" d=\"M 0 0 M481.32 159.945 Q476.158 159.945 474.167 161.126 Q472.176 162.306 472.176 165.154 Q472.176 167.422 473.658 168.765 Q475.162 170.084 477.732 170.084 Q481.273 170.084 483.403 167.584 Q485.556 165.061 485.556 160.894 L485.556 159.945 L481.32 159.945 M489.815 158.186 L489.815 172.978 L485.556 172.978 L485.556 169.042 Q484.097 171.403 481.922 172.538 Q479.746 173.649 476.597 173.649 Q472.616 173.649 470.255 171.427 Q467.917 169.181 467.917 165.431 Q467.917 161.056 470.834 158.834 Q473.773 156.612 479.584 156.612 L485.556 156.612 L485.556 156.195 Q485.556 153.255 483.611 151.658 Q481.69 150.038 478.195 150.038 Q475.972 150.038 473.866 150.57 Q471.76 151.103 469.815 152.167 L469.815 148.232 Q472.153 147.33 474.352 146.89 Q476.551 146.427 478.635 146.427 Q484.259 146.427 487.037 149.343 Q489.815 152.26 489.815 158.186 Z\" fill=\"#000000\" fill-rule=\"evenodd\" fill-opacity=\"1\" /><path clip-path=\"url(#clip830)\" d=\"M 0 0 M514.468 152.029 Q516.065 149.158 518.287 147.793 Q520.509 146.427 523.519 146.427 Q527.569 146.427 529.768 149.274 Q531.968 152.098 531.968 157.329 L531.968 172.978 L527.685 172.978 L527.685 157.468 Q527.685 153.742 526.366 151.936 Q525.046 150.13 522.338 150.13 Q519.028 150.13 517.107 152.33 Q515.185 154.529 515.185 158.325 L515.185 172.978 L510.903 172.978 L510.903 157.468 Q510.903 153.718 509.583 151.936 Q508.264 150.13 505.509 150.13 Q502.245 150.13 500.324 152.353 Q498.403 154.552 498.403 158.325 L498.403 172.978 L494.121 172.978 L494.121 147.052 L498.403 147.052 L498.403 151.08 Q499.861 148.695 501.898 147.561 Q503.935 146.427 506.736 146.427 Q509.56 146.427 511.528 147.862 Q513.519 149.297 514.468 152.029 Z\" fill=\"#000000\" fill-rule=\"evenodd\" fill-opacity=\"1\" /><path clip-path=\"url(#clip830)\" d=\"M 0 0 M540.555 169.089 L540.555 182.839 L536.273 182.839 L536.273 147.052 L540.555 147.052 L540.555 150.987 Q541.898 148.672 543.935 147.561 Q545.995 146.427 548.842 146.427 Q553.565 146.427 556.504 150.177 Q559.467 153.927 559.467 160.038 Q559.467 166.149 556.504 169.899 Q553.565 173.649 548.842 173.649 Q545.995 173.649 543.935 172.538 Q541.898 171.403 540.555 169.089 M555.046 160.038 Q555.046 155.339 553.102 152.677 Q551.18 149.992 547.801 149.992 Q544.421 149.992 542.477 152.677 Q540.555 155.339 540.555 160.038 Q540.555 164.737 542.477 167.422 Q544.421 170.084 547.801 170.084 Q551.18 170.084 553.102 167.422 Q555.046 164.737 555.046 160.038 Z\" fill=\"#000000\" fill-rule=\"evenodd\" fill-opacity=\"1\" /><path clip-path=\"url(#clip830)\" d=\"M 0 0 M563.935 136.959 L568.194 136.959 L568.194 172.978 L563.935 172.978 L563.935 136.959 Z\" fill=\"#000000\" fill-rule=\"evenodd\" fill-opacity=\"1\" /><path clip-path=\"url(#clip830)\" d=\"M 0 0 M594.838 158.95 L594.838 161.033 L575.254 161.033 Q575.532 165.431 577.893 167.746 Q580.277 170.038 584.514 170.038 Q586.967 170.038 589.259 169.436 Q591.574 168.834 593.842 167.63 L593.842 171.658 Q591.551 172.63 589.143 173.14 Q586.736 173.649 584.259 173.649 Q578.055 173.649 574.421 170.038 Q570.81 166.427 570.81 160.269 Q570.81 153.904 574.236 150.177 Q577.685 146.427 583.518 146.427 Q588.75 146.427 591.782 149.806 Q594.838 153.163 594.838 158.95 M590.578 157.7 Q590.532 154.205 588.611 152.121 Q586.713 150.038 583.564 150.038 Q580 150.038 577.847 152.052 Q575.717 154.066 575.393 157.723 L590.578 157.7 Z\" fill=\"#000000\" fill-rule=\"evenodd\" fill-opacity=\"1\" /><polyline clip-path=\"url(#clip830)\" style=\"stroke:#0000ff; stroke-width:4; stroke-opacity:1; fill:none\" stroke-dasharray=\"16, 10\" points=\"\n",
       "  276.236,216.178 421.109,216.178 \n",
       "  \"/>\n",
       "<path clip-path=\"url(#clip830)\" d=\"M 0 0 M463.681 208.296 L463.681 212.323 Q461.875 211.397 459.931 210.935 Q457.986 210.472 455.903 210.472 Q452.732 210.472 451.135 211.444 Q449.561 212.416 449.561 214.36 Q449.561 215.842 450.695 216.698 Q451.829 217.532 455.255 218.296 L456.713 218.62 Q461.25 219.592 463.148 221.374 Q465.07 223.134 465.07 226.305 Q465.07 229.916 462.199 232.022 Q459.352 234.129 454.352 234.129 Q452.269 234.129 450 233.712 Q447.755 233.319 445.255 232.508 L445.255 228.11 Q447.616 229.337 449.908 229.962 Q452.199 230.564 454.445 230.564 Q457.454 230.564 459.074 229.546 Q460.695 228.504 460.695 226.629 Q460.695 224.893 459.514 223.967 Q458.357 223.041 454.399 222.184 L452.917 221.837 Q448.959 221.004 447.199 219.291 Q445.44 217.555 445.44 214.546 Q445.44 210.888 448.033 208.898 Q450.625 206.907 455.394 206.907 Q457.755 206.907 459.838 207.254 Q461.922 207.601 463.681 208.296 Z\" fill=\"#000000\" fill-rule=\"evenodd\" fill-opacity=\"1\" /><path clip-path=\"url(#clip830)\" d=\"M 0 0 M469.537 207.532 L473.797 207.532 L473.797 233.458 L469.537 233.458 L469.537 207.532 M469.537 197.439 L473.797 197.439 L473.797 202.833 L469.537 202.833 L469.537 197.439 Z\" fill=\"#000000\" fill-rule=\"evenodd\" fill-opacity=\"1\" /><path clip-path=\"url(#clip830)\" d=\"M 0 0 M499.815 217.809 L499.815 233.458 L495.556 233.458 L495.556 217.948 Q495.556 214.268 494.121 212.439 Q492.685 210.61 489.815 210.61 Q486.366 210.61 484.375 212.81 Q482.384 215.009 482.384 218.805 L482.384 233.458 L478.102 233.458 L478.102 207.532 L482.384 207.532 L482.384 211.56 Q483.912 209.222 485.972 208.064 Q488.056 206.907 490.764 206.907 Q495.232 206.907 497.523 209.685 Q499.815 212.439 499.815 217.809 Z\" fill=\"#000000\" fill-rule=\"evenodd\" fill-opacity=\"1\" /><path clip-path=\"url(#clip830)\" d=\"M 0 0 M514.514 197.486 Q511.412 202.81 509.907 208.018 Q508.403 213.226 508.403 218.573 Q508.403 223.921 509.907 229.175 Q511.435 234.407 514.514 239.708 L510.81 239.708 Q507.338 234.268 505.602 229.013 Q503.889 223.759 503.889 218.573 Q503.889 213.411 505.602 208.18 Q507.315 202.948 510.81 197.486 L514.514 197.486 Z\" fill=\"#000000\" fill-rule=\"evenodd\" fill-opacity=\"1\" /><path clip-path=\"url(#clip830)\" d=\"M 0 0 M540.532 207.532 L531.157 220.147 L541.018 233.458 L535.995 233.458 L528.449 223.272 L520.903 233.458 L515.88 233.458 L525.949 219.893 L516.736 207.532 L521.759 207.532 L528.634 216.768 L535.509 207.532 L540.532 207.532 Z\" fill=\"#000000\" fill-rule=\"evenodd\" fill-opacity=\"1\" /><path clip-path=\"url(#clip830)\" d=\"M 0 0 M544.815 197.486 L548.518 197.486 Q551.991 202.948 553.704 208.18 Q555.44 213.411 555.44 218.573 Q555.44 223.759 553.704 229.013 Q551.991 234.268 548.518 239.708 L544.815 239.708 Q547.893 234.407 549.398 229.175 Q550.926 223.921 550.926 218.573 Q550.926 213.226 549.398 208.018 Q547.893 202.81 544.815 197.486 Z\" fill=\"#000000\" fill-rule=\"evenodd\" fill-opacity=\"1\" /><polyline clip-path=\"url(#clip830)\" style=\"stroke:#ff0000; stroke-width:4; stroke-opacity:1; fill:none\" points=\"\n",
       "  276.236,276.658 421.109,276.658 \n",
       "  \"/>\n",
       "<path clip-path=\"url(#clip830)\" d=\"M 0 0 M464.167 271.947 L464.167 257.919 L468.426 257.919 L468.426 293.938 L464.167 293.938 L464.167 290.049 Q462.824 292.363 460.764 293.498 Q458.727 294.609 455.857 294.609 Q451.158 294.609 448.195 290.859 Q445.255 287.109 445.255 280.998 Q445.255 274.887 448.195 271.137 Q451.158 267.387 455.857 267.387 Q458.727 267.387 460.764 268.521 Q462.824 269.632 464.167 271.947 M449.653 280.998 Q449.653 285.697 451.574 288.382 Q453.519 291.044 456.899 291.044 Q460.278 291.044 462.223 288.382 Q464.167 285.697 464.167 280.998 Q464.167 276.299 462.223 273.637 Q460.278 270.952 456.899 270.952 Q453.519 270.952 451.574 273.637 Q449.653 276.299 449.653 280.998 Z\" fill=\"#000000\" fill-rule=\"evenodd\" fill-opacity=\"1\" /><path clip-path=\"url(#clip830)\" d=\"M 0 0 M495.07 279.91 L495.07 281.993 L475.486 281.993 Q475.764 286.391 478.125 288.706 Q480.509 290.998 484.746 290.998 Q487.199 290.998 489.491 290.396 Q491.806 289.794 494.074 288.59 L494.074 292.618 Q491.783 293.59 489.375 294.1 Q486.968 294.609 484.491 294.609 Q478.287 294.609 474.653 290.998 Q471.042 287.387 471.042 281.229 Q471.042 274.864 474.468 271.137 Q477.917 267.387 483.75 267.387 Q488.982 267.387 492.014 270.766 Q495.07 274.123 495.07 279.91 M490.81 278.66 Q490.764 275.165 488.843 273.081 Q486.945 270.998 483.797 270.998 Q480.232 270.998 478.079 273.012 Q475.949 275.026 475.625 278.683 L490.81 278.66 Z\" fill=\"#000000\" fill-rule=\"evenodd\" fill-opacity=\"1\" /><path clip-path=\"url(#clip830)\" d=\"M 0 0 M516.597 280.674 Q516.597 276.044 514.676 273.498 Q512.778 270.952 509.329 270.952 Q505.903 270.952 503.982 273.498 Q502.083 276.044 502.083 280.674 Q502.083 285.28 503.982 287.826 Q505.903 290.373 509.329 290.373 Q512.778 290.373 514.676 287.826 Q516.597 285.28 516.597 280.674 M520.856 290.72 Q520.856 297.34 517.917 300.558 Q514.977 303.799 508.912 303.799 Q506.667 303.799 504.676 303.451 Q502.685 303.127 500.81 302.433 L500.81 298.289 Q502.685 299.308 504.514 299.794 Q506.343 300.28 508.241 300.28 Q512.431 300.28 514.514 298.081 Q516.597 295.905 516.597 291.484 L516.597 289.377 Q515.278 291.669 513.218 292.803 Q511.157 293.938 508.287 293.938 Q503.519 293.938 500.602 290.303 Q497.685 286.669 497.685 280.674 Q497.685 274.655 500.602 271.021 Q503.519 267.387 508.287 267.387 Q511.157 267.387 513.218 268.521 Q515.278 269.655 516.597 271.947 L516.597 268.012 L520.856 268.012 L520.856 290.72 Z\" fill=\"#000000\" fill-rule=\"evenodd\" fill-opacity=\"1\" /><path clip-path=\"url(#clip830)\" d=\"M 0 0 M540.347 271.993 Q539.63 271.577 538.773 271.391 Q537.94 271.183 536.921 271.183 Q533.31 271.183 531.366 273.544 Q529.444 275.882 529.444 280.28 L529.444 293.938 L525.162 293.938 L525.162 268.012 L529.444 268.012 L529.444 272.04 Q530.787 269.678 532.94 268.544 Q535.093 267.387 538.171 267.387 Q538.611 267.387 539.143 267.456 Q539.676 267.503 540.324 267.618 L540.347 271.993 Z\" fill=\"#000000\" fill-rule=\"evenodd\" fill-opacity=\"1\" /><path clip-path=\"url(#clip830)\" d=\"M 0 0 M565.949 279.91 L565.949 281.993 L546.366 281.993 Q546.643 286.391 549.004 288.706 Q551.389 290.998 555.625 290.998 Q558.079 290.998 560.37 290.396 Q562.685 289.794 564.953 288.59 L564.953 292.618 Q562.662 293.59 560.254 294.1 Q557.847 294.609 555.37 294.609 Q549.167 294.609 545.532 290.998 Q541.921 287.387 541.921 281.229 Q541.921 274.864 545.347 271.137 Q548.796 267.387 554.629 267.387 Q559.861 267.387 562.893 270.766 Q565.949 274.123 565.949 279.91 M561.69 278.66 Q561.643 275.165 559.722 273.081 Q557.824 270.998 554.676 270.998 Q551.111 270.998 548.958 273.012 Q546.829 275.026 546.505 278.683 L561.69 278.66 Z\" fill=\"#000000\" fill-rule=\"evenodd\" fill-opacity=\"1\" /><path clip-path=\"url(#clip830)\" d=\"M 0 0 M592.592 279.91 L592.592 281.993 L573.009 281.993 Q573.287 286.391 575.648 288.706 Q578.032 290.998 582.268 290.998 Q584.722 290.998 587.014 290.396 Q589.328 289.794 591.597 288.59 L591.597 292.618 Q589.305 293.59 586.898 294.1 Q584.49 294.609 582.014 294.609 Q575.81 294.609 572.176 290.998 Q568.565 287.387 568.565 281.229 Q568.565 274.864 571.99 271.137 Q575.44 267.387 581.273 267.387 Q586.504 267.387 589.537 270.766 Q592.592 274.123 592.592 279.91 M588.333 278.66 Q588.287 275.165 586.365 273.081 Q584.467 270.998 581.319 270.998 Q577.754 270.998 575.602 273.012 Q573.472 275.026 573.148 278.683 L588.333 278.66 Z\" fill=\"#000000\" fill-rule=\"evenodd\" fill-opacity=\"1\" /><path clip-path=\"url(#clip830)\" d=\"M 0 0 M594.907 279.053 L607.384 279.053 L607.384 282.85 L594.907 282.85 L594.907 279.053 Z\" fill=\"#000000\" fill-rule=\"evenodd\" fill-opacity=\"1\" /><path clip-path=\"url(#clip830)\" d=\"M 0 0 M626.62 275.303 Q629.976 276.021 631.851 278.289 Q633.749 280.558 633.749 283.891 Q633.749 289.007 630.231 291.808 Q626.712 294.609 620.231 294.609 Q618.055 294.609 615.74 294.169 Q613.449 293.752 610.995 292.896 L610.995 288.382 Q612.939 289.516 615.254 290.095 Q617.569 290.674 620.092 290.674 Q624.49 290.674 626.782 288.938 Q629.097 287.201 629.097 283.891 Q629.097 280.836 626.944 279.123 Q624.814 277.387 620.995 277.387 L616.967 277.387 L616.967 273.544 L621.18 273.544 Q624.629 273.544 626.458 272.178 Q628.286 270.79 628.286 268.197 Q628.286 265.535 626.388 264.123 Q624.513 262.688 620.995 262.688 Q619.074 262.688 616.875 263.104 Q614.675 263.521 612.037 264.401 L612.037 260.234 Q614.699 259.493 617.013 259.123 Q619.351 258.753 621.412 258.753 Q626.736 258.753 629.837 261.183 Q632.939 263.59 632.939 267.711 Q632.939 270.581 631.296 272.572 Q629.652 274.54 626.62 275.303 Z\" fill=\"#000000\" fill-rule=\"evenodd\" fill-opacity=\"1\" /><path clip-path=\"url(#clip830)\" d=\"M 0 0 M657.407 290.049 L657.407 303.799 L653.124 303.799 L653.124 268.012 L657.407 268.012 L657.407 271.947 Q658.749 269.632 660.786 268.521 Q662.846 267.387 665.694 267.387 Q670.416 267.387 673.356 271.137 Q676.319 274.887 676.319 280.998 Q676.319 287.109 673.356 290.859 Q670.416 294.609 665.694 294.609 Q662.846 294.609 660.786 293.498 Q658.749 292.363 657.407 290.049 M671.897 280.998 Q671.897 276.299 669.953 273.637 Q668.032 270.952 664.652 270.952 Q661.272 270.952 659.328 273.637 Q657.407 276.299 657.407 280.998 Q657.407 285.697 659.328 288.382 Q661.272 291.044 664.652 291.044 Q668.032 291.044 669.953 288.382 Q671.897 285.697 671.897 280.998 Z\" fill=\"#000000\" fill-rule=\"evenodd\" fill-opacity=\"1\" /><path clip-path=\"url(#clip830)\" d=\"M 0 0 M690.832 270.998 Q687.407 270.998 685.416 273.683 Q683.425 276.345 683.425 280.998 Q683.425 285.651 685.393 288.336 Q687.383 290.998 690.832 290.998 Q694.235 290.998 696.226 288.313 Q698.217 285.627 698.217 280.998 Q698.217 276.391 696.226 273.706 Q694.235 270.998 690.832 270.998 M690.832 267.387 Q696.388 267.387 699.559 270.998 Q702.731 274.609 702.731 280.998 Q702.731 287.364 699.559 290.998 Q696.388 294.609 690.832 294.609 Q685.254 294.609 682.082 290.998 Q678.934 287.364 678.934 280.998 Q678.934 274.609 682.082 270.998 Q685.254 267.387 690.832 267.387 Z\" fill=\"#000000\" fill-rule=\"evenodd\" fill-opacity=\"1\" /><path clip-path=\"url(#clip830)\" d=\"M 0 0 M707.198 257.919 L711.457 257.919 L711.457 293.938 L707.198 293.938 L707.198 257.919 Z\" fill=\"#000000\" fill-rule=\"evenodd\" fill-opacity=\"1\" /><path clip-path=\"url(#clip830)\" d=\"M 0 0 M726.712 296.345 Q724.906 300.975 723.193 302.387 Q721.48 303.799 718.61 303.799 L715.207 303.799 L715.207 300.234 L717.707 300.234 Q719.467 300.234 720.439 299.4 Q721.411 298.567 722.592 295.465 L723.355 293.521 L712.869 268.012 L717.383 268.012 L725.485 288.289 L733.587 268.012 L738.101 268.012 L726.712 296.345 Z\" fill=\"#000000\" fill-rule=\"evenodd\" fill-opacity=\"1\" /><path clip-path=\"url(#clip830)\" d=\"M 0 0 M764.119 278.289 L764.119 293.938 L759.86 293.938 L759.86 278.428 Q759.86 274.748 758.425 272.919 Q756.989 271.09 754.119 271.09 Q750.67 271.09 748.679 273.29 Q746.689 275.489 746.689 279.285 L746.689 293.938 L742.406 293.938 L742.406 268.012 L746.689 268.012 L746.689 272.04 Q748.216 269.702 750.277 268.544 Q752.36 267.387 755.068 267.387 Q759.536 267.387 761.827 270.165 Q764.119 272.919 764.119 278.289 Z\" fill=\"#000000\" fill-rule=\"evenodd\" fill-opacity=\"1\" /><path clip-path=\"url(#clip830)\" d=\"M 0 0 M778.633 270.998 Q775.207 270.998 773.216 273.683 Q771.226 276.345 771.226 280.998 Q771.226 285.651 773.193 288.336 Q775.184 290.998 778.633 290.998 Q782.036 290.998 784.026 288.313 Q786.017 285.627 786.017 280.998 Q786.017 276.391 784.026 273.706 Q782.036 270.998 778.633 270.998 M778.633 267.387 Q784.188 267.387 787.36 270.998 Q790.531 274.609 790.531 280.998 Q790.531 287.364 787.36 290.998 Q784.188 294.609 778.633 294.609 Q773.054 294.609 769.883 290.998 Q766.735 287.364 766.735 280.998 Q766.735 274.609 769.883 270.998 Q773.054 267.387 778.633 267.387 Z\" fill=\"#000000\" fill-rule=\"evenodd\" fill-opacity=\"1\" /><path clip-path=\"url(#clip830)\" d=\"M 0 0 M815.184 272.989 Q816.781 270.118 819.003 268.753 Q821.225 267.387 824.235 267.387 Q828.285 267.387 830.484 270.234 Q832.684 273.058 832.684 278.289 L832.684 293.938 L828.401 293.938 L828.401 278.428 Q828.401 274.702 827.082 272.896 Q825.762 271.09 823.054 271.09 Q819.744 271.09 817.822 273.29 Q815.901 275.489 815.901 279.285 L815.901 293.938 L811.619 293.938 L811.619 278.428 Q811.619 274.678 810.299 272.896 Q808.98 271.09 806.225 271.09 Q802.961 271.09 801.04 273.313 Q799.119 275.512 799.119 279.285 L799.119 293.938 L794.837 293.938 L794.837 268.012 L799.119 268.012 L799.119 272.04 Q800.577 269.655 802.614 268.521 Q804.651 267.387 807.452 267.387 Q810.276 267.387 812.244 268.822 Q814.235 270.257 815.184 272.989 Z\" fill=\"#000000\" fill-rule=\"evenodd\" fill-opacity=\"1\" /><path clip-path=\"url(#clip830)\" d=\"M 0 0 M837.151 268.012 L841.41 268.012 L841.41 293.938 L837.151 293.938 L837.151 268.012 M837.151 257.919 L841.41 257.919 L841.41 263.313 L837.151 263.313 L837.151 257.919 Z\" fill=\"#000000\" fill-rule=\"evenodd\" fill-opacity=\"1\" /><path clip-path=\"url(#clip830)\" d=\"M 0 0 M857.66 280.905 Q852.498 280.905 850.508 282.086 Q848.517 283.266 848.517 286.114 Q848.517 288.382 849.998 289.725 Q851.503 291.044 854.072 291.044 Q857.614 291.044 859.744 288.544 Q861.896 286.021 861.896 281.854 L861.896 280.905 L857.66 280.905 M866.156 279.146 L866.156 293.938 L861.896 293.938 L861.896 290.002 Q860.438 292.363 858.262 293.498 Q856.086 294.609 852.938 294.609 Q848.957 294.609 846.595 292.387 Q844.258 290.141 844.258 286.391 Q844.258 282.016 847.174 279.794 Q850.114 277.572 855.924 277.572 L861.896 277.572 L861.896 277.155 Q861.896 274.215 859.952 272.618 Q858.031 270.998 854.535 270.998 Q852.313 270.998 850.207 271.53 Q848.1 272.063 846.156 273.127 L846.156 269.192 Q848.494 268.29 850.693 267.85 Q852.892 267.387 854.975 267.387 Q860.6 267.387 863.378 270.303 Q866.156 273.22 866.156 279.146 Z\" fill=\"#000000\" fill-rule=\"evenodd\" fill-opacity=\"1\" /><path clip-path=\"url(#clip830)\" d=\"M 0 0 M870.623 257.919 L874.882 257.919 L874.882 293.938 L870.623 293.938 L870.623 257.919 Z\" fill=\"#000000\" fill-rule=\"evenodd\" fill-opacity=\"1\" /></svg>\n"
      ]
     },
     "execution_count": 59,
     "metadata": {},
     "output_type": "execute_result"
    }
   ],
   "source": [
    "begin\n",
    "    using Plots\n",
    "    n = 20\n",
    "    x = range(-π, π; length=20)\n",
    "    noise = 0.3randn(n)\n",
    "    y = sin.(x) + noise\n",
    "    X = hcat((x.^k for k in 0:3)...)\n",
    "    b = X\\y\n",
    "    f(x) = sum(b[k+1]*x^k for k in 0:3)\n",
    "    xs = range(-π, π; length=400)\n",
    "    plot(; legend=:topleft)\n",
    "    scatter!(x, y; label=\"sample\")\n",
    "    plot!(xs, sin.(xs); label=\"sin(x)\", color=:blue, ls=:dash)\n",
    "    plot!(xs, f.(xs); label=\"degree-3 polynomial\", color=:red, lw=2)\n",
    "end"
   ]
  },
  {
   "cell_type": "code",
   "execution_count": 60,
   "metadata": {},
   "outputs": [
    {
     "name": "stdout",
     "output_type": "stream",
     "text": [
      "(:block, \n",
      "    (:using, \n",
      "        (:., :Plots)), \n",
      "    (:(=), :n, 20), \n",
      "    (:(=), :x, \n",
      "        (:call, :range, \n",
      "            (:parameters, \n",
      "                (:kw, :length, 20)), \n",
      "            (:call, :-, :π), :π)), \n",
      "    (:(=), :noise, \n",
      "        (:call, :*, 0.3, \n",
      "            (:call, :randn, :n))), \n",
      "    (:(=), :y, \n",
      "        (:call, :+, \n",
      "            (:., :sin, \n",
      "                (:tuple, :x)), :noise)), \n",
      "    (:(=), :X, \n",
      "        (:call, :hcat, \n",
      "            (:..., \n",
      "                (:generator, \n",
      "                    (:call, :.^, :x, :k), \n",
      "                    (:(=), :k, \n",
      "                        (:call, :(:), 0, 3)))))), \n",
      "    (:(=), :b, \n",
      "        (:call, :\\, :X, :y)), \n",
      "    (:(=), \n",
      "        (:call, :f, :x), \n",
      "        (:block, \n",
      "            (:call, :sum, \n",
      "                (:generator, \n",
      "                    (:call, :*, \n",
      "                        (:ref, :b, \n",
      "                            (:call, :+, :k, 1)), \n",
      "                        (:call, :^, :x, :k)), \n",
      "                    (:(=), :k, \n",
      "                        (:call, :(:), 0, 3)))))), \n",
      "    (:(=), :xs, \n",
      "        (:call, :range, \n",
      "            (:parameters, \n",
      "                (:kw, :length, 400)), \n",
      "            (:call, :-, :π), :π)), \n",
      "    (:call, :plot, \n",
      "        (:parameters, \n",
      "            (:kw, :legend, QuoteNode(:topleft)))), \n",
      "    (:call, :scatter!, \n",
      "        (:parameters, \n",
      "            (:kw, :label, \"sample\")), :x, :y), \n",
      "    (:call, :plot!, \n",
      "        (:parameters, \n",
      "            (:kw, :label, \"sin(x)\"), \n",
      "            (:kw, :color, QuoteNode(:blue)), \n",
      "            (:kw, :ls, QuoteNode(:dash))), :xs, \n",
      "        (:., :sin, \n",
      "            (:tuple, :xs))), \n",
      "    (:call, :plot!, \n",
      "        (:parameters, \n",
      "            (:kw, :label, \"degree-3 polynomial\"), \n",
      "            (:kw, :color, QuoteNode(:red)), \n",
      "            (:kw, :lw, 2)), :xs, \n",
      "        (:., :f, \n",
      "            (:tuple, :xs))))"
     ]
    }
   ],
   "source": [
    "@show_texpr begin\n",
    "    using Plots\n",
    "    n = 20\n",
    "    x = range(-π, π; length=20)\n",
    "    noise = 0.3randn(n)\n",
    "    y = sin.(x) + noise\n",
    "    X = hcat((x.^k for k in 0:3)...)\n",
    "    b = X\\y\n",
    "    f(x) = sum(b[k+1]*x^k for k in 0:3)\n",
    "    xs = range(-π, π; length=400)\n",
    "    plot(; legend=:topleft)\n",
    "    scatter!(x, y; label=\"sample\")\n",
    "    plot!(xs, sin.(xs); label=\"sin(x)\", color=:blue, ls=:dash)\n",
    "    plot!(xs, f.(xs); label=\"degree-3 polynomial\", color=:red, lw=2)\n",
    "end"
   ]
  },
  {
   "cell_type": "code",
   "execution_count": 61,
   "metadata": {},
   "outputs": [
    {
     "data": {
      "image/svg+xml": [
       "<?xml version=\"1.0\" encoding=\"utf-8\"?>\n",
       "<svg xmlns=\"http://www.w3.org/2000/svg\" xmlns:xlink=\"http://www.w3.org/1999/xlink\" width=\"600\" height=\"400\" viewBox=\"0 0 2400 1600\">\n",
       "<defs>\n",
       "  <clipPath id=\"clip870\">\n",
       "    <rect x=\"0\" y=\"0\" width=\"2400\" height=\"1600\"/>\n",
       "  </clipPath>\n",
       "</defs>\n",
       "<path clip-path=\"url(#clip870)\" d=\"\n",
       "M0 1600 L2400 1600 L2400 0 L0 0  Z\n",
       "  \" fill=\"#ffffff\" fill-rule=\"evenodd\" fill-opacity=\"1\"/>\n",
       "<defs>\n",
       "  <clipPath id=\"clip871\">\n",
       "    <rect x=\"480\" y=\"0\" width=\"1681\" height=\"1600\"/>\n",
       "  </clipPath>\n",
       "</defs>\n",
       "<path clip-path=\"url(#clip870)\" d=\"\n",
       "M179.654 1486.45 L2352.76 1486.45 L2352.76 47.2441 L179.654 47.2441  Z\n",
       "  \" fill=\"#ffffff\" fill-rule=\"evenodd\" fill-opacity=\"1\"/>\n",
       "<defs>\n",
       "  <clipPath id=\"clip872\">\n",
       "    <rect x=\"179\" y=\"47\" width=\"2174\" height=\"1440\"/>\n",
       "  </clipPath>\n",
       "</defs>\n",
       "<polyline clip-path=\"url(#clip872)\" style=\"stroke:#000000; stroke-width:2; stroke-opacity:0.1; fill:none\" points=\"\n",
       "  287.356,1486.45 287.356,47.2441 \n",
       "  \"/>\n",
       "<polyline clip-path=\"url(#clip872)\" style=\"stroke:#000000; stroke-width:2; stroke-opacity:0.1; fill:none\" points=\"\n",
       "  613.639,1486.45 613.639,47.2441 \n",
       "  \"/>\n",
       "<polyline clip-path=\"url(#clip872)\" style=\"stroke:#000000; stroke-width:2; stroke-opacity:0.1; fill:none\" points=\"\n",
       "  939.922,1486.45 939.922,47.2441 \n",
       "  \"/>\n",
       "<polyline clip-path=\"url(#clip872)\" style=\"stroke:#000000; stroke-width:2; stroke-opacity:0.1; fill:none\" points=\"\n",
       "  1266.2,1486.45 1266.2,47.2441 \n",
       "  \"/>\n",
       "<polyline clip-path=\"url(#clip872)\" style=\"stroke:#000000; stroke-width:2; stroke-opacity:0.1; fill:none\" points=\"\n",
       "  1592.49,1486.45 1592.49,47.2441 \n",
       "  \"/>\n",
       "<polyline clip-path=\"url(#clip872)\" style=\"stroke:#000000; stroke-width:2; stroke-opacity:0.1; fill:none\" points=\"\n",
       "  1918.77,1486.45 1918.77,47.2441 \n",
       "  \"/>\n",
       "<polyline clip-path=\"url(#clip872)\" style=\"stroke:#000000; stroke-width:2; stroke-opacity:0.1; fill:none\" points=\"\n",
       "  2245.05,1486.45 2245.05,47.2441 \n",
       "  \"/>\n",
       "<polyline clip-path=\"url(#clip870)\" style=\"stroke:#000000; stroke-width:4; stroke-opacity:1; fill:none\" points=\"\n",
       "  179.654,1486.45 2352.76,1486.45 \n",
       "  \"/>\n",
       "<polyline clip-path=\"url(#clip870)\" style=\"stroke:#000000; stroke-width:4; stroke-opacity:1; fill:none\" points=\"\n",
       "  287.356,1486.45 287.356,1469.18 \n",
       "  \"/>\n",
       "<polyline clip-path=\"url(#clip870)\" style=\"stroke:#000000; stroke-width:4; stroke-opacity:1; fill:none\" points=\"\n",
       "  613.639,1486.45 613.639,1469.18 \n",
       "  \"/>\n",
       "<polyline clip-path=\"url(#clip870)\" style=\"stroke:#000000; stroke-width:4; stroke-opacity:1; fill:none\" points=\"\n",
       "  939.922,1486.45 939.922,1469.18 \n",
       "  \"/>\n",
       "<polyline clip-path=\"url(#clip870)\" style=\"stroke:#000000; stroke-width:4; stroke-opacity:1; fill:none\" points=\"\n",
       "  1266.2,1486.45 1266.2,1469.18 \n",
       "  \"/>\n",
       "<polyline clip-path=\"url(#clip870)\" style=\"stroke:#000000; stroke-width:4; stroke-opacity:1; fill:none\" points=\"\n",
       "  1592.49,1486.45 1592.49,1469.18 \n",
       "  \"/>\n",
       "<polyline clip-path=\"url(#clip870)\" style=\"stroke:#000000; stroke-width:4; stroke-opacity:1; fill:none\" points=\"\n",
       "  1918.77,1486.45 1918.77,1469.18 \n",
       "  \"/>\n",
       "<polyline clip-path=\"url(#clip870)\" style=\"stroke:#000000; stroke-width:4; stroke-opacity:1; fill:none\" points=\"\n",
       "  2245.05,1486.45 2245.05,1469.18 \n",
       "  \"/>\n",
       "<path clip-path=\"url(#clip870)\" d=\"M 0 0 M259.335 1530.29 L289.011 1530.29 L289.011 1534.23 L259.335 1534.23 L259.335 1530.29 Z\" fill=\"#000000\" fill-rule=\"evenodd\" fill-opacity=\"1\" /><path clip-path=\"url(#clip870)\" d=\"M 0 0 M308.247 1528.49 Q311.603 1529.2 313.478 1531.47 Q315.377 1533.74 315.377 1537.07 Q315.377 1542.19 311.858 1544.99 Q308.34 1547.79 301.858 1547.79 Q299.682 1547.79 297.367 1547.35 Q295.076 1546.93 292.622 1546.08 L292.622 1541.56 Q294.566 1542.7 296.881 1543.28 Q299.196 1543.86 301.719 1543.86 Q306.117 1543.86 308.409 1542.12 Q310.724 1540.38 310.724 1537.07 Q310.724 1534.02 308.571 1532.31 Q306.441 1530.57 302.622 1530.57 L298.594 1530.57 L298.594 1526.73 L302.807 1526.73 Q306.256 1526.73 308.085 1525.36 Q309.914 1523.97 309.914 1521.38 Q309.914 1518.72 308.015 1517.31 Q306.14 1515.87 302.622 1515.87 Q300.701 1515.87 298.502 1516.29 Q296.303 1516.7 293.664 1517.58 L293.664 1513.42 Q296.326 1512.68 298.64 1512.31 Q300.978 1511.93 303.039 1511.93 Q308.363 1511.93 311.465 1514.37 Q314.566 1516.77 314.566 1520.89 Q314.566 1523.76 312.923 1525.75 Q311.279 1527.72 308.247 1528.49 Z\" fill=\"#000000\" fill-rule=\"evenodd\" fill-opacity=\"1\" /><path clip-path=\"url(#clip870)\" d=\"M 0 0 M586.093 1530.29 L615.768 1530.29 L615.768 1534.23 L586.093 1534.23 L586.093 1530.29 Z\" fill=\"#000000\" fill-rule=\"evenodd\" fill-opacity=\"1\" /><path clip-path=\"url(#clip870)\" d=\"M 0 0 M624.866 1543.18 L641.185 1543.18 L641.185 1547.12 L619.241 1547.12 L619.241 1543.18 Q621.903 1540.43 626.486 1535.8 Q631.092 1531.15 632.273 1529.81 Q634.518 1527.28 635.398 1525.55 Q636.301 1523.79 636.301 1522.1 Q636.301 1519.34 634.356 1517.61 Q632.435 1515.87 629.333 1515.87 Q627.134 1515.87 624.68 1516.63 Q622.25 1517.4 619.472 1518.95 L619.472 1514.23 Q622.296 1513.09 624.75 1512.51 Q627.204 1511.93 629.241 1511.93 Q634.611 1511.93 637.805 1514.62 Q641 1517.31 641 1521.8 Q641 1523.93 640.19 1525.85 Q639.403 1527.74 637.296 1530.34 Q636.717 1531.01 633.616 1534.23 Q630.514 1537.42 624.866 1543.18 Z\" fill=\"#000000\" fill-rule=\"evenodd\" fill-opacity=\"1\" /><path clip-path=\"url(#clip870)\" d=\"M 0 0 M912.19 1530.29 L941.866 1530.29 L941.866 1534.23 L912.19 1534.23 L912.19 1530.29 Z\" fill=\"#000000\" fill-rule=\"evenodd\" fill-opacity=\"1\" /><path clip-path=\"url(#clip870)\" d=\"M 0 0 M947.746 1543.18 L955.385 1543.18 L955.385 1516.82 L947.075 1518.49 L947.075 1514.23 L955.338 1512.56 L960.014 1512.56 L960.014 1543.18 L967.653 1543.18 L967.653 1547.12 L947.746 1547.12 L947.746 1543.18 Z\" fill=\"#000000\" fill-rule=\"evenodd\" fill-opacity=\"1\" /><path clip-path=\"url(#clip870)\" d=\"M 0 0 M1266.2 1515.64 Q1262.59 1515.64 1260.77 1519.2 Q1258.96 1522.75 1258.96 1529.87 Q1258.96 1536.98 1260.77 1540.55 Q1262.59 1544.09 1266.2 1544.09 Q1269.84 1544.09 1271.64 1540.55 Q1273.47 1536.98 1273.47 1529.87 Q1273.47 1522.75 1271.64 1519.2 Q1269.84 1515.64 1266.2 1515.64 M1266.2 1511.93 Q1272.01 1511.93 1275.07 1516.54 Q1278.15 1521.12 1278.15 1529.87 Q1278.15 1538.6 1275.07 1543.21 Q1272.01 1547.79 1266.2 1547.79 Q1260.39 1547.79 1257.32 1543.21 Q1254.26 1538.6 1254.26 1529.87 Q1254.26 1521.12 1257.32 1516.54 Q1260.39 1511.93 1266.2 1511.93 Z\" fill=\"#000000\" fill-rule=\"evenodd\" fill-opacity=\"1\" /><path clip-path=\"url(#clip870)\" d=\"M 0 0 M1582.87 1543.18 L1590.51 1543.18 L1590.51 1516.82 L1582.2 1518.49 L1582.2 1514.23 L1590.46 1512.56 L1595.14 1512.56 L1595.14 1543.18 L1602.78 1543.18 L1602.78 1547.12 L1582.87 1547.12 L1582.87 1543.18 Z\" fill=\"#000000\" fill-rule=\"evenodd\" fill-opacity=\"1\" /><path clip-path=\"url(#clip870)\" d=\"M 0 0 M1913.42 1543.18 L1929.74 1543.18 L1929.74 1547.12 L1907.8 1547.12 L1907.8 1543.18 Q1910.46 1540.43 1915.04 1535.8 Q1919.65 1531.15 1920.83 1529.81 Q1923.08 1527.28 1923.96 1525.55 Q1924.86 1523.79 1924.86 1522.1 Q1924.86 1519.34 1922.91 1517.61 Q1920.99 1515.87 1917.89 1515.87 Q1915.69 1515.87 1913.24 1516.63 Q1910.81 1517.4 1908.03 1518.95 L1908.03 1514.23 Q1910.85 1513.09 1913.31 1512.51 Q1915.76 1511.93 1917.8 1511.93 Q1923.17 1511.93 1926.36 1514.62 Q1929.56 1517.31 1929.56 1521.8 Q1929.56 1523.93 1928.75 1525.85 Q1927.96 1527.74 1925.85 1530.34 Q1925.28 1531.01 1922.17 1534.23 Q1919.07 1537.42 1913.42 1543.18 Z\" fill=\"#000000\" fill-rule=\"evenodd\" fill-opacity=\"1\" /><path clip-path=\"url(#clip870)\" d=\"M 0 0 M2249.3 1528.49 Q2252.66 1529.2 2254.53 1531.47 Q2256.43 1533.74 2256.43 1537.07 Q2256.43 1542.19 2252.91 1544.99 Q2249.39 1547.79 2242.91 1547.79 Q2240.74 1547.79 2238.42 1547.35 Q2236.13 1546.93 2233.68 1546.08 L2233.68 1541.56 Q2235.62 1542.7 2237.94 1543.28 Q2240.25 1543.86 2242.77 1543.86 Q2247.17 1543.86 2249.46 1542.12 Q2251.78 1540.38 2251.78 1537.07 Q2251.78 1534.02 2249.63 1532.31 Q2247.5 1530.57 2243.68 1530.57 L2239.65 1530.57 L2239.65 1526.73 L2243.86 1526.73 Q2247.31 1526.73 2249.14 1525.36 Q2250.97 1523.97 2250.97 1521.38 Q2250.97 1518.72 2249.07 1517.31 Q2247.19 1515.87 2243.68 1515.87 Q2241.76 1515.87 2239.56 1516.29 Q2237.36 1516.7 2234.72 1517.58 L2234.72 1513.42 Q2237.38 1512.68 2239.69 1512.31 Q2242.03 1511.93 2244.09 1511.93 Q2249.42 1511.93 2252.52 1514.37 Q2255.62 1516.77 2255.62 1520.89 Q2255.62 1523.76 2253.98 1525.75 Q2252.33 1527.72 2249.3 1528.49 Z\" fill=\"#000000\" fill-rule=\"evenodd\" fill-opacity=\"1\" /><polyline clip-path=\"url(#clip872)\" style=\"stroke:#000000; stroke-width:2; stroke-opacity:0.1; fill:none\" points=\"\n",
       "  179.654,1306.91 2352.76,1306.91 \n",
       "  \"/>\n",
       "<polyline clip-path=\"url(#clip872)\" style=\"stroke:#000000; stroke-width:2; stroke-opacity:0.1; fill:none\" points=\"\n",
       "  179.654,1070.14 2352.76,1070.14 \n",
       "  \"/>\n",
       "<polyline clip-path=\"url(#clip872)\" style=\"stroke:#000000; stroke-width:2; stroke-opacity:0.1; fill:none\" points=\"\n",
       "  179.654,833.369 2352.76,833.369 \n",
       "  \"/>\n",
       "<polyline clip-path=\"url(#clip872)\" style=\"stroke:#000000; stroke-width:2; stroke-opacity:0.1; fill:none\" points=\"\n",
       "  179.654,596.6 2352.76,596.6 \n",
       "  \"/>\n",
       "<polyline clip-path=\"url(#clip872)\" style=\"stroke:#000000; stroke-width:2; stroke-opacity:0.1; fill:none\" points=\"\n",
       "  179.654,359.83 2352.76,359.83 \n",
       "  \"/>\n",
       "<polyline clip-path=\"url(#clip872)\" style=\"stroke:#000000; stroke-width:2; stroke-opacity:0.1; fill:none\" points=\"\n",
       "  179.654,123.06 2352.76,123.06 \n",
       "  \"/>\n",
       "<polyline clip-path=\"url(#clip870)\" style=\"stroke:#000000; stroke-width:4; stroke-opacity:1; fill:none\" points=\"\n",
       "  179.654,1486.45 179.654,47.2441 \n",
       "  \"/>\n",
       "<polyline clip-path=\"url(#clip870)\" style=\"stroke:#000000; stroke-width:4; stroke-opacity:1; fill:none\" points=\"\n",
       "  179.654,1306.91 205.731,1306.91 \n",
       "  \"/>\n",
       "<polyline clip-path=\"url(#clip870)\" style=\"stroke:#000000; stroke-width:4; stroke-opacity:1; fill:none\" points=\"\n",
       "  179.654,1070.14 205.731,1070.14 \n",
       "  \"/>\n",
       "<polyline clip-path=\"url(#clip870)\" style=\"stroke:#000000; stroke-width:4; stroke-opacity:1; fill:none\" points=\"\n",
       "  179.654,833.369 205.731,833.369 \n",
       "  \"/>\n",
       "<polyline clip-path=\"url(#clip870)\" style=\"stroke:#000000; stroke-width:4; stroke-opacity:1; fill:none\" points=\"\n",
       "  179.654,596.6 205.731,596.6 \n",
       "  \"/>\n",
       "<polyline clip-path=\"url(#clip870)\" style=\"stroke:#000000; stroke-width:4; stroke-opacity:1; fill:none\" points=\"\n",
       "  179.654,359.83 205.731,359.83 \n",
       "  \"/>\n",
       "<polyline clip-path=\"url(#clip870)\" style=\"stroke:#000000; stroke-width:4; stroke-opacity:1; fill:none\" points=\"\n",
       "  179.654,123.06 205.731,123.06 \n",
       "  \"/>\n",
       "<path clip-path=\"url(#clip870)\" d=\"M 0 0 M51.2236 1307.36 L80.8994 1307.36 L80.8994 1311.3 L51.2236 1311.3 L51.2236 1307.36 Z\" fill=\"#000000\" fill-rule=\"evenodd\" fill-opacity=\"1\" /><path clip-path=\"url(#clip870)\" d=\"M 0 0 M86.779 1320.25 L94.4178 1320.25 L94.4178 1293.89 L86.1077 1295.55 L86.1077 1291.3 L94.3715 1289.63 L99.0474 1289.63 L99.0474 1320.25 L106.686 1320.25 L106.686 1324.19 L86.779 1324.19 L86.779 1320.25 Z\" fill=\"#000000\" fill-rule=\"evenodd\" fill-opacity=\"1\" /><path clip-path=\"url(#clip870)\" d=\"M 0 0 M111.756 1318.31 L116.64 1318.31 L116.64 1324.19 L111.756 1324.19 L111.756 1318.31 Z\" fill=\"#000000\" fill-rule=\"evenodd\" fill-opacity=\"1\" /><path clip-path=\"url(#clip870)\" d=\"M 0 0 M131.709 1292.71 Q128.098 1292.71 126.27 1296.27 Q124.464 1299.81 124.464 1306.94 Q124.464 1314.05 126.27 1317.61 Q128.098 1321.16 131.709 1321.16 Q135.344 1321.16 137.149 1317.61 Q138.978 1314.05 138.978 1306.94 Q138.978 1299.81 137.149 1296.27 Q135.344 1292.71 131.709 1292.71 M131.709 1289 Q137.519 1289 140.575 1293.61 Q143.654 1298.19 143.654 1306.94 Q143.654 1315.67 140.575 1320.28 Q137.519 1324.86 131.709 1324.86 Q125.899 1324.86 122.82 1320.28 Q119.765 1315.67 119.765 1306.94 Q119.765 1298.19 122.82 1293.61 Q125.899 1289 131.709 1289 Z\" fill=\"#000000\" fill-rule=\"evenodd\" fill-opacity=\"1\" /><path clip-path=\"url(#clip870)\" d=\"M 0 0 M50.9921 1070.59 L80.6679 1070.59 L80.6679 1074.53 L50.9921 1074.53 L50.9921 1070.59 Z\" fill=\"#000000\" fill-rule=\"evenodd\" fill-opacity=\"1\" /><path clip-path=\"url(#clip870)\" d=\"M 0 0 M95.7373 1055.94 Q92.1262 1055.94 90.2975 1059.5 Q88.4919 1063.04 88.4919 1070.17 Q88.4919 1077.28 90.2975 1080.85 Q92.1262 1084.39 95.7373 1084.39 Q99.3715 1084.39 101.177 1080.85 Q103.006 1077.28 103.006 1070.17 Q103.006 1063.04 101.177 1059.5 Q99.3715 1055.94 95.7373 1055.94 M95.7373 1052.23 Q101.547 1052.23 104.603 1056.84 Q107.682 1061.42 107.682 1070.17 Q107.682 1078.9 104.603 1083.51 Q101.547 1088.09 95.7373 1088.09 Q89.9271 1088.09 86.8484 1083.51 Q83.7929 1078.9 83.7929 1070.17 Q83.7929 1061.42 86.8484 1056.84 Q89.9271 1052.23 95.7373 1052.23 Z\" fill=\"#000000\" fill-rule=\"evenodd\" fill-opacity=\"1\" /><path clip-path=\"url(#clip870)\" d=\"M 0 0 M112.751 1081.54 L117.635 1081.54 L117.635 1087.42 L112.751 1087.42 L112.751 1081.54 Z\" fill=\"#000000\" fill-rule=\"evenodd\" fill-opacity=\"1\" /><path clip-path=\"url(#clip870)\" d=\"M 0 0 M122.751 1052.86 L141.107 1052.86 L141.107 1056.79 L127.033 1056.79 L127.033 1065.27 Q128.052 1064.92 129.07 1064.76 Q130.089 1064.57 131.107 1064.57 Q136.894 1064.57 140.274 1067.74 Q143.654 1070.91 143.654 1076.33 Q143.654 1081.91 140.181 1085.01 Q136.709 1088.09 130.39 1088.09 Q128.214 1088.09 125.945 1087.72 Q123.7 1087.35 121.293 1086.61 L121.293 1081.91 Q123.376 1083.04 125.598 1083.6 Q127.82 1084.16 130.297 1084.16 Q134.302 1084.16 136.64 1082.05 Q138.978 1079.94 138.978 1076.33 Q138.978 1072.72 136.64 1070.61 Q134.302 1068.51 130.297 1068.51 Q128.422 1068.51 126.547 1068.92 Q124.695 1069.34 122.751 1070.22 L122.751 1052.86 Z\" fill=\"#000000\" fill-rule=\"evenodd\" fill-opacity=\"1\" /><path clip-path=\"url(#clip870)\" d=\"M 0 0 M94.7419 819.168 Q91.1308 819.168 89.3021 822.733 Q87.4966 826.275 87.4966 833.404 Q87.4966 840.511 89.3021 844.075 Q91.1308 847.617 94.7419 847.617 Q98.3761 847.617 100.182 844.075 Q102.01 840.511 102.01 833.404 Q102.01 826.275 100.182 822.733 Q98.3761 819.168 94.7419 819.168 M94.7419 815.464 Q100.552 815.464 103.608 820.071 Q106.686 824.654 106.686 833.404 Q106.686 842.131 103.608 846.737 Q100.552 851.321 94.7419 851.321 Q88.9317 851.321 85.8531 846.737 Q82.7975 842.131 82.7975 833.404 Q82.7975 824.654 85.8531 820.071 Q88.9317 815.464 94.7419 815.464 Z\" fill=\"#000000\" fill-rule=\"evenodd\" fill-opacity=\"1\" /><path clip-path=\"url(#clip870)\" d=\"M 0 0 M111.756 844.77 L116.64 844.77 L116.64 850.649 L111.756 850.649 L111.756 844.77 Z\" fill=\"#000000\" fill-rule=\"evenodd\" fill-opacity=\"1\" /><path clip-path=\"url(#clip870)\" d=\"M 0 0 M131.709 819.168 Q128.098 819.168 126.27 822.733 Q124.464 826.275 124.464 833.404 Q124.464 840.511 126.27 844.075 Q128.098 847.617 131.709 847.617 Q135.344 847.617 137.149 844.075 Q138.978 840.511 138.978 833.404 Q138.978 826.275 137.149 822.733 Q135.344 819.168 131.709 819.168 M131.709 815.464 Q137.519 815.464 140.575 820.071 Q143.654 824.654 143.654 833.404 Q143.654 842.131 140.575 846.737 Q137.519 851.321 131.709 851.321 Q125.899 851.321 122.82 846.737 Q119.765 842.131 119.765 833.404 Q119.765 824.654 122.82 820.071 Q125.899 815.464 131.709 815.464 Z\" fill=\"#000000\" fill-rule=\"evenodd\" fill-opacity=\"1\" /><path clip-path=\"url(#clip870)\" d=\"M 0 0 M95.7373 582.398 Q92.1262 582.398 90.2975 585.963 Q88.4919 589.505 88.4919 596.634 Q88.4919 603.741 90.2975 607.306 Q92.1262 610.847 95.7373 610.847 Q99.3715 610.847 101.177 607.306 Q103.006 603.741 103.006 596.634 Q103.006 589.505 101.177 585.963 Q99.3715 582.398 95.7373 582.398 M95.7373 578.695 Q101.547 578.695 104.603 583.301 Q107.682 587.884 107.682 596.634 Q107.682 605.361 104.603 609.968 Q101.547 614.551 95.7373 614.551 Q89.9271 614.551 86.8484 609.968 Q83.7929 605.361 83.7929 596.634 Q83.7929 587.884 86.8484 583.301 Q89.9271 578.695 95.7373 578.695 Z\" fill=\"#000000\" fill-rule=\"evenodd\" fill-opacity=\"1\" /><path clip-path=\"url(#clip870)\" d=\"M 0 0 M112.751 608 L117.635 608 L117.635 613.88 L112.751 613.88 L112.751 608 Z\" fill=\"#000000\" fill-rule=\"evenodd\" fill-opacity=\"1\" /><path clip-path=\"url(#clip870)\" d=\"M 0 0 M122.751 579.32 L141.107 579.32 L141.107 583.255 L127.033 583.255 L127.033 591.727 Q128.052 591.38 129.07 591.218 Q130.089 591.033 131.107 591.033 Q136.894 591.033 140.274 594.204 Q143.654 597.375 143.654 602.792 Q143.654 608.37 140.181 611.472 Q136.709 614.551 130.39 614.551 Q128.214 614.551 125.945 614.181 Q123.7 613.81 121.293 613.069 L121.293 608.37 Q123.376 609.505 125.598 610.06 Q127.82 610.616 130.297 610.616 Q134.302 610.616 136.64 608.509 Q138.978 606.403 138.978 602.792 Q138.978 599.181 136.64 597.074 Q134.302 594.968 130.297 594.968 Q128.422 594.968 126.547 595.384 Q124.695 595.801 122.751 596.681 L122.751 579.32 Z\" fill=\"#000000\" fill-rule=\"evenodd\" fill-opacity=\"1\" /><path clip-path=\"url(#clip870)\" d=\"M 0 0 M86.779 373.175 L94.4178 373.175 L94.4178 346.809 L86.1077 348.476 L86.1077 344.216 L94.3715 342.55 L99.0474 342.55 L99.0474 373.175 L106.686 373.175 L106.686 377.11 L86.779 377.11 L86.779 373.175 Z\" fill=\"#000000\" fill-rule=\"evenodd\" fill-opacity=\"1\" /><path clip-path=\"url(#clip870)\" d=\"M 0 0 M111.756 371.23 L116.64 371.23 L116.64 377.11 L111.756 377.11 L111.756 371.23 Z\" fill=\"#000000\" fill-rule=\"evenodd\" fill-opacity=\"1\" /><path clip-path=\"url(#clip870)\" d=\"M 0 0 M131.709 345.629 Q128.098 345.629 126.27 349.193 Q124.464 352.735 124.464 359.865 Q124.464 366.971 126.27 370.536 Q128.098 374.077 131.709 374.077 Q135.344 374.077 137.149 370.536 Q138.978 366.971 138.978 359.865 Q138.978 352.735 137.149 349.193 Q135.344 345.629 131.709 345.629 M131.709 341.925 Q137.519 341.925 140.575 346.531 Q143.654 351.115 143.654 359.865 Q143.654 368.591 140.575 373.198 Q137.519 377.781 131.709 377.781 Q125.899 377.781 122.82 373.198 Q119.765 368.591 119.765 359.865 Q119.765 351.115 122.82 346.531 Q125.899 341.925 131.709 341.925 Z\" fill=\"#000000\" fill-rule=\"evenodd\" fill-opacity=\"1\" /><path clip-path=\"url(#clip870)\" d=\"M 0 0 M87.7743 136.405 L95.4132 136.405 L95.4132 110.039 L87.103 111.706 L87.103 107.447 L95.3669 105.78 L100.043 105.78 L100.043 136.405 L107.682 136.405 L107.682 140.34 L87.7743 140.34 L87.7743 136.405 Z\" fill=\"#000000\" fill-rule=\"evenodd\" fill-opacity=\"1\" /><path clip-path=\"url(#clip870)\" d=\"M 0 0 M112.751 134.46 L117.635 134.46 L117.635 140.34 L112.751 140.34 L112.751 134.46 Z\" fill=\"#000000\" fill-rule=\"evenodd\" fill-opacity=\"1\" /><path clip-path=\"url(#clip870)\" d=\"M 0 0 M122.751 105.78 L141.107 105.78 L141.107 109.715 L127.033 109.715 L127.033 118.187 Q128.052 117.84 129.07 117.678 Q130.089 117.493 131.107 117.493 Q136.894 117.493 140.274 120.664 Q143.654 123.836 143.654 129.252 Q143.654 134.831 140.181 137.933 Q136.709 141.011 130.39 141.011 Q128.214 141.011 125.945 140.641 Q123.7 140.271 121.293 139.53 L121.293 134.831 Q123.376 135.965 125.598 136.521 Q127.82 137.076 130.297 137.076 Q134.302 137.076 136.64 134.97 Q138.978 132.863 138.978 129.252 Q138.978 125.641 136.64 123.535 Q134.302 121.428 130.297 121.428 Q128.422 121.428 126.547 121.845 Q124.695 122.261 122.751 123.141 L122.751 105.78 Z\" fill=\"#000000\" fill-rule=\"evenodd\" fill-opacity=\"1\" /><circle clip-path=\"url(#clip872)\" cx=\"241.157\" cy=\"780.077\" r=\"14\" fill=\"#009af9\" fill-rule=\"evenodd\" fill-opacity=\"1\" stroke=\"#000000\" stroke-opacity=\"1\" stroke-width=\"3.2\"/>\n",
       "<circle clip-path=\"url(#clip872)\" cx=\"349.056\" cy=\"1158.98\" r=\"14\" fill=\"#009af9\" fill-rule=\"evenodd\" fill-opacity=\"1\" stroke=\"#000000\" stroke-opacity=\"1\" stroke-width=\"3.2\"/>\n",
       "<circle clip-path=\"url(#clip872)\" cx=\"456.956\" cy=\"1445.72\" r=\"14\" fill=\"#009af9\" fill-rule=\"evenodd\" fill-opacity=\"1\" stroke=\"#000000\" stroke-opacity=\"1\" stroke-width=\"3.2\"/>\n",
       "<circle clip-path=\"url(#clip872)\" cx=\"564.856\" cy=\"973.832\" r=\"14\" fill=\"#009af9\" fill-rule=\"evenodd\" fill-opacity=\"1\" stroke=\"#000000\" stroke-opacity=\"1\" stroke-width=\"3.2\"/>\n",
       "<circle clip-path=\"url(#clip872)\" cx=\"672.756\" cy=\"1247.64\" r=\"14\" fill=\"#009af9\" fill-rule=\"evenodd\" fill-opacity=\"1\" stroke=\"#000000\" stroke-opacity=\"1\" stroke-width=\"3.2\"/>\n",
       "<circle clip-path=\"url(#clip872)\" cx=\"780.656\" cy=\"1342.06\" r=\"14\" fill=\"#009af9\" fill-rule=\"evenodd\" fill-opacity=\"1\" stroke=\"#000000\" stroke-opacity=\"1\" stroke-width=\"3.2\"/>\n",
       "<circle clip-path=\"url(#clip872)\" cx=\"888.555\" cy=\"1241.11\" r=\"14\" fill=\"#009af9\" fill-rule=\"evenodd\" fill-opacity=\"1\" stroke=\"#000000\" stroke-opacity=\"1\" stroke-width=\"3.2\"/>\n",
       "<circle clip-path=\"url(#clip872)\" cx=\"996.455\" cy=\"985.963\" r=\"14\" fill=\"#009af9\" fill-rule=\"evenodd\" fill-opacity=\"1\" stroke=\"#000000\" stroke-opacity=\"1\" stroke-width=\"3.2\"/>\n",
       "<circle clip-path=\"url(#clip872)\" cx=\"1104.36\" cy=\"1221.41\" r=\"14\" fill=\"#009af9\" fill-rule=\"evenodd\" fill-opacity=\"1\" stroke=\"#000000\" stroke-opacity=\"1\" stroke-width=\"3.2\"/>\n",
       "<circle clip-path=\"url(#clip872)\" cx=\"1212.25\" cy=\"631.75\" r=\"14\" fill=\"#009af9\" fill-rule=\"evenodd\" fill-opacity=\"1\" stroke=\"#000000\" stroke-opacity=\"1\" stroke-width=\"3.2\"/>\n",
       "<circle clip-path=\"url(#clip872)\" cx=\"1320.15\" cy=\"804.838\" r=\"14\" fill=\"#009af9\" fill-rule=\"evenodd\" fill-opacity=\"1\" stroke=\"#000000\" stroke-opacity=\"1\" stroke-width=\"3.2\"/>\n",
       "<circle clip-path=\"url(#clip872)\" cx=\"1428.05\" cy=\"601.535\" r=\"14\" fill=\"#009af9\" fill-rule=\"evenodd\" fill-opacity=\"1\" stroke=\"#000000\" stroke-opacity=\"1\" stroke-width=\"3.2\"/>\n",
       "<circle clip-path=\"url(#clip872)\" cx=\"1535.95\" cy=\"706.414\" r=\"14\" fill=\"#009af9\" fill-rule=\"evenodd\" fill-opacity=\"1\" stroke=\"#000000\" stroke-opacity=\"1\" stroke-width=\"3.2\"/>\n",
       "<circle clip-path=\"url(#clip872)\" cx=\"1643.85\" cy=\"437.417\" r=\"14\" fill=\"#009af9\" fill-rule=\"evenodd\" fill-opacity=\"1\" stroke=\"#000000\" stroke-opacity=\"1\" stroke-width=\"3.2\"/>\n",
       "<circle clip-path=\"url(#clip872)\" cx=\"1751.75\" cy=\"569.07\" r=\"14\" fill=\"#009af9\" fill-rule=\"evenodd\" fill-opacity=\"1\" stroke=\"#000000\" stroke-opacity=\"1\" stroke-width=\"3.2\"/>\n",
       "<circle clip-path=\"url(#clip872)\" cx=\"1859.65\" cy=\"87.9763\" r=\"14\" fill=\"#009af9\" fill-rule=\"evenodd\" fill-opacity=\"1\" stroke=\"#000000\" stroke-opacity=\"1\" stroke-width=\"3.2\"/>\n",
       "<circle clip-path=\"url(#clip872)\" cx=\"1967.55\" cy=\"420.545\" r=\"14\" fill=\"#009af9\" fill-rule=\"evenodd\" fill-opacity=\"1\" stroke=\"#000000\" stroke-opacity=\"1\" stroke-width=\"3.2\"/>\n",
       "<circle clip-path=\"url(#clip872)\" cx=\"2075.45\" cy=\"525.728\" r=\"14\" fill=\"#009af9\" fill-rule=\"evenodd\" fill-opacity=\"1\" stroke=\"#000000\" stroke-opacity=\"1\" stroke-width=\"3.2\"/>\n",
       "<circle clip-path=\"url(#clip872)\" cx=\"2183.35\" cy=\"819.372\" r=\"14\" fill=\"#009af9\" fill-rule=\"evenodd\" fill-opacity=\"1\" stroke=\"#000000\" stroke-opacity=\"1\" stroke-width=\"3.2\"/>\n",
       "<circle clip-path=\"url(#clip872)\" cx=\"2291.25\" cy=\"873.59\" r=\"14\" fill=\"#009af9\" fill-rule=\"evenodd\" fill-opacity=\"1\" stroke=\"#000000\" stroke-opacity=\"1\" stroke-width=\"3.2\"/>\n",
       "<polyline clip-path=\"url(#clip872)\" style=\"stroke:#0000ff; stroke-width:4; stroke-opacity:1; fill:none\" stroke-dasharray=\"16, 10\" points=\"\n",
       "  241.157,833.369 246.295,840.826 251.433,848.281 256.571,855.732 261.709,863.178 266.847,870.616 271.985,878.045 277.123,885.463 282.261,892.868 287.399,900.258 \n",
       "  292.537,907.631 297.676,914.987 302.814,922.322 307.952,929.635 313.09,936.924 318.228,944.187 323.366,951.423 328.504,958.629 333.642,965.805 338.78,972.948 \n",
       "  343.918,980.056 349.056,987.127 354.194,994.161 359.333,1001.15 364.471,1008.11 369.609,1015.02 374.747,1021.88 379.885,1028.7 385.023,1035.46 390.161,1042.18 \n",
       "  395.299,1048.85 400.437,1055.46 405.575,1062.02 410.713,1068.52 415.851,1074.97 420.99,1081.35 426.128,1087.67 431.266,1093.93 436.404,1100.12 441.542,1106.25 \n",
       "  446.68,1112.31 451.818,1118.3 456.956,1124.22 462.094,1130.07 467.232,1135.85 472.37,1141.55 477.509,1147.17 482.647,1152.71 487.785,1158.18 492.923,1163.57 \n",
       "  498.061,1168.87 503.199,1174.09 508.337,1179.23 513.475,1184.28 518.613,1189.24 523.751,1194.12 528.889,1198.9 534.027,1203.6 539.166,1208.2 544.304,1212.71 \n",
       "  549.442,1217.13 554.58,1221.45 559.718,1225.67 564.856,1229.8 569.994,1233.83 575.132,1237.76 580.27,1241.59 585.408,1245.32 590.546,1248.94 595.685,1252.47 \n",
       "  600.823,1255.89 605.961,1259.2 611.099,1262.41 616.237,1265.51 621.375,1268.51 626.513,1271.4 631.651,1274.17 636.789,1276.84 641.927,1279.4 647.065,1281.85 \n",
       "  652.203,1284.19 657.342,1286.42 662.48,1288.53 667.618,1290.53 672.756,1292.42 677.894,1294.19 683.032,1295.85 688.17,1297.4 693.308,1298.83 698.446,1300.14 \n",
       "  703.584,1301.34 708.722,1302.42 713.861,1303.39 718.999,1304.24 724.137,1304.97 729.275,1305.58 734.413,1306.08 739.551,1306.47 744.689,1306.73 749.827,1306.88 \n",
       "  754.965,1306.91 760.103,1306.82 765.241,1306.61 770.379,1306.29 775.518,1305.85 780.656,1305.29 785.794,1304.62 790.932,1303.83 796.07,1302.92 801.208,1301.89 \n",
       "  806.346,1300.75 811.484,1299.5 816.622,1298.13 821.76,1296.64 826.898,1295.04 832.036,1293.32 837.175,1291.49 842.313,1289.55 847.451,1287.49 852.589,1285.32 \n",
       "  857.727,1283.04 862.865,1280.64 868.003,1278.14 873.141,1275.52 878.279,1272.8 883.417,1269.97 888.555,1267.02 893.694,1263.98 898.832,1260.82 903.97,1257.56 \n",
       "  909.108,1254.19 914.246,1250.72 919.384,1247.14 924.522,1243.47 929.66,1239.69 934.798,1235.81 939.936,1231.83 945.074,1227.75 950.212,1223.57 955.351,1219.3 \n",
       "  960.489,1214.93 965.627,1210.47 970.765,1205.91 975.903,1201.26 981.041,1196.52 986.179,1191.69 991.317,1186.77 996.455,1181.76 1001.59,1176.67 1006.73,1171.49 \n",
       "  1011.87,1166.23 1017.01,1160.88 1022.15,1155.46 1027.28,1149.95 1032.42,1144.37 1037.56,1138.71 1042.7,1132.97 1047.84,1127.16 1052.97,1121.27 1058.11,1115.32 \n",
       "  1063.25,1109.29 1068.39,1103.2 1073.53,1097.03 1078.66,1090.81 1083.8,1084.52 1088.94,1078.17 1094.08,1071.75 1099.22,1065.28 1104.36,1058.75 1109.49,1052.16 \n",
       "  1114.63,1045.52 1119.77,1038.83 1124.91,1032.09 1130.05,1025.29 1135.18,1018.45 1140.32,1011.57 1145.46,1004.64 1150.6,997.663 1155.74,990.649 1160.87,983.596 \n",
       "  1166.01,976.506 1171.15,969.38 1176.29,962.221 1181.43,955.03 1186.56,947.808 1191.7,940.559 1196.84,933.282 1201.98,925.981 1207.12,918.657 1212.25,911.311 \n",
       "  1217.39,903.947 1222.53,896.565 1227.67,889.167 1232.81,881.755 1237.95,874.332 1243.08,866.898 1248.22,859.456 1253.36,852.007 1258.5,844.554 1263.64,837.098 \n",
       "  1268.77,829.641 1273.91,822.185 1279.05,814.732 1284.19,807.283 1289.33,799.841 1294.46,792.407 1299.6,784.984 1304.74,777.572 1309.88,770.174 1315.02,762.792 \n",
       "  1320.15,755.427 1325.29,748.082 1330.43,740.758 1335.57,733.457 1340.71,726.18 1345.85,718.93 1350.98,711.709 1356.12,704.518 1361.26,697.358 1366.4,690.233 \n",
       "  1371.54,683.143 1376.67,676.09 1381.81,669.076 1386.95,662.103 1392.09,655.172 1397.23,648.286 1402.36,641.445 1407.5,634.652 1412.64,627.908 1417.78,621.216 \n",
       "  1422.92,614.575 1428.05,607.989 1433.19,601.459 1438.33,594.987 1443.47,588.574 1448.61,582.221 1453.74,575.93 1458.88,569.704 1464.02,563.543 1469.16,557.448 \n",
       "  1474.3,551.423 1479.44,545.467 1484.57,539.582 1489.71,533.77 1494.85,528.033 1499.99,522.371 1505.13,516.787 1510.26,511.281 1515.4,505.854 1520.54,500.51 \n",
       "  1525.68,495.247 1530.82,490.068 1535.95,484.975 1541.09,479.968 1546.23,475.048 1551.37,470.218 1556.51,465.477 1561.64,460.828 1566.78,456.271 1571.92,451.808 \n",
       "  1577.06,447.439 1582.2,443.166 1587.34,438.99 1592.47,434.911 1597.61,430.931 1602.75,427.051 1607.89,423.272 1613.03,419.595 1618.16,416.02 1623.3,412.548 \n",
       "  1628.44,409.181 1633.58,405.919 1638.72,402.764 1643.85,399.714 1648.99,396.773 1654.13,393.94 1659.27,391.215 1664.41,388.601 1669.54,386.096 1674.68,383.703 \n",
       "  1679.82,381.421 1684.96,379.251 1690.1,377.194 1695.23,375.25 1700.37,373.419 1705.51,371.702 1710.65,370.1 1715.79,368.613 1720.93,367.241 1726.06,365.985 \n",
       "  1731.2,364.845 1736.34,363.82 1741.48,362.913 1746.62,362.121 1751.75,361.447 1756.89,360.89 1762.03,360.45 1767.17,360.127 1772.31,359.922 1777.44,359.833 \n",
       "  1782.58,359.863 1787.72,360.01 1792.86,360.274 1798,360.655 1803.13,361.154 1808.27,361.77 1813.41,362.502 1818.55,363.352 1823.69,364.318 1828.83,365.4 \n",
       "  1833.96,366.599 1839.1,367.913 1844.24,369.342 1849.38,370.887 1854.52,372.546 1859.65,374.32 1864.79,376.207 1869.93,378.208 1875.07,380.322 1880.21,382.548 \n",
       "  1885.34,384.886 1890.48,387.335 1895.62,389.894 1900.76,392.564 1905.9,395.343 1911.03,398.23 1916.17,401.226 1921.31,404.328 1926.45,407.537 1931.59,410.852 \n",
       "  1936.73,414.271 1941.86,417.794 1947,421.421 1952.14,425.149 1957.28,428.979 1962.42,432.909 1967.55,436.938 1972.69,441.066 1977.83,445.29 1982.97,449.611 \n",
       "  1988.11,454.028 1993.24,458.538 1998.38,463.141 2003.52,467.836 2008.66,472.622 2013.8,477.497 2018.93,482.461 2024.07,487.511 2029.21,492.647 2034.35,497.868 \n",
       "  2039.49,503.172 2044.62,508.558 2049.76,514.024 2054.9,519.569 2060.04,525.193 2065.18,530.892 2070.32,536.667 2075.45,542.515 2080.59,548.436 2085.73,554.427 \n",
       "  2090.87,560.487 2096.01,566.615 2101.14,572.809 2106.28,579.068 2111.42,585.39 2116.56,591.773 2121.7,598.216 2126.83,604.717 2131.97,611.276 2137.11,617.889 \n",
       "  2142.25,624.555 2147.39,631.274 2152.52,638.042 2157.66,644.859 2162.8,651.723 2167.94,658.632 2173.08,665.584 2178.22,672.578 2183.35,679.611 2188.49,686.683 \n",
       "  2193.63,693.791 2198.77,700.934 2203.91,708.109 2209.04,715.316 2214.18,722.552 2219.32,729.815 2224.46,737.104 2229.6,744.417 2234.73,751.752 2239.87,759.107 \n",
       "  2245.01,766.481 2250.15,773.871 2255.29,781.276 2260.42,788.694 2265.56,796.123 2270.7,803.561 2275.84,811.007 2280.98,818.458 2286.11,825.913 2291.25,833.369 \n",
       "  \n",
       "  \"/>\n",
       "<polyline clip-path=\"url(#clip872)\" style=\"stroke:#ff0000; stroke-width:8; stroke-opacity:1; fill:none\" points=\"\n",
       "  241.157,867.269 246.295,878.595 251.433,889.744 256.571,900.717 261.709,911.515 266.847,922.139 271.985,932.59 277.123,942.869 282.261,952.977 287.399,962.914 \n",
       "  292.537,972.682 297.676,982.281 302.814,991.712 307.952,1000.98 313.09,1010.08 318.228,1019.01 323.366,1027.78 328.504,1036.39 333.642,1044.83 338.78,1053.12 \n",
       "  343.918,1061.24 349.056,1069.2 354.194,1077.01 359.333,1084.66 364.471,1092.15 369.609,1099.48 374.747,1106.66 379.885,1113.69 385.023,1120.56 390.161,1127.28 \n",
       "  395.299,1133.85 400.437,1140.27 405.575,1146.54 410.713,1152.66 415.851,1158.64 420.99,1164.46 426.128,1170.15 431.266,1175.68 436.404,1181.07 441.542,1186.32 \n",
       "  446.68,1191.43 451.818,1196.4 456.956,1201.22 462.094,1205.91 467.232,1210.46 472.37,1214.87 477.509,1219.14 482.647,1223.28 487.785,1227.28 492.923,1231.15 \n",
       "  498.061,1234.89 503.199,1238.49 508.337,1241.96 513.475,1245.31 518.613,1248.52 523.751,1251.6 528.889,1254.56 534.027,1257.39 539.166,1260.1 544.304,1262.68 \n",
       "  549.442,1265.13 554.58,1267.47 559.718,1269.68 564.856,1271.77 569.994,1273.73 575.132,1275.58 580.27,1277.32 585.408,1278.93 590.546,1280.43 595.685,1281.81 \n",
       "  600.823,1283.07 605.961,1284.23 611.099,1285.27 616.237,1286.2 621.375,1287.01 626.513,1287.72 631.651,1288.31 636.789,1288.8 641.927,1289.18 647.065,1289.46 \n",
       "  652.203,1289.63 657.342,1289.69 662.48,1289.65 667.618,1289.51 672.756,1289.26 677.894,1288.92 683.032,1288.47 688.17,1287.92 693.308,1287.28 698.446,1286.54 \n",
       "  703.584,1285.7 708.722,1284.76 713.861,1283.74 718.999,1282.61 724.137,1281.4 729.275,1280.09 734.413,1278.69 739.551,1277.2 744.689,1275.62 749.827,1273.96 \n",
       "  754.965,1272.2 760.103,1270.36 765.241,1268.43 770.379,1266.42 775.518,1264.33 780.656,1262.15 785.794,1259.89 790.932,1257.55 796.07,1255.13 801.208,1252.62 \n",
       "  806.346,1250.05 811.484,1247.39 816.622,1244.66 821.76,1241.85 826.898,1238.96 832.036,1236 837.175,1232.97 842.313,1229.87 847.451,1226.7 852.589,1223.45 \n",
       "  857.727,1220.14 862.865,1216.76 868.003,1213.31 873.141,1209.8 878.279,1206.21 883.417,1202.57 888.555,1198.86 893.694,1195.09 898.832,1191.25 903.97,1187.36 \n",
       "  909.108,1183.4 914.246,1179.38 919.384,1175.31 924.522,1171.18 929.66,1166.99 934.798,1162.75 939.936,1158.45 945.074,1154.1 950.212,1149.7 955.351,1145.24 \n",
       "  960.489,1140.73 965.627,1136.17 970.765,1131.57 975.903,1126.91 981.041,1122.21 986.179,1117.46 991.317,1112.66 996.455,1107.83 1001.59,1102.94 1006.73,1098.02 \n",
       "  1011.87,1093.05 1017.01,1088.04 1022.15,1082.99 1027.28,1077.9 1032.42,1072.77 1037.56,1067.61 1042.7,1062.41 1047.84,1057.17 1052.97,1051.9 1058.11,1046.6 \n",
       "  1063.25,1041.26 1068.39,1035.89 1073.53,1030.49 1078.66,1025.06 1083.8,1019.6 1088.94,1014.11 1094.08,1008.59 1099.22,1003.05 1104.36,997.484 1109.49,991.891 \n",
       "  1114.63,986.275 1119.77,980.636 1124.91,974.975 1130.05,969.293 1135.18,963.591 1140.32,957.87 1145.46,952.131 1150.6,946.374 1155.74,940.6 1160.87,934.811 \n",
       "  1166.01,929.008 1171.15,923.191 1176.29,917.361 1181.43,911.519 1186.56,905.666 1191.7,899.803 1196.84,893.93 1201.98,888.05 1207.12,882.162 1212.25,876.268 \n",
       "  1217.39,870.368 1222.53,864.463 1227.67,858.555 1232.81,852.644 1237.95,846.731 1243.08,840.817 1248.22,834.903 1253.36,828.99 1258.5,823.079 1263.64,817.17 \n",
       "  1268.77,811.265 1273.91,805.364 1279.05,799.469 1284.19,793.58 1289.33,787.699 1294.46,781.825 1299.6,775.96 1304.74,770.106 1309.88,764.262 1315.02,758.43 \n",
       "  1320.15,752.611 1325.29,746.805 1330.43,741.014 1335.57,735.238 1340.71,729.479 1345.85,723.736 1350.98,718.012 1356.12,712.307 1361.26,706.622 1366.4,700.958 \n",
       "  1371.54,695.316 1376.67,689.696 1381.81,684.1 1386.95,678.528 1392.09,672.982 1397.23,667.462 1402.36,661.97 1407.5,656.505 1412.64,651.07 1417.78,645.665 \n",
       "  1422.92,640.29 1428.05,634.948 1433.19,629.638 1438.33,624.361 1443.47,619.12 1448.61,613.913 1453.74,608.743 1458.88,603.611 1464.02,598.516 1469.16,593.461 \n",
       "  1474.3,588.445 1479.44,583.471 1484.57,578.538 1489.71,573.648 1494.85,568.802 1499.99,564 1505.13,559.244 1510.26,554.534 1515.4,549.871 1520.54,545.257 \n",
       "  1525.68,540.691 1530.82,536.176 1535.95,531.712 1541.09,527.299 1546.23,522.94 1551.37,518.633 1556.51,514.382 1561.64,510.186 1566.78,506.046 1571.92,501.964 \n",
       "  1577.06,497.94 1582.2,493.975 1587.34,490.07 1592.47,486.226 1597.61,482.443 1602.75,478.724 1607.89,475.068 1613.03,471.477 1618.16,467.951 1623.3,464.492 \n",
       "  1628.44,461.1 1633.58,457.777 1638.72,454.522 1643.85,451.338 1648.99,448.224 1654.13,445.183 1659.27,442.214 1664.41,439.319 1669.54,436.498 1674.68,433.753 \n",
       "  1679.82,431.084 1684.96,428.493 1690.1,425.98 1695.23,423.546 1700.37,421.193 1705.51,418.92 1710.65,416.729 1715.79,414.621 1720.93,412.596 1726.06,410.657 \n",
       "  1731.2,408.802 1736.34,407.035 1741.48,405.354 1746.62,403.762 1751.75,402.259 1756.89,400.846 1762.03,399.524 1767.17,398.294 1772.31,397.157 1777.44,396.114 \n",
       "  1782.58,395.165 1787.72,394.312 1792.86,393.555 1798,392.896 1803.13,392.335 1808.27,391.873 1813.41,391.511 1818.55,391.25 1823.69,391.092 1828.83,391.036 \n",
       "  1833.96,391.083 1839.1,391.236 1844.24,391.494 1849.38,391.858 1854.52,392.33 1859.65,392.91 1864.79,393.6 1869.93,394.399 1875.07,395.31 1880.21,396.332 \n",
       "  1885.34,397.468 1890.48,398.717 1895.62,400.081 1900.76,401.56 1905.9,403.156 1911.03,404.869 1916.17,406.701 1921.31,408.652 1926.45,410.723 1931.59,412.915 \n",
       "  1936.73,415.229 1941.86,417.666 1947,420.226 1952.14,422.912 1957.28,425.723 1962.42,428.66 1967.55,431.725 1972.69,434.918 1977.83,438.241 1982.97,441.694 \n",
       "  1988.11,445.277 1993.24,448.993 1998.38,452.842 2003.52,456.824 2008.66,460.941 2013.8,465.194 2018.93,469.583 2024.07,474.11 2029.21,478.775 2034.35,483.58 \n",
       "  2039.49,488.524 2044.62,493.61 2049.76,498.838 2054.9,504.208 2060.04,509.723 2065.18,515.382 2070.32,521.186 2075.45,527.138 2080.59,533.237 2085.73,539.484 \n",
       "  2090.87,545.88 2096.01,552.427 2101.14,559.125 2106.28,565.974 2111.42,572.977 2116.56,580.133 2121.7,587.445 2126.83,594.912 2131.97,602.535 2137.11,610.316 \n",
       "  2142.25,618.256 2147.39,626.354 2152.52,634.613 2157.66,643.033 2162.8,651.615 2167.94,660.36 2173.08,669.269 2178.22,678.343 2183.35,687.582 2188.49,696.988 \n",
       "  2193.63,706.561 2198.77,716.303 2203.91,726.214 2209.04,736.296 2214.18,746.548 2219.32,756.973 2224.46,767.57 2229.6,778.342 2234.73,789.288 2239.87,800.41 \n",
       "  2245.01,811.708 2250.15,823.184 2255.29,834.839 2260.42,846.673 2265.56,858.687 2270.7,870.882 2275.84,883.259 2280.98,895.819 2286.11,908.563 2291.25,921.492 \n",
       "  \n",
       "  \"/>\n",
       "<path clip-path=\"url(#clip870)\" d=\"\n",
       "M252.09 337.138 L923.174 337.138 L923.174 95.2176 L252.09 95.2176  Z\n",
       "  \" fill=\"#ffffff\" fill-rule=\"evenodd\" fill-opacity=\"1\"/>\n",
       "<polyline clip-path=\"url(#clip870)\" style=\"stroke:#000000; stroke-width:4; stroke-opacity:1; fill:none\" points=\"\n",
       "  252.09,337.138 923.174,337.138 923.174,95.2176 252.09,95.2176 252.09,337.138 \n",
       "  \"/>\n",
       "<circle clip-path=\"url(#clip870)\" cx=\"348.673\" cy=\"155.698\" r=\"23\" fill=\"#009af9\" fill-rule=\"evenodd\" fill-opacity=\"1\" stroke=\"#000000\" stroke-opacity=\"1\" stroke-width=\"5.12\"/>\n",
       "<path clip-path=\"url(#clip870)\" d=\"M 0 0 M463.681 147.816 L463.681 151.843 Q461.875 150.917 459.931 150.455 Q457.986 149.992 455.903 149.992 Q452.732 149.992 451.135 150.964 Q449.561 151.936 449.561 153.88 Q449.561 155.362 450.695 156.218 Q451.829 157.052 455.255 157.816 L456.713 158.14 Q461.25 159.112 463.148 160.894 Q465.07 162.654 465.07 165.825 Q465.07 169.436 462.199 171.542 Q459.352 173.649 454.352 173.649 Q452.269 173.649 450 173.232 Q447.755 172.839 445.255 172.028 L445.255 167.63 Q447.616 168.857 449.908 169.482 Q452.199 170.084 454.445 170.084 Q457.454 170.084 459.074 169.066 Q460.695 168.024 460.695 166.149 Q460.695 164.413 459.514 163.487 Q458.357 162.561 454.399 161.704 L452.917 161.357 Q448.959 160.524 447.199 158.811 Q445.44 157.075 445.44 154.066 Q445.44 150.408 448.033 148.418 Q450.625 146.427 455.394 146.427 Q457.755 146.427 459.838 146.774 Q461.922 147.121 463.681 147.816 Z\" fill=\"#000000\" fill-rule=\"evenodd\" fill-opacity=\"1\" /><path clip-path=\"url(#clip870)\" d=\"M 0 0 M481.32 159.945 Q476.158 159.945 474.167 161.126 Q472.176 162.306 472.176 165.154 Q472.176 167.422 473.658 168.765 Q475.162 170.084 477.732 170.084 Q481.273 170.084 483.403 167.584 Q485.556 165.061 485.556 160.894 L485.556 159.945 L481.32 159.945 M489.815 158.186 L489.815 172.978 L485.556 172.978 L485.556 169.042 Q484.097 171.403 481.922 172.538 Q479.746 173.649 476.597 173.649 Q472.616 173.649 470.255 171.427 Q467.917 169.181 467.917 165.431 Q467.917 161.056 470.834 158.834 Q473.773 156.612 479.584 156.612 L485.556 156.612 L485.556 156.195 Q485.556 153.255 483.611 151.658 Q481.69 150.038 478.195 150.038 Q475.972 150.038 473.866 150.57 Q471.76 151.103 469.815 152.167 L469.815 148.232 Q472.153 147.33 474.352 146.89 Q476.551 146.427 478.635 146.427 Q484.259 146.427 487.037 149.343 Q489.815 152.26 489.815 158.186 Z\" fill=\"#000000\" fill-rule=\"evenodd\" fill-opacity=\"1\" /><path clip-path=\"url(#clip870)\" d=\"M 0 0 M514.468 152.029 Q516.065 149.158 518.287 147.793 Q520.509 146.427 523.519 146.427 Q527.569 146.427 529.768 149.274 Q531.968 152.098 531.968 157.329 L531.968 172.978 L527.685 172.978 L527.685 157.468 Q527.685 153.742 526.366 151.936 Q525.046 150.13 522.338 150.13 Q519.028 150.13 517.107 152.33 Q515.185 154.529 515.185 158.325 L515.185 172.978 L510.903 172.978 L510.903 157.468 Q510.903 153.718 509.583 151.936 Q508.264 150.13 505.509 150.13 Q502.245 150.13 500.324 152.353 Q498.403 154.552 498.403 158.325 L498.403 172.978 L494.121 172.978 L494.121 147.052 L498.403 147.052 L498.403 151.08 Q499.861 148.695 501.898 147.561 Q503.935 146.427 506.736 146.427 Q509.56 146.427 511.528 147.862 Q513.519 149.297 514.468 152.029 Z\" fill=\"#000000\" fill-rule=\"evenodd\" fill-opacity=\"1\" /><path clip-path=\"url(#clip870)\" d=\"M 0 0 M540.555 169.089 L540.555 182.839 L536.273 182.839 L536.273 147.052 L540.555 147.052 L540.555 150.987 Q541.898 148.672 543.935 147.561 Q545.995 146.427 548.842 146.427 Q553.565 146.427 556.504 150.177 Q559.467 153.927 559.467 160.038 Q559.467 166.149 556.504 169.899 Q553.565 173.649 548.842 173.649 Q545.995 173.649 543.935 172.538 Q541.898 171.403 540.555 169.089 M555.046 160.038 Q555.046 155.339 553.102 152.677 Q551.18 149.992 547.801 149.992 Q544.421 149.992 542.477 152.677 Q540.555 155.339 540.555 160.038 Q540.555 164.737 542.477 167.422 Q544.421 170.084 547.801 170.084 Q551.18 170.084 553.102 167.422 Q555.046 164.737 555.046 160.038 Z\" fill=\"#000000\" fill-rule=\"evenodd\" fill-opacity=\"1\" /><path clip-path=\"url(#clip870)\" d=\"M 0 0 M563.935 136.959 L568.194 136.959 L568.194 172.978 L563.935 172.978 L563.935 136.959 Z\" fill=\"#000000\" fill-rule=\"evenodd\" fill-opacity=\"1\" /><path clip-path=\"url(#clip870)\" d=\"M 0 0 M594.838 158.95 L594.838 161.033 L575.254 161.033 Q575.532 165.431 577.893 167.746 Q580.277 170.038 584.514 170.038 Q586.967 170.038 589.259 169.436 Q591.574 168.834 593.842 167.63 L593.842 171.658 Q591.551 172.63 589.143 173.14 Q586.736 173.649 584.259 173.649 Q578.055 173.649 574.421 170.038 Q570.81 166.427 570.81 160.269 Q570.81 153.904 574.236 150.177 Q577.685 146.427 583.518 146.427 Q588.75 146.427 591.782 149.806 Q594.838 153.163 594.838 158.95 M590.578 157.7 Q590.532 154.205 588.611 152.121 Q586.713 150.038 583.564 150.038 Q580 150.038 577.847 152.052 Q575.717 154.066 575.393 157.723 L590.578 157.7 Z\" fill=\"#000000\" fill-rule=\"evenodd\" fill-opacity=\"1\" /><polyline clip-path=\"url(#clip870)\" style=\"stroke:#0000ff; stroke-width:4; stroke-opacity:1; fill:none\" stroke-dasharray=\"16, 10\" points=\"\n",
       "  276.236,216.178 421.109,216.178 \n",
       "  \"/>\n",
       "<path clip-path=\"url(#clip870)\" d=\"M 0 0 M463.681 208.296 L463.681 212.323 Q461.875 211.397 459.931 210.935 Q457.986 210.472 455.903 210.472 Q452.732 210.472 451.135 211.444 Q449.561 212.416 449.561 214.36 Q449.561 215.842 450.695 216.698 Q451.829 217.532 455.255 218.296 L456.713 218.62 Q461.25 219.592 463.148 221.374 Q465.07 223.134 465.07 226.305 Q465.07 229.916 462.199 232.022 Q459.352 234.129 454.352 234.129 Q452.269 234.129 450 233.712 Q447.755 233.319 445.255 232.508 L445.255 228.11 Q447.616 229.337 449.908 229.962 Q452.199 230.564 454.445 230.564 Q457.454 230.564 459.074 229.546 Q460.695 228.504 460.695 226.629 Q460.695 224.893 459.514 223.967 Q458.357 223.041 454.399 222.184 L452.917 221.837 Q448.959 221.004 447.199 219.291 Q445.44 217.555 445.44 214.546 Q445.44 210.888 448.033 208.898 Q450.625 206.907 455.394 206.907 Q457.755 206.907 459.838 207.254 Q461.922 207.601 463.681 208.296 Z\" fill=\"#000000\" fill-rule=\"evenodd\" fill-opacity=\"1\" /><path clip-path=\"url(#clip870)\" d=\"M 0 0 M469.537 207.532 L473.797 207.532 L473.797 233.458 L469.537 233.458 L469.537 207.532 M469.537 197.439 L473.797 197.439 L473.797 202.833 L469.537 202.833 L469.537 197.439 Z\" fill=\"#000000\" fill-rule=\"evenodd\" fill-opacity=\"1\" /><path clip-path=\"url(#clip870)\" d=\"M 0 0 M499.815 217.809 L499.815 233.458 L495.556 233.458 L495.556 217.948 Q495.556 214.268 494.121 212.439 Q492.685 210.61 489.815 210.61 Q486.366 210.61 484.375 212.81 Q482.384 215.009 482.384 218.805 L482.384 233.458 L478.102 233.458 L478.102 207.532 L482.384 207.532 L482.384 211.56 Q483.912 209.222 485.972 208.064 Q488.056 206.907 490.764 206.907 Q495.232 206.907 497.523 209.685 Q499.815 212.439 499.815 217.809 Z\" fill=\"#000000\" fill-rule=\"evenodd\" fill-opacity=\"1\" /><path clip-path=\"url(#clip870)\" d=\"M 0 0 M514.514 197.486 Q511.412 202.81 509.907 208.018 Q508.403 213.226 508.403 218.573 Q508.403 223.921 509.907 229.175 Q511.435 234.407 514.514 239.708 L510.81 239.708 Q507.338 234.268 505.602 229.013 Q503.889 223.759 503.889 218.573 Q503.889 213.411 505.602 208.18 Q507.315 202.948 510.81 197.486 L514.514 197.486 Z\" fill=\"#000000\" fill-rule=\"evenodd\" fill-opacity=\"1\" /><path clip-path=\"url(#clip870)\" d=\"M 0 0 M540.532 207.532 L531.157 220.147 L541.018 233.458 L535.995 233.458 L528.449 223.272 L520.903 233.458 L515.88 233.458 L525.949 219.893 L516.736 207.532 L521.759 207.532 L528.634 216.768 L535.509 207.532 L540.532 207.532 Z\" fill=\"#000000\" fill-rule=\"evenodd\" fill-opacity=\"1\" /><path clip-path=\"url(#clip870)\" d=\"M 0 0 M544.815 197.486 L548.518 197.486 Q551.991 202.948 553.704 208.18 Q555.44 213.411 555.44 218.573 Q555.44 223.759 553.704 229.013 Q551.991 234.268 548.518 239.708 L544.815 239.708 Q547.893 234.407 549.398 229.175 Q550.926 223.921 550.926 218.573 Q550.926 213.226 549.398 208.018 Q547.893 202.81 544.815 197.486 Z\" fill=\"#000000\" fill-rule=\"evenodd\" fill-opacity=\"1\" /><polyline clip-path=\"url(#clip870)\" style=\"stroke:#ff0000; stroke-width:4; stroke-opacity:1; fill:none\" points=\"\n",
       "  276.236,276.658 421.109,276.658 \n",
       "  \"/>\n",
       "<path clip-path=\"url(#clip870)\" d=\"M 0 0 M464.167 271.947 L464.167 257.919 L468.426 257.919 L468.426 293.938 L464.167 293.938 L464.167 290.049 Q462.824 292.363 460.764 293.498 Q458.727 294.609 455.857 294.609 Q451.158 294.609 448.195 290.859 Q445.255 287.109 445.255 280.998 Q445.255 274.887 448.195 271.137 Q451.158 267.387 455.857 267.387 Q458.727 267.387 460.764 268.521 Q462.824 269.632 464.167 271.947 M449.653 280.998 Q449.653 285.697 451.574 288.382 Q453.519 291.044 456.899 291.044 Q460.278 291.044 462.223 288.382 Q464.167 285.697 464.167 280.998 Q464.167 276.299 462.223 273.637 Q460.278 270.952 456.899 270.952 Q453.519 270.952 451.574 273.637 Q449.653 276.299 449.653 280.998 Z\" fill=\"#000000\" fill-rule=\"evenodd\" fill-opacity=\"1\" /><path clip-path=\"url(#clip870)\" d=\"M 0 0 M495.07 279.91 L495.07 281.993 L475.486 281.993 Q475.764 286.391 478.125 288.706 Q480.509 290.998 484.746 290.998 Q487.199 290.998 489.491 290.396 Q491.806 289.794 494.074 288.59 L494.074 292.618 Q491.783 293.59 489.375 294.1 Q486.968 294.609 484.491 294.609 Q478.287 294.609 474.653 290.998 Q471.042 287.387 471.042 281.229 Q471.042 274.864 474.468 271.137 Q477.917 267.387 483.75 267.387 Q488.982 267.387 492.014 270.766 Q495.07 274.123 495.07 279.91 M490.81 278.66 Q490.764 275.165 488.843 273.081 Q486.945 270.998 483.797 270.998 Q480.232 270.998 478.079 273.012 Q475.949 275.026 475.625 278.683 L490.81 278.66 Z\" fill=\"#000000\" fill-rule=\"evenodd\" fill-opacity=\"1\" /><path clip-path=\"url(#clip870)\" d=\"M 0 0 M516.597 280.674 Q516.597 276.044 514.676 273.498 Q512.778 270.952 509.329 270.952 Q505.903 270.952 503.982 273.498 Q502.083 276.044 502.083 280.674 Q502.083 285.28 503.982 287.826 Q505.903 290.373 509.329 290.373 Q512.778 290.373 514.676 287.826 Q516.597 285.28 516.597 280.674 M520.856 290.72 Q520.856 297.34 517.917 300.558 Q514.977 303.799 508.912 303.799 Q506.667 303.799 504.676 303.451 Q502.685 303.127 500.81 302.433 L500.81 298.289 Q502.685 299.308 504.514 299.794 Q506.343 300.28 508.241 300.28 Q512.431 300.28 514.514 298.081 Q516.597 295.905 516.597 291.484 L516.597 289.377 Q515.278 291.669 513.218 292.803 Q511.157 293.938 508.287 293.938 Q503.519 293.938 500.602 290.303 Q497.685 286.669 497.685 280.674 Q497.685 274.655 500.602 271.021 Q503.519 267.387 508.287 267.387 Q511.157 267.387 513.218 268.521 Q515.278 269.655 516.597 271.947 L516.597 268.012 L520.856 268.012 L520.856 290.72 Z\" fill=\"#000000\" fill-rule=\"evenodd\" fill-opacity=\"1\" /><path clip-path=\"url(#clip870)\" d=\"M 0 0 M540.347 271.993 Q539.63 271.577 538.773 271.391 Q537.94 271.183 536.921 271.183 Q533.31 271.183 531.366 273.544 Q529.444 275.882 529.444 280.28 L529.444 293.938 L525.162 293.938 L525.162 268.012 L529.444 268.012 L529.444 272.04 Q530.787 269.678 532.94 268.544 Q535.093 267.387 538.171 267.387 Q538.611 267.387 539.143 267.456 Q539.676 267.503 540.324 267.618 L540.347 271.993 Z\" fill=\"#000000\" fill-rule=\"evenodd\" fill-opacity=\"1\" /><path clip-path=\"url(#clip870)\" d=\"M 0 0 M565.949 279.91 L565.949 281.993 L546.366 281.993 Q546.643 286.391 549.004 288.706 Q551.389 290.998 555.625 290.998 Q558.079 290.998 560.37 290.396 Q562.685 289.794 564.953 288.59 L564.953 292.618 Q562.662 293.59 560.254 294.1 Q557.847 294.609 555.37 294.609 Q549.167 294.609 545.532 290.998 Q541.921 287.387 541.921 281.229 Q541.921 274.864 545.347 271.137 Q548.796 267.387 554.629 267.387 Q559.861 267.387 562.893 270.766 Q565.949 274.123 565.949 279.91 M561.69 278.66 Q561.643 275.165 559.722 273.081 Q557.824 270.998 554.676 270.998 Q551.111 270.998 548.958 273.012 Q546.829 275.026 546.505 278.683 L561.69 278.66 Z\" fill=\"#000000\" fill-rule=\"evenodd\" fill-opacity=\"1\" /><path clip-path=\"url(#clip870)\" d=\"M 0 0 M592.592 279.91 L592.592 281.993 L573.009 281.993 Q573.287 286.391 575.648 288.706 Q578.032 290.998 582.268 290.998 Q584.722 290.998 587.014 290.396 Q589.328 289.794 591.597 288.59 L591.597 292.618 Q589.305 293.59 586.898 294.1 Q584.49 294.609 582.014 294.609 Q575.81 294.609 572.176 290.998 Q568.565 287.387 568.565 281.229 Q568.565 274.864 571.99 271.137 Q575.44 267.387 581.273 267.387 Q586.504 267.387 589.537 270.766 Q592.592 274.123 592.592 279.91 M588.333 278.66 Q588.287 275.165 586.365 273.081 Q584.467 270.998 581.319 270.998 Q577.754 270.998 575.602 273.012 Q573.472 275.026 573.148 278.683 L588.333 278.66 Z\" fill=\"#000000\" fill-rule=\"evenodd\" fill-opacity=\"1\" /><path clip-path=\"url(#clip870)\" d=\"M 0 0 M594.907 279.053 L607.384 279.053 L607.384 282.85 L594.907 282.85 L594.907 279.053 Z\" fill=\"#000000\" fill-rule=\"evenodd\" fill-opacity=\"1\" /><path clip-path=\"url(#clip870)\" d=\"M 0 0 M626.62 275.303 Q629.976 276.021 631.851 278.289 Q633.749 280.558 633.749 283.891 Q633.749 289.007 630.231 291.808 Q626.712 294.609 620.231 294.609 Q618.055 294.609 615.74 294.169 Q613.449 293.752 610.995 292.896 L610.995 288.382 Q612.939 289.516 615.254 290.095 Q617.569 290.674 620.092 290.674 Q624.49 290.674 626.782 288.938 Q629.097 287.201 629.097 283.891 Q629.097 280.836 626.944 279.123 Q624.814 277.387 620.995 277.387 L616.967 277.387 L616.967 273.544 L621.18 273.544 Q624.629 273.544 626.458 272.178 Q628.286 270.79 628.286 268.197 Q628.286 265.535 626.388 264.123 Q624.513 262.688 620.995 262.688 Q619.074 262.688 616.875 263.104 Q614.675 263.521 612.037 264.401 L612.037 260.234 Q614.699 259.493 617.013 259.123 Q619.351 258.753 621.412 258.753 Q626.736 258.753 629.837 261.183 Q632.939 263.59 632.939 267.711 Q632.939 270.581 631.296 272.572 Q629.652 274.54 626.62 275.303 Z\" fill=\"#000000\" fill-rule=\"evenodd\" fill-opacity=\"1\" /><path clip-path=\"url(#clip870)\" d=\"M 0 0 M657.407 290.049 L657.407 303.799 L653.124 303.799 L653.124 268.012 L657.407 268.012 L657.407 271.947 Q658.749 269.632 660.786 268.521 Q662.846 267.387 665.694 267.387 Q670.416 267.387 673.356 271.137 Q676.319 274.887 676.319 280.998 Q676.319 287.109 673.356 290.859 Q670.416 294.609 665.694 294.609 Q662.846 294.609 660.786 293.498 Q658.749 292.363 657.407 290.049 M671.897 280.998 Q671.897 276.299 669.953 273.637 Q668.032 270.952 664.652 270.952 Q661.272 270.952 659.328 273.637 Q657.407 276.299 657.407 280.998 Q657.407 285.697 659.328 288.382 Q661.272 291.044 664.652 291.044 Q668.032 291.044 669.953 288.382 Q671.897 285.697 671.897 280.998 Z\" fill=\"#000000\" fill-rule=\"evenodd\" fill-opacity=\"1\" /><path clip-path=\"url(#clip870)\" d=\"M 0 0 M690.832 270.998 Q687.407 270.998 685.416 273.683 Q683.425 276.345 683.425 280.998 Q683.425 285.651 685.393 288.336 Q687.383 290.998 690.832 290.998 Q694.235 290.998 696.226 288.313 Q698.217 285.627 698.217 280.998 Q698.217 276.391 696.226 273.706 Q694.235 270.998 690.832 270.998 M690.832 267.387 Q696.388 267.387 699.559 270.998 Q702.731 274.609 702.731 280.998 Q702.731 287.364 699.559 290.998 Q696.388 294.609 690.832 294.609 Q685.254 294.609 682.082 290.998 Q678.934 287.364 678.934 280.998 Q678.934 274.609 682.082 270.998 Q685.254 267.387 690.832 267.387 Z\" fill=\"#000000\" fill-rule=\"evenodd\" fill-opacity=\"1\" /><path clip-path=\"url(#clip870)\" d=\"M 0 0 M707.198 257.919 L711.457 257.919 L711.457 293.938 L707.198 293.938 L707.198 257.919 Z\" fill=\"#000000\" fill-rule=\"evenodd\" fill-opacity=\"1\" /><path clip-path=\"url(#clip870)\" d=\"M 0 0 M726.712 296.345 Q724.906 300.975 723.193 302.387 Q721.48 303.799 718.61 303.799 L715.207 303.799 L715.207 300.234 L717.707 300.234 Q719.467 300.234 720.439 299.4 Q721.411 298.567 722.592 295.465 L723.355 293.521 L712.869 268.012 L717.383 268.012 L725.485 288.289 L733.587 268.012 L738.101 268.012 L726.712 296.345 Z\" fill=\"#000000\" fill-rule=\"evenodd\" fill-opacity=\"1\" /><path clip-path=\"url(#clip870)\" d=\"M 0 0 M764.119 278.289 L764.119 293.938 L759.86 293.938 L759.86 278.428 Q759.86 274.748 758.425 272.919 Q756.989 271.09 754.119 271.09 Q750.67 271.09 748.679 273.29 Q746.689 275.489 746.689 279.285 L746.689 293.938 L742.406 293.938 L742.406 268.012 L746.689 268.012 L746.689 272.04 Q748.216 269.702 750.277 268.544 Q752.36 267.387 755.068 267.387 Q759.536 267.387 761.827 270.165 Q764.119 272.919 764.119 278.289 Z\" fill=\"#000000\" fill-rule=\"evenodd\" fill-opacity=\"1\" /><path clip-path=\"url(#clip870)\" d=\"M 0 0 M778.633 270.998 Q775.207 270.998 773.216 273.683 Q771.226 276.345 771.226 280.998 Q771.226 285.651 773.193 288.336 Q775.184 290.998 778.633 290.998 Q782.036 290.998 784.026 288.313 Q786.017 285.627 786.017 280.998 Q786.017 276.391 784.026 273.706 Q782.036 270.998 778.633 270.998 M778.633 267.387 Q784.188 267.387 787.36 270.998 Q790.531 274.609 790.531 280.998 Q790.531 287.364 787.36 290.998 Q784.188 294.609 778.633 294.609 Q773.054 294.609 769.883 290.998 Q766.735 287.364 766.735 280.998 Q766.735 274.609 769.883 270.998 Q773.054 267.387 778.633 267.387 Z\" fill=\"#000000\" fill-rule=\"evenodd\" fill-opacity=\"1\" /><path clip-path=\"url(#clip870)\" d=\"M 0 0 M815.184 272.989 Q816.781 270.118 819.003 268.753 Q821.225 267.387 824.235 267.387 Q828.285 267.387 830.484 270.234 Q832.684 273.058 832.684 278.289 L832.684 293.938 L828.401 293.938 L828.401 278.428 Q828.401 274.702 827.082 272.896 Q825.762 271.09 823.054 271.09 Q819.744 271.09 817.822 273.29 Q815.901 275.489 815.901 279.285 L815.901 293.938 L811.619 293.938 L811.619 278.428 Q811.619 274.678 810.299 272.896 Q808.98 271.09 806.225 271.09 Q802.961 271.09 801.04 273.313 Q799.119 275.512 799.119 279.285 L799.119 293.938 L794.837 293.938 L794.837 268.012 L799.119 268.012 L799.119 272.04 Q800.577 269.655 802.614 268.521 Q804.651 267.387 807.452 267.387 Q810.276 267.387 812.244 268.822 Q814.235 270.257 815.184 272.989 Z\" fill=\"#000000\" fill-rule=\"evenodd\" fill-opacity=\"1\" /><path clip-path=\"url(#clip870)\" d=\"M 0 0 M837.151 268.012 L841.41 268.012 L841.41 293.938 L837.151 293.938 L837.151 268.012 M837.151 257.919 L841.41 257.919 L841.41 263.313 L837.151 263.313 L837.151 257.919 Z\" fill=\"#000000\" fill-rule=\"evenodd\" fill-opacity=\"1\" /><path clip-path=\"url(#clip870)\" d=\"M 0 0 M857.66 280.905 Q852.498 280.905 850.508 282.086 Q848.517 283.266 848.517 286.114 Q848.517 288.382 849.998 289.725 Q851.503 291.044 854.072 291.044 Q857.614 291.044 859.744 288.544 Q861.896 286.021 861.896 281.854 L861.896 280.905 L857.66 280.905 M866.156 279.146 L866.156 293.938 L861.896 293.938 L861.896 290.002 Q860.438 292.363 858.262 293.498 Q856.086 294.609 852.938 294.609 Q848.957 294.609 846.595 292.387 Q844.258 290.141 844.258 286.391 Q844.258 282.016 847.174 279.794 Q850.114 277.572 855.924 277.572 L861.896 277.572 L861.896 277.155 Q861.896 274.215 859.952 272.618 Q858.031 270.998 854.535 270.998 Q852.313 270.998 850.207 271.53 Q848.1 272.063 846.156 273.127 L846.156 269.192 Q848.494 268.29 850.693 267.85 Q852.892 267.387 854.975 267.387 Q860.6 267.387 863.378 270.303 Q866.156 273.22 866.156 279.146 Z\" fill=\"#000000\" fill-rule=\"evenodd\" fill-opacity=\"1\" /><path clip-path=\"url(#clip870)\" d=\"M 0 0 M870.623 257.919 L874.882 257.919 L874.882 293.938 L870.623 293.938 L870.623 257.919 Z\" fill=\"#000000\" fill-rule=\"evenodd\" fill-opacity=\"1\" /></svg>\n"
      ]
     },
     "execution_count": 61,
     "metadata": {},
     "output_type": "execute_result"
    }
   ],
   "source": [
    "@teval (:block, \n",
    "    (:using, (:., :Plots)), \n",
    "    (:(=), :n, 20), \n",
    "    (:(=), :x, (:range, (:parameters, (:kw, :length, 20)), (:-, :π), :π)), \n",
    "    (:(=), :noise, (:*, 0.3, (:randn, :n))), \n",
    "    (:(=), :y, (:+, (:., :sin, (:tuple, :x)), :noise)), \n",
    "    (:(=), :X, \n",
    "        (:hcat, (:..., (:generator, (:call, :.^, :x, :k), (:(=), :k, (:(:), 0, 3)))))), \n",
    "    (:(=), :b, (:\\, :X, :y)), \n",
    "    (:(=), (:call, :f, :x), \n",
    "        (:sum, (:generator, (:*, (:ref, :b, (:+, :k, 1)), (:^, :x, :k)), \n",
    "            (:(=), :k, (:(:), 0, 3))))), \n",
    "    (:(=), :xs, (:range, (:parameters, (:kw, :length, 400)), (:-, :π), :π)), \n",
    "    (:plot, (:parameters, (:kw, :legend, QuoteNode(:topleft)))), \n",
    "    (:scatter!, (:parameters, (:kw, :label, \"sample\")), :x, :y), \n",
    "    (:plot!, (:parameters, \n",
    "            (:kw, :label, \"sin(x)\"), \n",
    "            (:kw, :color, QuoteNode(:blue)), \n",
    "            (:kw, :ls, QuoteNode(:dash))), \n",
    "        :xs, (:., :sin, (:tuple, :xs))), \n",
    "    (:plot!, (:parameters, \n",
    "            (:kw, :label, \"degree-3 polynomial\"), \n",
    "            (:kw, :color, QuoteNode(:red)), \n",
    "            (:kw, :lw, 2)), \n",
    "        :xs, (:., :f, (:tuple, :xs))))"
   ]
  },
  {
   "cell_type": "code",
   "execution_count": 62,
   "metadata": {},
   "outputs": [
    {
     "data": {
      "text/markdown": [
       "```julia\n",
       "begin\n",
       "    using Plots\n",
       "    n = 20\n",
       "    x = range(-π, π; length = 20)\n",
       "    noise = 0.3 * randn(n)\n",
       "    y = sin.(x) + noise\n",
       "    X = hcat((x .^ k for k = 0:3)...)\n",
       "    b = X \\ y\n",
       "    f(x) = sum((b[k + 1] * x ^ k for k = 0:3))\n",
       "    xs = range(-π, π; length = 400)\n",
       "    plot(; legend = :topleft)\n",
       "    scatter!(x, y; label = \"sample\")\n",
       "    plot!(xs, sin.(xs); label = \"sin(x)\", color = :blue, ls = :dash)\n",
       "    plot!(xs, f.(xs); label = \"degree-3 polynomial\", color = :red, lw = 2)\n",
       "end\n",
       "```"
      ]
     },
     "metadata": {},
     "output_type": "display_data"
    }
   ],
   "source": [
    "(:block, \n",
    "    (:using, (:., :Plots)), \n",
    "    (:(=), :n, 20), \n",
    "    (:(=), :x, (:range, (:parameters, (:kw, :length, 20)), (:-, :π), :π)), \n",
    "    (:(=), :noise, (:*, 0.3, (:randn, :n))), \n",
    "    (:(=), :y, (:+, (:., :sin, (:tuple, :x)), :noise)), \n",
    "    (:(=), :X, \n",
    "        (:hcat, (:..., (:generator, (:call, :.^, :x, :k), (:(=), :k, (:(:), 0, 3)))))), \n",
    "    (:(=), :b, (:\\, :X, :y)), \n",
    "    (:(=), (:call, :f, :x), \n",
    "        (:sum, (:generator, (:*, (:ref, :b, (:+, :k, 1)), (:^, :x, :k)), \n",
    "            (:(=), :k, (:(:), 0, 3))))), \n",
    "    (:(=), :xs, (:range, (:parameters, (:kw, :length, 400)), (:-, :π), :π)), \n",
    "    (:plot, (:parameters, (:kw, :legend, QuoteNode(:topleft)))), \n",
    "    (:scatter!, (:parameters, (:kw, :label, \"sample\")), :x, :y), \n",
    "    (:plot!, (:parameters, \n",
    "            (:kw, :label, \"sin(x)\"), \n",
    "            (:kw, :color, QuoteNode(:blue)), \n",
    "            (:kw, :ls, QuoteNode(:dash))), \n",
    "        :xs, (:., :sin, (:tuple, :xs))), \n",
    "    (:plot!, (:parameters, \n",
    "            (:kw, :label, \"degree-3 polynomial\"), \n",
    "            (:kw, :color, QuoteNode(:red)), \n",
    "            (:kw, :lw, 2)), \n",
    "        :xs, (:., :f, (:tuple, :xs)))) |> texpr2expr |> \n",
    "x -> display(\"text/markdown\", \"```julia\\n$x\\n```\")"
   ]
  },
  {
   "cell_type": "markdown",
   "metadata": {},
   "source": [
    "## Documents"
   ]
  },
  {
   "cell_type": "code",
   "execution_count": 63,
   "metadata": {},
   "outputs": [
    {
     "data": {
      "text/latex": [
       "\\begin{verbatim}\n",
       "MetaUtils\n",
       "\\end{verbatim}\n",
       "contains utilities for metaprogramming in Julia.\n",
       "\n",
       "\\begin{verbatim}\n",
       "export @show_sexpr, \n",
       "    @show_tree, \n",
       "    print_tree, \n",
       "    show_expr, @show_expr, \n",
       "    show_texpr, @show_texpr, \n",
       "    texpr2expr, teval, @teval\n",
       "\\end{verbatim}\n"
      ],
      "text/markdown": [
       "```\n",
       "MetaUtils\n",
       "```\n",
       "\n",
       "contains utilities for metaprogramming in Julia.\n",
       "\n",
       "```julia\n",
       "export @show_sexpr, \n",
       "    @show_tree, \n",
       "    print_tree, \n",
       "    show_expr, @show_expr, \n",
       "    show_texpr, @show_texpr, \n",
       "    texpr2expr, teval, @teval\n",
       "```\n"
      ],
      "text/plain": [
       "\u001b[36m  MetaUtils\u001b[39m\n",
       "\n",
       "  contains utilities for metaprogramming in Julia.\n",
       "\n",
       "\u001b[36m  export @show_sexpr, \u001b[39m\n",
       "\u001b[36m      @show_tree, \u001b[39m\n",
       "\u001b[36m      print_tree, \u001b[39m\n",
       "\u001b[36m      show_expr, @show_expr, \u001b[39m\n",
       "\u001b[36m      show_texpr, @show_texpr, \u001b[39m\n",
       "\u001b[36m      texpr2expr, teval, @teval\u001b[39m"
      ]
     },
     "execution_count": 63,
     "metadata": {},
     "output_type": "execute_result"
    }
   ],
   "source": [
    "@doc MetaUtils"
   ]
  },
  {
   "cell_type": "code",
   "execution_count": 64,
   "metadata": {},
   "outputs": [
    {
     "data": {
      "text/latex": [
       "\\begin{verbatim}\n",
       "@show_sexpr(expr, linenums=false)\n",
       "\\end{verbatim}\n",
       "shows the lisp style S-expression of \\texttt{expr} and prints the line number nodes if \\texttt{linenums} is true.  This is the macro version of \\texttt{Meta.show\\_sexpr}.\n",
       "\n",
       "\\subsection{Example}\n",
       "\\begin{verbatim}\n",
       "julia> @show_sexpr 2x+1\n",
       "(:call, :+, (:call, :*, 2, :x), 1)\n",
       "\\end{verbatim}\n",
       "\\texttt{teval} function can evaluate the output of \\texttt{@show\\_sexpr}. \n",
       "\n",
       "\\begin{verbatim}\n",
       "julia> x = 10; (:call, :+, (:call, :*, 2, :x), 1) |> teval\n",
       "21\n",
       "\\end{verbatim}\n"
      ],
      "text/markdown": [
       "```\n",
       "@show_sexpr(expr, linenums=false)\n",
       "```\n",
       "\n",
       "shows the lisp style S-expression of `expr` and prints the line number nodes if `linenums` is true.  This is the macro version of `Meta.show_sexpr`.\n",
       "\n",
       "## Example\n",
       "\n",
       "```julia\n",
       "julia> @show_sexpr 2x+1\n",
       "(:call, :+, (:call, :*, 2, :x), 1)\n",
       "```\n",
       "\n",
       "`teval` function can evaluate the output of `@show_sexpr`. \n",
       "\n",
       "```julia\n",
       "julia> x = 10; (:call, :+, (:call, :*, 2, :x), 1) |> teval\n",
       "21\n",
       "```\n"
      ],
      "text/plain": [
       "\u001b[36m  @show_sexpr(expr, linenums=false)\u001b[39m\n",
       "\n",
       "  shows the lisp style S-expression of \u001b[36mexpr\u001b[39m and prints the line number nodes\n",
       "  if \u001b[36mlinenums\u001b[39m is true. This is the macro version of \u001b[36mMeta.show_sexpr\u001b[39m.\n",
       "\n",
       "\u001b[1m  Example\u001b[22m\n",
       "\u001b[1m  =========\u001b[22m\n",
       "\n",
       "\u001b[36m  julia> @show_sexpr 2x+1\u001b[39m\n",
       "\u001b[36m  (:call, :+, (:call, :*, 2, :x), 1)\u001b[39m\n",
       "\n",
       "  \u001b[36mteval\u001b[39m function can evaluate the output of \u001b[36m@show_sexpr\u001b[39m. \n",
       "\n",
       "\u001b[36m  julia> x = 10; (:call, :+, (:call, :*, 2, :x), 1) |> teval\u001b[39m\n",
       "\u001b[36m  21\u001b[39m"
      ]
     },
     "execution_count": 64,
     "metadata": {},
     "output_type": "execute_result"
    }
   ],
   "source": [
    "@doc @show_sexpr"
   ]
  },
  {
   "cell_type": "code",
   "execution_count": 65,
   "metadata": {},
   "outputs": [
    {
     "data": {
      "text/latex": [
       "\\begin{verbatim}\n",
       "@show_tree(expr, maxdepth=10, linenums=false)\n",
       "\\end{verbatim}\n",
       "shows the tree form of the expression \\texttt{expr} with maxdepth and prints the line number nodes if \\texttt{linenums} is true.\n",
       "\n",
       "\\subsection{Example}\n",
       "\\begin{verbatim}\n",
       "julia> @show_tree 2x+1\n",
       ":call\n",
       "├─ :+\n",
       "├─ :call\n",
       "│  ├─ :*\n",
       "│  ├─ 2\n",
       "│  └─ :x\n",
       "└─ 1\n",
       "\\end{verbatim}\n"
      ],
      "text/markdown": [
       "```\n",
       "@show_tree(expr, maxdepth=10, linenums=false)\n",
       "```\n",
       "\n",
       "shows the tree form of the expression `expr` with maxdepth and prints the line number nodes if `linenums` is true.\n",
       "\n",
       "## Example\n",
       "\n",
       "```julia\n",
       "julia> @show_tree 2x+1\n",
       ":call\n",
       "├─ :+\n",
       "├─ :call\n",
       "│  ├─ :*\n",
       "│  ├─ 2\n",
       "│  └─ :x\n",
       "└─ 1\n",
       "```\n"
      ],
      "text/plain": [
       "\u001b[36m  @show_tree(expr, maxdepth=10, linenums=false)\u001b[39m\n",
       "\n",
       "  shows the tree form of the expression \u001b[36mexpr\u001b[39m with maxdepth and prints the line\n",
       "  number nodes if \u001b[36mlinenums\u001b[39m is true.\n",
       "\n",
       "\u001b[1m  Example\u001b[22m\n",
       "\u001b[1m  =========\u001b[22m\n",
       "\n",
       "\u001b[36m  julia> @show_tree 2x+1\u001b[39m\n",
       "\u001b[36m  :call\u001b[39m\n",
       "\u001b[36m  ├─ :+\u001b[39m\n",
       "\u001b[36m  ├─ :call\u001b[39m\n",
       "\u001b[36m  │  ├─ :*\u001b[39m\n",
       "\u001b[36m  │  ├─ 2\u001b[39m\n",
       "\u001b[36m  │  └─ :x\u001b[39m\n",
       "\u001b[36m  └─ 1\u001b[39m"
      ]
     },
     "execution_count": 65,
     "metadata": {},
     "output_type": "execute_result"
    }
   ],
   "source": [
    "@doc @show_tree"
   ]
  },
  {
   "cell_type": "code",
   "execution_count": 66,
   "metadata": {},
   "outputs": [
    {
     "data": {
      "text/latex": [
       "\\begin{verbatim}\n",
       "print_tree(tree, maxdepth=5; kwargs...)\n",
       "print_tree(io, tree, maxdepth=5; kwargs...)\n",
       "print_tree(f::Function, io, tree, maxdepth=5; kwargs...)\n",
       "\\end{verbatim}\n",
       "\\section{Usage}\n",
       "Prints an ASCII formatted representation of the \\texttt{tree} to the given \\texttt{io} object. By default all children will be printed up to a maximum level of 5, though this value can be overriden by the \\texttt{maxdepth} parameter. Nodes that are truncated are indicated by a vertical ellipsis below the truncated node, this indication can be turned off by providing \\texttt{indicate\\_truncation=false} as a kwarg. The charset to use in printing can be customized using the \\texttt{charset} keyword argument. You can control the printing of individual nodes by passing a function \\texttt{f(io, node)}; the default is \\href{@ref}{\\texttt{AbstractTrees.printnode}}.\n",
       "\n",
       "\\section{Examples}\n",
       "\\begin{verbatim}\n",
       "julia> print_tree(stdout, Dict(\"a\"=>\"b\",\"b\"=>['c','d']))\n",
       "Dict{String,Any}(\"b\"=>['c','d'],\"a\"=>\"b\")\n",
       "├─ b\n",
       "│  ├─ c\n",
       "│  └─ d\n",
       "└─ a\n",
       "   └─ b\n",
       "\n",
       "julia> print_tree(stdout, '0'=>'1'=>'2'=>'3', 2)\n",
       "'0'\n",
       "└─ '1'\n",
       "    └─ '2'\n",
       "        ⋮\n",
       "\n",
       "julia> print_tree(stdout, Dict(\"a\"=>\"b\",\"b\"=>['c','d']);\n",
       "        charset = TreeCharSet('+','\\','|',\"--\",\"⋮\"))\n",
       "Dict{String,Any}(\"b\"=>['c','d'],\"a\"=>\"b\")\n",
       "+-- b\n",
       "|   +-- c\n",
       "|   \\-- d\n",
       "\\-- a\n",
       "   \\-- b\n",
       "\\end{verbatim}\n",
       "\\begin{verbatim}\n",
       "print_tree(T::Type, maxdepth=5; kwargs...)\n",
       "\\end{verbatim}\n",
       "prints the subtree of the type \\texttt{T}.\n",
       "\n",
       "\\subsection{Example}\n",
       "\\begin{verbatim}\n",
       "julia> print_tree(AbstractRange)\n",
       "AbstractRange\n",
       "├─ LinRange\n",
       "├─ OrdinalRange\n",
       "│  ├─ AbstractUnitRange\n",
       "│  │  ├─ IdentityUnitRange\n",
       "│  │  ├─ OneTo\n",
       "│  │  ├─ Slice\n",
       "│  │  └─ UnitRange\n",
       "│  └─ StepRange\n",
       "└─ StepRangeLen\n",
       "\\end{verbatim}\n"
      ],
      "text/markdown": [
       "```\n",
       "print_tree(tree, maxdepth=5; kwargs...)\n",
       "print_tree(io, tree, maxdepth=5; kwargs...)\n",
       "print_tree(f::Function, io, tree, maxdepth=5; kwargs...)\n",
       "```\n",
       "\n",
       "# Usage\n",
       "\n",
       "Prints an ASCII formatted representation of the `tree` to the given `io` object. By default all children will be printed up to a maximum level of 5, though this value can be overriden by the `maxdepth` parameter. Nodes that are truncated are indicated by a vertical ellipsis below the truncated node, this indication can be turned off by providing `indicate_truncation=false` as a kwarg. The charset to use in printing can be customized using the `charset` keyword argument. You can control the printing of individual nodes by passing a function `f(io, node)`; the default is [`AbstractTrees.printnode`](@ref).\n",
       "\n",
       "# Examples\n",
       "\n",
       "```julia\n",
       "julia> print_tree(stdout, Dict(\"a\"=>\"b\",\"b\"=>['c','d']))\n",
       "Dict{String,Any}(\"b\"=>['c','d'],\"a\"=>\"b\")\n",
       "├─ b\n",
       "│  ├─ c\n",
       "│  └─ d\n",
       "└─ a\n",
       "   └─ b\n",
       "\n",
       "julia> print_tree(stdout, '0'=>'1'=>'2'=>'3', 2)\n",
       "'0'\n",
       "└─ '1'\n",
       "    └─ '2'\n",
       "        ⋮\n",
       "\n",
       "julia> print_tree(stdout, Dict(\"a\"=>\"b\",\"b\"=>['c','d']);\n",
       "        charset = TreeCharSet('+','\\','|',\"--\",\"⋮\"))\n",
       "Dict{String,Any}(\"b\"=>['c','d'],\"a\"=>\"b\")\n",
       "+-- b\n",
       "|   +-- c\n",
       "|   \\-- d\n",
       "\\-- a\n",
       "   \\-- b\n",
       "```\n",
       "\n",
       "```\n",
       "print_tree(T::Type, maxdepth=5; kwargs...)\n",
       "```\n",
       "\n",
       "prints the subtree of the type `T`.\n",
       "\n",
       "## Example\n",
       "\n",
       "```julia\n",
       "julia> print_tree(AbstractRange)\n",
       "AbstractRange\n",
       "├─ LinRange\n",
       "├─ OrdinalRange\n",
       "│  ├─ AbstractUnitRange\n",
       "│  │  ├─ IdentityUnitRange\n",
       "│  │  ├─ OneTo\n",
       "│  │  ├─ Slice\n",
       "│  │  └─ UnitRange\n",
       "│  └─ StepRange\n",
       "└─ StepRangeLen\n",
       "```\n"
      ],
      "text/plain": [
       "\u001b[36m  print_tree(tree, maxdepth=5; kwargs...)\u001b[39m\n",
       "\u001b[36m  print_tree(io, tree, maxdepth=5; kwargs...)\u001b[39m\n",
       "\u001b[36m  print_tree(f::Function, io, tree, maxdepth=5; kwargs...)\u001b[39m\n",
       "\n",
       "\u001b[1m  Usage\u001b[22m\n",
       "\u001b[1m  ≡≡≡≡≡≡≡\u001b[22m\n",
       "\n",
       "  Prints an ASCII formatted representation of the \u001b[36mtree\u001b[39m to the given \u001b[36mio\u001b[39m object.\n",
       "  By default all children will be printed up to a maximum level of 5, though\n",
       "  this value can be overriden by the \u001b[36mmaxdepth\u001b[39m parameter. Nodes that are\n",
       "  truncated are indicated by a vertical ellipsis below the truncated node,\n",
       "  this indication can be turned off by providing \u001b[36mindicate_truncation=false\u001b[39m as\n",
       "  a kwarg. The charset to use in printing can be customized using the \u001b[36mcharset\u001b[39m\n",
       "  keyword argument. You can control the printing of individual nodes by\n",
       "  passing a function \u001b[36mf(io, node)\u001b[39m; the default is \u001b[36mAbstractTrees.printnode\u001b[39m.\n",
       "\n",
       "\u001b[1m  Examples\u001b[22m\n",
       "\u001b[1m  ≡≡≡≡≡≡≡≡≡≡\u001b[22m\n",
       "\n",
       "\u001b[36m  julia> print_tree(stdout, Dict(\"a\"=>\"b\",\"b\"=>['c','d']))\u001b[39m\n",
       "\u001b[36m  Dict{String,Any}(\"b\"=>['c','d'],\"a\"=>\"b\")\u001b[39m\n",
       "\u001b[36m  ├─ b\u001b[39m\n",
       "\u001b[36m  │  ├─ c\u001b[39m\n",
       "\u001b[36m  │  └─ d\u001b[39m\n",
       "\u001b[36m  └─ a\u001b[39m\n",
       "\u001b[36m     └─ b\u001b[39m\n",
       "\u001b[36m  \u001b[39m\n",
       "\u001b[36m  julia> print_tree(stdout, '0'=>'1'=>'2'=>'3', 2)\u001b[39m\n",
       "\u001b[36m  '0'\u001b[39m\n",
       "\u001b[36m  └─ '1'\u001b[39m\n",
       "\u001b[36m      └─ '2'\u001b[39m\n",
       "\u001b[36m          ⋮\u001b[39m\n",
       "\u001b[36m  \u001b[39m\n",
       "\u001b[36m  julia> print_tree(stdout, Dict(\"a\"=>\"b\",\"b\"=>['c','d']);\u001b[39m\n",
       "\u001b[36m          charset = TreeCharSet('+','\\','|',\"--\",\"⋮\"))\u001b[39m\n",
       "\u001b[36m  Dict{String,Any}(\"b\"=>['c','d'],\"a\"=>\"b\")\u001b[39m\n",
       "\u001b[36m  +-- b\u001b[39m\n",
       "\u001b[36m  |   +-- c\u001b[39m\n",
       "\u001b[36m  |   \\-- d\u001b[39m\n",
       "\u001b[36m  \\-- a\u001b[39m\n",
       "\u001b[36m     \\-- b\u001b[39m\n",
       "\n",
       "\u001b[36m  print_tree(T::Type, maxdepth=5; kwargs...)\u001b[39m\n",
       "\n",
       "  prints the subtree of the type \u001b[36mT\u001b[39m.\n",
       "\n",
       "\u001b[1m  Example\u001b[22m\n",
       "\u001b[1m  =========\u001b[22m\n",
       "\n",
       "\u001b[36m  julia> print_tree(AbstractRange)\u001b[39m\n",
       "\u001b[36m  AbstractRange\u001b[39m\n",
       "\u001b[36m  ├─ LinRange\u001b[39m\n",
       "\u001b[36m  ├─ OrdinalRange\u001b[39m\n",
       "\u001b[36m  │  ├─ AbstractUnitRange\u001b[39m\n",
       "\u001b[36m  │  │  ├─ IdentityUnitRange\u001b[39m\n",
       "\u001b[36m  │  │  ├─ OneTo\u001b[39m\n",
       "\u001b[36m  │  │  ├─ Slice\u001b[39m\n",
       "\u001b[36m  │  │  └─ UnitRange\u001b[39m\n",
       "\u001b[36m  │  └─ StepRange\u001b[39m\n",
       "\u001b[36m  └─ StepRangeLen\u001b[39m"
      ]
     },
     "execution_count": 66,
     "metadata": {},
     "output_type": "execute_result"
    }
   ],
   "source": [
    "@doc print_tree"
   ]
  },
  {
   "cell_type": "code",
   "execution_count": 67,
   "metadata": {},
   "outputs": [
    {
     "data": {
      "text/latex": [
       "\\begin{verbatim}\n",
       "show_expr([io::IO,], ex)\n",
       "\\end{verbatim}\n",
       "shows expression \\texttt{ex} as a Julia style expression.\n",
       "\n",
       "\\section{Examples}\n",
       "\\begin{verbatim}\n",
       "julia> show_expr(:(f(x, g(y, z))))\n",
       "Expr(:call, :f, :x, \n",
       "    Expr(:call, :g, :y, :z))\n",
       "\\end{verbatim}\n"
      ],
      "text/markdown": [
       "```\n",
       "show_expr([io::IO,], ex)\n",
       "```\n",
       "\n",
       "shows expression `ex` as a Julia style expression.\n",
       "\n",
       "# Examples\n",
       "\n",
       "```julia\n",
       "julia> show_expr(:(f(x, g(y, z))))\n",
       "Expr(:call, :f, :x, \n",
       "    Expr(:call, :g, :y, :z))\n",
       "```\n"
      ],
      "text/plain": [
       "\u001b[36m  show_expr([io::IO,], ex)\u001b[39m\n",
       "\n",
       "  shows expression \u001b[36mex\u001b[39m as a Julia style expression.\n",
       "\n",
       "\u001b[1m  Examples\u001b[22m\n",
       "\u001b[1m  ≡≡≡≡≡≡≡≡≡≡\u001b[22m\n",
       "\n",
       "\u001b[36m  julia> show_expr(:(f(x, g(y, z))))\u001b[39m\n",
       "\u001b[36m  Expr(:call, :f, :x, \u001b[39m\n",
       "\u001b[36m      Expr(:call, :g, :y, :z))\u001b[39m"
      ]
     },
     "execution_count": 67,
     "metadata": {},
     "output_type": "execute_result"
    }
   ],
   "source": [
    "@doc show_expr"
   ]
  },
  {
   "cell_type": "code",
   "execution_count": 68,
   "metadata": {},
   "outputs": [
    {
     "data": {
      "text/latex": [
       "\\begin{verbatim}\n",
       "@show_expr(expr, linenums=false)\n",
       "\\end{verbatim}\n",
       "shows the Juia style expression of \\texttt{expr} and prints the line number nodes if \\texttt{linenums} is true.  This is the macro version of \\texttt{show\\_expr}.\n",
       "\n",
       "\\subsection{Example}\n",
       "\\begin{verbatim}\n",
       "julia> @show_expr 2x+1\n",
       "Expr(:call, :+, \n",
       "    Expr(:call, :*, 2, :x), 1)\n",
       "\\end{verbatim}\n",
       "\\texttt{eval} function can evaluate the output of \\texttt{@show\\_expr}. \n",
       "\n",
       "\\begin{verbatim}\n",
       "julia> x = 10; Expr(:call, :+, \n",
       "    Expr(:call, :*, 2, :x), 1) |> eval\n",
       "21\n",
       "\\end{verbatim}\n"
      ],
      "text/markdown": [
       "```\n",
       "@show_expr(expr, linenums=false)\n",
       "```\n",
       "\n",
       "shows the Juia style expression of `expr` and prints the line number nodes if `linenums` is true.  This is the macro version of `show_expr`.\n",
       "\n",
       "## Example\n",
       "\n",
       "```julia\n",
       "julia> @show_expr 2x+1\n",
       "Expr(:call, :+, \n",
       "    Expr(:call, :*, 2, :x), 1)\n",
       "```\n",
       "\n",
       "`eval` function can evaluate the output of `@show_expr`. \n",
       "\n",
       "```julia\n",
       "julia> x = 10; Expr(:call, :+, \n",
       "    Expr(:call, :*, 2, :x), 1) |> eval\n",
       "21\n",
       "```\n"
      ],
      "text/plain": [
       "\u001b[36m  @show_expr(expr, linenums=false)\u001b[39m\n",
       "\n",
       "  shows the Juia style expression of \u001b[36mexpr\u001b[39m and prints the line number nodes if\n",
       "  \u001b[36mlinenums\u001b[39m is true. This is the macro version of \u001b[36mshow_expr\u001b[39m.\n",
       "\n",
       "\u001b[1m  Example\u001b[22m\n",
       "\u001b[1m  =========\u001b[22m\n",
       "\n",
       "\u001b[36m  julia> @show_expr 2x+1\u001b[39m\n",
       "\u001b[36m  Expr(:call, :+, \u001b[39m\n",
       "\u001b[36m      Expr(:call, :*, 2, :x), 1)\u001b[39m\n",
       "\n",
       "  \u001b[36meval\u001b[39m function can evaluate the output of \u001b[36m@show_expr\u001b[39m. \n",
       "\n",
       "\u001b[36m  julia> x = 10; Expr(:call, :+, \u001b[39m\n",
       "\u001b[36m      Expr(:call, :*, 2, :x), 1) |> eval\u001b[39m\n",
       "\u001b[36m  21\u001b[39m"
      ]
     },
     "execution_count": 68,
     "metadata": {},
     "output_type": "execute_result"
    }
   ],
   "source": [
    "@doc @show_expr"
   ]
  },
  {
   "cell_type": "code",
   "execution_count": 69,
   "metadata": {},
   "outputs": [
    {
     "data": {
      "text/latex": [
       "\\begin{verbatim}\n",
       "show_texpr([io::IO,], ex)\n",
       "\\end{verbatim}\n",
       "Yet another \\texttt{Meta.show\\_sexpr}.  It shows expression \\texttt{ex} as a lisp style expression.\n",
       "\n",
       "Remark: The indentation is different from \\texttt{Meta.show\\_sexpr}.\n",
       "\n",
       "\\section{Examples}\n",
       "\\begin{verbatim}\n",
       "julia> show_texpr(:(f(x, g(y, z))))\n",
       "Expr(:call, :f, :x, \n",
       "    Expr(:call, :g, :y, :z))\n",
       "\\end{verbatim}\n"
      ],
      "text/markdown": [
       "```\n",
       "show_texpr([io::IO,], ex)\n",
       "```\n",
       "\n",
       "Yet another `Meta.show_sexpr`.  It shows expression `ex` as a lisp style expression.\n",
       "\n",
       "Remark: The indentation is different from `Meta.show_sexpr`.\n",
       "\n",
       "# Examples\n",
       "\n",
       "```julia\n",
       "julia> show_texpr(:(f(x, g(y, z))))\n",
       "Expr(:call, :f, :x, \n",
       "    Expr(:call, :g, :y, :z))\n",
       "```\n"
      ],
      "text/plain": [
       "\u001b[36m  show_texpr([io::IO,], ex)\u001b[39m\n",
       "\n",
       "  Yet another \u001b[36mMeta.show_sexpr\u001b[39m. It shows expression \u001b[36mex\u001b[39m as a lisp style\n",
       "  expression.\n",
       "\n",
       "  Remark: The indentation is different from \u001b[36mMeta.show_sexpr\u001b[39m.\n",
       "\n",
       "\u001b[1m  Examples\u001b[22m\n",
       "\u001b[1m  ≡≡≡≡≡≡≡≡≡≡\u001b[22m\n",
       "\n",
       "\u001b[36m  julia> show_texpr(:(f(x, g(y, z))))\u001b[39m\n",
       "\u001b[36m  Expr(:call, :f, :x, \u001b[39m\n",
       "\u001b[36m      Expr(:call, :g, :y, :z))\u001b[39m"
      ]
     },
     "execution_count": 69,
     "metadata": {},
     "output_type": "execute_result"
    }
   ],
   "source": [
    "@doc show_texpr"
   ]
  },
  {
   "cell_type": "code",
   "execution_count": 70,
   "metadata": {},
   "outputs": [
    {
     "data": {
      "text/latex": [
       "\\begin{verbatim}\n",
       "@show_texpr(expr, linenums=false)\n",
       "\\end{verbatim}\n",
       "Yet another \\texttt{@show\\_sexpr}.  It shows the lisp style S-expression of \\texttt{expr} and prints the line number nodes if \\texttt{linenums} is true.\n",
       "\n",
       "Remark: The indentation is different from \\texttt{@show\\_sexpr}.\n",
       "\n",
       "\\subsection{Example}\n",
       "\\begin{verbatim}\n",
       "julia> @show_texpr 2x+1\n",
       "(:call, :+, \n",
       "    (:call, :*, 2, :x), 1)\n",
       "\\end{verbatim}\n",
       "\\texttt{teval} function can evaluate the output of \\texttt{@show\\_texpr}.\n",
       "\n",
       "\\begin{verbatim}\n",
       "julia> x = 10; (:call, :+, \n",
       "    (:call, :*, 2, :x), 1) |> teval\n",
       "21\n",
       "\\end{verbatim}\n"
      ],
      "text/markdown": [
       "```\n",
       "@show_texpr(expr, linenums=false)\n",
       "```\n",
       "\n",
       "Yet another `@show_sexpr`.  It shows the lisp style S-expression of `expr` and prints the line number nodes if `linenums` is true.\n",
       "\n",
       "Remark: The indentation is different from `@show_sexpr`.\n",
       "\n",
       "## Example\n",
       "\n",
       "```julia\n",
       "julia> @show_texpr 2x+1\n",
       "(:call, :+, \n",
       "    (:call, :*, 2, :x), 1)\n",
       "```\n",
       "\n",
       "`teval` function can evaluate the output of `@show_texpr`.\n",
       "\n",
       "```julia\n",
       "julia> x = 10; (:call, :+, \n",
       "    (:call, :*, 2, :x), 1) |> teval\n",
       "21\n",
       "```\n"
      ],
      "text/plain": [
       "\u001b[36m  @show_texpr(expr, linenums=false)\u001b[39m\n",
       "\n",
       "  Yet another \u001b[36m@show_sexpr\u001b[39m. It shows the lisp style S-expression of \u001b[36mexpr\u001b[39m and\n",
       "  prints the line number nodes if \u001b[36mlinenums\u001b[39m is true.\n",
       "\n",
       "  Remark: The indentation is different from \u001b[36m@show_sexpr\u001b[39m.\n",
       "\n",
       "\u001b[1m  Example\u001b[22m\n",
       "\u001b[1m  =========\u001b[22m\n",
       "\n",
       "\u001b[36m  julia> @show_texpr 2x+1\u001b[39m\n",
       "\u001b[36m  (:call, :+, \u001b[39m\n",
       "\u001b[36m      (:call, :*, 2, :x), 1)\u001b[39m\n",
       "\n",
       "  \u001b[36mteval\u001b[39m function can evaluate the output of \u001b[36m@show_texpr\u001b[39m.\n",
       "\n",
       "\u001b[36m  julia> x = 10; (:call, :+, \u001b[39m\n",
       "\u001b[36m      (:call, :*, 2, :x), 1) |> teval\u001b[39m\n",
       "\u001b[36m  21\u001b[39m"
      ]
     },
     "execution_count": 70,
     "metadata": {},
     "output_type": "execute_result"
    }
   ],
   "source": [
    "@doc @show_texpr"
   ]
  },
  {
   "cell_type": "code",
   "execution_count": 71,
   "metadata": {},
   "outputs": [
    {
     "data": {
      "text/latex": [
       "\\begin{verbatim}\n",
       "teval(texpr, m::Module=Main)\n",
       "\\end{verbatim}\n",
       "evaluates the lisp-like tuple expression \\texttt{texpr}.\n",
       "\n",
       "Example: Calculation of \\texttt{sin(π/6)}\n",
       "\n",
       "\\begin{verbatim}\n",
       "julia> (:call, :sin, (:call, :/, π, 6)) |> teval\n",
       "0.49999999999999994\n",
       "\\end{verbatim}\n",
       "In some cases, you can omit \\texttt{:call}.\n",
       "\n",
       "\\begin{verbatim}\n",
       "julia> (:sin, (:/, π, 6)) |> teval\n",
       "0.49999999999999994\n",
       "\\end{verbatim}\n"
      ],
      "text/markdown": [
       "```\n",
       "teval(texpr, m::Module=Main)\n",
       "```\n",
       "\n",
       "evaluates the lisp-like tuple expression `texpr`.\n",
       "\n",
       "Example: Calculation of `sin(π/6)`\n",
       "\n",
       "```julia\n",
       "julia> (:call, :sin, (:call, :/, π, 6)) |> teval\n",
       "0.49999999999999994\n",
       "```\n",
       "\n",
       "In some cases, you can omit `:call`.\n",
       "\n",
       "```julia\n",
       "julia> (:sin, (:/, π, 6)) |> teval\n",
       "0.49999999999999994\n",
       "```\n"
      ],
      "text/plain": [
       "\u001b[36m  teval(texpr, m::Module=Main)\u001b[39m\n",
       "\n",
       "  evaluates the lisp-like tuple expression \u001b[36mtexpr\u001b[39m.\n",
       "\n",
       "  Example: Calculation of \u001b[36msin(π/6)\u001b[39m\n",
       "\n",
       "\u001b[36m  julia> (:call, :sin, (:call, :/, π, 6)) |> teval\u001b[39m\n",
       "\u001b[36m  0.49999999999999994\u001b[39m\n",
       "\n",
       "  In some cases, you can omit \u001b[36m:call\u001b[39m.\n",
       "\n",
       "\u001b[36m  julia> (:sin, (:/, π, 6)) |> teval\u001b[39m\n",
       "\u001b[36m  0.49999999999999994\u001b[39m"
      ]
     },
     "execution_count": 71,
     "metadata": {},
     "output_type": "execute_result"
    }
   ],
   "source": [
    "@doc teval"
   ]
  },
  {
   "cell_type": "code",
   "execution_count": 72,
   "metadata": {},
   "outputs": [
    {
     "data": {
      "text/latex": [
       "\\begin{verbatim}\n",
       "@teval texpr\n",
       "\\end{verbatim}\n",
       "evaluates the lisp-like tuple expression \\texttt{texpr}.\n",
       "\n",
       "Example: Calculation of \\texttt{sin(π/6)}\n",
       "\n",
       "\\begin{verbatim}\n",
       "julia> @teval (:call, :sin, (:call, :/, π, 6))\n",
       "0.49999999999999994\n",
       "\\end{verbatim}\n",
       "In some cases, you can omit \\texttt{:call}.\n",
       "\n",
       "\\begin{verbatim}\n",
       "julia> @teval (:sin, (:/, π, 6))\n",
       "0.49999999999999994\n",
       "\\end{verbatim}\n"
      ],
      "text/markdown": [
       "```\n",
       "@teval texpr\n",
       "```\n",
       "\n",
       "evaluates the lisp-like tuple expression `texpr`.\n",
       "\n",
       "Example: Calculation of `sin(π/6)`\n",
       "\n",
       "```julia\n",
       "julia> @teval (:call, :sin, (:call, :/, π, 6))\n",
       "0.49999999999999994\n",
       "```\n",
       "\n",
       "In some cases, you can omit `:call`.\n",
       "\n",
       "```julia\n",
       "julia> @teval (:sin, (:/, π, 6))\n",
       "0.49999999999999994\n",
       "```\n"
      ],
      "text/plain": [
       "\u001b[36m  @teval texpr\u001b[39m\n",
       "\n",
       "  evaluates the lisp-like tuple expression \u001b[36mtexpr\u001b[39m.\n",
       "\n",
       "  Example: Calculation of \u001b[36msin(π/6)\u001b[39m\n",
       "\n",
       "\u001b[36m  julia> @teval (:call, :sin, (:call, :/, π, 6))\u001b[39m\n",
       "\u001b[36m  0.49999999999999994\u001b[39m\n",
       "\n",
       "  In some cases, you can omit \u001b[36m:call\u001b[39m.\n",
       "\n",
       "\u001b[36m  julia> @teval (:sin, (:/, π, 6))\u001b[39m\n",
       "\u001b[36m  0.49999999999999994\u001b[39m"
      ]
     },
     "execution_count": 72,
     "metadata": {},
     "output_type": "execute_result"
    }
   ],
   "source": [
    "@doc @teval"
   ]
  },
  {
   "cell_type": "code",
   "execution_count": 73,
   "metadata": {},
   "outputs": [
    {
     "data": {
      "text/latex": [
       "\\begin{verbatim}\n",
       "MetaUtils.@t texpr\n",
       "\\end{verbatim}\n",
       "shows the Julia expression and the value of the lisp-like tuple expression \\texttt{texpr}.\n",
       "\n",
       "Example:\n",
       "\n",
       "\\begin{verbatim}\n",
       "julia> MetaUtils.@t (:call, :sin, (:call, :/, π, 6))\n",
       ":(sin(π / 6))\n",
       "→ 0.49999999999999994\n",
       "\\end{verbatim}\n"
      ],
      "text/markdown": [
       "```\n",
       "MetaUtils.@t texpr\n",
       "```\n",
       "\n",
       "shows the Julia expression and the value of the lisp-like tuple expression `texpr`.\n",
       "\n",
       "Example:\n",
       "\n",
       "```julia\n",
       "julia> MetaUtils.@t (:call, :sin, (:call, :/, π, 6))\n",
       ":(sin(π / 6))\n",
       "→ 0.49999999999999994\n",
       "```\n"
      ],
      "text/plain": [
       "\u001b[36m  MetaUtils.@t texpr\u001b[39m\n",
       "\n",
       "  shows the Julia expression and the value of the lisp-like tuple expression\n",
       "  \u001b[36mtexpr\u001b[39m.\n",
       "\n",
       "  Example:\n",
       "\n",
       "\u001b[36m  julia> MetaUtils.@t (:call, :sin, (:call, :/, π, 6))\u001b[39m\n",
       "\u001b[36m  :(sin(π / 6))\u001b[39m\n",
       "\u001b[36m  → 0.49999999999999994\u001b[39m"
      ]
     },
     "execution_count": 73,
     "metadata": {},
     "output_type": "execute_result"
    }
   ],
   "source": [
    "@doc MetaUtils.@t"
   ]
  },
  {
   "cell_type": "code",
   "execution_count": 74,
   "metadata": {},
   "outputs": [
    {
     "data": {
      "text/latex": [
       "\\begin{verbatim}\n",
       "MetaUtils.@T texpr\n",
       "\\end{verbatim}\n",
       "shows \\texttt{show(texpr)}, \\texttt{show\\_texpr(texpr)}, the Julia expression, and the value of the lisp-like tuple expression \\texttt{texpr}.\n",
       "\n",
       "Example:\n",
       "\n",
       "\\begin{verbatim}\n",
       "julia> MetaUtils.@T (:call, :sin, (:call, :/, π, 6))\n",
       "(:call, :sin, (:call, :/, π, 6))\n",
       "→ (:call, :sin, \n",
       "    (:call, :/, π, 6))\n",
       "→ :(sin(π / 6))\n",
       "→ 0.49999999999999994\n",
       "\\end{verbatim}\n"
      ],
      "text/markdown": [
       "```\n",
       "MetaUtils.@T texpr\n",
       "```\n",
       "\n",
       "shows `show(texpr)`, `show_texpr(texpr)`, the Julia expression, and the value of the lisp-like tuple expression `texpr`.\n",
       "\n",
       "Example:\n",
       "\n",
       "```julia\n",
       "julia> MetaUtils.@T (:call, :sin, (:call, :/, π, 6))\n",
       "(:call, :sin, (:call, :/, π, 6))\n",
       "→ (:call, :sin, \n",
       "    (:call, :/, π, 6))\n",
       "→ :(sin(π / 6))\n",
       "→ 0.49999999999999994\n",
       "```\n"
      ],
      "text/plain": [
       "\u001b[36m  MetaUtils.@T texpr\u001b[39m\n",
       "\n",
       "  shows \u001b[36mshow(texpr)\u001b[39m, \u001b[36mshow_texpr(texpr)\u001b[39m, the Julia expression, and the value of\n",
       "  the lisp-like tuple expression \u001b[36mtexpr\u001b[39m.\n",
       "\n",
       "  Example:\n",
       "\n",
       "\u001b[36m  julia> MetaUtils.@T (:call, :sin, (:call, :/, π, 6))\u001b[39m\n",
       "\u001b[36m  (:call, :sin, (:call, :/, π, 6))\u001b[39m\n",
       "\u001b[36m  → (:call, :sin, \u001b[39m\n",
       "\u001b[36m      (:call, :/, π, 6))\u001b[39m\n",
       "\u001b[36m  → :(sin(π / 6))\u001b[39m\n",
       "\u001b[36m  → 0.49999999999999994\u001b[39m"
      ]
     },
     "execution_count": 74,
     "metadata": {},
     "output_type": "execute_result"
    }
   ],
   "source": [
    "@doc MetaUtils.@T"
   ]
  },
  {
   "cell_type": "code",
   "execution_count": null,
   "metadata": {},
   "outputs": [],
   "source": []
  }
 ],
 "metadata": {
  "@webio": {
   "lastCommId": null,
   "lastKernelId": null
  },
  "jupytext": {
   "formats": "ipynb,md"
  },
  "kernelspec": {
   "display_name": "Julia MKL depwarn -O3 1.5.2",
   "language": "julia",
   "name": "julia-mkl-depwarn--o3-1.5"
  },
  "language_info": {
   "file_extension": ".jl",
   "mimetype": "application/julia",
   "name": "julia",
   "version": "1.5.2"
  },
  "toc": {
   "base_numbering": 1,
   "nav_menu": {},
   "number_sections": true,
   "sideBar": true,
   "skip_h1_title": true,
   "title_cell": "Table of Contents",
   "title_sidebar": "Contents",
   "toc_cell": true,
   "toc_position": {
    "height": "calc(100% - 180px)",
    "left": "10px",
    "top": "150px",
    "width": "250px"
   },
   "toc_section_display": true,
   "toc_window_display": false
  }
 },
 "nbformat": 4,
 "nbformat_minor": 4
}
