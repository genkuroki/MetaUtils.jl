{
 "cells": [
  {
   "cell_type": "markdown",
   "metadata": {},
   "source": [
    "# MetaUtils\n",
    "\n",
    "* Author: Gen Kuroki\n",
    "* Date: 2020-10-11～2020-10-17, 2021-03-20～2021-03-26\n",
    "* Repository: https://github.com/genkuroki/MetaUtils.jl\n",
    "* File: https://nbviewer.jupyter.org/github/genkuroki/MetaUtils.jl/blob/master/MetaUtils.ipynb"
   ]
  },
  {
   "cell_type": "markdown",
   "metadata": {
    "toc": true
   },
   "source": [
    "<h1>Table of Contents<span class=\"tocSkip\"></span></h1>\n",
    "<div class=\"toc\"><ul class=\"toc-item\"><li><span><a href=\"#Explanatory-examples\" data-toc-modified-id=\"Explanatory-examples-1\"><span class=\"toc-item-num\">1&nbsp;&nbsp;</span>Explanatory examples</a></span></li><li><span><a href=\"#Miscellaneous-examples-of-@show_texpr,-etc.\" data-toc-modified-id=\"Miscellaneous-examples-of-@show_texpr,-etc.-2\"><span class=\"toc-item-num\">2&nbsp;&nbsp;</span>Miscellaneous examples of @show_texpr, etc.</a></span><ul class=\"toc-item\"><li><span><a href=\"#for-loop\" data-toc-modified-id=\"for-loop-2.1\"><span class=\"toc-item-num\">2.1&nbsp;&nbsp;</span>for loop</a></span></li><li><span><a href=\"#subtype-trees\" data-toc-modified-id=\"subtype-trees-2.2\"><span class=\"toc-item-num\">2.2&nbsp;&nbsp;</span>subtype trees</a></span></li><li><span><a href=\"#function-definition\" data-toc-modified-id=\"function-definition-2.3\"><span class=\"toc-item-num\">2.3&nbsp;&nbsp;</span>function definition</a></span></li><li><span><a href=\"#macro-and-LineNumberNode\" data-toc-modified-id=\"macro-and-LineNumberNode-2.4\"><span class=\"toc-item-num\">2.4&nbsp;&nbsp;</span>macro and LineNumberNode</a></span></li><li><span><a href=\"#QuoteNode\" data-toc-modified-id=\"QuoteNode-2.5\"><span class=\"toc-item-num\">2.5&nbsp;&nbsp;</span>QuoteNode</a></span></li></ul></li><li><span><a href=\"#Evaluation-of-Lisp-like-tuple-expressions\" data-toc-modified-id=\"Evaluation-of-Lisp-like-tuple-expressions-3\"><span class=\"toc-item-num\">3&nbsp;&nbsp;</span>Evaluation of Lisp-like tuple expressions</a></span></li><li><span><a href=\"#Plot-example\" data-toc-modified-id=\"Plot-example-4\"><span class=\"toc-item-num\">4&nbsp;&nbsp;</span>Plot example</a></span></li><li><span><a href=\"#Documents\" data-toc-modified-id=\"Documents-5\"><span class=\"toc-item-num\">5&nbsp;&nbsp;</span>Documents</a></span></li></ul></div>"
   ]
  },
  {
   "cell_type": "code",
   "execution_count": 1,
   "metadata": {},
   "outputs": [
    {
     "data": {
      "text/plain": [
       "v\"1.7.0-DEV.751\""
      ]
     },
     "execution_count": 1,
     "metadata": {},
     "output_type": "execute_result"
    }
   ],
   "source": [
    "VERSION"
   ]
  },
  {
   "cell_type": "code",
   "execution_count": 2,
   "metadata": {},
   "outputs": [],
   "source": [
    "if isfile(\"Project.toml\")\n",
    "    using Pkg\n",
    "    Pkg.activate(\".\")\n",
    "    using Revise\n",
    "end"
   ]
  },
  {
   "cell_type": "code",
   "execution_count": 3,
   "metadata": {},
   "outputs": [
    {
     "name": "stderr",
     "output_type": "stream",
     "text": [
      "┌ Info: Precompiling MetaUtils [ed17dc9e-20eb-4460-9701-8d0520e45e1f]\n",
      "└ @ Base loading.jl:1320\n"
     ]
    }
   ],
   "source": [
    "using MetaUtils"
   ]
  },
  {
   "cell_type": "markdown",
   "metadata": {},
   "source": [
    "## Explanatory examples"
   ]
  },
  {
   "cell_type": "code",
   "execution_count": 4,
   "metadata": {},
   "outputs": [
    {
     "name": "stdout",
     "output_type": "stream",
     "text": [
      "(:call, :+, (:call, :*, 2, :x), 1)"
     ]
    }
   ],
   "source": [
    "@show_sexpr 2x+1"
   ]
  },
  {
   "cell_type": "code",
   "execution_count": 5,
   "metadata": {},
   "outputs": [
    {
     "data": {
      "text/plain": [
       "21"
      ]
     },
     "execution_count": 5,
     "metadata": {},
     "output_type": "execute_result"
    }
   ],
   "source": [
    "x = 10; (:call, :+, (:call, :*, 2, :x), 1) |> teval"
   ]
  },
  {
   "cell_type": "code",
   "execution_count": 6,
   "metadata": {},
   "outputs": [
    {
     "name": "stdout",
     "output_type": "stream",
     "text": [
      "Expr(:call)\n",
      "├─ :+\n",
      "├─ Expr(:call)\n",
      "│  ├─ :*\n",
      "│  ├─ 2\n",
      "│  └─ :x\n",
      "└─ 1\n"
     ]
    }
   ],
   "source": [
    "@show_tree 2x+1"
   ]
  },
  {
   "cell_type": "code",
   "execution_count": 7,
   "metadata": {},
   "outputs": [
    {
     "name": "stdout",
     "output_type": "stream",
     "text": [
      "AbstractRange\n",
      "├─ LinRange\n",
      "├─ OrdinalRange\n",
      "│  ├─ AbstractUnitRange\n",
      "│  │  ├─ Base.IdentityUnitRange\n",
      "│  │  ├─ Base.OneTo\n",
      "│  │  ├─ Base.Slice\n",
      "│  │  └─ UnitRange\n",
      "│  └─ StepRange\n",
      "└─ StepRangeLen\n"
     ]
    }
   ],
   "source": [
    "print_subtypes(AbstractRange)"
   ]
  },
  {
   "cell_type": "code",
   "execution_count": 8,
   "metadata": {},
   "outputs": [
    {
     "name": "stdout",
     "output_type": "stream",
     "text": [
      "Expr(:call, :f, :x, \n",
      "    Expr(:call, :g, :y, :z))"
     ]
    }
   ],
   "source": [
    "show_expr(:(f(x, g(y, z))))"
   ]
  },
  {
   "cell_type": "code",
   "execution_count": 9,
   "metadata": {},
   "outputs": [
    {
     "name": "stdout",
     "output_type": "stream",
     "text": [
      "Expr(:call, :+, \n",
      "    Expr(:call, :*, 2, :x), 1)"
     ]
    }
   ],
   "source": [
    "@show_expr 2x+1"
   ]
  },
  {
   "cell_type": "code",
   "execution_count": 10,
   "metadata": {},
   "outputs": [
    {
     "data": {
      "text/plain": [
       "21"
      ]
     },
     "execution_count": 10,
     "metadata": {},
     "output_type": "execute_result"
    }
   ],
   "source": [
    "x = 10; Expr(:call, :+, \n",
    "    Expr(:call, :*, 2, :x), 1) |> eval"
   ]
  },
  {
   "cell_type": "code",
   "execution_count": 11,
   "metadata": {},
   "outputs": [
    {
     "name": "stdout",
     "output_type": "stream",
     "text": [
      "(:call, :f, :x, \n",
      "    (:call, :g, :y, :z))"
     ]
    }
   ],
   "source": [
    "show_texpr(:(f(x, g(y, z))))"
   ]
  },
  {
   "cell_type": "code",
   "execution_count": 12,
   "metadata": {},
   "outputs": [
    {
     "name": "stdout",
     "output_type": "stream",
     "text": [
      "(:call, :+, \n",
      "    (:call, :*, 2, :x), 1)"
     ]
    }
   ],
   "source": [
    "@show_texpr 2x+1"
   ]
  },
  {
   "cell_type": "code",
   "execution_count": 13,
   "metadata": {},
   "outputs": [
    {
     "data": {
      "text/plain": [
       "21"
      ]
     },
     "execution_count": 13,
     "metadata": {},
     "output_type": "execute_result"
    }
   ],
   "source": [
    "x = 10; (:call, :+, \n",
    "    (:call, :*, 2, :x), 1) |> teval"
   ]
  },
  {
   "cell_type": "code",
   "execution_count": 14,
   "metadata": {
    "scrolled": true
   },
   "outputs": [
    {
     "data": {
      "text/plain": [
       ":(sin(π / 6))"
      ]
     },
     "execution_count": 14,
     "metadata": {},
     "output_type": "execute_result"
    }
   ],
   "source": [
    "texpr2expr((:call, :sin, (:call, :/, π, 6)))"
   ]
  },
  {
   "cell_type": "code",
   "execution_count": 15,
   "metadata": {
    "scrolled": true
   },
   "outputs": [
    {
     "data": {
      "text/plain": [
       "0.49999999999999994"
      ]
     },
     "execution_count": 15,
     "metadata": {},
     "output_type": "execute_result"
    }
   ],
   "source": [
    "(:call, :sin, (:call, :/, π, 6)) |> teval"
   ]
  },
  {
   "cell_type": "code",
   "execution_count": 16,
   "metadata": {
    "scrolled": true
   },
   "outputs": [
    {
     "data": {
      "text/plain": [
       "0.49999999999999994"
      ]
     },
     "execution_count": 16,
     "metadata": {},
     "output_type": "execute_result"
    }
   ],
   "source": [
    "@teval (:call, :sin, (:call, :/, π, 6))"
   ]
  },
  {
   "cell_type": "code",
   "execution_count": 17,
   "metadata": {},
   "outputs": [
    {
     "name": "stdout",
     "output_type": "stream",
     "text": [
      ":(sin(π / 6))\n",
      "→ 0.49999999999999994\n"
     ]
    }
   ],
   "source": [
    "MetaUtils.@t (:call, :sin, (:call, :/, π, 6))"
   ]
  },
  {
   "cell_type": "code",
   "execution_count": 18,
   "metadata": {},
   "outputs": [
    {
     "name": "stdout",
     "output_type": "stream",
     "text": [
      "(:call, :sin, (:call, :/, π, 6))\n",
      "→ (:call, :sin, \n",
      "    (:call, :/, π, 6))\n",
      "→ :(sin(π / 6))\n",
      "→ 0.49999999999999994\n"
     ]
    }
   ],
   "source": [
    "MetaUtils.@T (:call, :sin, (:call, :/, π, 6))"
   ]
  },
  {
   "cell_type": "code",
   "execution_count": 19,
   "metadata": {
    "scrolled": true
   },
   "outputs": [
    {
     "data": {
      "text/plain": [
       "0.49999999999999994"
      ]
     },
     "execution_count": 19,
     "metadata": {},
     "output_type": "execute_result"
    }
   ],
   "source": [
    "(:sin, (:/, π, 6)) |> teval"
   ]
  },
  {
   "cell_type": "code",
   "execution_count": 20,
   "metadata": {
    "scrolled": true
   },
   "outputs": [
    {
     "data": {
      "text/plain": [
       "0.49999999999999994"
      ]
     },
     "execution_count": 20,
     "metadata": {},
     "output_type": "execute_result"
    }
   ],
   "source": [
    "@teval (:sin, (:/, π, 6))"
   ]
  },
  {
   "cell_type": "code",
   "execution_count": 21,
   "metadata": {},
   "outputs": [
    {
     "name": "stdout",
     "output_type": "stream",
     "text": [
      ":(sin(π / 6))\n",
      "→ 0.49999999999999994\n"
     ]
    }
   ],
   "source": [
    "MetaUtils.@t (:sin, (:/, π, 6))"
   ]
  },
  {
   "cell_type": "code",
   "execution_count": 22,
   "metadata": {},
   "outputs": [
    {
     "name": "stdout",
     "output_type": "stream",
     "text": [
      "(:sin, (:/, π, 6))\n",
      "→ (:call, :sin, \n",
      "    (:call, :/, π, 6))\n",
      "→ :(sin(π / 6))\n",
      "→ 0.49999999999999994\n"
     ]
    }
   ],
   "source": [
    "MetaUtils.@T (:sin, (:/, π, 6))"
   ]
  },
  {
   "cell_type": "markdown",
   "metadata": {},
   "source": [
    "## Miscellaneous examples of @show_texpr, etc."
   ]
  },
  {
   "cell_type": "markdown",
   "metadata": {},
   "source": [
    "### for loop"
   ]
  },
  {
   "cell_type": "code",
   "execution_count": 23,
   "metadata": {},
   "outputs": [
    {
     "name": "stdout",
     "output_type": "stream",
     "text": [
      "(:for, \n",
      "    (:(=), :k, \n",
      "        (:call, :(:), 1, 10)), \n",
      "    (:block, \n",
      "        (:(=), :x, \n",
      "            (:call, :÷, \n",
      "                (:call, :*, :k, \n",
      "                    (:call, :+, :k, 1)), 2)), \n",
      "        (:call, :println, \"k(k+1)/2 = \", :x)))"
     ]
    }
   ],
   "source": [
    "@show_texpr for k in 1:10\n",
    "    x = k*(k+1) ÷ 2\n",
    "    println(\"k(k+1)/2 = \", x)\n",
    "end"
   ]
  },
  {
   "cell_type": "code",
   "execution_count": 24,
   "metadata": {},
   "outputs": [
    {
     "name": "stdout",
     "output_type": "stream",
     "text": [
      "(:for, \n",
      "    (:(=), :k, \n",
      "        (:call, :(:), 1, 10)), \n",
      "    (:block, LineNumberNode(2, Symbol(\"In[24]\")), \n",
      "        (:(=), :x, \n",
      "            (:call, :÷, \n",
      "                (:call, :*, :k, \n",
      "                    (:call, :+, :k, 1)), 2)), LineNumberNode(3, Symbol(\"In[24]\")), \n",
      "        (:call, :println, \"k(k+1)/2 = \", :x)))"
     ]
    }
   ],
   "source": [
    "@show_texpr for k in 1:10\n",
    "    x = k*(k+1) ÷ 2\n",
    "    println(\"k(k+1)/2 = \", x)\n",
    "end true"
   ]
  },
  {
   "cell_type": "code",
   "execution_count": 25,
   "metadata": {},
   "outputs": [
    {
     "name": "stdout",
     "output_type": "stream",
     "text": [
      "Expr(:for)\n",
      "├─ Expr(:(=))\n",
      "│  ├─ :k\n",
      "│  └─ Expr(:call)\n",
      "│     ⋮\n",
      "│     \n",
      "└─ Expr(:block)\n",
      "   ├─ Expr(:(=))\n",
      "   │  ⋮\n",
      "   │  \n",
      "   └─ Expr(:call)\n",
      "      ⋮\n",
      "      \n"
     ]
    }
   ],
   "source": [
    "@show_tree for k in 1:10\n",
    "    x = k*(k+1) ÷ 2\n",
    "    println(\"k(k+1)/2 = \", x)\n",
    "end 2"
   ]
  },
  {
   "cell_type": "code",
   "execution_count": 26,
   "metadata": {},
   "outputs": [
    {
     "name": "stdout",
     "output_type": "stream",
     "text": [
      "Expr(:for)\n",
      "├─ Expr(:(=))\n",
      "│  ├─ :k\n",
      "│  └─ Expr(:call)\n",
      "│     ├─ :(:)\n",
      "│     ├─ 1\n",
      "│     └─ 10\n",
      "└─ Expr(:block)\n",
      "   ├─ Expr(:(=))\n",
      "   │  ├─ :x\n",
      "   │  └─ Expr(:call)\n",
      "   │     ├─ :÷\n",
      "   │     ├─ Expr(:call)\n",
      "   │     │  ├─ :*\n",
      "   │     │  ├─ :k\n",
      "   │     │  └─ Expr(:call)\n",
      "   │     │     ├─ :+\n",
      "   │     │     ├─ :k\n",
      "   │     │     └─ 1\n",
      "   │     └─ 2\n",
      "   └─ Expr(:call)\n",
      "      ├─ :println\n",
      "      ├─ \"k(k+1)/2 = \"\n",
      "      └─ :x\n"
     ]
    }
   ],
   "source": [
    "@show_tree for k in 1:10\n",
    "    x = k*(k+1) ÷ 2\n",
    "    println(\"k(k+1)/2 = \", x)\n",
    "end"
   ]
  },
  {
   "cell_type": "code",
   "execution_count": 27,
   "metadata": {},
   "outputs": [
    {
     "name": "stdout",
     "output_type": "stream",
     "text": [
      "Expr(:for)\n",
      "├─ Expr(:(=))\n",
      "│  ├─ :k\n",
      "│  └─ Expr(:call)\n",
      "│     ├─ :(:)\n",
      "│     ├─ 1\n",
      "│     └─ 10\n",
      "└─ Expr(:block)\n",
      "   ├─ :(#= In[27]:2 =#)\n",
      "   ├─ Expr(:(=))\n",
      "   │  ├─ :x\n",
      "   │  └─ Expr(:call)\n",
      "   │     ├─ :÷\n",
      "   │     ├─ Expr(:call)\n",
      "   │     │  ├─ :*\n",
      "   │     │  ├─ :k\n",
      "   │     │  └─ Expr(:call)\n",
      "   │     │     ├─ :+\n",
      "   │     │     ├─ :k\n",
      "   │     │     └─ 1\n",
      "   │     └─ 2\n",
      "   ├─ :(#= In[27]:3 =#)\n",
      "   └─ Expr(:call)\n",
      "      ├─ :println\n",
      "      ├─ \"k(k+1)/2 = \"\n",
      "      └─ :x\n"
     ]
    }
   ],
   "source": [
    "@show_tree for k in 1:10\n",
    "    x = k*(k+1) ÷ 2\n",
    "    println(\"k(k+1)/2 = \", x)\n",
    "end 10 true"
   ]
  },
  {
   "cell_type": "code",
   "execution_count": 28,
   "metadata": {},
   "outputs": [
    {
     "name": "stdout",
     "output_type": "stream",
     "text": [
      "Expr\n",
      "  head: Symbol for\n",
      "  args: Array{Any}((2,))\n",
      "    1: Expr\n",
      "      head: Symbol =\n",
      "      args: Array{Any}((2,))\n",
      "        1: Symbol k\n",
      "        2: Expr\n",
      "          head: Symbol call\n",
      "          args: Array{Any}((3,))\n",
      "            1: Symbol :\n",
      "            2: Int64 1\n",
      "            3: Int64 10\n",
      "    2: Expr\n",
      "      head: Symbol block\n",
      "      args: Array{Any}((4,))\n",
      "        1: LineNumberNode\n",
      "          line: Int64 2\n",
      "          file: Symbol In[28]\n",
      "        2: Expr\n",
      "          head: Symbol =\n",
      "          args: Array{Any}((2,))\n",
      "            1: Symbol x\n",
      "            2: Expr\n",
      "              head: Symbol call\n",
      "              args: Array{Any}((3,))\n",
      "                1: Symbol ÷\n",
      "                2: Expr\n",
      "                3: Int64 2\n",
      "        3: LineNumberNode\n",
      "          line: Int64 3\n",
      "          file: Symbol In[28]\n",
      "        4: Expr\n",
      "          head: Symbol call\n",
      "          args: Array{Any}((3,))\n",
      "            1: Symbol println\n",
      "            2: String \"k(k+1)/2 = \"\n",
      "            3: Symbol x\n"
     ]
    }
   ],
   "source": [
    "Meta.@dump for k in 1:10\n",
    "    x = k*(k+1) ÷ 2\n",
    "    println(\"k(k+1)/2 = \", x)\n",
    "end"
   ]
  },
  {
   "cell_type": "code",
   "execution_count": 29,
   "metadata": {
    "scrolled": true
   },
   "outputs": [
    {
     "name": "stdout",
     "output_type": "stream",
     "text": [
      "Expr(:for, \n",
      "    Expr(:(=), :k, \n",
      "        Expr(:call, :(:), 1, 10)), \n",
      "    Expr(:block, \n",
      "        Expr(:(=), :x, \n",
      "            Expr(:call, :÷, \n",
      "                Expr(:call, :*, :k, \n",
      "                    Expr(:call, :+, :k, 1)), 2)), \n",
      "        Expr(:call, :println, \"k(k+1)/2 = \", :x)))"
     ]
    }
   ],
   "source": [
    "@show_expr for k in 1:10\n",
    "    x = k*(k+1) ÷ 2\n",
    "    println(\"k(k+1)/2 = \", x)\n",
    "end"
   ]
  },
  {
   "cell_type": "code",
   "execution_count": 30,
   "metadata": {},
   "outputs": [
    {
     "name": "stdout",
     "output_type": "stream",
     "text": [
      "(:for, \n",
      "    (:(=), :k, \n",
      "        (:call, :(:), 1, 10)), \n",
      "    (:block, \n",
      "        (:(=), :x, \n",
      "            (:call, :÷, \n",
      "                (:call, :*, :k, \n",
      "                    (:call, :+, :k, 1)), 2)), \n",
      "        (:call, :println, \"k(k+1)/2 = \", :x)))"
     ]
    }
   ],
   "source": [
    "@show_texpr for k in 1:10\n",
    "    x = k*(k+1) ÷ 2\n",
    "    println(\"k(k+1)/2 = \", x)\n",
    "end"
   ]
  },
  {
   "cell_type": "markdown",
   "metadata": {},
   "source": [
    "### subtype trees"
   ]
  },
  {
   "cell_type": "code",
   "execution_count": 31,
   "metadata": {},
   "outputs": [
    {
     "name": "stdout",
     "output_type": "stream",
     "text": [
      "AbstractRange\n",
      "├─ LinRange\n",
      "├─ OrdinalRange\n",
      "│  ├─ AbstractUnitRange\n",
      "│  │  ├─ Base.IdentityUnitRange\n",
      "│  │  ├─ Base.OneTo\n",
      "│  │  ├─ Base.Slice\n",
      "│  │  └─ UnitRange\n",
      "│  └─ StepRange\n",
      "└─ StepRangeLen\n"
     ]
    }
   ],
   "source": [
    "print_subtypes(AbstractRange)"
   ]
  },
  {
   "cell_type": "code",
   "execution_count": 32,
   "metadata": {},
   "outputs": [
    {
     "name": "stdout",
     "output_type": "stream",
     "text": [
      "Number\n",
      "├─ Complex\n",
      "└─ Real\n",
      "   ├─ AbstractFloat\n",
      "   │  ├─ BigFloat\n",
      "   │  ├─ Float16\n",
      "   │  ├─ Float32\n",
      "   │  └─ Float64\n",
      "   ├─ AbstractIrrational\n",
      "   │  └─ Irrational\n",
      "   ├─ Integer\n",
      "   │  ├─ Bool\n",
      "   │  ├─ Signed\n",
      "   │  │  ├─ BigInt\n",
      "   │  │  ├─ Int128\n",
      "   │  │  ├─ Int16\n",
      "   │  │  ├─ Int32\n",
      "   │  │  ├─ Int64\n",
      "   │  │  └─ Int8\n",
      "   │  └─ Unsigned\n",
      "   │     ├─ UInt128\n",
      "   │     ├─ UInt16\n",
      "   │     ├─ UInt32\n",
      "   │     ├─ UInt64\n",
      "   │     └─ UInt8\n",
      "   └─ Rational\n"
     ]
    }
   ],
   "source": [
    "print_subtypes(Number)"
   ]
  },
  {
   "cell_type": "code",
   "execution_count": 33,
   "metadata": {},
   "outputs": [
    {
     "name": "stdout",
     "output_type": "stream",
     "text": [
      "AbstractVector{T} where T\n",
      "├─ AbstractRange\n",
      "│  ├─ LinRange\n",
      "│  ├─ OrdinalRange\n",
      "│  │  ├─ AbstractUnitRange\n",
      "│  │  │  ├─ Base.IdentityUnitRange\n",
      "│  │  │  ├─ Base.OneTo\n",
      "│  │  │  ├─ Base.Slice\n",
      "│  │  │  └─ UnitRange\n",
      "│  │  └─ StepRange\n",
      "│  └─ StepRangeLen\n",
      "├─ Base.LogicalIndex\n",
      "├─ Base.ReinterpretArray{T, 1, S, A, IsReshaped} where {T, S, A<:(AbstractArray{S, N} where N), IsReshaped}\n",
      "├─ Base.ReshapedArray{T, 1, P, MI} where {T, P<:AbstractArray, MI<:Tuple{Vararg{Base.MultiplicativeInverses.SignedMultiplicativeInverse{Int64}}}}\n",
      "├─ BitVector\n",
      "├─ CartesianIndices{1, R} where R<:Tuple{OrdinalRange{Int64, Int64}}\n",
      "├─ Core.Compiler.AbstractRange\n",
      "│  ├─ Core.Compiler.LinRange\n",
      "│  ├─ Core.Compiler.OrdinalRange\n",
      "│  │  ├─ Core.Compiler.AbstractUnitRange\n",
      "│  │  │  ├─ Core.Compiler.IdentityUnitRange\n",
      "│  │  │  ├─ Core.Compiler.OneTo\n",
      "│  │  │  ├─ Core.Compiler.Slice\n",
      "│  │  │  ├─ Core.Compiler.StmtRange\n",
      "│  │  │  └─ Core.Compiler.UnitRange\n",
      "│  │  └─ Core.Compiler.StepRange\n",
      "│  └─ Core.Compiler.StepRangeLen\n",
      "├─ Core.Compiler.BitArray{1}\n",
      "├─ Core.Compiler.LinearIndices{1, R} where R<:Tuple{Core.Compiler.AbstractUnitRange{Int64}}\n",
      "├─ DenseVector{T} where T\n",
      "│  ├─ Base.CodeUnits\n",
      "│  ├─ Base.Experimental.Const{T, 1} where T\n",
      "│  ├─ Random.UnsafeView\n",
      "│  ├─ SharedArrays.SharedVector{T} where T\n",
      "│  └─ Vector{T} where T\n",
      "├─ LinearIndices{1, R} where R<:Tuple{AbstractUnitRange{Int64}}\n",
      "├─ PermutedDimsArray{T, 1, perm, iperm, AA} where {T, perm, iperm, AA<:AbstractArray}\n",
      "├─ SparseArrays.AbstractSparseVector{Tv, Ti} where {Tv, Ti}\n",
      "│  └─ SparseArrays.SparseVector\n",
      "├─ SubArray{T, 1, P, I, L} where {T, P, I, L}\n",
      "├─ Test.GenericArray{T, 1} where T\n",
      "└─ ZMQ.Message\n"
     ]
    }
   ],
   "source": [
    "print_subtypes(AbstractVector)"
   ]
  },
  {
   "cell_type": "markdown",
   "metadata": {},
   "source": [
    "### function definition"
   ]
  },
  {
   "cell_type": "code",
   "execution_count": 34,
   "metadata": {},
   "outputs": [
    {
     "name": "stdout",
     "output_type": "stream",
     "text": [
      "(:function, \n",
      "    (:where, \n",
      "        (:call, :f, \n",
      "            (:(::), :x, :T)), \n",
      "        (:<:, :T, :Number)), \n",
      "    (:block, \n",
      "        (:call, :sin, :x)))"
     ]
    }
   ],
   "source": [
    "@show_texpr function f(x::T) where T<:Number\n",
    "    sin(x)\n",
    "end"
   ]
  },
  {
   "cell_type": "code",
   "execution_count": 35,
   "metadata": {},
   "outputs": [
    {
     "name": "stdout",
     "output_type": "stream",
     "text": [
      "Expr(:function)\n",
      "├─ Expr(:where)\n",
      "│  ├─ Expr(:call)\n",
      "│  │  ├─ :f\n",
      "│  │  └─ Expr(:(::))\n",
      "│  │     ├─ :x\n",
      "│  │     └─ :T\n",
      "│  └─ Expr(:<:)\n",
      "│     ├─ :T\n",
      "│     └─ :Number\n",
      "└─ Expr(:block)\n",
      "   └─ Expr(:call)\n",
      "      ├─ :sin\n",
      "      └─ :x\n"
     ]
    }
   ],
   "source": [
    "@show_tree function f(x::T) where T<:Number\n",
    "    sin(x)\n",
    "end"
   ]
  },
  {
   "cell_type": "code",
   "execution_count": 36,
   "metadata": {},
   "outputs": [
    {
     "name": "stdout",
     "output_type": "stream",
     "text": [
      "Expr(:function, \n",
      "    Expr(:where, \n",
      "        Expr(:call, :f, \n",
      "            Expr(:(::), :x, :T)), \n",
      "        Expr(:<:, :T, :Number)), \n",
      "    Expr(:block, \n",
      "        Expr(:call, :sin, :x)))"
     ]
    }
   ],
   "source": [
    "@show_expr function f(x::T) where T<:Number\n",
    "    sin(x)\n",
    "end"
   ]
  },
  {
   "cell_type": "code",
   "execution_count": 37,
   "metadata": {},
   "outputs": [
    {
     "name": "stdout",
     "output_type": "stream",
     "text": [
      "(:function, \n",
      "    (:where, \n",
      "        (:call, :f, \n",
      "            (:(::), :x, :T)), \n",
      "        (:<:, :T, :Number)), \n",
      "    (:block, \n",
      "        (:call, :sin, :x)))"
     ]
    }
   ],
   "source": [
    "@show_texpr function f(x::T) where T<:Number\n",
    "    sin(x)\n",
    "end"
   ]
  },
  {
   "cell_type": "markdown",
   "metadata": {},
   "source": [
    "### macro and LineNumberNode"
   ]
  },
  {
   "cell_type": "code",
   "execution_count": 38,
   "metadata": {},
   "outputs": [
    {
     "name": "stdout",
     "output_type": "stream",
     "text": [
      "Expr(:macrocall)\n",
      "├─ Symbol(\"@show\")\n",
      "├─ :(#= In[38]:1 =#)\n",
      "└─ Expr(:call)\n",
      "   ├─ :float\n",
      "   └─ :π\n"
     ]
    }
   ],
   "source": [
    "@show_tree @show float(π)"
   ]
  },
  {
   "cell_type": "code",
   "execution_count": 39,
   "metadata": {},
   "outputs": [
    {
     "name": "stdout",
     "output_type": "stream",
     "text": [
      "(:macrocall, Symbol(\"@show\"), :(#= In[39]:1 =#), (:call, :float, :π))"
     ]
    }
   ],
   "source": [
    "@show_sexpr @show float(π)"
   ]
  },
  {
   "cell_type": "code",
   "execution_count": 40,
   "metadata": {},
   "outputs": [
    {
     "name": "stdout",
     "output_type": "stream",
     "text": [
      "float(π) = 3.141592653589793\n"
     ]
    },
    {
     "data": {
      "text/plain": [
       "3.141592653589793"
      ]
     },
     "execution_count": 40,
     "metadata": {},
     "output_type": "execute_result"
    }
   ],
   "source": [
    "@teval (:macrocall, Symbol(\"@show\"), :(#= In[34]:1 =#), (:call, :float, :π))"
   ]
  },
  {
   "cell_type": "code",
   "execution_count": 41,
   "metadata": {},
   "outputs": [
    {
     "name": "stdout",
     "output_type": "stream",
     "text": [
      "Expr(:macrocall, Symbol(\"@show\"), LineNumberNode(1, Symbol(\"In[41]\")), \n",
      "    Expr(:call, :float, :π))"
     ]
    }
   ],
   "source": [
    "@show_expr @show float(π)"
   ]
  },
  {
   "cell_type": "code",
   "execution_count": 42,
   "metadata": {},
   "outputs": [
    {
     "name": "stdout",
     "output_type": "stream",
     "text": [
      "Expr(:macrocall, Symbol(\"@show\"), LineNumberNode(1, Symbol(\"In[42]\")), \n",
      "    Expr(:call, :float, :π))"
     ]
    }
   ],
   "source": [
    "Expr(:macrocall, Symbol(\"@show\"), LineNumberNode(@__LINE__, @__FILE__), \n",
    "    Expr(:call, :float, :π)) |> show_expr"
   ]
  },
  {
   "cell_type": "code",
   "execution_count": 43,
   "metadata": {},
   "outputs": [
    {
     "name": "stdout",
     "output_type": "stream",
     "text": [
      "float(π) = 3.141592653589793\n"
     ]
    },
    {
     "data": {
      "text/plain": [
       "3.141592653589793"
      ]
     },
     "execution_count": 43,
     "metadata": {},
     "output_type": "execute_result"
    }
   ],
   "source": [
    "Expr(:macrocall, Symbol(\"@show\"), LineNumberNode(@__LINE__, @__FILE__), \n",
    "    Expr(:call, :float, :π)) |> eval"
   ]
  },
  {
   "cell_type": "code",
   "execution_count": 44,
   "metadata": {},
   "outputs": [
    {
     "name": "stdout",
     "output_type": "stream",
     "text": [
      "(:macrocall, Symbol(\"@show\"), LineNumberNode(1, Symbol(\"In[44]\")), \n",
      "    (:call, :float, :π))"
     ]
    }
   ],
   "source": [
    "@show_texpr @show float(π)"
   ]
  },
  {
   "cell_type": "code",
   "execution_count": 45,
   "metadata": {},
   "outputs": [
    {
     "name": "stdout",
     "output_type": "stream",
     "text": [
      "float(π) = 3.141592653589793\n"
     ]
    },
    {
     "data": {
      "text/plain": [
       "3.141592653589793"
      ]
     },
     "execution_count": 45,
     "metadata": {},
     "output_type": "execute_result"
    }
   ],
   "source": [
    "(:macrocall, Symbol(\"@show\"), LineNumberNode(@__LINE__, @__FILE__), \n",
    "    (:call, :float, :π)) |> teval"
   ]
  },
  {
   "cell_type": "code",
   "execution_count": 46,
   "metadata": {},
   "outputs": [
    {
     "name": "stdout",
     "output_type": "stream",
     "text": [
      "float(π) = 3.141592653589793\n"
     ]
    },
    {
     "data": {
      "text/plain": [
       "3.141592653589793"
      ]
     },
     "execution_count": 46,
     "metadata": {},
     "output_type": "execute_result"
    }
   ],
   "source": [
    "@teval (:macrocall, Symbol(\"@show\"), LineNumberNode(@__LINE__, @__FILE__),  \n",
    "    (:call, :float, :π))"
   ]
  },
  {
   "cell_type": "markdown",
   "metadata": {},
   "source": [
    "### QuoteNode"
   ]
  },
  {
   "cell_type": "code",
   "execution_count": 47,
   "metadata": {},
   "outputs": [
    {
     "data": {
      "text/plain": [
       ":($(QuoteNode(:(sin(x)))))"
      ]
     },
     "execution_count": 47,
     "metadata": {},
     "output_type": "execute_result"
    }
   ],
   "source": [
    "QuoteNode(:(sin(x)))"
   ]
  },
  {
   "cell_type": "code",
   "execution_count": 48,
   "metadata": {},
   "outputs": [
    {
     "name": "stdout",
     "output_type": "stream",
     "text": [
      "(:quote, #QuoteNode\n",
      "  (:call, :sin, :x)\n",
      ")"
     ]
    }
   ],
   "source": [
    "QuoteNode(:(sin(x))) |> Meta.show_sexpr"
   ]
  },
  {
   "cell_type": "code",
   "execution_count": 49,
   "metadata": {},
   "outputs": [
    {
     "name": "stdout",
     "output_type": "stream",
     "text": [
      "QuoteNode(\n",
      "    Expr(:call, :sin, :x))"
     ]
    }
   ],
   "source": [
    "QuoteNode(:(sin(x))) |> show_expr"
   ]
  },
  {
   "cell_type": "code",
   "execution_count": 50,
   "metadata": {},
   "outputs": [
    {
     "name": "stdout",
     "output_type": "stream",
     "text": [
      "QuoteNode(\n",
      "    (:call, :sin, :x))"
     ]
    }
   ],
   "source": [
    "QuoteNode(:(sin(x))) |> show_texpr"
   ]
  },
  {
   "cell_type": "code",
   "execution_count": 51,
   "metadata": {},
   "outputs": [
    {
     "data": {
      "text/plain": [
       "true"
      ]
     },
     "execution_count": 51,
     "metadata": {},
     "output_type": "execute_result"
    }
   ],
   "source": [
    "QuoteNode(\n",
    "    (:call, :sin, :x)) |> texpr2expr == QuoteNode(:(sin(x)))"
   ]
  },
  {
   "cell_type": "code",
   "execution_count": 52,
   "metadata": {},
   "outputs": [
    {
     "data": {
      "text/plain": [
       ":(sin(x))"
      ]
     },
     "execution_count": 52,
     "metadata": {},
     "output_type": "execute_result"
    }
   ],
   "source": [
    "@teval QuoteNode(\n",
    "    (:call, :sin, :x))"
   ]
  },
  {
   "cell_type": "markdown",
   "metadata": {},
   "source": [
    "## Evaluation of Lisp-like tuple expressions\n",
    "\n",
    "If you want more Lisp-like examamples, see [LispLikeEval.ipynb](https://nbviewer.jupyter.org/github/genkuroki/LispLikeEval.jl/blob/master/LispLikeEval.ipynb)."
   ]
  },
  {
   "cell_type": "code",
   "execution_count": 53,
   "metadata": {},
   "outputs": [],
   "source": [
    "using MetaUtils: @t, @T"
   ]
  },
  {
   "cell_type": "code",
   "execution_count": 54,
   "metadata": {},
   "outputs": [
    {
     "name": "stdout",
     "output_type": "stream",
     "text": [
      ":(f(x) = sin(x))\n",
      "→ f\n",
      "\n",
      ":(f(π / 6))\n",
      "→ 0.49999999999999994\n"
     ]
    }
   ],
   "source": [
    "# Define and run a function f(x) = sin(x)\n",
    "\n",
    "@t (:(=), :(f(x)), (:sin, :x))\n",
    "println()\n",
    "@t (:f, (:/, π, 6))"
   ]
  },
  {
   "cell_type": "code",
   "execution_count": 55,
   "metadata": {},
   "outputs": [
    {
     "name": "stdout",
     "output_type": "stream",
     "text": [
      "(:(=), :(f(x)), (:sin, :x))\n",
      "→ (:(=), \n",
      "    (:call, :f, :x), \n",
      "    (:call, :sin, :x))\n",
      "→ :(f(x) = sin(x))\n",
      "→ f\n",
      "\n",
      "(:f, (:/, π, 6))\n",
      "→ (:call, :f, \n",
      "    (:call, :/, π, 6))\n",
      "→ :(f(π / 6))\n",
      "→ 0.49999999999999994\n"
     ]
    }
   ],
   "source": [
    "# Define and run a function f(x) = sin(x)\n",
    "\n",
    "@T (:(=), :(f(x)), (:sin, :x))\n",
    "println()\n",
    "@T (:f, (:/, π, 6))"
   ]
  },
  {
   "cell_type": "code",
   "execution_count": 56,
   "metadata": {},
   "outputs": [
    {
     "name": "stdout",
     "output_type": "stream",
     "text": [
      "quote\n",
      "    function g(x)\n",
      "        sin(x)\n",
      "    end\n",
      "    g(π / 6)\n",
      "end\n",
      "→ 0.49999999999999994\n"
     ]
    }
   ],
   "source": [
    "# Define and run a function g(x) = sin(x)\n",
    "\n",
    "@t (:block,\n",
    "    (:function, :(g(x)), (:sin, :x)),\n",
    "    (:call, :g, (:/, π, 6)))"
   ]
  },
  {
   "cell_type": "code",
   "execution_count": 57,
   "metadata": {},
   "outputs": [
    {
     "name": "stdout",
     "output_type": "stream",
     "text": [
      "(:block, (:function, :(g(x)), (:sin, :x)), (:call, :g, (:/, π, 6)))\n",
      "→ (:block, \n",
      "    (:function, \n",
      "        (:call, :g, :x), \n",
      "        (:call, :sin, :x)), \n",
      "    (:call, :g, \n",
      "        (:call, :/, π, 6)))\n",
      "→ quote\n",
      "    function g(x)\n",
      "        sin(x)\n",
      "    end\n",
      "    g(π / 6)\n",
      "end\n",
      "→ 0.49999999999999994\n"
     ]
    }
   ],
   "source": [
    "# Define and run a function g(x) = sin(x)\n",
    "\n",
    "@T (:block,\n",
    "    (:function, :(g(x)), (:sin, :x)),\n",
    "    (:call, :g, (:/, π, 6)))"
   ]
  },
  {
   "cell_type": "code",
   "execution_count": 58,
   "metadata": {},
   "outputs": [
    {
     "name": "stdout",
     "output_type": "stream",
     "text": [
      "quote\n",
      "    function pi_mc(N)\n",
      "        c = 0\n",
      "        for i = 1:N\n",
      "            c += ifelse(rand() ^ 2 + rand() ^ 2 ≤ 1, 1, 0)\n",
      "        end\n",
      "        (4c) / N\n",
      "    end\n",
      "    pi_mc(10 ^ 8)\n",
      "end\n",
      "→ 3.14164244\n"
     ]
    }
   ],
   "source": [
    "# Calculation of pi by the Monte Carlo method\n",
    "\n",
    "@t (:block, \n",
    "    (:function, :(pi_mc(N)), \n",
    "        (:block, \n",
    "            (:(=), :c, 0), \n",
    "            (:for, (:(=), :i, (:(:), 1, :N)), \n",
    "                (:block, \n",
    "                    (:+=, :c, \n",
    "                        (:call, :ifelse, \n",
    "                            (:≤, (:+, (:^, (:rand,), 2), (:^, (:rand,), 2)), 1), \n",
    "                            1, 0)))), \n",
    "            (:/, (:*, 4, :c), :N))), \n",
    "    (:call, :pi_mc, (:^, 10, 8)))"
   ]
  },
  {
   "cell_type": "code",
   "execution_count": 59,
   "metadata": {},
   "outputs": [
    {
     "name": "stdout",
     "output_type": "stream",
     "text": [
      ":($(Expr(:quote, :(sin(x)))))\n",
      "→ :(sin(x))\n"
     ]
    }
   ],
   "source": [
    "# quote\n",
    "\n",
    "@t (:quote, (:sin, :x))"
   ]
  },
  {
   "cell_type": "code",
   "execution_count": 60,
   "metadata": {},
   "outputs": [
    {
     "name": "stdout",
     "output_type": "stream",
     "text": [
      ":((1, 2, 3))\n",
      "→ (1, 2, 3)\n"
     ]
    }
   ],
   "source": [
    "# tuple\n",
    "\n",
    "@t (:tuple, 1, 2, 3)"
   ]
  },
  {
   "cell_type": "markdown",
   "metadata": {},
   "source": [
    "## Plot example"
   ]
  },
  {
   "cell_type": "code",
   "execution_count": 61,
   "metadata": {},
   "outputs": [
    {
     "data": {
      "image/svg+xml": [
       "<?xml version=\"1.0\" encoding=\"utf-8\"?>\n",
       "<svg xmlns=\"http://www.w3.org/2000/svg\" xmlns:xlink=\"http://www.w3.org/1999/xlink\" width=\"600\" height=\"400\" viewBox=\"0 0 2400 1600\">\n",
       "<defs>\n",
       "  <clipPath id=\"clip060\">\n",
       "    <rect x=\"0\" y=\"0\" width=\"2400\" height=\"1600\"/>\n",
       "  </clipPath>\n",
       "</defs>\n",
       "<path clip-path=\"url(#clip060)\" d=\"\n",
       "M0 1600 L2400 1600 L2400 0 L0 0  Z\n",
       "  \" fill=\"#ffffff\" fill-rule=\"evenodd\" fill-opacity=\"1\"/>\n",
       "<defs>\n",
       "  <clipPath id=\"clip061\">\n",
       "    <rect x=\"480\" y=\"0\" width=\"1681\" height=\"1600\"/>\n",
       "  </clipPath>\n",
       "</defs>\n",
       "<path clip-path=\"url(#clip060)\" d=\"\n",
       "M179.654 1486.45 L2352.76 1486.45 L2352.76 47.2441 L179.654 47.2441  Z\n",
       "  \" fill=\"#ffffff\" fill-rule=\"evenodd\" fill-opacity=\"1\"/>\n",
       "<defs>\n",
       "  <clipPath id=\"clip062\">\n",
       "    <rect x=\"179\" y=\"47\" width=\"2174\" height=\"1440\"/>\n",
       "  </clipPath>\n",
       "</defs>\n",
       "<polyline clip-path=\"url(#clip062)\" style=\"stroke:#000000; stroke-width:2; stroke-opacity:0.1; fill:none\" points=\"\n",
       "  287.356,1486.45 287.356,47.2441 \n",
       "  \"/>\n",
       "<polyline clip-path=\"url(#clip062)\" style=\"stroke:#000000; stroke-width:2; stroke-opacity:0.1; fill:none\" points=\"\n",
       "  613.639,1486.45 613.639,47.2441 \n",
       "  \"/>\n",
       "<polyline clip-path=\"url(#clip062)\" style=\"stroke:#000000; stroke-width:2; stroke-opacity:0.1; fill:none\" points=\"\n",
       "  939.922,1486.45 939.922,47.2441 \n",
       "  \"/>\n",
       "<polyline clip-path=\"url(#clip062)\" style=\"stroke:#000000; stroke-width:2; stroke-opacity:0.1; fill:none\" points=\"\n",
       "  1266.2,1486.45 1266.2,47.2441 \n",
       "  \"/>\n",
       "<polyline clip-path=\"url(#clip062)\" style=\"stroke:#000000; stroke-width:2; stroke-opacity:0.1; fill:none\" points=\"\n",
       "  1592.49,1486.45 1592.49,47.2441 \n",
       "  \"/>\n",
       "<polyline clip-path=\"url(#clip062)\" style=\"stroke:#000000; stroke-width:2; stroke-opacity:0.1; fill:none\" points=\"\n",
       "  1918.77,1486.45 1918.77,47.2441 \n",
       "  \"/>\n",
       "<polyline clip-path=\"url(#clip062)\" style=\"stroke:#000000; stroke-width:2; stroke-opacity:0.1; fill:none\" points=\"\n",
       "  2245.05,1486.45 2245.05,47.2441 \n",
       "  \"/>\n",
       "<polyline clip-path=\"url(#clip060)\" style=\"stroke:#000000; stroke-width:4; stroke-opacity:1; fill:none\" points=\"\n",
       "  179.654,1486.45 2352.76,1486.45 \n",
       "  \"/>\n",
       "<polyline clip-path=\"url(#clip060)\" style=\"stroke:#000000; stroke-width:4; stroke-opacity:1; fill:none\" points=\"\n",
       "  287.356,1486.45 287.356,1469.18 \n",
       "  \"/>\n",
       "<polyline clip-path=\"url(#clip060)\" style=\"stroke:#000000; stroke-width:4; stroke-opacity:1; fill:none\" points=\"\n",
       "  613.639,1486.45 613.639,1469.18 \n",
       "  \"/>\n",
       "<polyline clip-path=\"url(#clip060)\" style=\"stroke:#000000; stroke-width:4; stroke-opacity:1; fill:none\" points=\"\n",
       "  939.922,1486.45 939.922,1469.18 \n",
       "  \"/>\n",
       "<polyline clip-path=\"url(#clip060)\" style=\"stroke:#000000; stroke-width:4; stroke-opacity:1; fill:none\" points=\"\n",
       "  1266.2,1486.45 1266.2,1469.18 \n",
       "  \"/>\n",
       "<polyline clip-path=\"url(#clip060)\" style=\"stroke:#000000; stroke-width:4; stroke-opacity:1; fill:none\" points=\"\n",
       "  1592.49,1486.45 1592.49,1469.18 \n",
       "  \"/>\n",
       "<polyline clip-path=\"url(#clip060)\" style=\"stroke:#000000; stroke-width:4; stroke-opacity:1; fill:none\" points=\"\n",
       "  1918.77,1486.45 1918.77,1469.18 \n",
       "  \"/>\n",
       "<polyline clip-path=\"url(#clip060)\" style=\"stroke:#000000; stroke-width:4; stroke-opacity:1; fill:none\" points=\"\n",
       "  2245.05,1486.45 2245.05,1469.18 \n",
       "  \"/>\n",
       "<path clip-path=\"url(#clip060)\" d=\"M 0 0 M259.335 1530.29 L289.011 1530.29 L289.011 1534.23 L259.335 1534.23 L259.335 1530.29 Z\" fill=\"#000000\" fill-rule=\"evenodd\" fill-opacity=\"1\" /><path clip-path=\"url(#clip060)\" d=\"M 0 0 M308.247 1528.49 Q311.603 1529.2 313.478 1531.47 Q315.377 1533.74 315.377 1537.07 Q315.377 1542.19 311.858 1544.99 Q308.34 1547.79 301.858 1547.79 Q299.682 1547.79 297.367 1547.35 Q295.076 1546.93 292.622 1546.08 L292.622 1541.56 Q294.566 1542.7 296.881 1543.28 Q299.196 1543.86 301.719 1543.86 Q306.117 1543.86 308.409 1542.12 Q310.724 1540.38 310.724 1537.07 Q310.724 1534.02 308.571 1532.31 Q306.441 1530.57 302.622 1530.57 L298.594 1530.57 L298.594 1526.73 L302.807 1526.73 Q306.256 1526.73 308.085 1525.36 Q309.914 1523.97 309.914 1521.38 Q309.914 1518.72 308.015 1517.31 Q306.14 1515.87 302.622 1515.87 Q300.701 1515.87 298.502 1516.29 Q296.303 1516.7 293.664 1517.58 L293.664 1513.42 Q296.326 1512.68 298.64 1512.31 Q300.978 1511.93 303.039 1511.93 Q308.363 1511.93 311.465 1514.37 Q314.566 1516.77 314.566 1520.89 Q314.566 1523.76 312.923 1525.75 Q311.279 1527.72 308.247 1528.49 Z\" fill=\"#000000\" fill-rule=\"evenodd\" fill-opacity=\"1\" /><path clip-path=\"url(#clip060)\" d=\"M 0 0 M586.093 1530.29 L615.768 1530.29 L615.768 1534.23 L586.093 1534.23 L586.093 1530.29 Z\" fill=\"#000000\" fill-rule=\"evenodd\" fill-opacity=\"1\" /><path clip-path=\"url(#clip060)\" d=\"M 0 0 M624.866 1543.18 L641.185 1543.18 L641.185 1547.12 L619.241 1547.12 L619.241 1543.18 Q621.903 1540.43 626.486 1535.8 Q631.092 1531.15 632.273 1529.81 Q634.518 1527.28 635.398 1525.55 Q636.301 1523.79 636.301 1522.1 Q636.301 1519.34 634.356 1517.61 Q632.435 1515.87 629.333 1515.87 Q627.134 1515.87 624.68 1516.63 Q622.25 1517.4 619.472 1518.95 L619.472 1514.23 Q622.296 1513.09 624.75 1512.51 Q627.204 1511.93 629.241 1511.93 Q634.611 1511.93 637.805 1514.62 Q641 1517.31 641 1521.8 Q641 1523.93 640.19 1525.85 Q639.403 1527.74 637.296 1530.34 Q636.717 1531.01 633.616 1534.23 Q630.514 1537.42 624.866 1543.18 Z\" fill=\"#000000\" fill-rule=\"evenodd\" fill-opacity=\"1\" /><path clip-path=\"url(#clip060)\" d=\"M 0 0 M912.19 1530.29 L941.866 1530.29 L941.866 1534.23 L912.19 1534.23 L912.19 1530.29 Z\" fill=\"#000000\" fill-rule=\"evenodd\" fill-opacity=\"1\" /><path clip-path=\"url(#clip060)\" d=\"M 0 0 M947.746 1543.18 L955.385 1543.18 L955.385 1516.82 L947.075 1518.49 L947.075 1514.23 L955.338 1512.56 L960.014 1512.56 L960.014 1543.18 L967.653 1543.18 L967.653 1547.12 L947.746 1547.12 L947.746 1543.18 Z\" fill=\"#000000\" fill-rule=\"evenodd\" fill-opacity=\"1\" /><path clip-path=\"url(#clip060)\" d=\"M 0 0 M1266.2 1515.64 Q1262.59 1515.64 1260.77 1519.2 Q1258.96 1522.75 1258.96 1529.87 Q1258.96 1536.98 1260.77 1540.55 Q1262.59 1544.09 1266.2 1544.09 Q1269.84 1544.09 1271.64 1540.55 Q1273.47 1536.98 1273.47 1529.87 Q1273.47 1522.75 1271.64 1519.2 Q1269.84 1515.64 1266.2 1515.64 M1266.2 1511.93 Q1272.01 1511.93 1275.07 1516.54 Q1278.15 1521.12 1278.15 1529.87 Q1278.15 1538.6 1275.07 1543.21 Q1272.01 1547.79 1266.2 1547.79 Q1260.39 1547.79 1257.32 1543.21 Q1254.26 1538.6 1254.26 1529.87 Q1254.26 1521.12 1257.32 1516.54 Q1260.39 1511.93 1266.2 1511.93 Z\" fill=\"#000000\" fill-rule=\"evenodd\" fill-opacity=\"1\" /><path clip-path=\"url(#clip060)\" d=\"M 0 0 M1582.87 1543.18 L1590.51 1543.18 L1590.51 1516.82 L1582.2 1518.49 L1582.2 1514.23 L1590.46 1512.56 L1595.14 1512.56 L1595.14 1543.18 L1602.78 1543.18 L1602.78 1547.12 L1582.87 1547.12 L1582.87 1543.18 Z\" fill=\"#000000\" fill-rule=\"evenodd\" fill-opacity=\"1\" /><path clip-path=\"url(#clip060)\" d=\"M 0 0 M1913.42 1543.18 L1929.74 1543.18 L1929.74 1547.12 L1907.8 1547.12 L1907.8 1543.18 Q1910.46 1540.43 1915.04 1535.8 Q1919.65 1531.15 1920.83 1529.81 Q1923.08 1527.28 1923.96 1525.55 Q1924.86 1523.79 1924.86 1522.1 Q1924.86 1519.34 1922.91 1517.61 Q1920.99 1515.87 1917.89 1515.87 Q1915.69 1515.87 1913.24 1516.63 Q1910.81 1517.4 1908.03 1518.95 L1908.03 1514.23 Q1910.85 1513.09 1913.31 1512.51 Q1915.76 1511.93 1917.8 1511.93 Q1923.17 1511.93 1926.36 1514.62 Q1929.56 1517.31 1929.56 1521.8 Q1929.56 1523.93 1928.75 1525.85 Q1927.96 1527.74 1925.85 1530.34 Q1925.28 1531.01 1922.17 1534.23 Q1919.07 1537.42 1913.42 1543.18 Z\" fill=\"#000000\" fill-rule=\"evenodd\" fill-opacity=\"1\" /><path clip-path=\"url(#clip060)\" d=\"M 0 0 M2249.3 1528.49 Q2252.66 1529.2 2254.53 1531.47 Q2256.43 1533.74 2256.43 1537.07 Q2256.43 1542.19 2252.91 1544.99 Q2249.39 1547.79 2242.91 1547.79 Q2240.74 1547.79 2238.42 1547.35 Q2236.13 1546.93 2233.68 1546.08 L2233.68 1541.56 Q2235.62 1542.7 2237.94 1543.28 Q2240.25 1543.86 2242.77 1543.86 Q2247.17 1543.86 2249.46 1542.12 Q2251.78 1540.38 2251.78 1537.07 Q2251.78 1534.02 2249.63 1532.31 Q2247.5 1530.57 2243.68 1530.57 L2239.65 1530.57 L2239.65 1526.73 L2243.86 1526.73 Q2247.31 1526.73 2249.14 1525.36 Q2250.97 1523.97 2250.97 1521.38 Q2250.97 1518.72 2249.07 1517.31 Q2247.19 1515.87 2243.68 1515.87 Q2241.76 1515.87 2239.56 1516.29 Q2237.36 1516.7 2234.72 1517.58 L2234.72 1513.42 Q2237.38 1512.68 2239.69 1512.31 Q2242.03 1511.93 2244.09 1511.93 Q2249.42 1511.93 2252.52 1514.37 Q2255.62 1516.77 2255.62 1520.89 Q2255.62 1523.76 2253.98 1525.75 Q2252.33 1527.72 2249.3 1528.49 Z\" fill=\"#000000\" fill-rule=\"evenodd\" fill-opacity=\"1\" /><polyline clip-path=\"url(#clip062)\" style=\"stroke:#000000; stroke-width:2; stroke-opacity:0.1; fill:none\" points=\"\n",
       "  179.654,1337.71 2352.76,1337.71 \n",
       "  \"/>\n",
       "<polyline clip-path=\"url(#clip062)\" style=\"stroke:#000000; stroke-width:2; stroke-opacity:0.1; fill:none\" points=\"\n",
       "  179.654,1066.35 2352.76,1066.35 \n",
       "  \"/>\n",
       "<polyline clip-path=\"url(#clip062)\" style=\"stroke:#000000; stroke-width:2; stroke-opacity:0.1; fill:none\" points=\"\n",
       "  179.654,794.986 2352.76,794.986 \n",
       "  \"/>\n",
       "<polyline clip-path=\"url(#clip062)\" style=\"stroke:#000000; stroke-width:2; stroke-opacity:0.1; fill:none\" points=\"\n",
       "  179.654,523.624 2352.76,523.624 \n",
       "  \"/>\n",
       "<polyline clip-path=\"url(#clip062)\" style=\"stroke:#000000; stroke-width:2; stroke-opacity:0.1; fill:none\" points=\"\n",
       "  179.654,252.262 2352.76,252.262 \n",
       "  \"/>\n",
       "<polyline clip-path=\"url(#clip060)\" style=\"stroke:#000000; stroke-width:4; stroke-opacity:1; fill:none\" points=\"\n",
       "  179.654,1486.45 179.654,47.2441 \n",
       "  \"/>\n",
       "<polyline clip-path=\"url(#clip060)\" style=\"stroke:#000000; stroke-width:4; stroke-opacity:1; fill:none\" points=\"\n",
       "  179.654,1337.71 205.731,1337.71 \n",
       "  \"/>\n",
       "<polyline clip-path=\"url(#clip060)\" style=\"stroke:#000000; stroke-width:4; stroke-opacity:1; fill:none\" points=\"\n",
       "  179.654,1066.35 205.731,1066.35 \n",
       "  \"/>\n",
       "<polyline clip-path=\"url(#clip060)\" style=\"stroke:#000000; stroke-width:4; stroke-opacity:1; fill:none\" points=\"\n",
       "  179.654,794.986 205.731,794.986 \n",
       "  \"/>\n",
       "<polyline clip-path=\"url(#clip060)\" style=\"stroke:#000000; stroke-width:4; stroke-opacity:1; fill:none\" points=\"\n",
       "  179.654,523.624 205.731,523.624 \n",
       "  \"/>\n",
       "<polyline clip-path=\"url(#clip060)\" style=\"stroke:#000000; stroke-width:4; stroke-opacity:1; fill:none\" points=\"\n",
       "  179.654,252.262 205.731,252.262 \n",
       "  \"/>\n",
       "<path clip-path=\"url(#clip060)\" d=\"M 0 0 M51.2236 1338.16 L80.8994 1338.16 L80.8994 1342.1 L51.2236 1342.1 L51.2236 1338.16 Z\" fill=\"#000000\" fill-rule=\"evenodd\" fill-opacity=\"1\" /><path clip-path=\"url(#clip060)\" d=\"M 0 0 M86.779 1351.05 L94.4178 1351.05 L94.4178 1324.69 L86.1077 1326.36 L86.1077 1322.1 L94.3715 1320.43 L99.0474 1320.43 L99.0474 1351.05 L106.686 1351.05 L106.686 1354.99 L86.779 1354.99 L86.779 1351.05 Z\" fill=\"#000000\" fill-rule=\"evenodd\" fill-opacity=\"1\" /><path clip-path=\"url(#clip060)\" d=\"M 0 0 M111.756 1349.11 L116.64 1349.11 L116.64 1354.99 L111.756 1354.99 L111.756 1349.11 Z\" fill=\"#000000\" fill-rule=\"evenodd\" fill-opacity=\"1\" /><path clip-path=\"url(#clip060)\" d=\"M 0 0 M131.709 1323.51 Q128.098 1323.51 126.27 1327.07 Q124.464 1330.61 124.464 1337.74 Q124.464 1344.85 126.27 1348.42 Q128.098 1351.96 131.709 1351.96 Q135.344 1351.96 137.149 1348.42 Q138.978 1344.85 138.978 1337.74 Q138.978 1330.61 137.149 1327.07 Q135.344 1323.51 131.709 1323.51 M131.709 1319.8 Q137.519 1319.8 140.575 1324.41 Q143.654 1328.99 143.654 1337.74 Q143.654 1346.47 140.575 1351.08 Q137.519 1355.66 131.709 1355.66 Q125.899 1355.66 122.82 1351.08 Q119.765 1346.47 119.765 1337.74 Q119.765 1328.99 122.82 1324.41 Q125.899 1319.8 131.709 1319.8 Z\" fill=\"#000000\" fill-rule=\"evenodd\" fill-opacity=\"1\" /><path clip-path=\"url(#clip060)\" d=\"M 0 0 M50.9921 1066.8 L80.6679 1066.8 L80.6679 1070.73 L50.9921 1070.73 L50.9921 1066.8 Z\" fill=\"#000000\" fill-rule=\"evenodd\" fill-opacity=\"1\" /><path clip-path=\"url(#clip060)\" d=\"M 0 0 M95.7373 1052.15 Q92.1262 1052.15 90.2975 1055.71 Q88.4919 1059.25 88.4919 1066.38 Q88.4919 1073.49 90.2975 1077.05 Q92.1262 1080.6 95.7373 1080.6 Q99.3715 1080.6 101.177 1077.05 Q103.006 1073.49 103.006 1066.38 Q103.006 1059.25 101.177 1055.71 Q99.3715 1052.15 95.7373 1052.15 M95.7373 1048.44 Q101.547 1048.44 104.603 1053.05 Q107.682 1057.63 107.682 1066.38 Q107.682 1075.11 104.603 1079.72 Q101.547 1084.3 95.7373 1084.3 Q89.9271 1084.3 86.8484 1079.72 Q83.7929 1075.11 83.7929 1066.38 Q83.7929 1057.63 86.8484 1053.05 Q89.9271 1048.44 95.7373 1048.44 Z\" fill=\"#000000\" fill-rule=\"evenodd\" fill-opacity=\"1\" /><path clip-path=\"url(#clip060)\" d=\"M 0 0 M112.751 1077.75 L117.635 1077.75 L117.635 1083.63 L112.751 1083.63 L112.751 1077.75 Z\" fill=\"#000000\" fill-rule=\"evenodd\" fill-opacity=\"1\" /><path clip-path=\"url(#clip060)\" d=\"M 0 0 M122.751 1049.07 L141.107 1049.07 L141.107 1053 L127.033 1053 L127.033 1061.47 Q128.052 1061.13 129.07 1060.97 Q130.089 1060.78 131.107 1060.78 Q136.894 1060.78 140.274 1063.95 Q143.654 1067.12 143.654 1072.54 Q143.654 1078.12 140.181 1081.22 Q136.709 1084.3 130.39 1084.3 Q128.214 1084.3 125.945 1083.93 Q123.7 1083.56 121.293 1082.82 L121.293 1078.12 Q123.376 1079.25 125.598 1079.81 Q127.82 1080.36 130.297 1080.36 Q134.302 1080.36 136.64 1078.26 Q138.978 1076.15 138.978 1072.54 Q138.978 1068.93 136.64 1066.82 Q134.302 1064.72 130.297 1064.72 Q128.422 1064.72 126.547 1065.13 Q124.695 1065.55 122.751 1066.43 L122.751 1049.07 Z\" fill=\"#000000\" fill-rule=\"evenodd\" fill-opacity=\"1\" /><path clip-path=\"url(#clip060)\" d=\"M 0 0 M94.7419 780.784 Q91.1308 780.784 89.3021 784.349 Q87.4966 787.891 87.4966 795.02 Q87.4966 802.127 89.3021 805.691 Q91.1308 809.233 94.7419 809.233 Q98.3761 809.233 100.182 805.691 Q102.01 802.127 102.01 795.02 Q102.01 787.891 100.182 784.349 Q98.3761 780.784 94.7419 780.784 M94.7419 777.081 Q100.552 777.081 103.608 781.687 Q106.686 786.27 106.686 795.02 Q106.686 803.747 103.608 808.354 Q100.552 812.937 94.7419 812.937 Q88.9317 812.937 85.8531 808.354 Q82.7975 803.747 82.7975 795.02 Q82.7975 786.27 85.8531 781.687 Q88.9317 777.081 94.7419 777.081 Z\" fill=\"#000000\" fill-rule=\"evenodd\" fill-opacity=\"1\" /><path clip-path=\"url(#clip060)\" d=\"M 0 0 M111.756 806.386 L116.64 806.386 L116.64 812.266 L111.756 812.266 L111.756 806.386 Z\" fill=\"#000000\" fill-rule=\"evenodd\" fill-opacity=\"1\" /><path clip-path=\"url(#clip060)\" d=\"M 0 0 M131.709 780.784 Q128.098 780.784 126.27 784.349 Q124.464 787.891 124.464 795.02 Q124.464 802.127 126.27 805.691 Q128.098 809.233 131.709 809.233 Q135.344 809.233 137.149 805.691 Q138.978 802.127 138.978 795.02 Q138.978 787.891 137.149 784.349 Q135.344 780.784 131.709 780.784 M131.709 777.081 Q137.519 777.081 140.575 781.687 Q143.654 786.27 143.654 795.02 Q143.654 803.747 140.575 808.354 Q137.519 812.937 131.709 812.937 Q125.899 812.937 122.82 808.354 Q119.765 803.747 119.765 795.02 Q119.765 786.27 122.82 781.687 Q125.899 777.081 131.709 777.081 Z\" fill=\"#000000\" fill-rule=\"evenodd\" fill-opacity=\"1\" /><path clip-path=\"url(#clip060)\" d=\"M 0 0 M95.7373 509.422 Q92.1262 509.422 90.2975 512.987 Q88.4919 516.529 88.4919 523.658 Q88.4919 530.765 90.2975 534.33 Q92.1262 537.871 95.7373 537.871 Q99.3715 537.871 101.177 534.33 Q103.006 530.765 103.006 523.658 Q103.006 516.529 101.177 512.987 Q99.3715 509.422 95.7373 509.422 M95.7373 505.719 Q101.547 505.719 104.603 510.325 Q107.682 514.908 107.682 523.658 Q107.682 532.385 104.603 536.992 Q101.547 541.575 95.7373 541.575 Q89.9271 541.575 86.8484 536.992 Q83.7929 532.385 83.7929 523.658 Q83.7929 514.908 86.8484 510.325 Q89.9271 505.719 95.7373 505.719 Z\" fill=\"#000000\" fill-rule=\"evenodd\" fill-opacity=\"1\" /><path clip-path=\"url(#clip060)\" d=\"M 0 0 M112.751 535.024 L117.635 535.024 L117.635 540.904 L112.751 540.904 L112.751 535.024 Z\" fill=\"#000000\" fill-rule=\"evenodd\" fill-opacity=\"1\" /><path clip-path=\"url(#clip060)\" d=\"M 0 0 M122.751 506.344 L141.107 506.344 L141.107 510.279 L127.033 510.279 L127.033 518.751 Q128.052 518.404 129.07 518.242 Q130.089 518.056 131.107 518.056 Q136.894 518.056 140.274 521.228 Q143.654 524.399 143.654 529.816 Q143.654 535.394 140.181 538.496 Q136.709 541.575 130.39 541.575 Q128.214 541.575 125.945 541.205 Q123.7 540.834 121.293 540.093 L121.293 535.394 Q123.376 536.529 125.598 537.084 Q127.82 537.64 130.297 537.64 Q134.302 537.64 136.64 535.533 Q138.978 533.427 138.978 529.816 Q138.978 526.205 136.64 524.098 Q134.302 521.992 130.297 521.992 Q128.422 521.992 126.547 522.408 Q124.695 522.825 122.751 523.705 L122.751 506.344 Z\" fill=\"#000000\" fill-rule=\"evenodd\" fill-opacity=\"1\" /><path clip-path=\"url(#clip060)\" d=\"M 0 0 M86.779 265.606 L94.4178 265.606 L94.4178 239.241 L86.1077 240.908 L86.1077 236.648 L94.3715 234.982 L99.0474 234.982 L99.0474 265.606 L106.686 265.606 L106.686 269.542 L86.779 269.542 L86.779 265.606 Z\" fill=\"#000000\" fill-rule=\"evenodd\" fill-opacity=\"1\" /><path clip-path=\"url(#clip060)\" d=\"M 0 0 M111.756 263.662 L116.64 263.662 L116.64 269.542 L111.756 269.542 L111.756 263.662 Z\" fill=\"#000000\" fill-rule=\"evenodd\" fill-opacity=\"1\" /><path clip-path=\"url(#clip060)\" d=\"M 0 0 M131.709 238.06 Q128.098 238.06 126.27 241.625 Q124.464 245.167 124.464 252.296 Q124.464 259.403 126.27 262.968 Q128.098 266.509 131.709 266.509 Q135.344 266.509 137.149 262.968 Q138.978 259.403 138.978 252.296 Q138.978 245.167 137.149 241.625 Q135.344 238.06 131.709 238.06 M131.709 234.357 Q137.519 234.357 140.575 238.963 Q143.654 243.546 143.654 252.296 Q143.654 261.023 140.575 265.63 Q137.519 270.213 131.709 270.213 Q125.899 270.213 122.82 265.63 Q119.765 261.023 119.765 252.296 Q119.765 243.546 122.82 238.963 Q125.899 234.357 131.709 234.357 Z\" fill=\"#000000\" fill-rule=\"evenodd\" fill-opacity=\"1\" /><circle clip-path=\"url(#clip062)\" cx=\"241.157\" cy=\"739.9\" r=\"14\" fill=\"#009af9\" fill-rule=\"evenodd\" fill-opacity=\"1\" stroke=\"#000000\" stroke-opacity=\"1\" stroke-width=\"3.2\"/>\n",
       "<circle clip-path=\"url(#clip062)\" cx=\"349.056\" cy=\"1152.87\" r=\"14\" fill=\"#009af9\" fill-rule=\"evenodd\" fill-opacity=\"1\" stroke=\"#000000\" stroke-opacity=\"1\" stroke-width=\"3.2\"/>\n",
       "<circle clip-path=\"url(#clip062)\" cx=\"456.956\" cy=\"1138.87\" r=\"14\" fill=\"#009af9\" fill-rule=\"evenodd\" fill-opacity=\"1\" stroke=\"#000000\" stroke-opacity=\"1\" stroke-width=\"3.2\"/>\n",
       "<circle clip-path=\"url(#clip062)\" cx=\"564.856\" cy=\"1153.83\" r=\"14\" fill=\"#009af9\" fill-rule=\"evenodd\" fill-opacity=\"1\" stroke=\"#000000\" stroke-opacity=\"1\" stroke-width=\"3.2\"/>\n",
       "<circle clip-path=\"url(#clip062)\" cx=\"672.756\" cy=\"1153.14\" r=\"14\" fill=\"#009af9\" fill-rule=\"evenodd\" fill-opacity=\"1\" stroke=\"#000000\" stroke-opacity=\"1\" stroke-width=\"3.2\"/>\n",
       "<circle clip-path=\"url(#clip062)\" cx=\"780.656\" cy=\"1275.79\" r=\"14\" fill=\"#009af9\" fill-rule=\"evenodd\" fill-opacity=\"1\" stroke=\"#000000\" stroke-opacity=\"1\" stroke-width=\"3.2\"/>\n",
       "<circle clip-path=\"url(#clip062)\" cx=\"888.555\" cy=\"1445.72\" r=\"14\" fill=\"#009af9\" fill-rule=\"evenodd\" fill-opacity=\"1\" stroke=\"#000000\" stroke-opacity=\"1\" stroke-width=\"3.2\"/>\n",
       "<circle clip-path=\"url(#clip062)\" cx=\"996.455\" cy=\"1168.81\" r=\"14\" fill=\"#009af9\" fill-rule=\"evenodd\" fill-opacity=\"1\" stroke=\"#000000\" stroke-opacity=\"1\" stroke-width=\"3.2\"/>\n",
       "<circle clip-path=\"url(#clip062)\" cx=\"1104.36\" cy=\"925.772\" r=\"14\" fill=\"#009af9\" fill-rule=\"evenodd\" fill-opacity=\"1\" stroke=\"#000000\" stroke-opacity=\"1\" stroke-width=\"3.2\"/>\n",
       "<circle clip-path=\"url(#clip062)\" cx=\"1212.25\" cy=\"856.176\" r=\"14\" fill=\"#009af9\" fill-rule=\"evenodd\" fill-opacity=\"1\" stroke=\"#000000\" stroke-opacity=\"1\" stroke-width=\"3.2\"/>\n",
       "<circle clip-path=\"url(#clip062)\" cx=\"1320.15\" cy=\"644.383\" r=\"14\" fill=\"#009af9\" fill-rule=\"evenodd\" fill-opacity=\"1\" stroke=\"#000000\" stroke-opacity=\"1\" stroke-width=\"3.2\"/>\n",
       "<circle clip-path=\"url(#clip062)\" cx=\"1428.05\" cy=\"424.985\" r=\"14\" fill=\"#009af9\" fill-rule=\"evenodd\" fill-opacity=\"1\" stroke=\"#000000\" stroke-opacity=\"1\" stroke-width=\"3.2\"/>\n",
       "<circle clip-path=\"url(#clip062)\" cx=\"1535.95\" cy=\"502.402\" r=\"14\" fill=\"#009af9\" fill-rule=\"evenodd\" fill-opacity=\"1\" stroke=\"#000000\" stroke-opacity=\"1\" stroke-width=\"3.2\"/>\n",
       "<circle clip-path=\"url(#clip062)\" cx=\"1643.85\" cy=\"87.9763\" r=\"14\" fill=\"#009af9\" fill-rule=\"evenodd\" fill-opacity=\"1\" stroke=\"#000000\" stroke-opacity=\"1\" stroke-width=\"3.2\"/>\n",
       "<circle clip-path=\"url(#clip062)\" cx=\"1751.75\" cy=\"285.219\" r=\"14\" fill=\"#009af9\" fill-rule=\"evenodd\" fill-opacity=\"1\" stroke=\"#000000\" stroke-opacity=\"1\" stroke-width=\"3.2\"/>\n",
       "<circle clip-path=\"url(#clip062)\" cx=\"1859.65\" cy=\"144.107\" r=\"14\" fill=\"#009af9\" fill-rule=\"evenodd\" fill-opacity=\"1\" stroke=\"#000000\" stroke-opacity=\"1\" stroke-width=\"3.2\"/>\n",
       "<circle clip-path=\"url(#clip062)\" cx=\"1967.55\" cy=\"512.507\" r=\"14\" fill=\"#009af9\" fill-rule=\"evenodd\" fill-opacity=\"1\" stroke=\"#000000\" stroke-opacity=\"1\" stroke-width=\"3.2\"/>\n",
       "<circle clip-path=\"url(#clip062)\" cx=\"2075.45\" cy=\"363.547\" r=\"14\" fill=\"#009af9\" fill-rule=\"evenodd\" fill-opacity=\"1\" stroke=\"#000000\" stroke-opacity=\"1\" stroke-width=\"3.2\"/>\n",
       "<circle clip-path=\"url(#clip062)\" cx=\"2183.35\" cy=\"880.418\" r=\"14\" fill=\"#009af9\" fill-rule=\"evenodd\" fill-opacity=\"1\" stroke=\"#000000\" stroke-opacity=\"1\" stroke-width=\"3.2\"/>\n",
       "<circle clip-path=\"url(#clip062)\" cx=\"2291.25\" cy=\"843.13\" r=\"14\" fill=\"#009af9\" fill-rule=\"evenodd\" fill-opacity=\"1\" stroke=\"#000000\" stroke-opacity=\"1\" stroke-width=\"3.2\"/>\n",
       "<polyline clip-path=\"url(#clip062)\" style=\"stroke:#0000ff; stroke-width:4; stroke-opacity:1; fill:none\" stroke-dasharray=\"16, 10\" points=\"\n",
       "  241.157,794.986 246.295,803.532 251.433,812.076 256.571,820.615 261.709,829.149 266.847,837.674 271.985,846.188 277.123,854.69 282.261,863.176 287.399,871.646 \n",
       "  292.537,880.097 297.676,888.527 302.814,896.934 307.952,905.315 313.09,913.669 318.228,921.994 323.366,930.287 328.504,938.546 333.642,946.77 338.78,954.956 \n",
       "  343.918,963.103 349.056,971.208 354.194,979.269 359.333,987.284 364.471,995.252 369.609,1003.17 374.747,1011.04 379.885,1018.85 385.023,1026.61 390.161,1034.31 \n",
       "  395.299,1041.95 400.437,1049.53 405.575,1057.04 410.713,1064.5 415.851,1071.88 420.99,1079.2 426.128,1086.44 431.266,1093.61 436.404,1100.71 441.542,1107.74 \n",
       "  446.68,1114.68 451.818,1121.55 456.956,1128.33 462.094,1135.04 467.232,1141.65 472.37,1148.19 477.509,1154.63 482.647,1160.99 487.785,1167.25 492.923,1173.43 \n",
       "  498.061,1179.5 503.199,1185.49 508.337,1191.37 513.475,1197.16 518.613,1202.85 523.751,1208.44 528.889,1213.92 534.027,1219.3 539.166,1224.58 544.304,1229.75 \n",
       "  549.442,1234.81 554.58,1239.76 559.718,1244.61 564.856,1249.34 569.994,1253.95 575.132,1258.46 580.27,1262.85 585.408,1267.12 590.546,1271.28 595.685,1275.31 \n",
       "  600.823,1279.23 605.961,1283.03 611.099,1286.71 616.237,1290.27 621.375,1293.7 626.513,1297.01 631.651,1300.19 636.789,1303.25 641.927,1306.19 647.065,1308.99 \n",
       "  652.203,1311.67 657.342,1314.22 662.48,1316.65 667.618,1318.94 672.756,1321.1 677.894,1323.13 683.032,1325.04 688.17,1326.81 693.308,1328.45 698.446,1329.95 \n",
       "  703.584,1331.33 708.722,1332.57 713.861,1333.67 718.999,1334.65 724.137,1335.49 729.275,1336.19 734.413,1336.76 739.551,1337.2 744.689,1337.5 749.827,1337.67 \n",
       "  754.965,1337.71 760.103,1337.6 765.241,1337.37 770.379,1337 775.518,1336.49 780.656,1335.86 785.794,1335.08 790.932,1334.18 796.07,1333.14 801.208,1331.96 \n",
       "  806.346,1330.65 811.484,1329.22 816.622,1327.64 821.76,1325.94 826.898,1324.1 832.036,1322.13 837.175,1320.04 842.313,1317.81 847.451,1315.45 852.589,1312.96 \n",
       "  857.727,1310.35 862.865,1307.61 868.003,1304.74 873.141,1301.74 878.279,1298.62 883.417,1295.37 888.555,1292 893.694,1288.5 898.832,1284.89 903.97,1281.15 \n",
       "  909.108,1277.29 914.246,1273.31 919.384,1269.21 924.522,1265 929.66,1260.67 934.798,1256.22 939.936,1251.66 945.074,1246.98 950.212,1242.2 955.351,1237.3 \n",
       "  960.489,1232.29 965.627,1227.18 970.765,1221.96 975.903,1216.63 981.041,1211.19 986.179,1205.66 991.317,1200.02 996.455,1194.28 1001.59,1188.44 1006.73,1182.51 \n",
       "  1011.87,1176.48 1017.01,1170.35 1022.15,1164.13 1027.28,1157.82 1032.42,1151.42 1037.56,1144.93 1042.7,1138.36 1047.84,1131.7 1052.97,1124.95 1058.11,1118.12 \n",
       "  1063.25,1111.22 1068.39,1104.23 1073.53,1097.17 1078.66,1090.04 1083.8,1082.83 1088.94,1075.55 1094.08,1068.2 1099.22,1060.78 1104.36,1053.29 1109.49,1045.75 \n",
       "  1114.63,1038.14 1119.77,1030.46 1124.91,1022.74 1130.05,1014.95 1135.18,1007.11 1140.32,999.218 1145.46,991.274 1150.6,983.282 1155.74,975.244 1160.87,967.161 \n",
       "  1166.01,959.035 1171.15,950.868 1176.29,942.663 1181.43,934.421 1186.56,926.144 1191.7,917.835 1196.84,909.496 1201.98,901.128 1207.12,892.733 1212.25,884.315 \n",
       "  1217.39,875.874 1222.53,867.414 1227.67,858.935 1232.81,850.441 1237.95,841.932 1243.08,833.412 1248.22,824.883 1253.36,816.346 1258.5,807.804 1263.64,799.259 \n",
       "  1268.77,790.712 1273.91,782.167 1279.05,773.625 1284.19,765.088 1289.33,756.559 1294.46,748.039 1299.6,739.531 1304.74,731.036 1309.88,722.557 1315.02,714.097 \n",
       "  1320.15,705.656 1325.29,697.238 1330.43,688.843 1335.57,680.476 1340.71,672.136 1345.85,663.827 1350.98,655.55 1356.12,647.308 1361.26,639.103 1366.4,630.936 \n",
       "  1371.54,622.81 1376.67,614.727 1381.81,606.689 1386.95,598.697 1392.09,590.753 1397.23,582.861 1402.36,575.021 1407.5,567.235 1412.64,559.506 1417.78,551.836 \n",
       "  1422.92,544.226 1428.05,536.678 1433.19,529.193 1438.33,521.775 1443.47,514.425 1448.61,507.144 1453.74,499.935 1458.88,492.798 1464.02,485.737 1469.16,478.752 \n",
       "  1474.3,471.846 1479.44,465.02 1484.57,458.276 1489.71,451.615 1494.85,445.039 1499.99,438.551 1505.13,432.15 1510.26,425.84 1515.4,419.621 1520.54,413.495 \n",
       "  1525.68,407.463 1530.82,401.528 1535.95,395.691 1541.09,389.952 1546.23,384.314 1551.37,378.777 1556.51,373.344 1561.64,368.016 1566.78,362.793 1571.92,357.678 \n",
       "  1577.06,352.67 1582.2,347.773 1587.34,342.987 1592.47,338.312 1597.61,333.751 1602.75,329.304 1607.89,324.973 1613.03,320.758 1618.16,316.661 1623.3,312.682 \n",
       "  1628.44,308.823 1633.58,305.085 1638.72,301.468 1643.85,297.973 1648.99,294.602 1654.13,291.355 1659.27,288.233 1664.41,285.236 1669.54,282.366 1674.68,279.623 \n",
       "  1679.82,277.007 1684.96,274.52 1690.1,272.162 1695.23,269.934 1700.37,267.836 1705.51,265.869 1710.65,264.033 1715.79,262.328 1720.93,260.756 1726.06,259.316 \n",
       "  1731.2,258.009 1736.34,256.835 1741.48,255.795 1746.62,254.888 1751.75,254.115 1756.89,253.477 1762.03,252.972 1767.17,252.602 1772.31,252.367 1777.44,252.266 \n",
       "  1782.58,252.3 1787.72,252.468 1792.86,252.77 1798,253.208 1803.13,253.779 1808.27,254.485 1813.41,255.325 1818.55,256.298 1823.69,257.406 1828.83,258.646 \n",
       "  1833.96,260.02 1839.1,261.526 1844.24,263.164 1849.38,264.934 1854.52,266.836 1859.65,268.869 1864.79,271.032 1869.93,273.325 1875.07,275.748 1880.21,278.299 \n",
       "  1885.34,280.978 1890.48,283.785 1895.62,286.719 1900.76,289.778 1905.9,292.963 1911.03,296.272 1916.17,299.705 1921.31,303.261 1926.45,306.939 1931.59,310.738 \n",
       "  1936.73,314.657 1941.86,318.695 1947,322.851 1952.14,327.124 1957.28,331.513 1962.42,336.017 1967.55,340.635 1972.69,345.366 1977.83,350.208 1982.97,355.16 \n",
       "  1988.11,360.222 1993.24,365.391 1998.38,370.667 2003.52,376.048 2008.66,381.533 2013.8,387.12 2018.93,392.809 2024.07,398.597 2029.21,404.484 2034.35,410.467 \n",
       "  2039.49,416.546 2044.62,422.719 2049.76,428.983 2054.9,435.339 2060.04,441.784 2065.18,448.316 2070.32,454.935 2075.45,461.638 2080.59,468.423 2085.73,475.289 \n",
       "  2090.87,482.235 2096.01,489.258 2101.14,496.357 2106.28,503.53 2111.42,510.776 2116.56,518.092 2121.7,525.476 2126.83,532.927 2131.97,540.444 2137.11,548.023 \n",
       "  2142.25,555.664 2147.39,563.364 2152.52,571.121 2157.66,578.934 2162.8,586.801 2167.94,594.719 2173.08,602.687 2178.22,610.702 2183.35,618.763 2188.49,626.868 \n",
       "  2193.63,635.015 2198.77,643.201 2203.91,651.425 2209.04,659.685 2214.18,667.978 2219.32,676.302 2224.46,684.656 2229.6,693.037 2234.73,701.444 2239.87,709.874 \n",
       "  2245.01,718.325 2250.15,726.795 2255.29,735.281 2260.42,743.783 2265.56,752.297 2270.7,760.822 2275.84,769.356 2280.98,777.895 2286.11,786.439 2291.25,794.986 \n",
       "  \n",
       "  \"/>\n",
       "<polyline clip-path=\"url(#clip062)\" style=\"stroke:#ff0000; stroke-width:8; stroke-opacity:1; fill:none\" points=\"\n",
       "  241.157,754.48 246.295,769.093 251.433,783.48 256.571,797.644 261.709,811.584 266.847,825.303 271.985,838.802 277.123,852.081 282.261,865.143 287.399,877.987 \n",
       "  292.537,890.616 297.676,903.03 302.814,915.231 307.952,927.219 313.09,938.996 318.228,950.564 323.366,961.923 328.504,973.074 333.642,984.019 338.78,994.758 \n",
       "  343.918,1005.29 349.056,1015.63 354.194,1025.76 359.333,1035.69 364.471,1045.42 369.609,1054.95 374.747,1064.29 379.885,1073.43 385.023,1082.37 390.161,1091.12 \n",
       "  395.299,1099.68 400.437,1108.05 405.575,1116.23 410.713,1124.22 415.851,1132.02 420.99,1139.63 426.128,1147.06 431.266,1154.31 436.404,1161.37 441.542,1168.25 \n",
       "  446.68,1174.95 451.818,1181.47 456.956,1187.81 462.094,1193.98 467.232,1199.96 472.37,1205.78 477.509,1211.42 482.647,1216.89 487.785,1222.18 492.923,1227.31 \n",
       "  498.061,1232.26 503.199,1237.05 508.337,1241.68 513.475,1246.13 518.613,1250.42 523.751,1254.55 528.889,1258.52 534.027,1262.33 539.166,1265.97 544.304,1269.46 \n",
       "  549.442,1272.79 554.58,1275.97 559.718,1278.99 564.856,1281.85 569.994,1284.57 575.132,1287.13 580.27,1289.54 585.408,1291.8 590.546,1293.92 595.685,1295.88 \n",
       "  600.823,1297.7 605.961,1299.38 611.099,1300.92 616.237,1302.31 621.375,1303.56 626.513,1304.67 631.651,1305.64 636.789,1306.48 641.927,1307.17 647.065,1307.74 \n",
       "  652.203,1308.17 657.342,1308.46 662.48,1308.63 667.618,1308.66 672.756,1308.57 677.894,1308.34 683.032,1307.99 688.17,1307.52 693.308,1306.92 698.446,1306.19 \n",
       "  703.584,1305.35 708.722,1304.38 713.861,1303.29 718.999,1302.09 724.137,1300.76 729.275,1299.32 734.413,1297.77 739.551,1296.1 744.689,1294.31 749.827,1292.42 \n",
       "  754.965,1290.42 760.103,1288.3 765.241,1286.08 770.379,1283.75 775.518,1281.31 780.656,1278.77 785.794,1276.13 790.932,1273.38 796.07,1270.53 801.208,1267.58 \n",
       "  806.346,1264.54 811.484,1261.39 816.622,1258.15 821.76,1254.81 826.898,1251.38 832.036,1247.86 837.175,1244.24 842.313,1240.54 847.451,1236.74 852.589,1232.85 \n",
       "  857.727,1228.88 862.865,1224.82 868.003,1220.68 873.141,1216.45 878.279,1212.14 883.417,1207.75 888.555,1203.28 893.694,1198.73 898.832,1194.1 903.97,1189.4 \n",
       "  909.108,1184.62 914.246,1179.76 919.384,1174.83 924.522,1169.83 929.66,1164.76 934.798,1159.62 939.936,1154.41 945.074,1149.14 950.212,1143.79 955.351,1138.38 \n",
       "  960.489,1132.91 965.627,1127.38 970.765,1121.78 975.903,1116.12 981.041,1110.41 986.179,1104.63 991.317,1098.8 996.455,1092.92 1001.59,1086.97 1006.73,1080.98 \n",
       "  1011.87,1074.93 1017.01,1068.84 1022.15,1062.69 1027.28,1056.49 1032.42,1050.25 1037.56,1043.96 1042.7,1037.62 1047.84,1031.24 1052.97,1024.82 1058.11,1018.35 \n",
       "  1063.25,1011.85 1068.39,1005.3 1073.53,998.722 1078.66,992.102 1083.8,985.447 1088.94,978.757 1094.08,972.033 1099.22,965.277 1104.36,958.49 1109.49,951.673 \n",
       "  1114.63,944.827 1119.77,937.953 1124.91,931.053 1130.05,924.127 1135.18,917.177 1140.32,910.204 1145.46,903.21 1150.6,896.194 1155.74,889.159 1160.87,882.106 \n",
       "  1166.01,875.035 1171.15,867.949 1176.29,860.848 1181.43,853.733 1186.56,846.605 1191.7,839.466 1196.84,832.317 1201.98,825.159 1207.12,817.993 1212.25,810.821 \n",
       "  1217.39,803.643 1222.53,796.46 1227.67,789.275 1232.81,782.087 1237.95,774.899 1243.08,767.711 1248.22,760.524 1253.36,753.341 1258.5,746.161 1263.64,738.986 \n",
       "  1268.77,731.817 1273.91,724.655 1279.05,717.502 1284.19,710.359 1289.33,703.227 1294.46,696.106 1299.6,688.999 1304.74,681.906 1309.88,674.829 1315.02,667.768 \n",
       "  1320.15,660.725 1325.29,653.702 1330.43,646.698 1335.57,639.716 1340.71,632.756 1345.85,625.82 1350.98,618.909 1356.12,612.024 1361.26,605.166 1366.4,598.336 \n",
       "  1371.54,591.536 1376.67,584.767 1381.81,578.03 1386.95,571.325 1392.09,564.655 1397.23,558.021 1402.36,551.422 1407.5,544.862 1412.64,538.34 1417.78,531.859 \n",
       "  1422.92,525.418 1428.05,519.02 1433.19,512.666 1438.33,506.356 1443.47,500.092 1448.61,493.876 1453.74,487.707 1458.88,481.588 1464.02,475.519 1469.16,469.503 \n",
       "  1474.3,463.539 1479.44,457.629 1484.57,451.774 1489.71,445.976 1494.85,440.235 1499.99,434.553 1505.13,428.931 1510.26,423.37 1515.4,417.872 1520.54,412.436 \n",
       "  1525.68,407.066 1530.82,401.761 1535.95,396.523 1541.09,391.353 1546.23,386.252 1551.37,381.221 1556.51,376.263 1561.64,371.377 1566.78,366.565 1571.92,361.828 \n",
       "  1577.06,357.167 1582.2,352.584 1587.34,348.079 1592.47,343.654 1597.61,339.31 1602.75,335.048 1607.89,330.87 1613.03,326.775 1618.16,322.767 1623.3,318.845 \n",
       "  1628.44,315.011 1633.58,311.266 1638.72,307.612 1643.85,304.049 1648.99,300.578 1654.13,297.202 1659.27,293.92 1664.41,290.734 1669.54,287.646 1674.68,284.656 \n",
       "  1679.82,281.766 1684.96,278.976 1690.1,276.289 1695.23,273.704 1700.37,271.224 1705.51,268.85 1710.65,266.582 1715.79,264.421 1720.93,262.37 1726.06,260.429 \n",
       "  1731.2,258.599 1736.34,256.882 1741.48,255.278 1746.62,253.789 1751.75,252.416 1756.89,251.16 1762.03,250.023 1767.17,249.005 1772.31,248.107 1777.44,247.332 \n",
       "  1782.58,246.679 1787.72,246.15 1792.86,245.747 1798,245.471 1803.13,245.322 1808.27,245.301 1813.41,245.411 1818.55,245.652 1823.69,246.025 1828.83,246.532 \n",
       "  1833.96,247.173 1839.1,247.95 1844.24,248.865 1849.38,249.917 1854.52,251.109 1859.65,252.441 1864.79,253.915 1869.93,255.531 1875.07,257.292 1880.21,259.198 \n",
       "  1885.34,261.25 1890.48,263.45 1895.62,265.798 1900.76,268.296 1905.9,270.946 1911.03,273.747 1916.17,276.702 1921.31,279.811 1926.45,283.076 1931.59,286.498 \n",
       "  1936.73,290.078 1941.86,293.817 1947,297.716 1952.14,301.777 1957.28,306 1962.42,310.388 1967.55,314.94 1972.69,319.659 1977.83,324.545 1982.97,329.599 \n",
       "  1988.11,334.824 1993.24,340.219 1998.38,345.786 2003.52,351.526 2008.66,357.441 2013.8,363.531 2018.93,369.798 2024.07,376.243 2029.21,382.867 2034.35,389.671 \n",
       "  2039.49,396.656 2044.62,403.824 2049.76,411.176 2054.9,418.712 2060.04,426.435 2065.18,434.345 2070.32,442.443 2075.45,450.731 2080.59,459.209 2085.73,467.88 \n",
       "  2090.87,476.743 2096.01,485.801 2101.14,495.054 2106.28,504.504 2111.42,514.151 2116.56,523.997 2121.7,534.043 2126.83,544.291 2131.97,554.741 2137.11,565.395 \n",
       "  2142.25,576.253 2147.39,587.317 2152.52,598.588 2157.66,610.068 2162.8,621.757 2167.94,633.656 2173.08,645.767 2178.22,658.091 2183.35,670.63 2188.49,683.383 \n",
       "  2193.63,696.353 2198.77,709.54 2203.91,722.947 2209.04,736.573 2214.18,750.42 2219.32,764.489 2224.46,778.782 2229.6,793.3 2234.73,808.043 2239.87,823.013 \n",
       "  2245.01,838.211 2250.15,853.639 2255.29,869.297 2260.42,885.187 2265.56,901.309 2270.7,917.665 2275.84,934.257 2280.98,951.084 2286.11,968.149 2291.25,985.453 \n",
       "  \n",
       "  \"/>\n",
       "<path clip-path=\"url(#clip060)\" d=\"\n",
       "M252.09 337.138 L923.174 337.138 L923.174 95.2176 L252.09 95.2176  Z\n",
       "  \" fill=\"#ffffff\" fill-rule=\"evenodd\" fill-opacity=\"1\"/>\n",
       "<polyline clip-path=\"url(#clip060)\" style=\"stroke:#000000; stroke-width:4; stroke-opacity:1; fill:none\" points=\"\n",
       "  252.09,337.138 923.174,337.138 923.174,95.2176 252.09,95.2176 252.09,337.138 \n",
       "  \"/>\n",
       "<circle clip-path=\"url(#clip060)\" cx=\"348.673\" cy=\"155.698\" r=\"23\" fill=\"#009af9\" fill-rule=\"evenodd\" fill-opacity=\"1\" stroke=\"#000000\" stroke-opacity=\"1\" stroke-width=\"5.12\"/>\n",
       "<path clip-path=\"url(#clip060)\" d=\"M 0 0 M463.681 147.816 L463.681 151.843 Q461.875 150.917 459.931 150.455 Q457.986 149.992 455.903 149.992 Q452.732 149.992 451.135 150.964 Q449.561 151.936 449.561 153.88 Q449.561 155.362 450.695 156.218 Q451.829 157.052 455.255 157.816 L456.713 158.14 Q461.25 159.112 463.148 160.894 Q465.07 162.654 465.07 165.825 Q465.07 169.436 462.199 171.542 Q459.352 173.649 454.352 173.649 Q452.269 173.649 450 173.232 Q447.755 172.839 445.255 172.028 L445.255 167.63 Q447.616 168.857 449.908 169.482 Q452.199 170.084 454.445 170.084 Q457.454 170.084 459.074 169.066 Q460.695 168.024 460.695 166.149 Q460.695 164.413 459.514 163.487 Q458.357 162.561 454.399 161.704 L452.917 161.357 Q448.959 160.524 447.199 158.811 Q445.44 157.075 445.44 154.066 Q445.44 150.408 448.033 148.418 Q450.625 146.427 455.394 146.427 Q457.755 146.427 459.838 146.774 Q461.922 147.121 463.681 147.816 Z\" fill=\"#000000\" fill-rule=\"evenodd\" fill-opacity=\"1\" /><path clip-path=\"url(#clip060)\" d=\"M 0 0 M481.32 159.945 Q476.158 159.945 474.167 161.126 Q472.176 162.306 472.176 165.154 Q472.176 167.422 473.658 168.765 Q475.162 170.084 477.732 170.084 Q481.273 170.084 483.403 167.584 Q485.556 165.061 485.556 160.894 L485.556 159.945 L481.32 159.945 M489.815 158.186 L489.815 172.978 L485.556 172.978 L485.556 169.042 Q484.097 171.403 481.922 172.538 Q479.746 173.649 476.597 173.649 Q472.616 173.649 470.255 171.427 Q467.917 169.181 467.917 165.431 Q467.917 161.056 470.834 158.834 Q473.773 156.612 479.584 156.612 L485.556 156.612 L485.556 156.195 Q485.556 153.255 483.611 151.658 Q481.69 150.038 478.195 150.038 Q475.972 150.038 473.866 150.57 Q471.76 151.103 469.815 152.167 L469.815 148.232 Q472.153 147.33 474.352 146.89 Q476.551 146.427 478.635 146.427 Q484.259 146.427 487.037 149.343 Q489.815 152.26 489.815 158.186 Z\" fill=\"#000000\" fill-rule=\"evenodd\" fill-opacity=\"1\" /><path clip-path=\"url(#clip060)\" d=\"M 0 0 M514.468 152.029 Q516.065 149.158 518.287 147.793 Q520.509 146.427 523.519 146.427 Q527.569 146.427 529.768 149.274 Q531.968 152.098 531.968 157.329 L531.968 172.978 L527.685 172.978 L527.685 157.468 Q527.685 153.742 526.366 151.936 Q525.046 150.13 522.338 150.13 Q519.028 150.13 517.107 152.33 Q515.185 154.529 515.185 158.325 L515.185 172.978 L510.903 172.978 L510.903 157.468 Q510.903 153.718 509.583 151.936 Q508.264 150.13 505.509 150.13 Q502.245 150.13 500.324 152.353 Q498.403 154.552 498.403 158.325 L498.403 172.978 L494.121 172.978 L494.121 147.052 L498.403 147.052 L498.403 151.08 Q499.861 148.695 501.898 147.561 Q503.935 146.427 506.736 146.427 Q509.56 146.427 511.528 147.862 Q513.519 149.297 514.468 152.029 Z\" fill=\"#000000\" fill-rule=\"evenodd\" fill-opacity=\"1\" /><path clip-path=\"url(#clip060)\" d=\"M 0 0 M540.555 169.089 L540.555 182.839 L536.273 182.839 L536.273 147.052 L540.555 147.052 L540.555 150.987 Q541.898 148.672 543.935 147.561 Q545.995 146.427 548.842 146.427 Q553.565 146.427 556.504 150.177 Q559.467 153.927 559.467 160.038 Q559.467 166.149 556.504 169.899 Q553.565 173.649 548.842 173.649 Q545.995 173.649 543.935 172.538 Q541.898 171.403 540.555 169.089 M555.046 160.038 Q555.046 155.339 553.102 152.677 Q551.18 149.992 547.801 149.992 Q544.421 149.992 542.477 152.677 Q540.555 155.339 540.555 160.038 Q540.555 164.737 542.477 167.422 Q544.421 170.084 547.801 170.084 Q551.18 170.084 553.102 167.422 Q555.046 164.737 555.046 160.038 Z\" fill=\"#000000\" fill-rule=\"evenodd\" fill-opacity=\"1\" /><path clip-path=\"url(#clip060)\" d=\"M 0 0 M563.935 136.959 L568.194 136.959 L568.194 172.978 L563.935 172.978 L563.935 136.959 Z\" fill=\"#000000\" fill-rule=\"evenodd\" fill-opacity=\"1\" /><path clip-path=\"url(#clip060)\" d=\"M 0 0 M594.838 158.95 L594.838 161.033 L575.254 161.033 Q575.532 165.431 577.893 167.746 Q580.277 170.038 584.514 170.038 Q586.967 170.038 589.259 169.436 Q591.574 168.834 593.842 167.63 L593.842 171.658 Q591.551 172.63 589.143 173.14 Q586.736 173.649 584.259 173.649 Q578.055 173.649 574.421 170.038 Q570.81 166.427 570.81 160.269 Q570.81 153.904 574.236 150.177 Q577.685 146.427 583.518 146.427 Q588.75 146.427 591.782 149.806 Q594.838 153.163 594.838 158.95 M590.578 157.7 Q590.532 154.205 588.611 152.121 Q586.713 150.038 583.564 150.038 Q580 150.038 577.847 152.052 Q575.717 154.066 575.393 157.723 L590.578 157.7 Z\" fill=\"#000000\" fill-rule=\"evenodd\" fill-opacity=\"1\" /><polyline clip-path=\"url(#clip060)\" style=\"stroke:#0000ff; stroke-width:4; stroke-opacity:1; fill:none\" stroke-dasharray=\"16, 10\" points=\"\n",
       "  276.236,216.178 421.109,216.178 \n",
       "  \"/>\n",
       "<path clip-path=\"url(#clip060)\" d=\"M 0 0 M463.681 208.296 L463.681 212.323 Q461.875 211.397 459.931 210.935 Q457.986 210.472 455.903 210.472 Q452.732 210.472 451.135 211.444 Q449.561 212.416 449.561 214.36 Q449.561 215.842 450.695 216.698 Q451.829 217.532 455.255 218.296 L456.713 218.62 Q461.25 219.592 463.148 221.374 Q465.07 223.134 465.07 226.305 Q465.07 229.916 462.199 232.022 Q459.352 234.129 454.352 234.129 Q452.269 234.129 450 233.712 Q447.755 233.319 445.255 232.508 L445.255 228.11 Q447.616 229.337 449.908 229.962 Q452.199 230.564 454.445 230.564 Q457.454 230.564 459.074 229.546 Q460.695 228.504 460.695 226.629 Q460.695 224.893 459.514 223.967 Q458.357 223.041 454.399 222.184 L452.917 221.837 Q448.959 221.004 447.199 219.291 Q445.44 217.555 445.44 214.546 Q445.44 210.888 448.033 208.898 Q450.625 206.907 455.394 206.907 Q457.755 206.907 459.838 207.254 Q461.922 207.601 463.681 208.296 Z\" fill=\"#000000\" fill-rule=\"evenodd\" fill-opacity=\"1\" /><path clip-path=\"url(#clip060)\" d=\"M 0 0 M469.537 207.532 L473.797 207.532 L473.797 233.458 L469.537 233.458 L469.537 207.532 M469.537 197.439 L473.797 197.439 L473.797 202.833 L469.537 202.833 L469.537 197.439 Z\" fill=\"#000000\" fill-rule=\"evenodd\" fill-opacity=\"1\" /><path clip-path=\"url(#clip060)\" d=\"M 0 0 M499.815 217.809 L499.815 233.458 L495.556 233.458 L495.556 217.948 Q495.556 214.268 494.121 212.439 Q492.685 210.61 489.815 210.61 Q486.366 210.61 484.375 212.81 Q482.384 215.009 482.384 218.805 L482.384 233.458 L478.102 233.458 L478.102 207.532 L482.384 207.532 L482.384 211.56 Q483.912 209.222 485.972 208.064 Q488.056 206.907 490.764 206.907 Q495.232 206.907 497.523 209.685 Q499.815 212.439 499.815 217.809 Z\" fill=\"#000000\" fill-rule=\"evenodd\" fill-opacity=\"1\" /><path clip-path=\"url(#clip060)\" d=\"M 0 0 M514.514 197.486 Q511.412 202.81 509.907 208.018 Q508.403 213.226 508.403 218.573 Q508.403 223.921 509.907 229.175 Q511.435 234.407 514.514 239.708 L510.81 239.708 Q507.338 234.268 505.602 229.013 Q503.889 223.759 503.889 218.573 Q503.889 213.411 505.602 208.18 Q507.315 202.948 510.81 197.486 L514.514 197.486 Z\" fill=\"#000000\" fill-rule=\"evenodd\" fill-opacity=\"1\" /><path clip-path=\"url(#clip060)\" d=\"M 0 0 M540.532 207.532 L531.157 220.147 L541.018 233.458 L535.995 233.458 L528.449 223.272 L520.903 233.458 L515.88 233.458 L525.949 219.893 L516.736 207.532 L521.759 207.532 L528.634 216.768 L535.509 207.532 L540.532 207.532 Z\" fill=\"#000000\" fill-rule=\"evenodd\" fill-opacity=\"1\" /><path clip-path=\"url(#clip060)\" d=\"M 0 0 M544.815 197.486 L548.518 197.486 Q551.991 202.948 553.704 208.18 Q555.44 213.411 555.44 218.573 Q555.44 223.759 553.704 229.013 Q551.991 234.268 548.518 239.708 L544.815 239.708 Q547.893 234.407 549.398 229.175 Q550.926 223.921 550.926 218.573 Q550.926 213.226 549.398 208.018 Q547.893 202.81 544.815 197.486 Z\" fill=\"#000000\" fill-rule=\"evenodd\" fill-opacity=\"1\" /><polyline clip-path=\"url(#clip060)\" style=\"stroke:#ff0000; stroke-width:4; stroke-opacity:1; fill:none\" points=\"\n",
       "  276.236,276.658 421.109,276.658 \n",
       "  \"/>\n",
       "<path clip-path=\"url(#clip060)\" d=\"M 0 0 M464.167 271.947 L464.167 257.919 L468.426 257.919 L468.426 293.938 L464.167 293.938 L464.167 290.049 Q462.824 292.363 460.764 293.498 Q458.727 294.609 455.857 294.609 Q451.158 294.609 448.195 290.859 Q445.255 287.109 445.255 280.998 Q445.255 274.887 448.195 271.137 Q451.158 267.387 455.857 267.387 Q458.727 267.387 460.764 268.521 Q462.824 269.632 464.167 271.947 M449.653 280.998 Q449.653 285.697 451.574 288.382 Q453.519 291.044 456.899 291.044 Q460.278 291.044 462.223 288.382 Q464.167 285.697 464.167 280.998 Q464.167 276.299 462.223 273.637 Q460.278 270.952 456.899 270.952 Q453.519 270.952 451.574 273.637 Q449.653 276.299 449.653 280.998 Z\" fill=\"#000000\" fill-rule=\"evenodd\" fill-opacity=\"1\" /><path clip-path=\"url(#clip060)\" d=\"M 0 0 M495.07 279.91 L495.07 281.993 L475.486 281.993 Q475.764 286.391 478.125 288.706 Q480.509 290.998 484.746 290.998 Q487.199 290.998 489.491 290.396 Q491.806 289.794 494.074 288.59 L494.074 292.618 Q491.783 293.59 489.375 294.1 Q486.968 294.609 484.491 294.609 Q478.287 294.609 474.653 290.998 Q471.042 287.387 471.042 281.229 Q471.042 274.864 474.468 271.137 Q477.917 267.387 483.75 267.387 Q488.982 267.387 492.014 270.766 Q495.07 274.123 495.07 279.91 M490.81 278.66 Q490.764 275.165 488.843 273.081 Q486.945 270.998 483.797 270.998 Q480.232 270.998 478.079 273.012 Q475.949 275.026 475.625 278.683 L490.81 278.66 Z\" fill=\"#000000\" fill-rule=\"evenodd\" fill-opacity=\"1\" /><path clip-path=\"url(#clip060)\" d=\"M 0 0 M516.597 280.674 Q516.597 276.044 514.676 273.498 Q512.778 270.952 509.329 270.952 Q505.903 270.952 503.982 273.498 Q502.083 276.044 502.083 280.674 Q502.083 285.28 503.982 287.826 Q505.903 290.373 509.329 290.373 Q512.778 290.373 514.676 287.826 Q516.597 285.28 516.597 280.674 M520.856 290.72 Q520.856 297.34 517.917 300.558 Q514.977 303.799 508.912 303.799 Q506.667 303.799 504.676 303.451 Q502.685 303.127 500.81 302.433 L500.81 298.289 Q502.685 299.308 504.514 299.794 Q506.343 300.28 508.241 300.28 Q512.431 300.28 514.514 298.081 Q516.597 295.905 516.597 291.484 L516.597 289.377 Q515.278 291.669 513.218 292.803 Q511.157 293.938 508.287 293.938 Q503.519 293.938 500.602 290.303 Q497.685 286.669 497.685 280.674 Q497.685 274.655 500.602 271.021 Q503.519 267.387 508.287 267.387 Q511.157 267.387 513.218 268.521 Q515.278 269.655 516.597 271.947 L516.597 268.012 L520.856 268.012 L520.856 290.72 Z\" fill=\"#000000\" fill-rule=\"evenodd\" fill-opacity=\"1\" /><path clip-path=\"url(#clip060)\" d=\"M 0 0 M540.347 271.993 Q539.63 271.577 538.773 271.391 Q537.94 271.183 536.921 271.183 Q533.31 271.183 531.366 273.544 Q529.444 275.882 529.444 280.28 L529.444 293.938 L525.162 293.938 L525.162 268.012 L529.444 268.012 L529.444 272.04 Q530.787 269.678 532.94 268.544 Q535.093 267.387 538.171 267.387 Q538.611 267.387 539.143 267.456 Q539.676 267.503 540.324 267.618 L540.347 271.993 Z\" fill=\"#000000\" fill-rule=\"evenodd\" fill-opacity=\"1\" /><path clip-path=\"url(#clip060)\" d=\"M 0 0 M565.949 279.91 L565.949 281.993 L546.366 281.993 Q546.643 286.391 549.004 288.706 Q551.389 290.998 555.625 290.998 Q558.079 290.998 560.37 290.396 Q562.685 289.794 564.953 288.59 L564.953 292.618 Q562.662 293.59 560.254 294.1 Q557.847 294.609 555.37 294.609 Q549.167 294.609 545.532 290.998 Q541.921 287.387 541.921 281.229 Q541.921 274.864 545.347 271.137 Q548.796 267.387 554.629 267.387 Q559.861 267.387 562.893 270.766 Q565.949 274.123 565.949 279.91 M561.69 278.66 Q561.643 275.165 559.722 273.081 Q557.824 270.998 554.676 270.998 Q551.111 270.998 548.958 273.012 Q546.829 275.026 546.505 278.683 L561.69 278.66 Z\" fill=\"#000000\" fill-rule=\"evenodd\" fill-opacity=\"1\" /><path clip-path=\"url(#clip060)\" d=\"M 0 0 M592.592 279.91 L592.592 281.993 L573.009 281.993 Q573.287 286.391 575.648 288.706 Q578.032 290.998 582.268 290.998 Q584.722 290.998 587.014 290.396 Q589.328 289.794 591.597 288.59 L591.597 292.618 Q589.305 293.59 586.898 294.1 Q584.49 294.609 582.014 294.609 Q575.81 294.609 572.176 290.998 Q568.565 287.387 568.565 281.229 Q568.565 274.864 571.99 271.137 Q575.44 267.387 581.273 267.387 Q586.504 267.387 589.537 270.766 Q592.592 274.123 592.592 279.91 M588.333 278.66 Q588.287 275.165 586.365 273.081 Q584.467 270.998 581.319 270.998 Q577.754 270.998 575.602 273.012 Q573.472 275.026 573.148 278.683 L588.333 278.66 Z\" fill=\"#000000\" fill-rule=\"evenodd\" fill-opacity=\"1\" /><path clip-path=\"url(#clip060)\" d=\"M 0 0 M594.907 279.053 L607.384 279.053 L607.384 282.85 L594.907 282.85 L594.907 279.053 Z\" fill=\"#000000\" fill-rule=\"evenodd\" fill-opacity=\"1\" /><path clip-path=\"url(#clip060)\" d=\"M 0 0 M626.62 275.303 Q629.976 276.021 631.851 278.289 Q633.749 280.558 633.749 283.891 Q633.749 289.007 630.231 291.808 Q626.712 294.609 620.231 294.609 Q618.055 294.609 615.74 294.169 Q613.449 293.752 610.995 292.896 L610.995 288.382 Q612.939 289.516 615.254 290.095 Q617.569 290.674 620.092 290.674 Q624.49 290.674 626.782 288.938 Q629.097 287.201 629.097 283.891 Q629.097 280.836 626.944 279.123 Q624.814 277.387 620.995 277.387 L616.967 277.387 L616.967 273.544 L621.18 273.544 Q624.629 273.544 626.458 272.178 Q628.286 270.79 628.286 268.197 Q628.286 265.535 626.388 264.123 Q624.513 262.688 620.995 262.688 Q619.074 262.688 616.875 263.104 Q614.675 263.521 612.037 264.401 L612.037 260.234 Q614.699 259.493 617.013 259.123 Q619.351 258.753 621.412 258.753 Q626.736 258.753 629.837 261.183 Q632.939 263.59 632.939 267.711 Q632.939 270.581 631.296 272.572 Q629.652 274.54 626.62 275.303 Z\" fill=\"#000000\" fill-rule=\"evenodd\" fill-opacity=\"1\" /><path clip-path=\"url(#clip060)\" d=\"M 0 0 M657.407 290.049 L657.407 303.799 L653.124 303.799 L653.124 268.012 L657.407 268.012 L657.407 271.947 Q658.749 269.632 660.786 268.521 Q662.846 267.387 665.694 267.387 Q670.416 267.387 673.356 271.137 Q676.319 274.887 676.319 280.998 Q676.319 287.109 673.356 290.859 Q670.416 294.609 665.694 294.609 Q662.846 294.609 660.786 293.498 Q658.749 292.363 657.407 290.049 M671.897 280.998 Q671.897 276.299 669.953 273.637 Q668.032 270.952 664.652 270.952 Q661.272 270.952 659.328 273.637 Q657.407 276.299 657.407 280.998 Q657.407 285.697 659.328 288.382 Q661.272 291.044 664.652 291.044 Q668.032 291.044 669.953 288.382 Q671.897 285.697 671.897 280.998 Z\" fill=\"#000000\" fill-rule=\"evenodd\" fill-opacity=\"1\" /><path clip-path=\"url(#clip060)\" d=\"M 0 0 M690.832 270.998 Q687.407 270.998 685.416 273.683 Q683.425 276.345 683.425 280.998 Q683.425 285.651 685.393 288.336 Q687.383 290.998 690.832 290.998 Q694.235 290.998 696.226 288.313 Q698.217 285.627 698.217 280.998 Q698.217 276.391 696.226 273.706 Q694.235 270.998 690.832 270.998 M690.832 267.387 Q696.388 267.387 699.559 270.998 Q702.731 274.609 702.731 280.998 Q702.731 287.364 699.559 290.998 Q696.388 294.609 690.832 294.609 Q685.254 294.609 682.082 290.998 Q678.934 287.364 678.934 280.998 Q678.934 274.609 682.082 270.998 Q685.254 267.387 690.832 267.387 Z\" fill=\"#000000\" fill-rule=\"evenodd\" fill-opacity=\"1\" /><path clip-path=\"url(#clip060)\" d=\"M 0 0 M707.198 257.919 L711.457 257.919 L711.457 293.938 L707.198 293.938 L707.198 257.919 Z\" fill=\"#000000\" fill-rule=\"evenodd\" fill-opacity=\"1\" /><path clip-path=\"url(#clip060)\" d=\"M 0 0 M726.712 296.345 Q724.906 300.975 723.193 302.387 Q721.48 303.799 718.61 303.799 L715.207 303.799 L715.207 300.234 L717.707 300.234 Q719.467 300.234 720.439 299.4 Q721.411 298.567 722.592 295.465 L723.355 293.521 L712.869 268.012 L717.383 268.012 L725.485 288.289 L733.587 268.012 L738.101 268.012 L726.712 296.345 Z\" fill=\"#000000\" fill-rule=\"evenodd\" fill-opacity=\"1\" /><path clip-path=\"url(#clip060)\" d=\"M 0 0 M764.119 278.289 L764.119 293.938 L759.86 293.938 L759.86 278.428 Q759.86 274.748 758.425 272.919 Q756.989 271.09 754.119 271.09 Q750.67 271.09 748.679 273.29 Q746.689 275.489 746.689 279.285 L746.689 293.938 L742.406 293.938 L742.406 268.012 L746.689 268.012 L746.689 272.04 Q748.216 269.702 750.277 268.544 Q752.36 267.387 755.068 267.387 Q759.536 267.387 761.827 270.165 Q764.119 272.919 764.119 278.289 Z\" fill=\"#000000\" fill-rule=\"evenodd\" fill-opacity=\"1\" /><path clip-path=\"url(#clip060)\" d=\"M 0 0 M778.633 270.998 Q775.207 270.998 773.216 273.683 Q771.226 276.345 771.226 280.998 Q771.226 285.651 773.193 288.336 Q775.184 290.998 778.633 290.998 Q782.036 290.998 784.026 288.313 Q786.017 285.627 786.017 280.998 Q786.017 276.391 784.026 273.706 Q782.036 270.998 778.633 270.998 M778.633 267.387 Q784.188 267.387 787.36 270.998 Q790.531 274.609 790.531 280.998 Q790.531 287.364 787.36 290.998 Q784.188 294.609 778.633 294.609 Q773.054 294.609 769.883 290.998 Q766.735 287.364 766.735 280.998 Q766.735 274.609 769.883 270.998 Q773.054 267.387 778.633 267.387 Z\" fill=\"#000000\" fill-rule=\"evenodd\" fill-opacity=\"1\" /><path clip-path=\"url(#clip060)\" d=\"M 0 0 M815.184 272.989 Q816.781 270.118 819.003 268.753 Q821.225 267.387 824.235 267.387 Q828.285 267.387 830.484 270.234 Q832.684 273.058 832.684 278.289 L832.684 293.938 L828.401 293.938 L828.401 278.428 Q828.401 274.702 827.082 272.896 Q825.762 271.09 823.054 271.09 Q819.744 271.09 817.822 273.29 Q815.901 275.489 815.901 279.285 L815.901 293.938 L811.619 293.938 L811.619 278.428 Q811.619 274.678 810.299 272.896 Q808.98 271.09 806.225 271.09 Q802.961 271.09 801.04 273.313 Q799.119 275.512 799.119 279.285 L799.119 293.938 L794.837 293.938 L794.837 268.012 L799.119 268.012 L799.119 272.04 Q800.577 269.655 802.614 268.521 Q804.651 267.387 807.452 267.387 Q810.276 267.387 812.244 268.822 Q814.235 270.257 815.184 272.989 Z\" fill=\"#000000\" fill-rule=\"evenodd\" fill-opacity=\"1\" /><path clip-path=\"url(#clip060)\" d=\"M 0 0 M837.151 268.012 L841.41 268.012 L841.41 293.938 L837.151 293.938 L837.151 268.012 M837.151 257.919 L841.41 257.919 L841.41 263.313 L837.151 263.313 L837.151 257.919 Z\" fill=\"#000000\" fill-rule=\"evenodd\" fill-opacity=\"1\" /><path clip-path=\"url(#clip060)\" d=\"M 0 0 M857.66 280.905 Q852.498 280.905 850.508 282.086 Q848.517 283.266 848.517 286.114 Q848.517 288.382 849.998 289.725 Q851.503 291.044 854.072 291.044 Q857.614 291.044 859.744 288.544 Q861.896 286.021 861.896 281.854 L861.896 280.905 L857.66 280.905 M866.156 279.146 L866.156 293.938 L861.896 293.938 L861.896 290.002 Q860.438 292.363 858.262 293.498 Q856.086 294.609 852.938 294.609 Q848.957 294.609 846.595 292.387 Q844.258 290.141 844.258 286.391 Q844.258 282.016 847.174 279.794 Q850.114 277.572 855.924 277.572 L861.896 277.572 L861.896 277.155 Q861.896 274.215 859.952 272.618 Q858.031 270.998 854.535 270.998 Q852.313 270.998 850.207 271.53 Q848.1 272.063 846.156 273.127 L846.156 269.192 Q848.494 268.29 850.693 267.85 Q852.892 267.387 854.975 267.387 Q860.6 267.387 863.378 270.303 Q866.156 273.22 866.156 279.146 Z\" fill=\"#000000\" fill-rule=\"evenodd\" fill-opacity=\"1\" /><path clip-path=\"url(#clip060)\" d=\"M 0 0 M870.623 257.919 L874.882 257.919 L874.882 293.938 L870.623 293.938 L870.623 257.919 Z\" fill=\"#000000\" fill-rule=\"evenodd\" fill-opacity=\"1\" /></svg>\n"
      ]
     },
     "execution_count": 61,
     "metadata": {},
     "output_type": "execute_result"
    }
   ],
   "source": [
    "begin\n",
    "    using Plots\n",
    "    n = 20\n",
    "    x = range(-π, π; length=20)\n",
    "    noise = 0.3randn(n)\n",
    "    y = sin.(x) + noise\n",
    "    X = hcat((x.^k for k in 0:3)...)\n",
    "    b = X\\y\n",
    "    f(x) = sum(b[k+1]*x^k for k in 0:3)\n",
    "    xs = range(-π, π; length=400)\n",
    "    plot(; legend=:topleft)\n",
    "    scatter!(x, y; label=\"sample\")\n",
    "    plot!(xs, sin.(xs); label=\"sin(x)\", color=:blue, ls=:dash)\n",
    "    plot!(xs, f.(xs); label=\"degree-3 polynomial\", color=:red, lw=2)\n",
    "end"
   ]
  },
  {
   "cell_type": "code",
   "execution_count": 62,
   "metadata": {},
   "outputs": [
    {
     "name": "stdout",
     "output_type": "stream",
     "text": [
      "(:block, \n",
      "    (:using, \n",
      "        (:., :Plots)), \n",
      "    (:(=), :n, 20), \n",
      "    (:(=), :x, \n",
      "        (:call, :range, \n",
      "            (:parameters, \n",
      "                (:kw, :length, 20)), \n",
      "            (:call, :-, :π), :π)), \n",
      "    (:(=), :noise, \n",
      "        (:call, :*, 0.3, \n",
      "            (:call, :randn, :n))), \n",
      "    (:(=), :y, \n",
      "        (:call, :+, \n",
      "            (:., :sin, \n",
      "                (:tuple, :x)), :noise)), \n",
      "    (:(=), :X, \n",
      "        (:call, :hcat, \n",
      "            (:..., \n",
      "                (:generator, \n",
      "                    (:call, :.^, :x, :k), \n",
      "                    (:(=), :k, \n",
      "                        (:call, :(:), 0, 3)))))), \n",
      "    (:(=), :b, \n",
      "        (:call, :\\, :X, :y)), \n",
      "    (:(=), \n",
      "        (:call, :f, :x), \n",
      "        (:block, \n",
      "            (:call, :sum, \n",
      "                (:generator, \n",
      "                    (:call, :*, \n",
      "                        (:ref, :b, \n",
      "                            (:call, :+, :k, 1)), \n",
      "                        (:call, :^, :x, :k)), \n",
      "                    (:(=), :k, \n",
      "                        (:call, :(:), 0, 3)))))), \n",
      "    (:(=), :xs, \n",
      "        (:call, :range, \n",
      "            (:parameters, \n",
      "                (:kw, :length, 400)), \n",
      "            (:call, :-, :π), :π)), \n",
      "    (:call, :plot, \n",
      "        (:parameters, \n",
      "            (:kw, :legend, QuoteNode(:topleft)))), \n",
      "    (:call, :scatter!, \n",
      "        (:parameters, \n",
      "            (:kw, :label, \"sample\")), :x, :y), \n",
      "    (:call, :plot!, \n",
      "        (:parameters, \n",
      "            (:kw, :label, \"sin(x)\"), \n",
      "            (:kw, :color, QuoteNode(:blue)), \n",
      "            (:kw, :ls, QuoteNode(:dash))), :xs, \n",
      "        (:., :sin, \n",
      "            (:tuple, :xs))), \n",
      "    (:call, :plot!, \n",
      "        (:parameters, \n",
      "            (:kw, :label, \"degree-3 polynomial\"), \n",
      "            (:kw, :color, QuoteNode(:red)), \n",
      "            (:kw, :lw, 2)), :xs, \n",
      "        (:., :f, \n",
      "            (:tuple, :xs))))"
     ]
    }
   ],
   "source": [
    "@show_texpr begin\n",
    "    using Plots\n",
    "    n = 20\n",
    "    x = range(-π, π; length=20)\n",
    "    noise = 0.3randn(n)\n",
    "    y = sin.(x) + noise\n",
    "    X = hcat((x.^k for k in 0:3)...)\n",
    "    b = X\\y\n",
    "    f(x) = sum(b[k+1]*x^k for k in 0:3)\n",
    "    xs = range(-π, π; length=400)\n",
    "    plot(; legend=:topleft)\n",
    "    scatter!(x, y; label=\"sample\")\n",
    "    plot!(xs, sin.(xs); label=\"sin(x)\", color=:blue, ls=:dash)\n",
    "    plot!(xs, f.(xs); label=\"degree-3 polynomial\", color=:red, lw=2)\n",
    "end"
   ]
  },
  {
   "cell_type": "code",
   "execution_count": 63,
   "metadata": {},
   "outputs": [
    {
     "data": {
      "image/svg+xml": [
       "<?xml version=\"1.0\" encoding=\"utf-8\"?>\n",
       "<svg xmlns=\"http://www.w3.org/2000/svg\" xmlns:xlink=\"http://www.w3.org/1999/xlink\" width=\"600\" height=\"400\" viewBox=\"0 0 2400 1600\">\n",
       "<defs>\n",
       "  <clipPath id=\"clip100\">\n",
       "    <rect x=\"0\" y=\"0\" width=\"2400\" height=\"1600\"/>\n",
       "  </clipPath>\n",
       "</defs>\n",
       "<path clip-path=\"url(#clip100)\" d=\"\n",
       "M0 1600 L2400 1600 L2400 0 L0 0  Z\n",
       "  \" fill=\"#ffffff\" fill-rule=\"evenodd\" fill-opacity=\"1\"/>\n",
       "<defs>\n",
       "  <clipPath id=\"clip101\">\n",
       "    <rect x=\"480\" y=\"0\" width=\"1681\" height=\"1600\"/>\n",
       "  </clipPath>\n",
       "</defs>\n",
       "<path clip-path=\"url(#clip100)\" d=\"\n",
       "M179.654 1486.45 L2352.76 1486.45 L2352.76 47.2441 L179.654 47.2441  Z\n",
       "  \" fill=\"#ffffff\" fill-rule=\"evenodd\" fill-opacity=\"1\"/>\n",
       "<defs>\n",
       "  <clipPath id=\"clip102\">\n",
       "    <rect x=\"179\" y=\"47\" width=\"2174\" height=\"1440\"/>\n",
       "  </clipPath>\n",
       "</defs>\n",
       "<polyline clip-path=\"url(#clip102)\" style=\"stroke:#000000; stroke-width:2; stroke-opacity:0.1; fill:none\" points=\"\n",
       "  287.356,1486.45 287.356,47.2441 \n",
       "  \"/>\n",
       "<polyline clip-path=\"url(#clip102)\" style=\"stroke:#000000; stroke-width:2; stroke-opacity:0.1; fill:none\" points=\"\n",
       "  613.639,1486.45 613.639,47.2441 \n",
       "  \"/>\n",
       "<polyline clip-path=\"url(#clip102)\" style=\"stroke:#000000; stroke-width:2; stroke-opacity:0.1; fill:none\" points=\"\n",
       "  939.922,1486.45 939.922,47.2441 \n",
       "  \"/>\n",
       "<polyline clip-path=\"url(#clip102)\" style=\"stroke:#000000; stroke-width:2; stroke-opacity:0.1; fill:none\" points=\"\n",
       "  1266.2,1486.45 1266.2,47.2441 \n",
       "  \"/>\n",
       "<polyline clip-path=\"url(#clip102)\" style=\"stroke:#000000; stroke-width:2; stroke-opacity:0.1; fill:none\" points=\"\n",
       "  1592.49,1486.45 1592.49,47.2441 \n",
       "  \"/>\n",
       "<polyline clip-path=\"url(#clip102)\" style=\"stroke:#000000; stroke-width:2; stroke-opacity:0.1; fill:none\" points=\"\n",
       "  1918.77,1486.45 1918.77,47.2441 \n",
       "  \"/>\n",
       "<polyline clip-path=\"url(#clip102)\" style=\"stroke:#000000; stroke-width:2; stroke-opacity:0.1; fill:none\" points=\"\n",
       "  2245.05,1486.45 2245.05,47.2441 \n",
       "  \"/>\n",
       "<polyline clip-path=\"url(#clip100)\" style=\"stroke:#000000; stroke-width:4; stroke-opacity:1; fill:none\" points=\"\n",
       "  179.654,1486.45 2352.76,1486.45 \n",
       "  \"/>\n",
       "<polyline clip-path=\"url(#clip100)\" style=\"stroke:#000000; stroke-width:4; stroke-opacity:1; fill:none\" points=\"\n",
       "  287.356,1486.45 287.356,1469.18 \n",
       "  \"/>\n",
       "<polyline clip-path=\"url(#clip100)\" style=\"stroke:#000000; stroke-width:4; stroke-opacity:1; fill:none\" points=\"\n",
       "  613.639,1486.45 613.639,1469.18 \n",
       "  \"/>\n",
       "<polyline clip-path=\"url(#clip100)\" style=\"stroke:#000000; stroke-width:4; stroke-opacity:1; fill:none\" points=\"\n",
       "  939.922,1486.45 939.922,1469.18 \n",
       "  \"/>\n",
       "<polyline clip-path=\"url(#clip100)\" style=\"stroke:#000000; stroke-width:4; stroke-opacity:1; fill:none\" points=\"\n",
       "  1266.2,1486.45 1266.2,1469.18 \n",
       "  \"/>\n",
       "<polyline clip-path=\"url(#clip100)\" style=\"stroke:#000000; stroke-width:4; stroke-opacity:1; fill:none\" points=\"\n",
       "  1592.49,1486.45 1592.49,1469.18 \n",
       "  \"/>\n",
       "<polyline clip-path=\"url(#clip100)\" style=\"stroke:#000000; stroke-width:4; stroke-opacity:1; fill:none\" points=\"\n",
       "  1918.77,1486.45 1918.77,1469.18 \n",
       "  \"/>\n",
       "<polyline clip-path=\"url(#clip100)\" style=\"stroke:#000000; stroke-width:4; stroke-opacity:1; fill:none\" points=\"\n",
       "  2245.05,1486.45 2245.05,1469.18 \n",
       "  \"/>\n",
       "<path clip-path=\"url(#clip100)\" d=\"M 0 0 M259.335 1530.29 L289.011 1530.29 L289.011 1534.23 L259.335 1534.23 L259.335 1530.29 Z\" fill=\"#000000\" fill-rule=\"evenodd\" fill-opacity=\"1\" /><path clip-path=\"url(#clip100)\" d=\"M 0 0 M308.247 1528.49 Q311.603 1529.2 313.478 1531.47 Q315.377 1533.74 315.377 1537.07 Q315.377 1542.19 311.858 1544.99 Q308.34 1547.79 301.858 1547.79 Q299.682 1547.79 297.367 1547.35 Q295.076 1546.93 292.622 1546.08 L292.622 1541.56 Q294.566 1542.7 296.881 1543.28 Q299.196 1543.86 301.719 1543.86 Q306.117 1543.86 308.409 1542.12 Q310.724 1540.38 310.724 1537.07 Q310.724 1534.02 308.571 1532.31 Q306.441 1530.57 302.622 1530.57 L298.594 1530.57 L298.594 1526.73 L302.807 1526.73 Q306.256 1526.73 308.085 1525.36 Q309.914 1523.97 309.914 1521.38 Q309.914 1518.72 308.015 1517.31 Q306.14 1515.87 302.622 1515.87 Q300.701 1515.87 298.502 1516.29 Q296.303 1516.7 293.664 1517.58 L293.664 1513.42 Q296.326 1512.68 298.64 1512.31 Q300.978 1511.93 303.039 1511.93 Q308.363 1511.93 311.465 1514.37 Q314.566 1516.77 314.566 1520.89 Q314.566 1523.76 312.923 1525.75 Q311.279 1527.72 308.247 1528.49 Z\" fill=\"#000000\" fill-rule=\"evenodd\" fill-opacity=\"1\" /><path clip-path=\"url(#clip100)\" d=\"M 0 0 M586.093 1530.29 L615.768 1530.29 L615.768 1534.23 L586.093 1534.23 L586.093 1530.29 Z\" fill=\"#000000\" fill-rule=\"evenodd\" fill-opacity=\"1\" /><path clip-path=\"url(#clip100)\" d=\"M 0 0 M624.866 1543.18 L641.185 1543.18 L641.185 1547.12 L619.241 1547.12 L619.241 1543.18 Q621.903 1540.43 626.486 1535.8 Q631.092 1531.15 632.273 1529.81 Q634.518 1527.28 635.398 1525.55 Q636.301 1523.79 636.301 1522.1 Q636.301 1519.34 634.356 1517.61 Q632.435 1515.87 629.333 1515.87 Q627.134 1515.87 624.68 1516.63 Q622.25 1517.4 619.472 1518.95 L619.472 1514.23 Q622.296 1513.09 624.75 1512.51 Q627.204 1511.93 629.241 1511.93 Q634.611 1511.93 637.805 1514.62 Q641 1517.31 641 1521.8 Q641 1523.93 640.19 1525.85 Q639.403 1527.74 637.296 1530.34 Q636.717 1531.01 633.616 1534.23 Q630.514 1537.42 624.866 1543.18 Z\" fill=\"#000000\" fill-rule=\"evenodd\" fill-opacity=\"1\" /><path clip-path=\"url(#clip100)\" d=\"M 0 0 M912.19 1530.29 L941.866 1530.29 L941.866 1534.23 L912.19 1534.23 L912.19 1530.29 Z\" fill=\"#000000\" fill-rule=\"evenodd\" fill-opacity=\"1\" /><path clip-path=\"url(#clip100)\" d=\"M 0 0 M947.746 1543.18 L955.385 1543.18 L955.385 1516.82 L947.075 1518.49 L947.075 1514.23 L955.338 1512.56 L960.014 1512.56 L960.014 1543.18 L967.653 1543.18 L967.653 1547.12 L947.746 1547.12 L947.746 1543.18 Z\" fill=\"#000000\" fill-rule=\"evenodd\" fill-opacity=\"1\" /><path clip-path=\"url(#clip100)\" d=\"M 0 0 M1266.2 1515.64 Q1262.59 1515.64 1260.77 1519.2 Q1258.96 1522.75 1258.96 1529.87 Q1258.96 1536.98 1260.77 1540.55 Q1262.59 1544.09 1266.2 1544.09 Q1269.84 1544.09 1271.64 1540.55 Q1273.47 1536.98 1273.47 1529.87 Q1273.47 1522.75 1271.64 1519.2 Q1269.84 1515.64 1266.2 1515.64 M1266.2 1511.93 Q1272.01 1511.93 1275.07 1516.54 Q1278.15 1521.12 1278.15 1529.87 Q1278.15 1538.6 1275.07 1543.21 Q1272.01 1547.79 1266.2 1547.79 Q1260.39 1547.79 1257.32 1543.21 Q1254.26 1538.6 1254.26 1529.87 Q1254.26 1521.12 1257.32 1516.54 Q1260.39 1511.93 1266.2 1511.93 Z\" fill=\"#000000\" fill-rule=\"evenodd\" fill-opacity=\"1\" /><path clip-path=\"url(#clip100)\" d=\"M 0 0 M1582.87 1543.18 L1590.51 1543.18 L1590.51 1516.82 L1582.2 1518.49 L1582.2 1514.23 L1590.46 1512.56 L1595.14 1512.56 L1595.14 1543.18 L1602.78 1543.18 L1602.78 1547.12 L1582.87 1547.12 L1582.87 1543.18 Z\" fill=\"#000000\" fill-rule=\"evenodd\" fill-opacity=\"1\" /><path clip-path=\"url(#clip100)\" d=\"M 0 0 M1913.42 1543.18 L1929.74 1543.18 L1929.74 1547.12 L1907.8 1547.12 L1907.8 1543.18 Q1910.46 1540.43 1915.04 1535.8 Q1919.65 1531.15 1920.83 1529.81 Q1923.08 1527.28 1923.96 1525.55 Q1924.86 1523.79 1924.86 1522.1 Q1924.86 1519.34 1922.91 1517.61 Q1920.99 1515.87 1917.89 1515.87 Q1915.69 1515.87 1913.24 1516.63 Q1910.81 1517.4 1908.03 1518.95 L1908.03 1514.23 Q1910.85 1513.09 1913.31 1512.51 Q1915.76 1511.93 1917.8 1511.93 Q1923.17 1511.93 1926.36 1514.62 Q1929.56 1517.31 1929.56 1521.8 Q1929.56 1523.93 1928.75 1525.85 Q1927.96 1527.74 1925.85 1530.34 Q1925.28 1531.01 1922.17 1534.23 Q1919.07 1537.42 1913.42 1543.18 Z\" fill=\"#000000\" fill-rule=\"evenodd\" fill-opacity=\"1\" /><path clip-path=\"url(#clip100)\" d=\"M 0 0 M2249.3 1528.49 Q2252.66 1529.2 2254.53 1531.47 Q2256.43 1533.74 2256.43 1537.07 Q2256.43 1542.19 2252.91 1544.99 Q2249.39 1547.79 2242.91 1547.79 Q2240.74 1547.79 2238.42 1547.35 Q2236.13 1546.93 2233.68 1546.08 L2233.68 1541.56 Q2235.62 1542.7 2237.94 1543.28 Q2240.25 1543.86 2242.77 1543.86 Q2247.17 1543.86 2249.46 1542.12 Q2251.78 1540.38 2251.78 1537.07 Q2251.78 1534.02 2249.63 1532.31 Q2247.5 1530.57 2243.68 1530.57 L2239.65 1530.57 L2239.65 1526.73 L2243.86 1526.73 Q2247.31 1526.73 2249.14 1525.36 Q2250.97 1523.97 2250.97 1521.38 Q2250.97 1518.72 2249.07 1517.31 Q2247.19 1515.87 2243.68 1515.87 Q2241.76 1515.87 2239.56 1516.29 Q2237.36 1516.7 2234.72 1517.58 L2234.72 1513.42 Q2237.38 1512.68 2239.69 1512.31 Q2242.03 1511.93 2244.09 1511.93 Q2249.42 1511.93 2252.52 1514.37 Q2255.62 1516.77 2255.62 1520.89 Q2255.62 1523.76 2253.98 1525.75 Q2252.33 1527.72 2249.3 1528.49 Z\" fill=\"#000000\" fill-rule=\"evenodd\" fill-opacity=\"1\" /><polyline clip-path=\"url(#clip102)\" style=\"stroke:#000000; stroke-width:2; stroke-opacity:0.1; fill:none\" points=\"\n",
       "  179.654,1367.85 2352.76,1367.85 \n",
       "  \"/>\n",
       "<polyline clip-path=\"url(#clip102)\" style=\"stroke:#000000; stroke-width:2; stroke-opacity:0.1; fill:none\" points=\"\n",
       "  179.654,1096.26 2352.76,1096.26 \n",
       "  \"/>\n",
       "<polyline clip-path=\"url(#clip102)\" style=\"stroke:#000000; stroke-width:2; stroke-opacity:0.1; fill:none\" points=\"\n",
       "  179.654,824.673 2352.76,824.673 \n",
       "  \"/>\n",
       "<polyline clip-path=\"url(#clip102)\" style=\"stroke:#000000; stroke-width:2; stroke-opacity:0.1; fill:none\" points=\"\n",
       "  179.654,553.086 2352.76,553.086 \n",
       "  \"/>\n",
       "<polyline clip-path=\"url(#clip102)\" style=\"stroke:#000000; stroke-width:2; stroke-opacity:0.1; fill:none\" points=\"\n",
       "  179.654,281.498 2352.76,281.498 \n",
       "  \"/>\n",
       "<polyline clip-path=\"url(#clip100)\" style=\"stroke:#000000; stroke-width:4; stroke-opacity:1; fill:none\" points=\"\n",
       "  179.654,1486.45 179.654,47.2441 \n",
       "  \"/>\n",
       "<polyline clip-path=\"url(#clip100)\" style=\"stroke:#000000; stroke-width:4; stroke-opacity:1; fill:none\" points=\"\n",
       "  179.654,1367.85 205.731,1367.85 \n",
       "  \"/>\n",
       "<polyline clip-path=\"url(#clip100)\" style=\"stroke:#000000; stroke-width:4; stroke-opacity:1; fill:none\" points=\"\n",
       "  179.654,1096.26 205.731,1096.26 \n",
       "  \"/>\n",
       "<polyline clip-path=\"url(#clip100)\" style=\"stroke:#000000; stroke-width:4; stroke-opacity:1; fill:none\" points=\"\n",
       "  179.654,824.673 205.731,824.673 \n",
       "  \"/>\n",
       "<polyline clip-path=\"url(#clip100)\" style=\"stroke:#000000; stroke-width:4; stroke-opacity:1; fill:none\" points=\"\n",
       "  179.654,553.086 205.731,553.086 \n",
       "  \"/>\n",
       "<polyline clip-path=\"url(#clip100)\" style=\"stroke:#000000; stroke-width:4; stroke-opacity:1; fill:none\" points=\"\n",
       "  179.654,281.498 205.731,281.498 \n",
       "  \"/>\n",
       "<path clip-path=\"url(#clip100)\" d=\"M 0 0 M51.2236 1368.3 L80.8994 1368.3 L80.8994 1372.24 L51.2236 1372.24 L51.2236 1368.3 Z\" fill=\"#000000\" fill-rule=\"evenodd\" fill-opacity=\"1\" /><path clip-path=\"url(#clip100)\" d=\"M 0 0 M86.779 1381.19 L94.4178 1381.19 L94.4178 1354.83 L86.1077 1356.49 L86.1077 1352.24 L94.3715 1350.57 L99.0474 1350.57 L99.0474 1381.19 L106.686 1381.19 L106.686 1385.13 L86.779 1385.13 L86.779 1381.19 Z\" fill=\"#000000\" fill-rule=\"evenodd\" fill-opacity=\"1\" /><path clip-path=\"url(#clip100)\" d=\"M 0 0 M111.756 1379.25 L116.64 1379.25 L116.64 1385.13 L111.756 1385.13 L111.756 1379.25 Z\" fill=\"#000000\" fill-rule=\"evenodd\" fill-opacity=\"1\" /><path clip-path=\"url(#clip100)\" d=\"M 0 0 M131.709 1353.65 Q128.098 1353.65 126.27 1357.21 Q124.464 1360.75 124.464 1367.88 Q124.464 1374.99 126.27 1378.55 Q128.098 1382.1 131.709 1382.1 Q135.344 1382.1 137.149 1378.55 Q138.978 1374.99 138.978 1367.88 Q138.978 1360.75 137.149 1357.21 Q135.344 1353.65 131.709 1353.65 M131.709 1349.94 Q137.519 1349.94 140.575 1354.55 Q143.654 1359.13 143.654 1367.88 Q143.654 1376.61 140.575 1381.22 Q137.519 1385.8 131.709 1385.8 Q125.899 1385.8 122.82 1381.22 Q119.765 1376.61 119.765 1367.88 Q119.765 1359.13 122.82 1354.55 Q125.899 1349.94 131.709 1349.94 Z\" fill=\"#000000\" fill-rule=\"evenodd\" fill-opacity=\"1\" /><path clip-path=\"url(#clip100)\" d=\"M 0 0 M50.9921 1096.71 L80.6679 1096.71 L80.6679 1100.65 L50.9921 1100.65 L50.9921 1096.71 Z\" fill=\"#000000\" fill-rule=\"evenodd\" fill-opacity=\"1\" /><path clip-path=\"url(#clip100)\" d=\"M 0 0 M95.7373 1082.06 Q92.1262 1082.06 90.2975 1085.62 Q88.4919 1089.17 88.4919 1096.3 Q88.4919 1103.4 90.2975 1106.97 Q92.1262 1110.51 95.7373 1110.51 Q99.3715 1110.51 101.177 1106.97 Q103.006 1103.4 103.006 1096.3 Q103.006 1089.17 101.177 1085.62 Q99.3715 1082.06 95.7373 1082.06 M95.7373 1078.36 Q101.547 1078.36 104.603 1082.96 Q107.682 1087.55 107.682 1096.3 Q107.682 1105.02 104.603 1109.63 Q101.547 1114.21 95.7373 1114.21 Q89.9271 1114.21 86.8484 1109.63 Q83.7929 1105.02 83.7929 1096.3 Q83.7929 1087.55 86.8484 1082.96 Q89.9271 1078.36 95.7373 1078.36 Z\" fill=\"#000000\" fill-rule=\"evenodd\" fill-opacity=\"1\" /><path clip-path=\"url(#clip100)\" d=\"M 0 0 M112.751 1107.66 L117.635 1107.66 L117.635 1113.54 L112.751 1113.54 L112.751 1107.66 Z\" fill=\"#000000\" fill-rule=\"evenodd\" fill-opacity=\"1\" /><path clip-path=\"url(#clip100)\" d=\"M 0 0 M122.751 1078.98 L141.107 1078.98 L141.107 1082.92 L127.033 1082.92 L127.033 1091.39 Q128.052 1091.04 129.07 1090.88 Q130.089 1090.69 131.107 1090.69 Q136.894 1090.69 140.274 1093.87 Q143.654 1097.04 143.654 1102.45 Q143.654 1108.03 140.181 1111.13 Q136.709 1114.21 130.39 1114.21 Q128.214 1114.21 125.945 1113.84 Q123.7 1113.47 121.293 1112.73 L121.293 1108.03 Q123.376 1109.17 125.598 1109.72 Q127.82 1110.28 130.297 1110.28 Q134.302 1110.28 136.64 1108.17 Q138.978 1106.06 138.978 1102.45 Q138.978 1098.84 136.64 1096.74 Q134.302 1094.63 130.297 1094.63 Q128.422 1094.63 126.547 1095.05 Q124.695 1095.46 122.751 1096.34 L122.751 1078.98 Z\" fill=\"#000000\" fill-rule=\"evenodd\" fill-opacity=\"1\" /><path clip-path=\"url(#clip100)\" d=\"M 0 0 M94.7419 810.472 Q91.1308 810.472 89.3021 814.037 Q87.4966 817.579 87.4966 824.708 Q87.4966 831.815 89.3021 835.379 Q91.1308 838.921 94.7419 838.921 Q98.3761 838.921 100.182 835.379 Q102.01 831.815 102.01 824.708 Q102.01 817.579 100.182 814.037 Q98.3761 810.472 94.7419 810.472 M94.7419 806.768 Q100.552 806.768 103.608 811.375 Q106.686 815.958 106.686 824.708 Q106.686 833.435 103.608 838.041 Q100.552 842.625 94.7419 842.625 Q88.9317 842.625 85.8531 838.041 Q82.7975 833.435 82.7975 824.708 Q82.7975 815.958 85.8531 811.375 Q88.9317 806.768 94.7419 806.768 Z\" fill=\"#000000\" fill-rule=\"evenodd\" fill-opacity=\"1\" /><path clip-path=\"url(#clip100)\" d=\"M 0 0 M111.756 836.074 L116.64 836.074 L116.64 841.953 L111.756 841.953 L111.756 836.074 Z\" fill=\"#000000\" fill-rule=\"evenodd\" fill-opacity=\"1\" /><path clip-path=\"url(#clip100)\" d=\"M 0 0 M131.709 810.472 Q128.098 810.472 126.27 814.037 Q124.464 817.579 124.464 824.708 Q124.464 831.815 126.27 835.379 Q128.098 838.921 131.709 838.921 Q135.344 838.921 137.149 835.379 Q138.978 831.815 138.978 824.708 Q138.978 817.579 137.149 814.037 Q135.344 810.472 131.709 810.472 M131.709 806.768 Q137.519 806.768 140.575 811.375 Q143.654 815.958 143.654 824.708 Q143.654 833.435 140.575 838.041 Q137.519 842.625 131.709 842.625 Q125.899 842.625 122.82 838.041 Q119.765 833.435 119.765 824.708 Q119.765 815.958 122.82 811.375 Q125.899 806.768 131.709 806.768 Z\" fill=\"#000000\" fill-rule=\"evenodd\" fill-opacity=\"1\" /><path clip-path=\"url(#clip100)\" d=\"M 0 0 M95.7373 538.884 Q92.1262 538.884 90.2975 542.449 Q88.4919 545.991 88.4919 553.12 Q88.4919 560.227 90.2975 563.792 Q92.1262 567.333 95.7373 567.333 Q99.3715 567.333 101.177 563.792 Q103.006 560.227 103.006 553.12 Q103.006 545.991 101.177 542.449 Q99.3715 538.884 95.7373 538.884 M95.7373 535.181 Q101.547 535.181 104.603 539.787 Q107.682 544.37 107.682 553.12 Q107.682 561.847 104.603 566.454 Q101.547 571.037 95.7373 571.037 Q89.9271 571.037 86.8484 566.454 Q83.7929 561.847 83.7929 553.12 Q83.7929 544.37 86.8484 539.787 Q89.9271 535.181 95.7373 535.181 Z\" fill=\"#000000\" fill-rule=\"evenodd\" fill-opacity=\"1\" /><path clip-path=\"url(#clip100)\" d=\"M 0 0 M112.751 564.486 L117.635 564.486 L117.635 570.366 L112.751 570.366 L112.751 564.486 Z\" fill=\"#000000\" fill-rule=\"evenodd\" fill-opacity=\"1\" /><path clip-path=\"url(#clip100)\" d=\"M 0 0 M122.751 535.806 L141.107 535.806 L141.107 539.741 L127.033 539.741 L127.033 548.213 Q128.052 547.866 129.07 547.704 Q130.089 547.519 131.107 547.519 Q136.894 547.519 140.274 550.69 Q143.654 553.861 143.654 559.278 Q143.654 564.856 140.181 567.958 Q136.709 571.037 130.39 571.037 Q128.214 571.037 125.945 570.667 Q123.7 570.296 121.293 569.555 L121.293 564.856 Q123.376 565.991 125.598 566.546 Q127.82 567.102 130.297 567.102 Q134.302 567.102 136.64 564.995 Q138.978 562.889 138.978 559.278 Q138.978 555.667 136.64 553.56 Q134.302 551.454 130.297 551.454 Q128.422 551.454 126.547 551.87 Q124.695 552.287 122.751 553.167 L122.751 535.806 Z\" fill=\"#000000\" fill-rule=\"evenodd\" fill-opacity=\"1\" /><path clip-path=\"url(#clip100)\" d=\"M 0 0 M86.779 294.843 L94.4178 294.843 L94.4178 268.477 L86.1077 270.144 L86.1077 265.885 L94.3715 264.218 L99.0474 264.218 L99.0474 294.843 L106.686 294.843 L106.686 298.778 L86.779 298.778 L86.779 294.843 Z\" fill=\"#000000\" fill-rule=\"evenodd\" fill-opacity=\"1\" /><path clip-path=\"url(#clip100)\" d=\"M 0 0 M111.756 292.898 L116.64 292.898 L116.64 298.778 L111.756 298.778 L111.756 292.898 Z\" fill=\"#000000\" fill-rule=\"evenodd\" fill-opacity=\"1\" /><path clip-path=\"url(#clip100)\" d=\"M 0 0 M131.709 267.297 Q128.098 267.297 126.27 270.861 Q124.464 274.403 124.464 281.533 Q124.464 288.639 126.27 292.204 Q128.098 295.746 131.709 295.746 Q135.344 295.746 137.149 292.204 Q138.978 288.639 138.978 281.533 Q138.978 274.403 137.149 270.861 Q135.344 267.297 131.709 267.297 M131.709 263.593 Q137.519 263.593 140.575 268.199 Q143.654 272.783 143.654 281.533 Q143.654 290.259 140.575 294.866 Q137.519 299.449 131.709 299.449 Q125.899 299.449 122.82 294.866 Q119.765 290.259 119.765 281.533 Q119.765 272.783 122.82 268.199 Q125.899 263.593 131.709 263.593 Z\" fill=\"#000000\" fill-rule=\"evenodd\" fill-opacity=\"1\" /><circle clip-path=\"url(#clip102)\" cx=\"241.157\" cy=\"654.27\" r=\"14\" fill=\"#009af9\" fill-rule=\"evenodd\" fill-opacity=\"1\" stroke=\"#000000\" stroke-opacity=\"1\" stroke-width=\"3.2\"/>\n",
       "<circle clip-path=\"url(#clip102)\" cx=\"349.056\" cy=\"1218.98\" r=\"14\" fill=\"#009af9\" fill-rule=\"evenodd\" fill-opacity=\"1\" stroke=\"#000000\" stroke-opacity=\"1\" stroke-width=\"3.2\"/>\n",
       "<circle clip-path=\"url(#clip102)\" cx=\"456.956\" cy=\"1218.21\" r=\"14\" fill=\"#009af9\" fill-rule=\"evenodd\" fill-opacity=\"1\" stroke=\"#000000\" stroke-opacity=\"1\" stroke-width=\"3.2\"/>\n",
       "<circle clip-path=\"url(#clip102)\" cx=\"564.856\" cy=\"1327.18\" r=\"14\" fill=\"#009af9\" fill-rule=\"evenodd\" fill-opacity=\"1\" stroke=\"#000000\" stroke-opacity=\"1\" stroke-width=\"3.2\"/>\n",
       "<circle clip-path=\"url(#clip102)\" cx=\"672.756\" cy=\"1445.72\" r=\"14\" fill=\"#009af9\" fill-rule=\"evenodd\" fill-opacity=\"1\" stroke=\"#000000\" stroke-opacity=\"1\" stroke-width=\"3.2\"/>\n",
       "<circle clip-path=\"url(#clip102)\" cx=\"780.656\" cy=\"1381.16\" r=\"14\" fill=\"#009af9\" fill-rule=\"evenodd\" fill-opacity=\"1\" stroke=\"#000000\" stroke-opacity=\"1\" stroke-width=\"3.2\"/>\n",
       "<circle clip-path=\"url(#clip102)\" cx=\"888.555\" cy=\"1412.53\" r=\"14\" fill=\"#009af9\" fill-rule=\"evenodd\" fill-opacity=\"1\" stroke=\"#000000\" stroke-opacity=\"1\" stroke-width=\"3.2\"/>\n",
       "<circle clip-path=\"url(#clip102)\" cx=\"996.455\" cy=\"1271.17\" r=\"14\" fill=\"#009af9\" fill-rule=\"evenodd\" fill-opacity=\"1\" stroke=\"#000000\" stroke-opacity=\"1\" stroke-width=\"3.2\"/>\n",
       "<circle clip-path=\"url(#clip102)\" cx=\"1104.36\" cy=\"918.574\" r=\"14\" fill=\"#009af9\" fill-rule=\"evenodd\" fill-opacity=\"1\" stroke=\"#000000\" stroke-opacity=\"1\" stroke-width=\"3.2\"/>\n",
       "<circle clip-path=\"url(#clip102)\" cx=\"1212.25\" cy=\"718.184\" r=\"14\" fill=\"#009af9\" fill-rule=\"evenodd\" fill-opacity=\"1\" stroke=\"#000000\" stroke-opacity=\"1\" stroke-width=\"3.2\"/>\n",
       "<circle clip-path=\"url(#clip102)\" cx=\"1320.15\" cy=\"507.318\" r=\"14\" fill=\"#009af9\" fill-rule=\"evenodd\" fill-opacity=\"1\" stroke=\"#000000\" stroke-opacity=\"1\" stroke-width=\"3.2\"/>\n",
       "<circle clip-path=\"url(#clip102)\" cx=\"1428.05\" cy=\"454.838\" r=\"14\" fill=\"#009af9\" fill-rule=\"evenodd\" fill-opacity=\"1\" stroke=\"#000000\" stroke-opacity=\"1\" stroke-width=\"3.2\"/>\n",
       "<circle clip-path=\"url(#clip102)\" cx=\"1535.95\" cy=\"352.411\" r=\"14\" fill=\"#009af9\" fill-rule=\"evenodd\" fill-opacity=\"1\" stroke=\"#000000\" stroke-opacity=\"1\" stroke-width=\"3.2\"/>\n",
       "<circle clip-path=\"url(#clip102)\" cx=\"1643.85\" cy=\"87.9763\" r=\"14\" fill=\"#009af9\" fill-rule=\"evenodd\" fill-opacity=\"1\" stroke=\"#000000\" stroke-opacity=\"1\" stroke-width=\"3.2\"/>\n",
       "<circle clip-path=\"url(#clip102)\" cx=\"1751.75\" cy=\"210.603\" r=\"14\" fill=\"#009af9\" fill-rule=\"evenodd\" fill-opacity=\"1\" stroke=\"#000000\" stroke-opacity=\"1\" stroke-width=\"3.2\"/>\n",
       "<circle clip-path=\"url(#clip102)\" cx=\"1859.65\" cy=\"100.633\" r=\"14\" fill=\"#009af9\" fill-rule=\"evenodd\" fill-opacity=\"1\" stroke=\"#000000\" stroke-opacity=\"1\" stroke-width=\"3.2\"/>\n",
       "<circle clip-path=\"url(#clip102)\" cx=\"1967.55\" cy=\"668.636\" r=\"14\" fill=\"#009af9\" fill-rule=\"evenodd\" fill-opacity=\"1\" stroke=\"#000000\" stroke-opacity=\"1\" stroke-width=\"3.2\"/>\n",
       "<circle clip-path=\"url(#clip102)\" cx=\"2075.45\" cy=\"273.009\" r=\"14\" fill=\"#009af9\" fill-rule=\"evenodd\" fill-opacity=\"1\" stroke=\"#000000\" stroke-opacity=\"1\" stroke-width=\"3.2\"/>\n",
       "<circle clip-path=\"url(#clip102)\" cx=\"2183.35\" cy=\"388.033\" r=\"14\" fill=\"#009af9\" fill-rule=\"evenodd\" fill-opacity=\"1\" stroke=\"#000000\" stroke-opacity=\"1\" stroke-width=\"3.2\"/>\n",
       "<circle clip-path=\"url(#clip102)\" cx=\"2291.25\" cy=\"1126.77\" r=\"14\" fill=\"#009af9\" fill-rule=\"evenodd\" fill-opacity=\"1\" stroke=\"#000000\" stroke-opacity=\"1\" stroke-width=\"3.2\"/>\n",
       "<polyline clip-path=\"url(#clip102)\" style=\"stroke:#0000ff; stroke-width:4; stroke-opacity:1; fill:none\" stroke-dasharray=\"16, 10\" points=\"\n",
       "  241.157,824.673 246.295,833.227 251.433,841.778 256.571,850.325 261.709,858.865 266.847,867.397 271.985,875.918 277.123,884.427 282.261,892.921 287.399,901.398 \n",
       "  292.537,909.856 297.676,918.293 302.814,926.706 307.952,935.095 313.09,943.456 318.228,951.787 323.366,960.087 328.504,968.353 333.642,976.584 338.78,984.777 \n",
       "  343.918,992.931 349.056,1001.04 354.194,1009.11 359.333,1017.13 364.471,1025.11 369.609,1033.03 374.747,1040.9 379.885,1048.72 385.023,1056.49 390.161,1064.19 \n",
       "  395.299,1071.84 400.437,1079.43 405.575,1086.95 410.713,1094.41 415.851,1101.8 420.99,1109.12 426.128,1116.37 431.266,1123.55 436.404,1130.66 441.542,1137.68 \n",
       "  446.68,1144.64 451.818,1151.51 456.956,1158.3 462.094,1165.01 467.232,1171.63 472.37,1178.17 477.509,1184.62 482.647,1190.98 487.785,1197.25 492.923,1203.43 \n",
       "  498.061,1209.51 503.199,1215.5 508.337,1221.39 513.475,1227.18 518.613,1232.88 523.751,1238.47 528.889,1243.96 534.027,1249.35 539.166,1254.63 544.304,1259.8 \n",
       "  549.442,1264.86 554.58,1269.82 559.718,1274.67 564.856,1279.4 569.994,1284.02 575.132,1288.53 580.27,1292.92 585.408,1297.2 590.546,1301.36 595.685,1305.4 \n",
       "  600.823,1309.32 605.961,1313.13 611.099,1316.81 616.237,1320.37 621.375,1323.8 626.513,1327.11 631.651,1330.3 636.789,1333.36 641.927,1336.3 647.065,1339.11 \n",
       "  652.203,1341.79 657.342,1344.34 662.48,1346.77 667.618,1349.06 672.756,1351.23 677.894,1353.26 683.032,1355.17 688.17,1356.94 693.308,1358.58 698.446,1360.08 \n",
       "  703.584,1361.46 708.722,1362.7 713.861,1363.81 718.999,1364.78 724.137,1365.62 729.275,1366.33 734.413,1366.9 739.551,1367.34 744.689,1367.64 749.827,1367.81 \n",
       "  754.965,1367.84 760.103,1367.74 765.241,1367.51 770.379,1367.14 775.518,1366.63 780.656,1365.99 785.794,1365.22 790.932,1364.31 796.07,1363.27 801.208,1362.1 \n",
       "  806.346,1360.79 811.484,1359.35 816.622,1357.77 821.76,1356.07 826.898,1354.23 832.036,1352.26 837.175,1350.16 842.313,1347.93 847.451,1345.57 852.589,1343.08 \n",
       "  857.727,1340.47 862.865,1337.72 868.003,1334.85 873.141,1331.85 878.279,1328.72 883.417,1325.47 888.555,1322.1 893.694,1318.6 898.832,1314.98 903.97,1311.24 \n",
       "  909.108,1307.38 914.246,1303.4 919.384,1299.3 924.522,1295.08 929.66,1290.74 934.798,1286.29 939.936,1281.73 945.074,1277.05 950.212,1272.26 955.351,1267.36 \n",
       "  960.489,1262.35 965.627,1257.23 970.765,1252 975.903,1246.67 981.041,1241.23 986.179,1235.69 991.317,1230.04 996.455,1224.3 1001.59,1218.46 1006.73,1212.52 \n",
       "  1011.87,1206.48 1017.01,1200.35 1022.15,1194.13 1027.28,1187.81 1032.42,1181.41 1037.56,1174.91 1042.7,1168.33 1047.84,1161.66 1052.97,1154.91 1058.11,1148.08 \n",
       "  1063.25,1141.17 1068.39,1134.18 1073.53,1127.11 1078.66,1119.97 1083.8,1112.75 1088.94,1105.47 1094.08,1098.11 1099.22,1090.69 1104.36,1083.2 1109.49,1075.64 \n",
       "  1114.63,1068.03 1119.77,1060.35 1124.91,1052.61 1130.05,1044.82 1135.18,1036.97 1140.32,1029.08 1145.46,1021.13 1150.6,1013.13 1155.74,1005.08 1160.87,996.992 \n",
       "  1166.01,988.859 1171.15,980.686 1176.29,972.473 1181.43,964.225 1186.56,955.941 1191.7,947.625 1196.84,939.279 1201.98,930.904 1207.12,922.503 1212.25,914.077 \n",
       "  1217.39,905.63 1222.53,897.162 1227.67,888.676 1232.81,880.175 1237.95,871.659 1243.08,863.132 1248.22,854.596 1253.36,846.052 1258.5,837.503 1263.64,828.95 \n",
       "  1268.77,820.397 1273.91,811.844 1279.05,803.295 1284.19,794.751 1289.33,786.215 1294.46,777.688 1299.6,769.172 1304.74,760.671 1309.88,752.185 1315.02,743.717 \n",
       "  1320.15,735.27 1325.29,726.844 1330.43,718.443 1335.57,710.068 1340.71,701.722 1345.85,693.406 1350.98,685.122 1356.12,676.873 1361.26,668.661 1366.4,660.488 \n",
       "  1371.54,652.355 1376.67,644.265 1381.81,636.22 1386.95,628.221 1392.09,620.271 1397.23,612.372 1402.36,604.526 1407.5,596.734 1412.64,588.998 1417.78,581.321 \n",
       "  1422.92,573.705 1428.05,566.15 1433.19,558.66 1438.33,551.236 1443.47,543.879 1448.61,536.592 1453.74,529.377 1458.88,522.235 1464.02,515.168 1469.16,508.177 \n",
       "  1474.3,501.265 1479.44,494.433 1484.57,487.684 1489.71,481.017 1494.85,474.436 1499.99,467.942 1505.13,461.536 1510.26,455.22 1515.4,448.996 1520.54,442.865 \n",
       "  1525.68,436.829 1530.82,430.889 1535.95,425.046 1541.09,419.303 1546.23,413.66 1551.37,408.119 1556.51,402.681 1561.64,397.348 1566.78,392.121 1571.92,387.002 \n",
       "  1577.06,381.99 1582.2,377.089 1587.34,372.298 1592.47,367.62 1597.61,363.055 1602.75,358.605 1607.89,354.27 1613.03,350.051 1618.16,345.951 1623.3,341.969 \n",
       "  1628.44,338.107 1633.58,334.365 1638.72,330.745 1643.85,327.248 1648.99,323.874 1654.13,320.624 1659.27,317.499 1664.41,314.5 1669.54,311.627 1674.68,308.882 \n",
       "  1679.82,306.264 1684.96,303.775 1690.1,301.415 1695.23,299.185 1700.37,297.085 1705.51,295.116 1710.65,293.279 1715.79,291.573 1720.93,289.999 1726.06,288.558 \n",
       "  1731.2,287.25 1736.34,286.075 1741.48,285.034 1746.62,284.127 1751.75,283.353 1756.89,282.714 1762.03,282.209 1767.17,281.839 1772.31,281.603 1777.44,281.502 \n",
       "  1782.58,281.536 1787.72,281.704 1792.86,282.007 1798,282.445 1803.13,283.017 1808.27,283.723 1813.41,284.564 1818.55,285.538 1823.69,286.646 1828.83,287.888 \n",
       "  1833.96,289.262 1839.1,290.77 1844.24,292.409 1849.38,294.181 1854.52,296.085 1859.65,298.119 1864.79,300.284 1869.93,302.579 1875.07,305.003 1880.21,307.557 \n",
       "  1885.34,310.238 1890.48,313.047 1895.62,315.983 1900.76,319.046 1905.9,322.233 1911.03,325.545 1916.17,328.981 1921.31,332.54 1926.45,336.221 1931.59,340.023 \n",
       "  1936.73,343.945 1941.86,347.986 1947,352.146 1952.14,356.423 1957.28,360.815 1962.42,365.323 1967.55,369.945 1972.69,374.68 1977.83,379.526 1982.97,384.482 \n",
       "  1988.11,389.548 1993.24,394.722 1998.38,400.002 2003.52,405.387 2008.66,410.877 2013.8,416.469 2018.93,422.162 2024.07,427.955 2029.21,433.847 2034.35,439.835 \n",
       "  2039.49,445.919 2044.62,452.097 2049.76,458.367 2054.9,464.728 2060.04,471.178 2065.18,477.716 2070.32,484.34 2075.45,491.048 2080.59,497.839 2085.73,504.711 \n",
       "  2090.87,511.663 2096.01,518.692 2101.14,525.797 2106.28,532.976 2111.42,540.227 2116.56,547.549 2121.7,554.94 2126.83,562.397 2131.97,569.92 2137.11,577.505 \n",
       "  2142.25,585.152 2147.39,592.859 2152.52,600.623 2157.66,608.442 2162.8,616.315 2167.94,624.24 2173.08,632.215 2178.22,640.237 2183.35,648.305 2188.49,656.416 \n",
       "  2193.63,664.57 2198.77,672.763 2203.91,680.993 2209.04,689.26 2214.18,697.56 2219.32,705.891 2224.46,714.252 2229.6,722.64 2234.73,731.054 2239.87,739.491 \n",
       "  2245.01,747.949 2250.15,756.426 2255.29,764.92 2260.42,773.428 2265.56,781.95 2270.7,790.482 2275.84,799.022 2280.98,807.569 2286.11,816.12 2291.25,824.673 \n",
       "  \n",
       "  \"/>\n",
       "<polyline clip-path=\"url(#clip102)\" style=\"stroke:#ff0000; stroke-width:8; stroke-opacity:1; fill:none\" points=\"\n",
       "  241.157,750.991 246.295,768.589 251.433,785.916 256.571,802.973 261.709,819.761 266.847,836.281 271.985,852.536 277.123,868.527 282.261,884.254 287.399,899.72 \n",
       "  292.537,914.925 297.676,929.872 302.814,944.562 307.952,958.995 313.09,973.174 318.228,987.1 323.366,1000.77 328.504,1014.2 333.642,1027.37 338.78,1040.3 \n",
       "  343.918,1052.98 349.056,1065.42 354.194,1077.61 359.333,1089.56 364.471,1101.27 369.609,1112.75 374.747,1123.98 379.885,1134.98 385.023,1145.74 390.161,1156.27 \n",
       "  395.299,1166.57 400.437,1176.64 405.575,1186.47 410.713,1196.08 415.851,1205.47 420.99,1214.63 426.128,1223.56 431.266,1232.28 436.404,1240.77 441.542,1249.04 \n",
       "  446.68,1257.1 451.818,1264.94 456.956,1272.56 462.094,1279.97 467.232,1287.17 472.37,1294.16 477.509,1300.93 482.647,1307.5 487.785,1313.87 492.923,1320.02 \n",
       "  498.061,1325.98 503.199,1331.73 508.337,1337.28 513.475,1342.63 518.613,1347.79 523.751,1352.74 528.889,1357.5 534.027,1362.07 539.166,1366.45 544.304,1370.63 \n",
       "  549.442,1374.62 554.58,1378.43 559.718,1382.05 564.856,1385.48 569.994,1388.73 575.132,1391.8 580.27,1394.68 585.408,1397.39 590.546,1399.91 595.685,1402.26 \n",
       "  600.823,1404.44 605.961,1406.44 611.099,1408.27 616.237,1409.92 621.375,1411.41 626.513,1412.73 631.651,1413.88 636.789,1414.86 641.927,1415.68 647.065,1416.34 \n",
       "  652.203,1416.84 657.342,1417.17 662.48,1417.35 667.618,1417.37 672.756,1417.24 677.894,1416.95 683.032,1416.5 688.17,1415.91 693.308,1415.17 698.446,1414.27 \n",
       "  703.584,1413.23 708.722,1412.04 713.861,1410.71 718.999,1409.24 724.137,1407.62 729.275,1405.87 734.413,1403.97 739.551,1401.94 744.689,1399.77 749.827,1397.46 \n",
       "  754.965,1395.03 760.103,1392.46 765.241,1389.76 770.379,1386.93 775.518,1383.97 780.656,1380.89 785.794,1377.69 790.932,1374.36 796.07,1370.9 801.208,1367.33 \n",
       "  806.346,1363.64 811.484,1359.83 816.622,1355.9 821.76,1351.86 826.898,1347.71 832.036,1343.44 837.175,1339.06 842.313,1334.57 847.451,1329.98 852.589,1325.28 \n",
       "  857.727,1320.47 862.865,1315.56 868.003,1310.55 873.141,1305.44 878.279,1300.22 883.417,1294.91 888.555,1289.51 893.694,1284 898.832,1278.41 903.97,1272.72 \n",
       "  909.108,1266.94 914.246,1261.07 919.384,1255.11 924.522,1249.07 929.66,1242.94 934.798,1236.73 939.936,1230.43 945.074,1224.06 950.212,1217.6 955.351,1211.07 \n",
       "  960.489,1204.45 965.627,1197.77 970.765,1191.01 975.903,1184.17 981.041,1177.27 986.179,1170.29 991.317,1163.25 996.455,1156.14 1001.59,1148.97 1006.73,1141.73 \n",
       "  1011.87,1134.42 1017.01,1127.06 1022.15,1119.64 1027.28,1112.15 1032.42,1104.61 1037.56,1097.02 1042.7,1089.37 1047.84,1081.67 1052.97,1073.91 1058.11,1066.11 \n",
       "  1063.25,1058.26 1068.39,1050.36 1073.53,1042.41 1078.66,1034.42 1083.8,1026.39 1088.94,1018.31 1094.08,1010.2 1099.22,1002.05 1104.36,993.854 1109.49,985.627 \n",
       "  1114.63,977.366 1119.77,969.071 1124.91,960.745 1130.05,952.388 1135.18,944.003 1140.32,935.59 1145.46,927.151 1150.6,918.687 1155.74,910.2 1160.87,901.691 \n",
       "  1166.01,893.161 1171.15,884.613 1176.29,876.047 1181.43,867.464 1186.56,858.867 1191.7,850.257 1196.84,841.634 1201.98,833.001 1207.12,824.359 1212.25,815.709 \n",
       "  1217.39,807.053 1222.53,798.391 1227.67,789.726 1232.81,781.059 1237.95,772.392 1243.08,763.725 1248.22,755.06 1253.36,746.399 1258.5,737.743 1263.64,729.093 \n",
       "  1268.77,720.45 1273.91,711.817 1279.05,703.195 1284.19,694.584 1289.33,685.987 1294.46,677.405 1299.6,668.839 1304.74,660.29 1309.88,651.761 1315.02,643.252 \n",
       "  1320.15,634.765 1325.29,626.301 1330.43,617.862 1335.57,609.449 1340.71,601.063 1345.85,592.706 1350.98,584.38 1356.12,576.085 1361.26,567.824 1366.4,559.597 \n",
       "  1371.54,551.406 1376.67,543.253 1381.81,535.138 1386.95,527.063 1392.09,519.03 1397.23,511.04 1402.36,503.095 1407.5,495.195 1412.64,487.342 1417.78,479.539 \n",
       "  1422.92,471.785 1428.05,464.083 1433.19,456.433 1438.33,448.838 1443.47,441.299 1448.61,433.816 1453.74,426.393 1458.88,419.029 1464.02,411.726 1469.16,404.487 \n",
       "  1474.3,397.311 1479.44,390.201 1484.57,383.158 1489.71,376.184 1494.85,369.279 1499.99,362.445 1505.13,355.684 1510.26,348.998 1515.4,342.386 1520.54,335.852 \n",
       "  1525.68,329.395 1530.82,323.019 1535.95,316.723 1541.09,310.51 1546.23,304.381 1551.37,298.337 1556.51,292.38 1561.64,286.511 1566.78,280.732 1571.92,275.044 \n",
       "  1577.06,269.448 1582.2,263.945 1587.34,258.538 1592.47,253.228 1597.61,248.015 1602.75,242.902 1607.89,237.89 1613.03,232.98 1618.16,228.174 1623.3,223.473 \n",
       "  1628.44,218.878 1633.58,214.391 1638.72,210.014 1643.85,205.747 1648.99,201.592 1654.13,197.551 1659.27,193.625 1664.41,189.815 1669.54,186.123 1674.68,182.55 \n",
       "  1679.82,179.098 1684.96,175.767 1690.1,172.56 1695.23,169.478 1700.37,166.522 1705.51,163.694 1710.65,160.994 1715.79,158.426 1720.93,155.989 1726.06,153.685 \n",
       "  1731.2,151.516 1736.34,149.483 1741.48,147.587 1746.62,145.831 1751.75,144.215 1756.89,142.74 1762.03,141.409 1767.17,140.222 1772.31,139.181 1777.44,138.288 \n",
       "  1782.58,137.543 1787.72,136.949 1792.86,136.506 1798,136.216 1803.13,136.081 1808.27,136.101 1813.41,136.279 1818.55,136.615 1823.69,137.112 1828.83,137.77 \n",
       "  1833.96,138.591 1839.1,139.576 1844.24,140.726 1849.38,142.044 1854.52,143.531 1859.65,145.187 1864.79,147.015 1869.93,149.015 1875.07,151.19 1880.21,153.54 \n",
       "  1885.34,156.067 1890.48,158.773 1895.62,161.659 1900.76,164.725 1905.9,167.974 1911.03,171.408 1916.17,175.027 1921.31,178.832 1926.45,182.826 1931.59,187.01 \n",
       "  1936.73,191.385 1941.86,195.952 1947,200.713 1952.14,205.669 1957.28,210.822 1962.42,216.174 1967.55,221.725 1972.69,227.477 1977.83,233.431 1982.97,239.589 \n",
       "  1988.11,245.952 1993.24,252.522 1998.38,259.3 2003.52,266.287 2008.66,273.485 2013.8,280.895 2018.93,288.519 2024.07,296.358 2029.21,304.414 2034.35,312.687 \n",
       "  2039.49,321.18 2044.62,329.894 2049.76,338.829 2054.9,347.988 2060.04,357.372 2065.18,366.983 2070.32,376.821 2075.45,386.888 2080.59,397.186 2085.73,407.716 \n",
       "  2090.87,418.479 2096.01,429.477 2101.14,440.712 2106.28,452.184 2111.42,463.895 2116.56,475.846 2121.7,488.039 2126.83,500.476 2131.97,513.157 2137.11,526.085 \n",
       "  2142.25,539.26 2147.39,552.683 2152.52,566.357 2157.66,580.283 2162.8,594.462 2167.94,608.896 2173.08,623.585 2178.22,638.532 2183.35,653.738 2188.49,669.204 \n",
       "  2193.63,684.931 2198.77,700.922 2203.91,717.177 2209.04,733.698 2214.18,750.486 2219.32,767.542 2224.46,784.869 2229.6,802.467 2234.73,820.339 2239.87,838.484 \n",
       "  2245.01,856.905 2250.15,875.603 2255.29,894.58 2260.42,913.837 2265.56,933.375 2270.7,953.196 2275.84,973.301 2280.98,993.691 2286.11,1014.37 2291.25,1035.34 \n",
       "  \n",
       "  \"/>\n",
       "<path clip-path=\"url(#clip100)\" d=\"\n",
       "M252.09 337.138 L923.174 337.138 L923.174 95.2176 L252.09 95.2176  Z\n",
       "  \" fill=\"#ffffff\" fill-rule=\"evenodd\" fill-opacity=\"1\"/>\n",
       "<polyline clip-path=\"url(#clip100)\" style=\"stroke:#000000; stroke-width:4; stroke-opacity:1; fill:none\" points=\"\n",
       "  252.09,337.138 923.174,337.138 923.174,95.2176 252.09,95.2176 252.09,337.138 \n",
       "  \"/>\n",
       "<circle clip-path=\"url(#clip100)\" cx=\"348.673\" cy=\"155.698\" r=\"23\" fill=\"#009af9\" fill-rule=\"evenodd\" fill-opacity=\"1\" stroke=\"#000000\" stroke-opacity=\"1\" stroke-width=\"5.12\"/>\n",
       "<path clip-path=\"url(#clip100)\" d=\"M 0 0 M463.681 147.816 L463.681 151.843 Q461.875 150.917 459.931 150.455 Q457.986 149.992 455.903 149.992 Q452.732 149.992 451.135 150.964 Q449.561 151.936 449.561 153.88 Q449.561 155.362 450.695 156.218 Q451.829 157.052 455.255 157.816 L456.713 158.14 Q461.25 159.112 463.148 160.894 Q465.07 162.654 465.07 165.825 Q465.07 169.436 462.199 171.542 Q459.352 173.649 454.352 173.649 Q452.269 173.649 450 173.232 Q447.755 172.839 445.255 172.028 L445.255 167.63 Q447.616 168.857 449.908 169.482 Q452.199 170.084 454.445 170.084 Q457.454 170.084 459.074 169.066 Q460.695 168.024 460.695 166.149 Q460.695 164.413 459.514 163.487 Q458.357 162.561 454.399 161.704 L452.917 161.357 Q448.959 160.524 447.199 158.811 Q445.44 157.075 445.44 154.066 Q445.44 150.408 448.033 148.418 Q450.625 146.427 455.394 146.427 Q457.755 146.427 459.838 146.774 Q461.922 147.121 463.681 147.816 Z\" fill=\"#000000\" fill-rule=\"evenodd\" fill-opacity=\"1\" /><path clip-path=\"url(#clip100)\" d=\"M 0 0 M481.32 159.945 Q476.158 159.945 474.167 161.126 Q472.176 162.306 472.176 165.154 Q472.176 167.422 473.658 168.765 Q475.162 170.084 477.732 170.084 Q481.273 170.084 483.403 167.584 Q485.556 165.061 485.556 160.894 L485.556 159.945 L481.32 159.945 M489.815 158.186 L489.815 172.978 L485.556 172.978 L485.556 169.042 Q484.097 171.403 481.922 172.538 Q479.746 173.649 476.597 173.649 Q472.616 173.649 470.255 171.427 Q467.917 169.181 467.917 165.431 Q467.917 161.056 470.834 158.834 Q473.773 156.612 479.584 156.612 L485.556 156.612 L485.556 156.195 Q485.556 153.255 483.611 151.658 Q481.69 150.038 478.195 150.038 Q475.972 150.038 473.866 150.57 Q471.76 151.103 469.815 152.167 L469.815 148.232 Q472.153 147.33 474.352 146.89 Q476.551 146.427 478.635 146.427 Q484.259 146.427 487.037 149.343 Q489.815 152.26 489.815 158.186 Z\" fill=\"#000000\" fill-rule=\"evenodd\" fill-opacity=\"1\" /><path clip-path=\"url(#clip100)\" d=\"M 0 0 M514.468 152.029 Q516.065 149.158 518.287 147.793 Q520.509 146.427 523.519 146.427 Q527.569 146.427 529.768 149.274 Q531.968 152.098 531.968 157.329 L531.968 172.978 L527.685 172.978 L527.685 157.468 Q527.685 153.742 526.366 151.936 Q525.046 150.13 522.338 150.13 Q519.028 150.13 517.107 152.33 Q515.185 154.529 515.185 158.325 L515.185 172.978 L510.903 172.978 L510.903 157.468 Q510.903 153.718 509.583 151.936 Q508.264 150.13 505.509 150.13 Q502.245 150.13 500.324 152.353 Q498.403 154.552 498.403 158.325 L498.403 172.978 L494.121 172.978 L494.121 147.052 L498.403 147.052 L498.403 151.08 Q499.861 148.695 501.898 147.561 Q503.935 146.427 506.736 146.427 Q509.56 146.427 511.528 147.862 Q513.519 149.297 514.468 152.029 Z\" fill=\"#000000\" fill-rule=\"evenodd\" fill-opacity=\"1\" /><path clip-path=\"url(#clip100)\" d=\"M 0 0 M540.555 169.089 L540.555 182.839 L536.273 182.839 L536.273 147.052 L540.555 147.052 L540.555 150.987 Q541.898 148.672 543.935 147.561 Q545.995 146.427 548.842 146.427 Q553.565 146.427 556.504 150.177 Q559.467 153.927 559.467 160.038 Q559.467 166.149 556.504 169.899 Q553.565 173.649 548.842 173.649 Q545.995 173.649 543.935 172.538 Q541.898 171.403 540.555 169.089 M555.046 160.038 Q555.046 155.339 553.102 152.677 Q551.18 149.992 547.801 149.992 Q544.421 149.992 542.477 152.677 Q540.555 155.339 540.555 160.038 Q540.555 164.737 542.477 167.422 Q544.421 170.084 547.801 170.084 Q551.18 170.084 553.102 167.422 Q555.046 164.737 555.046 160.038 Z\" fill=\"#000000\" fill-rule=\"evenodd\" fill-opacity=\"1\" /><path clip-path=\"url(#clip100)\" d=\"M 0 0 M563.935 136.959 L568.194 136.959 L568.194 172.978 L563.935 172.978 L563.935 136.959 Z\" fill=\"#000000\" fill-rule=\"evenodd\" fill-opacity=\"1\" /><path clip-path=\"url(#clip100)\" d=\"M 0 0 M594.838 158.95 L594.838 161.033 L575.254 161.033 Q575.532 165.431 577.893 167.746 Q580.277 170.038 584.514 170.038 Q586.967 170.038 589.259 169.436 Q591.574 168.834 593.842 167.63 L593.842 171.658 Q591.551 172.63 589.143 173.14 Q586.736 173.649 584.259 173.649 Q578.055 173.649 574.421 170.038 Q570.81 166.427 570.81 160.269 Q570.81 153.904 574.236 150.177 Q577.685 146.427 583.518 146.427 Q588.75 146.427 591.782 149.806 Q594.838 153.163 594.838 158.95 M590.578 157.7 Q590.532 154.205 588.611 152.121 Q586.713 150.038 583.564 150.038 Q580 150.038 577.847 152.052 Q575.717 154.066 575.393 157.723 L590.578 157.7 Z\" fill=\"#000000\" fill-rule=\"evenodd\" fill-opacity=\"1\" /><polyline clip-path=\"url(#clip100)\" style=\"stroke:#0000ff; stroke-width:4; stroke-opacity:1; fill:none\" stroke-dasharray=\"16, 10\" points=\"\n",
       "  276.236,216.178 421.109,216.178 \n",
       "  \"/>\n",
       "<path clip-path=\"url(#clip100)\" d=\"M 0 0 M463.681 208.296 L463.681 212.323 Q461.875 211.397 459.931 210.935 Q457.986 210.472 455.903 210.472 Q452.732 210.472 451.135 211.444 Q449.561 212.416 449.561 214.36 Q449.561 215.842 450.695 216.698 Q451.829 217.532 455.255 218.296 L456.713 218.62 Q461.25 219.592 463.148 221.374 Q465.07 223.134 465.07 226.305 Q465.07 229.916 462.199 232.022 Q459.352 234.129 454.352 234.129 Q452.269 234.129 450 233.712 Q447.755 233.319 445.255 232.508 L445.255 228.11 Q447.616 229.337 449.908 229.962 Q452.199 230.564 454.445 230.564 Q457.454 230.564 459.074 229.546 Q460.695 228.504 460.695 226.629 Q460.695 224.893 459.514 223.967 Q458.357 223.041 454.399 222.184 L452.917 221.837 Q448.959 221.004 447.199 219.291 Q445.44 217.555 445.44 214.546 Q445.44 210.888 448.033 208.898 Q450.625 206.907 455.394 206.907 Q457.755 206.907 459.838 207.254 Q461.922 207.601 463.681 208.296 Z\" fill=\"#000000\" fill-rule=\"evenodd\" fill-opacity=\"1\" /><path clip-path=\"url(#clip100)\" d=\"M 0 0 M469.537 207.532 L473.797 207.532 L473.797 233.458 L469.537 233.458 L469.537 207.532 M469.537 197.439 L473.797 197.439 L473.797 202.833 L469.537 202.833 L469.537 197.439 Z\" fill=\"#000000\" fill-rule=\"evenodd\" fill-opacity=\"1\" /><path clip-path=\"url(#clip100)\" d=\"M 0 0 M499.815 217.809 L499.815 233.458 L495.556 233.458 L495.556 217.948 Q495.556 214.268 494.121 212.439 Q492.685 210.61 489.815 210.61 Q486.366 210.61 484.375 212.81 Q482.384 215.009 482.384 218.805 L482.384 233.458 L478.102 233.458 L478.102 207.532 L482.384 207.532 L482.384 211.56 Q483.912 209.222 485.972 208.064 Q488.056 206.907 490.764 206.907 Q495.232 206.907 497.523 209.685 Q499.815 212.439 499.815 217.809 Z\" fill=\"#000000\" fill-rule=\"evenodd\" fill-opacity=\"1\" /><path clip-path=\"url(#clip100)\" d=\"M 0 0 M514.514 197.486 Q511.412 202.81 509.907 208.018 Q508.403 213.226 508.403 218.573 Q508.403 223.921 509.907 229.175 Q511.435 234.407 514.514 239.708 L510.81 239.708 Q507.338 234.268 505.602 229.013 Q503.889 223.759 503.889 218.573 Q503.889 213.411 505.602 208.18 Q507.315 202.948 510.81 197.486 L514.514 197.486 Z\" fill=\"#000000\" fill-rule=\"evenodd\" fill-opacity=\"1\" /><path clip-path=\"url(#clip100)\" d=\"M 0 0 M540.532 207.532 L531.157 220.147 L541.018 233.458 L535.995 233.458 L528.449 223.272 L520.903 233.458 L515.88 233.458 L525.949 219.893 L516.736 207.532 L521.759 207.532 L528.634 216.768 L535.509 207.532 L540.532 207.532 Z\" fill=\"#000000\" fill-rule=\"evenodd\" fill-opacity=\"1\" /><path clip-path=\"url(#clip100)\" d=\"M 0 0 M544.815 197.486 L548.518 197.486 Q551.991 202.948 553.704 208.18 Q555.44 213.411 555.44 218.573 Q555.44 223.759 553.704 229.013 Q551.991 234.268 548.518 239.708 L544.815 239.708 Q547.893 234.407 549.398 229.175 Q550.926 223.921 550.926 218.573 Q550.926 213.226 549.398 208.018 Q547.893 202.81 544.815 197.486 Z\" fill=\"#000000\" fill-rule=\"evenodd\" fill-opacity=\"1\" /><polyline clip-path=\"url(#clip100)\" style=\"stroke:#ff0000; stroke-width:4; stroke-opacity:1; fill:none\" points=\"\n",
       "  276.236,276.658 421.109,276.658 \n",
       "  \"/>\n",
       "<path clip-path=\"url(#clip100)\" d=\"M 0 0 M464.167 271.947 L464.167 257.919 L468.426 257.919 L468.426 293.938 L464.167 293.938 L464.167 290.049 Q462.824 292.363 460.764 293.498 Q458.727 294.609 455.857 294.609 Q451.158 294.609 448.195 290.859 Q445.255 287.109 445.255 280.998 Q445.255 274.887 448.195 271.137 Q451.158 267.387 455.857 267.387 Q458.727 267.387 460.764 268.521 Q462.824 269.632 464.167 271.947 M449.653 280.998 Q449.653 285.697 451.574 288.382 Q453.519 291.044 456.899 291.044 Q460.278 291.044 462.223 288.382 Q464.167 285.697 464.167 280.998 Q464.167 276.299 462.223 273.637 Q460.278 270.952 456.899 270.952 Q453.519 270.952 451.574 273.637 Q449.653 276.299 449.653 280.998 Z\" fill=\"#000000\" fill-rule=\"evenodd\" fill-opacity=\"1\" /><path clip-path=\"url(#clip100)\" d=\"M 0 0 M495.07 279.91 L495.07 281.993 L475.486 281.993 Q475.764 286.391 478.125 288.706 Q480.509 290.998 484.746 290.998 Q487.199 290.998 489.491 290.396 Q491.806 289.794 494.074 288.59 L494.074 292.618 Q491.783 293.59 489.375 294.1 Q486.968 294.609 484.491 294.609 Q478.287 294.609 474.653 290.998 Q471.042 287.387 471.042 281.229 Q471.042 274.864 474.468 271.137 Q477.917 267.387 483.75 267.387 Q488.982 267.387 492.014 270.766 Q495.07 274.123 495.07 279.91 M490.81 278.66 Q490.764 275.165 488.843 273.081 Q486.945 270.998 483.797 270.998 Q480.232 270.998 478.079 273.012 Q475.949 275.026 475.625 278.683 L490.81 278.66 Z\" fill=\"#000000\" fill-rule=\"evenodd\" fill-opacity=\"1\" /><path clip-path=\"url(#clip100)\" d=\"M 0 0 M516.597 280.674 Q516.597 276.044 514.676 273.498 Q512.778 270.952 509.329 270.952 Q505.903 270.952 503.982 273.498 Q502.083 276.044 502.083 280.674 Q502.083 285.28 503.982 287.826 Q505.903 290.373 509.329 290.373 Q512.778 290.373 514.676 287.826 Q516.597 285.28 516.597 280.674 M520.856 290.72 Q520.856 297.34 517.917 300.558 Q514.977 303.799 508.912 303.799 Q506.667 303.799 504.676 303.451 Q502.685 303.127 500.81 302.433 L500.81 298.289 Q502.685 299.308 504.514 299.794 Q506.343 300.28 508.241 300.28 Q512.431 300.28 514.514 298.081 Q516.597 295.905 516.597 291.484 L516.597 289.377 Q515.278 291.669 513.218 292.803 Q511.157 293.938 508.287 293.938 Q503.519 293.938 500.602 290.303 Q497.685 286.669 497.685 280.674 Q497.685 274.655 500.602 271.021 Q503.519 267.387 508.287 267.387 Q511.157 267.387 513.218 268.521 Q515.278 269.655 516.597 271.947 L516.597 268.012 L520.856 268.012 L520.856 290.72 Z\" fill=\"#000000\" fill-rule=\"evenodd\" fill-opacity=\"1\" /><path clip-path=\"url(#clip100)\" d=\"M 0 0 M540.347 271.993 Q539.63 271.577 538.773 271.391 Q537.94 271.183 536.921 271.183 Q533.31 271.183 531.366 273.544 Q529.444 275.882 529.444 280.28 L529.444 293.938 L525.162 293.938 L525.162 268.012 L529.444 268.012 L529.444 272.04 Q530.787 269.678 532.94 268.544 Q535.093 267.387 538.171 267.387 Q538.611 267.387 539.143 267.456 Q539.676 267.503 540.324 267.618 L540.347 271.993 Z\" fill=\"#000000\" fill-rule=\"evenodd\" fill-opacity=\"1\" /><path clip-path=\"url(#clip100)\" d=\"M 0 0 M565.949 279.91 L565.949 281.993 L546.366 281.993 Q546.643 286.391 549.004 288.706 Q551.389 290.998 555.625 290.998 Q558.079 290.998 560.37 290.396 Q562.685 289.794 564.953 288.59 L564.953 292.618 Q562.662 293.59 560.254 294.1 Q557.847 294.609 555.37 294.609 Q549.167 294.609 545.532 290.998 Q541.921 287.387 541.921 281.229 Q541.921 274.864 545.347 271.137 Q548.796 267.387 554.629 267.387 Q559.861 267.387 562.893 270.766 Q565.949 274.123 565.949 279.91 M561.69 278.66 Q561.643 275.165 559.722 273.081 Q557.824 270.998 554.676 270.998 Q551.111 270.998 548.958 273.012 Q546.829 275.026 546.505 278.683 L561.69 278.66 Z\" fill=\"#000000\" fill-rule=\"evenodd\" fill-opacity=\"1\" /><path clip-path=\"url(#clip100)\" d=\"M 0 0 M592.592 279.91 L592.592 281.993 L573.009 281.993 Q573.287 286.391 575.648 288.706 Q578.032 290.998 582.268 290.998 Q584.722 290.998 587.014 290.396 Q589.328 289.794 591.597 288.59 L591.597 292.618 Q589.305 293.59 586.898 294.1 Q584.49 294.609 582.014 294.609 Q575.81 294.609 572.176 290.998 Q568.565 287.387 568.565 281.229 Q568.565 274.864 571.99 271.137 Q575.44 267.387 581.273 267.387 Q586.504 267.387 589.537 270.766 Q592.592 274.123 592.592 279.91 M588.333 278.66 Q588.287 275.165 586.365 273.081 Q584.467 270.998 581.319 270.998 Q577.754 270.998 575.602 273.012 Q573.472 275.026 573.148 278.683 L588.333 278.66 Z\" fill=\"#000000\" fill-rule=\"evenodd\" fill-opacity=\"1\" /><path clip-path=\"url(#clip100)\" d=\"M 0 0 M594.907 279.053 L607.384 279.053 L607.384 282.85 L594.907 282.85 L594.907 279.053 Z\" fill=\"#000000\" fill-rule=\"evenodd\" fill-opacity=\"1\" /><path clip-path=\"url(#clip100)\" d=\"M 0 0 M626.62 275.303 Q629.976 276.021 631.851 278.289 Q633.749 280.558 633.749 283.891 Q633.749 289.007 630.231 291.808 Q626.712 294.609 620.231 294.609 Q618.055 294.609 615.74 294.169 Q613.449 293.752 610.995 292.896 L610.995 288.382 Q612.939 289.516 615.254 290.095 Q617.569 290.674 620.092 290.674 Q624.49 290.674 626.782 288.938 Q629.097 287.201 629.097 283.891 Q629.097 280.836 626.944 279.123 Q624.814 277.387 620.995 277.387 L616.967 277.387 L616.967 273.544 L621.18 273.544 Q624.629 273.544 626.458 272.178 Q628.286 270.79 628.286 268.197 Q628.286 265.535 626.388 264.123 Q624.513 262.688 620.995 262.688 Q619.074 262.688 616.875 263.104 Q614.675 263.521 612.037 264.401 L612.037 260.234 Q614.699 259.493 617.013 259.123 Q619.351 258.753 621.412 258.753 Q626.736 258.753 629.837 261.183 Q632.939 263.59 632.939 267.711 Q632.939 270.581 631.296 272.572 Q629.652 274.54 626.62 275.303 Z\" fill=\"#000000\" fill-rule=\"evenodd\" fill-opacity=\"1\" /><path clip-path=\"url(#clip100)\" d=\"M 0 0 M657.407 290.049 L657.407 303.799 L653.124 303.799 L653.124 268.012 L657.407 268.012 L657.407 271.947 Q658.749 269.632 660.786 268.521 Q662.846 267.387 665.694 267.387 Q670.416 267.387 673.356 271.137 Q676.319 274.887 676.319 280.998 Q676.319 287.109 673.356 290.859 Q670.416 294.609 665.694 294.609 Q662.846 294.609 660.786 293.498 Q658.749 292.363 657.407 290.049 M671.897 280.998 Q671.897 276.299 669.953 273.637 Q668.032 270.952 664.652 270.952 Q661.272 270.952 659.328 273.637 Q657.407 276.299 657.407 280.998 Q657.407 285.697 659.328 288.382 Q661.272 291.044 664.652 291.044 Q668.032 291.044 669.953 288.382 Q671.897 285.697 671.897 280.998 Z\" fill=\"#000000\" fill-rule=\"evenodd\" fill-opacity=\"1\" /><path clip-path=\"url(#clip100)\" d=\"M 0 0 M690.832 270.998 Q687.407 270.998 685.416 273.683 Q683.425 276.345 683.425 280.998 Q683.425 285.651 685.393 288.336 Q687.383 290.998 690.832 290.998 Q694.235 290.998 696.226 288.313 Q698.217 285.627 698.217 280.998 Q698.217 276.391 696.226 273.706 Q694.235 270.998 690.832 270.998 M690.832 267.387 Q696.388 267.387 699.559 270.998 Q702.731 274.609 702.731 280.998 Q702.731 287.364 699.559 290.998 Q696.388 294.609 690.832 294.609 Q685.254 294.609 682.082 290.998 Q678.934 287.364 678.934 280.998 Q678.934 274.609 682.082 270.998 Q685.254 267.387 690.832 267.387 Z\" fill=\"#000000\" fill-rule=\"evenodd\" fill-opacity=\"1\" /><path clip-path=\"url(#clip100)\" d=\"M 0 0 M707.198 257.919 L711.457 257.919 L711.457 293.938 L707.198 293.938 L707.198 257.919 Z\" fill=\"#000000\" fill-rule=\"evenodd\" fill-opacity=\"1\" /><path clip-path=\"url(#clip100)\" d=\"M 0 0 M726.712 296.345 Q724.906 300.975 723.193 302.387 Q721.48 303.799 718.61 303.799 L715.207 303.799 L715.207 300.234 L717.707 300.234 Q719.467 300.234 720.439 299.4 Q721.411 298.567 722.592 295.465 L723.355 293.521 L712.869 268.012 L717.383 268.012 L725.485 288.289 L733.587 268.012 L738.101 268.012 L726.712 296.345 Z\" fill=\"#000000\" fill-rule=\"evenodd\" fill-opacity=\"1\" /><path clip-path=\"url(#clip100)\" d=\"M 0 0 M764.119 278.289 L764.119 293.938 L759.86 293.938 L759.86 278.428 Q759.86 274.748 758.425 272.919 Q756.989 271.09 754.119 271.09 Q750.67 271.09 748.679 273.29 Q746.689 275.489 746.689 279.285 L746.689 293.938 L742.406 293.938 L742.406 268.012 L746.689 268.012 L746.689 272.04 Q748.216 269.702 750.277 268.544 Q752.36 267.387 755.068 267.387 Q759.536 267.387 761.827 270.165 Q764.119 272.919 764.119 278.289 Z\" fill=\"#000000\" fill-rule=\"evenodd\" fill-opacity=\"1\" /><path clip-path=\"url(#clip100)\" d=\"M 0 0 M778.633 270.998 Q775.207 270.998 773.216 273.683 Q771.226 276.345 771.226 280.998 Q771.226 285.651 773.193 288.336 Q775.184 290.998 778.633 290.998 Q782.036 290.998 784.026 288.313 Q786.017 285.627 786.017 280.998 Q786.017 276.391 784.026 273.706 Q782.036 270.998 778.633 270.998 M778.633 267.387 Q784.188 267.387 787.36 270.998 Q790.531 274.609 790.531 280.998 Q790.531 287.364 787.36 290.998 Q784.188 294.609 778.633 294.609 Q773.054 294.609 769.883 290.998 Q766.735 287.364 766.735 280.998 Q766.735 274.609 769.883 270.998 Q773.054 267.387 778.633 267.387 Z\" fill=\"#000000\" fill-rule=\"evenodd\" fill-opacity=\"1\" /><path clip-path=\"url(#clip100)\" d=\"M 0 0 M815.184 272.989 Q816.781 270.118 819.003 268.753 Q821.225 267.387 824.235 267.387 Q828.285 267.387 830.484 270.234 Q832.684 273.058 832.684 278.289 L832.684 293.938 L828.401 293.938 L828.401 278.428 Q828.401 274.702 827.082 272.896 Q825.762 271.09 823.054 271.09 Q819.744 271.09 817.822 273.29 Q815.901 275.489 815.901 279.285 L815.901 293.938 L811.619 293.938 L811.619 278.428 Q811.619 274.678 810.299 272.896 Q808.98 271.09 806.225 271.09 Q802.961 271.09 801.04 273.313 Q799.119 275.512 799.119 279.285 L799.119 293.938 L794.837 293.938 L794.837 268.012 L799.119 268.012 L799.119 272.04 Q800.577 269.655 802.614 268.521 Q804.651 267.387 807.452 267.387 Q810.276 267.387 812.244 268.822 Q814.235 270.257 815.184 272.989 Z\" fill=\"#000000\" fill-rule=\"evenodd\" fill-opacity=\"1\" /><path clip-path=\"url(#clip100)\" d=\"M 0 0 M837.151 268.012 L841.41 268.012 L841.41 293.938 L837.151 293.938 L837.151 268.012 M837.151 257.919 L841.41 257.919 L841.41 263.313 L837.151 263.313 L837.151 257.919 Z\" fill=\"#000000\" fill-rule=\"evenodd\" fill-opacity=\"1\" /><path clip-path=\"url(#clip100)\" d=\"M 0 0 M857.66 280.905 Q852.498 280.905 850.508 282.086 Q848.517 283.266 848.517 286.114 Q848.517 288.382 849.998 289.725 Q851.503 291.044 854.072 291.044 Q857.614 291.044 859.744 288.544 Q861.896 286.021 861.896 281.854 L861.896 280.905 L857.66 280.905 M866.156 279.146 L866.156 293.938 L861.896 293.938 L861.896 290.002 Q860.438 292.363 858.262 293.498 Q856.086 294.609 852.938 294.609 Q848.957 294.609 846.595 292.387 Q844.258 290.141 844.258 286.391 Q844.258 282.016 847.174 279.794 Q850.114 277.572 855.924 277.572 L861.896 277.572 L861.896 277.155 Q861.896 274.215 859.952 272.618 Q858.031 270.998 854.535 270.998 Q852.313 270.998 850.207 271.53 Q848.1 272.063 846.156 273.127 L846.156 269.192 Q848.494 268.29 850.693 267.85 Q852.892 267.387 854.975 267.387 Q860.6 267.387 863.378 270.303 Q866.156 273.22 866.156 279.146 Z\" fill=\"#000000\" fill-rule=\"evenodd\" fill-opacity=\"1\" /><path clip-path=\"url(#clip100)\" d=\"M 0 0 M870.623 257.919 L874.882 257.919 L874.882 293.938 L870.623 293.938 L870.623 257.919 Z\" fill=\"#000000\" fill-rule=\"evenodd\" fill-opacity=\"1\" /></svg>\n"
      ]
     },
     "execution_count": 63,
     "metadata": {},
     "output_type": "execute_result"
    }
   ],
   "source": [
    "@teval (:block, \n",
    "    (:using, (:., :Plots)), \n",
    "    (:(=), :n, 20), \n",
    "    (:(=), :x, (:range, (:parameters, (:kw, :length, 20)), (:-, :π), :π)), \n",
    "    (:(=), :noise, (:*, 0.3, (:randn, :n))), \n",
    "    (:(=), :y, (:+, (:., :sin, (:tuple, :x)), :noise)), \n",
    "    (:(=), :X, \n",
    "        (:hcat, (:..., (:generator, (:call, :.^, :x, :k), (:(=), :k, (:(:), 0, 3)))))), \n",
    "    (:(=), :b, (:\\, :X, :y)), \n",
    "    (:(=), (:call, :f, :x), \n",
    "        (:sum, (:generator, (:*, (:ref, :b, (:+, :k, 1)), (:^, :x, :k)), \n",
    "            (:(=), :k, (:(:), 0, 3))))), \n",
    "    (:(=), :xs, (:range, (:parameters, (:kw, :length, 400)), (:-, :π), :π)), \n",
    "    (:plot, (:parameters, (:kw, :legend, QuoteNode(:topleft)))), \n",
    "    (:scatter!, (:parameters, (:kw, :label, \"sample\")), :x, :y), \n",
    "    (:plot!, (:parameters, \n",
    "            (:kw, :label, \"sin(x)\"), \n",
    "            (:kw, :color, QuoteNode(:blue)), \n",
    "            (:kw, :ls, QuoteNode(:dash))), \n",
    "        :xs, (:., :sin, (:tuple, :xs))), \n",
    "    (:plot!, (:parameters, \n",
    "            (:kw, :label, \"degree-3 polynomial\"), \n",
    "            (:kw, :color, QuoteNode(:red)), \n",
    "            (:kw, :lw, 2)), \n",
    "        :xs, (:., :f, (:tuple, :xs))))"
   ]
  },
  {
   "cell_type": "code",
   "execution_count": 64,
   "metadata": {},
   "outputs": [
    {
     "data": {
      "text/markdown": [
       "```julia\n",
       "begin\n",
       "    using Plots\n",
       "    n = 20\n",
       "    x = range(-π, π; length = 20)\n",
       "    noise = 0.3 * randn(n)\n",
       "    y = sin.(x) + noise\n",
       "    X = hcat((x .^ k for k = 0:3)...)\n",
       "    b = X \\ y\n",
       "    f(x) = sum((b[k + 1] * x ^ k for k = 0:3))\n",
       "    xs = range(-π, π; length = 400)\n",
       "    plot(; legend = :topleft)\n",
       "    scatter!(x, y; label = \"sample\")\n",
       "    plot!(xs, sin.(xs); label = \"sin(x)\", color = :blue, ls = :dash)\n",
       "    plot!(xs, f.(xs); label = \"degree-3 polynomial\", color = :red, lw = 2)\n",
       "end\n",
       "```"
      ]
     },
     "metadata": {},
     "output_type": "display_data"
    }
   ],
   "source": [
    "(:block, \n",
    "    (:using, (:., :Plots)), \n",
    "    (:(=), :n, 20), \n",
    "    (:(=), :x, (:range, (:parameters, (:kw, :length, 20)), (:-, :π), :π)), \n",
    "    (:(=), :noise, (:*, 0.3, (:randn, :n))), \n",
    "    (:(=), :y, (:+, (:., :sin, (:tuple, :x)), :noise)), \n",
    "    (:(=), :X, \n",
    "        (:hcat, (:..., (:generator, (:call, :.^, :x, :k), (:(=), :k, (:(:), 0, 3)))))), \n",
    "    (:(=), :b, (:\\, :X, :y)), \n",
    "    (:(=), (:call, :f, :x), \n",
    "        (:sum, (:generator, (:*, (:ref, :b, (:+, :k, 1)), (:^, :x, :k)), \n",
    "            (:(=), :k, (:(:), 0, 3))))), \n",
    "    (:(=), :xs, (:range, (:parameters, (:kw, :length, 400)), (:-, :π), :π)), \n",
    "    (:plot, (:parameters, (:kw, :legend, QuoteNode(:topleft)))), \n",
    "    (:scatter!, (:parameters, (:kw, :label, \"sample\")), :x, :y), \n",
    "    (:plot!, (:parameters, \n",
    "            (:kw, :label, \"sin(x)\"), \n",
    "            (:kw, :color, QuoteNode(:blue)), \n",
    "            (:kw, :ls, QuoteNode(:dash))), \n",
    "        :xs, (:., :sin, (:tuple, :xs))), \n",
    "    (:plot!, (:parameters, \n",
    "            (:kw, :label, \"degree-3 polynomial\"), \n",
    "            (:kw, :color, QuoteNode(:red)), \n",
    "            (:kw, :lw, 2)), \n",
    "        :xs, (:., :f, (:tuple, :xs)))) |> texpr2expr |> \n",
    "x -> display(\"text/markdown\", \"```julia\\n$x\\n```\")"
   ]
  },
  {
   "cell_type": "markdown",
   "metadata": {},
   "source": [
    "## Documents"
   ]
  },
  {
   "cell_type": "code",
   "execution_count": 65,
   "metadata": {},
   "outputs": [
    {
     "data": {
      "text/latex": [
       "\\begin{verbatim}\n",
       "MetaUtils\n",
       "\\end{verbatim}\n",
       "contains utilities for metaprogramming in Julia.\n",
       "\n",
       "\\begin{verbatim}\n",
       "export @show_sexpr, \n",
       "    @show_tree, \n",
       "    print_subtypes, \n",
       "    show_expr, @show_expr, \n",
       "    show_texpr, @show_texpr, \n",
       "    texpr2expr, teval, @teval\n",
       "\\end{verbatim}\n"
      ],
      "text/markdown": [
       "```\n",
       "MetaUtils\n",
       "```\n",
       "\n",
       "contains utilities for metaprogramming in Julia.\n",
       "\n",
       "```julia\n",
       "export @show_sexpr, \n",
       "    @show_tree, \n",
       "    print_subtypes, \n",
       "    show_expr, @show_expr, \n",
       "    show_texpr, @show_texpr, \n",
       "    texpr2expr, teval, @teval\n",
       "```\n"
      ],
      "text/plain": [
       "\u001b[36m  MetaUtils\u001b[39m\n",
       "\n",
       "  contains utilities for metaprogramming in Julia.\n",
       "\n",
       "\u001b[36m  export @show_sexpr, \u001b[39m\n",
       "\u001b[36m      @show_tree, \u001b[39m\n",
       "\u001b[36m      print_subtypes, \u001b[39m\n",
       "\u001b[36m      show_expr, @show_expr, \u001b[39m\n",
       "\u001b[36m      show_texpr, @show_texpr, \u001b[39m\n",
       "\u001b[36m      texpr2expr, teval, @teval\u001b[39m"
      ]
     },
     "execution_count": 65,
     "metadata": {},
     "output_type": "execute_result"
    }
   ],
   "source": [
    "@doc MetaUtils"
   ]
  },
  {
   "cell_type": "code",
   "execution_count": 66,
   "metadata": {},
   "outputs": [
    {
     "data": {
      "text/latex": [
       "\\begin{verbatim}\n",
       "@show_sexpr(expr, linenums=false)\n",
       "\\end{verbatim}\n",
       "shows the lisp style S-expression of \\texttt{expr} and prints the line number nodes if \\texttt{linenums} is true.  This is the macro version of \\texttt{Meta.show\\_sexpr}.\n",
       "\n",
       "\\subsection{Example}\n",
       "\\begin{verbatim}\n",
       "julia> @show_sexpr 2x+1\n",
       "(:call, :+, (:call, :*, 2, :x), 1)\n",
       "\\end{verbatim}\n",
       "\\texttt{teval} function can evaluate the output of \\texttt{@show\\_sexpr}. \n",
       "\n",
       "\\begin{verbatim}\n",
       "julia> x = 10; (:call, :+, (:call, :*, 2, :x), 1) |> teval\n",
       "21\n",
       "\\end{verbatim}\n"
      ],
      "text/markdown": [
       "```\n",
       "@show_sexpr(expr, linenums=false)\n",
       "```\n",
       "\n",
       "shows the lisp style S-expression of `expr` and prints the line number nodes if `linenums` is true.  This is the macro version of `Meta.show_sexpr`.\n",
       "\n",
       "## Example\n",
       "\n",
       "```julia\n",
       "julia> @show_sexpr 2x+1\n",
       "(:call, :+, (:call, :*, 2, :x), 1)\n",
       "```\n",
       "\n",
       "`teval` function can evaluate the output of `@show_sexpr`. \n",
       "\n",
       "```julia\n",
       "julia> x = 10; (:call, :+, (:call, :*, 2, :x), 1) |> teval\n",
       "21\n",
       "```\n"
      ],
      "text/plain": [
       "\u001b[36m  @show_sexpr(expr, linenums=false)\u001b[39m\n",
       "\n",
       "  shows the lisp style S-expression of \u001b[36mexpr\u001b[39m and prints the line number nodes\n",
       "  if \u001b[36mlinenums\u001b[39m is true. This is the macro version of \u001b[36mMeta.show_sexpr\u001b[39m.\n",
       "\n",
       "\u001b[1m  Example\u001b[22m\n",
       "\u001b[1m  =========\u001b[22m\n",
       "\n",
       "\u001b[36m  julia> @show_sexpr 2x+1\u001b[39m\n",
       "\u001b[36m  (:call, :+, (:call, :*, 2, :x), 1)\u001b[39m\n",
       "\n",
       "  \u001b[36mteval\u001b[39m function can evaluate the output of \u001b[36m@show_sexpr\u001b[39m.\n",
       "\n",
       "\u001b[36m  julia> x = 10; (:call, :+, (:call, :*, 2, :x), 1) |> teval\u001b[39m\n",
       "\u001b[36m  21\u001b[39m"
      ]
     },
     "execution_count": 66,
     "metadata": {},
     "output_type": "execute_result"
    }
   ],
   "source": [
    "@doc @show_sexpr"
   ]
  },
  {
   "cell_type": "code",
   "execution_count": 67,
   "metadata": {},
   "outputs": [
    {
     "data": {
      "text/latex": [
       "\\begin{verbatim}\n",
       "@show_tree(expr, maxdepth=10, linenums=false)\n",
       "\\end{verbatim}\n",
       "shows the tree form of the expression \\texttt{expr} with maxdepth and prints the line number nodes if \\texttt{linenums} is true.\n",
       "\n",
       "\\subsection{Example}\n",
       "\\begin{verbatim}\n",
       "julia> @show_tree 2x+1\n",
       ":call\n",
       "├─ :+\n",
       "├─ :call\n",
       "│  ├─ :*\n",
       "│  ├─ 2\n",
       "│  └─ :x\n",
       "└─ 1\n",
       "\\end{verbatim}\n"
      ],
      "text/markdown": [
       "```\n",
       "@show_tree(expr, maxdepth=10, linenums=false)\n",
       "```\n",
       "\n",
       "shows the tree form of the expression `expr` with maxdepth and prints the line number nodes if `linenums` is true.\n",
       "\n",
       "## Example\n",
       "\n",
       "```julia\n",
       "julia> @show_tree 2x+1\n",
       ":call\n",
       "├─ :+\n",
       "├─ :call\n",
       "│  ├─ :*\n",
       "│  ├─ 2\n",
       "│  └─ :x\n",
       "└─ 1\n",
       "```\n"
      ],
      "text/plain": [
       "\u001b[36m  @show_tree(expr, maxdepth=10, linenums=false)\u001b[39m\n",
       "\n",
       "  shows the tree form of the expression \u001b[36mexpr\u001b[39m with maxdepth and prints the line\n",
       "  number nodes if \u001b[36mlinenums\u001b[39m is true.\n",
       "\n",
       "\u001b[1m  Example\u001b[22m\n",
       "\u001b[1m  =========\u001b[22m\n",
       "\n",
       "\u001b[36m  julia> @show_tree 2x+1\u001b[39m\n",
       "\u001b[36m  :call\u001b[39m\n",
       "\u001b[36m  ├─ :+\u001b[39m\n",
       "\u001b[36m  ├─ :call\u001b[39m\n",
       "\u001b[36m  │  ├─ :*\u001b[39m\n",
       "\u001b[36m  │  ├─ 2\u001b[39m\n",
       "\u001b[36m  │  └─ :x\u001b[39m\n",
       "\u001b[36m  └─ 1\u001b[39m"
      ]
     },
     "execution_count": 67,
     "metadata": {},
     "output_type": "execute_result"
    }
   ],
   "source": [
    "@doc @show_tree"
   ]
  },
  {
   "cell_type": "code",
   "execution_count": 68,
   "metadata": {},
   "outputs": [
    {
     "data": {
      "text/latex": [
       "\\begin{verbatim}\n",
       "print_subtypes(T::Type; kwargs...)\n",
       "print_subtypes(io::IO, T::Type; kwargs...)\n",
       "print_subtypes(f, io::IO, T::Type; kwargs...)\n",
       "\\end{verbatim}\n",
       "prints the subtypes of \\texttt{T} by \\texttt{AbstractTrees.print\\_tree}.\n",
       "\n",
       "\\subsection{Example}\n",
       "\\begin{verbatim}\n",
       "julia> print_subtypes(AbstractRange)\n",
       "AbstractRange\n",
       "├─ LinRange\n",
       "├─ OrdinalRange\n",
       "│  ├─ AbstractUnitRange\n",
       "│  │  ├─ Base.IdentityUnitRange\n",
       "│  │  ├─ Base.OneTo\n",
       "│  │  ├─ Base.Slice\n",
       "│  │  └─ UnitRange\n",
       "│  └─ StepRange\n",
       "└─ StepRangeLen\n",
       "\\end{verbatim}\n"
      ],
      "text/markdown": [
       "```\n",
       "print_subtypes(T::Type; kwargs...)\n",
       "print_subtypes(io::IO, T::Type; kwargs...)\n",
       "print_subtypes(f, io::IO, T::Type; kwargs...)\n",
       "```\n",
       "\n",
       "prints the subtypes of `T` by `AbstractTrees.print_tree`.\n",
       "\n",
       "## Example\n",
       "\n",
       "```julia\n",
       "julia> print_subtypes(AbstractRange)\n",
       "AbstractRange\n",
       "├─ LinRange\n",
       "├─ OrdinalRange\n",
       "│  ├─ AbstractUnitRange\n",
       "│  │  ├─ Base.IdentityUnitRange\n",
       "│  │  ├─ Base.OneTo\n",
       "│  │  ├─ Base.Slice\n",
       "│  │  └─ UnitRange\n",
       "│  └─ StepRange\n",
       "└─ StepRangeLen\n",
       "```\n"
      ],
      "text/plain": [
       "\u001b[36m  print_subtypes(T::Type; kwargs...)\u001b[39m\n",
       "\u001b[36m  print_subtypes(io::IO, T::Type; kwargs...)\u001b[39m\n",
       "\u001b[36m  print_subtypes(f, io::IO, T::Type; kwargs...)\u001b[39m\n",
       "\n",
       "  prints the subtypes of \u001b[36mT\u001b[39m by \u001b[36mAbstractTrees.print_tree\u001b[39m.\n",
       "\n",
       "\u001b[1m  Example\u001b[22m\n",
       "\u001b[1m  =========\u001b[22m\n",
       "\n",
       "\u001b[36m  julia> print_subtypes(AbstractRange)\u001b[39m\n",
       "\u001b[36m  AbstractRange\u001b[39m\n",
       "\u001b[36m  ├─ LinRange\u001b[39m\n",
       "\u001b[36m  ├─ OrdinalRange\u001b[39m\n",
       "\u001b[36m  │  ├─ AbstractUnitRange\u001b[39m\n",
       "\u001b[36m  │  │  ├─ Base.IdentityUnitRange\u001b[39m\n",
       "\u001b[36m  │  │  ├─ Base.OneTo\u001b[39m\n",
       "\u001b[36m  │  │  ├─ Base.Slice\u001b[39m\n",
       "\u001b[36m  │  │  └─ UnitRange\u001b[39m\n",
       "\u001b[36m  │  └─ StepRange\u001b[39m\n",
       "\u001b[36m  └─ StepRangeLen\u001b[39m"
      ]
     },
     "execution_count": 68,
     "metadata": {},
     "output_type": "execute_result"
    }
   ],
   "source": [
    "@doc print_subtypes"
   ]
  },
  {
   "cell_type": "code",
   "execution_count": 69,
   "metadata": {},
   "outputs": [
    {
     "data": {
      "text/latex": [
       "\\begin{verbatim}\n",
       "show_expr([io::IO,], ex)\n",
       "\\end{verbatim}\n",
       "shows expression \\texttt{ex} as a Julia style expression.\n",
       "\n",
       "\\section{Examples}\n",
       "\\begin{verbatim}\n",
       "julia> show_expr(:(f(x, g(y, z))))\n",
       "Expr(:call, :f, :x, \n",
       "    Expr(:call, :g, :y, :z))\n",
       "\\end{verbatim}\n"
      ],
      "text/markdown": [
       "```\n",
       "show_expr([io::IO,], ex)\n",
       "```\n",
       "\n",
       "shows expression `ex` as a Julia style expression.\n",
       "\n",
       "# Examples\n",
       "\n",
       "```julia\n",
       "julia> show_expr(:(f(x, g(y, z))))\n",
       "Expr(:call, :f, :x, \n",
       "    Expr(:call, :g, :y, :z))\n",
       "```\n"
      ],
      "text/plain": [
       "\u001b[36m  show_expr([io::IO,], ex)\u001b[39m\n",
       "\n",
       "  shows expression \u001b[36mex\u001b[39m as a Julia style expression.\n",
       "\n",
       "\u001b[1m  Examples\u001b[22m\n",
       "\u001b[1m  ≡≡≡≡≡≡≡≡≡≡\u001b[22m\n",
       "\n",
       "\u001b[36m  julia> show_expr(:(f(x, g(y, z))))\u001b[39m\n",
       "\u001b[36m  Expr(:call, :f, :x, \u001b[39m\n",
       "\u001b[36m      Expr(:call, :g, :y, :z))\u001b[39m"
      ]
     },
     "execution_count": 69,
     "metadata": {},
     "output_type": "execute_result"
    }
   ],
   "source": [
    "@doc show_expr"
   ]
  },
  {
   "cell_type": "code",
   "execution_count": 70,
   "metadata": {},
   "outputs": [
    {
     "data": {
      "text/latex": [
       "\\begin{verbatim}\n",
       "@show_expr(expr, linenums=false)\n",
       "\\end{verbatim}\n",
       "shows the Juia style expression of \\texttt{expr} and prints the line number nodes if \\texttt{linenums} is true.  This is the macro version of \\texttt{show\\_expr}.\n",
       "\n",
       "\\subsection{Example}\n",
       "\\begin{verbatim}\n",
       "julia> @show_expr 2x+1\n",
       "Expr(:call, :+, \n",
       "    Expr(:call, :*, 2, :x), 1)\n",
       "\\end{verbatim}\n",
       "\\texttt{eval} function can evaluate the output of \\texttt{@show\\_expr}. \n",
       "\n",
       "\\begin{verbatim}\n",
       "julia> x = 10; Expr(:call, :+, \n",
       "    Expr(:call, :*, 2, :x), 1) |> eval\n",
       "21\n",
       "\\end{verbatim}\n"
      ],
      "text/markdown": [
       "```\n",
       "@show_expr(expr, linenums=false)\n",
       "```\n",
       "\n",
       "shows the Juia style expression of `expr` and prints the line number nodes if `linenums` is true.  This is the macro version of `show_expr`.\n",
       "\n",
       "## Example\n",
       "\n",
       "```julia\n",
       "julia> @show_expr 2x+1\n",
       "Expr(:call, :+, \n",
       "    Expr(:call, :*, 2, :x), 1)\n",
       "```\n",
       "\n",
       "`eval` function can evaluate the output of `@show_expr`. \n",
       "\n",
       "```julia\n",
       "julia> x = 10; Expr(:call, :+, \n",
       "    Expr(:call, :*, 2, :x), 1) |> eval\n",
       "21\n",
       "```\n"
      ],
      "text/plain": [
       "\u001b[36m  @show_expr(expr, linenums=false)\u001b[39m\n",
       "\n",
       "  shows the Juia style expression of \u001b[36mexpr\u001b[39m and prints the line number nodes if\n",
       "  \u001b[36mlinenums\u001b[39m is true. This is the macro version of \u001b[36mshow_expr\u001b[39m.\n",
       "\n",
       "\u001b[1m  Example\u001b[22m\n",
       "\u001b[1m  =========\u001b[22m\n",
       "\n",
       "\u001b[36m  julia> @show_expr 2x+1\u001b[39m\n",
       "\u001b[36m  Expr(:call, :+, \u001b[39m\n",
       "\u001b[36m      Expr(:call, :*, 2, :x), 1)\u001b[39m\n",
       "\n",
       "  \u001b[36meval\u001b[39m function can evaluate the output of \u001b[36m@show_expr\u001b[39m.\n",
       "\n",
       "\u001b[36m  julia> x = 10; Expr(:call, :+, \u001b[39m\n",
       "\u001b[36m      Expr(:call, :*, 2, :x), 1) |> eval\u001b[39m\n",
       "\u001b[36m  21\u001b[39m"
      ]
     },
     "execution_count": 70,
     "metadata": {},
     "output_type": "execute_result"
    }
   ],
   "source": [
    "@doc @show_expr"
   ]
  },
  {
   "cell_type": "code",
   "execution_count": 71,
   "metadata": {},
   "outputs": [
    {
     "data": {
      "text/latex": [
       "\\begin{verbatim}\n",
       "show_texpr([io::IO,], ex)\n",
       "\\end{verbatim}\n",
       "Yet another \\texttt{Meta.show\\_sexpr}.  It shows expression \\texttt{ex} as a lisp style expression.\n",
       "\n",
       "Remark: The indentation is different from \\texttt{Meta.show\\_sexpr}.\n",
       "\n",
       "\\section{Examples}\n",
       "\\begin{verbatim}\n",
       "julia> show_texpr(:(f(x, g(y, z))))\n",
       "Expr(:call, :f, :x, \n",
       "    Expr(:call, :g, :y, :z))\n",
       "\\end{verbatim}\n"
      ],
      "text/markdown": [
       "```\n",
       "show_texpr([io::IO,], ex)\n",
       "```\n",
       "\n",
       "Yet another `Meta.show_sexpr`.  It shows expression `ex` as a lisp style expression.\n",
       "\n",
       "Remark: The indentation is different from `Meta.show_sexpr`.\n",
       "\n",
       "# Examples\n",
       "\n",
       "```julia\n",
       "julia> show_texpr(:(f(x, g(y, z))))\n",
       "Expr(:call, :f, :x, \n",
       "    Expr(:call, :g, :y, :z))\n",
       "```\n"
      ],
      "text/plain": [
       "\u001b[36m  show_texpr([io::IO,], ex)\u001b[39m\n",
       "\n",
       "  Yet another \u001b[36mMeta.show_sexpr\u001b[39m. It shows expression \u001b[36mex\u001b[39m as a lisp style\n",
       "  expression.\n",
       "\n",
       "  Remark: The indentation is different from \u001b[36mMeta.show_sexpr\u001b[39m.\n",
       "\n",
       "\u001b[1m  Examples\u001b[22m\n",
       "\u001b[1m  ≡≡≡≡≡≡≡≡≡≡\u001b[22m\n",
       "\n",
       "\u001b[36m  julia> show_texpr(:(f(x, g(y, z))))\u001b[39m\n",
       "\u001b[36m  Expr(:call, :f, :x, \u001b[39m\n",
       "\u001b[36m      Expr(:call, :g, :y, :z))\u001b[39m"
      ]
     },
     "execution_count": 71,
     "metadata": {},
     "output_type": "execute_result"
    }
   ],
   "source": [
    "@doc show_texpr"
   ]
  },
  {
   "cell_type": "code",
   "execution_count": 72,
   "metadata": {},
   "outputs": [
    {
     "data": {
      "text/latex": [
       "\\begin{verbatim}\n",
       "@show_texpr(expr, linenums=false)\n",
       "\\end{verbatim}\n",
       "Yet another \\texttt{@show\\_sexpr}.  It shows the lisp style S-expression of \\texttt{expr} and prints the line number nodes if \\texttt{linenums} is true.\n",
       "\n",
       "Remark: The indentation is different from \\texttt{@show\\_sexpr}.\n",
       "\n",
       "\\subsection{Example}\n",
       "\\begin{verbatim}\n",
       "julia> @show_texpr 2x+1\n",
       "(:call, :+, \n",
       "    (:call, :*, 2, :x), 1)\n",
       "\\end{verbatim}\n",
       "\\texttt{teval} function can evaluate the output of \\texttt{@show\\_texpr}.\n",
       "\n",
       "\\begin{verbatim}\n",
       "julia> x = 10; (:call, :+, \n",
       "    (:call, :*, 2, :x), 1) |> teval\n",
       "21\n",
       "\\end{verbatim}\n"
      ],
      "text/markdown": [
       "```\n",
       "@show_texpr(expr, linenums=false)\n",
       "```\n",
       "\n",
       "Yet another `@show_sexpr`.  It shows the lisp style S-expression of `expr` and prints the line number nodes if `linenums` is true.\n",
       "\n",
       "Remark: The indentation is different from `@show_sexpr`.\n",
       "\n",
       "## Example\n",
       "\n",
       "```julia\n",
       "julia> @show_texpr 2x+1\n",
       "(:call, :+, \n",
       "    (:call, :*, 2, :x), 1)\n",
       "```\n",
       "\n",
       "`teval` function can evaluate the output of `@show_texpr`.\n",
       "\n",
       "```julia\n",
       "julia> x = 10; (:call, :+, \n",
       "    (:call, :*, 2, :x), 1) |> teval\n",
       "21\n",
       "```\n"
      ],
      "text/plain": [
       "\u001b[36m  @show_texpr(expr, linenums=false)\u001b[39m\n",
       "\n",
       "  Yet another \u001b[36m@show_sexpr\u001b[39m. It shows the lisp style S-expression of \u001b[36mexpr\u001b[39m and\n",
       "  prints the line number nodes if \u001b[36mlinenums\u001b[39m is true.\n",
       "\n",
       "  Remark: The indentation is different from \u001b[36m@show_sexpr\u001b[39m.\n",
       "\n",
       "\u001b[1m  Example\u001b[22m\n",
       "\u001b[1m  =========\u001b[22m\n",
       "\n",
       "\u001b[36m  julia> @show_texpr 2x+1\u001b[39m\n",
       "\u001b[36m  (:call, :+, \u001b[39m\n",
       "\u001b[36m      (:call, :*, 2, :x), 1)\u001b[39m\n",
       "\n",
       "  \u001b[36mteval\u001b[39m function can evaluate the output of \u001b[36m@show_texpr\u001b[39m.\n",
       "\n",
       "\u001b[36m  julia> x = 10; (:call, :+, \u001b[39m\n",
       "\u001b[36m      (:call, :*, 2, :x), 1) |> teval\u001b[39m\n",
       "\u001b[36m  21\u001b[39m"
      ]
     },
     "execution_count": 72,
     "metadata": {},
     "output_type": "execute_result"
    }
   ],
   "source": [
    "@doc @show_texpr"
   ]
  },
  {
   "cell_type": "code",
   "execution_count": 73,
   "metadata": {},
   "outputs": [
    {
     "data": {
      "text/latex": [
       "\\begin{verbatim}\n",
       "teval(texpr, m::Module=Main)\n",
       "\\end{verbatim}\n",
       "evaluates the lisp-like tuple expression \\texttt{texpr}.\n",
       "\n",
       "Example: Calculation of \\texttt{sin(π/6)}\n",
       "\n",
       "\\begin{verbatim}\n",
       "julia> (:call, :sin, (:call, :/, π, 6)) |> teval\n",
       "0.49999999999999994\n",
       "\\end{verbatim}\n",
       "In some cases, you can omit \\texttt{:call}.\n",
       "\n",
       "\\begin{verbatim}\n",
       "julia> (:sin, (:/, π, 6)) |> teval\n",
       "0.49999999999999994\n",
       "\\end{verbatim}\n"
      ],
      "text/markdown": [
       "```\n",
       "teval(texpr, m::Module=Main)\n",
       "```\n",
       "\n",
       "evaluates the lisp-like tuple expression `texpr`.\n",
       "\n",
       "Example: Calculation of `sin(π/6)`\n",
       "\n",
       "```julia\n",
       "julia> (:call, :sin, (:call, :/, π, 6)) |> teval\n",
       "0.49999999999999994\n",
       "```\n",
       "\n",
       "In some cases, you can omit `:call`.\n",
       "\n",
       "```julia\n",
       "julia> (:sin, (:/, π, 6)) |> teval\n",
       "0.49999999999999994\n",
       "```\n"
      ],
      "text/plain": [
       "\u001b[36m  teval(texpr, m::Module=Main)\u001b[39m\n",
       "\n",
       "  evaluates the lisp-like tuple expression \u001b[36mtexpr\u001b[39m.\n",
       "\n",
       "  Example: Calculation of \u001b[36msin(π/6)\u001b[39m\n",
       "\n",
       "\u001b[36m  julia> (:call, :sin, (:call, :/, π, 6)) |> teval\u001b[39m\n",
       "\u001b[36m  0.49999999999999994\u001b[39m\n",
       "\n",
       "  In some cases, you can omit \u001b[36m:call\u001b[39m.\n",
       "\n",
       "\u001b[36m  julia> (:sin, (:/, π, 6)) |> teval\u001b[39m\n",
       "\u001b[36m  0.49999999999999994\u001b[39m"
      ]
     },
     "execution_count": 73,
     "metadata": {},
     "output_type": "execute_result"
    }
   ],
   "source": [
    "@doc teval"
   ]
  },
  {
   "cell_type": "code",
   "execution_count": 74,
   "metadata": {},
   "outputs": [
    {
     "data": {
      "text/latex": [
       "\\begin{verbatim}\n",
       "@teval texpr\n",
       "\\end{verbatim}\n",
       "evaluates the lisp-like tuple expression \\texttt{texpr}.\n",
       "\n",
       "Example: Calculation of \\texttt{sin(π/6)}\n",
       "\n",
       "\\begin{verbatim}\n",
       "julia> @teval (:call, :sin, (:call, :/, π, 6))\n",
       "0.49999999999999994\n",
       "\\end{verbatim}\n",
       "In some cases, you can omit \\texttt{:call}.\n",
       "\n",
       "\\begin{verbatim}\n",
       "julia> @teval (:sin, (:/, π, 6))\n",
       "0.49999999999999994\n",
       "\\end{verbatim}\n"
      ],
      "text/markdown": [
       "```\n",
       "@teval texpr\n",
       "```\n",
       "\n",
       "evaluates the lisp-like tuple expression `texpr`.\n",
       "\n",
       "Example: Calculation of `sin(π/6)`\n",
       "\n",
       "```julia\n",
       "julia> @teval (:call, :sin, (:call, :/, π, 6))\n",
       "0.49999999999999994\n",
       "```\n",
       "\n",
       "In some cases, you can omit `:call`.\n",
       "\n",
       "```julia\n",
       "julia> @teval (:sin, (:/, π, 6))\n",
       "0.49999999999999994\n",
       "```\n"
      ],
      "text/plain": [
       "\u001b[36m  @teval texpr\u001b[39m\n",
       "\n",
       "  evaluates the lisp-like tuple expression \u001b[36mtexpr\u001b[39m.\n",
       "\n",
       "  Example: Calculation of \u001b[36msin(π/6)\u001b[39m\n",
       "\n",
       "\u001b[36m  julia> @teval (:call, :sin, (:call, :/, π, 6))\u001b[39m\n",
       "\u001b[36m  0.49999999999999994\u001b[39m\n",
       "\n",
       "  In some cases, you can omit \u001b[36m:call\u001b[39m.\n",
       "\n",
       "\u001b[36m  julia> @teval (:sin, (:/, π, 6))\u001b[39m\n",
       "\u001b[36m  0.49999999999999994\u001b[39m"
      ]
     },
     "execution_count": 74,
     "metadata": {},
     "output_type": "execute_result"
    }
   ],
   "source": [
    "@doc @teval"
   ]
  },
  {
   "cell_type": "code",
   "execution_count": 75,
   "metadata": {},
   "outputs": [
    {
     "data": {
      "text/latex": [
       "\\begin{verbatim}\n",
       "MetaUtils.@t texpr\n",
       "\\end{verbatim}\n",
       "shows the Julia expression and the value of the lisp-like tuple expression \\texttt{texpr}.\n",
       "\n",
       "Example:\n",
       "\n",
       "\\begin{verbatim}\n",
       "julia> MetaUtils.@t (:call, :sin, (:call, :/, π, 6))\n",
       ":(sin(π / 6))\n",
       "→ 0.49999999999999994\n",
       "\\end{verbatim}\n"
      ],
      "text/markdown": [
       "```\n",
       "MetaUtils.@t texpr\n",
       "```\n",
       "\n",
       "shows the Julia expression and the value of the lisp-like tuple expression `texpr`.\n",
       "\n",
       "Example:\n",
       "\n",
       "```julia\n",
       "julia> MetaUtils.@t (:call, :sin, (:call, :/, π, 6))\n",
       ":(sin(π / 6))\n",
       "→ 0.49999999999999994\n",
       "```\n"
      ],
      "text/plain": [
       "\u001b[36m  MetaUtils.@t texpr\u001b[39m\n",
       "\n",
       "  shows the Julia expression and the value of the lisp-like tuple expression\n",
       "  \u001b[36mtexpr\u001b[39m.\n",
       "\n",
       "  Example:\n",
       "\n",
       "\u001b[36m  julia> MetaUtils.@t (:call, :sin, (:call, :/, π, 6))\u001b[39m\n",
       "\u001b[36m  :(sin(π / 6))\u001b[39m\n",
       "\u001b[36m  → 0.49999999999999994\u001b[39m"
      ]
     },
     "execution_count": 75,
     "metadata": {},
     "output_type": "execute_result"
    }
   ],
   "source": [
    "@doc MetaUtils.@t"
   ]
  },
  {
   "cell_type": "code",
   "execution_count": 76,
   "metadata": {},
   "outputs": [
    {
     "data": {
      "text/latex": [
       "\\begin{verbatim}\n",
       "MetaUtils.@T texpr\n",
       "\\end{verbatim}\n",
       "shows \\texttt{show(texpr)}, \\texttt{show\\_texpr(texpr)}, the Julia expression, and the value of the lisp-like tuple expression \\texttt{texpr}.\n",
       "\n",
       "Example:\n",
       "\n",
       "\\begin{verbatim}\n",
       "julia> MetaUtils.@T (:call, :sin, (:call, :/, π, 6))\n",
       "(:call, :sin, (:call, :/, π, 6))\n",
       "→ (:call, :sin, \n",
       "    (:call, :/, π, 6))\n",
       "→ :(sin(π / 6))\n",
       "→ 0.49999999999999994\n",
       "\\end{verbatim}\n"
      ],
      "text/markdown": [
       "```\n",
       "MetaUtils.@T texpr\n",
       "```\n",
       "\n",
       "shows `show(texpr)`, `show_texpr(texpr)`, the Julia expression, and the value of the lisp-like tuple expression `texpr`.\n",
       "\n",
       "Example:\n",
       "\n",
       "```julia\n",
       "julia> MetaUtils.@T (:call, :sin, (:call, :/, π, 6))\n",
       "(:call, :sin, (:call, :/, π, 6))\n",
       "→ (:call, :sin, \n",
       "    (:call, :/, π, 6))\n",
       "→ :(sin(π / 6))\n",
       "→ 0.49999999999999994\n",
       "```\n"
      ],
      "text/plain": [
       "\u001b[36m  MetaUtils.@T texpr\u001b[39m\n",
       "\n",
       "  shows \u001b[36mshow(texpr)\u001b[39m, \u001b[36mshow_texpr(texpr)\u001b[39m, the Julia expression, and the value of\n",
       "  the lisp-like tuple expression \u001b[36mtexpr\u001b[39m.\n",
       "\n",
       "  Example:\n",
       "\n",
       "\u001b[36m  julia> MetaUtils.@T (:call, :sin, (:call, :/, π, 6))\u001b[39m\n",
       "\u001b[36m  (:call, :sin, (:call, :/, π, 6))\u001b[39m\n",
       "\u001b[36m  → (:call, :sin, \u001b[39m\n",
       "\u001b[36m      (:call, :/, π, 6))\u001b[39m\n",
       "\u001b[36m  → :(sin(π / 6))\u001b[39m\n",
       "\u001b[36m  → 0.49999999999999994\u001b[39m"
      ]
     },
     "execution_count": 76,
     "metadata": {},
     "output_type": "execute_result"
    }
   ],
   "source": [
    "@doc MetaUtils.@T"
   ]
  },
  {
   "cell_type": "code",
   "execution_count": null,
   "metadata": {},
   "outputs": [],
   "source": []
  }
 ],
 "metadata": {
  "@webio": {
   "lastCommId": null,
   "lastKernelId": null
  },
  "jupytext": {
   "formats": "ipynb,md"
  },
  "kernelspec": {
   "display_name": "Julia 1.7.0-DEV depwarn -O3",
   "language": "julia",
   "name": "julia-1.7-depwarn-o3"
  },
  "language_info": {
   "file_extension": ".jl",
   "mimetype": "application/julia",
   "name": "julia",
   "version": "1.7.0"
  },
  "toc": {
   "base_numbering": 1,
   "nav_menu": {},
   "number_sections": true,
   "sideBar": true,
   "skip_h1_title": true,
   "title_cell": "Table of Contents",
   "title_sidebar": "Contents",
   "toc_cell": true,
   "toc_position": {
    "height": "calc(100% - 180px)",
    "left": "10px",
    "top": "150px",
    "width": "250px"
   },
   "toc_section_display": true,
   "toc_window_display": false
  }
 },
 "nbformat": 4,
 "nbformat_minor": 4
}
