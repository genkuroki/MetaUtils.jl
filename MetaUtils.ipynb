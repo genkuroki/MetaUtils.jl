{
 "cells": [
  {
   "cell_type": "markdown",
   "metadata": {},
   "source": [
    "# MetaUtils\n",
    "\n",
    "* Author: Gen Kuroki\n",
    "* Date: 2020-10-11～2020-10-17, 2021-03-20～2021-03-26, 2021-06-07\n",
    "* Repository: https://github.com/genkuroki/MetaUtils.jl\n",
    "* File: https://nbviewer.jupyter.org/github/genkuroki/MetaUtils.jl/blob/master/MetaUtils.ipynb"
   ]
  },
  {
   "cell_type": "markdown",
   "metadata": {
    "toc": true
   },
   "source": [
    "<h1>Table of Contents<span class=\"tocSkip\"></span></h1>\n",
    "<div class=\"toc\"><ul class=\"toc-item\"><li><span><a href=\"#Explanatory-examples\" data-toc-modified-id=\"Explanatory-examples-1\"><span class=\"toc-item-num\">1&nbsp;&nbsp;</span>Explanatory examples</a></span></li><li><span><a href=\"#Miscellaneous-examples-of-@show_texpr,-etc.\" data-toc-modified-id=\"Miscellaneous-examples-of-@show_texpr,-etc.-2\"><span class=\"toc-item-num\">2&nbsp;&nbsp;</span>Miscellaneous examples of @show_texpr, etc.</a></span><ul class=\"toc-item\"><li><span><a href=\"#for-loop\" data-toc-modified-id=\"for-loop-2.1\"><span class=\"toc-item-num\">2.1&nbsp;&nbsp;</span>for loop</a></span></li><li><span><a href=\"#subtype-trees\" data-toc-modified-id=\"subtype-trees-2.2\"><span class=\"toc-item-num\">2.2&nbsp;&nbsp;</span>subtype trees</a></span></li><li><span><a href=\"#function-definition\" data-toc-modified-id=\"function-definition-2.3\"><span class=\"toc-item-num\">2.3&nbsp;&nbsp;</span>function definition</a></span></li><li><span><a href=\"#macro-and-LineNumberNode\" data-toc-modified-id=\"macro-and-LineNumberNode-2.4\"><span class=\"toc-item-num\">2.4&nbsp;&nbsp;</span>macro and LineNumberNode</a></span></li><li><span><a href=\"#QuoteNode\" data-toc-modified-id=\"QuoteNode-2.5\"><span class=\"toc-item-num\">2.5&nbsp;&nbsp;</span>QuoteNode</a></span></li></ul></li><li><span><a href=\"#Evaluation-of-Lisp-like-tuple-expressions\" data-toc-modified-id=\"Evaluation-of-Lisp-like-tuple-expressions-3\"><span class=\"toc-item-num\">3&nbsp;&nbsp;</span>Evaluation of Lisp-like tuple expressions</a></span></li><li><span><a href=\"#Plot-example\" data-toc-modified-id=\"Plot-example-4\"><span class=\"toc-item-num\">4&nbsp;&nbsp;</span>Plot example</a></span></li><li><span><a href=\"#Documents\" data-toc-modified-id=\"Documents-5\"><span class=\"toc-item-num\">5&nbsp;&nbsp;</span>Documents</a></span></li></ul></div>"
   ]
  },
  {
   "cell_type": "code",
   "execution_count": 1,
   "metadata": {},
   "outputs": [
    {
     "data": {
      "text/plain": [
       "v\"1.7.0-DEV.1133\""
      ]
     },
     "execution_count": 1,
     "metadata": {},
     "output_type": "execute_result"
    }
   ],
   "source": [
    "VERSION"
   ]
  },
  {
   "cell_type": "code",
   "execution_count": 2,
   "metadata": {},
   "outputs": [
    {
     "name": "stderr",
     "output_type": "stream",
     "text": [
      "\u001b[32m\u001b[1m  Activating\u001b[22m\u001b[39m project at `C:\\Users\\genkuroki\\OneDrive\\work\\MetaUtils.jl`\n"
     ]
    }
   ],
   "source": [
    "if isfile(\"Project.toml\")\n",
    "    using Pkg\n",
    "    Pkg.activate(\".\")\n",
    "    using Revise\n",
    "end"
   ]
  },
  {
   "cell_type": "code",
   "execution_count": 3,
   "metadata": {},
   "outputs": [],
   "source": [
    "using MetaUtils"
   ]
  },
  {
   "cell_type": "markdown",
   "metadata": {},
   "source": [
    "## Explanatory examples"
   ]
  },
  {
   "cell_type": "code",
   "execution_count": 4,
   "metadata": {},
   "outputs": [
    {
     "name": "stdout",
     "output_type": "stream",
     "text": [
      "(:call, :+, (:call, :*, 2, :x), 1)"
     ]
    }
   ],
   "source": [
    "@show_sexpr 2x+1"
   ]
  },
  {
   "cell_type": "code",
   "execution_count": 5,
   "metadata": {},
   "outputs": [
    {
     "data": {
      "text/plain": [
       "21"
      ]
     },
     "execution_count": 5,
     "metadata": {},
     "output_type": "execute_result"
    }
   ],
   "source": [
    "x = 10; (:call, :+, (:call, :*, 2, :x), 1) |> teval"
   ]
  },
  {
   "cell_type": "code",
   "execution_count": 6,
   "metadata": {},
   "outputs": [
    {
     "name": "stdout",
     "output_type": "stream",
     "text": [
      "Expr(:call)\n",
      "├─ :+\n",
      "├─ Expr(:call)\n",
      "│  ├─ :*\n",
      "│  ├─ 2\n",
      "│  └─ :x\n",
      "└─ 1\n"
     ]
    }
   ],
   "source": [
    "@show_tree 2x+1"
   ]
  },
  {
   "cell_type": "code",
   "execution_count": 7,
   "metadata": {},
   "outputs": [
    {
     "name": "stdout",
     "output_type": "stream",
     "text": [
      "Expr(:call)\n",
      "├─ :+\n",
      "├─ Expr(:call)\n",
      "│  ├─ :*\n",
      "│  ├─ 2\n",
      "│  └─ :x\n",
      "└─ 1\n"
     ]
    }
   ],
   "source": [
    "show_tree(:(2x + 1))"
   ]
  },
  {
   "cell_type": "code",
   "execution_count": 8,
   "metadata": {},
   "outputs": [
    {
     "name": "stdout",
     "output_type": "stream",
     "text": [
      "AbstractRange\n",
      "├─ LinRange\n",
      "├─ OrdinalRange\n",
      "│  ├─ AbstractUnitRange\n",
      "│  │  ├─ Base.IdentityUnitRange\n",
      "│  │  ├─ Base.OneTo\n",
      "│  │  ├─ Base.Slice\n",
      "│  │  └─ UnitRange\n",
      "│  └─ StepRange\n",
      "└─ StepRangeLen\n"
     ]
    }
   ],
   "source": [
    "print_subtypes(AbstractRange)"
   ]
  },
  {
   "cell_type": "code",
   "execution_count": 9,
   "metadata": {},
   "outputs": [
    {
     "name": "stdout",
     "output_type": "stream",
     "text": [
      "Expr(:call, :f, :x, \n",
      "    Expr(:call, :g, :y, :z))"
     ]
    }
   ],
   "source": [
    "show_expr(:(f(x, g(y, z))))"
   ]
  },
  {
   "cell_type": "code",
   "execution_count": 10,
   "metadata": {},
   "outputs": [
    {
     "name": "stdout",
     "output_type": "stream",
     "text": [
      "Expr(:call, :+, \n",
      "    Expr(:call, :*, 2, :x), 1)"
     ]
    }
   ],
   "source": [
    "@show_expr 2x+1"
   ]
  },
  {
   "cell_type": "code",
   "execution_count": 11,
   "metadata": {},
   "outputs": [
    {
     "data": {
      "text/plain": [
       "21"
      ]
     },
     "execution_count": 11,
     "metadata": {},
     "output_type": "execute_result"
    }
   ],
   "source": [
    "x = 10; Expr(:call, :+, \n",
    "    Expr(:call, :*, 2, :x), 1) |> eval"
   ]
  },
  {
   "cell_type": "code",
   "execution_count": 12,
   "metadata": {},
   "outputs": [
    {
     "name": "stdout",
     "output_type": "stream",
     "text": [
      "(:call, :f, :x, \n",
      "    (:call, :g, :y, :z))"
     ]
    }
   ],
   "source": [
    "show_texpr(:(f(x, g(y, z))))"
   ]
  },
  {
   "cell_type": "code",
   "execution_count": 13,
   "metadata": {},
   "outputs": [
    {
     "name": "stdout",
     "output_type": "stream",
     "text": [
      "(:call, :+, \n",
      "    (:call, :*, 2, :x), 1)"
     ]
    }
   ],
   "source": [
    "@show_texpr 2x+1"
   ]
  },
  {
   "cell_type": "code",
   "execution_count": 14,
   "metadata": {},
   "outputs": [
    {
     "data": {
      "text/plain": [
       "21"
      ]
     },
     "execution_count": 14,
     "metadata": {},
     "output_type": "execute_result"
    }
   ],
   "source": [
    "x = 10; (:call, :+, \n",
    "    (:call, :*, 2, :x), 1) |> teval"
   ]
  },
  {
   "cell_type": "code",
   "execution_count": 15,
   "metadata": {
    "tags": []
   },
   "outputs": [
    {
     "data": {
      "text/plain": [
       ":(sin(π / 6))"
      ]
     },
     "execution_count": 15,
     "metadata": {},
     "output_type": "execute_result"
    }
   ],
   "source": [
    "texpr2expr((:call, :sin, (:call, :/, π, 6)))"
   ]
  },
  {
   "cell_type": "code",
   "execution_count": 16,
   "metadata": {
    "tags": []
   },
   "outputs": [
    {
     "data": {
      "text/plain": [
       "0.49999999999999994"
      ]
     },
     "execution_count": 16,
     "metadata": {},
     "output_type": "execute_result"
    }
   ],
   "source": [
    "(:call, :sin, (:call, :/, π, 6)) |> teval"
   ]
  },
  {
   "cell_type": "code",
   "execution_count": 17,
   "metadata": {
    "tags": []
   },
   "outputs": [
    {
     "data": {
      "text/plain": [
       "0.49999999999999994"
      ]
     },
     "execution_count": 17,
     "metadata": {},
     "output_type": "execute_result"
    }
   ],
   "source": [
    "@teval (:call, :sin, (:call, :/, π, 6))"
   ]
  },
  {
   "cell_type": "code",
   "execution_count": 18,
   "metadata": {},
   "outputs": [
    {
     "name": "stdout",
     "output_type": "stream",
     "text": [
      ":(sin(π / 6))\n",
      "→ 0.49999999999999994\n"
     ]
    }
   ],
   "source": [
    "MetaUtils.@t (:call, :sin, (:call, :/, π, 6))"
   ]
  },
  {
   "cell_type": "code",
   "execution_count": 19,
   "metadata": {},
   "outputs": [
    {
     "name": "stdout",
     "output_type": "stream",
     "text": [
      "(:call, :sin, (:call, :/, π, 6))\n",
      "→ (:call, :sin, \n",
      "    (:call, :/, π, 6))\n",
      "→ :(sin(π / 6))\n",
      "→ 0.49999999999999994\n"
     ]
    }
   ],
   "source": [
    "MetaUtils.@T (:call, :sin, (:call, :/, π, 6))"
   ]
  },
  {
   "cell_type": "code",
   "execution_count": 20,
   "metadata": {
    "tags": []
   },
   "outputs": [
    {
     "data": {
      "text/plain": [
       "0.49999999999999994"
      ]
     },
     "execution_count": 20,
     "metadata": {},
     "output_type": "execute_result"
    }
   ],
   "source": [
    "(:sin, (:/, π, 6)) |> teval"
   ]
  },
  {
   "cell_type": "code",
   "execution_count": 21,
   "metadata": {
    "tags": []
   },
   "outputs": [
    {
     "data": {
      "text/plain": [
       "0.49999999999999994"
      ]
     },
     "execution_count": 21,
     "metadata": {},
     "output_type": "execute_result"
    }
   ],
   "source": [
    "@teval (:sin, (:/, π, 6))"
   ]
  },
  {
   "cell_type": "code",
   "execution_count": 22,
   "metadata": {},
   "outputs": [
    {
     "name": "stdout",
     "output_type": "stream",
     "text": [
      ":(sin(π / 6))\n",
      "→ 0.49999999999999994\n"
     ]
    }
   ],
   "source": [
    "MetaUtils.@t (:sin, (:/, π, 6))"
   ]
  },
  {
   "cell_type": "code",
   "execution_count": 23,
   "metadata": {},
   "outputs": [
    {
     "name": "stdout",
     "output_type": "stream",
     "text": [
      "(:sin, (:/, π, 6))\n",
      "→ (:call, :sin, \n",
      "    (:call, :/, π, 6))\n",
      "→ :(sin(π / 6))\n",
      "→ 0.49999999999999994\n"
     ]
    }
   ],
   "source": [
    "MetaUtils.@T (:sin, (:/, π, 6))"
   ]
  },
  {
   "cell_type": "markdown",
   "metadata": {},
   "source": [
    "## Miscellaneous examples of @show_texpr, etc."
   ]
  },
  {
   "cell_type": "markdown",
   "metadata": {},
   "source": [
    "### for loop"
   ]
  },
  {
   "cell_type": "code",
   "execution_count": 24,
   "metadata": {},
   "outputs": [
    {
     "name": "stdout",
     "output_type": "stream",
     "text": [
      "(:for, \n",
      "    (:(=), :k, \n",
      "        (:call, :(:), 1, 10)), \n",
      "    (:block, \n",
      "        (:(=), :x, \n",
      "            (:call, :÷, \n",
      "                (:call, :*, :k, \n",
      "                    (:call, :+, :k, 1)), 2)), \n",
      "        (:call, :println, \"k(k+1)/2 = \", :x)))"
     ]
    }
   ],
   "source": [
    "@show_texpr for k in 1:10\n",
    "    x = k*(k+1) ÷ 2\n",
    "    println(\"k(k+1)/2 = \", x)\n",
    "end"
   ]
  },
  {
   "cell_type": "code",
   "execution_count": 25,
   "metadata": {},
   "outputs": [
    {
     "name": "stdout",
     "output_type": "stream",
     "text": [
      "(:for, \n",
      "    (:(=), :k, \n",
      "        (:call, :(:), 1, 10)), \n",
      "    (:block, LineNumberNode(2, Symbol(\"In[25]\")), \n",
      "        (:(=), :x, \n",
      "            (:call, :÷, \n",
      "                (:call, :*, :k, \n",
      "                    (:call, :+, :k, 1)), 2)), LineNumberNode(3, Symbol(\"In[25]\")), \n",
      "        (:call, :println, \"k(k+1)/2 = \", :x)))"
     ]
    }
   ],
   "source": [
    "@show_texpr for k in 1:10\n",
    "    x = k*(k+1) ÷ 2\n",
    "    println(\"k(k+1)/2 = \", x)\n",
    "end true"
   ]
  },
  {
   "cell_type": "code",
   "execution_count": 26,
   "metadata": {},
   "outputs": [
    {
     "name": "stdout",
     "output_type": "stream",
     "text": [
      "Expr(:for)\n",
      "├─ Expr(:(=))\n",
      "│  ├─ :k\n",
      "│  └─ Expr(:call)\n",
      "│     ⋮\n",
      "│     \n",
      "└─ Expr(:block)\n",
      "   ├─ Expr(:(=))\n",
      "   │  ⋮\n",
      "   │  \n",
      "   └─ Expr(:call)\n",
      "      ⋮\n",
      "      \n"
     ]
    }
   ],
   "source": [
    "@show_tree for k in 1:10\n",
    "    x = k*(k+1) ÷ 2\n",
    "    println(\"k(k+1)/2 = \", x)\n",
    "end 2"
   ]
  },
  {
   "cell_type": "code",
   "execution_count": 27,
   "metadata": {},
   "outputs": [
    {
     "name": "stdout",
     "output_type": "stream",
     "text": [
      "Expr(:for)\n",
      "├─ Expr(:(=))\n",
      "│  ├─ :k\n",
      "│  └─ Expr(:call)\n",
      "│     ├─ :(:)\n",
      "│     ├─ 1\n",
      "│     └─ 10\n",
      "└─ Expr(:block)\n",
      "   ├─ Expr(:(=))\n",
      "   │  ├─ :x\n",
      "   │  └─ Expr(:call)\n",
      "   │     ├─ :÷\n",
      "   │     ├─ Expr(:call)\n",
      "   │     │  ├─ :*\n",
      "   │     │  ├─ :k\n",
      "   │     │  └─ Expr(:call)\n",
      "   │     │     ├─ :+\n",
      "   │     │     ├─ :k\n",
      "   │     │     └─ 1\n",
      "   │     └─ 2\n",
      "   └─ Expr(:call)\n",
      "      ├─ :println\n",
      "      ├─ \"k(k+1)/2 = \"\n",
      "      └─ :x\n"
     ]
    }
   ],
   "source": [
    "@show_tree for k in 1:10\n",
    "    x = k*(k+1) ÷ 2\n",
    "    println(\"k(k+1)/2 = \", x)\n",
    "end"
   ]
  },
  {
   "cell_type": "code",
   "execution_count": 28,
   "metadata": {},
   "outputs": [
    {
     "name": "stdout",
     "output_type": "stream",
     "text": [
      "Expr(:for)\n",
      "├─ Expr(:(=))\n",
      "│  ├─ :k\n",
      "│  └─ Expr(:call)\n",
      "│     ├─ :(:)\n",
      "│     ├─ 1\n",
      "│     └─ 10\n",
      "└─ Expr(:block)\n",
      "   ├─ :(#= In[28]:2 =#)\n",
      "   ├─ Expr(:(=))\n",
      "   │  ├─ :x\n",
      "   │  └─ Expr(:call)\n",
      "   │     ├─ :÷\n",
      "   │     ├─ Expr(:call)\n",
      "   │     │  ├─ :*\n",
      "   │     │  ├─ :k\n",
      "   │     │  └─ Expr(:call)\n",
      "   │     │     ├─ :+\n",
      "   │     │     ├─ :k\n",
      "   │     │     └─ 1\n",
      "   │     └─ 2\n",
      "   ├─ :(#= In[28]:3 =#)\n",
      "   └─ Expr(:call)\n",
      "      ├─ :println\n",
      "      ├─ \"k(k+1)/2 = \"\n",
      "      └─ :x\n"
     ]
    }
   ],
   "source": [
    "@show_tree for k in 1:10\n",
    "    x = k*(k+1) ÷ 2\n",
    "    println(\"k(k+1)/2 = \", x)\n",
    "end 10 true"
   ]
  },
  {
   "cell_type": "code",
   "execution_count": 29,
   "metadata": {},
   "outputs": [
    {
     "name": "stdout",
     "output_type": "stream",
     "text": [
      "Expr\n",
      "  head: Symbol for\n",
      "  args: Array{Any}((2,))\n",
      "    1: Expr\n",
      "      head: Symbol =\n",
      "      args: Array{Any}((2,))\n",
      "        1: Symbol k\n",
      "        2: Expr\n",
      "          head: Symbol call\n",
      "          args: Array{Any}((3,))\n",
      "            1: Symbol :\n",
      "            2: Int64 1\n",
      "            3: Int64 10\n",
      "    2: Expr\n",
      "      head: Symbol block\n",
      "      args: Array{Any}((4,))\n",
      "        1: LineNumberNode\n",
      "          line: Int64 2\n",
      "          file: Symbol In[29]\n",
      "        2: Expr\n",
      "          head: Symbol =\n",
      "          args: Array{Any}((2,))\n",
      "            1: Symbol x\n",
      "            2: Expr\n",
      "              head: Symbol call\n",
      "              args: Array{Any}((3,))\n",
      "                1: Symbol ÷\n",
      "                2: Expr\n",
      "                3: Int64 2\n",
      "        3: LineNumberNode\n",
      "          line: Int64 3\n",
      "          file: Symbol In[29]\n",
      "        4: Expr\n",
      "          head: Symbol call\n",
      "          args: Array{Any}((3,))\n",
      "            1: Symbol println\n",
      "            2: String \"k(k+1)/2 = \"\n",
      "            3: Symbol x\n"
     ]
    }
   ],
   "source": [
    "Meta.@dump for k in 1:10\n",
    "    x = k*(k+1) ÷ 2\n",
    "    println(\"k(k+1)/2 = \", x)\n",
    "end"
   ]
  },
  {
   "cell_type": "code",
   "execution_count": 30,
   "metadata": {
    "tags": []
   },
   "outputs": [
    {
     "name": "stdout",
     "output_type": "stream",
     "text": [
      "Expr(:for, \n",
      "    Expr(:(=), :k, \n",
      "        Expr(:call, :(:), 1, 10)), \n",
      "    Expr(:block, \n",
      "        Expr(:(=), :x, \n",
      "            Expr(:call, :÷, \n",
      "                Expr(:call, :*, :k, \n",
      "                    Expr(:call, :+, :k, 1)), 2)), \n",
      "        Expr(:call, :println, \"k(k+1)/2 = \", :x)))"
     ]
    }
   ],
   "source": [
    "@show_expr for k in 1:10\n",
    "    x = k*(k+1) ÷ 2\n",
    "    println(\"k(k+1)/2 = \", x)\n",
    "end"
   ]
  },
  {
   "cell_type": "code",
   "execution_count": 31,
   "metadata": {
    "tags": []
   },
   "outputs": [
    {
     "name": "stdout",
     "output_type": "stream",
     "text": [
      "(:for, \n",
      "    (:(=), :k, \n",
      "        (:call, :(:), 1, 10)), \n",
      "    (:block, \n",
      "        (:(=), :x, \n",
      "            (:call, :÷, \n",
      "                (:call, :*, :k, \n",
      "                    (:call, :+, :k, 1)), 2)), \n",
      "        (:call, :println, \"k(k+1)/2 = \", :x)))"
     ]
    }
   ],
   "source": [
    "@show_texpr for k in 1:10\n",
    "    x = k*(k+1) ÷ 2\n",
    "    println(\"k(k+1)/2 = \", x)\n",
    "end"
   ]
  },
  {
   "cell_type": "markdown",
   "metadata": {},
   "source": [
    "### subtype trees"
   ]
  },
  {
   "cell_type": "code",
   "execution_count": 32,
   "metadata": {},
   "outputs": [
    {
     "name": "stdout",
     "output_type": "stream",
     "text": [
      "AbstractRange\n",
      "├─ LinRange\n",
      "├─ OrdinalRange\n",
      "│  ├─ AbstractUnitRange\n",
      "│  │  ├─ Base.IdentityUnitRange\n",
      "│  │  ├─ Base.OneTo\n",
      "│  │  ├─ Base.Slice\n",
      "│  │  └─ UnitRange\n",
      "│  └─ StepRange\n",
      "└─ StepRangeLen\n"
     ]
    }
   ],
   "source": [
    "print_subtypes(AbstractRange)"
   ]
  },
  {
   "cell_type": "code",
   "execution_count": 33,
   "metadata": {},
   "outputs": [
    {
     "name": "stdout",
     "output_type": "stream",
     "text": [
      "Number\n",
      "├─ Complex\n",
      "└─ Real\n",
      "   ├─ AbstractFloat\n",
      "   │  ├─ BigFloat\n",
      "   │  ├─ Float16\n",
      "   │  ├─ Float32\n",
      "   │  └─ Float64\n",
      "   ├─ AbstractIrrational\n",
      "   │  └─ Irrational\n",
      "   ├─ Integer\n",
      "   │  ├─ Bool\n",
      "   │  ├─ Signed\n",
      "   │  │  ├─ BigInt\n",
      "   │  │  ├─ Int128\n",
      "   │  │  ├─ Int16\n",
      "   │  │  ├─ Int32\n",
      "   │  │  ├─ Int64\n",
      "   │  │  └─ Int8\n",
      "   │  └─ Unsigned\n",
      "   │     ├─ UInt128\n",
      "   │     ├─ UInt16\n",
      "   │     ├─ UInt32\n",
      "   │     ├─ UInt64\n",
      "   │     └─ UInt8\n",
      "   └─ Rational\n"
     ]
    }
   ],
   "source": [
    "print_subtypes(Number)"
   ]
  },
  {
   "cell_type": "code",
   "execution_count": 34,
   "metadata": {},
   "outputs": [
    {
     "name": "stdout",
     "output_type": "stream",
     "text": [
      "AbstractVector\n",
      "├─ AbstractRange\n",
      "│  ├─ LinRange\n",
      "│  ├─ OrdinalRange\n",
      "│  │  ├─ AbstractUnitRange\n",
      "│  │  │  ├─ Base.IdentityUnitRange\n",
      "│  │  │  ├─ Base.OneTo\n",
      "│  │  │  ├─ Base.Slice\n",
      "│  │  │  └─ UnitRange\n",
      "│  │  └─ StepRange\n",
      "│  └─ StepRangeLen\n",
      "├─ Base.ExceptionStack\n",
      "├─ Base.LogicalIndex\n",
      "├─ Base.MethodList\n",
      "├─ Base.ReinterpretArray{T, 1, S, A} where {T, S, A<:(AbstractArray{S})}\n",
      "├─ Base.ReshapedArray{T, 1} where T\n",
      "├─ BitVector\n",
      "├─ CartesianIndices{1, R} where R<:Tuple{OrdinalRange{Int64, Int64}}\n",
      "├─ Core.Compiler.AbstractRange\n",
      "│  ├─ Core.Compiler.LinRange\n",
      "│  ├─ Core.Compiler.OrdinalRange\n",
      "│  │  ├─ Core.Compiler.AbstractUnitRange\n",
      "│  │  │  ├─ Core.Compiler.IdentityUnitRange\n",
      "│  │  │  ├─ Core.Compiler.OneTo\n",
      "│  │  │  ├─ Core.Compiler.Slice\n",
      "│  │  │  ├─ Core.Compiler.StmtRange\n",
      "│  │  │  └─ Core.Compiler.UnitRange\n",
      "│  │  └─ Core.Compiler.StepRange\n",
      "│  └─ Core.Compiler.StepRangeLen\n",
      "├─ Core.Compiler.BitArray{1}\n",
      "├─ Core.Compiler.ExceptionStack\n",
      "├─ Core.Compiler.LinearIndices{1, R} where R<:Tuple{Core.Compiler.AbstractUnitRange{Int64}}\n",
      "├─ Core.Compiler.MethodList\n",
      "├─ DenseVector\n",
      "│  ├─ Base.CodeUnits\n",
      "│  ├─ Base.Experimental.Const{T, 1} where T\n",
      "│  ├─ Random.UnsafeView\n",
      "│  ├─ SharedArrays.SharedVector\n",
      "│  └─ Vector\n",
      "├─ LinearIndices{1, R} where R<:Tuple{AbstractUnitRange{Int64}}\n",
      "├─ PermutedDimsArray{T, 1} where T\n",
      "├─ SparseArrays.AbstractSparseVector\n",
      "│  └─ SparseArrays.SparseVector\n",
      "├─ SubArray{T, 1} where T\n",
      "├─ Test.GenericArray{T, 1} where T\n",
      "└─ ZMQ.Message\n"
     ]
    }
   ],
   "source": [
    "print_subtypes(AbstractVector)"
   ]
  },
  {
   "cell_type": "markdown",
   "metadata": {},
   "source": [
    "### function definition"
   ]
  },
  {
   "cell_type": "code",
   "execution_count": 35,
   "metadata": {},
   "outputs": [
    {
     "name": "stdout",
     "output_type": "stream",
     "text": [
      "(:function, \n",
      "    (:where, \n",
      "        (:call, :f, \n",
      "            (:(::), :x, :T)), \n",
      "        (:<:, :T, :Number)), \n",
      "    (:block, \n",
      "        (:call, :sin, :x)))"
     ]
    }
   ],
   "source": [
    "@show_texpr function f(x::T) where T<:Number\n",
    "    sin(x)\n",
    "end"
   ]
  },
  {
   "cell_type": "code",
   "execution_count": 36,
   "metadata": {},
   "outputs": [
    {
     "name": "stdout",
     "output_type": "stream",
     "text": [
      "Expr(:function)\n",
      "├─ Expr(:where)\n",
      "│  ├─ Expr(:call)\n",
      "│  │  ├─ :f\n",
      "│  │  └─ Expr(:(::))\n",
      "│  │     ├─ :x\n",
      "│  │     └─ :T\n",
      "│  └─ Expr(:<:)\n",
      "│     ├─ :T\n",
      "│     └─ :Number\n",
      "└─ Expr(:block)\n",
      "   └─ Expr(:call)\n",
      "      ├─ :sin\n",
      "      └─ :x\n"
     ]
    }
   ],
   "source": [
    "@show_tree function f(x::T) where T<:Number\n",
    "    sin(x)\n",
    "end"
   ]
  },
  {
   "cell_type": "code",
   "execution_count": 37,
   "metadata": {},
   "outputs": [
    {
     "name": "stdout",
     "output_type": "stream",
     "text": [
      "Expr(:function, \n",
      "    Expr(:where, \n",
      "        Expr(:call, :f, \n",
      "            Expr(:(::), :x, :T)), \n",
      "        Expr(:<:, :T, :Number)), \n",
      "    Expr(:block, \n",
      "        Expr(:call, :sin, :x)))"
     ]
    }
   ],
   "source": [
    "@show_expr function f(x::T) where T<:Number\n",
    "    sin(x)\n",
    "end"
   ]
  },
  {
   "cell_type": "code",
   "execution_count": 38,
   "metadata": {},
   "outputs": [
    {
     "name": "stdout",
     "output_type": "stream",
     "text": [
      "(:function, \n",
      "    (:where, \n",
      "        (:call, :f, \n",
      "            (:(::), :x, :T)), \n",
      "        (:<:, :T, :Number)), \n",
      "    (:block, \n",
      "        (:call, :sin, :x)))"
     ]
    }
   ],
   "source": [
    "@show_texpr function f(x::T) where T<:Number\n",
    "    sin(x)\n",
    "end"
   ]
  },
  {
   "cell_type": "markdown",
   "metadata": {},
   "source": [
    "### macro and LineNumberNode"
   ]
  },
  {
   "cell_type": "code",
   "execution_count": 39,
   "metadata": {},
   "outputs": [
    {
     "name": "stdout",
     "output_type": "stream",
     "text": [
      "Expr(:macrocall)\n",
      "├─ Symbol(\"@show\")\n",
      "├─ :(#= In[39]:1 =#)\n",
      "└─ Expr(:call)\n",
      "   ├─ :float\n",
      "   └─ :π\n"
     ]
    }
   ],
   "source": [
    "@show_tree @show float(π)"
   ]
  },
  {
   "cell_type": "code",
   "execution_count": 40,
   "metadata": {},
   "outputs": [
    {
     "name": "stdout",
     "output_type": "stream",
     "text": [
      "(:macrocall, Symbol(\"@show\"), :(#= In[40]:1 =#), (:call, :float, :π))"
     ]
    }
   ],
   "source": [
    "@show_sexpr @show float(π)"
   ]
  },
  {
   "cell_type": "code",
   "execution_count": 41,
   "metadata": {},
   "outputs": [
    {
     "name": "stdout",
     "output_type": "stream",
     "text": [
      "float(π) = 3.141592653589793\n"
     ]
    },
    {
     "data": {
      "text/plain": [
       "3.141592653589793"
      ]
     },
     "execution_count": 41,
     "metadata": {},
     "output_type": "execute_result"
    }
   ],
   "source": [
    "@teval (:macrocall, Symbol(\"@show\"), :(#= In[34]:1 =#), (:call, :float, :π))"
   ]
  },
  {
   "cell_type": "code",
   "execution_count": 42,
   "metadata": {},
   "outputs": [
    {
     "name": "stdout",
     "output_type": "stream",
     "text": [
      "Expr(:macrocall, Symbol(\"@show\"), LineNumberNode(1, Symbol(\"In[42]\")), \n",
      "    Expr(:call, :float, :π))"
     ]
    }
   ],
   "source": [
    "@show_expr @show float(π)"
   ]
  },
  {
   "cell_type": "code",
   "execution_count": 43,
   "metadata": {},
   "outputs": [
    {
     "name": "stdout",
     "output_type": "stream",
     "text": [
      "Expr(:macrocall, Symbol(\"@show\"), LineNumberNode(1, Symbol(\"In[43]\")), \n",
      "    Expr(:call, :float, :π))"
     ]
    }
   ],
   "source": [
    "Expr(:macrocall, Symbol(\"@show\"), LineNumberNode(@__LINE__, @__FILE__), \n",
    "    Expr(:call, :float, :π)) |> show_expr"
   ]
  },
  {
   "cell_type": "code",
   "execution_count": 44,
   "metadata": {},
   "outputs": [
    {
     "name": "stdout",
     "output_type": "stream",
     "text": [
      "float(π) = 3.141592653589793\n"
     ]
    },
    {
     "data": {
      "text/plain": [
       "3.141592653589793"
      ]
     },
     "execution_count": 44,
     "metadata": {},
     "output_type": "execute_result"
    }
   ],
   "source": [
    "Expr(:macrocall, Symbol(\"@show\"), LineNumberNode(@__LINE__, @__FILE__), \n",
    "    Expr(:call, :float, :π)) |> eval"
   ]
  },
  {
   "cell_type": "code",
   "execution_count": 45,
   "metadata": {},
   "outputs": [
    {
     "name": "stdout",
     "output_type": "stream",
     "text": [
      "(:macrocall, Symbol(\"@show\"), LineNumberNode(1, Symbol(\"In[45]\")), \n",
      "    (:call, :float, :π))"
     ]
    }
   ],
   "source": [
    "@show_texpr @show float(π)"
   ]
  },
  {
   "cell_type": "code",
   "execution_count": 46,
   "metadata": {},
   "outputs": [
    {
     "name": "stdout",
     "output_type": "stream",
     "text": [
      "float(π) = 3.141592653589793\n"
     ]
    },
    {
     "data": {
      "text/plain": [
       "3.141592653589793"
      ]
     },
     "execution_count": 46,
     "metadata": {},
     "output_type": "execute_result"
    }
   ],
   "source": [
    "(:macrocall, Symbol(\"@show\"), LineNumberNode(@__LINE__, @__FILE__), \n",
    "    (:call, :float, :π)) |> teval"
   ]
  },
  {
   "cell_type": "code",
   "execution_count": 47,
   "metadata": {},
   "outputs": [
    {
     "name": "stdout",
     "output_type": "stream",
     "text": [
      "float(π) = 3.141592653589793\n"
     ]
    },
    {
     "data": {
      "text/plain": [
       "3.141592653589793"
      ]
     },
     "execution_count": 47,
     "metadata": {},
     "output_type": "execute_result"
    }
   ],
   "source": [
    "@teval (:macrocall, Symbol(\"@show\"), LineNumberNode(@__LINE__, @__FILE__),  \n",
    "    (:call, :float, :π))"
   ]
  },
  {
   "cell_type": "markdown",
   "metadata": {},
   "source": [
    "### QuoteNode"
   ]
  },
  {
   "cell_type": "code",
   "execution_count": 48,
   "metadata": {},
   "outputs": [
    {
     "data": {
      "text/plain": [
       ":($(QuoteNode(:(sin(x)))))"
      ]
     },
     "execution_count": 48,
     "metadata": {},
     "output_type": "execute_result"
    }
   ],
   "source": [
    "QuoteNode(:(sin(x)))"
   ]
  },
  {
   "cell_type": "code",
   "execution_count": 49,
   "metadata": {},
   "outputs": [
    {
     "name": "stdout",
     "output_type": "stream",
     "text": [
      "(:quote, #QuoteNode\n",
      "  (:call, :sin, :x)\n",
      ")"
     ]
    }
   ],
   "source": [
    "QuoteNode(:(sin(x))) |> Meta.show_sexpr"
   ]
  },
  {
   "cell_type": "code",
   "execution_count": 50,
   "metadata": {},
   "outputs": [
    {
     "name": "stdout",
     "output_type": "stream",
     "text": [
      "QuoteNode(\n",
      "    Expr(:call, :sin, :x))"
     ]
    }
   ],
   "source": [
    "QuoteNode(:(sin(x))) |> show_expr"
   ]
  },
  {
   "cell_type": "code",
   "execution_count": 51,
   "metadata": {},
   "outputs": [
    {
     "name": "stdout",
     "output_type": "stream",
     "text": [
      "QuoteNode(\n",
      "    (:call, :sin, :x))"
     ]
    }
   ],
   "source": [
    "QuoteNode(:(sin(x))) |> show_texpr"
   ]
  },
  {
   "cell_type": "code",
   "execution_count": 52,
   "metadata": {},
   "outputs": [
    {
     "data": {
      "text/plain": [
       "true"
      ]
     },
     "execution_count": 52,
     "metadata": {},
     "output_type": "execute_result"
    }
   ],
   "source": [
    "QuoteNode(\n",
    "    (:call, :sin, :x)) |> texpr2expr == QuoteNode(:(sin(x)))"
   ]
  },
  {
   "cell_type": "code",
   "execution_count": 53,
   "metadata": {},
   "outputs": [
    {
     "data": {
      "text/plain": [
       ":(sin(x))"
      ]
     },
     "execution_count": 53,
     "metadata": {},
     "output_type": "execute_result"
    }
   ],
   "source": [
    "@teval QuoteNode(\n",
    "    (:call, :sin, :x))"
   ]
  },
  {
   "cell_type": "markdown",
   "metadata": {},
   "source": [
    "## Evaluation of Lisp-like tuple expressions\n",
    "\n",
    "If you want more Lisp-like examamples, see [LispLikeEval.ipynb](https://nbviewer.jupyter.org/github/genkuroki/LispLikeEval.jl/blob/master/LispLikeEval.ipynb)."
   ]
  },
  {
   "cell_type": "code",
   "execution_count": 54,
   "metadata": {},
   "outputs": [],
   "source": [
    "using MetaUtils: @t, @T"
   ]
  },
  {
   "cell_type": "code",
   "execution_count": 55,
   "metadata": {},
   "outputs": [
    {
     "name": "stdout",
     "output_type": "stream",
     "text": [
      ":(f(x) = sin(x))\n",
      "→ f\n",
      "\n",
      ":(f(π / 6))\n",
      "→ 0.49999999999999994\n"
     ]
    }
   ],
   "source": [
    "# Define and run a function f(x) = sin(x)\n",
    "\n",
    "@t (:(=), :(f(x)), (:sin, :x))\n",
    "println()\n",
    "@t (:f, (:/, π, 6))"
   ]
  },
  {
   "cell_type": "code",
   "execution_count": 56,
   "metadata": {},
   "outputs": [
    {
     "name": "stdout",
     "output_type": "stream",
     "text": [
      "(:(=), :(f(x)), (:sin, :x))\n",
      "→ (:(=), \n",
      "    (:call, :f, :x), \n",
      "    (:call, :sin, :x))\n",
      "→ :(f(x) = sin(x))\n",
      "→ f\n",
      "\n",
      "(:f, (:/, π, 6))\n",
      "→ (:call, :f, \n",
      "    (:call, :/, π, 6))\n",
      "→ :(f(π / 6))\n",
      "→ 0.49999999999999994\n"
     ]
    }
   ],
   "source": [
    "# Define and run a function f(x) = sin(x)\n",
    "\n",
    "@T (:(=), :(f(x)), (:sin, :x))\n",
    "println()\n",
    "@T (:f, (:/, π, 6))"
   ]
  },
  {
   "cell_type": "code",
   "execution_count": 57,
   "metadata": {},
   "outputs": [
    {
     "name": "stdout",
     "output_type": "stream",
     "text": [
      "quote\n",
      "    function g(x)\n",
      "        sin(x)\n",
      "    end\n",
      "    g(π / 6)\n",
      "end\n",
      "→ 0.49999999999999994\n"
     ]
    }
   ],
   "source": [
    "# Define and run a function g(x) = sin(x)\n",
    "\n",
    "@t (:block,\n",
    "    (:function, :(g(x)), (:sin, :x)),\n",
    "    (:call, :g, (:/, π, 6)))"
   ]
  },
  {
   "cell_type": "code",
   "execution_count": 58,
   "metadata": {},
   "outputs": [
    {
     "name": "stdout",
     "output_type": "stream",
     "text": [
      "(:block, (:function, :(g(x)), (:sin, :x)), (:call, :g, (:/, π, 6)))\n",
      "→ (:block, \n",
      "    (:function, \n",
      "        (:call, :g, :x), \n",
      "        (:call, :sin, :x)), \n",
      "    (:call, :g, \n",
      "        (:call, :/, π, 6)))\n",
      "→ quote\n",
      "    function g(x)\n",
      "        sin(x)\n",
      "    end\n",
      "    g(π / 6)\n",
      "end\n",
      "→ 0.49999999999999994\n"
     ]
    }
   ],
   "source": [
    "# Define and run a function g(x) = sin(x)\n",
    "\n",
    "@T (:block,\n",
    "    (:function, :(g(x)), (:sin, :x)),\n",
    "    (:call, :g, (:/, π, 6)))"
   ]
  },
  {
   "cell_type": "code",
   "execution_count": 59,
   "metadata": {},
   "outputs": [
    {
     "name": "stdout",
     "output_type": "stream",
     "text": [
      "quote\n",
      "    function pi_mc(N)\n",
      "        c = 0\n",
      "        for i = 1:N\n",
      "            c += ifelse(rand() ^ 2 + rand() ^ 2 ≤ 1, 1, 0)\n",
      "        end\n",
      "        (4c) / N\n",
      "    end\n",
      "    pi_mc(10 ^ 8)\n",
      "end\n",
      "→ 3.14178092\n"
     ]
    }
   ],
   "source": [
    "# Calculation of pi by the Monte Carlo method\n",
    "\n",
    "@t (:block, \n",
    "    (:function, :(pi_mc(N)), \n",
    "        (:block, \n",
    "            (:(=), :c, 0), \n",
    "            (:for, (:(=), :i, (:(:), 1, :N)), \n",
    "                (:block, \n",
    "                    (:+=, :c, \n",
    "                        (:call, :ifelse, \n",
    "                            (:≤, (:+, (:^, (:rand,), 2), (:^, (:rand,), 2)), 1), \n",
    "                            1, 0)))), \n",
    "            (:/, (:*, 4, :c), :N))), \n",
    "    (:call, :pi_mc, (:^, 10, 8)))"
   ]
  },
  {
   "cell_type": "code",
   "execution_count": 60,
   "metadata": {},
   "outputs": [
    {
     "name": "stdout",
     "output_type": "stream",
     "text": [
      ":($(Expr(:quote, :(sin(x)))))\n",
      "→ :(sin(x))\n"
     ]
    }
   ],
   "source": [
    "# quote\n",
    "\n",
    "@t (:quote, (:sin, :x))"
   ]
  },
  {
   "cell_type": "code",
   "execution_count": 61,
   "metadata": {},
   "outputs": [
    {
     "name": "stdout",
     "output_type": "stream",
     "text": [
      ":((1, 2, 3))\n",
      "→ (1, 2, 3)\n"
     ]
    }
   ],
   "source": [
    "# tuple\n",
    "\n",
    "@t (:tuple, 1, 2, 3)"
   ]
  },
  {
   "cell_type": "markdown",
   "metadata": {},
   "source": [
    "## Plot example"
   ]
  },
  {
   "cell_type": "code",
   "execution_count": 62,
   "metadata": {},
   "outputs": [
    {
     "data": {
      "image/svg+xml": [
       "<?xml version=\"1.0\" encoding=\"utf-8\"?>\n",
       "<svg xmlns=\"http://www.w3.org/2000/svg\" xmlns:xlink=\"http://www.w3.org/1999/xlink\" width=\"600\" height=\"400\" viewBox=\"0 0 2400 1600\">\n",
       "<defs>\n",
       "  <clipPath id=\"clip500\">\n",
       "    <rect x=\"0\" y=\"0\" width=\"2400\" height=\"1600\"/>\n",
       "  </clipPath>\n",
       "</defs>\n",
       "<path clip-path=\"url(#clip500)\" d=\"\n",
       "M0 1600 L2400 1600 L2400 0 L0 0  Z\n",
       "  \" fill=\"#ffffff\" fill-rule=\"evenodd\" fill-opacity=\"1\"/>\n",
       "<defs>\n",
       "  <clipPath id=\"clip501\">\n",
       "    <rect x=\"480\" y=\"0\" width=\"1681\" height=\"1600\"/>\n",
       "  </clipPath>\n",
       "</defs>\n",
       "<path clip-path=\"url(#clip500)\" d=\"\n",
       "M193.936 1486.45 L2352.76 1486.45 L2352.76 47.2441 L193.936 47.2441  Z\n",
       "  \" fill=\"#ffffff\" fill-rule=\"evenodd\" fill-opacity=\"1\"/>\n",
       "<defs>\n",
       "  <clipPath id=\"clip502\">\n",
       "    <rect x=\"193\" y=\"47\" width=\"2160\" height=\"1440\"/>\n",
       "  </clipPath>\n",
       "</defs>\n",
       "<polyline clip-path=\"url(#clip502)\" style=\"stroke:#000000; stroke-linecap:butt; stroke-linejoin:round; stroke-width:2; stroke-opacity:0.1; fill:none\" points=\"\n",
       "  300.93,1486.45 300.93,47.2441 \n",
       "  \"/>\n",
       "<polyline clip-path=\"url(#clip502)\" style=\"stroke:#000000; stroke-linecap:butt; stroke-linejoin:round; stroke-width:2; stroke-opacity:0.1; fill:none\" points=\"\n",
       "  625.069,1486.45 625.069,47.2441 \n",
       "  \"/>\n",
       "<polyline clip-path=\"url(#clip502)\" style=\"stroke:#000000; stroke-linecap:butt; stroke-linejoin:round; stroke-width:2; stroke-opacity:0.1; fill:none\" points=\"\n",
       "  949.207,1486.45 949.207,47.2441 \n",
       "  \"/>\n",
       "<polyline clip-path=\"url(#clip502)\" style=\"stroke:#000000; stroke-linecap:butt; stroke-linejoin:round; stroke-width:2; stroke-opacity:0.1; fill:none\" points=\"\n",
       "  1273.35,1486.45 1273.35,47.2441 \n",
       "  \"/>\n",
       "<polyline clip-path=\"url(#clip502)\" style=\"stroke:#000000; stroke-linecap:butt; stroke-linejoin:round; stroke-width:2; stroke-opacity:0.1; fill:none\" points=\"\n",
       "  1597.48,1486.45 1597.48,47.2441 \n",
       "  \"/>\n",
       "<polyline clip-path=\"url(#clip502)\" style=\"stroke:#000000; stroke-linecap:butt; stroke-linejoin:round; stroke-width:2; stroke-opacity:0.1; fill:none\" points=\"\n",
       "  1921.62,1486.45 1921.62,47.2441 \n",
       "  \"/>\n",
       "<polyline clip-path=\"url(#clip502)\" style=\"stroke:#000000; stroke-linecap:butt; stroke-linejoin:round; stroke-width:2; stroke-opacity:0.1; fill:none\" points=\"\n",
       "  2245.76,1486.45 2245.76,47.2441 \n",
       "  \"/>\n",
       "<polyline clip-path=\"url(#clip500)\" style=\"stroke:#000000; stroke-linecap:butt; stroke-linejoin:round; stroke-width:4; stroke-opacity:1; fill:none\" points=\"\n",
       "  193.936,1486.45 2352.76,1486.45 \n",
       "  \"/>\n",
       "<polyline clip-path=\"url(#clip500)\" style=\"stroke:#000000; stroke-linecap:butt; stroke-linejoin:round; stroke-width:4; stroke-opacity:1; fill:none\" points=\"\n",
       "  300.93,1486.45 300.93,1469.18 \n",
       "  \"/>\n",
       "<polyline clip-path=\"url(#clip500)\" style=\"stroke:#000000; stroke-linecap:butt; stroke-linejoin:round; stroke-width:4; stroke-opacity:1; fill:none\" points=\"\n",
       "  625.069,1486.45 625.069,1469.18 \n",
       "  \"/>\n",
       "<polyline clip-path=\"url(#clip500)\" style=\"stroke:#000000; stroke-linecap:butt; stroke-linejoin:round; stroke-width:4; stroke-opacity:1; fill:none\" points=\"\n",
       "  949.207,1486.45 949.207,1469.18 \n",
       "  \"/>\n",
       "<polyline clip-path=\"url(#clip500)\" style=\"stroke:#000000; stroke-linecap:butt; stroke-linejoin:round; stroke-width:4; stroke-opacity:1; fill:none\" points=\"\n",
       "  1273.35,1486.45 1273.35,1469.18 \n",
       "  \"/>\n",
       "<polyline clip-path=\"url(#clip500)\" style=\"stroke:#000000; stroke-linecap:butt; stroke-linejoin:round; stroke-width:4; stroke-opacity:1; fill:none\" points=\"\n",
       "  1597.48,1486.45 1597.48,1469.18 \n",
       "  \"/>\n",
       "<polyline clip-path=\"url(#clip500)\" style=\"stroke:#000000; stroke-linecap:butt; stroke-linejoin:round; stroke-width:4; stroke-opacity:1; fill:none\" points=\"\n",
       "  1921.62,1486.45 1921.62,1469.18 \n",
       "  \"/>\n",
       "<polyline clip-path=\"url(#clip500)\" style=\"stroke:#000000; stroke-linecap:butt; stroke-linejoin:round; stroke-width:4; stroke-opacity:1; fill:none\" points=\"\n",
       "  2245.76,1486.45 2245.76,1469.18 \n",
       "  \"/>\n",
       "<path clip-path=\"url(#clip500)\" d=\"M270.398 1530.29 L300.074 1530.29 L300.074 1534.23 L270.398 1534.23 L270.398 1530.29 Z\" fill=\"#000000\" fill-rule=\"evenodd\" fill-opacity=\"1\" /><path clip-path=\"url(#clip500)\" d=\"M324.333 1528.49 Q327.689 1529.2 329.564 1531.47 Q331.463 1533.74 331.463 1537.07 Q331.463 1542.19 327.944 1544.99 Q324.426 1547.79 317.944 1547.79 Q315.768 1547.79 313.453 1547.35 Q311.162 1546.93 308.708 1546.08 L308.708 1541.56 Q310.652 1542.7 312.967 1543.28 Q315.282 1543.86 317.805 1543.86 Q322.203 1543.86 324.495 1542.12 Q326.81 1540.38 326.81 1537.07 Q326.81 1534.02 324.657 1532.31 Q322.527 1530.57 318.708 1530.57 L314.68 1530.57 L314.68 1526.73 L318.893 1526.73 Q322.342 1526.73 324.171 1525.36 Q326 1523.97 326 1521.38 Q326 1518.72 324.101 1517.31 Q322.226 1515.87 318.708 1515.87 Q316.787 1515.87 314.588 1516.29 Q312.389 1516.7 309.75 1517.58 L309.75 1513.42 Q312.412 1512.68 314.727 1512.31 Q317.064 1511.93 319.125 1511.93 Q324.449 1511.93 327.551 1514.37 Q330.652 1516.77 330.652 1520.89 Q330.652 1523.76 329.009 1525.75 Q327.365 1527.72 324.333 1528.49 Z\" fill=\"#000000\" fill-rule=\"evenodd\" fill-opacity=\"1\" /><path clip-path=\"url(#clip500)\" d=\"M595.011 1530.29 L624.687 1530.29 L624.687 1534.23 L595.011 1534.23 L595.011 1530.29 Z\" fill=\"#000000\" fill-rule=\"evenodd\" fill-opacity=\"1\" /><path clip-path=\"url(#clip500)\" d=\"M638.807 1543.18 L655.127 1543.18 L655.127 1547.12 L633.182 1547.12 L633.182 1543.18 Q635.844 1540.43 640.428 1535.8 Q645.034 1531.15 646.215 1529.81 Q648.46 1527.28 649.34 1525.55 Q650.242 1523.79 650.242 1522.1 Q650.242 1519.34 648.298 1517.61 Q646.377 1515.87 643.275 1515.87 Q641.076 1515.87 638.622 1516.63 Q636.191 1517.4 633.414 1518.95 L633.414 1514.23 Q636.238 1513.09 638.691 1512.51 Q641.145 1511.93 643.182 1511.93 Q648.553 1511.93 651.747 1514.62 Q654.941 1517.31 654.941 1521.8 Q654.941 1523.93 654.131 1525.85 Q653.344 1527.74 651.238 1530.34 Q650.659 1531.01 647.557 1534.23 Q644.455 1537.42 638.807 1543.18 Z\" fill=\"#000000\" fill-rule=\"evenodd\" fill-opacity=\"1\" /><path clip-path=\"url(#clip500)\" d=\"M918.965 1530.29 L948.64 1530.29 L948.64 1534.23 L918.965 1534.23 L918.965 1530.29 Z\" fill=\"#000000\" fill-rule=\"evenodd\" fill-opacity=\"1\" /><path clip-path=\"url(#clip500)\" d=\"M959.543 1543.18 L967.182 1543.18 L967.182 1516.82 L958.872 1518.49 L958.872 1514.23 L967.136 1512.56 L971.811 1512.56 L971.811 1543.18 L979.45 1543.18 L979.45 1547.12 L959.543 1547.12 L959.543 1543.18 Z\" fill=\"#000000\" fill-rule=\"evenodd\" fill-opacity=\"1\" /><path clip-path=\"url(#clip500)\" d=\"M1273.35 1515.64 Q1269.73 1515.64 1267.91 1519.2 Q1266.1 1522.75 1266.1 1529.87 Q1266.1 1536.98 1267.91 1540.55 Q1269.73 1544.09 1273.35 1544.09 Q1276.98 1544.09 1278.79 1540.55 Q1280.61 1536.98 1280.61 1529.87 Q1280.61 1522.75 1278.79 1519.2 Q1276.98 1515.64 1273.35 1515.64 M1273.35 1511.93 Q1279.16 1511.93 1282.21 1516.54 Q1285.29 1521.12 1285.29 1529.87 Q1285.29 1538.6 1282.21 1543.21 Q1279.16 1547.79 1273.35 1547.79 Q1267.54 1547.79 1264.46 1543.21 Q1261.4 1538.6 1261.4 1529.87 Q1261.4 1521.12 1264.46 1516.54 Q1267.54 1511.93 1273.35 1511.93 Z\" fill=\"#000000\" fill-rule=\"evenodd\" fill-opacity=\"1\" /><path clip-path=\"url(#clip500)\" d=\"M1587.87 1543.18 L1595.51 1543.18 L1595.51 1516.82 L1587.2 1518.49 L1587.2 1514.23 L1595.46 1512.56 L1600.13 1512.56 L1600.13 1543.18 L1607.77 1543.18 L1607.77 1547.12 L1587.87 1547.12 L1587.87 1543.18 Z\" fill=\"#000000\" fill-rule=\"evenodd\" fill-opacity=\"1\" /><path clip-path=\"url(#clip500)\" d=\"M1916.28 1543.18 L1932.6 1543.18 L1932.6 1547.12 L1910.65 1547.12 L1910.65 1543.18 Q1913.31 1540.43 1917.9 1535.8 Q1922.5 1531.15 1923.68 1529.81 Q1925.93 1527.28 1926.81 1525.55 Q1927.71 1523.79 1927.71 1522.1 Q1927.71 1519.34 1925.77 1517.61 Q1923.85 1515.87 1920.74 1515.87 Q1918.54 1515.87 1916.09 1516.63 Q1913.66 1517.4 1910.88 1518.95 L1910.88 1514.23 Q1913.71 1513.09 1916.16 1512.51 Q1918.61 1511.93 1920.65 1511.93 Q1926.02 1511.93 1929.22 1514.62 Q1932.41 1517.31 1932.41 1521.8 Q1932.41 1523.93 1931.6 1525.85 Q1930.81 1527.74 1928.71 1530.34 Q1928.13 1531.01 1925.03 1534.23 Q1921.92 1537.42 1916.28 1543.18 Z\" fill=\"#000000\" fill-rule=\"evenodd\" fill-opacity=\"1\" /><path clip-path=\"url(#clip500)\" d=\"M2250.01 1528.49 Q2253.37 1529.2 2255.24 1531.47 Q2257.14 1533.74 2257.14 1537.07 Q2257.14 1542.19 2253.62 1544.99 Q2250.1 1547.79 2243.62 1547.79 Q2241.44 1547.79 2239.13 1547.35 Q2236.84 1546.93 2234.38 1546.08 L2234.38 1541.56 Q2236.33 1542.7 2238.64 1543.28 Q2240.96 1543.86 2243.48 1543.86 Q2247.88 1543.86 2250.17 1542.12 Q2252.49 1540.38 2252.49 1537.07 Q2252.49 1534.02 2250.33 1532.31 Q2248.2 1530.57 2244.38 1530.57 L2240.36 1530.57 L2240.36 1526.73 L2244.57 1526.73 Q2248.02 1526.73 2249.85 1525.36 Q2251.68 1523.97 2251.68 1521.38 Q2251.68 1518.72 2249.78 1517.31 Q2247.9 1515.87 2244.38 1515.87 Q2242.46 1515.87 2240.26 1516.29 Q2238.06 1516.7 2235.43 1517.58 L2235.43 1513.42 Q2238.09 1512.68 2240.4 1512.31 Q2242.74 1511.93 2244.8 1511.93 Q2250.12 1511.93 2253.23 1514.37 Q2256.33 1516.77 2256.33 1520.89 Q2256.33 1523.76 2254.69 1525.75 Q2253.04 1527.72 2250.01 1528.49 Z\" fill=\"#000000\" fill-rule=\"evenodd\" fill-opacity=\"1\" /><polyline clip-path=\"url(#clip502)\" style=\"stroke:#000000; stroke-linecap:butt; stroke-linejoin:round; stroke-width:2; stroke-opacity:0.1; fill:none\" points=\"\n",
       "  193.936,1289.26 2352.76,1289.26 \n",
       "  \"/>\n",
       "<polyline clip-path=\"url(#clip502)\" style=\"stroke:#000000; stroke-linecap:butt; stroke-linejoin:round; stroke-width:2; stroke-opacity:0.1; fill:none\" points=\"\n",
       "  193.936,1010.89 2352.76,1010.89 \n",
       "  \"/>\n",
       "<polyline clip-path=\"url(#clip502)\" style=\"stroke:#000000; stroke-linecap:butt; stroke-linejoin:round; stroke-width:2; stroke-opacity:0.1; fill:none\" points=\"\n",
       "  193.936,732.517 2352.76,732.517 \n",
       "  \"/>\n",
       "<polyline clip-path=\"url(#clip502)\" style=\"stroke:#000000; stroke-linecap:butt; stroke-linejoin:round; stroke-width:2; stroke-opacity:0.1; fill:none\" points=\"\n",
       "  193.936,454.145 2352.76,454.145 \n",
       "  \"/>\n",
       "<polyline clip-path=\"url(#clip502)\" style=\"stroke:#000000; stroke-linecap:butt; stroke-linejoin:round; stroke-width:2; stroke-opacity:0.1; fill:none\" points=\"\n",
       "  193.936,175.773 2352.76,175.773 \n",
       "  \"/>\n",
       "<polyline clip-path=\"url(#clip500)\" style=\"stroke:#000000; stroke-linecap:butt; stroke-linejoin:round; stroke-width:4; stroke-opacity:1; fill:none\" points=\"\n",
       "  193.936,1486.45 193.936,47.2441 \n",
       "  \"/>\n",
       "<polyline clip-path=\"url(#clip500)\" style=\"stroke:#000000; stroke-linecap:butt; stroke-linejoin:round; stroke-width:4; stroke-opacity:1; fill:none\" points=\"\n",
       "  193.936,1289.26 219.842,1289.26 \n",
       "  \"/>\n",
       "<polyline clip-path=\"url(#clip500)\" style=\"stroke:#000000; stroke-linecap:butt; stroke-linejoin:round; stroke-width:4; stroke-opacity:1; fill:none\" points=\"\n",
       "  193.936,1010.89 219.842,1010.89 \n",
       "  \"/>\n",
       "<polyline clip-path=\"url(#clip500)\" style=\"stroke:#000000; stroke-linecap:butt; stroke-linejoin:round; stroke-width:4; stroke-opacity:1; fill:none\" points=\"\n",
       "  193.936,732.517 219.842,732.517 \n",
       "  \"/>\n",
       "<polyline clip-path=\"url(#clip500)\" style=\"stroke:#000000; stroke-linecap:butt; stroke-linejoin:round; stroke-width:4; stroke-opacity:1; fill:none\" points=\"\n",
       "  193.936,454.145 219.842,454.145 \n",
       "  \"/>\n",
       "<polyline clip-path=\"url(#clip500)\" style=\"stroke:#000000; stroke-linecap:butt; stroke-linejoin:round; stroke-width:4; stroke-opacity:1; fill:none\" points=\"\n",
       "  193.936,175.773 219.842,175.773 \n",
       "  \"/>\n",
       "<path clip-path=\"url(#clip500)\" d=\"M50.9921 1289.71 L80.6679 1289.71 L80.6679 1293.65 L50.9921 1293.65 L50.9921 1289.71 Z\" fill=\"#000000\" fill-rule=\"evenodd\" fill-opacity=\"1\" /><path clip-path=\"url(#clip500)\" d=\"M91.5706 1302.61 L99.2095 1302.61 L99.2095 1276.24 L90.8993 1277.91 L90.8993 1273.65 L99.1632 1271.98 L103.839 1271.98 L103.839 1302.61 L111.478 1302.61 L111.478 1306.54 L91.5706 1306.54 L91.5706 1302.61 Z\" fill=\"#000000\" fill-rule=\"evenodd\" fill-opacity=\"1\" /><path clip-path=\"url(#clip500)\" d=\"M120.922 1300.66 L125.807 1300.66 L125.807 1306.54 L120.922 1306.54 L120.922 1300.66 Z\" fill=\"#000000\" fill-rule=\"evenodd\" fill-opacity=\"1\" /><path clip-path=\"url(#clip500)\" d=\"M145.992 1275.06 Q142.381 1275.06 140.552 1278.62 Q138.746 1282.17 138.746 1289.3 Q138.746 1296.4 140.552 1299.97 Q142.381 1303.51 145.992 1303.51 Q149.626 1303.51 151.431 1299.97 Q153.26 1296.4 153.26 1289.3 Q153.26 1282.17 151.431 1278.62 Q149.626 1275.06 145.992 1275.06 M145.992 1271.36 Q151.802 1271.36 154.857 1275.96 Q157.936 1280.55 157.936 1289.3 Q157.936 1298.02 154.857 1302.63 Q151.802 1307.21 145.992 1307.21 Q140.181 1307.21 137.103 1302.63 Q134.047 1298.02 134.047 1289.3 Q134.047 1280.55 137.103 1275.96 Q140.181 1271.36 145.992 1271.36 Z\" fill=\"#000000\" fill-rule=\"evenodd\" fill-opacity=\"1\" /><path clip-path=\"url(#clip500)\" d=\"M51.9875 1011.34 L81.6633 1011.34 L81.6633 1015.28 L51.9875 1015.28 L51.9875 1011.34 Z\" fill=\"#000000\" fill-rule=\"evenodd\" fill-opacity=\"1\" /><path clip-path=\"url(#clip500)\" d=\"M101.756 996.687 Q98.1447 996.687 96.316 1000.25 Q94.5104 1003.79 94.5104 1010.92 Q94.5104 1018.03 96.316 1021.59 Q98.1447 1025.14 101.756 1025.14 Q105.39 1025.14 107.196 1021.59 Q109.024 1018.03 109.024 1010.92 Q109.024 1003.79 107.196 1000.25 Q105.39 996.687 101.756 996.687 M101.756 992.984 Q107.566 992.984 110.621 997.59 Q113.7 1002.17 113.7 1010.92 Q113.7 1019.65 110.621 1024.26 Q107.566 1028.84 101.756 1028.84 Q95.9456 1028.84 92.8669 1024.26 Q89.8114 1019.65 89.8114 1010.92 Q89.8114 1002.17 92.8669 997.59 Q95.9456 992.984 101.756 992.984 Z\" fill=\"#000000\" fill-rule=\"evenodd\" fill-opacity=\"1\" /><path clip-path=\"url(#clip500)\" d=\"M121.918 1022.29 L126.802 1022.29 L126.802 1028.17 L121.918 1028.17 L121.918 1022.29 Z\" fill=\"#000000\" fill-rule=\"evenodd\" fill-opacity=\"1\" /><path clip-path=\"url(#clip500)\" d=\"M137.033 993.609 L155.39 993.609 L155.39 997.544 L141.316 997.544 L141.316 1006.02 Q142.334 1005.67 143.353 1005.51 Q144.371 1005.32 145.39 1005.32 Q151.177 1005.32 154.556 1008.49 Q157.936 1011.66 157.936 1017.08 Q157.936 1022.66 154.464 1025.76 Q150.992 1028.84 144.672 1028.84 Q142.496 1028.84 140.228 1028.47 Q137.982 1028.1 135.575 1027.36 L135.575 1022.66 Q137.658 1023.79 139.881 1024.35 Q142.103 1024.9 144.58 1024.9 Q148.584 1024.9 150.922 1022.8 Q153.26 1020.69 153.26 1017.08 Q153.26 1013.47 150.922 1011.36 Q148.584 1009.26 144.58 1009.26 Q142.705 1009.26 140.83 1009.67 Q138.978 1010.09 137.033 1010.97 L137.033 993.609 Z\" fill=\"#000000\" fill-rule=\"evenodd\" fill-opacity=\"1\" /><path clip-path=\"url(#clip500)\" d=\"M100.76 718.316 Q97.1493 718.316 95.3206 721.88 Q93.515 725.422 93.515 732.552 Q93.515 739.658 95.3206 743.223 Q97.1493 746.764 100.76 746.764 Q104.395 746.764 106.2 743.223 Q108.029 739.658 108.029 732.552 Q108.029 725.422 106.2 721.88 Q104.395 718.316 100.76 718.316 M100.76 714.612 Q106.571 714.612 109.626 719.218 Q112.705 723.802 112.705 732.552 Q112.705 741.278 109.626 745.885 Q106.571 750.468 100.76 750.468 Q94.9502 750.468 91.8715 745.885 Q88.816 741.278 88.816 732.552 Q88.816 723.802 91.8715 719.218 Q94.9502 714.612 100.76 714.612 Z\" fill=\"#000000\" fill-rule=\"evenodd\" fill-opacity=\"1\" /><path clip-path=\"url(#clip500)\" d=\"M120.922 743.917 L125.807 743.917 L125.807 749.797 L120.922 749.797 L120.922 743.917 Z\" fill=\"#000000\" fill-rule=\"evenodd\" fill-opacity=\"1\" /><path clip-path=\"url(#clip500)\" d=\"M145.992 718.316 Q142.381 718.316 140.552 721.88 Q138.746 725.422 138.746 732.552 Q138.746 739.658 140.552 743.223 Q142.381 746.764 145.992 746.764 Q149.626 746.764 151.431 743.223 Q153.26 739.658 153.26 732.552 Q153.26 725.422 151.431 721.88 Q149.626 718.316 145.992 718.316 M145.992 714.612 Q151.802 714.612 154.857 719.218 Q157.936 723.802 157.936 732.552 Q157.936 741.278 154.857 745.885 Q151.802 750.468 145.992 750.468 Q140.181 750.468 137.103 745.885 Q134.047 741.278 134.047 732.552 Q134.047 723.802 137.103 719.218 Q140.181 714.612 145.992 714.612 Z\" fill=\"#000000\" fill-rule=\"evenodd\" fill-opacity=\"1\" /><path clip-path=\"url(#clip500)\" d=\"M101.756 439.944 Q98.1447 439.944 96.316 443.509 Q94.5104 447.05 94.5104 454.18 Q94.5104 461.286 96.316 464.851 Q98.1447 468.393 101.756 468.393 Q105.39 468.393 107.196 464.851 Q109.024 461.286 109.024 454.18 Q109.024 447.05 107.196 443.509 Q105.39 439.944 101.756 439.944 M101.756 436.24 Q107.566 436.24 110.621 440.847 Q113.7 445.43 113.7 454.18 Q113.7 462.907 110.621 467.513 Q107.566 472.096 101.756 472.096 Q95.9456 472.096 92.8669 467.513 Q89.8114 462.907 89.8114 454.18 Q89.8114 445.43 92.8669 440.847 Q95.9456 436.24 101.756 436.24 Z\" fill=\"#000000\" fill-rule=\"evenodd\" fill-opacity=\"1\" /><path clip-path=\"url(#clip500)\" d=\"M121.918 465.546 L126.802 465.546 L126.802 471.425 L121.918 471.425 L121.918 465.546 Z\" fill=\"#000000\" fill-rule=\"evenodd\" fill-opacity=\"1\" /><path clip-path=\"url(#clip500)\" d=\"M137.033 436.865 L155.39 436.865 L155.39 440.8 L141.316 440.8 L141.316 449.272 Q142.334 448.925 143.353 448.763 Q144.371 448.578 145.39 448.578 Q151.177 448.578 154.556 451.749 Q157.936 454.921 157.936 460.337 Q157.936 465.916 154.464 469.018 Q150.992 472.096 144.672 472.096 Q142.496 472.096 140.228 471.726 Q137.982 471.356 135.575 470.615 L135.575 465.916 Q137.658 467.05 139.881 467.606 Q142.103 468.161 144.58 468.161 Q148.584 468.161 150.922 466.055 Q153.26 463.948 153.26 460.337 Q153.26 456.726 150.922 454.62 Q148.584 452.513 144.58 452.513 Q142.705 452.513 140.83 452.93 Q138.978 453.347 137.033 454.226 L137.033 436.865 Z\" fill=\"#000000\" fill-rule=\"evenodd\" fill-opacity=\"1\" /><path clip-path=\"url(#clip500)\" d=\"M91.5706 189.118 L99.2095 189.118 L99.2095 162.753 L90.8993 164.419 L90.8993 160.16 L99.1632 158.493 L103.839 158.493 L103.839 189.118 L111.478 189.118 L111.478 193.053 L91.5706 193.053 L91.5706 189.118 Z\" fill=\"#000000\" fill-rule=\"evenodd\" fill-opacity=\"1\" /><path clip-path=\"url(#clip500)\" d=\"M120.922 187.174 L125.807 187.174 L125.807 193.053 L120.922 193.053 L120.922 187.174 Z\" fill=\"#000000\" fill-rule=\"evenodd\" fill-opacity=\"1\" /><path clip-path=\"url(#clip500)\" d=\"M145.992 161.572 Q142.381 161.572 140.552 165.137 Q138.746 168.678 138.746 175.808 Q138.746 182.915 140.552 186.479 Q142.381 190.021 145.992 190.021 Q149.626 190.021 151.431 186.479 Q153.26 182.915 153.26 175.808 Q153.26 168.678 151.431 165.137 Q149.626 161.572 145.992 161.572 M145.992 157.868 Q151.802 157.868 154.857 162.475 Q157.936 167.058 157.936 175.808 Q157.936 184.535 154.857 189.141 Q151.802 193.725 145.992 193.725 Q140.181 193.725 137.103 189.141 Q134.047 184.535 134.047 175.808 Q134.047 167.058 137.103 162.475 Q140.181 157.868 145.992 157.868 Z\" fill=\"#000000\" fill-rule=\"evenodd\" fill-opacity=\"1\" /><circle clip-path=\"url(#clip502)\" cx=\"255.035\" cy=\"682.382\" r=\"14\" fill=\"#009af9\" fill-rule=\"evenodd\" fill-opacity=\"1\" stroke=\"#000000\" stroke-opacity=\"1\" stroke-width=\"3.2\"/>\n",
       "<circle clip-path=\"url(#clip502)\" cx=\"362.225\" cy=\"850.492\" r=\"14\" fill=\"#009af9\" fill-rule=\"evenodd\" fill-opacity=\"1\" stroke=\"#000000\" stroke-opacity=\"1\" stroke-width=\"3.2\"/>\n",
       "<circle clip-path=\"url(#clip502)\" cx=\"469.416\" cy=\"1101.95\" r=\"14\" fill=\"#009af9\" fill-rule=\"evenodd\" fill-opacity=\"1\" stroke=\"#000000\" stroke-opacity=\"1\" stroke-width=\"3.2\"/>\n",
       "<circle clip-path=\"url(#clip502)\" cx=\"576.607\" cy=\"1241.05\" r=\"14\" fill=\"#009af9\" fill-rule=\"evenodd\" fill-opacity=\"1\" stroke=\"#000000\" stroke-opacity=\"1\" stroke-width=\"3.2\"/>\n",
       "<circle clip-path=\"url(#clip502)\" cx=\"683.797\" cy=\"1247.22\" r=\"14\" fill=\"#009af9\" fill-rule=\"evenodd\" fill-opacity=\"1\" stroke=\"#000000\" stroke-opacity=\"1\" stroke-width=\"3.2\"/>\n",
       "<circle clip-path=\"url(#clip502)\" cx=\"790.988\" cy=\"1264.05\" r=\"14\" fill=\"#009af9\" fill-rule=\"evenodd\" fill-opacity=\"1\" stroke=\"#000000\" stroke-opacity=\"1\" stroke-width=\"3.2\"/>\n",
       "<circle clip-path=\"url(#clip502)\" cx=\"898.179\" cy=\"1445.72\" r=\"14\" fill=\"#009af9\" fill-rule=\"evenodd\" fill-opacity=\"1\" stroke=\"#000000\" stroke-opacity=\"1\" stroke-width=\"3.2\"/>\n",
       "<circle clip-path=\"url(#clip502)\" cx=\"1005.37\" cy=\"950.681\" r=\"14\" fill=\"#009af9\" fill-rule=\"evenodd\" fill-opacity=\"1\" stroke=\"#000000\" stroke-opacity=\"1\" stroke-width=\"3.2\"/>\n",
       "<circle clip-path=\"url(#clip502)\" cx=\"1112.56\" cy=\"1232.08\" r=\"14\" fill=\"#009af9\" fill-rule=\"evenodd\" fill-opacity=\"1\" stroke=\"#000000\" stroke-opacity=\"1\" stroke-width=\"3.2\"/>\n",
       "<circle clip-path=\"url(#clip502)\" cx=\"1219.75\" cy=\"1127.8\" r=\"14\" fill=\"#009af9\" fill-rule=\"evenodd\" fill-opacity=\"1\" stroke=\"#000000\" stroke-opacity=\"1\" stroke-width=\"3.2\"/>\n",
       "<circle clip-path=\"url(#clip502)\" cx=\"1326.94\" cy=\"526.226\" r=\"14\" fill=\"#009af9\" fill-rule=\"evenodd\" fill-opacity=\"1\" stroke=\"#000000\" stroke-opacity=\"1\" stroke-width=\"3.2\"/>\n",
       "<circle clip-path=\"url(#clip502)\" cx=\"1434.13\" cy=\"604.695\" r=\"14\" fill=\"#009af9\" fill-rule=\"evenodd\" fill-opacity=\"1\" stroke=\"#000000\" stroke-opacity=\"1\" stroke-width=\"3.2\"/>\n",
       "<circle clip-path=\"url(#clip502)\" cx=\"1541.32\" cy=\"749.365\" r=\"14\" fill=\"#009af9\" fill-rule=\"evenodd\" fill-opacity=\"1\" stroke=\"#000000\" stroke-opacity=\"1\" stroke-width=\"3.2\"/>\n",
       "<circle clip-path=\"url(#clip502)\" cx=\"1648.51\" cy=\"87.9763\" r=\"14\" fill=\"#009af9\" fill-rule=\"evenodd\" fill-opacity=\"1\" stroke=\"#000000\" stroke-opacity=\"1\" stroke-width=\"3.2\"/>\n",
       "<circle clip-path=\"url(#clip502)\" cx=\"1755.7\" cy=\"586.982\" r=\"14\" fill=\"#009af9\" fill-rule=\"evenodd\" fill-opacity=\"1\" stroke=\"#000000\" stroke-opacity=\"1\" stroke-width=\"3.2\"/>\n",
       "<circle clip-path=\"url(#clip502)\" cx=\"1862.89\" cy=\"192.556\" r=\"14\" fill=\"#009af9\" fill-rule=\"evenodd\" fill-opacity=\"1\" stroke=\"#000000\" stroke-opacity=\"1\" stroke-width=\"3.2\"/>\n",
       "<circle clip-path=\"url(#clip502)\" cx=\"1970.09\" cy=\"441.953\" r=\"14\" fill=\"#009af9\" fill-rule=\"evenodd\" fill-opacity=\"1\" stroke=\"#000000\" stroke-opacity=\"1\" stroke-width=\"3.2\"/>\n",
       "<circle clip-path=\"url(#clip502)\" cx=\"2077.28\" cy=\"441.396\" r=\"14\" fill=\"#009af9\" fill-rule=\"evenodd\" fill-opacity=\"1\" stroke=\"#000000\" stroke-opacity=\"1\" stroke-width=\"3.2\"/>\n",
       "<circle clip-path=\"url(#clip502)\" cx=\"2184.47\" cy=\"448.527\" r=\"14\" fill=\"#009af9\" fill-rule=\"evenodd\" fill-opacity=\"1\" stroke=\"#000000\" stroke-opacity=\"1\" stroke-width=\"3.2\"/>\n",
       "<circle clip-path=\"url(#clip502)\" cx=\"2291.66\" cy=\"788.024\" r=\"14\" fill=\"#009af9\" fill-rule=\"evenodd\" fill-opacity=\"1\" stroke=\"#000000\" stroke-opacity=\"1\" stroke-width=\"3.2\"/>\n",
       "<polyline clip-path=\"url(#clip502)\" style=\"stroke:#0000ff; stroke-linecap:butt; stroke-linejoin:round; stroke-width:4; stroke-opacity:1; fill:none\" stroke-dasharray=\"16, 10\" points=\"\n",
       "  255.035,732.517 260.139,741.284 265.243,750.048 270.348,758.809 275.452,767.563 280.556,776.308 285.661,785.042 290.765,793.763 295.869,802.469 300.974,811.158 \n",
       "  306.078,819.827 311.182,828.475 316.286,837.099 321.391,845.696 326.495,854.266 331.599,862.806 336.704,871.313 341.808,879.786 346.912,888.222 352.017,896.62 \n",
       "  357.121,904.977 362.225,913.291 367.33,921.561 372.434,929.783 377.538,937.957 382.643,946.08 387.747,954.149 392.851,962.164 397.956,970.122 403.06,978.021 \n",
       "  408.164,985.859 413.269,993.634 418.373,1001.34 423.477,1008.99 428.581,1016.56 433.686,1024.07 438.79,1031.5 443.894,1038.86 448.999,1046.14 454.103,1053.35 \n",
       "  459.207,1060.47 464.312,1067.52 469.416,1074.48 474.52,1081.35 479.625,1088.14 484.729,1094.84 489.833,1101.45 494.938,1107.97 500.042,1114.4 505.146,1120.73 \n",
       "  510.251,1126.97 515.355,1133.11 520.459,1139.14 525.563,1145.08 530.668,1150.92 535.772,1156.65 540.876,1162.28 545.981,1167.8 551.085,1173.21 556.189,1178.51 \n",
       "  561.294,1183.7 566.398,1188.78 571.502,1193.75 576.607,1198.6 581.711,1203.34 586.815,1207.96 591.92,1212.46 597.024,1216.85 602.128,1221.11 607.233,1225.25 \n",
       "  612.337,1229.27 617.441,1233.17 622.546,1236.94 627.65,1240.59 632.754,1244.11 637.858,1247.51 642.963,1250.77 648.067,1253.91 653.171,1256.92 658.276,1259.8 \n",
       "  663.38,1262.55 668.484,1265.17 673.589,1267.65 678.693,1270.01 683.797,1272.22 688.902,1274.31 694.006,1276.26 699.11,1278.08 704.215,1279.76 709.319,1281.3 \n",
       "  714.423,1282.71 719.528,1283.98 724.632,1285.12 729.736,1286.12 734.84,1286.98 739.945,1287.7 745.049,1288.29 750.153,1288.74 755.258,1289.05 760.362,1289.22 \n",
       "  765.466,1289.26 770.571,1289.15 775.675,1288.91 780.779,1288.53 785.884,1288.01 790.988,1287.36 796.092,1286.57 801.197,1285.64 806.301,1284.57 811.405,1283.36 \n",
       "  816.51,1282.02 821.614,1280.55 826.718,1278.93 831.823,1277.19 836.927,1275.3 842.031,1273.28 847.135,1271.13 852.24,1268.85 857.344,1266.43 862.448,1263.88 \n",
       "  867.553,1261.19 872.657,1258.38 877.761,1255.43 882.866,1252.36 887.97,1249.16 893.074,1245.83 898.179,1242.37 903.283,1238.78 908.387,1235.07 913.492,1231.24 \n",
       "  918.596,1227.28 923.7,1223.2 928.805,1218.99 933.909,1214.67 939.013,1210.23 944.117,1205.67 949.222,1200.99 954.326,1196.19 959.43,1191.28 964.535,1186.26 \n",
       "  969.639,1181.12 974.743,1175.87 979.848,1170.52 984.952,1165.05 990.056,1159.48 995.161,1153.8 1000.26,1148.01 1005.37,1142.13 1010.47,1136.14 1015.58,1130.05 \n",
       "  1020.68,1123.86 1025.79,1117.58 1030.89,1111.2 1036,1104.73 1041.1,1098.16 1046.2,1091.5 1051.31,1084.76 1056.41,1077.92 1061.52,1071.01 1066.62,1064 \n",
       "  1071.73,1056.92 1076.83,1049.75 1081.93,1042.51 1087.04,1035.19 1092.14,1027.79 1097.25,1020.32 1102.35,1012.78 1107.46,1005.17 1112.56,997.498 1117.66,989.754 \n",
       "  1122.77,981.948 1127.87,974.079 1132.98,966.15 1138.08,958.164 1143.19,950.121 1148.29,942.025 1153.39,933.876 1158.5,925.678 1163.6,917.432 1168.71,909.14 \n",
       "  1173.81,900.804 1178.92,892.426 1184.02,884.009 1189.12,875.554 1194.23,867.064 1199.33,858.54 1204.44,849.985 1209.54,841.401 1214.65,832.79 1219.75,824.154 \n",
       "  1224.85,815.495 1229.96,806.816 1235.06,798.118 1240.17,789.404 1245.27,780.676 1250.38,771.936 1255.48,763.187 1260.59,754.429 1265.69,745.666 1270.79,736.9 \n",
       "  1275.9,728.133 1281,719.367 1286.11,710.604 1291.21,701.847 1296.32,693.097 1301.42,684.357 1306.52,675.629 1311.63,666.915 1316.73,658.218 1321.84,649.539 \n",
       "  1326.94,640.88 1332.05,632.244 1337.15,623.633 1342.25,615.049 1347.36,606.494 1352.46,597.97 1357.57,589.48 1362.67,581.025 1367.78,572.608 1372.88,564.23 \n",
       "  1377.98,555.894 1383.09,547.602 1388.19,539.356 1393.3,531.157 1398.4,523.009 1403.51,514.913 1408.61,506.87 1413.71,498.884 1418.82,490.955 1423.92,483.086 \n",
       "  1429.03,475.279 1434.13,467.536 1439.24,459.859 1444.34,452.249 1449.44,444.709 1454.55,437.24 1459.65,429.844 1464.76,422.524 1469.86,415.28 1474.97,408.115 \n",
       "  1480.07,401.03 1485.18,394.028 1490.28,387.109 1495.38,380.276 1500.49,373.531 1505.59,366.874 1510.7,360.309 1515.8,353.835 1520.91,347.455 1526.01,341.171 \n",
       "  1531.11,334.984 1536.22,328.896 1541.32,322.907 1546.43,317.02 1551.53,311.237 1556.64,305.557 1561.74,299.984 1566.84,294.518 1571.95,289.16 1577.05,283.912 \n",
       "  1582.16,278.776 1587.26,273.752 1592.37,268.842 1597.47,264.047 1602.57,259.368 1607.68,254.806 1612.78,250.363 1617.89,246.039 1622.99,241.836 1628.1,237.755 \n",
       "  1633.2,233.796 1638.3,229.961 1643.41,226.251 1648.51,222.666 1653.62,219.208 1658.72,215.876 1663.83,212.674 1668.93,209.599 1674.03,206.655 1679.14,203.841 \n",
       "  1684.24,201.158 1689.35,198.607 1694.45,196.188 1699.56,193.902 1704.66,191.75 1709.77,189.732 1714.87,187.849 1719.97,186.1 1725.08,184.487 1730.18,183.01 \n",
       "  1735.29,181.669 1740.39,180.465 1745.5,179.398 1750.6,178.468 1755.7,177.675 1760.81,177.02 1765.91,176.502 1771.02,176.123 1776.12,175.881 1781.23,175.778 \n",
       "  1786.33,175.812 1791.43,175.985 1796.54,176.295 1801.64,176.744 1806.75,177.33 1811.85,178.054 1816.96,178.916 1822.06,179.914 1827.16,181.05 1832.27,182.323 \n",
       "  1837.37,183.732 1842.48,185.277 1847.58,186.957 1852.69,188.773 1857.79,190.724 1862.89,192.81 1868,195.029 1873.1,197.381 1878.21,199.866 1883.31,202.483 \n",
       "  1888.42,205.232 1893.52,208.111 1898.62,211.12 1903.73,214.259 1908.83,217.526 1913.94,220.921 1919.04,224.443 1924.15,228.09 1929.25,231.863 1934.36,235.76 \n",
       "  1939.46,239.78 1944.56,243.923 1949.67,248.186 1954.77,252.57 1959.88,257.072 1964.98,261.693 1970.09,266.43 1975.19,271.283 1980.29,276.25 1985.4,281.33 \n",
       "  1990.5,286.522 1995.61,291.825 2000.71,297.237 2005.82,302.757 2010.92,308.384 2016.02,314.116 2021.13,319.951 2026.23,325.889 2031.34,331.928 2036.44,338.066 \n",
       "  2041.55,344.301 2046.65,350.633 2051.75,357.06 2056.86,363.58 2061.96,370.191 2067.07,376.893 2072.17,383.682 2077.28,390.558 2082.38,397.519 2087.48,404.562 \n",
       "  2092.59,411.687 2097.69,418.892 2102.8,426.174 2107.9,433.533 2113.01,440.965 2118.11,448.47 2123.21,456.045 2128.32,463.689 2133.42,471.4 2138.53,479.175 \n",
       "  2143.63,487.013 2148.74,494.912 2153.84,502.87 2158.94,510.884 2164.05,518.954 2169.15,527.077 2174.26,535.251 2179.36,543.473 2184.47,551.743 2189.57,560.057 \n",
       "  2194.68,568.414 2199.78,576.812 2204.88,585.248 2209.99,593.721 2215.09,602.228 2220.2,610.768 2225.3,619.337 2230.41,627.935 2235.51,636.559 2240.61,645.207 \n",
       "  2245.72,653.876 2250.82,662.564 2255.93,671.271 2261.03,679.992 2266.14,688.726 2271.24,697.471 2276.34,706.225 2281.45,714.985 2286.55,723.75 2291.66,732.517 \n",
       "  \n",
       "  \"/>\n",
       "<polyline clip-path=\"url(#clip502)\" style=\"stroke:#ff0000; stroke-linecap:butt; stroke-linejoin:round; stroke-width:8; stroke-opacity:1; fill:none\" points=\"\n",
       "  255.035,625.035 260.139,640.786 265.243,656.322 270.348,671.643 275.452,686.751 280.556,701.647 285.661,716.332 290.765,730.807 295.869,745.073 300.974,759.131 \n",
       "  306.078,772.982 311.182,786.627 316.286,800.067 321.391,813.304 326.495,826.337 331.599,839.169 336.704,851.801 341.808,864.232 346.912,876.465 352.017,888.501 \n",
       "  357.121,900.34 362.225,911.983 367.33,923.432 372.434,934.688 377.538,945.751 382.643,956.623 387.747,967.305 392.851,977.798 397.956,988.102 403.06,998.219 \n",
       "  408.164,1008.15 413.269,1017.9 418.373,1027.46 423.477,1036.84 428.581,1046.04 433.686,1055.05 438.79,1063.89 443.894,1072.55 448.999,1081.03 454.103,1089.33 \n",
       "  459.207,1097.46 464.312,1105.41 469.416,1113.19 474.52,1120.79 479.625,1128.23 484.729,1135.49 489.833,1142.59 494.938,1149.52 500.042,1156.28 505.146,1162.87 \n",
       "  510.251,1169.3 515.355,1175.56 520.459,1181.66 525.563,1187.6 530.668,1193.38 535.772,1198.99 540.876,1204.45 545.981,1209.75 551.085,1214.9 556.189,1219.88 \n",
       "  561.294,1224.72 566.398,1229.4 571.502,1233.92 576.607,1238.3 581.711,1242.52 586.815,1246.59 591.92,1250.52 597.024,1254.3 602.128,1257.93 607.233,1261.41 \n",
       "  612.337,1264.76 617.441,1267.95 622.546,1271.01 627.65,1273.92 632.754,1276.7 637.858,1279.33 642.963,1281.83 648.067,1284.19 653.171,1286.41 658.276,1288.5 \n",
       "  663.38,1290.46 668.484,1292.28 673.589,1293.97 678.693,1295.53 683.797,1296.95 688.902,1298.25 694.006,1299.43 699.11,1300.47 704.215,1301.39 709.319,1302.19 \n",
       "  714.423,1302.86 719.528,1303.41 724.632,1303.84 729.736,1304.14 734.84,1304.33 739.945,1304.4 745.049,1304.35 750.153,1304.19 755.258,1303.91 760.362,1303.51 \n",
       "  765.466,1303.01 770.571,1302.39 775.675,1301.66 780.779,1300.82 785.884,1299.87 790.988,1298.81 796.092,1297.64 801.197,1296.37 806.301,1295 811.405,1293.52 \n",
       "  816.51,1291.94 821.614,1290.26 826.718,1288.47 831.823,1286.59 836.927,1284.61 842.031,1282.53 847.135,1280.35 852.24,1278.08 857.344,1275.71 862.448,1273.25 \n",
       "  867.553,1270.7 872.657,1268.06 877.761,1265.32 882.866,1262.5 887.97,1259.59 893.074,1256.59 898.179,1253.51 903.283,1250.34 908.387,1247.08 913.492,1243.75 \n",
       "  918.596,1240.33 923.7,1236.83 928.805,1233.25 933.909,1229.59 939.013,1225.86 944.117,1222.05 949.222,1218.16 954.326,1214.2 959.43,1210.16 964.535,1206.05 \n",
       "  969.639,1201.87 974.743,1197.62 979.848,1193.3 984.952,1188.91 990.056,1184.46 995.161,1179.93 1000.26,1175.35 1005.37,1170.69 1010.47,1165.98 1015.58,1161.2 \n",
       "  1020.68,1156.36 1025.79,1151.47 1030.89,1146.51 1036,1141.49 1041.1,1136.42 1046.2,1131.29 1051.31,1126.11 1056.41,1120.87 1061.52,1115.58 1066.62,1110.24 \n",
       "  1071.73,1104.85 1076.83,1099.41 1081.93,1093.92 1087.04,1088.38 1092.14,1082.8 1097.25,1077.17 1102.35,1071.49 1107.46,1065.78 1112.56,1060.02 1117.66,1054.22 \n",
       "  1122.77,1048.37 1127.87,1042.49 1132.98,1036.58 1138.08,1030.62 1143.19,1024.63 1148.29,1018.6 1153.39,1012.54 1158.5,1006.44 1163.6,1000.32 1168.71,994.162 \n",
       "  1173.81,987.975 1178.92,981.76 1184.02,975.516 1189.12,969.246 1194.23,962.951 1199.33,956.63 1204.44,950.286 1209.54,943.92 1214.65,937.532 1219.75,931.123 \n",
       "  1224.85,924.695 1229.96,918.249 1235.06,911.785 1240.17,905.305 1245.27,898.81 1250.38,892.3 1255.48,885.777 1260.59,879.242 1265.69,872.697 1270.79,866.141 \n",
       "  1275.9,859.575 1281,853.002 1286.11,846.423 1291.21,839.837 1296.32,833.246 1301.42,826.651 1306.52,820.054 1311.63,813.455 1316.73,806.855 1321.84,800.256 \n",
       "  1326.94,793.658 1332.05,787.063 1337.15,780.471 1342.25,773.883 1347.36,767.301 1352.46,760.726 1357.57,754.158 1362.67,747.599 1367.78,741.05 1372.88,734.512 \n",
       "  1377.98,727.985 1383.09,721.471 1388.19,714.971 1393.3,708.486 1398.4,702.017 1403.51,695.565 1408.61,689.131 1413.71,682.716 1418.82,676.322 1423.92,669.948 \n",
       "  1429.03,663.597 1434.13,657.269 1439.24,650.965 1444.34,644.687 1449.44,638.435 1454.55,632.211 1459.65,626.015 1464.76,619.848 1469.86,613.712 1474.97,607.608 \n",
       "  1480.07,601.537 1485.18,595.499 1490.28,589.495 1495.38,583.528 1500.49,577.597 1505.59,571.704 1510.7,565.851 1515.8,560.037 1520.91,554.264 1526.01,548.533 \n",
       "  1531.11,542.845 1536.22,537.201 1541.32,531.602 1546.43,526.05 1551.53,520.545 1556.64,515.088 1561.74,509.68 1566.84,504.323 1571.95,499.017 1577.05,493.763 \n",
       "  1582.16,488.563 1587.26,483.418 1592.37,478.328 1597.47,473.295 1602.57,468.319 1607.68,463.402 1612.78,458.545 1617.89,453.749 1622.99,449.014 1628.1,444.342 \n",
       "  1633.2,439.734 1638.3,435.191 1643.41,430.714 1648.51,426.304 1653.62,421.963 1658.72,417.69 1663.83,413.487 1668.93,409.356 1674.03,405.296 1679.14,401.31 \n",
       "  1684.24,397.399 1689.35,393.563 1694.45,389.803 1699.56,386.12 1704.66,382.516 1709.77,378.992 1714.87,375.548 1719.97,372.186 1725.08,368.906 1730.18,365.71 \n",
       "  1735.29,362.599 1740.39,359.573 1745.5,356.635 1750.6,353.784 1755.7,351.022 1760.81,348.35 1765.91,345.769 1771.02,343.28 1776.12,340.884 1781.23,338.582 \n",
       "  1786.33,336.375 1791.43,334.265 1796.54,332.252 1801.64,330.337 1806.75,328.521 1811.85,326.806 1816.96,325.192 1822.06,323.68 1827.16,322.272 1832.27,320.969 \n",
       "  1837.37,319.771 1842.48,318.68 1847.58,317.696 1852.69,316.821 1857.79,316.056 1862.89,315.401 1868,314.858 1873.1,314.429 1878.21,314.113 1883.31,313.912 \n",
       "  1888.42,313.827 1893.52,313.859 1898.62,314.009 1903.73,314.278 1908.83,314.667 1913.94,315.178 1919.04,315.81 1924.15,316.566 1929.25,317.447 1934.36,318.452 \n",
       "  1939.46,319.584 1944.56,320.844 1949.67,322.232 1954.77,323.749 1959.88,325.397 1964.98,327.177 1970.09,329.089 1975.19,331.135 1980.29,333.316 1985.4,335.632 \n",
       "  1990.5,338.085 1995.61,340.676 2000.71,343.406 2005.82,346.276 2010.92,349.287 2016.02,352.44 2021.13,355.736 2026.23,359.176 2031.34,362.761 2036.44,366.493 \n",
       "  2041.55,370.371 2046.65,374.398 2051.75,378.575 2056.86,382.901 2061.96,387.379 2067.07,392.009 2072.17,396.793 2077.28,401.732 2082.38,406.826 2087.48,412.076 \n",
       "  2092.59,417.484 2097.69,423.051 2102.8,428.778 2107.9,434.665 2113.01,440.714 2118.11,446.926 2123.21,453.302 2128.32,459.843 2133.42,466.55 2138.53,473.424 \n",
       "  2143.63,480.466 2148.74,487.677 2153.84,495.058 2158.94,502.61 2164.05,510.335 2169.15,518.233 2174.26,526.305 2179.36,534.552 2184.47,542.976 2189.57,551.577 \n",
       "  2194.68,560.357 2199.78,569.316 2204.88,578.456 2209.99,587.778 2215.09,597.282 2220.2,606.97 2225.3,616.842 2230.41,626.9 2235.51,637.145 2240.61,647.578 \n",
       "  2245.72,658.2 2250.82,669.012 2255.93,680.015 2261.03,691.209 2266.14,702.597 2271.24,714.179 2276.34,725.956 2281.45,737.929 2286.55,750.1 2291.66,762.468 \n",
       "  \n",
       "  \"/>\n",
       "<path clip-path=\"url(#clip500)\" d=\"\n",
       "M265.897 337.138 L988.124 337.138 L988.124 95.2176 L265.897 95.2176  Z\n",
       "  \" fill=\"#ffffff\" fill-rule=\"evenodd\" fill-opacity=\"1\"/>\n",
       "<polyline clip-path=\"url(#clip500)\" style=\"stroke:#000000; stroke-linecap:butt; stroke-linejoin:round; stroke-width:4; stroke-opacity:1; fill:none\" points=\"\n",
       "  265.897,337.138 988.124,337.138 988.124,95.2176 265.897,95.2176 265.897,337.138 \n",
       "  \"/>\n",
       "<circle clip-path=\"url(#clip500)\" cx=\"361.844\" cy=\"155.698\" r=\"23\" fill=\"#009af9\" fill-rule=\"evenodd\" fill-opacity=\"1\" stroke=\"#000000\" stroke-opacity=\"1\" stroke-width=\"5.12\"/>\n",
       "<path clip-path=\"url(#clip500)\" d=\"M476.218 147.816 L476.218 151.843 Q474.412 150.917 472.468 150.455 Q470.523 149.992 468.44 149.992 Q465.269 149.992 463.671 150.964 Q462.097 151.936 462.097 153.88 Q462.097 155.362 463.232 156.218 Q464.366 157.052 467.792 157.816 L469.25 158.14 Q473.787 159.112 475.685 160.894 Q477.606 162.654 477.606 165.825 Q477.606 169.436 474.736 171.542 Q471.889 173.649 466.889 173.649 Q464.806 173.649 462.537 173.232 Q460.292 172.839 457.792 172.028 L457.792 167.63 Q460.153 168.857 462.445 169.482 Q464.736 170.084 466.982 170.084 Q469.991 170.084 471.611 169.066 Q473.231 168.024 473.231 166.149 Q473.231 164.413 472.051 163.487 Q470.894 162.561 466.935 161.704 L465.454 161.357 Q461.495 160.524 459.736 158.811 Q457.977 157.075 457.977 154.066 Q457.977 150.408 460.57 148.418 Q463.162 146.427 467.931 146.427 Q470.292 146.427 472.375 146.774 Q474.458 147.121 476.218 147.816 Z\" fill=\"#000000\" fill-rule=\"evenodd\" fill-opacity=\"1\" /><path clip-path=\"url(#clip500)\" d=\"M496.171 159.945 Q491.009 159.945 489.018 161.126 Q487.028 162.306 487.028 165.154 Q487.028 167.422 488.509 168.765 Q490.014 170.084 492.583 170.084 Q496.125 170.084 498.255 167.584 Q500.407 165.061 500.407 160.894 L500.407 159.945 L496.171 159.945 M504.667 158.186 L504.667 172.978 L500.407 172.978 L500.407 169.042 Q498.949 171.403 496.773 172.538 Q494.597 173.649 491.449 173.649 Q487.468 173.649 485.106 171.427 Q482.768 169.181 482.768 165.431 Q482.768 161.056 485.685 158.834 Q488.625 156.612 494.435 156.612 L500.407 156.612 L500.407 156.195 Q500.407 153.255 498.463 151.658 Q496.542 150.038 493.046 150.038 Q490.824 150.038 488.718 150.57 Q486.611 151.103 484.667 152.167 L484.667 148.232 Q487.005 147.33 489.204 146.89 Q491.403 146.427 493.486 146.427 Q499.111 146.427 501.889 149.343 Q504.667 152.26 504.667 158.186 Z\" fill=\"#000000\" fill-rule=\"evenodd\" fill-opacity=\"1\" /><path clip-path=\"url(#clip500)\" d=\"M533.625 152.029 Q535.222 149.158 537.444 147.793 Q539.666 146.427 542.676 146.427 Q546.726 146.427 548.926 149.274 Q551.125 152.098 551.125 157.329 L551.125 172.978 L546.842 172.978 L546.842 157.468 Q546.842 153.742 545.523 151.936 Q544.203 150.13 541.495 150.13 Q538.185 150.13 536.264 152.33 Q534.342 154.529 534.342 158.325 L534.342 172.978 L530.06 172.978 L530.06 157.468 Q530.06 153.718 528.74 151.936 Q527.421 150.13 524.666 150.13 Q521.403 150.13 519.481 152.353 Q517.56 154.552 517.56 158.325 L517.56 172.978 L513.278 172.978 L513.278 147.052 L517.56 147.052 L517.56 151.08 Q519.018 148.695 521.055 147.561 Q523.092 146.427 525.893 146.427 Q528.717 146.427 530.685 147.862 Q532.676 149.297 533.625 152.029 Z\" fill=\"#000000\" fill-rule=\"evenodd\" fill-opacity=\"1\" /><path clip-path=\"url(#clip500)\" d=\"M563.74 169.089 L563.74 182.839 L559.458 182.839 L559.458 147.052 L563.74 147.052 L563.74 150.987 Q565.083 148.672 567.12 147.561 Q569.18 146.427 572.027 146.427 Q576.749 146.427 579.689 150.177 Q582.652 153.927 582.652 160.038 Q582.652 166.149 579.689 169.899 Q576.749 173.649 572.027 173.649 Q569.18 173.649 567.12 172.538 Q565.083 171.403 563.74 169.089 M578.231 160.038 Q578.231 155.339 576.286 152.677 Q574.365 149.992 570.986 149.992 Q567.606 149.992 565.662 152.677 Q563.74 155.339 563.74 160.038 Q563.74 164.737 565.662 167.422 Q567.606 170.084 570.986 170.084 Q574.365 170.084 576.286 167.422 Q578.231 164.737 578.231 160.038 Z\" fill=\"#000000\" fill-rule=\"evenodd\" fill-opacity=\"1\" /><path clip-path=\"url(#clip500)\" d=\"M589.712 136.959 L593.972 136.959 L593.972 172.978 L589.712 172.978 L589.712 136.959 Z\" fill=\"#000000\" fill-rule=\"evenodd\" fill-opacity=\"1\" /><path clip-path=\"url(#clip500)\" d=\"M625.059 158.95 L625.059 161.033 L605.476 161.033 Q605.754 165.431 608.115 167.746 Q610.499 170.038 614.735 170.038 Q617.189 170.038 619.481 169.436 Q621.796 168.834 624.064 167.63 L624.064 171.658 Q621.772 172.63 619.365 173.14 Q616.958 173.649 614.481 173.649 Q608.277 173.649 604.643 170.038 Q601.032 166.427 601.032 160.269 Q601.032 153.904 604.458 150.177 Q607.907 146.427 613.74 146.427 Q618.971 146.427 622.004 149.806 Q625.059 153.163 625.059 158.95 M620.8 157.7 Q620.754 154.205 618.833 152.121 Q616.934 150.038 613.786 150.038 Q610.222 150.038 608.069 152.052 Q605.939 154.066 605.615 157.723 L620.8 157.7 Z\" fill=\"#000000\" fill-rule=\"evenodd\" fill-opacity=\"1\" /><polyline clip-path=\"url(#clip500)\" style=\"stroke:#0000ff; stroke-linecap:butt; stroke-linejoin:round; stroke-width:4; stroke-opacity:1; fill:none\" stroke-dasharray=\"16, 10\" points=\"\n",
       "  289.884,216.178 433.805,216.178 \n",
       "  \"/>\n",
       "<path clip-path=\"url(#clip500)\" d=\"M476.218 208.296 L476.218 212.323 Q474.412 211.397 472.468 210.935 Q470.523 210.472 468.44 210.472 Q465.269 210.472 463.671 211.444 Q462.097 212.416 462.097 214.36 Q462.097 215.842 463.232 216.698 Q464.366 217.532 467.792 218.296 L469.25 218.62 Q473.787 219.592 475.685 221.374 Q477.606 223.134 477.606 226.305 Q477.606 229.916 474.736 232.022 Q471.889 234.129 466.889 234.129 Q464.806 234.129 462.537 233.712 Q460.292 233.319 457.792 232.508 L457.792 228.11 Q460.153 229.337 462.445 229.962 Q464.736 230.564 466.982 230.564 Q469.991 230.564 471.611 229.546 Q473.231 228.504 473.231 226.629 Q473.231 224.893 472.051 223.967 Q470.894 223.041 466.935 222.184 L465.454 221.837 Q461.495 221.004 459.736 219.291 Q457.977 217.555 457.977 214.546 Q457.977 210.888 460.57 208.898 Q463.162 206.907 467.931 206.907 Q470.292 206.907 472.375 207.254 Q474.458 207.601 476.218 208.296 Z\" fill=\"#000000\" fill-rule=\"evenodd\" fill-opacity=\"1\" /><path clip-path=\"url(#clip500)\" d=\"M484.389 207.532 L488.648 207.532 L488.648 233.458 L484.389 233.458 L484.389 207.532 M484.389 197.439 L488.648 197.439 L488.648 202.833 L484.389 202.833 L484.389 197.439 Z\" fill=\"#000000\" fill-rule=\"evenodd\" fill-opacity=\"1\" /><path clip-path=\"url(#clip500)\" d=\"M519.111 217.809 L519.111 233.458 L514.852 233.458 L514.852 217.948 Q514.852 214.268 513.416 212.439 Q511.981 210.61 509.111 210.61 Q505.662 210.61 503.671 212.81 Q501.68 215.009 501.68 218.805 L501.68 233.458 L497.398 233.458 L497.398 207.532 L501.68 207.532 L501.68 211.56 Q503.208 209.222 505.268 208.064 Q507.352 206.907 510.06 206.907 Q514.528 206.907 516.819 209.685 Q519.111 212.439 519.111 217.809 Z\" fill=\"#000000\" fill-rule=\"evenodd\" fill-opacity=\"1\" /><path clip-path=\"url(#clip500)\" d=\"M537.838 197.486 Q534.736 202.81 533.231 208.018 Q531.727 213.226 531.727 218.573 Q531.727 223.921 533.231 229.175 Q534.759 234.407 537.838 239.708 L534.134 239.708 Q530.662 234.268 528.926 229.013 Q527.213 223.759 527.213 218.573 Q527.213 213.411 528.926 208.18 Q530.639 202.948 534.134 197.486 L537.838 197.486 Z\" fill=\"#000000\" fill-rule=\"evenodd\" fill-opacity=\"1\" /><path clip-path=\"url(#clip500)\" d=\"M567.652 207.532 L558.277 220.147 L568.138 233.458 L563.115 233.458 L555.569 223.272 L548.023 233.458 L543 233.458 L553.069 219.893 L543.856 207.532 L548.879 207.532 L555.754 216.768 L562.629 207.532 L567.652 207.532 Z\" fill=\"#000000\" fill-rule=\"evenodd\" fill-opacity=\"1\" /><path clip-path=\"url(#clip500)\" d=\"M573.486 197.486 L577.189 197.486 Q580.661 202.948 582.374 208.18 Q584.111 213.411 584.111 218.573 Q584.111 223.759 582.374 229.013 Q580.661 234.268 577.189 239.708 L573.486 239.708 Q576.564 234.407 578.069 229.175 Q579.597 223.921 579.597 218.573 Q579.597 213.226 578.069 208.018 Q576.564 202.81 573.486 197.486 Z\" fill=\"#000000\" fill-rule=\"evenodd\" fill-opacity=\"1\" /><polyline clip-path=\"url(#clip500)\" style=\"stroke:#ff0000; stroke-linecap:butt; stroke-linejoin:round; stroke-width:4; stroke-opacity:1; fill:none\" points=\"\n",
       "  289.884,276.658 433.805,276.658 \n",
       "  \"/>\n",
       "<path clip-path=\"url(#clip500)\" d=\"M476.704 271.947 L476.704 257.919 L480.963 257.919 L480.963 293.938 L476.704 293.938 L476.704 290.049 Q475.361 292.363 473.301 293.498 Q471.264 294.609 468.394 294.609 Q463.695 294.609 460.732 290.859 Q457.792 287.109 457.792 280.998 Q457.792 274.887 460.732 271.137 Q463.695 267.387 468.394 267.387 Q471.264 267.387 473.301 268.521 Q475.361 269.632 476.704 271.947 M462.19 280.998 Q462.19 285.697 464.111 288.382 Q466.056 291.044 469.435 291.044 Q472.815 291.044 474.759 288.382 Q476.704 285.697 476.704 280.998 Q476.704 276.299 474.759 273.637 Q472.815 270.952 469.435 270.952 Q466.056 270.952 464.111 273.637 Q462.19 276.299 462.19 280.998 Z\" fill=\"#000000\" fill-rule=\"evenodd\" fill-opacity=\"1\" /><path clip-path=\"url(#clip500)\" d=\"M511.912 279.91 L511.912 281.993 L492.329 281.993 Q492.606 286.391 494.967 288.706 Q497.352 290.998 501.588 290.998 Q504.042 290.998 506.333 290.396 Q508.648 289.794 510.916 288.59 L510.916 292.618 Q508.625 293.59 506.217 294.1 Q503.81 294.609 501.333 294.609 Q495.13 294.609 491.495 290.998 Q487.884 287.387 487.884 281.229 Q487.884 274.864 491.31 271.137 Q494.759 267.387 500.592 267.387 Q505.824 267.387 508.856 270.766 Q511.912 274.123 511.912 279.91 M507.653 278.66 Q507.606 275.165 505.685 273.081 Q503.787 270.998 500.639 270.998 Q497.074 270.998 494.921 273.012 Q492.792 275.026 492.468 278.683 L507.653 278.66 Z\" fill=\"#000000\" fill-rule=\"evenodd\" fill-opacity=\"1\" /><path clip-path=\"url(#clip500)\" d=\"M535.963 280.674 Q535.963 276.044 534.041 273.498 Q532.143 270.952 528.694 270.952 Q525.268 270.952 523.347 273.498 Q521.449 276.044 521.449 280.674 Q521.449 285.28 523.347 287.826 Q525.268 290.373 528.694 290.373 Q532.143 290.373 534.041 287.826 Q535.963 285.28 535.963 280.674 M540.222 290.72 Q540.222 297.34 537.282 300.558 Q534.342 303.799 528.277 303.799 Q526.032 303.799 524.041 303.451 Q522.051 303.127 520.176 302.433 L520.176 298.289 Q522.051 299.308 523.879 299.794 Q525.708 300.28 527.606 300.28 Q531.796 300.28 533.879 298.081 Q535.963 295.905 535.963 291.484 L535.963 289.377 Q534.643 291.669 532.583 292.803 Q530.523 293.938 527.653 293.938 Q522.884 293.938 519.967 290.303 Q517.051 286.669 517.051 280.674 Q517.051 274.655 519.967 271.021 Q522.884 267.387 527.653 267.387 Q530.523 267.387 532.583 268.521 Q534.643 269.655 535.963 271.947 L535.963 268.012 L540.222 268.012 L540.222 290.72 Z\" fill=\"#000000\" fill-rule=\"evenodd\" fill-opacity=\"1\" /><path clip-path=\"url(#clip500)\" d=\"M564.018 271.993 Q563.3 271.577 562.444 271.391 Q561.611 271.183 560.592 271.183 Q556.981 271.183 555.037 273.544 Q553.115 275.882 553.115 280.28 L553.115 293.938 L548.833 293.938 L548.833 268.012 L553.115 268.012 L553.115 272.04 Q554.458 269.678 556.611 268.544 Q558.763 267.387 561.842 267.387 Q562.282 267.387 562.814 267.456 Q563.347 267.503 563.995 267.618 L564.018 271.993 Z\" fill=\"#000000\" fill-rule=\"evenodd\" fill-opacity=\"1\" /><path clip-path=\"url(#clip500)\" d=\"M589.62 279.91 L589.62 281.993 L570.037 281.993 Q570.314 286.391 572.675 288.706 Q575.06 290.998 579.296 290.998 Q581.749 290.998 584.041 290.396 Q586.356 289.794 588.624 288.59 L588.624 292.618 Q586.333 293.59 583.925 294.1 Q581.518 294.609 579.041 294.609 Q572.837 294.609 569.203 290.998 Q565.592 287.387 565.592 281.229 Q565.592 274.864 569.018 271.137 Q572.467 267.387 578.3 267.387 Q583.532 267.387 586.564 270.766 Q589.62 274.123 589.62 279.91 M585.361 278.66 Q585.314 275.165 583.393 273.081 Q581.495 270.998 578.347 270.998 Q574.782 270.998 572.629 273.012 Q570.499 275.026 570.175 278.683 L585.361 278.66 Z\" fill=\"#000000\" fill-rule=\"evenodd\" fill-opacity=\"1\" /><path clip-path=\"url(#clip500)\" d=\"M618.786 279.91 L618.786 281.993 L599.203 281.993 Q599.481 286.391 601.842 288.706 Q604.226 290.998 608.462 290.998 Q610.916 290.998 613.208 290.396 Q615.522 289.794 617.791 288.59 L617.791 292.618 Q615.499 293.59 613.092 294.1 Q610.684 294.609 608.208 294.609 Q602.004 294.609 598.37 290.998 Q594.759 287.387 594.759 281.229 Q594.759 274.864 598.185 271.137 Q601.634 267.387 607.467 267.387 Q612.698 267.387 615.731 270.766 Q618.786 274.123 618.786 279.91 M614.527 278.66 Q614.481 275.165 612.559 273.081 Q610.661 270.998 607.513 270.998 Q603.948 270.998 601.796 273.012 Q599.666 275.026 599.342 278.683 L614.527 278.66 Z\" fill=\"#000000\" fill-rule=\"evenodd\" fill-opacity=\"1\" /><path clip-path=\"url(#clip500)\" d=\"M623.624 279.053 L636.101 279.053 L636.101 282.85 L623.624 282.85 L623.624 279.053 Z\" fill=\"#000000\" fill-rule=\"evenodd\" fill-opacity=\"1\" /><path clip-path=\"url(#clip500)\" d=\"M657.652 275.303 Q661.008 276.021 662.883 278.289 Q664.781 280.558 664.781 283.891 Q664.781 289.007 661.263 291.808 Q657.744 294.609 651.263 294.609 Q649.087 294.609 646.772 294.169 Q644.481 293.752 642.027 292.896 L642.027 288.382 Q643.971 289.516 646.286 290.095 Q648.601 290.674 651.124 290.674 Q655.522 290.674 657.814 288.938 Q660.129 287.201 660.129 283.891 Q660.129 280.836 657.976 279.123 Q655.846 277.387 652.027 277.387 L647.999 277.387 L647.999 273.544 L652.212 273.544 Q655.661 273.544 657.49 272.178 Q659.318 270.79 659.318 268.197 Q659.318 265.535 657.42 264.123 Q655.545 262.688 652.027 262.688 Q650.106 262.688 647.906 263.104 Q645.707 263.521 643.069 264.401 L643.069 260.234 Q645.731 259.493 648.045 259.123 Q650.383 258.753 652.443 258.753 Q657.768 258.753 660.869 261.183 Q663.971 263.59 663.971 267.711 Q663.971 270.581 662.328 272.572 Q660.684 274.54 657.652 275.303 Z\" fill=\"#000000\" fill-rule=\"evenodd\" fill-opacity=\"1\" /><path clip-path=\"url(#clip500)\" d=\"M692.235 290.049 L692.235 303.799 L687.953 303.799 L687.953 268.012 L692.235 268.012 L692.235 271.947 Q693.578 269.632 695.615 268.521 Q697.675 267.387 700.522 267.387 Q705.244 267.387 708.184 271.137 Q711.147 274.887 711.147 280.998 Q711.147 287.109 708.184 290.859 Q705.244 294.609 700.522 294.609 Q697.675 294.609 695.615 293.498 Q693.578 292.363 692.235 290.049 M706.726 280.998 Q706.726 276.299 704.781 273.637 Q702.86 270.952 699.48 270.952 Q696.101 270.952 694.156 273.637 Q692.235 276.299 692.235 280.998 Q692.235 285.697 694.156 288.382 Q696.101 291.044 699.48 291.044 Q702.86 291.044 704.781 288.382 Q706.726 285.697 706.726 280.998 Z\" fill=\"#000000\" fill-rule=\"evenodd\" fill-opacity=\"1\" /><path clip-path=\"url(#clip500)\" d=\"M728.253 270.998 Q724.827 270.998 722.837 273.683 Q720.846 276.345 720.846 280.998 Q720.846 285.651 722.813 288.336 Q724.804 290.998 728.253 290.998 Q731.656 290.998 733.647 288.313 Q735.637 285.627 735.637 280.998 Q735.637 276.391 733.647 273.706 Q731.656 270.998 728.253 270.998 M728.253 267.387 Q733.809 267.387 736.98 270.998 Q740.151 274.609 740.151 280.998 Q740.151 287.364 736.98 290.998 Q733.809 294.609 728.253 294.609 Q722.675 294.609 719.503 290.998 Q716.355 287.364 716.355 280.998 Q716.355 274.609 719.503 270.998 Q722.675 267.387 728.253 267.387 Z\" fill=\"#000000\" fill-rule=\"evenodd\" fill-opacity=\"1\" /><path clip-path=\"url(#clip500)\" d=\"M747.212 257.919 L751.471 257.919 L751.471 293.938 L747.212 293.938 L747.212 257.919 Z\" fill=\"#000000\" fill-rule=\"evenodd\" fill-opacity=\"1\" /><path clip-path=\"url(#clip500)\" d=\"M771.17 296.345 Q769.364 300.975 767.651 302.387 Q765.938 303.799 763.068 303.799 L759.665 303.799 L759.665 300.234 L762.165 300.234 Q763.924 300.234 764.897 299.4 Q765.869 298.567 767.049 295.465 L767.813 293.521 L757.327 268.012 L761.841 268.012 L769.943 288.289 L778.045 268.012 L782.559 268.012 L771.17 296.345 Z\" fill=\"#000000\" fill-rule=\"evenodd\" fill-opacity=\"1\" /><path clip-path=\"url(#clip500)\" d=\"M809.989 278.289 L809.989 293.938 L805.73 293.938 L805.73 278.428 Q805.73 274.748 804.295 272.919 Q802.859 271.09 799.989 271.09 Q796.54 271.09 794.549 273.29 Q792.558 275.489 792.558 279.285 L792.558 293.938 L788.276 293.938 L788.276 268.012 L792.558 268.012 L792.558 272.04 Q794.086 269.702 796.146 268.544 Q798.23 267.387 800.938 267.387 Q805.406 267.387 807.697 270.165 Q809.989 272.919 809.989 278.289 Z\" fill=\"#000000\" fill-rule=\"evenodd\" fill-opacity=\"1\" /><path clip-path=\"url(#clip500)\" d=\"M828.531 270.998 Q825.105 270.998 823.114 273.683 Q821.123 276.345 821.123 280.998 Q821.123 285.651 823.091 288.336 Q825.081 290.998 828.531 290.998 Q831.933 290.998 833.924 288.313 Q835.915 285.627 835.915 280.998 Q835.915 276.391 833.924 273.706 Q831.933 270.998 828.531 270.998 M828.531 267.387 Q834.086 267.387 837.257 270.998 Q840.429 274.609 840.429 280.998 Q840.429 287.364 837.257 290.998 Q834.086 294.609 828.531 294.609 Q822.952 294.609 819.781 290.998 Q816.632 287.364 816.632 280.998 Q816.632 274.609 819.781 270.998 Q822.952 267.387 828.531 267.387 Z\" fill=\"#000000\" fill-rule=\"evenodd\" fill-opacity=\"1\" /><path clip-path=\"url(#clip500)\" d=\"M867.674 272.989 Q869.271 270.118 871.493 268.753 Q873.715 267.387 876.725 267.387 Q880.776 267.387 882.975 270.234 Q885.174 273.058 885.174 278.289 L885.174 293.938 L880.891 293.938 L880.891 278.428 Q880.891 274.702 879.572 272.896 Q878.252 271.09 875.544 271.09 Q872.234 271.09 870.313 273.29 Q868.391 275.489 868.391 279.285 L868.391 293.938 L864.109 293.938 L864.109 278.428 Q864.109 274.678 862.79 272.896 Q861.47 271.09 858.716 271.09 Q855.452 271.09 853.53 273.313 Q851.609 275.512 851.609 279.285 L851.609 293.938 L847.327 293.938 L847.327 268.012 L851.609 268.012 L851.609 272.04 Q853.067 269.655 855.104 268.521 Q857.141 267.387 859.942 267.387 Q862.766 267.387 864.734 268.822 Q866.725 270.257 867.674 272.989 Z\" fill=\"#000000\" fill-rule=\"evenodd\" fill-opacity=\"1\" /><path clip-path=\"url(#clip500)\" d=\"M893.669 268.012 L897.928 268.012 L897.928 293.938 L893.669 293.938 L893.669 268.012 M893.669 257.919 L897.928 257.919 L897.928 263.313 L893.669 263.313 L893.669 257.919 Z\" fill=\"#000000\" fill-rule=\"evenodd\" fill-opacity=\"1\" /><path clip-path=\"url(#clip500)\" d=\"M918.623 280.905 Q913.461 280.905 911.47 282.086 Q909.479 283.266 909.479 286.114 Q909.479 288.382 910.961 289.725 Q912.465 291.044 915.035 291.044 Q918.576 291.044 920.706 288.544 Q922.859 286.021 922.859 281.854 L922.859 280.905 L918.623 280.905 M927.118 279.146 L927.118 293.938 L922.859 293.938 L922.859 290.002 Q921.4 292.363 919.224 293.498 Q917.049 294.609 913.9 294.609 Q909.919 294.609 907.558 292.387 Q905.22 290.141 905.22 286.391 Q905.22 282.016 908.137 279.794 Q911.076 277.572 916.887 277.572 L922.859 277.572 L922.859 277.155 Q922.859 274.215 920.914 272.618 Q918.993 270.998 915.498 270.998 Q913.275 270.998 911.169 271.53 Q909.062 272.063 907.118 273.127 L907.118 269.192 Q909.456 268.29 911.655 267.85 Q913.854 267.387 915.937 267.387 Q921.562 267.387 924.34 270.303 Q927.118 273.22 927.118 279.146 Z\" fill=\"#000000\" fill-rule=\"evenodd\" fill-opacity=\"1\" /><path clip-path=\"url(#clip500)\" d=\"M935.891 257.919 L940.15 257.919 L940.15 293.938 L935.891 293.938 L935.891 257.919 Z\" fill=\"#000000\" fill-rule=\"evenodd\" fill-opacity=\"1\" /></svg>\n"
      ]
     },
     "execution_count": 62,
     "metadata": {},
     "output_type": "execute_result"
    }
   ],
   "source": [
    "begin\n",
    "    using Plots\n",
    "    n = 20\n",
    "    x = range(-π, π; length=20)\n",
    "    noise = 0.3randn(n)\n",
    "    y = sin.(x) + noise\n",
    "    X = x .^ (0:3)'\n",
    "    b = X\\y\n",
    "    f(x) = evalpoly(x, b)\n",
    "    xs = range(-π, π; length=400)\n",
    "    plot(; legend=:topleft)\n",
    "    scatter!(x, y; label=\"sample\")\n",
    "    plot!(xs, sin.(xs); label=\"sin(x)\", color=:blue, ls=:dash)\n",
    "    plot!(xs, f.(xs); label=\"degree-3 polynomial\", color=:red, lw=2)\n",
    "end"
   ]
  },
  {
   "cell_type": "code",
   "execution_count": 63,
   "metadata": {},
   "outputs": [
    {
     "name": "stdout",
     "output_type": "stream",
     "text": [
      "(:block, \n",
      "    (:using, \n",
      "        (:., :Plots)), \n",
      "    (:(=), :n, 20), \n",
      "    (:(=), :x, \n",
      "        (:call, :range, \n",
      "            (:parameters, \n",
      "                (:kw, :length, 20)), \n",
      "            (:call, :-, :π), :π)), \n",
      "    (:(=), :noise, \n",
      "        (:call, :*, 0.3, \n",
      "            (:call, :randn, :n))), \n",
      "    (:(=), :y, \n",
      "        (:call, :+, \n",
      "            (:., :sin, \n",
      "                (:tuple, :x)), :noise)), \n",
      "    (:(=), :X, \n",
      "        (:call, :.^, :x, \n",
      "            (Symbol(\"'\"), \n",
      "                (:call, :(:), 0, 3)))), \n",
      "    (:(=), :b, \n",
      "        (:call, :\\, :X, :y)), \n",
      "    (:(=), \n",
      "        (:call, :f, :x), \n",
      "        (:block, \n",
      "            (:call, :evalpoly, :x, :b))), \n",
      "    (:(=), :xs, \n",
      "        (:call, :range, \n",
      "            (:parameters, \n",
      "                (:kw, :length, 400)), \n",
      "            (:call, :-, :π), :π)), \n",
      "    (:call, :plot, \n",
      "        (:parameters, \n",
      "            (:kw, :legend, QuoteNode(:topleft)))), \n",
      "    (:call, :scatter!, \n",
      "        (:parameters, \n",
      "            (:kw, :label, \"sample\")), :x, :y), \n",
      "    (:call, :plot!, \n",
      "        (:parameters, \n",
      "            (:kw, :label, \"sin(x)\"), \n",
      "            (:kw, :color, QuoteNode(:blue)), \n",
      "            (:kw, :ls, QuoteNode(:dash))), :xs, \n",
      "        (:., :sin, \n",
      "            (:tuple, :xs))), \n",
      "    (:call, :plot!, \n",
      "        (:parameters, \n",
      "            (:kw, :label, \"degree-3 polynomial\"), \n",
      "            (:kw, :color, QuoteNode(:red)), \n",
      "            (:kw, :lw, 2)), :xs, \n",
      "        (:., :f, \n",
      "            (:tuple, :xs))))"
     ]
    }
   ],
   "source": [
    "@show_texpr begin\n",
    "    using Plots\n",
    "    n = 20\n",
    "    x = range(-π, π; length=20)\n",
    "    noise = 0.3randn(n)\n",
    "    y = sin.(x) + noise\n",
    "    X = x .^ (0:3)'\n",
    "    b = X\\y\n",
    "    f(x) = evalpoly(x, b)\n",
    "    xs = range(-π, π; length=400)\n",
    "    plot(; legend=:topleft)\n",
    "    scatter!(x, y; label=\"sample\")\n",
    "    plot!(xs, sin.(xs); label=\"sin(x)\", color=:blue, ls=:dash)\n",
    "    plot!(xs, f.(xs); label=\"degree-3 polynomial\", color=:red, lw=2)\n",
    "end"
   ]
  },
  {
   "cell_type": "code",
   "execution_count": 64,
   "metadata": {},
   "outputs": [
    {
     "data": {
      "image/svg+xml": [
       "<?xml version=\"1.0\" encoding=\"utf-8\"?>\n",
       "<svg xmlns=\"http://www.w3.org/2000/svg\" xmlns:xlink=\"http://www.w3.org/1999/xlink\" width=\"600\" height=\"400\" viewBox=\"0 0 2400 1600\">\n",
       "<defs>\n",
       "  <clipPath id=\"clip540\">\n",
       "    <rect x=\"0\" y=\"0\" width=\"2400\" height=\"1600\"/>\n",
       "  </clipPath>\n",
       "</defs>\n",
       "<path clip-path=\"url(#clip540)\" d=\"\n",
       "M0 1600 L2400 1600 L2400 0 L0 0  Z\n",
       "  \" fill=\"#ffffff\" fill-rule=\"evenodd\" fill-opacity=\"1\"/>\n",
       "<defs>\n",
       "  <clipPath id=\"clip541\">\n",
       "    <rect x=\"480\" y=\"0\" width=\"1681\" height=\"1600\"/>\n",
       "  </clipPath>\n",
       "</defs>\n",
       "<path clip-path=\"url(#clip540)\" d=\"\n",
       "M193.936 1486.45 L2352.76 1486.45 L2352.76 47.2441 L193.936 47.2441  Z\n",
       "  \" fill=\"#ffffff\" fill-rule=\"evenodd\" fill-opacity=\"1\"/>\n",
       "<defs>\n",
       "  <clipPath id=\"clip542\">\n",
       "    <rect x=\"193\" y=\"47\" width=\"2160\" height=\"1440\"/>\n",
       "  </clipPath>\n",
       "</defs>\n",
       "<polyline clip-path=\"url(#clip542)\" style=\"stroke:#000000; stroke-linecap:butt; stroke-linejoin:round; stroke-width:2; stroke-opacity:0.1; fill:none\" points=\"\n",
       "  300.93,1486.45 300.93,47.2441 \n",
       "  \"/>\n",
       "<polyline clip-path=\"url(#clip542)\" style=\"stroke:#000000; stroke-linecap:butt; stroke-linejoin:round; stroke-width:2; stroke-opacity:0.1; fill:none\" points=\"\n",
       "  625.069,1486.45 625.069,47.2441 \n",
       "  \"/>\n",
       "<polyline clip-path=\"url(#clip542)\" style=\"stroke:#000000; stroke-linecap:butt; stroke-linejoin:round; stroke-width:2; stroke-opacity:0.1; fill:none\" points=\"\n",
       "  949.207,1486.45 949.207,47.2441 \n",
       "  \"/>\n",
       "<polyline clip-path=\"url(#clip542)\" style=\"stroke:#000000; stroke-linecap:butt; stroke-linejoin:round; stroke-width:2; stroke-opacity:0.1; fill:none\" points=\"\n",
       "  1273.35,1486.45 1273.35,47.2441 \n",
       "  \"/>\n",
       "<polyline clip-path=\"url(#clip542)\" style=\"stroke:#000000; stroke-linecap:butt; stroke-linejoin:round; stroke-width:2; stroke-opacity:0.1; fill:none\" points=\"\n",
       "  1597.48,1486.45 1597.48,47.2441 \n",
       "  \"/>\n",
       "<polyline clip-path=\"url(#clip542)\" style=\"stroke:#000000; stroke-linecap:butt; stroke-linejoin:round; stroke-width:2; stroke-opacity:0.1; fill:none\" points=\"\n",
       "  1921.62,1486.45 1921.62,47.2441 \n",
       "  \"/>\n",
       "<polyline clip-path=\"url(#clip542)\" style=\"stroke:#000000; stroke-linecap:butt; stroke-linejoin:round; stroke-width:2; stroke-opacity:0.1; fill:none\" points=\"\n",
       "  2245.76,1486.45 2245.76,47.2441 \n",
       "  \"/>\n",
       "<polyline clip-path=\"url(#clip540)\" style=\"stroke:#000000; stroke-linecap:butt; stroke-linejoin:round; stroke-width:4; stroke-opacity:1; fill:none\" points=\"\n",
       "  193.936,1486.45 2352.76,1486.45 \n",
       "  \"/>\n",
       "<polyline clip-path=\"url(#clip540)\" style=\"stroke:#000000; stroke-linecap:butt; stroke-linejoin:round; stroke-width:4; stroke-opacity:1; fill:none\" points=\"\n",
       "  300.93,1486.45 300.93,1469.18 \n",
       "  \"/>\n",
       "<polyline clip-path=\"url(#clip540)\" style=\"stroke:#000000; stroke-linecap:butt; stroke-linejoin:round; stroke-width:4; stroke-opacity:1; fill:none\" points=\"\n",
       "  625.069,1486.45 625.069,1469.18 \n",
       "  \"/>\n",
       "<polyline clip-path=\"url(#clip540)\" style=\"stroke:#000000; stroke-linecap:butt; stroke-linejoin:round; stroke-width:4; stroke-opacity:1; fill:none\" points=\"\n",
       "  949.207,1486.45 949.207,1469.18 \n",
       "  \"/>\n",
       "<polyline clip-path=\"url(#clip540)\" style=\"stroke:#000000; stroke-linecap:butt; stroke-linejoin:round; stroke-width:4; stroke-opacity:1; fill:none\" points=\"\n",
       "  1273.35,1486.45 1273.35,1469.18 \n",
       "  \"/>\n",
       "<polyline clip-path=\"url(#clip540)\" style=\"stroke:#000000; stroke-linecap:butt; stroke-linejoin:round; stroke-width:4; stroke-opacity:1; fill:none\" points=\"\n",
       "  1597.48,1486.45 1597.48,1469.18 \n",
       "  \"/>\n",
       "<polyline clip-path=\"url(#clip540)\" style=\"stroke:#000000; stroke-linecap:butt; stroke-linejoin:round; stroke-width:4; stroke-opacity:1; fill:none\" points=\"\n",
       "  1921.62,1486.45 1921.62,1469.18 \n",
       "  \"/>\n",
       "<polyline clip-path=\"url(#clip540)\" style=\"stroke:#000000; stroke-linecap:butt; stroke-linejoin:round; stroke-width:4; stroke-opacity:1; fill:none\" points=\"\n",
       "  2245.76,1486.45 2245.76,1469.18 \n",
       "  \"/>\n",
       "<path clip-path=\"url(#clip540)\" d=\"M270.398 1530.29 L300.074 1530.29 L300.074 1534.23 L270.398 1534.23 L270.398 1530.29 Z\" fill=\"#000000\" fill-rule=\"evenodd\" fill-opacity=\"1\" /><path clip-path=\"url(#clip540)\" d=\"M324.333 1528.49 Q327.689 1529.2 329.564 1531.47 Q331.463 1533.74 331.463 1537.07 Q331.463 1542.19 327.944 1544.99 Q324.426 1547.79 317.944 1547.79 Q315.768 1547.79 313.453 1547.35 Q311.162 1546.93 308.708 1546.08 L308.708 1541.56 Q310.652 1542.7 312.967 1543.28 Q315.282 1543.86 317.805 1543.86 Q322.203 1543.86 324.495 1542.12 Q326.81 1540.38 326.81 1537.07 Q326.81 1534.02 324.657 1532.31 Q322.527 1530.57 318.708 1530.57 L314.68 1530.57 L314.68 1526.73 L318.893 1526.73 Q322.342 1526.73 324.171 1525.36 Q326 1523.97 326 1521.38 Q326 1518.72 324.101 1517.31 Q322.226 1515.87 318.708 1515.87 Q316.787 1515.87 314.588 1516.29 Q312.389 1516.7 309.75 1517.58 L309.75 1513.42 Q312.412 1512.68 314.727 1512.31 Q317.064 1511.93 319.125 1511.93 Q324.449 1511.93 327.551 1514.37 Q330.652 1516.77 330.652 1520.89 Q330.652 1523.76 329.009 1525.75 Q327.365 1527.72 324.333 1528.49 Z\" fill=\"#000000\" fill-rule=\"evenodd\" fill-opacity=\"1\" /><path clip-path=\"url(#clip540)\" d=\"M595.011 1530.29 L624.687 1530.29 L624.687 1534.23 L595.011 1534.23 L595.011 1530.29 Z\" fill=\"#000000\" fill-rule=\"evenodd\" fill-opacity=\"1\" /><path clip-path=\"url(#clip540)\" d=\"M638.807 1543.18 L655.127 1543.18 L655.127 1547.12 L633.182 1547.12 L633.182 1543.18 Q635.844 1540.43 640.428 1535.8 Q645.034 1531.15 646.215 1529.81 Q648.46 1527.28 649.34 1525.55 Q650.242 1523.79 650.242 1522.1 Q650.242 1519.34 648.298 1517.61 Q646.377 1515.87 643.275 1515.87 Q641.076 1515.87 638.622 1516.63 Q636.191 1517.4 633.414 1518.95 L633.414 1514.23 Q636.238 1513.09 638.691 1512.51 Q641.145 1511.93 643.182 1511.93 Q648.553 1511.93 651.747 1514.62 Q654.941 1517.31 654.941 1521.8 Q654.941 1523.93 654.131 1525.85 Q653.344 1527.74 651.238 1530.34 Q650.659 1531.01 647.557 1534.23 Q644.455 1537.42 638.807 1543.18 Z\" fill=\"#000000\" fill-rule=\"evenodd\" fill-opacity=\"1\" /><path clip-path=\"url(#clip540)\" d=\"M918.965 1530.29 L948.64 1530.29 L948.64 1534.23 L918.965 1534.23 L918.965 1530.29 Z\" fill=\"#000000\" fill-rule=\"evenodd\" fill-opacity=\"1\" /><path clip-path=\"url(#clip540)\" d=\"M959.543 1543.18 L967.182 1543.18 L967.182 1516.82 L958.872 1518.49 L958.872 1514.23 L967.136 1512.56 L971.811 1512.56 L971.811 1543.18 L979.45 1543.18 L979.45 1547.12 L959.543 1547.12 L959.543 1543.18 Z\" fill=\"#000000\" fill-rule=\"evenodd\" fill-opacity=\"1\" /><path clip-path=\"url(#clip540)\" d=\"M1273.35 1515.64 Q1269.73 1515.64 1267.91 1519.2 Q1266.1 1522.75 1266.1 1529.87 Q1266.1 1536.98 1267.91 1540.55 Q1269.73 1544.09 1273.35 1544.09 Q1276.98 1544.09 1278.79 1540.55 Q1280.61 1536.98 1280.61 1529.87 Q1280.61 1522.75 1278.79 1519.2 Q1276.98 1515.64 1273.35 1515.64 M1273.35 1511.93 Q1279.16 1511.93 1282.21 1516.54 Q1285.29 1521.12 1285.29 1529.87 Q1285.29 1538.6 1282.21 1543.21 Q1279.16 1547.79 1273.35 1547.79 Q1267.54 1547.79 1264.46 1543.21 Q1261.4 1538.6 1261.4 1529.87 Q1261.4 1521.12 1264.46 1516.54 Q1267.54 1511.93 1273.35 1511.93 Z\" fill=\"#000000\" fill-rule=\"evenodd\" fill-opacity=\"1\" /><path clip-path=\"url(#clip540)\" d=\"M1587.87 1543.18 L1595.51 1543.18 L1595.51 1516.82 L1587.2 1518.49 L1587.2 1514.23 L1595.46 1512.56 L1600.13 1512.56 L1600.13 1543.18 L1607.77 1543.18 L1607.77 1547.12 L1587.87 1547.12 L1587.87 1543.18 Z\" fill=\"#000000\" fill-rule=\"evenodd\" fill-opacity=\"1\" /><path clip-path=\"url(#clip540)\" d=\"M1916.28 1543.18 L1932.6 1543.18 L1932.6 1547.12 L1910.65 1547.12 L1910.65 1543.18 Q1913.31 1540.43 1917.9 1535.8 Q1922.5 1531.15 1923.68 1529.81 Q1925.93 1527.28 1926.81 1525.55 Q1927.71 1523.79 1927.71 1522.1 Q1927.71 1519.34 1925.77 1517.61 Q1923.85 1515.87 1920.74 1515.87 Q1918.54 1515.87 1916.09 1516.63 Q1913.66 1517.4 1910.88 1518.95 L1910.88 1514.23 Q1913.71 1513.09 1916.16 1512.51 Q1918.61 1511.93 1920.65 1511.93 Q1926.02 1511.93 1929.22 1514.62 Q1932.41 1517.31 1932.41 1521.8 Q1932.41 1523.93 1931.6 1525.85 Q1930.81 1527.74 1928.71 1530.34 Q1928.13 1531.01 1925.03 1534.23 Q1921.92 1537.42 1916.28 1543.18 Z\" fill=\"#000000\" fill-rule=\"evenodd\" fill-opacity=\"1\" /><path clip-path=\"url(#clip540)\" d=\"M2250.01 1528.49 Q2253.37 1529.2 2255.24 1531.47 Q2257.14 1533.74 2257.14 1537.07 Q2257.14 1542.19 2253.62 1544.99 Q2250.1 1547.79 2243.62 1547.79 Q2241.44 1547.79 2239.13 1547.35 Q2236.84 1546.93 2234.38 1546.08 L2234.38 1541.56 Q2236.33 1542.7 2238.64 1543.28 Q2240.96 1543.86 2243.48 1543.86 Q2247.88 1543.86 2250.17 1542.12 Q2252.49 1540.38 2252.49 1537.07 Q2252.49 1534.02 2250.33 1532.31 Q2248.2 1530.57 2244.38 1530.57 L2240.36 1530.57 L2240.36 1526.73 L2244.57 1526.73 Q2248.02 1526.73 2249.85 1525.36 Q2251.68 1523.97 2251.68 1521.38 Q2251.68 1518.72 2249.78 1517.31 Q2247.9 1515.87 2244.38 1515.87 Q2242.46 1515.87 2240.26 1516.29 Q2238.06 1516.7 2235.43 1517.58 L2235.43 1513.42 Q2238.09 1512.68 2240.4 1512.31 Q2242.74 1511.93 2244.8 1511.93 Q2250.12 1511.93 2253.23 1514.37 Q2256.33 1516.77 2256.33 1520.89 Q2256.33 1523.76 2254.69 1525.75 Q2253.04 1527.72 2250.01 1528.49 Z\" fill=\"#000000\" fill-rule=\"evenodd\" fill-opacity=\"1\" /><polyline clip-path=\"url(#clip542)\" style=\"stroke:#000000; stroke-linecap:butt; stroke-linejoin:round; stroke-width:2; stroke-opacity:0.1; fill:none\" points=\"\n",
       "  193.936,1435.99 2352.76,1435.99 \n",
       "  \"/>\n",
       "<polyline clip-path=\"url(#clip542)\" style=\"stroke:#000000; stroke-linecap:butt; stroke-linejoin:round; stroke-width:2; stroke-opacity:0.1; fill:none\" points=\"\n",
       "  193.936,1160.07 2352.76,1160.07 \n",
       "  \"/>\n",
       "<polyline clip-path=\"url(#clip542)\" style=\"stroke:#000000; stroke-linecap:butt; stroke-linejoin:round; stroke-width:2; stroke-opacity:0.1; fill:none\" points=\"\n",
       "  193.936,884.145 2352.76,884.145 \n",
       "  \"/>\n",
       "<polyline clip-path=\"url(#clip542)\" style=\"stroke:#000000; stroke-linecap:butt; stroke-linejoin:round; stroke-width:2; stroke-opacity:0.1; fill:none\" points=\"\n",
       "  193.936,608.22 2352.76,608.22 \n",
       "  \"/>\n",
       "<polyline clip-path=\"url(#clip542)\" style=\"stroke:#000000; stroke-linecap:butt; stroke-linejoin:round; stroke-width:2; stroke-opacity:0.1; fill:none\" points=\"\n",
       "  193.936,332.296 2352.76,332.296 \n",
       "  \"/>\n",
       "<polyline clip-path=\"url(#clip542)\" style=\"stroke:#000000; stroke-linecap:butt; stroke-linejoin:round; stroke-width:2; stroke-opacity:0.1; fill:none\" points=\"\n",
       "  193.936,56.3709 2352.76,56.3709 \n",
       "  \"/>\n",
       "<polyline clip-path=\"url(#clip540)\" style=\"stroke:#000000; stroke-linecap:butt; stroke-linejoin:round; stroke-width:4; stroke-opacity:1; fill:none\" points=\"\n",
       "  193.936,1486.45 193.936,47.2441 \n",
       "  \"/>\n",
       "<polyline clip-path=\"url(#clip540)\" style=\"stroke:#000000; stroke-linecap:butt; stroke-linejoin:round; stroke-width:4; stroke-opacity:1; fill:none\" points=\"\n",
       "  193.936,1435.99 219.842,1435.99 \n",
       "  \"/>\n",
       "<polyline clip-path=\"url(#clip540)\" style=\"stroke:#000000; stroke-linecap:butt; stroke-linejoin:round; stroke-width:4; stroke-opacity:1; fill:none\" points=\"\n",
       "  193.936,1160.07 219.842,1160.07 \n",
       "  \"/>\n",
       "<polyline clip-path=\"url(#clip540)\" style=\"stroke:#000000; stroke-linecap:butt; stroke-linejoin:round; stroke-width:4; stroke-opacity:1; fill:none\" points=\"\n",
       "  193.936,884.145 219.842,884.145 \n",
       "  \"/>\n",
       "<polyline clip-path=\"url(#clip540)\" style=\"stroke:#000000; stroke-linecap:butt; stroke-linejoin:round; stroke-width:4; stroke-opacity:1; fill:none\" points=\"\n",
       "  193.936,608.22 219.842,608.22 \n",
       "  \"/>\n",
       "<polyline clip-path=\"url(#clip540)\" style=\"stroke:#000000; stroke-linecap:butt; stroke-linejoin:round; stroke-width:4; stroke-opacity:1; fill:none\" points=\"\n",
       "  193.936,332.296 219.842,332.296 \n",
       "  \"/>\n",
       "<polyline clip-path=\"url(#clip540)\" style=\"stroke:#000000; stroke-linecap:butt; stroke-linejoin:round; stroke-width:4; stroke-opacity:1; fill:none\" points=\"\n",
       "  193.936,56.3709 219.842,56.3709 \n",
       "  \"/>\n",
       "<path clip-path=\"url(#clip540)\" d=\"M50.9921 1436.45 L80.6679 1436.45 L80.6679 1440.38 L50.9921 1440.38 L50.9921 1436.45 Z\" fill=\"#000000\" fill-rule=\"evenodd\" fill-opacity=\"1\" /><path clip-path=\"url(#clip540)\" d=\"M91.5706 1449.34 L99.2095 1449.34 L99.2095 1422.97 L90.8993 1424.64 L90.8993 1420.38 L99.1632 1418.71 L103.839 1418.71 L103.839 1449.34 L111.478 1449.34 L111.478 1453.27 L91.5706 1453.27 L91.5706 1449.34 Z\" fill=\"#000000\" fill-rule=\"evenodd\" fill-opacity=\"1\" /><path clip-path=\"url(#clip540)\" d=\"M120.922 1447.39 L125.807 1447.39 L125.807 1453.27 L120.922 1453.27 L120.922 1447.39 Z\" fill=\"#000000\" fill-rule=\"evenodd\" fill-opacity=\"1\" /><path clip-path=\"url(#clip540)\" d=\"M145.992 1421.79 Q142.381 1421.79 140.552 1425.36 Q138.746 1428.9 138.746 1436.03 Q138.746 1443.14 140.552 1446.7 Q142.381 1450.24 145.992 1450.24 Q149.626 1450.24 151.431 1446.7 Q153.26 1443.14 153.26 1436.03 Q153.26 1428.9 151.431 1425.36 Q149.626 1421.79 145.992 1421.79 M145.992 1418.09 Q151.802 1418.09 154.857 1422.7 Q157.936 1427.28 157.936 1436.03 Q157.936 1444.76 154.857 1449.36 Q151.802 1453.95 145.992 1453.95 Q140.181 1453.95 137.103 1449.36 Q134.047 1444.76 134.047 1436.03 Q134.047 1427.28 137.103 1422.7 Q140.181 1418.09 145.992 1418.09 Z\" fill=\"#000000\" fill-rule=\"evenodd\" fill-opacity=\"1\" /><path clip-path=\"url(#clip540)\" d=\"M51.9875 1160.52 L81.6633 1160.52 L81.6633 1164.46 L51.9875 1164.46 L51.9875 1160.52 Z\" fill=\"#000000\" fill-rule=\"evenodd\" fill-opacity=\"1\" /><path clip-path=\"url(#clip540)\" d=\"M101.756 1145.87 Q98.1447 1145.87 96.316 1149.43 Q94.5104 1152.97 94.5104 1160.1 Q94.5104 1167.21 96.316 1170.78 Q98.1447 1174.32 101.756 1174.32 Q105.39 1174.32 107.196 1170.78 Q109.024 1167.21 109.024 1160.1 Q109.024 1152.97 107.196 1149.43 Q105.39 1145.87 101.756 1145.87 M101.756 1142.16 Q107.566 1142.16 110.621 1146.77 Q113.7 1151.35 113.7 1160.1 Q113.7 1168.83 110.621 1173.44 Q107.566 1178.02 101.756 1178.02 Q95.9456 1178.02 92.8669 1173.44 Q89.8114 1168.83 89.8114 1160.1 Q89.8114 1151.35 92.8669 1146.77 Q95.9456 1142.16 101.756 1142.16 Z\" fill=\"#000000\" fill-rule=\"evenodd\" fill-opacity=\"1\" /><path clip-path=\"url(#clip540)\" d=\"M121.918 1171.47 L126.802 1171.47 L126.802 1177.35 L121.918 1177.35 L121.918 1171.47 Z\" fill=\"#000000\" fill-rule=\"evenodd\" fill-opacity=\"1\" /><path clip-path=\"url(#clip540)\" d=\"M137.033 1142.79 L155.39 1142.79 L155.39 1146.72 L141.316 1146.72 L141.316 1155.2 Q142.334 1154.85 143.353 1154.69 Q144.371 1154.5 145.39 1154.5 Q151.177 1154.5 154.556 1157.67 Q157.936 1160.84 157.936 1166.26 Q157.936 1171.84 154.464 1174.94 Q150.992 1178.02 144.672 1178.02 Q142.496 1178.02 140.228 1177.65 Q137.982 1177.28 135.575 1176.54 L135.575 1171.84 Q137.658 1172.97 139.881 1173.53 Q142.103 1174.09 144.58 1174.09 Q148.584 1174.09 150.922 1171.98 Q153.26 1169.87 153.26 1166.26 Q153.26 1162.65 150.922 1160.54 Q148.584 1158.44 144.58 1158.44 Q142.705 1158.44 140.83 1158.85 Q138.978 1159.27 137.033 1160.15 L137.033 1142.79 Z\" fill=\"#000000\" fill-rule=\"evenodd\" fill-opacity=\"1\" /><path clip-path=\"url(#clip540)\" d=\"M100.76 869.943 Q97.1493 869.943 95.3206 873.508 Q93.515 877.05 93.515 884.18 Q93.515 891.286 95.3206 894.851 Q97.1493 898.392 100.76 898.392 Q104.395 898.392 106.2 894.851 Q108.029 891.286 108.029 884.18 Q108.029 877.05 106.2 873.508 Q104.395 869.943 100.76 869.943 M100.76 866.24 Q106.571 866.24 109.626 870.846 Q112.705 875.43 112.705 884.18 Q112.705 892.906 109.626 897.513 Q106.571 902.096 100.76 902.096 Q94.9502 902.096 91.8715 897.513 Q88.816 892.906 88.816 884.18 Q88.816 875.43 91.8715 870.846 Q94.9502 866.24 100.76 866.24 Z\" fill=\"#000000\" fill-rule=\"evenodd\" fill-opacity=\"1\" /><path clip-path=\"url(#clip540)\" d=\"M120.922 895.545 L125.807 895.545 L125.807 901.425 L120.922 901.425 L120.922 895.545 Z\" fill=\"#000000\" fill-rule=\"evenodd\" fill-opacity=\"1\" /><path clip-path=\"url(#clip540)\" d=\"M145.992 869.943 Q142.381 869.943 140.552 873.508 Q138.746 877.05 138.746 884.18 Q138.746 891.286 140.552 894.851 Q142.381 898.392 145.992 898.392 Q149.626 898.392 151.431 894.851 Q153.26 891.286 153.26 884.18 Q153.26 877.05 151.431 873.508 Q149.626 869.943 145.992 869.943 M145.992 866.24 Q151.802 866.24 154.857 870.846 Q157.936 875.43 157.936 884.18 Q157.936 892.906 154.857 897.513 Q151.802 902.096 145.992 902.096 Q140.181 902.096 137.103 897.513 Q134.047 892.906 134.047 884.18 Q134.047 875.43 137.103 870.846 Q140.181 866.24 145.992 866.24 Z\" fill=\"#000000\" fill-rule=\"evenodd\" fill-opacity=\"1\" /><path clip-path=\"url(#clip540)\" d=\"M101.756 594.019 Q98.1447 594.019 96.316 597.584 Q94.5104 601.125 94.5104 608.255 Q94.5104 615.361 96.316 618.926 Q98.1447 622.468 101.756 622.468 Q105.39 622.468 107.196 618.926 Q109.024 615.361 109.024 608.255 Q109.024 601.125 107.196 597.584 Q105.39 594.019 101.756 594.019 M101.756 590.315 Q107.566 590.315 110.621 594.922 Q113.7 599.505 113.7 608.255 Q113.7 616.982 110.621 621.588 Q107.566 626.171 101.756 626.171 Q95.9456 626.171 92.8669 621.588 Q89.8114 616.982 89.8114 608.255 Q89.8114 599.505 92.8669 594.922 Q95.9456 590.315 101.756 590.315 Z\" fill=\"#000000\" fill-rule=\"evenodd\" fill-opacity=\"1\" /><path clip-path=\"url(#clip540)\" d=\"M121.918 619.621 L126.802 619.621 L126.802 625.5 L121.918 625.5 L121.918 619.621 Z\" fill=\"#000000\" fill-rule=\"evenodd\" fill-opacity=\"1\" /><path clip-path=\"url(#clip540)\" d=\"M137.033 590.94 L155.39 590.94 L155.39 594.875 L141.316 594.875 L141.316 603.347 Q142.334 603 143.353 602.838 Q144.371 602.653 145.39 602.653 Q151.177 602.653 154.556 605.824 Q157.936 608.996 157.936 614.412 Q157.936 619.991 154.464 623.093 Q150.992 626.171 144.672 626.171 Q142.496 626.171 140.228 625.801 Q137.982 625.431 135.575 624.69 L135.575 619.991 Q137.658 621.125 139.881 621.681 Q142.103 622.236 144.58 622.236 Q148.584 622.236 150.922 620.13 Q153.26 618.023 153.26 614.412 Q153.26 610.801 150.922 608.695 Q148.584 606.588 144.58 606.588 Q142.705 606.588 140.83 607.005 Q138.978 607.422 137.033 608.301 L137.033 590.94 Z\" fill=\"#000000\" fill-rule=\"evenodd\" fill-opacity=\"1\" /><path clip-path=\"url(#clip540)\" d=\"M91.5706 345.64 L99.2095 345.64 L99.2095 319.275 L90.8993 320.941 L90.8993 316.682 L99.1632 315.016 L103.839 315.016 L103.839 345.64 L111.478 345.64 L111.478 349.576 L91.5706 349.576 L91.5706 345.64 Z\" fill=\"#000000\" fill-rule=\"evenodd\" fill-opacity=\"1\" /><path clip-path=\"url(#clip540)\" d=\"M120.922 343.696 L125.807 343.696 L125.807 349.576 L120.922 349.576 L120.922 343.696 Z\" fill=\"#000000\" fill-rule=\"evenodd\" fill-opacity=\"1\" /><path clip-path=\"url(#clip540)\" d=\"M145.992 318.094 Q142.381 318.094 140.552 321.659 Q138.746 325.201 138.746 332.33 Q138.746 339.437 140.552 343.001 Q142.381 346.543 145.992 346.543 Q149.626 346.543 151.431 343.001 Q153.26 339.437 153.26 332.33 Q153.26 325.201 151.431 321.659 Q149.626 318.094 145.992 318.094 M145.992 314.391 Q151.802 314.391 154.857 318.997 Q157.936 323.58 157.936 332.33 Q157.936 341.057 154.857 345.664 Q151.802 350.247 145.992 350.247 Q140.181 350.247 137.103 345.664 Q134.047 341.057 134.047 332.33 Q134.047 323.58 137.103 318.997 Q140.181 314.391 145.992 314.391 Z\" fill=\"#000000\" fill-rule=\"evenodd\" fill-opacity=\"1\" /><path clip-path=\"url(#clip540)\" d=\"M92.566 69.7157 L100.205 69.7157 L100.205 43.3501 L91.8947 45.0168 L91.8947 40.7576 L100.159 39.0909 L104.834 39.0909 L104.834 69.7157 L112.473 69.7157 L112.473 73.6509 L92.566 73.6509 L92.566 69.7157 Z\" fill=\"#000000\" fill-rule=\"evenodd\" fill-opacity=\"1\" /><path clip-path=\"url(#clip540)\" d=\"M121.918 67.7713 L126.802 67.7713 L126.802 73.6509 L121.918 73.6509 L121.918 67.7713 Z\" fill=\"#000000\" fill-rule=\"evenodd\" fill-opacity=\"1\" /><path clip-path=\"url(#clip540)\" d=\"M137.033 39.0909 L155.39 39.0909 L155.39 43.0261 L141.316 43.0261 L141.316 51.4982 Q142.334 51.151 143.353 50.989 Q144.371 50.8038 145.39 50.8038 Q151.177 50.8038 154.556 53.9751 Q157.936 57.1464 157.936 62.563 Q157.936 68.1417 154.464 71.2435 Q150.992 74.3222 144.672 74.3222 Q142.496 74.3222 140.228 73.9518 Q137.982 73.5814 135.575 72.8407 L135.575 68.1417 Q137.658 69.2759 139.881 69.8315 Q142.103 70.387 144.58 70.387 Q148.584 70.387 150.922 68.2806 Q153.26 66.1741 153.26 62.563 Q153.26 58.9519 150.922 56.8454 Q148.584 54.739 144.58 54.739 Q142.705 54.739 140.83 55.1556 Q138.978 55.5723 137.033 56.4519 L137.033 39.0909 Z\" fill=\"#000000\" fill-rule=\"evenodd\" fill-opacity=\"1\" /><circle clip-path=\"url(#clip542)\" cx=\"255.035\" cy=\"972.233\" r=\"14\" fill=\"#009af9\" fill-rule=\"evenodd\" fill-opacity=\"1\" stroke=\"#000000\" stroke-opacity=\"1\" stroke-width=\"3.2\"/>\n",
       "<circle clip-path=\"url(#clip542)\" cx=\"362.225\" cy=\"1037.57\" r=\"14\" fill=\"#009af9\" fill-rule=\"evenodd\" fill-opacity=\"1\" stroke=\"#000000\" stroke-opacity=\"1\" stroke-width=\"3.2\"/>\n",
       "<circle clip-path=\"url(#clip542)\" cx=\"469.416\" cy=\"874.164\" r=\"14\" fill=\"#009af9\" fill-rule=\"evenodd\" fill-opacity=\"1\" stroke=\"#000000\" stroke-opacity=\"1\" stroke-width=\"3.2\"/>\n",
       "<circle clip-path=\"url(#clip542)\" cx=\"576.607\" cy=\"1244.38\" r=\"14\" fill=\"#009af9\" fill-rule=\"evenodd\" fill-opacity=\"1\" stroke=\"#000000\" stroke-opacity=\"1\" stroke-width=\"3.2\"/>\n",
       "<circle clip-path=\"url(#clip542)\" cx=\"683.797\" cy=\"1234.93\" r=\"14\" fill=\"#009af9\" fill-rule=\"evenodd\" fill-opacity=\"1\" stroke=\"#000000\" stroke-opacity=\"1\" stroke-width=\"3.2\"/>\n",
       "<circle clip-path=\"url(#clip542)\" cx=\"790.988\" cy=\"1445.72\" r=\"14\" fill=\"#009af9\" fill-rule=\"evenodd\" fill-opacity=\"1\" stroke=\"#000000\" stroke-opacity=\"1\" stroke-width=\"3.2\"/>\n",
       "<circle clip-path=\"url(#clip542)\" cx=\"898.179\" cy=\"1382.63\" r=\"14\" fill=\"#009af9\" fill-rule=\"evenodd\" fill-opacity=\"1\" stroke=\"#000000\" stroke-opacity=\"1\" stroke-width=\"3.2\"/>\n",
       "<circle clip-path=\"url(#clip542)\" cx=\"1005.37\" cy=\"974.01\" r=\"14\" fill=\"#009af9\" fill-rule=\"evenodd\" fill-opacity=\"1\" stroke=\"#000000\" stroke-opacity=\"1\" stroke-width=\"3.2\"/>\n",
       "<circle clip-path=\"url(#clip542)\" cx=\"1112.56\" cy=\"1219.73\" r=\"14\" fill=\"#009af9\" fill-rule=\"evenodd\" fill-opacity=\"1\" stroke=\"#000000\" stroke-opacity=\"1\" stroke-width=\"3.2\"/>\n",
       "<circle clip-path=\"url(#clip542)\" cx=\"1219.75\" cy=\"918.81\" r=\"14\" fill=\"#009af9\" fill-rule=\"evenodd\" fill-opacity=\"1\" stroke=\"#000000\" stroke-opacity=\"1\" stroke-width=\"3.2\"/>\n",
       "<circle clip-path=\"url(#clip542)\" cx=\"1326.94\" cy=\"896.322\" r=\"14\" fill=\"#009af9\" fill-rule=\"evenodd\" fill-opacity=\"1\" stroke=\"#000000\" stroke-opacity=\"1\" stroke-width=\"3.2\"/>\n",
       "<circle clip-path=\"url(#clip542)\" cx=\"1434.13\" cy=\"563.541\" r=\"14\" fill=\"#009af9\" fill-rule=\"evenodd\" fill-opacity=\"1\" stroke=\"#000000\" stroke-opacity=\"1\" stroke-width=\"3.2\"/>\n",
       "<circle clip-path=\"url(#clip542)\" cx=\"1541.32\" cy=\"425.901\" r=\"14\" fill=\"#009af9\" fill-rule=\"evenodd\" fill-opacity=\"1\" stroke=\"#000000\" stroke-opacity=\"1\" stroke-width=\"3.2\"/>\n",
       "<circle clip-path=\"url(#clip542)\" cx=\"1648.51\" cy=\"222.782\" r=\"14\" fill=\"#009af9\" fill-rule=\"evenodd\" fill-opacity=\"1\" stroke=\"#000000\" stroke-opacity=\"1\" stroke-width=\"3.2\"/>\n",
       "<circle clip-path=\"url(#clip542)\" cx=\"1755.7\" cy=\"87.9763\" r=\"14\" fill=\"#009af9\" fill-rule=\"evenodd\" fill-opacity=\"1\" stroke=\"#000000\" stroke-opacity=\"1\" stroke-width=\"3.2\"/>\n",
       "<circle clip-path=\"url(#clip542)\" cx=\"1862.89\" cy=\"255.654\" r=\"14\" fill=\"#009af9\" fill-rule=\"evenodd\" fill-opacity=\"1\" stroke=\"#000000\" stroke-opacity=\"1\" stroke-width=\"3.2\"/>\n",
       "<circle clip-path=\"url(#clip542)\" cx=\"1970.09\" cy=\"571.379\" r=\"14\" fill=\"#009af9\" fill-rule=\"evenodd\" fill-opacity=\"1\" stroke=\"#000000\" stroke-opacity=\"1\" stroke-width=\"3.2\"/>\n",
       "<circle clip-path=\"url(#clip542)\" cx=\"2077.28\" cy=\"547.986\" r=\"14\" fill=\"#009af9\" fill-rule=\"evenodd\" fill-opacity=\"1\" stroke=\"#000000\" stroke-opacity=\"1\" stroke-width=\"3.2\"/>\n",
       "<circle clip-path=\"url(#clip542)\" cx=\"2184.47\" cy=\"785.037\" r=\"14\" fill=\"#009af9\" fill-rule=\"evenodd\" fill-opacity=\"1\" stroke=\"#000000\" stroke-opacity=\"1\" stroke-width=\"3.2\"/>\n",
       "<circle clip-path=\"url(#clip542)\" cx=\"2291.66\" cy=\"875.941\" r=\"14\" fill=\"#009af9\" fill-rule=\"evenodd\" fill-opacity=\"1\" stroke=\"#000000\" stroke-opacity=\"1\" stroke-width=\"3.2\"/>\n",
       "<polyline clip-path=\"url(#clip542)\" style=\"stroke:#0000ff; stroke-linecap:butt; stroke-linejoin:round; stroke-width:4; stroke-opacity:1; fill:none\" stroke-dasharray=\"16, 10\" points=\"\n",
       "  255.035,884.145 260.139,892.835 265.243,901.522 270.348,910.206 275.452,918.882 280.556,927.551 285.661,936.208 290.765,944.853 295.869,953.482 300.974,962.095 \n",
       "  306.078,970.688 311.182,979.259 316.286,987.807 321.391,996.329 326.495,1004.82 331.599,1013.29 336.704,1021.72 341.808,1030.12 346.912,1038.48 352.017,1046.81 \n",
       "  357.121,1055.09 362.225,1063.33 367.33,1071.53 372.434,1079.68 377.538,1087.78 382.643,1095.83 387.747,1103.83 392.851,1111.77 397.956,1119.66 403.06,1127.49 \n",
       "  408.164,1135.26 413.269,1142.97 418.373,1150.61 423.477,1158.19 428.581,1165.69 433.686,1173.13 438.79,1180.5 443.894,1187.79 448.999,1195.01 454.103,1202.15 \n",
       "  459.207,1209.22 464.312,1216.2 469.416,1223.1 474.52,1229.91 479.625,1236.64 484.729,1243.29 489.833,1249.84 494.938,1256.3 500.042,1262.67 505.146,1268.95 \n",
       "  510.251,1275.13 515.355,1281.21 520.459,1287.2 525.563,1293.08 530.668,1298.87 535.772,1304.55 540.876,1310.13 545.981,1315.6 551.085,1320.96 556.189,1326.22 \n",
       "  561.294,1331.37 566.398,1336.4 571.502,1341.32 576.607,1346.13 581.711,1350.83 586.815,1355.41 591.92,1359.87 597.024,1364.22 602.128,1368.44 607.233,1372.55 \n",
       "  612.337,1376.53 617.441,1380.4 622.546,1384.14 627.65,1387.75 632.754,1391.24 637.858,1394.61 642.963,1397.85 648.067,1400.96 653.171,1403.94 658.276,1406.79 \n",
       "  663.38,1409.52 668.484,1412.11 673.589,1414.58 678.693,1416.91 683.797,1419.11 688.902,1421.17 694.006,1423.11 699.11,1424.91 704.215,1426.57 709.319,1428.11 \n",
       "  714.423,1429.5 719.528,1430.76 724.632,1431.89 729.736,1432.88 734.84,1433.73 739.945,1434.45 745.049,1435.03 750.153,1435.48 755.258,1435.78 760.362,1435.96 \n",
       "  765.466,1435.99 770.571,1435.89 775.675,1435.65 780.779,1435.27 785.884,1434.76 790.988,1434.11 796.092,1433.32 801.197,1432.4 806.301,1431.34 811.405,1430.15 \n",
       "  816.51,1428.82 821.614,1427.36 826.718,1425.76 831.823,1424.02 836.927,1422.16 842.031,1420.16 847.135,1418.02 852.24,1415.76 857.344,1413.36 862.448,1410.83 \n",
       "  867.553,1408.17 872.657,1405.38 877.761,1402.47 882.866,1399.42 887.97,1396.24 893.074,1392.94 898.179,1389.51 903.283,1385.96 908.387,1382.28 913.492,1378.48 \n",
       "  918.596,1374.56 923.7,1370.51 928.805,1366.35 933.909,1362.06 939.013,1357.66 944.117,1353.13 949.222,1348.5 954.326,1343.74 959.43,1338.88 964.535,1333.9 \n",
       "  969.639,1328.81 974.743,1323.6 979.848,1318.29 984.952,1312.88 990.056,1307.35 995.161,1301.72 1000.26,1295.99 1005.37,1290.15 1010.47,1284.22 1015.58,1278.18 \n",
       "  1020.68,1272.05 1025.79,1265.82 1030.89,1259.5 1036,1253.08 1041.1,1246.57 1046.2,1239.97 1051.31,1233.29 1056.41,1226.52 1061.52,1219.66 1066.62,1212.72 \n",
       "  1071.73,1205.7 1076.83,1198.59 1081.93,1191.41 1087.04,1184.16 1092.14,1176.83 1097.25,1169.42 1102.35,1161.95 1107.46,1154.41 1112.56,1146.8 1117.66,1139.12 \n",
       "  1122.77,1131.38 1127.87,1123.58 1132.98,1115.72 1138.08,1107.81 1143.19,1099.84 1148.29,1091.81 1153.39,1083.73 1158.5,1075.61 1163.6,1067.43 1168.71,1059.21 \n",
       "  1173.81,1050.95 1178.92,1042.65 1184.02,1034.3 1189.12,1025.92 1194.23,1017.51 1199.33,1009.06 1204.44,1000.58 1209.54,992.072 1214.65,983.536 1219.75,974.976 \n",
       "  1224.85,966.394 1229.96,957.791 1235.06,949.17 1240.17,940.532 1245.27,931.881 1250.38,923.218 1255.48,914.545 1260.59,905.865 1265.69,897.179 1270.79,888.49 \n",
       "  1275.9,879.8 1281,871.111 1286.11,862.425 1291.21,853.745 1296.32,845.072 1301.42,836.409 1306.52,827.757 1311.63,819.12 1316.73,810.499 1321.84,801.896 \n",
       "  1326.94,793.313 1332.05,784.753 1337.15,776.218 1342.25,767.709 1347.36,759.23 1352.46,750.781 1357.57,742.365 1362.67,733.985 1367.78,725.641 1372.88,717.337 \n",
       "  1377.98,709.075 1383.09,700.856 1388.19,692.682 1393.3,684.556 1398.4,676.479 1403.51,668.453 1408.61,660.482 1413.71,652.565 1418.82,644.706 1423.92,636.907 \n",
       "  1429.03,629.169 1434.13,621.494 1439.24,613.884 1444.34,606.341 1449.44,598.867 1454.55,591.464 1459.65,584.133 1464.76,576.877 1469.86,569.697 1474.97,562.595 \n",
       "  1480.07,555.572 1485.18,548.631 1490.28,541.774 1495.38,535.001 1500.49,528.315 1505.59,521.717 1510.7,515.209 1515.8,508.792 1520.91,502.468 1526.01,496.24 \n",
       "  1531.11,490.107 1536.22,484.072 1541.32,478.136 1546.43,472.301 1551.53,466.568 1556.64,460.939 1561.74,455.414 1566.84,449.996 1571.95,444.685 1577.05,439.484 \n",
       "  1582.16,434.393 1587.26,429.413 1592.37,424.546 1597.47,419.793 1602.57,415.155 1607.68,410.633 1612.78,406.229 1617.89,401.944 1622.99,397.778 1628.1,393.732 \n",
       "  1633.2,389.808 1638.3,386.007 1643.41,382.329 1648.51,378.776 1653.62,375.348 1658.72,372.046 1663.83,368.871 1668.93,365.824 1674.03,362.906 1679.14,360.116 \n",
       "  1684.24,357.457 1689.35,354.928 1694.45,352.531 1699.56,350.265 1704.66,348.132 1709.77,346.132 1714.87,344.265 1719.97,342.532 1725.08,340.933 1730.18,339.469 \n",
       "  1735.29,338.14 1740.39,336.946 1745.5,335.888 1750.6,334.966 1755.7,334.18 1760.81,333.531 1765.91,333.018 1771.02,332.642 1776.12,332.402 1781.23,332.3 \n",
       "  1786.33,332.334 1791.43,332.505 1796.54,332.813 1801.64,333.257 1806.75,333.839 1811.85,334.556 1816.96,335.41 1822.06,336.4 1827.16,337.526 1832.27,338.787 \n",
       "  1837.37,340.184 1842.48,341.715 1847.58,343.381 1852.69,345.181 1857.79,347.115 1862.89,349.182 1868,351.382 1873.1,353.713 1878.21,356.176 1883.31,358.77 \n",
       "  1888.42,361.495 1893.52,364.349 1898.62,367.332 1903.73,370.443 1908.83,373.681 1913.94,377.046 1919.04,380.537 1924.15,384.153 1929.25,387.892 1934.36,391.755 \n",
       "  1939.46,395.74 1944.56,399.846 1949.67,404.072 1954.77,408.417 1959.88,412.88 1964.98,417.459 1970.09,422.155 1975.19,426.965 1980.29,431.889 1985.4,436.924 \n",
       "  1990.5,442.071 1995.61,447.327 2000.71,452.692 2005.82,458.163 2010.92,463.74 2016.02,469.422 2021.13,475.206 2026.23,481.091 2031.34,487.077 2036.44,493.161 \n",
       "  2041.55,499.342 2046.65,505.618 2051.75,511.989 2056.86,518.451 2061.96,525.005 2067.07,531.647 2072.17,538.377 2077.28,545.192 2082.38,552.091 2087.48,559.073 \n",
       "  2092.59,566.136 2097.69,573.277 2102.8,580.495 2107.9,587.789 2113.01,595.156 2118.11,602.595 2123.21,610.104 2128.32,617.68 2133.42,625.323 2138.53,633.03 \n",
       "  2143.63,640.799 2148.74,648.629 2153.84,656.516 2158.94,664.461 2164.05,672.46 2169.15,680.511 2174.26,688.613 2179.36,696.763 2184.47,704.96 2189.57,713.201 \n",
       "  2194.68,721.484 2199.78,729.808 2204.88,738.17 2209.99,746.569 2215.09,755.001 2220.2,763.466 2225.3,771.96 2230.41,780.482 2235.51,789.03 2240.61,797.602 \n",
       "  2245.72,806.195 2250.82,814.807 2255.93,823.437 2261.03,832.081 2266.14,840.739 2271.24,849.407 2276.34,858.084 2281.45,866.767 2286.55,875.455 2291.66,884.145 \n",
       "  \n",
       "  \"/>\n",
       "<polyline clip-path=\"url(#clip542)\" style=\"stroke:#ff0000; stroke-linecap:butt; stroke-linejoin:round; stroke-width:8; stroke-opacity:1; fill:none\" points=\"\n",
       "  255.035,775.822 260.139,790.095 265.243,804.153 270.348,817.997 275.452,831.627 280.556,845.046 285.661,858.254 290.765,871.253 295.869,884.042 300.974,896.625 \n",
       "  306.078,909 311.182,921.171 316.286,933.137 321.391,944.901 326.495,956.462 331.599,967.822 336.704,978.983 341.808,989.945 346.912,1000.71 352.017,1011.28 \n",
       "  357.121,1021.65 362.225,1031.83 367.33,1041.81 372.434,1051.61 377.538,1061.21 382.643,1070.62 387.747,1079.84 392.851,1088.88 397.956,1097.73 403.06,1106.39 \n",
       "  408.164,1114.87 413.269,1123.17 418.373,1131.28 423.477,1139.22 428.581,1146.97 433.686,1154.54 438.79,1161.94 443.894,1169.16 448.999,1176.21 454.103,1183.08 \n",
       "  459.207,1189.77 464.312,1196.3 469.416,1202.65 474.52,1208.83 479.625,1214.85 484.729,1220.7 489.833,1226.38 494.938,1231.89 500.042,1237.24 505.146,1242.43 \n",
       "  510.251,1247.45 515.355,1252.32 520.459,1257.02 525.563,1261.56 530.668,1265.95 535.772,1270.18 540.876,1274.25 545.981,1278.17 551.085,1281.94 556.189,1285.55 \n",
       "  561.294,1289.01 566.398,1292.33 571.502,1295.49 576.607,1298.5 581.711,1301.37 586.815,1304.1 591.92,1306.67 597.024,1309.11 602.128,1311.4 607.233,1313.55 \n",
       "  612.337,1315.56 617.441,1317.43 622.546,1319.17 627.65,1320.76 632.754,1322.22 637.858,1323.55 642.963,1324.74 648.067,1325.8 653.171,1326.73 658.276,1327.53 \n",
       "  663.38,1328.2 668.484,1328.74 673.589,1329.15 678.693,1329.44 683.797,1329.6 688.902,1329.64 694.006,1329.56 699.11,1329.36 704.215,1329.03 709.319,1328.59 \n",
       "  714.423,1328.02 719.528,1327.35 724.632,1326.55 729.736,1325.64 734.84,1324.62 739.945,1323.48 745.049,1322.23 750.153,1320.87 755.258,1319.41 760.362,1317.83 \n",
       "  765.466,1316.15 770.571,1314.36 775.675,1312.46 780.779,1310.46 785.884,1308.36 790.988,1306.16 796.092,1303.86 801.197,1301.46 806.301,1298.96 811.405,1296.36 \n",
       "  816.51,1293.66 821.614,1290.88 826.718,1287.99 831.823,1285.02 836.927,1281.95 842.031,1278.79 847.135,1275.55 852.24,1272.21 857.344,1268.79 862.448,1265.28 \n",
       "  867.553,1261.68 872.657,1258.01 877.761,1254.24 882.866,1250.4 887.97,1246.48 893.074,1242.48 898.179,1238.39 903.283,1234.24 908.387,1230 913.492,1225.69 \n",
       "  918.596,1221.31 923.7,1216.85 928.805,1212.32 933.909,1207.72 939.013,1203.05 944.117,1198.31 949.222,1193.51 954.326,1188.64 959.43,1183.7 964.535,1178.7 \n",
       "  969.639,1173.63 974.743,1168.51 979.848,1163.32 984.952,1158.07 990.056,1152.77 995.161,1147.41 1000.26,1141.99 1005.37,1136.51 1010.47,1130.99 1015.58,1125.4 \n",
       "  1020.68,1119.77 1025.79,1114.09 1030.89,1108.35 1036,1102.57 1041.1,1096.74 1046.2,1090.86 1051.31,1084.94 1056.41,1078.97 1061.52,1072.96 1066.62,1066.91 \n",
       "  1071.73,1060.82 1076.83,1054.69 1081.93,1048.52 1087.04,1042.31 1092.14,1036.06 1097.25,1029.78 1102.35,1023.47 1107.46,1017.12 1112.56,1010.74 1117.66,1004.32 \n",
       "  1122.77,997.883 1127.87,991.413 1132.98,984.915 1138.08,978.39 1143.19,971.84 1148.29,965.265 1153.39,958.667 1158.5,952.047 1163.6,945.406 1168.71,938.745 \n",
       "  1173.81,932.064 1178.92,925.367 1184.02,918.652 1189.12,911.922 1194.23,905.177 1199.33,898.419 1204.44,891.649 1209.54,884.867 1214.65,878.076 1219.75,871.275 \n",
       "  1224.85,864.467 1229.96,857.651 1235.06,850.831 1240.17,844.005 1245.27,837.176 1250.38,830.345 1255.48,823.513 1260.59,816.68 1265.69,809.848 1270.79,803.019 \n",
       "  1275.9,796.192 1281,789.37 1286.11,782.553 1291.21,775.743 1296.32,768.94 1301.42,762.146 1306.52,755.362 1311.63,748.588 1316.73,741.827 1321.84,735.079 \n",
       "  1326.94,728.344 1332.05,721.626 1337.15,714.923 1342.25,708.238 1347.36,701.572 1352.46,694.925 1357.57,688.299 1362.67,681.695 1367.78,675.115 1372.88,668.558 \n",
       "  1377.98,662.026 1383.09,655.521 1388.19,649.043 1393.3,642.594 1398.4,636.174 1403.51,629.785 1408.61,623.428 1413.71,617.104 1418.82,610.814 1423.92,604.559 \n",
       "  1429.03,598.34 1434.13,592.159 1439.24,586.016 1444.34,579.913 1449.44,573.85 1454.55,567.829 1459.65,561.851 1464.76,555.917 1469.86,550.028 1474.97,544.185 \n",
       "  1480.07,538.39 1485.18,532.643 1490.28,526.945 1495.38,521.298 1500.49,515.702 1505.59,510.16 1510.7,504.671 1515.8,499.238 1520.91,493.86 1526.01,488.54 \n",
       "  1531.11,483.277 1536.22,478.075 1541.32,472.933 1546.43,467.852 1551.53,462.834 1556.64,457.88 1561.74,452.991 1566.84,448.168 1571.95,443.412 1577.05,438.725 \n",
       "  1582.16,434.106 1587.26,429.559 1592.37,425.082 1597.47,420.678 1602.57,416.349 1607.68,412.093 1612.78,407.914 1617.89,403.812 1622.99,399.788 1628.1,395.844 \n",
       "  1633.2,391.979 1638.3,388.197 1643.41,384.496 1648.51,380.88 1653.62,377.348 1658.72,373.902 1663.83,370.543 1668.93,367.272 1674.03,364.091 1679.14,361 \n",
       "  1684.24,358 1689.35,355.092 1694.45,352.278 1699.56,349.559 1704.66,346.936 1709.77,344.409 1714.87,341.981 1719.97,339.652 1725.08,337.423 1730.18,335.295 \n",
       "  1735.29,333.27 1740.39,331.348 1745.5,329.531 1750.6,327.819 1755.7,326.215 1760.81,324.718 1765.91,323.331 1771.02,322.053 1776.12,320.887 1781.23,319.833 \n",
       "  1786.33,318.893 1791.43,318.067 1796.54,317.357 1801.64,316.763 1806.75,316.288 1811.85,315.931 1816.96,315.695 1822.06,315.58 1827.16,315.587 1832.27,315.717 \n",
       "  1837.37,315.972 1842.48,316.352 1847.58,316.859 1852.69,317.494 1857.79,318.258 1862.89,319.152 1868,320.177 1873.1,321.334 1878.21,322.624 1883.31,324.049 \n",
       "  1888.42,325.609 1893.52,327.306 1898.62,329.141 1903.73,331.115 1908.83,333.228 1913.94,335.483 1919.04,337.879 1924.15,340.419 1929.25,343.103 1934.36,345.933 \n",
       "  1939.46,348.909 1944.56,352.033 1949.67,355.305 1954.77,358.728 1959.88,362.301 1964.98,366.026 1970.09,369.905 1975.19,373.938 1980.29,378.126 1985.4,382.471 \n",
       "  1990.5,386.973 1995.61,391.634 2000.71,396.455 2005.82,401.436 2010.92,406.58 2016.02,411.887 2021.13,417.357 2026.23,422.994 2031.34,428.796 2036.44,434.766 \n",
       "  2041.55,440.905 2046.65,447.213 2051.75,453.692 2056.86,460.343 2061.96,467.167 2067.07,474.166 2072.17,481.339 2077.28,488.689 2082.38,496.216 2087.48,503.922 \n",
       "  2092.59,511.807 2097.69,519.873 2102.8,528.121 2107.9,536.552 2113.01,545.167 2118.11,553.967 2123.21,562.953 2128.32,572.127 2133.42,581.489 2138.53,591.04 \n",
       "  2143.63,600.783 2148.74,610.717 2153.84,620.844 2158.94,631.165 2164.05,641.681 2169.15,652.393 2174.26,663.302 2179.36,674.41 2184.47,685.717 2189.57,697.225 \n",
       "  2194.68,708.935 2199.78,720.847 2204.88,732.963 2209.99,745.285 2215.09,757.812 2220.2,770.547 2225.3,783.49 2230.41,796.642 2235.51,810.005 2240.61,823.579 \n",
       "  2245.72,837.366 2250.82,851.367 2255.93,865.583 2261.03,880.015 2266.14,894.664 2271.24,909.531 2276.34,924.618 2281.45,939.925 2286.55,955.454 2291.66,971.205 \n",
       "  \n",
       "  \"/>\n",
       "<path clip-path=\"url(#clip540)\" d=\"\n",
       "M265.897 337.138 L988.124 337.138 L988.124 95.2176 L265.897 95.2176  Z\n",
       "  \" fill=\"#ffffff\" fill-rule=\"evenodd\" fill-opacity=\"1\"/>\n",
       "<polyline clip-path=\"url(#clip540)\" style=\"stroke:#000000; stroke-linecap:butt; stroke-linejoin:round; stroke-width:4; stroke-opacity:1; fill:none\" points=\"\n",
       "  265.897,337.138 988.124,337.138 988.124,95.2176 265.897,95.2176 265.897,337.138 \n",
       "  \"/>\n",
       "<circle clip-path=\"url(#clip540)\" cx=\"361.844\" cy=\"155.698\" r=\"23\" fill=\"#009af9\" fill-rule=\"evenodd\" fill-opacity=\"1\" stroke=\"#000000\" stroke-opacity=\"1\" stroke-width=\"5.12\"/>\n",
       "<path clip-path=\"url(#clip540)\" d=\"M476.218 147.816 L476.218 151.843 Q474.412 150.917 472.468 150.455 Q470.523 149.992 468.44 149.992 Q465.269 149.992 463.671 150.964 Q462.097 151.936 462.097 153.88 Q462.097 155.362 463.232 156.218 Q464.366 157.052 467.792 157.816 L469.25 158.14 Q473.787 159.112 475.685 160.894 Q477.606 162.654 477.606 165.825 Q477.606 169.436 474.736 171.542 Q471.889 173.649 466.889 173.649 Q464.806 173.649 462.537 173.232 Q460.292 172.839 457.792 172.028 L457.792 167.63 Q460.153 168.857 462.445 169.482 Q464.736 170.084 466.982 170.084 Q469.991 170.084 471.611 169.066 Q473.231 168.024 473.231 166.149 Q473.231 164.413 472.051 163.487 Q470.894 162.561 466.935 161.704 L465.454 161.357 Q461.495 160.524 459.736 158.811 Q457.977 157.075 457.977 154.066 Q457.977 150.408 460.57 148.418 Q463.162 146.427 467.931 146.427 Q470.292 146.427 472.375 146.774 Q474.458 147.121 476.218 147.816 Z\" fill=\"#000000\" fill-rule=\"evenodd\" fill-opacity=\"1\" /><path clip-path=\"url(#clip540)\" d=\"M496.171 159.945 Q491.009 159.945 489.018 161.126 Q487.028 162.306 487.028 165.154 Q487.028 167.422 488.509 168.765 Q490.014 170.084 492.583 170.084 Q496.125 170.084 498.255 167.584 Q500.407 165.061 500.407 160.894 L500.407 159.945 L496.171 159.945 M504.667 158.186 L504.667 172.978 L500.407 172.978 L500.407 169.042 Q498.949 171.403 496.773 172.538 Q494.597 173.649 491.449 173.649 Q487.468 173.649 485.106 171.427 Q482.768 169.181 482.768 165.431 Q482.768 161.056 485.685 158.834 Q488.625 156.612 494.435 156.612 L500.407 156.612 L500.407 156.195 Q500.407 153.255 498.463 151.658 Q496.542 150.038 493.046 150.038 Q490.824 150.038 488.718 150.57 Q486.611 151.103 484.667 152.167 L484.667 148.232 Q487.005 147.33 489.204 146.89 Q491.403 146.427 493.486 146.427 Q499.111 146.427 501.889 149.343 Q504.667 152.26 504.667 158.186 Z\" fill=\"#000000\" fill-rule=\"evenodd\" fill-opacity=\"1\" /><path clip-path=\"url(#clip540)\" d=\"M533.625 152.029 Q535.222 149.158 537.444 147.793 Q539.666 146.427 542.676 146.427 Q546.726 146.427 548.926 149.274 Q551.125 152.098 551.125 157.329 L551.125 172.978 L546.842 172.978 L546.842 157.468 Q546.842 153.742 545.523 151.936 Q544.203 150.13 541.495 150.13 Q538.185 150.13 536.264 152.33 Q534.342 154.529 534.342 158.325 L534.342 172.978 L530.06 172.978 L530.06 157.468 Q530.06 153.718 528.74 151.936 Q527.421 150.13 524.666 150.13 Q521.403 150.13 519.481 152.353 Q517.56 154.552 517.56 158.325 L517.56 172.978 L513.278 172.978 L513.278 147.052 L517.56 147.052 L517.56 151.08 Q519.018 148.695 521.055 147.561 Q523.092 146.427 525.893 146.427 Q528.717 146.427 530.685 147.862 Q532.676 149.297 533.625 152.029 Z\" fill=\"#000000\" fill-rule=\"evenodd\" fill-opacity=\"1\" /><path clip-path=\"url(#clip540)\" d=\"M563.74 169.089 L563.74 182.839 L559.458 182.839 L559.458 147.052 L563.74 147.052 L563.74 150.987 Q565.083 148.672 567.12 147.561 Q569.18 146.427 572.027 146.427 Q576.749 146.427 579.689 150.177 Q582.652 153.927 582.652 160.038 Q582.652 166.149 579.689 169.899 Q576.749 173.649 572.027 173.649 Q569.18 173.649 567.12 172.538 Q565.083 171.403 563.74 169.089 M578.231 160.038 Q578.231 155.339 576.286 152.677 Q574.365 149.992 570.986 149.992 Q567.606 149.992 565.662 152.677 Q563.74 155.339 563.74 160.038 Q563.74 164.737 565.662 167.422 Q567.606 170.084 570.986 170.084 Q574.365 170.084 576.286 167.422 Q578.231 164.737 578.231 160.038 Z\" fill=\"#000000\" fill-rule=\"evenodd\" fill-opacity=\"1\" /><path clip-path=\"url(#clip540)\" d=\"M589.712 136.959 L593.972 136.959 L593.972 172.978 L589.712 172.978 L589.712 136.959 Z\" fill=\"#000000\" fill-rule=\"evenodd\" fill-opacity=\"1\" /><path clip-path=\"url(#clip540)\" d=\"M625.059 158.95 L625.059 161.033 L605.476 161.033 Q605.754 165.431 608.115 167.746 Q610.499 170.038 614.735 170.038 Q617.189 170.038 619.481 169.436 Q621.796 168.834 624.064 167.63 L624.064 171.658 Q621.772 172.63 619.365 173.14 Q616.958 173.649 614.481 173.649 Q608.277 173.649 604.643 170.038 Q601.032 166.427 601.032 160.269 Q601.032 153.904 604.458 150.177 Q607.907 146.427 613.74 146.427 Q618.971 146.427 622.004 149.806 Q625.059 153.163 625.059 158.95 M620.8 157.7 Q620.754 154.205 618.833 152.121 Q616.934 150.038 613.786 150.038 Q610.222 150.038 608.069 152.052 Q605.939 154.066 605.615 157.723 L620.8 157.7 Z\" fill=\"#000000\" fill-rule=\"evenodd\" fill-opacity=\"1\" /><polyline clip-path=\"url(#clip540)\" style=\"stroke:#0000ff; stroke-linecap:butt; stroke-linejoin:round; stroke-width:4; stroke-opacity:1; fill:none\" stroke-dasharray=\"16, 10\" points=\"\n",
       "  289.884,216.178 433.805,216.178 \n",
       "  \"/>\n",
       "<path clip-path=\"url(#clip540)\" d=\"M476.218 208.296 L476.218 212.323 Q474.412 211.397 472.468 210.935 Q470.523 210.472 468.44 210.472 Q465.269 210.472 463.671 211.444 Q462.097 212.416 462.097 214.36 Q462.097 215.842 463.232 216.698 Q464.366 217.532 467.792 218.296 L469.25 218.62 Q473.787 219.592 475.685 221.374 Q477.606 223.134 477.606 226.305 Q477.606 229.916 474.736 232.022 Q471.889 234.129 466.889 234.129 Q464.806 234.129 462.537 233.712 Q460.292 233.319 457.792 232.508 L457.792 228.11 Q460.153 229.337 462.445 229.962 Q464.736 230.564 466.982 230.564 Q469.991 230.564 471.611 229.546 Q473.231 228.504 473.231 226.629 Q473.231 224.893 472.051 223.967 Q470.894 223.041 466.935 222.184 L465.454 221.837 Q461.495 221.004 459.736 219.291 Q457.977 217.555 457.977 214.546 Q457.977 210.888 460.57 208.898 Q463.162 206.907 467.931 206.907 Q470.292 206.907 472.375 207.254 Q474.458 207.601 476.218 208.296 Z\" fill=\"#000000\" fill-rule=\"evenodd\" fill-opacity=\"1\" /><path clip-path=\"url(#clip540)\" d=\"M484.389 207.532 L488.648 207.532 L488.648 233.458 L484.389 233.458 L484.389 207.532 M484.389 197.439 L488.648 197.439 L488.648 202.833 L484.389 202.833 L484.389 197.439 Z\" fill=\"#000000\" fill-rule=\"evenodd\" fill-opacity=\"1\" /><path clip-path=\"url(#clip540)\" d=\"M519.111 217.809 L519.111 233.458 L514.852 233.458 L514.852 217.948 Q514.852 214.268 513.416 212.439 Q511.981 210.61 509.111 210.61 Q505.662 210.61 503.671 212.81 Q501.68 215.009 501.68 218.805 L501.68 233.458 L497.398 233.458 L497.398 207.532 L501.68 207.532 L501.68 211.56 Q503.208 209.222 505.268 208.064 Q507.352 206.907 510.06 206.907 Q514.528 206.907 516.819 209.685 Q519.111 212.439 519.111 217.809 Z\" fill=\"#000000\" fill-rule=\"evenodd\" fill-opacity=\"1\" /><path clip-path=\"url(#clip540)\" d=\"M537.838 197.486 Q534.736 202.81 533.231 208.018 Q531.727 213.226 531.727 218.573 Q531.727 223.921 533.231 229.175 Q534.759 234.407 537.838 239.708 L534.134 239.708 Q530.662 234.268 528.926 229.013 Q527.213 223.759 527.213 218.573 Q527.213 213.411 528.926 208.18 Q530.639 202.948 534.134 197.486 L537.838 197.486 Z\" fill=\"#000000\" fill-rule=\"evenodd\" fill-opacity=\"1\" /><path clip-path=\"url(#clip540)\" d=\"M567.652 207.532 L558.277 220.147 L568.138 233.458 L563.115 233.458 L555.569 223.272 L548.023 233.458 L543 233.458 L553.069 219.893 L543.856 207.532 L548.879 207.532 L555.754 216.768 L562.629 207.532 L567.652 207.532 Z\" fill=\"#000000\" fill-rule=\"evenodd\" fill-opacity=\"1\" /><path clip-path=\"url(#clip540)\" d=\"M573.486 197.486 L577.189 197.486 Q580.661 202.948 582.374 208.18 Q584.111 213.411 584.111 218.573 Q584.111 223.759 582.374 229.013 Q580.661 234.268 577.189 239.708 L573.486 239.708 Q576.564 234.407 578.069 229.175 Q579.597 223.921 579.597 218.573 Q579.597 213.226 578.069 208.018 Q576.564 202.81 573.486 197.486 Z\" fill=\"#000000\" fill-rule=\"evenodd\" fill-opacity=\"1\" /><polyline clip-path=\"url(#clip540)\" style=\"stroke:#ff0000; stroke-linecap:butt; stroke-linejoin:round; stroke-width:4; stroke-opacity:1; fill:none\" points=\"\n",
       "  289.884,276.658 433.805,276.658 \n",
       "  \"/>\n",
       "<path clip-path=\"url(#clip540)\" d=\"M476.704 271.947 L476.704 257.919 L480.963 257.919 L480.963 293.938 L476.704 293.938 L476.704 290.049 Q475.361 292.363 473.301 293.498 Q471.264 294.609 468.394 294.609 Q463.695 294.609 460.732 290.859 Q457.792 287.109 457.792 280.998 Q457.792 274.887 460.732 271.137 Q463.695 267.387 468.394 267.387 Q471.264 267.387 473.301 268.521 Q475.361 269.632 476.704 271.947 M462.19 280.998 Q462.19 285.697 464.111 288.382 Q466.056 291.044 469.435 291.044 Q472.815 291.044 474.759 288.382 Q476.704 285.697 476.704 280.998 Q476.704 276.299 474.759 273.637 Q472.815 270.952 469.435 270.952 Q466.056 270.952 464.111 273.637 Q462.19 276.299 462.19 280.998 Z\" fill=\"#000000\" fill-rule=\"evenodd\" fill-opacity=\"1\" /><path clip-path=\"url(#clip540)\" d=\"M511.912 279.91 L511.912 281.993 L492.329 281.993 Q492.606 286.391 494.967 288.706 Q497.352 290.998 501.588 290.998 Q504.042 290.998 506.333 290.396 Q508.648 289.794 510.916 288.59 L510.916 292.618 Q508.625 293.59 506.217 294.1 Q503.81 294.609 501.333 294.609 Q495.13 294.609 491.495 290.998 Q487.884 287.387 487.884 281.229 Q487.884 274.864 491.31 271.137 Q494.759 267.387 500.592 267.387 Q505.824 267.387 508.856 270.766 Q511.912 274.123 511.912 279.91 M507.653 278.66 Q507.606 275.165 505.685 273.081 Q503.787 270.998 500.639 270.998 Q497.074 270.998 494.921 273.012 Q492.792 275.026 492.468 278.683 L507.653 278.66 Z\" fill=\"#000000\" fill-rule=\"evenodd\" fill-opacity=\"1\" /><path clip-path=\"url(#clip540)\" d=\"M535.963 280.674 Q535.963 276.044 534.041 273.498 Q532.143 270.952 528.694 270.952 Q525.268 270.952 523.347 273.498 Q521.449 276.044 521.449 280.674 Q521.449 285.28 523.347 287.826 Q525.268 290.373 528.694 290.373 Q532.143 290.373 534.041 287.826 Q535.963 285.28 535.963 280.674 M540.222 290.72 Q540.222 297.34 537.282 300.558 Q534.342 303.799 528.277 303.799 Q526.032 303.799 524.041 303.451 Q522.051 303.127 520.176 302.433 L520.176 298.289 Q522.051 299.308 523.879 299.794 Q525.708 300.28 527.606 300.28 Q531.796 300.28 533.879 298.081 Q535.963 295.905 535.963 291.484 L535.963 289.377 Q534.643 291.669 532.583 292.803 Q530.523 293.938 527.653 293.938 Q522.884 293.938 519.967 290.303 Q517.051 286.669 517.051 280.674 Q517.051 274.655 519.967 271.021 Q522.884 267.387 527.653 267.387 Q530.523 267.387 532.583 268.521 Q534.643 269.655 535.963 271.947 L535.963 268.012 L540.222 268.012 L540.222 290.72 Z\" fill=\"#000000\" fill-rule=\"evenodd\" fill-opacity=\"1\" /><path clip-path=\"url(#clip540)\" d=\"M564.018 271.993 Q563.3 271.577 562.444 271.391 Q561.611 271.183 560.592 271.183 Q556.981 271.183 555.037 273.544 Q553.115 275.882 553.115 280.28 L553.115 293.938 L548.833 293.938 L548.833 268.012 L553.115 268.012 L553.115 272.04 Q554.458 269.678 556.611 268.544 Q558.763 267.387 561.842 267.387 Q562.282 267.387 562.814 267.456 Q563.347 267.503 563.995 267.618 L564.018 271.993 Z\" fill=\"#000000\" fill-rule=\"evenodd\" fill-opacity=\"1\" /><path clip-path=\"url(#clip540)\" d=\"M589.62 279.91 L589.62 281.993 L570.037 281.993 Q570.314 286.391 572.675 288.706 Q575.06 290.998 579.296 290.998 Q581.749 290.998 584.041 290.396 Q586.356 289.794 588.624 288.59 L588.624 292.618 Q586.333 293.59 583.925 294.1 Q581.518 294.609 579.041 294.609 Q572.837 294.609 569.203 290.998 Q565.592 287.387 565.592 281.229 Q565.592 274.864 569.018 271.137 Q572.467 267.387 578.3 267.387 Q583.532 267.387 586.564 270.766 Q589.62 274.123 589.62 279.91 M585.361 278.66 Q585.314 275.165 583.393 273.081 Q581.495 270.998 578.347 270.998 Q574.782 270.998 572.629 273.012 Q570.499 275.026 570.175 278.683 L585.361 278.66 Z\" fill=\"#000000\" fill-rule=\"evenodd\" fill-opacity=\"1\" /><path clip-path=\"url(#clip540)\" d=\"M618.786 279.91 L618.786 281.993 L599.203 281.993 Q599.481 286.391 601.842 288.706 Q604.226 290.998 608.462 290.998 Q610.916 290.998 613.208 290.396 Q615.522 289.794 617.791 288.59 L617.791 292.618 Q615.499 293.59 613.092 294.1 Q610.684 294.609 608.208 294.609 Q602.004 294.609 598.37 290.998 Q594.759 287.387 594.759 281.229 Q594.759 274.864 598.185 271.137 Q601.634 267.387 607.467 267.387 Q612.698 267.387 615.731 270.766 Q618.786 274.123 618.786 279.91 M614.527 278.66 Q614.481 275.165 612.559 273.081 Q610.661 270.998 607.513 270.998 Q603.948 270.998 601.796 273.012 Q599.666 275.026 599.342 278.683 L614.527 278.66 Z\" fill=\"#000000\" fill-rule=\"evenodd\" fill-opacity=\"1\" /><path clip-path=\"url(#clip540)\" d=\"M623.624 279.053 L636.101 279.053 L636.101 282.85 L623.624 282.85 L623.624 279.053 Z\" fill=\"#000000\" fill-rule=\"evenodd\" fill-opacity=\"1\" /><path clip-path=\"url(#clip540)\" d=\"M657.652 275.303 Q661.008 276.021 662.883 278.289 Q664.781 280.558 664.781 283.891 Q664.781 289.007 661.263 291.808 Q657.744 294.609 651.263 294.609 Q649.087 294.609 646.772 294.169 Q644.481 293.752 642.027 292.896 L642.027 288.382 Q643.971 289.516 646.286 290.095 Q648.601 290.674 651.124 290.674 Q655.522 290.674 657.814 288.938 Q660.129 287.201 660.129 283.891 Q660.129 280.836 657.976 279.123 Q655.846 277.387 652.027 277.387 L647.999 277.387 L647.999 273.544 L652.212 273.544 Q655.661 273.544 657.49 272.178 Q659.318 270.79 659.318 268.197 Q659.318 265.535 657.42 264.123 Q655.545 262.688 652.027 262.688 Q650.106 262.688 647.906 263.104 Q645.707 263.521 643.069 264.401 L643.069 260.234 Q645.731 259.493 648.045 259.123 Q650.383 258.753 652.443 258.753 Q657.768 258.753 660.869 261.183 Q663.971 263.59 663.971 267.711 Q663.971 270.581 662.328 272.572 Q660.684 274.54 657.652 275.303 Z\" fill=\"#000000\" fill-rule=\"evenodd\" fill-opacity=\"1\" /><path clip-path=\"url(#clip540)\" d=\"M692.235 290.049 L692.235 303.799 L687.953 303.799 L687.953 268.012 L692.235 268.012 L692.235 271.947 Q693.578 269.632 695.615 268.521 Q697.675 267.387 700.522 267.387 Q705.244 267.387 708.184 271.137 Q711.147 274.887 711.147 280.998 Q711.147 287.109 708.184 290.859 Q705.244 294.609 700.522 294.609 Q697.675 294.609 695.615 293.498 Q693.578 292.363 692.235 290.049 M706.726 280.998 Q706.726 276.299 704.781 273.637 Q702.86 270.952 699.48 270.952 Q696.101 270.952 694.156 273.637 Q692.235 276.299 692.235 280.998 Q692.235 285.697 694.156 288.382 Q696.101 291.044 699.48 291.044 Q702.86 291.044 704.781 288.382 Q706.726 285.697 706.726 280.998 Z\" fill=\"#000000\" fill-rule=\"evenodd\" fill-opacity=\"1\" /><path clip-path=\"url(#clip540)\" d=\"M728.253 270.998 Q724.827 270.998 722.837 273.683 Q720.846 276.345 720.846 280.998 Q720.846 285.651 722.813 288.336 Q724.804 290.998 728.253 290.998 Q731.656 290.998 733.647 288.313 Q735.637 285.627 735.637 280.998 Q735.637 276.391 733.647 273.706 Q731.656 270.998 728.253 270.998 M728.253 267.387 Q733.809 267.387 736.98 270.998 Q740.151 274.609 740.151 280.998 Q740.151 287.364 736.98 290.998 Q733.809 294.609 728.253 294.609 Q722.675 294.609 719.503 290.998 Q716.355 287.364 716.355 280.998 Q716.355 274.609 719.503 270.998 Q722.675 267.387 728.253 267.387 Z\" fill=\"#000000\" fill-rule=\"evenodd\" fill-opacity=\"1\" /><path clip-path=\"url(#clip540)\" d=\"M747.212 257.919 L751.471 257.919 L751.471 293.938 L747.212 293.938 L747.212 257.919 Z\" fill=\"#000000\" fill-rule=\"evenodd\" fill-opacity=\"1\" /><path clip-path=\"url(#clip540)\" d=\"M771.17 296.345 Q769.364 300.975 767.651 302.387 Q765.938 303.799 763.068 303.799 L759.665 303.799 L759.665 300.234 L762.165 300.234 Q763.924 300.234 764.897 299.4 Q765.869 298.567 767.049 295.465 L767.813 293.521 L757.327 268.012 L761.841 268.012 L769.943 288.289 L778.045 268.012 L782.559 268.012 L771.17 296.345 Z\" fill=\"#000000\" fill-rule=\"evenodd\" fill-opacity=\"1\" /><path clip-path=\"url(#clip540)\" d=\"M809.989 278.289 L809.989 293.938 L805.73 293.938 L805.73 278.428 Q805.73 274.748 804.295 272.919 Q802.859 271.09 799.989 271.09 Q796.54 271.09 794.549 273.29 Q792.558 275.489 792.558 279.285 L792.558 293.938 L788.276 293.938 L788.276 268.012 L792.558 268.012 L792.558 272.04 Q794.086 269.702 796.146 268.544 Q798.23 267.387 800.938 267.387 Q805.406 267.387 807.697 270.165 Q809.989 272.919 809.989 278.289 Z\" fill=\"#000000\" fill-rule=\"evenodd\" fill-opacity=\"1\" /><path clip-path=\"url(#clip540)\" d=\"M828.531 270.998 Q825.105 270.998 823.114 273.683 Q821.123 276.345 821.123 280.998 Q821.123 285.651 823.091 288.336 Q825.081 290.998 828.531 290.998 Q831.933 290.998 833.924 288.313 Q835.915 285.627 835.915 280.998 Q835.915 276.391 833.924 273.706 Q831.933 270.998 828.531 270.998 M828.531 267.387 Q834.086 267.387 837.257 270.998 Q840.429 274.609 840.429 280.998 Q840.429 287.364 837.257 290.998 Q834.086 294.609 828.531 294.609 Q822.952 294.609 819.781 290.998 Q816.632 287.364 816.632 280.998 Q816.632 274.609 819.781 270.998 Q822.952 267.387 828.531 267.387 Z\" fill=\"#000000\" fill-rule=\"evenodd\" fill-opacity=\"1\" /><path clip-path=\"url(#clip540)\" d=\"M867.674 272.989 Q869.271 270.118 871.493 268.753 Q873.715 267.387 876.725 267.387 Q880.776 267.387 882.975 270.234 Q885.174 273.058 885.174 278.289 L885.174 293.938 L880.891 293.938 L880.891 278.428 Q880.891 274.702 879.572 272.896 Q878.252 271.09 875.544 271.09 Q872.234 271.09 870.313 273.29 Q868.391 275.489 868.391 279.285 L868.391 293.938 L864.109 293.938 L864.109 278.428 Q864.109 274.678 862.79 272.896 Q861.47 271.09 858.716 271.09 Q855.452 271.09 853.53 273.313 Q851.609 275.512 851.609 279.285 L851.609 293.938 L847.327 293.938 L847.327 268.012 L851.609 268.012 L851.609 272.04 Q853.067 269.655 855.104 268.521 Q857.141 267.387 859.942 267.387 Q862.766 267.387 864.734 268.822 Q866.725 270.257 867.674 272.989 Z\" fill=\"#000000\" fill-rule=\"evenodd\" fill-opacity=\"1\" /><path clip-path=\"url(#clip540)\" d=\"M893.669 268.012 L897.928 268.012 L897.928 293.938 L893.669 293.938 L893.669 268.012 M893.669 257.919 L897.928 257.919 L897.928 263.313 L893.669 263.313 L893.669 257.919 Z\" fill=\"#000000\" fill-rule=\"evenodd\" fill-opacity=\"1\" /><path clip-path=\"url(#clip540)\" d=\"M918.623 280.905 Q913.461 280.905 911.47 282.086 Q909.479 283.266 909.479 286.114 Q909.479 288.382 910.961 289.725 Q912.465 291.044 915.035 291.044 Q918.576 291.044 920.706 288.544 Q922.859 286.021 922.859 281.854 L922.859 280.905 L918.623 280.905 M927.118 279.146 L927.118 293.938 L922.859 293.938 L922.859 290.002 Q921.4 292.363 919.224 293.498 Q917.049 294.609 913.9 294.609 Q909.919 294.609 907.558 292.387 Q905.22 290.141 905.22 286.391 Q905.22 282.016 908.137 279.794 Q911.076 277.572 916.887 277.572 L922.859 277.572 L922.859 277.155 Q922.859 274.215 920.914 272.618 Q918.993 270.998 915.498 270.998 Q913.275 270.998 911.169 271.53 Q909.062 272.063 907.118 273.127 L907.118 269.192 Q909.456 268.29 911.655 267.85 Q913.854 267.387 915.937 267.387 Q921.562 267.387 924.34 270.303 Q927.118 273.22 927.118 279.146 Z\" fill=\"#000000\" fill-rule=\"evenodd\" fill-opacity=\"1\" /><path clip-path=\"url(#clip540)\" d=\"M935.891 257.919 L940.15 257.919 L940.15 293.938 L935.891 293.938 L935.891 257.919 Z\" fill=\"#000000\" fill-rule=\"evenodd\" fill-opacity=\"1\" /></svg>\n"
      ]
     },
     "execution_count": 64,
     "metadata": {},
     "output_type": "execute_result"
    }
   ],
   "source": [
    "@teval (:block, \n",
    "    (:using, (:., :Plots)), \n",
    "    (:(=), :n, 20), \n",
    "    (:(=), :x, (:range, (:parameters, (:kw, :length, 20)), (:-, :π), :π)), \n",
    "    (:(=), :noise, (:*, 0.3, (:randn, :n))), \n",
    "    (:(=), :y, (:+, (:., :sin, (:tuple, :x)), :noise)), \n",
    "    (:(=), :X, (:call, :.^, :x, (Symbol(\"'\"), (:call, :(:), 0, 3)))),  \n",
    "    (:(=), :b, (:\\, :X, :y)), \n",
    "    (:(=), (:call, :f, :x), (:block, (:call, :evalpoly, :x, :b))),\n",
    "    (:(=), :xs, (:range, (:parameters, (:kw, :length, 400)), (:-, :π), :π)), \n",
    "    (:plot, (:parameters, (:kw, :legend, QuoteNode(:topleft)))), \n",
    "    (:scatter!, (:parameters, (:kw, :label, \"sample\")), :x, :y), \n",
    "    (:plot!, (:parameters, \n",
    "            (:kw, :label, \"sin(x)\"), \n",
    "            (:kw, :color, QuoteNode(:blue)), \n",
    "            (:kw, :ls, QuoteNode(:dash))), \n",
    "        :xs, (:., :sin, (:tuple, :xs))), \n",
    "    (:plot!, (:parameters, \n",
    "            (:kw, :label, \"degree-3 polynomial\"), \n",
    "            (:kw, :color, QuoteNode(:red)), \n",
    "            (:kw, :lw, 2)), \n",
    "        :xs, (:., :f, (:tuple, :xs))))"
   ]
  },
  {
   "cell_type": "code",
   "execution_count": 65,
   "metadata": {},
   "outputs": [
    {
     "data": {
      "text/markdown": [
       "```julia\n",
       "begin\n",
       "    using Plots\n",
       "    n = 20\n",
       "    x = range(-π, π; length = 20)\n",
       "    noise = 0.3 * randn(n)\n",
       "    y = sin.(x) + noise\n",
       "    X = x .^ var\"'\"(0:3)\n",
       "    b = X \\ y\n",
       "    f(x) = begin\n",
       "            evalpoly(x, b)\n",
       "        end\n",
       "    xs = range(-π, π; length = 400)\n",
       "    plot(; legend = :topleft)\n",
       "    scatter!(x, y; label = \"sample\")\n",
       "    plot!(xs, sin.(xs); label = \"sin(x)\", color = :blue, ls = :dash)\n",
       "    plot!(xs, f.(xs); label = \"degree-3 polynomial\", color = :red, lw = 2)\n",
       "end\n",
       "```"
      ]
     },
     "metadata": {},
     "output_type": "display_data"
    }
   ],
   "source": [
    "(:block, \n",
    "    (:using, (:., :Plots)), \n",
    "    (:(=), :n, 20), \n",
    "    (:(=), :x, (:range, (:parameters, (:kw, :length, 20)), (:-, :π), :π)), \n",
    "    (:(=), :noise, (:*, 0.3, (:randn, :n))), \n",
    "    (:(=), :y, (:+, (:., :sin, (:tuple, :x)), :noise)), \n",
    "    (:(=), :X, (:call, :.^, :x, (Symbol(\"'\"), (:call, :(:), 0, 3)))),  \n",
    "    (:(=), :b, (:\\, :X, :y)), \n",
    "    (:(=), (:call, :f, :x), (:block, (:call, :evalpoly, :x, :b))),\n",
    "    (:(=), :xs, (:range, (:parameters, (:kw, :length, 400)), (:-, :π), :π)), \n",
    "    (:plot, (:parameters, (:kw, :legend, QuoteNode(:topleft)))), \n",
    "    (:scatter!, (:parameters, (:kw, :label, \"sample\")), :x, :y), \n",
    "    (:plot!, (:parameters, \n",
    "            (:kw, :label, \"sin(x)\"), \n",
    "            (:kw, :color, QuoteNode(:blue)), \n",
    "            (:kw, :ls, QuoteNode(:dash))), \n",
    "        :xs, (:., :sin, (:tuple, :xs))), \n",
    "    (:plot!, (:parameters, \n",
    "            (:kw, :label, \"degree-3 polynomial\"), \n",
    "            (:kw, :color, QuoteNode(:red)), \n",
    "            (:kw, :lw, 2)), \n",
    "        :xs, (:., :f, (:tuple, :xs)))) |> texpr2expr |> \n",
    "x -> display(\"text/markdown\", \"```julia\\n$x\\n```\")"
   ]
  },
  {
   "cell_type": "markdown",
   "metadata": {},
   "source": [
    "## Documents"
   ]
  },
  {
   "cell_type": "code",
   "execution_count": 66,
   "metadata": {},
   "outputs": [
    {
     "data": {
      "text/latex": [
       "\\begin{verbatim}\n",
       "MetaUtils\n",
       "\\end{verbatim}\n",
       "contains utilities for metaprogramming in Julia.\n",
       "\n",
       "\\begin{verbatim}\n",
       "export @show_sexpr, \n",
       "    show_tree, @show_tree, \n",
       "    print_subtypes, \n",
       "    show_expr, @show_expr, \n",
       "    show_texpr, @show_texpr, \n",
       "    texpr2expr, teval, @teval\n",
       "\\end{verbatim}\n"
      ],
      "text/markdown": [
       "```\n",
       "MetaUtils\n",
       "```\n",
       "\n",
       "contains utilities for metaprogramming in Julia.\n",
       "\n",
       "```julia\n",
       "export @show_sexpr, \n",
       "    show_tree, @show_tree, \n",
       "    print_subtypes, \n",
       "    show_expr, @show_expr, \n",
       "    show_texpr, @show_texpr, \n",
       "    texpr2expr, teval, @teval\n",
       "```\n"
      ],
      "text/plain": [
       "\u001b[36m  MetaUtils\u001b[39m\n",
       "\n",
       "  contains utilities for metaprogramming in Julia.\n",
       "\n",
       "\u001b[36m  export @show_sexpr, \u001b[39m\n",
       "\u001b[36m      show_tree, @show_tree, \u001b[39m\n",
       "\u001b[36m      print_subtypes, \u001b[39m\n",
       "\u001b[36m      show_expr, @show_expr, \u001b[39m\n",
       "\u001b[36m      show_texpr, @show_texpr, \u001b[39m\n",
       "\u001b[36m      texpr2expr, teval, @teval\u001b[39m"
      ]
     },
     "execution_count": 66,
     "metadata": {},
     "output_type": "execute_result"
    }
   ],
   "source": [
    "@doc MetaUtils"
   ]
  },
  {
   "cell_type": "code",
   "execution_count": 67,
   "metadata": {},
   "outputs": [
    {
     "data": {
      "text/latex": [
       "\\begin{verbatim}\n",
       "@show_sexpr(expr, linenums=false)\n",
       "\\end{verbatim}\n",
       "shows the lisp style S-expression of \\texttt{expr} and prints the line number nodes if \\texttt{linenums} is true.  This is the macro version of \\texttt{Meta.show\\_sexpr}.\n",
       "\n",
       "\\subsection{Example}\n",
       "\\begin{verbatim}\n",
       "julia> @show_sexpr 2x+1\n",
       "(:call, :+, (:call, :*, 2, :x), 1)\n",
       "\\end{verbatim}\n",
       "\\texttt{teval} function can evaluate the output of \\texttt{@show\\_sexpr}. \n",
       "\n",
       "\\begin{verbatim}\n",
       "julia> x = 10; (:call, :+, (:call, :*, 2, :x), 1) |> teval\n",
       "21\n",
       "\\end{verbatim}\n"
      ],
      "text/markdown": [
       "```\n",
       "@show_sexpr(expr, linenums=false)\n",
       "```\n",
       "\n",
       "shows the lisp style S-expression of `expr` and prints the line number nodes if `linenums` is true.  This is the macro version of `Meta.show_sexpr`.\n",
       "\n",
       "## Example\n",
       "\n",
       "```julia\n",
       "julia> @show_sexpr 2x+1\n",
       "(:call, :+, (:call, :*, 2, :x), 1)\n",
       "```\n",
       "\n",
       "`teval` function can evaluate the output of `@show_sexpr`. \n",
       "\n",
       "```julia\n",
       "julia> x = 10; (:call, :+, (:call, :*, 2, :x), 1) |> teval\n",
       "21\n",
       "```\n"
      ],
      "text/plain": [
       "\u001b[36m  @show_sexpr(expr, linenums=false)\u001b[39m\n",
       "\n",
       "  shows the lisp style S-expression of \u001b[36mexpr\u001b[39m and prints the line number nodes\n",
       "  if \u001b[36mlinenums\u001b[39m is true. This is the macro version of \u001b[36mMeta.show_sexpr\u001b[39m.\n",
       "\n",
       "\u001b[1m  Example\u001b[22m\n",
       "\u001b[1m  =========\u001b[22m\n",
       "\n",
       "\u001b[36m  julia> @show_sexpr 2x+1\u001b[39m\n",
       "\u001b[36m  (:call, :+, (:call, :*, 2, :x), 1)\u001b[39m\n",
       "\n",
       "  \u001b[36mteval\u001b[39m function can evaluate the output of \u001b[36m@show_sexpr\u001b[39m.\n",
       "\n",
       "\u001b[36m  julia> x = 10; (:call, :+, (:call, :*, 2, :x), 1) |> teval\u001b[39m\n",
       "\u001b[36m  21\u001b[39m"
      ]
     },
     "execution_count": 67,
     "metadata": {},
     "output_type": "execute_result"
    }
   ],
   "source": [
    "@doc @show_sexpr"
   ]
  },
  {
   "cell_type": "code",
   "execution_count": 68,
   "metadata": {},
   "outputs": [
    {
     "data": {
      "text/latex": [
       "\\begin{verbatim}\n",
       "@show_tree(expr, maxdepth=10, linenums=false)\n",
       "\\end{verbatim}\n",
       "shows the tree form of the expression \\texttt{expr} with maxdepth and prints the line number nodes if \\texttt{linenums} is true.\n",
       "\n",
       "\\subsection{Example}\n",
       "\\begin{verbatim}\n",
       "julia> @show_tree 2x+1\n",
       "Expr(:call)\n",
       "├─ :+\n",
       "├─ Expr(:call)\n",
       "│  ├─ :*\n",
       "│  ├─ 2\n",
       "│  └─ :x\n",
       "└─ 1\n",
       "\\end{verbatim}\n"
      ],
      "text/markdown": [
       "```\n",
       "@show_tree(expr, maxdepth=10, linenums=false)\n",
       "```\n",
       "\n",
       "shows the tree form of the expression `expr` with maxdepth and prints the line number nodes if `linenums` is true.\n",
       "\n",
       "## Example\n",
       "\n",
       "```julia\n",
       "julia> @show_tree 2x+1\n",
       "Expr(:call)\n",
       "├─ :+\n",
       "├─ Expr(:call)\n",
       "│  ├─ :*\n",
       "│  ├─ 2\n",
       "│  └─ :x\n",
       "└─ 1\n",
       "```\n"
      ],
      "text/plain": [
       "\u001b[36m  @show_tree(expr, maxdepth=10, linenums=false)\u001b[39m\n",
       "\n",
       "  shows the tree form of the expression \u001b[36mexpr\u001b[39m with maxdepth and prints the line\n",
       "  number nodes if \u001b[36mlinenums\u001b[39m is true.\n",
       "\n",
       "\u001b[1m  Example\u001b[22m\n",
       "\u001b[1m  =========\u001b[22m\n",
       "\n",
       "\u001b[36m  julia> @show_tree 2x+1\u001b[39m\n",
       "\u001b[36m  Expr(:call)\u001b[39m\n",
       "\u001b[36m  ├─ :+\u001b[39m\n",
       "\u001b[36m  ├─ Expr(:call)\u001b[39m\n",
       "\u001b[36m  │  ├─ :*\u001b[39m\n",
       "\u001b[36m  │  ├─ 2\u001b[39m\n",
       "\u001b[36m  │  └─ :x\u001b[39m\n",
       "\u001b[36m  └─ 1\u001b[39m"
      ]
     },
     "execution_count": 68,
     "metadata": {},
     "output_type": "execute_result"
    }
   ],
   "source": [
    "@doc @show_tree"
   ]
  },
  {
   "cell_type": "code",
   "execution_count": 69,
   "metadata": {},
   "outputs": [
    {
     "data": {
      "text/latex": [
       "\\begin{verbatim}\n",
       "show_tree(expr) = AbstractTrees.print_tree(expr)\n",
       "\\end{verbatim}\n",
       "can be regarded as the function version of \\texttt{@show\\_tree}.\n",
       "\n"
      ],
      "text/markdown": [
       "```\n",
       "show_tree(expr) = AbstractTrees.print_tree(expr)\n",
       "```\n",
       "\n",
       "can be regarded as the function version of `@show_tree`.\n"
      ],
      "text/plain": [
       "\u001b[36m  show_tree(expr) = AbstractTrees.print_tree(expr)\u001b[39m\n",
       "\n",
       "  can be regarded as the function version of \u001b[36m@show_tree\u001b[39m."
      ]
     },
     "execution_count": 69,
     "metadata": {},
     "output_type": "execute_result"
    }
   ],
   "source": [
    "@doc show_tree"
   ]
  },
  {
   "cell_type": "code",
   "execution_count": 70,
   "metadata": {},
   "outputs": [
    {
     "data": {
      "text/latex": [
       "\\begin{verbatim}\n",
       "print_subtypes(T::Type; kwargs...)\n",
       "print_subtypes(io::IO, T::Type; kwargs...)\n",
       "print_subtypes(f, io::IO, T::Type; kwargs...)\n",
       "\\end{verbatim}\n",
       "prints the subtypes of \\texttt{T} by \\texttt{AbstractTrees.print\\_tree}.\n",
       "\n",
       "\\subsection{Example}\n",
       "\\begin{verbatim}\n",
       "julia> print_subtypes(AbstractRange)\n",
       "AbstractRange\n",
       "├─ LinRange\n",
       "├─ OrdinalRange\n",
       "│  ├─ AbstractUnitRange\n",
       "│  │  ├─ Base.IdentityUnitRange\n",
       "│  │  ├─ Base.OneTo\n",
       "│  │  ├─ Base.Slice\n",
       "│  │  └─ UnitRange\n",
       "│  └─ StepRange\n",
       "└─ StepRangeLen\n",
       "\\end{verbatim}\n"
      ],
      "text/markdown": [
       "```\n",
       "print_subtypes(T::Type; kwargs...)\n",
       "print_subtypes(io::IO, T::Type; kwargs...)\n",
       "print_subtypes(f, io::IO, T::Type; kwargs...)\n",
       "```\n",
       "\n",
       "prints the subtypes of `T` by `AbstractTrees.print_tree`.\n",
       "\n",
       "## Example\n",
       "\n",
       "```julia\n",
       "julia> print_subtypes(AbstractRange)\n",
       "AbstractRange\n",
       "├─ LinRange\n",
       "├─ OrdinalRange\n",
       "│  ├─ AbstractUnitRange\n",
       "│  │  ├─ Base.IdentityUnitRange\n",
       "│  │  ├─ Base.OneTo\n",
       "│  │  ├─ Base.Slice\n",
       "│  │  └─ UnitRange\n",
       "│  └─ StepRange\n",
       "└─ StepRangeLen\n",
       "```\n"
      ],
      "text/plain": [
       "\u001b[36m  print_subtypes(T::Type; kwargs...)\u001b[39m\n",
       "\u001b[36m  print_subtypes(io::IO, T::Type; kwargs...)\u001b[39m\n",
       "\u001b[36m  print_subtypes(f, io::IO, T::Type; kwargs...)\u001b[39m\n",
       "\n",
       "  prints the subtypes of \u001b[36mT\u001b[39m by \u001b[36mAbstractTrees.print_tree\u001b[39m.\n",
       "\n",
       "\u001b[1m  Example\u001b[22m\n",
       "\u001b[1m  =========\u001b[22m\n",
       "\n",
       "\u001b[36m  julia> print_subtypes(AbstractRange)\u001b[39m\n",
       "\u001b[36m  AbstractRange\u001b[39m\n",
       "\u001b[36m  ├─ LinRange\u001b[39m\n",
       "\u001b[36m  ├─ OrdinalRange\u001b[39m\n",
       "\u001b[36m  │  ├─ AbstractUnitRange\u001b[39m\n",
       "\u001b[36m  │  │  ├─ Base.IdentityUnitRange\u001b[39m\n",
       "\u001b[36m  │  │  ├─ Base.OneTo\u001b[39m\n",
       "\u001b[36m  │  │  ├─ Base.Slice\u001b[39m\n",
       "\u001b[36m  │  │  └─ UnitRange\u001b[39m\n",
       "\u001b[36m  │  └─ StepRange\u001b[39m\n",
       "\u001b[36m  └─ StepRangeLen\u001b[39m"
      ]
     },
     "execution_count": 70,
     "metadata": {},
     "output_type": "execute_result"
    }
   ],
   "source": [
    "@doc print_subtypes"
   ]
  },
  {
   "cell_type": "code",
   "execution_count": 71,
   "metadata": {},
   "outputs": [
    {
     "data": {
      "text/latex": [
       "\\begin{verbatim}\n",
       "show_expr([io::IO,], ex)\n",
       "\\end{verbatim}\n",
       "shows expression \\texttt{ex} as a Julia style expression.\n",
       "\n",
       "\\section{Examples}\n",
       "\\begin{verbatim}\n",
       "julia> show_expr(:(f(x, g(y, z))))\n",
       "Expr(:call, :f, :x, \n",
       "    Expr(:call, :g, :y, :z))\n",
       "\\end{verbatim}\n"
      ],
      "text/markdown": [
       "```\n",
       "show_expr([io::IO,], ex)\n",
       "```\n",
       "\n",
       "shows expression `ex` as a Julia style expression.\n",
       "\n",
       "# Examples\n",
       "\n",
       "```julia\n",
       "julia> show_expr(:(f(x, g(y, z))))\n",
       "Expr(:call, :f, :x, \n",
       "    Expr(:call, :g, :y, :z))\n",
       "```\n"
      ],
      "text/plain": [
       "\u001b[36m  show_expr([io::IO,], ex)\u001b[39m\n",
       "\n",
       "  shows expression \u001b[36mex\u001b[39m as a Julia style expression.\n",
       "\n",
       "\u001b[1m  Examples\u001b[22m\n",
       "\u001b[1m  ≡≡≡≡≡≡≡≡≡≡\u001b[22m\n",
       "\n",
       "\u001b[36m  julia> show_expr(:(f(x, g(y, z))))\u001b[39m\n",
       "\u001b[36m  Expr(:call, :f, :x, \u001b[39m\n",
       "\u001b[36m      Expr(:call, :g, :y, :z))\u001b[39m"
      ]
     },
     "execution_count": 71,
     "metadata": {},
     "output_type": "execute_result"
    }
   ],
   "source": [
    "@doc show_expr"
   ]
  },
  {
   "cell_type": "code",
   "execution_count": 72,
   "metadata": {},
   "outputs": [
    {
     "data": {
      "text/latex": [
       "\\begin{verbatim}\n",
       "@show_expr(expr, linenums=false)\n",
       "\\end{verbatim}\n",
       "shows the Juia style expression of \\texttt{expr} and prints the line number nodes if \\texttt{linenums} is true.  This is the macro version of \\texttt{show\\_expr}.\n",
       "\n",
       "\\subsection{Example}\n",
       "\\begin{verbatim}\n",
       "julia> @show_expr 2x+1\n",
       "Expr(:call, :+, \n",
       "    Expr(:call, :*, 2, :x), 1)\n",
       "\\end{verbatim}\n",
       "\\texttt{eval} function can evaluate the output of \\texttt{@show\\_expr}. \n",
       "\n",
       "\\begin{verbatim}\n",
       "julia> x = 10; Expr(:call, :+, \n",
       "    Expr(:call, :*, 2, :x), 1) |> eval\n",
       "21\n",
       "\\end{verbatim}\n"
      ],
      "text/markdown": [
       "```\n",
       "@show_expr(expr, linenums=false)\n",
       "```\n",
       "\n",
       "shows the Juia style expression of `expr` and prints the line number nodes if `linenums` is true.  This is the macro version of `show_expr`.\n",
       "\n",
       "## Example\n",
       "\n",
       "```julia\n",
       "julia> @show_expr 2x+1\n",
       "Expr(:call, :+, \n",
       "    Expr(:call, :*, 2, :x), 1)\n",
       "```\n",
       "\n",
       "`eval` function can evaluate the output of `@show_expr`. \n",
       "\n",
       "```julia\n",
       "julia> x = 10; Expr(:call, :+, \n",
       "    Expr(:call, :*, 2, :x), 1) |> eval\n",
       "21\n",
       "```\n"
      ],
      "text/plain": [
       "\u001b[36m  @show_expr(expr, linenums=false)\u001b[39m\n",
       "\n",
       "  shows the Juia style expression of \u001b[36mexpr\u001b[39m and prints the line number nodes if\n",
       "  \u001b[36mlinenums\u001b[39m is true. This is the macro version of \u001b[36mshow_expr\u001b[39m.\n",
       "\n",
       "\u001b[1m  Example\u001b[22m\n",
       "\u001b[1m  =========\u001b[22m\n",
       "\n",
       "\u001b[36m  julia> @show_expr 2x+1\u001b[39m\n",
       "\u001b[36m  Expr(:call, :+, \u001b[39m\n",
       "\u001b[36m      Expr(:call, :*, 2, :x), 1)\u001b[39m\n",
       "\n",
       "  \u001b[36meval\u001b[39m function can evaluate the output of \u001b[36m@show_expr\u001b[39m.\n",
       "\n",
       "\u001b[36m  julia> x = 10; Expr(:call, :+, \u001b[39m\n",
       "\u001b[36m      Expr(:call, :*, 2, :x), 1) |> eval\u001b[39m\n",
       "\u001b[36m  21\u001b[39m"
      ]
     },
     "execution_count": 72,
     "metadata": {},
     "output_type": "execute_result"
    }
   ],
   "source": [
    "@doc @show_expr"
   ]
  },
  {
   "cell_type": "code",
   "execution_count": 73,
   "metadata": {},
   "outputs": [
    {
     "data": {
      "text/latex": [
       "\\begin{verbatim}\n",
       "show_texpr([io::IO,], ex)\n",
       "\\end{verbatim}\n",
       "Yet another \\texttt{Meta.show\\_sexpr}.  It shows expression \\texttt{ex} as a lisp style expression.\n",
       "\n",
       "Remark: The indentation is different from \\texttt{Meta.show\\_sexpr}.\n",
       "\n",
       "\\section{Examples}\n",
       "\\begin{verbatim}\n",
       "julia> show_texpr(:(f(x, g(y, z))))\n",
       "Expr(:call, :f, :x, \n",
       "    Expr(:call, :g, :y, :z))\n",
       "\\end{verbatim}\n"
      ],
      "text/markdown": [
       "```\n",
       "show_texpr([io::IO,], ex)\n",
       "```\n",
       "\n",
       "Yet another `Meta.show_sexpr`.  It shows expression `ex` as a lisp style expression.\n",
       "\n",
       "Remark: The indentation is different from `Meta.show_sexpr`.\n",
       "\n",
       "# Examples\n",
       "\n",
       "```julia\n",
       "julia> show_texpr(:(f(x, g(y, z))))\n",
       "Expr(:call, :f, :x, \n",
       "    Expr(:call, :g, :y, :z))\n",
       "```\n"
      ],
      "text/plain": [
       "\u001b[36m  show_texpr([io::IO,], ex)\u001b[39m\n",
       "\n",
       "  Yet another \u001b[36mMeta.show_sexpr\u001b[39m. It shows expression \u001b[36mex\u001b[39m as a lisp style\n",
       "  expression.\n",
       "\n",
       "  Remark: The indentation is different from \u001b[36mMeta.show_sexpr\u001b[39m.\n",
       "\n",
       "\u001b[1m  Examples\u001b[22m\n",
       "\u001b[1m  ≡≡≡≡≡≡≡≡≡≡\u001b[22m\n",
       "\n",
       "\u001b[36m  julia> show_texpr(:(f(x, g(y, z))))\u001b[39m\n",
       "\u001b[36m  Expr(:call, :f, :x, \u001b[39m\n",
       "\u001b[36m      Expr(:call, :g, :y, :z))\u001b[39m"
      ]
     },
     "execution_count": 73,
     "metadata": {},
     "output_type": "execute_result"
    }
   ],
   "source": [
    "@doc show_texpr"
   ]
  },
  {
   "cell_type": "code",
   "execution_count": 74,
   "metadata": {},
   "outputs": [
    {
     "data": {
      "text/latex": [
       "\\begin{verbatim}\n",
       "@show_texpr(expr, linenums=false)\n",
       "\\end{verbatim}\n",
       "Yet another \\texttt{@show\\_sexpr}.  It shows the lisp style S-expression of \\texttt{expr} and prints the line number nodes if \\texttt{linenums} is true.\n",
       "\n",
       "Remark: The indentation is different from \\texttt{@show\\_sexpr}.\n",
       "\n",
       "\\subsection{Example}\n",
       "\\begin{verbatim}\n",
       "julia> @show_texpr 2x+1\n",
       "(:call, :+, \n",
       "    (:call, :*, 2, :x), 1)\n",
       "\\end{verbatim}\n",
       "\\texttt{teval} function can evaluate the output of \\texttt{@show\\_texpr}.\n",
       "\n",
       "\\begin{verbatim}\n",
       "julia> x = 10; (:call, :+, \n",
       "    (:call, :*, 2, :x), 1) |> teval\n",
       "21\n",
       "\\end{verbatim}\n"
      ],
      "text/markdown": [
       "```\n",
       "@show_texpr(expr, linenums=false)\n",
       "```\n",
       "\n",
       "Yet another `@show_sexpr`.  It shows the lisp style S-expression of `expr` and prints the line number nodes if `linenums` is true.\n",
       "\n",
       "Remark: The indentation is different from `@show_sexpr`.\n",
       "\n",
       "## Example\n",
       "\n",
       "```julia\n",
       "julia> @show_texpr 2x+1\n",
       "(:call, :+, \n",
       "    (:call, :*, 2, :x), 1)\n",
       "```\n",
       "\n",
       "`teval` function can evaluate the output of `@show_texpr`.\n",
       "\n",
       "```julia\n",
       "julia> x = 10; (:call, :+, \n",
       "    (:call, :*, 2, :x), 1) |> teval\n",
       "21\n",
       "```\n"
      ],
      "text/plain": [
       "\u001b[36m  @show_texpr(expr, linenums=false)\u001b[39m\n",
       "\n",
       "  Yet another \u001b[36m@show_sexpr\u001b[39m. It shows the lisp style S-expression of \u001b[36mexpr\u001b[39m and\n",
       "  prints the line number nodes if \u001b[36mlinenums\u001b[39m is true.\n",
       "\n",
       "  Remark: The indentation is different from \u001b[36m@show_sexpr\u001b[39m.\n",
       "\n",
       "\u001b[1m  Example\u001b[22m\n",
       "\u001b[1m  =========\u001b[22m\n",
       "\n",
       "\u001b[36m  julia> @show_texpr 2x+1\u001b[39m\n",
       "\u001b[36m  (:call, :+, \u001b[39m\n",
       "\u001b[36m      (:call, :*, 2, :x), 1)\u001b[39m\n",
       "\n",
       "  \u001b[36mteval\u001b[39m function can evaluate the output of \u001b[36m@show_texpr\u001b[39m.\n",
       "\n",
       "\u001b[36m  julia> x = 10; (:call, :+, \u001b[39m\n",
       "\u001b[36m      (:call, :*, 2, :x), 1) |> teval\u001b[39m\n",
       "\u001b[36m  21\u001b[39m"
      ]
     },
     "execution_count": 74,
     "metadata": {},
     "output_type": "execute_result"
    }
   ],
   "source": [
    "@doc @show_texpr"
   ]
  },
  {
   "cell_type": "code",
   "execution_count": 75,
   "metadata": {},
   "outputs": [
    {
     "data": {
      "text/latex": [
       "\\begin{verbatim}\n",
       "teval(texpr, m::Module=Main)\n",
       "\\end{verbatim}\n",
       "evaluates the lisp-like tuple expression \\texttt{texpr}.\n",
       "\n",
       "Example: Calculation of \\texttt{sin(π/6)}\n",
       "\n",
       "\\begin{verbatim}\n",
       "julia> (:call, :sin, (:call, :/, π, 6)) |> teval\n",
       "0.49999999999999994\n",
       "\\end{verbatim}\n",
       "In some cases, you can omit \\texttt{:call}.\n",
       "\n",
       "\\begin{verbatim}\n",
       "julia> (:sin, (:/, π, 6)) |> teval\n",
       "0.49999999999999994\n",
       "\\end{verbatim}\n"
      ],
      "text/markdown": [
       "```\n",
       "teval(texpr, m::Module=Main)\n",
       "```\n",
       "\n",
       "evaluates the lisp-like tuple expression `texpr`.\n",
       "\n",
       "Example: Calculation of `sin(π/6)`\n",
       "\n",
       "```julia\n",
       "julia> (:call, :sin, (:call, :/, π, 6)) |> teval\n",
       "0.49999999999999994\n",
       "```\n",
       "\n",
       "In some cases, you can omit `:call`.\n",
       "\n",
       "```julia\n",
       "julia> (:sin, (:/, π, 6)) |> teval\n",
       "0.49999999999999994\n",
       "```\n"
      ],
      "text/plain": [
       "\u001b[36m  teval(texpr, m::Module=Main)\u001b[39m\n",
       "\n",
       "  evaluates the lisp-like tuple expression \u001b[36mtexpr\u001b[39m.\n",
       "\n",
       "  Example: Calculation of \u001b[36msin(π/6)\u001b[39m\n",
       "\n",
       "\u001b[36m  julia> (:call, :sin, (:call, :/, π, 6)) |> teval\u001b[39m\n",
       "\u001b[36m  0.49999999999999994\u001b[39m\n",
       "\n",
       "  In some cases, you can omit \u001b[36m:call\u001b[39m.\n",
       "\n",
       "\u001b[36m  julia> (:sin, (:/, π, 6)) |> teval\u001b[39m\n",
       "\u001b[36m  0.49999999999999994\u001b[39m"
      ]
     },
     "execution_count": 75,
     "metadata": {},
     "output_type": "execute_result"
    }
   ],
   "source": [
    "@doc teval"
   ]
  },
  {
   "cell_type": "code",
   "execution_count": 76,
   "metadata": {},
   "outputs": [
    {
     "data": {
      "text/latex": [
       "\\begin{verbatim}\n",
       "@teval texpr\n",
       "\\end{verbatim}\n",
       "evaluates the lisp-like tuple expression \\texttt{texpr}.\n",
       "\n",
       "Example: Calculation of \\texttt{sin(π/6)}\n",
       "\n",
       "\\begin{verbatim}\n",
       "julia> @teval (:call, :sin, (:call, :/, π, 6))\n",
       "0.49999999999999994\n",
       "\\end{verbatim}\n",
       "In some cases, you can omit \\texttt{:call}.\n",
       "\n",
       "\\begin{verbatim}\n",
       "julia> @teval (:sin, (:/, π, 6))\n",
       "0.49999999999999994\n",
       "\\end{verbatim}\n"
      ],
      "text/markdown": [
       "```\n",
       "@teval texpr\n",
       "```\n",
       "\n",
       "evaluates the lisp-like tuple expression `texpr`.\n",
       "\n",
       "Example: Calculation of `sin(π/6)`\n",
       "\n",
       "```julia\n",
       "julia> @teval (:call, :sin, (:call, :/, π, 6))\n",
       "0.49999999999999994\n",
       "```\n",
       "\n",
       "In some cases, you can omit `:call`.\n",
       "\n",
       "```julia\n",
       "julia> @teval (:sin, (:/, π, 6))\n",
       "0.49999999999999994\n",
       "```\n"
      ],
      "text/plain": [
       "\u001b[36m  @teval texpr\u001b[39m\n",
       "\n",
       "  evaluates the lisp-like tuple expression \u001b[36mtexpr\u001b[39m.\n",
       "\n",
       "  Example: Calculation of \u001b[36msin(π/6)\u001b[39m\n",
       "\n",
       "\u001b[36m  julia> @teval (:call, :sin, (:call, :/, π, 6))\u001b[39m\n",
       "\u001b[36m  0.49999999999999994\u001b[39m\n",
       "\n",
       "  In some cases, you can omit \u001b[36m:call\u001b[39m.\n",
       "\n",
       "\u001b[36m  julia> @teval (:sin, (:/, π, 6))\u001b[39m\n",
       "\u001b[36m  0.49999999999999994\u001b[39m"
      ]
     },
     "execution_count": 76,
     "metadata": {},
     "output_type": "execute_result"
    }
   ],
   "source": [
    "@doc @teval"
   ]
  },
  {
   "cell_type": "code",
   "execution_count": 77,
   "metadata": {},
   "outputs": [
    {
     "data": {
      "text/latex": [
       "\\begin{verbatim}\n",
       "MetaUtils.@t texpr\n",
       "\\end{verbatim}\n",
       "shows the Julia expression and the value of the lisp-like tuple expression \\texttt{texpr}.\n",
       "\n",
       "Example:\n",
       "\n",
       "\\begin{verbatim}\n",
       "julia> MetaUtils.@t (:call, :sin, (:call, :/, π, 6))\n",
       ":(sin(π / 6))\n",
       "→ 0.49999999999999994\n",
       "\\end{verbatim}\n"
      ],
      "text/markdown": [
       "```\n",
       "MetaUtils.@t texpr\n",
       "```\n",
       "\n",
       "shows the Julia expression and the value of the lisp-like tuple expression `texpr`.\n",
       "\n",
       "Example:\n",
       "\n",
       "```julia\n",
       "julia> MetaUtils.@t (:call, :sin, (:call, :/, π, 6))\n",
       ":(sin(π / 6))\n",
       "→ 0.49999999999999994\n",
       "```\n"
      ],
      "text/plain": [
       "\u001b[36m  MetaUtils.@t texpr\u001b[39m\n",
       "\n",
       "  shows the Julia expression and the value of the lisp-like tuple expression\n",
       "  \u001b[36mtexpr\u001b[39m.\n",
       "\n",
       "  Example:\n",
       "\n",
       "\u001b[36m  julia> MetaUtils.@t (:call, :sin, (:call, :/, π, 6))\u001b[39m\n",
       "\u001b[36m  :(sin(π / 6))\u001b[39m\n",
       "\u001b[36m  → 0.49999999999999994\u001b[39m"
      ]
     },
     "execution_count": 77,
     "metadata": {},
     "output_type": "execute_result"
    }
   ],
   "source": [
    "@doc MetaUtils.@t"
   ]
  },
  {
   "cell_type": "code",
   "execution_count": 78,
   "metadata": {},
   "outputs": [
    {
     "data": {
      "text/latex": [
       "\\begin{verbatim}\n",
       "MetaUtils.@T texpr\n",
       "\\end{verbatim}\n",
       "shows \\texttt{show(texpr)}, \\texttt{show\\_texpr(texpr)}, the Julia expression, and the value of the lisp-like tuple expression \\texttt{texpr}.\n",
       "\n",
       "Example:\n",
       "\n",
       "\\begin{verbatim}\n",
       "julia> MetaUtils.@T (:call, :sin, (:call, :/, π, 6))\n",
       "(:call, :sin, (:call, :/, π, 6))\n",
       "→ (:call, :sin, \n",
       "    (:call, :/, π, 6))\n",
       "→ :(sin(π / 6))\n",
       "→ 0.49999999999999994\n",
       "\\end{verbatim}\n"
      ],
      "text/markdown": [
       "```\n",
       "MetaUtils.@T texpr\n",
       "```\n",
       "\n",
       "shows `show(texpr)`, `show_texpr(texpr)`, the Julia expression, and the value of the lisp-like tuple expression `texpr`.\n",
       "\n",
       "Example:\n",
       "\n",
       "```julia\n",
       "julia> MetaUtils.@T (:call, :sin, (:call, :/, π, 6))\n",
       "(:call, :sin, (:call, :/, π, 6))\n",
       "→ (:call, :sin, \n",
       "    (:call, :/, π, 6))\n",
       "→ :(sin(π / 6))\n",
       "→ 0.49999999999999994\n",
       "```\n"
      ],
      "text/plain": [
       "\u001b[36m  MetaUtils.@T texpr\u001b[39m\n",
       "\n",
       "  shows \u001b[36mshow(texpr)\u001b[39m, \u001b[36mshow_texpr(texpr)\u001b[39m, the Julia expression, and the value of\n",
       "  the lisp-like tuple expression \u001b[36mtexpr\u001b[39m.\n",
       "\n",
       "  Example:\n",
       "\n",
       "\u001b[36m  julia> MetaUtils.@T (:call, :sin, (:call, :/, π, 6))\u001b[39m\n",
       "\u001b[36m  (:call, :sin, (:call, :/, π, 6))\u001b[39m\n",
       "\u001b[36m  → (:call, :sin, \u001b[39m\n",
       "\u001b[36m      (:call, :/, π, 6))\u001b[39m\n",
       "\u001b[36m  → :(sin(π / 6))\u001b[39m\n",
       "\u001b[36m  → 0.49999999999999994\u001b[39m"
      ]
     },
     "execution_count": 78,
     "metadata": {},
     "output_type": "execute_result"
    }
   ],
   "source": [
    "@doc MetaUtils.@T"
   ]
  },
  {
   "cell_type": "code",
   "execution_count": null,
   "metadata": {},
   "outputs": [],
   "source": []
  }
 ],
 "metadata": {
  "@webio": {
   "lastCommId": null,
   "lastKernelId": null
  },
  "jupytext": {
   "cell_metadata_json": true,
   "formats": "ipynb,md"
  },
  "kernelspec": {
   "display_name": "Julia 1.7.0-DEV",
   "language": "julia",
   "name": "julia-1.7"
  },
  "language_info": {
   "file_extension": ".jl",
   "mimetype": "application/julia",
   "name": "julia",
   "version": "1.7.0"
  },
  "toc": {
   "base_numbering": 1,
   "nav_menu": {},
   "number_sections": true,
   "sideBar": true,
   "skip_h1_title": true,
   "title_cell": "Table of Contents",
   "title_sidebar": "Contents",
   "toc_cell": true,
   "toc_position": {
    "height": "calc(100% - 180px)",
    "left": "10px",
    "top": "150px",
    "width": "250px"
   },
   "toc_section_display": true,
   "toc_window_display": false
  }
 },
 "nbformat": 4,
 "nbformat_minor": 4
}
