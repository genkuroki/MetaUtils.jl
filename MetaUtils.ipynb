{
 "cells": [
  {
   "cell_type": "markdown",
   "metadata": {},
   "source": [
    "# MetaUtils\n",
    "\n",
    "* Author: Gen Kuroki\n",
    "* Date: 2020-10-11～2020-10-17, 2021-03-20～2021-03-26, 2021-06-07, 2024-10-01\n",
    "* Repository: https://github.com/genkuroki/MetaUtils.jl\n",
    "* File: https://nbviewer.jupyter.org/github/genkuroki/MetaUtils.jl/blob/master/MetaUtils.ipynb"
   ]
  },
  {
   "cell_type": "markdown",
   "metadata": {
    "toc": true
   },
   "source": [
    "<h1>Table of Contents<span class=\"tocSkip\"></span></h1>\n",
    "<div class=\"toc\"><ul class=\"toc-item\"><li><span><a href=\"#Explanatory-examples\" data-toc-modified-id=\"Explanatory-examples-1\"><span class=\"toc-item-num\">1&nbsp;&nbsp;</span>Explanatory examples</a></span></li><li><span><a href=\"#Miscellaneous-examples-of-@show_texpr,-etc.\" data-toc-modified-id=\"Miscellaneous-examples-of-@show_texpr,-etc.-2\"><span class=\"toc-item-num\">2&nbsp;&nbsp;</span>Miscellaneous examples of @show_texpr, etc.</a></span><ul class=\"toc-item\"><li><span><a href=\"#for-loop\" data-toc-modified-id=\"for-loop-2.1\"><span class=\"toc-item-num\">2.1&nbsp;&nbsp;</span>for loop</a></span></li><li><span><a href=\"#subtype-trees\" data-toc-modified-id=\"subtype-trees-2.2\"><span class=\"toc-item-num\">2.2&nbsp;&nbsp;</span>subtype trees</a></span></li><li><span><a href=\"#function-definition\" data-toc-modified-id=\"function-definition-2.3\"><span class=\"toc-item-num\">2.3&nbsp;&nbsp;</span>function definition</a></span></li><li><span><a href=\"#macro-and-LineNumberNode\" data-toc-modified-id=\"macro-and-LineNumberNode-2.4\"><span class=\"toc-item-num\">2.4&nbsp;&nbsp;</span>macro and LineNumberNode</a></span></li><li><span><a href=\"#QuoteNode\" data-toc-modified-id=\"QuoteNode-2.5\"><span class=\"toc-item-num\">2.5&nbsp;&nbsp;</span>QuoteNode</a></span></li></ul></li><li><span><a href=\"#Evaluation-of-Lisp-like-tuple-expressions\" data-toc-modified-id=\"Evaluation-of-Lisp-like-tuple-expressions-3\"><span class=\"toc-item-num\">3&nbsp;&nbsp;</span>Evaluation of Lisp-like tuple expressions</a></span></li><li><span><a href=\"#Plot-example\" data-toc-modified-id=\"Plot-example-4\"><span class=\"toc-item-num\">4&nbsp;&nbsp;</span>Plot example</a></span></li><li><span><a href=\"#Documents\" data-toc-modified-id=\"Documents-5\"><span class=\"toc-item-num\">5&nbsp;&nbsp;</span>Documents</a></span></li></ul></div>"
   ]
  },
  {
   "cell_type": "code",
   "execution_count": 1,
   "metadata": {},
   "outputs": [
    {
     "data": {
      "text/plain": [
       "v\"1.10.5\""
      ]
     },
     "execution_count": 1,
     "metadata": {},
     "output_type": "execute_result"
    }
   ],
   "source": [
    "VERSION"
   ]
  },
  {
   "cell_type": "code",
   "execution_count": 2,
   "metadata": {},
   "outputs": [
    {
     "name": "stderr",
     "output_type": "stream",
     "text": [
      "\u001b[32m\u001b[1m  Activating\u001b[22m\u001b[39m project at `D:\\OneDrive\\work\\MetaUtils.jl`\n"
     ]
    }
   ],
   "source": [
    "if isfile(\"Project.toml\")\n",
    "    using Pkg\n",
    "    Pkg.activate(\".\")\n",
    "    using Revise\n",
    "end"
   ]
  },
  {
   "cell_type": "code",
   "execution_count": 3,
   "metadata": {},
   "outputs": [],
   "source": [
    "using MetaUtils"
   ]
  },
  {
   "cell_type": "markdown",
   "metadata": {},
   "source": [
    "## Explanatory examples"
   ]
  },
  {
   "cell_type": "code",
   "execution_count": 4,
   "metadata": {},
   "outputs": [
    {
     "name": "stdout",
     "output_type": "stream",
     "text": [
      "(:call, :+, (:call, :*, 2, :x), 1)"
     ]
    }
   ],
   "source": [
    "@show_sexpr 2x+1"
   ]
  },
  {
   "cell_type": "code",
   "execution_count": 5,
   "metadata": {},
   "outputs": [
    {
     "data": {
      "text/plain": [
       "21"
      ]
     },
     "execution_count": 5,
     "metadata": {},
     "output_type": "execute_result"
    }
   ],
   "source": [
    "x = 10; (:call, :+, (:call, :*, 2, :x), 1) |> teval"
   ]
  },
  {
   "cell_type": "code",
   "execution_count": 6,
   "metadata": {},
   "outputs": [
    {
     "name": "stdout",
     "output_type": "stream",
     "text": [
      ":(2x + 1)\n",
      "├─ :+\n",
      "├─ :(2x)\n",
      "│  ├─ :*\n",
      "│  ├─ 2\n",
      "│  └─ :x\n",
      "└─ 1\n"
     ]
    }
   ],
   "source": [
    "@show_tree 2x+1"
   ]
  },
  {
   "cell_type": "code",
   "execution_count": 7,
   "metadata": {},
   "outputs": [
    {
     "name": "stdout",
     "output_type": "stream",
     "text": [
      ":(2x + 1)\n",
      "├─ :+\n",
      "├─ :(2x)\n",
      "│  ├─ :*\n",
      "│  ├─ 2\n",
      "│  └─ :x\n",
      "└─ 1\n"
     ]
    }
   ],
   "source": [
    "show_tree(:(2x + 1))"
   ]
  },
  {
   "cell_type": "code",
   "execution_count": 8,
   "metadata": {},
   "outputs": [
    {
     "name": "stdout",
     "output_type": "stream",
     "text": [
      "AbstractRange\n",
      "├─ LinRange\n",
      "├─ OrdinalRange\n",
      "│  ├─ AbstractUnitRange\n",
      "│  │  ├─ Base.IdentityUnitRange\n",
      "│  │  ├─ Base.OneTo\n",
      "│  │  ├─ Base.Slice\n",
      "│  │  └─ UnitRange\n",
      "│  └─ StepRange\n",
      "└─ StepRangeLen\n"
     ]
    }
   ],
   "source": [
    "print_subtypes(AbstractRange)"
   ]
  },
  {
   "cell_type": "code",
   "execution_count": 9,
   "metadata": {},
   "outputs": [
    {
     "name": "stdout",
     "output_type": "stream",
     "text": [
      "Expr(:call, :f, :x, \n",
      "    Expr(:call, :g, :y, :z))"
     ]
    }
   ],
   "source": [
    "show_expr(:(f(x, g(y, z))))"
   ]
  },
  {
   "cell_type": "code",
   "execution_count": 10,
   "metadata": {},
   "outputs": [
    {
     "name": "stdout",
     "output_type": "stream",
     "text": [
      "Expr(:call, :+, \n",
      "    Expr(:call, :*, 2, :x), 1)"
     ]
    }
   ],
   "source": [
    "@show_expr 2x+1"
   ]
  },
  {
   "cell_type": "code",
   "execution_count": 11,
   "metadata": {},
   "outputs": [
    {
     "data": {
      "text/plain": [
       "21"
      ]
     },
     "execution_count": 11,
     "metadata": {},
     "output_type": "execute_result"
    }
   ],
   "source": [
    "x = 10; Expr(:call, :+, \n",
    "    Expr(:call, :*, 2, :x), 1) |> eval"
   ]
  },
  {
   "cell_type": "code",
   "execution_count": 12,
   "metadata": {},
   "outputs": [
    {
     "name": "stdout",
     "output_type": "stream",
     "text": [
      "(:call, :f, :x, \n",
      "    (:call, :g, :y, :z))"
     ]
    }
   ],
   "source": [
    "show_texpr(:(f(x, g(y, z))))"
   ]
  },
  {
   "cell_type": "code",
   "execution_count": 13,
   "metadata": {},
   "outputs": [
    {
     "name": "stdout",
     "output_type": "stream",
     "text": [
      "(:call, :+, \n",
      "    (:call, :*, 2, :x), 1)"
     ]
    }
   ],
   "source": [
    "@show_texpr 2x+1"
   ]
  },
  {
   "cell_type": "code",
   "execution_count": 14,
   "metadata": {},
   "outputs": [
    {
     "data": {
      "text/plain": [
       "21"
      ]
     },
     "execution_count": 14,
     "metadata": {},
     "output_type": "execute_result"
    }
   ],
   "source": [
    "x = 10; (:call, :+, \n",
    "    (:call, :*, 2, :x), 1) |> teval"
   ]
  },
  {
   "cell_type": "code",
   "execution_count": 15,
   "metadata": {
    "tags": []
   },
   "outputs": [
    {
     "data": {
      "text/plain": [
       ":(sin(π / 6))"
      ]
     },
     "execution_count": 15,
     "metadata": {},
     "output_type": "execute_result"
    }
   ],
   "source": [
    "texpr2expr((:call, :sin, (:call, :/, π, 6)))"
   ]
  },
  {
   "cell_type": "code",
   "execution_count": 16,
   "metadata": {
    "tags": []
   },
   "outputs": [
    {
     "data": {
      "text/plain": [
       "0.49999999999999994"
      ]
     },
     "execution_count": 16,
     "metadata": {},
     "output_type": "execute_result"
    }
   ],
   "source": [
    "(:call, :sin, (:call, :/, π, 6)) |> teval"
   ]
  },
  {
   "cell_type": "code",
   "execution_count": 17,
   "metadata": {
    "tags": []
   },
   "outputs": [
    {
     "data": {
      "text/plain": [
       "0.49999999999999994"
      ]
     },
     "execution_count": 17,
     "metadata": {},
     "output_type": "execute_result"
    }
   ],
   "source": [
    "@teval (:call, :sin, (:call, :/, π, 6))"
   ]
  },
  {
   "cell_type": "code",
   "execution_count": 18,
   "metadata": {},
   "outputs": [
    {
     "name": "stdout",
     "output_type": "stream",
     "text": [
      ":(sin(π / 6))\n",
      "→ 0.49999999999999994\n"
     ]
    }
   ],
   "source": [
    "MetaUtils.@t (:call, :sin, (:call, :/, π, 6))"
   ]
  },
  {
   "cell_type": "code",
   "execution_count": 19,
   "metadata": {},
   "outputs": [
    {
     "name": "stdout",
     "output_type": "stream",
     "text": [
      "(:call, :sin, (:call, :/, π, 6))\n",
      "→ (:call, :sin, \n",
      "    (:call, :/, π, 6))\n",
      "→ :(sin(π / 6))\n",
      "→ 0.49999999999999994\n"
     ]
    }
   ],
   "source": [
    "MetaUtils.@T (:call, :sin, (:call, :/, π, 6))"
   ]
  },
  {
   "cell_type": "code",
   "execution_count": 20,
   "metadata": {
    "tags": []
   },
   "outputs": [
    {
     "data": {
      "text/plain": [
       "0.49999999999999994"
      ]
     },
     "execution_count": 20,
     "metadata": {},
     "output_type": "execute_result"
    }
   ],
   "source": [
    "(:sin, (:/, π, 6)) |> teval"
   ]
  },
  {
   "cell_type": "code",
   "execution_count": 21,
   "metadata": {
    "tags": []
   },
   "outputs": [
    {
     "data": {
      "text/plain": [
       "0.49999999999999994"
      ]
     },
     "execution_count": 21,
     "metadata": {},
     "output_type": "execute_result"
    }
   ],
   "source": [
    "@teval (:sin, (:/, π, 6))"
   ]
  },
  {
   "cell_type": "code",
   "execution_count": 22,
   "metadata": {},
   "outputs": [
    {
     "name": "stdout",
     "output_type": "stream",
     "text": [
      ":(sin(π / 6))\n",
      "→ 0.49999999999999994\n"
     ]
    }
   ],
   "source": [
    "MetaUtils.@t (:sin, (:/, π, 6))"
   ]
  },
  {
   "cell_type": "code",
   "execution_count": 23,
   "metadata": {},
   "outputs": [
    {
     "name": "stdout",
     "output_type": "stream",
     "text": [
      "(:sin, (:/, π, 6))\n",
      "→ (:call, :sin, \n",
      "    (:call, :/, π, 6))\n",
      "→ :(sin(π / 6))\n",
      "→ 0.49999999999999994\n"
     ]
    }
   ],
   "source": [
    "MetaUtils.@T (:sin, (:/, π, 6))"
   ]
  },
  {
   "cell_type": "markdown",
   "metadata": {},
   "source": [
    "## Miscellaneous examples of @show_texpr, etc."
   ]
  },
  {
   "cell_type": "markdown",
   "metadata": {},
   "source": [
    "### for loop"
   ]
  },
  {
   "cell_type": "code",
   "execution_count": 24,
   "metadata": {},
   "outputs": [
    {
     "name": "stdout",
     "output_type": "stream",
     "text": [
      "(:for, \n",
      "    (:(=), :k, \n",
      "        (:call, :(:), 1, 10)), \n",
      "    (:block, \n",
      "        (:(=), :x, \n",
      "            (:call, :÷, \n",
      "                (:call, :*, :k, \n",
      "                    (:call, :+, :k, 1)), 2)), \n",
      "        (:call, :println, \"k(k+1)/2 = \", :x)))"
     ]
    }
   ],
   "source": [
    "@show_texpr for k in 1:10\n",
    "    x = k*(k+1) ÷ 2\n",
    "    println(\"k(k+1)/2 = \", x)\n",
    "end"
   ]
  },
  {
   "cell_type": "code",
   "execution_count": 25,
   "metadata": {},
   "outputs": [
    {
     "name": "stdout",
     "output_type": "stream",
     "text": [
      "(:for, \n",
      "    (:(=), :k, \n",
      "        (:call, :(:), 1, 10)), \n",
      "    (:block, LineNumberNode(2, Symbol(\"In[25]\")), \n",
      "        (:(=), :x, \n",
      "            (:call, :÷, \n",
      "                (:call, :*, :k, \n",
      "                    (:call, :+, :k, 1)), 2)), LineNumberNode(3, Symbol(\"In[25]\")), \n",
      "        (:call, :println, \"k(k+1)/2 = \", :x), LineNumberNode(4, Symbol(\"In[25]\"))))"
     ]
    }
   ],
   "source": [
    "@show_texpr for k in 1:10\n",
    "    x = k*(k+1) ÷ 2\n",
    "    println(\"k(k+1)/2 = \", x)\n",
    "end true"
   ]
  },
  {
   "cell_type": "code",
   "execution_count": 26,
   "metadata": {},
   "outputs": [
    {
     "name": "stdout",
     "output_type": "stream",
     "text": [
      ":(for k = 1:10\n",
      "      x = (k * (k + 1)) ÷ 2\n",
      "      println(\"k(k+1)/2 = \", x)\n",
      "  end)\n",
      "├─ :(k = 1:10)\n",
      "│  ├─ :k\n",
      "│  └─ :(1:10)\n",
      "│     ⋮\n",
      "│     \n",
      "└─ quote\n",
      "       x = (k * (k + 1)) ÷ 2\n",
      "       println(\"k(k+1)/2 = \", x)\n",
      "   end\n",
      "   ├─ :(x = (k * (k + 1)) ÷ 2)\n",
      "   │  ⋮\n",
      "   │  \n",
      "   └─ :(println(\"k(k+1)/2 = \", x))\n",
      "      ⋮\n",
      "      \n"
     ]
    }
   ],
   "source": [
    "@show_tree for k in 1:10\n",
    "    x = k*(k+1) ÷ 2\n",
    "    println(\"k(k+1)/2 = \", x)\n",
    "end 2"
   ]
  },
  {
   "cell_type": "code",
   "execution_count": 27,
   "metadata": {},
   "outputs": [
    {
     "name": "stdout",
     "output_type": "stream",
     "text": [
      ":(for k = 1:10\n",
      "      x = (k * (k + 1)) ÷ 2\n",
      "      println(\"k(k+1)/2 = \", x)\n",
      "  end)\n",
      "├─ :(k = 1:10)\n",
      "│  ├─ :k\n",
      "│  └─ :(1:10)\n",
      "│     ├─ :(:)\n",
      "│     ├─ 1\n",
      "│     └─ 10\n",
      "└─ quote\n",
      "       x = (k * (k + 1)) ÷ 2\n",
      "       println(\"k(k+1)/2 = \", x)\n",
      "   end\n",
      "   ├─ :(x = (k * (k + 1)) ÷ 2)\n",
      "   │  ├─ :x\n",
      "   │  └─ :((k * (k + 1)) ÷ 2)\n",
      "   │     ├─ :÷\n",
      "   │     ├─ :(k * (k + 1))\n",
      "   │     │  ├─ :*\n",
      "   │     │  ├─ :k\n",
      "   │     │  └─ :(k + 1)\n",
      "   │     │     ├─ :+\n",
      "   │     │     ├─ :k\n",
      "   │     │     └─ 1\n",
      "   │     └─ 2\n",
      "   └─ :(println(\"k(k+1)/2 = \", x))\n",
      "      ├─ :println\n",
      "      ├─ \"k(k+1)/2 = \"\n",
      "      └─ :x\n"
     ]
    }
   ],
   "source": [
    "@show_tree for k in 1:10\n",
    "    x = k*(k+1) ÷ 2\n",
    "    println(\"k(k+1)/2 = \", x)\n",
    "end"
   ]
  },
  {
   "cell_type": "code",
   "execution_count": 28,
   "metadata": {},
   "outputs": [
    {
     "name": "stdout",
     "output_type": "stream",
     "text": [
      ":(for k = 1:10\n",
      "      \u001b[90m#= In[28]:2 =#\u001b[39m\n",
      "      x = (k * (k + 1)) ÷ 2\n",
      "      \u001b[90m#= In[28]:3 =#\u001b[39m\n",
      "      println(\"k(k+1)/2 = \", x)\n",
      "      \u001b[90m#= In[28]:4 =#\u001b[39m\n",
      "  end)\n",
      "├─ :(k = 1:10)\n",
      "│  ├─ :k\n",
      "│  └─ :(1:10)\n",
      "│     ├─ :(:)\n",
      "│     ├─ 1\n",
      "│     └─ 10\n",
      "└─ quote\n",
      "       \u001b[90m#= In[28]:2 =#\u001b[39m\n",
      "       x = (k * (k + 1)) ÷ 2\n",
      "       \u001b[90m#= In[28]:3 =#\u001b[39m\n",
      "       println(\"k(k+1)/2 = \", x)\n",
      "       \u001b[90m#= In[28]:4 =#\u001b[39m\n",
      "   end\n",
      "   ├─ :(\u001b[90m#= In[28]:2 =#\u001b[39m)\n",
      "   ├─ :(x = (k * (k + 1)) ÷ 2)\n",
      "   │  ├─ :x\n",
      "   │  └─ :((k * (k + 1)) ÷ 2)\n",
      "   │     ├─ :÷\n",
      "   │     ├─ :(k * (k + 1))\n",
      "   │     │  ├─ :*\n",
      "   │     │  ├─ :k\n",
      "   │     │  └─ :(k + 1)\n",
      "   │     │     ├─ :+\n",
      "   │     │     ├─ :k\n",
      "   │     │     └─ 1\n",
      "   │     └─ 2\n",
      "   ├─ :(\u001b[90m#= In[28]:3 =#\u001b[39m)\n",
      "   ├─ :(println(\"k(k+1)/2 = \", x))\n",
      "   │  ├─ :println\n",
      "   │  ├─ \"k(k+1)/2 = \"\n",
      "   │  └─ :x\n",
      "   └─ :(\u001b[90m#= In[28]:4 =#\u001b[39m)\n"
     ]
    }
   ],
   "source": [
    "@show_tree for k in 1:10\n",
    "    x = k*(k+1) ÷ 2\n",
    "    println(\"k(k+1)/2 = \", x)\n",
    "end 10 true"
   ]
  },
  {
   "cell_type": "code",
   "execution_count": 29,
   "metadata": {},
   "outputs": [
    {
     "name": "stdout",
     "output_type": "stream",
     "text": [
      "Expr\n",
      "  head: Symbol for\n",
      "  args: Array{Any}((2,))\n",
      "    1: Expr\n",
      "      head: Symbol =\n",
      "      args: Array{Any}((2,))\n",
      "        1: Symbol k\n",
      "        2: Expr\n",
      "          head: Symbol call\n",
      "          args: Array{Any}((3,))\n",
      "            1: Symbol :\n",
      "            2: Int64 1\n",
      "            3: Int64 10\n",
      "    2: Expr\n",
      "      head: Symbol block\n",
      "      args: Array{Any}((5,))\n",
      "        1: LineNumberNode\n",
      "          line: Int64 2\n",
      "          file: Symbol In[29]\n",
      "        2: Expr\n",
      "          head: Symbol =\n",
      "          args: Array{Any}((2,))\n",
      "            1: Symbol x\n",
      "            2: Expr\n",
      "              head: Symbol call\n",
      "              args: Array{Any}((3,))\n",
      "                1: Symbol ÷\n",
      "                2: Expr\n",
      "                3: Int64 2\n",
      "        3: LineNumberNode\n",
      "          line: Int64 3\n",
      "          file: Symbol In[29]\n",
      "        4: Expr\n",
      "          head: Symbol call\n",
      "          args: Array{Any}((3,))\n",
      "            1: Symbol println\n",
      "            2: String \"k(k+1)/2 = \"\n",
      "            3: Symbol x\n",
      "        5: LineNumberNode\n",
      "          line: Int64 4\n",
      "          file: Symbol In[29]\n"
     ]
    }
   ],
   "source": [
    "Meta.@dump for k in 1:10\n",
    "    x = k*(k+1) ÷ 2\n",
    "    println(\"k(k+1)/2 = \", x)\n",
    "end"
   ]
  },
  {
   "cell_type": "code",
   "execution_count": 30,
   "metadata": {
    "tags": []
   },
   "outputs": [
    {
     "name": "stdout",
     "output_type": "stream",
     "text": [
      "Expr(:for, \n",
      "    Expr(:(=), :k, \n",
      "        Expr(:call, :(:), 1, 10)), \n",
      "    Expr(:block, \n",
      "        Expr(:(=), :x, \n",
      "            Expr(:call, :÷, \n",
      "                Expr(:call, :*, :k, \n",
      "                    Expr(:call, :+, :k, 1)), 2)), \n",
      "        Expr(:call, :println, \"k(k+1)/2 = \", :x)))"
     ]
    }
   ],
   "source": [
    "@show_expr for k in 1:10\n",
    "    x = k*(k+1) ÷ 2\n",
    "    println(\"k(k+1)/2 = \", x)\n",
    "end"
   ]
  },
  {
   "cell_type": "code",
   "execution_count": 31,
   "metadata": {
    "tags": []
   },
   "outputs": [
    {
     "name": "stdout",
     "output_type": "stream",
     "text": [
      "(:for, \n",
      "    (:(=), :k, \n",
      "        (:call, :(:), 1, 10)), \n",
      "    (:block, \n",
      "        (:(=), :x, \n",
      "            (:call, :÷, \n",
      "                (:call, :*, :k, \n",
      "                    (:call, :+, :k, 1)), 2)), \n",
      "        (:call, :println, \"k(k+1)/2 = \", :x)))"
     ]
    }
   ],
   "source": [
    "@show_texpr for k in 1:10\n",
    "    x = k*(k+1) ÷ 2\n",
    "    println(\"k(k+1)/2 = \", x)\n",
    "end"
   ]
  },
  {
   "cell_type": "markdown",
   "metadata": {},
   "source": [
    "### subtype trees"
   ]
  },
  {
   "cell_type": "code",
   "execution_count": 32,
   "metadata": {},
   "outputs": [
    {
     "name": "stdout",
     "output_type": "stream",
     "text": [
      "AbstractRange\n",
      "├─ LinRange\n",
      "├─ OrdinalRange\n",
      "│  ├─ AbstractUnitRange\n",
      "│  │  ├─ Base.IdentityUnitRange\n",
      "│  │  ├─ Base.OneTo\n",
      "│  │  ├─ Base.Slice\n",
      "│  │  └─ UnitRange\n",
      "│  └─ StepRange\n",
      "└─ StepRangeLen\n"
     ]
    }
   ],
   "source": [
    "print_subtypes(AbstractRange)"
   ]
  },
  {
   "cell_type": "code",
   "execution_count": 33,
   "metadata": {},
   "outputs": [
    {
     "name": "stdout",
     "output_type": "stream",
     "text": [
      "Number\n",
      "├─ Base.MultiplicativeInverses.MultiplicativeInverse\n",
      "│  ├─ Base.MultiplicativeInverses.SignedMultiplicativeInverse\n",
      "│  └─ Base.MultiplicativeInverses.UnsignedMultiplicativeInverse\n",
      "├─ Complex\n",
      "└─ Real\n",
      "   ├─ AbstractFloat\n",
      "   │  ├─ BigFloat\n",
      "   │  ├─ Float16\n",
      "   │  ├─ Float32\n",
      "   │  └─ Float64\n",
      "   ├─ AbstractIrrational\n",
      "   │  └─ Irrational\n",
      "   ├─ Integer\n",
      "   │  ├─ Bool\n",
      "   │  ├─ Signed\n",
      "   │  │  ├─ BigInt\n",
      "   │  │  ├─ Int128\n",
      "   │  │  ├─ Int16\n",
      "   │  │  ├─ Int32\n",
      "   │  │  ├─ Int64\n",
      "   │  │  └─ Int8\n",
      "   │  └─ Unsigned\n",
      "   │     ├─ UInt128\n",
      "   │     ├─ UInt16\n",
      "   │     ├─ UInt32\n",
      "   │     ├─ UInt64\n",
      "   │     └─ UInt8\n",
      "   └─ Rational\n"
     ]
    }
   ],
   "source": [
    "print_subtypes(Number)"
   ]
  },
  {
   "cell_type": "code",
   "execution_count": 34,
   "metadata": {},
   "outputs": [
    {
     "name": "stdout",
     "output_type": "stream",
     "text": [
      "AbstractVector\n",
      "├─ AbstractRange\n",
      "│  ├─ LinRange\n",
      "│  ├─ OrdinalRange\n",
      "│  │  ├─ AbstractUnitRange\n",
      "│  │  │  ├─ Base.IdentityUnitRange\n",
      "│  │  │  ├─ Base.OneTo\n",
      "│  │  │  ├─ Base.Slice\n",
      "│  │  │  └─ UnitRange\n",
      "│  │  └─ StepRange\n",
      "│  └─ StepRangeLen\n",
      "├─ AbstractSlices{T, 1} where T\n",
      "│  └─ Slices{P, SM, AX, S, 1} where {P, SM, AX, S}\n",
      "├─ Base.ExceptionStack\n",
      "├─ Base.LogicalIndex\n",
      "├─ Base.MethodList\n",
      "├─ Base.ReinterpretArray{T, 1, S} where {T, S}\n",
      "├─ Base.ReshapedArray{T, 1} where T\n",
      "├─ Base.Sort.WithoutMissingVector\n",
      "├─ BitVector\n",
      "├─ CartesianIndices{1, R} where R<:Tuple{OrdinalRange{Int64, Int64}}\n",
      "├─ Core.Compiler.AbstractRange\n",
      "│  ├─ Core.Compiler.LinRange\n",
      "│  ├─ Core.Compiler.OrdinalRange\n",
      "│  │  ├─ Core.Compiler.AbstractUnitRange\n",
      "│  │  │  ├─ Core.Compiler.IdentityUnitRange\n",
      "│  │  │  ├─ Core.Compiler.OneTo\n",
      "│  │  │  ├─ Core.Compiler.Slice\n",
      "│  │  │  ├─ Core.Compiler.StmtRange\n",
      "│  │  │  └─ Core.Compiler.UnitRange\n",
      "│  │  └─ Core.Compiler.StepRange\n",
      "│  └─ Core.Compiler.StepRangeLen\n",
      "├─ Core.Compiler.BitArray{1}\n",
      "├─ Core.Compiler.ExceptionStack\n",
      "├─ Core.Compiler.LinearIndices{1, R} where R<:Tuple{Core.Compiler.AbstractUnitRange{Int64}}\n",
      "├─ Core.Compiler.MethodList\n",
      "├─ Core.Compiler.TwoPhaseDefUseMap\n",
      "├─ Core.Compiler.TwoPhaseVectorView\n",
      "├─ DenseVector\n",
      "│  ├─ Base.CodeUnits\n",
      "│  ├─ Base.Experimental.Const{T, 1} where T\n",
      "│  ├─ Random.UnsafeView\n",
      "│  └─ Vector\n",
      "├─ LinearIndices{1, R} where R<:Tuple{AbstractUnitRange{Int64}}\n",
      "├─ PermutedDimsArray{T, 1} where T\n",
      "├─ SubArray{T, 1} where T\n",
      "└─ ZMQ.Message\n"
     ]
    }
   ],
   "source": [
    "print_subtypes(AbstractVector)"
   ]
  },
  {
   "cell_type": "markdown",
   "metadata": {},
   "source": [
    "### function definition"
   ]
  },
  {
   "cell_type": "code",
   "execution_count": 35,
   "metadata": {},
   "outputs": [
    {
     "name": "stdout",
     "output_type": "stream",
     "text": [
      "(:function, \n",
      "    (:where, \n",
      "        (:call, :f, \n",
      "            (:(::), :x, :T)), \n",
      "        (:<:, :T, :Number)), \n",
      "    (:block, \n",
      "        (:call, :sin, :x)))"
     ]
    }
   ],
   "source": [
    "@show_texpr function f(x::T) where T<:Number\n",
    "    sin(x)\n",
    "end"
   ]
  },
  {
   "cell_type": "code",
   "execution_count": 36,
   "metadata": {},
   "outputs": [
    {
     "name": "stdout",
     "output_type": "stream",
     "text": [
      ":(function f(x::T) where T <: Number\n",
      "      sin(x)\n",
      "  end)\n",
      "├─ :(f(x::T) where T <: Number)\n",
      "│  ├─ :(f(x::T))\n",
      "│  │  ├─ :f\n",
      "│  │  └─ :(x::T)\n",
      "│  │     ├─ :x\n",
      "│  │     └─ :T\n",
      "│  └─ :(T <: Number)\n",
      "│     ├─ :T\n",
      "│     └─ :Number\n",
      "└─ quote\n",
      "       sin(x)\n",
      "   end\n",
      "   └─ :(sin(x))\n",
      "      ├─ :sin\n",
      "      └─ :x\n"
     ]
    }
   ],
   "source": [
    "@show_tree function f(x::T) where T<:Number\n",
    "    sin(x)\n",
    "end"
   ]
  },
  {
   "cell_type": "code",
   "execution_count": 37,
   "metadata": {},
   "outputs": [
    {
     "name": "stdout",
     "output_type": "stream",
     "text": [
      "Expr(:function, \n",
      "    Expr(:where, \n",
      "        Expr(:call, :f, \n",
      "            Expr(:(::), :x, :T)), \n",
      "        Expr(:<:, :T, :Number)), \n",
      "    Expr(:block, \n",
      "        Expr(:call, :sin, :x)))"
     ]
    }
   ],
   "source": [
    "@show_expr function f(x::T) where T<:Number\n",
    "    sin(x)\n",
    "end"
   ]
  },
  {
   "cell_type": "code",
   "execution_count": 38,
   "metadata": {},
   "outputs": [
    {
     "name": "stdout",
     "output_type": "stream",
     "text": [
      "(:function, \n",
      "    (:where, \n",
      "        (:call, :f, \n",
      "            (:(::), :x, :T)), \n",
      "        (:<:, :T, :Number)), \n",
      "    (:block, \n",
      "        (:call, :sin, :x)))"
     ]
    }
   ],
   "source": [
    "@show_texpr function f(x::T) where T<:Number\n",
    "    sin(x)\n",
    "end"
   ]
  },
  {
   "cell_type": "markdown",
   "metadata": {},
   "source": [
    "### macro and LineNumberNode"
   ]
  },
  {
   "cell_type": "code",
   "execution_count": 39,
   "metadata": {},
   "outputs": [
    {
     "name": "stdout",
     "output_type": "stream",
     "text": [
      ":(\u001b[90m#= In[39]:1 =#\u001b[39m @show float(π))\n",
      "├─ Symbol(\"@show\")\n",
      "├─ :(\u001b[90m#= In[39]:1 =#\u001b[39m)\n",
      "└─ :(float(π))\n",
      "   ├─ :float\n",
      "   └─ :π\n"
     ]
    }
   ],
   "source": [
    "@show_tree @show float(π)"
   ]
  },
  {
   "cell_type": "code",
   "execution_count": 40,
   "metadata": {},
   "outputs": [
    {
     "name": "stdout",
     "output_type": "stream",
     "text": [
      "(:macrocall, Symbol(\"@show\"), :(\u001b[90m#= In[40]:1 =#\u001b[39m), (:call, :float, :π))"
     ]
    }
   ],
   "source": [
    "@show_sexpr @show float(π)"
   ]
  },
  {
   "cell_type": "code",
   "execution_count": 41,
   "metadata": {},
   "outputs": [
    {
     "name": "stdout",
     "output_type": "stream",
     "text": [
      "float(π) = 3.141592653589793\n"
     ]
    },
    {
     "data": {
      "text/plain": [
       "3.141592653589793"
      ]
     },
     "execution_count": 41,
     "metadata": {},
     "output_type": "execute_result"
    }
   ],
   "source": [
    "@teval (:macrocall, Symbol(\"@show\"), :(#= In[34]:1 =#), (:call, :float, :π))"
   ]
  },
  {
   "cell_type": "code",
   "execution_count": 42,
   "metadata": {},
   "outputs": [
    {
     "name": "stdout",
     "output_type": "stream",
     "text": [
      "Expr(:macrocall, Symbol(\"@show\"), LineNumberNode(1, Symbol(\"In[42]\")), \n",
      "    Expr(:call, :float, :π))"
     ]
    }
   ],
   "source": [
    "@show_expr @show float(π)"
   ]
  },
  {
   "cell_type": "code",
   "execution_count": 43,
   "metadata": {},
   "outputs": [
    {
     "name": "stdout",
     "output_type": "stream",
     "text": [
      "Expr(:macrocall, Symbol(\"@show\"), LineNumberNode(1, Symbol(\"In[43]\")), \n",
      "    Expr(:call, :float, :π))"
     ]
    }
   ],
   "source": [
    "Expr(:macrocall, Symbol(\"@show\"), LineNumberNode(@__LINE__, @__FILE__), \n",
    "    Expr(:call, :float, :π)) |> show_expr"
   ]
  },
  {
   "cell_type": "code",
   "execution_count": 44,
   "metadata": {},
   "outputs": [
    {
     "name": "stdout",
     "output_type": "stream",
     "text": [
      "float(π) = 3.141592653589793\n"
     ]
    },
    {
     "data": {
      "text/plain": [
       "3.141592653589793"
      ]
     },
     "execution_count": 44,
     "metadata": {},
     "output_type": "execute_result"
    }
   ],
   "source": [
    "Expr(:macrocall, Symbol(\"@show\"), LineNumberNode(@__LINE__, @__FILE__), \n",
    "    Expr(:call, :float, :π)) |> eval"
   ]
  },
  {
   "cell_type": "code",
   "execution_count": 45,
   "metadata": {},
   "outputs": [
    {
     "name": "stdout",
     "output_type": "stream",
     "text": [
      "(:macrocall, Symbol(\"@show\"), LineNumberNode(1, Symbol(\"In[45]\")), \n",
      "    (:call, :float, :π))"
     ]
    }
   ],
   "source": [
    "@show_texpr @show float(π)"
   ]
  },
  {
   "cell_type": "code",
   "execution_count": 46,
   "metadata": {},
   "outputs": [
    {
     "name": "stdout",
     "output_type": "stream",
     "text": [
      "float(π) = 3.141592653589793\n"
     ]
    },
    {
     "data": {
      "text/plain": [
       "3.141592653589793"
      ]
     },
     "execution_count": 46,
     "metadata": {},
     "output_type": "execute_result"
    }
   ],
   "source": [
    "(:macrocall, Symbol(\"@show\"), LineNumberNode(@__LINE__, @__FILE__), \n",
    "    (:call, :float, :π)) |> teval"
   ]
  },
  {
   "cell_type": "code",
   "execution_count": 47,
   "metadata": {},
   "outputs": [
    {
     "name": "stdout",
     "output_type": "stream",
     "text": [
      "float(π) = 3.141592653589793\n"
     ]
    },
    {
     "data": {
      "text/plain": [
       "3.141592653589793"
      ]
     },
     "execution_count": 47,
     "metadata": {},
     "output_type": "execute_result"
    }
   ],
   "source": [
    "@teval (:macrocall, Symbol(\"@show\"), LineNumberNode(@__LINE__, @__FILE__),  \n",
    "    (:call, :float, :π))"
   ]
  },
  {
   "cell_type": "markdown",
   "metadata": {},
   "source": [
    "### QuoteNode"
   ]
  },
  {
   "cell_type": "code",
   "execution_count": 48,
   "metadata": {},
   "outputs": [
    {
     "data": {
      "text/plain": [
       ":($(QuoteNode(:(sin(x)))))"
      ]
     },
     "execution_count": 48,
     "metadata": {},
     "output_type": "execute_result"
    }
   ],
   "source": [
    "QuoteNode(:(sin(x)))"
   ]
  },
  {
   "cell_type": "code",
   "execution_count": 49,
   "metadata": {},
   "outputs": [
    {
     "name": "stdout",
     "output_type": "stream",
     "text": [
      "(:quote, #QuoteNode\n",
      "  (:call, :sin, :x)\n",
      ")"
     ]
    }
   ],
   "source": [
    "QuoteNode(:(sin(x))) |> Meta.show_sexpr"
   ]
  },
  {
   "cell_type": "code",
   "execution_count": 50,
   "metadata": {},
   "outputs": [
    {
     "name": "stdout",
     "output_type": "stream",
     "text": [
      "QuoteNode(\n",
      "    Expr(:call, :sin, :x))"
     ]
    }
   ],
   "source": [
    "QuoteNode(:(sin(x))) |> show_expr"
   ]
  },
  {
   "cell_type": "code",
   "execution_count": 51,
   "metadata": {},
   "outputs": [
    {
     "name": "stdout",
     "output_type": "stream",
     "text": [
      "QuoteNode(\n",
      "    (:call, :sin, :x))"
     ]
    }
   ],
   "source": [
    "QuoteNode(:(sin(x))) |> show_texpr"
   ]
  },
  {
   "cell_type": "code",
   "execution_count": 52,
   "metadata": {},
   "outputs": [
    {
     "data": {
      "text/plain": [
       "true"
      ]
     },
     "execution_count": 52,
     "metadata": {},
     "output_type": "execute_result"
    }
   ],
   "source": [
    "QuoteNode(\n",
    "    (:call, :sin, :x)) |> texpr2expr == QuoteNode(:(sin(x)))"
   ]
  },
  {
   "cell_type": "code",
   "execution_count": 53,
   "metadata": {},
   "outputs": [
    {
     "data": {
      "text/plain": [
       ":(sin(x))"
      ]
     },
     "execution_count": 53,
     "metadata": {},
     "output_type": "execute_result"
    }
   ],
   "source": [
    "@teval QuoteNode(\n",
    "    (:call, :sin, :x))"
   ]
  },
  {
   "cell_type": "markdown",
   "metadata": {},
   "source": [
    "## Evaluation of Lisp-like tuple expressions\n",
    "\n",
    "If you want more Lisp-like examamples, see [LispLikeEval.ipynb](https://nbviewer.jupyter.org/github/genkuroki/LispLikeEval.jl/blob/master/LispLikeEval.ipynb)."
   ]
  },
  {
   "cell_type": "code",
   "execution_count": 54,
   "metadata": {},
   "outputs": [],
   "source": [
    "using MetaUtils: @t, @T"
   ]
  },
  {
   "cell_type": "code",
   "execution_count": 55,
   "metadata": {},
   "outputs": [
    {
     "name": "stdout",
     "output_type": "stream",
     "text": [
      ":(f(x) = sin(x))\n",
      "→ f\n",
      "\n",
      ":(f(π / 6))\n",
      "→ 0.49999999999999994\n"
     ]
    }
   ],
   "source": [
    "# Define and run a function f(x) = sin(x)\n",
    "\n",
    "@t (:(=), :(f(x)), (:sin, :x))\n",
    "println()\n",
    "@t (:f, (:/, π, 6))"
   ]
  },
  {
   "cell_type": "code",
   "execution_count": 56,
   "metadata": {},
   "outputs": [
    {
     "name": "stdout",
     "output_type": "stream",
     "text": [
      "(:(=), :(f(x)), (:sin, :x))\n",
      "→ (:(=), \n",
      "    (:call, :f, :x), \n",
      "    (:call, :sin, :x))\n",
      "→ :(f(x) = sin(x))\n",
      "→ f\n",
      "\n",
      "(:f, (:/, π, 6))\n",
      "→ (:call, :f, \n",
      "    (:call, :/, π, 6))\n",
      "→ :(f(π / 6))\n",
      "→ 0.49999999999999994\n"
     ]
    }
   ],
   "source": [
    "# Define and run a function f(x) = sin(x)\n",
    "\n",
    "@T (:(=), :(f(x)), (:sin, :x))\n",
    "println()\n",
    "@T (:f, (:/, π, 6))"
   ]
  },
  {
   "cell_type": "code",
   "execution_count": 57,
   "metadata": {},
   "outputs": [
    {
     "name": "stdout",
     "output_type": "stream",
     "text": [
      "quote\n",
      "    function g(x)\n",
      "        sin(x)\n",
      "    end\n",
      "    g(π / 6)\n",
      "end\n",
      "→ 0.49999999999999994\n"
     ]
    }
   ],
   "source": [
    "# Define and run a function g(x) = sin(x)\n",
    "\n",
    "@t (:block,\n",
    "    (:function, :(g(x)), (:sin, :x)),\n",
    "    (:call, :g, (:/, π, 6)))"
   ]
  },
  {
   "cell_type": "code",
   "execution_count": 58,
   "metadata": {},
   "outputs": [
    {
     "name": "stdout",
     "output_type": "stream",
     "text": [
      "(:block, (:function, :(g(x)), (:sin, :x)), (:call, :g, (:/, π, 6)))\n",
      "→ (:block, \n",
      "    (:function, \n",
      "        (:call, :g, :x), \n",
      "        (:call, :sin, :x)), \n",
      "    (:call, :g, \n",
      "        (:call, :/, π, 6)))\n",
      "→ quote\n",
      "    function g(x)\n",
      "        sin(x)\n",
      "    end\n",
      "    g(π / 6)\n",
      "end\n",
      "→ 0.49999999999999994\n"
     ]
    }
   ],
   "source": [
    "# Define and run a function g(x) = sin(x)\n",
    "\n",
    "@T (:block,\n",
    "    (:function, :(g(x)), (:sin, :x)),\n",
    "    (:call, :g, (:/, π, 6)))"
   ]
  },
  {
   "cell_type": "code",
   "execution_count": 59,
   "metadata": {},
   "outputs": [
    {
     "name": "stdout",
     "output_type": "stream",
     "text": [
      "quote\n",
      "    function pi_mc(N)\n",
      "        c = 0\n",
      "        for i = 1:N\n",
      "            c += ifelse(rand() ^ 2 + rand() ^ 2 ≤ 1, 1, 0)\n",
      "        end\n",
      "        (4c) / N\n",
      "    end\n",
      "    pi_mc(10 ^ 8)\n",
      "end\n",
      "→ 3.1416148\n"
     ]
    }
   ],
   "source": [
    "# Calculation of pi by the Monte Carlo method\n",
    "\n",
    "@t (:block, \n",
    "    (:function, :(pi_mc(N)), \n",
    "        (:block, \n",
    "            (:(=), :c, 0), \n",
    "            (:for, (:(=), :i, (:(:), 1, :N)), \n",
    "                (:block, \n",
    "                    (:+=, :c, \n",
    "                        (:call, :ifelse, \n",
    "                            (:≤, (:+, (:^, (:rand,), 2), (:^, (:rand,), 2)), 1), \n",
    "                            1, 0)))), \n",
    "            (:/, (:*, 4, :c), :N))), \n",
    "    (:call, :pi_mc, (:^, 10, 8)))"
   ]
  },
  {
   "cell_type": "code",
   "execution_count": 60,
   "metadata": {},
   "outputs": [
    {
     "name": "stdout",
     "output_type": "stream",
     "text": [
      ":($(Expr(:quote, :(sin(x)))))\n",
      "→ :(sin(x))\n"
     ]
    }
   ],
   "source": [
    "# quote\n",
    "\n",
    "@t (:quote, (:sin, :x))"
   ]
  },
  {
   "cell_type": "code",
   "execution_count": 61,
   "metadata": {},
   "outputs": [
    {
     "name": "stdout",
     "output_type": "stream",
     "text": [
      ":((1, 2, 3))\n",
      "→ (1, 2, 3)\n"
     ]
    }
   ],
   "source": [
    "# tuple\n",
    "\n",
    "@t (:tuple, 1, 2, 3)"
   ]
  },
  {
   "cell_type": "markdown",
   "metadata": {},
   "source": [
    "## Plot example"
   ]
  },
  {
   "cell_type": "code",
   "execution_count": 62,
   "metadata": {},
   "outputs": [
    {
     "data": {
      "image/png": "[encoded data removed]",
      "image/svg+xml": [
       "<?xml version=\"1.0\" encoding=\"utf-8\"?>\n",
       "<svg xmlns=\"http://www.w3.org/2000/svg\" xmlns:xlink=\"http://www.w3.org/1999/xlink\" width=\"600\" height=\"400\" viewBox=\"0 0 2400 1600\">\n",
       "<defs>\n",
       "  <clipPath id=\"clip740\">\n",
       "    <rect x=\"0\" y=\"0\" width=\"2400\" height=\"1600\"/>\n",
       "  </clipPath>\n",
       "</defs>\n",
       "<path clip-path=\"url(#clip740)\" d=\"M0 1600 L2400 1600 L2400 0 L0 0  Z\" fill=\"#ffffff\" fill-rule=\"evenodd\" fill-opacity=\"1\"/>\n",
       "<defs>\n",
       "  <clipPath id=\"clip741\">\n",
       "    <rect x=\"480\" y=\"0\" width=\"1681\" height=\"1600\"/>\n",
       "  </clipPath>\n",
       "</defs>\n",
       "<path clip-path=\"url(#clip740)\" d=\"M193.936 1486.45 L2352.76 1486.45 L2352.76 47.2441 L193.936 47.2441  Z\" fill=\"#ffffff\" fill-rule=\"evenodd\" fill-opacity=\"1\"/>\n",
       "<defs>\n",
       "  <clipPath id=\"clip742\">\n",
       "    <rect x=\"193\" y=\"47\" width=\"2160\" height=\"1440\"/>\n",
       "  </clipPath>\n",
       "</defs>\n",
       "<polyline clip-path=\"url(#clip742)\" style=\"stroke:#000000; stroke-linecap:round; stroke-linejoin:round; stroke-width:2; stroke-opacity:0.1; fill:none\" points=\"300.93,1486.45 300.93,47.2441 \"/>\n",
       "<polyline clip-path=\"url(#clip742)\" style=\"stroke:#000000; stroke-linecap:round; stroke-linejoin:round; stroke-width:2; stroke-opacity:0.1; fill:none\" points=\"625.069,1486.45 625.069,47.2441 \"/>\n",
       "<polyline clip-path=\"url(#clip742)\" style=\"stroke:#000000; stroke-linecap:round; stroke-linejoin:round; stroke-width:2; stroke-opacity:0.1; fill:none\" points=\"949.207,1486.45 949.207,47.2441 \"/>\n",
       "<polyline clip-path=\"url(#clip742)\" style=\"stroke:#000000; stroke-linecap:round; stroke-linejoin:round; stroke-width:2; stroke-opacity:0.1; fill:none\" points=\"1273.35,1486.45 1273.35,47.2441 \"/>\n",
       "<polyline clip-path=\"url(#clip742)\" style=\"stroke:#000000; stroke-linecap:round; stroke-linejoin:round; stroke-width:2; stroke-opacity:0.1; fill:none\" points=\"1597.48,1486.45 1597.48,47.2441 \"/>\n",
       "<polyline clip-path=\"url(#clip742)\" style=\"stroke:#000000; stroke-linecap:round; stroke-linejoin:round; stroke-width:2; stroke-opacity:0.1; fill:none\" points=\"1921.62,1486.45 1921.62,47.2441 \"/>\n",
       "<polyline clip-path=\"url(#clip742)\" style=\"stroke:#000000; stroke-linecap:round; stroke-linejoin:round; stroke-width:2; stroke-opacity:0.1; fill:none\" points=\"2245.76,1486.45 2245.76,47.2441 \"/>\n",
       "<polyline clip-path=\"url(#clip742)\" style=\"stroke:#000000; stroke-linecap:round; stroke-linejoin:round; stroke-width:2; stroke-opacity:0.1; fill:none\" points=\"193.936,1325.18 2352.76,1325.18 \"/>\n",
       "<polyline clip-path=\"url(#clip742)\" style=\"stroke:#000000; stroke-linecap:round; stroke-linejoin:round; stroke-width:2; stroke-opacity:0.1; fill:none\" points=\"193.936,1070.82 2352.76,1070.82 \"/>\n",
       "<polyline clip-path=\"url(#clip742)\" style=\"stroke:#000000; stroke-linecap:round; stroke-linejoin:round; stroke-width:2; stroke-opacity:0.1; fill:none\" points=\"193.936,816.452 2352.76,816.452 \"/>\n",
       "<polyline clip-path=\"url(#clip742)\" style=\"stroke:#000000; stroke-linecap:round; stroke-linejoin:round; stroke-width:2; stroke-opacity:0.1; fill:none\" points=\"193.936,562.087 2352.76,562.087 \"/>\n",
       "<polyline clip-path=\"url(#clip742)\" style=\"stroke:#000000; stroke-linecap:round; stroke-linejoin:round; stroke-width:2; stroke-opacity:0.1; fill:none\" points=\"193.936,307.722 2352.76,307.722 \"/>\n",
       "<polyline clip-path=\"url(#clip742)\" style=\"stroke:#000000; stroke-linecap:round; stroke-linejoin:round; stroke-width:2; stroke-opacity:0.1; fill:none\" points=\"193.936,53.3571 2352.76,53.3571 \"/>\n",
       "<polyline clip-path=\"url(#clip740)\" style=\"stroke:#000000; stroke-linecap:round; stroke-linejoin:round; stroke-width:4; stroke-opacity:1; fill:none\" points=\"193.936,1486.45 2352.76,1486.45 \"/>\n",
       "<polyline clip-path=\"url(#clip740)\" style=\"stroke:#000000; stroke-linecap:round; stroke-linejoin:round; stroke-width:4; stroke-opacity:1; fill:none\" points=\"300.93,1486.45 300.93,1467.55 \"/>\n",
       "<polyline clip-path=\"url(#clip740)\" style=\"stroke:#000000; stroke-linecap:round; stroke-linejoin:round; stroke-width:4; stroke-opacity:1; fill:none\" points=\"625.069,1486.45 625.069,1467.55 \"/>\n",
       "<polyline clip-path=\"url(#clip740)\" style=\"stroke:#000000; stroke-linecap:round; stroke-linejoin:round; stroke-width:4; stroke-opacity:1; fill:none\" points=\"949.207,1486.45 949.207,1467.55 \"/>\n",
       "<polyline clip-path=\"url(#clip740)\" style=\"stroke:#000000; stroke-linecap:round; stroke-linejoin:round; stroke-width:4; stroke-opacity:1; fill:none\" points=\"1273.35,1486.45 1273.35,1467.55 \"/>\n",
       "<polyline clip-path=\"url(#clip740)\" style=\"stroke:#000000; stroke-linecap:round; stroke-linejoin:round; stroke-width:4; stroke-opacity:1; fill:none\" points=\"1597.48,1486.45 1597.48,1467.55 \"/>\n",
       "<polyline clip-path=\"url(#clip740)\" style=\"stroke:#000000; stroke-linecap:round; stroke-linejoin:round; stroke-width:4; stroke-opacity:1; fill:none\" points=\"1921.62,1486.45 1921.62,1467.55 \"/>\n",
       "<polyline clip-path=\"url(#clip740)\" style=\"stroke:#000000; stroke-linecap:round; stroke-linejoin:round; stroke-width:4; stroke-opacity:1; fill:none\" points=\"2245.76,1486.45 2245.76,1467.55 \"/>\n",
       "<path clip-path=\"url(#clip740)\" d=\"M270.398 1532.02 L300.074 1532.02 L300.074 1535.95 L270.398 1535.95 L270.398 1532.02 Z\" fill=\"#000000\" fill-rule=\"nonzero\" fill-opacity=\"1\" /><path clip-path=\"url(#clip740)\" d=\"M324.333 1530.21 Q327.689 1530.93 329.564 1533.2 Q331.463 1535.47 331.463 1538.8 Q331.463 1543.92 327.944 1546.72 Q324.426 1549.52 317.944 1549.52 Q315.768 1549.52 313.453 1549.08 Q311.162 1548.66 308.708 1547.81 L308.708 1543.29 Q310.652 1544.43 312.967 1545.01 Q315.282 1545.58 317.805 1545.58 Q322.203 1545.58 324.495 1543.85 Q326.81 1542.11 326.81 1538.8 Q326.81 1535.75 324.657 1534.03 Q322.527 1532.3 318.708 1532.3 L314.68 1532.3 L314.68 1528.45 L318.893 1528.45 Q322.342 1528.45 324.171 1527.09 Q326 1525.7 326 1523.11 Q326 1520.45 324.101 1519.03 Q322.226 1517.6 318.708 1517.6 Q316.787 1517.6 314.588 1518.01 Q312.389 1518.43 309.75 1519.31 L309.75 1515.14 Q312.412 1514.4 314.727 1514.03 Q317.064 1513.66 319.125 1513.66 Q324.449 1513.66 327.551 1516.09 Q330.652 1518.5 330.652 1522.62 Q330.652 1525.49 329.009 1527.48 Q327.365 1529.45 324.333 1530.21 Z\" fill=\"#000000\" fill-rule=\"nonzero\" fill-opacity=\"1\" /><path clip-path=\"url(#clip740)\" d=\"M595.011 1532.02 L624.687 1532.02 L624.687 1535.95 L595.011 1535.95 L595.011 1532.02 Z\" fill=\"#000000\" fill-rule=\"nonzero\" fill-opacity=\"1\" /><path clip-path=\"url(#clip740)\" d=\"M638.807 1544.91 L655.127 1544.91 L655.127 1548.85 L633.182 1548.85 L633.182 1544.91 Q635.844 1542.16 640.428 1537.53 Q645.034 1532.88 646.215 1531.53 Q648.46 1529.01 649.34 1527.27 Q650.242 1525.51 650.242 1523.82 Q650.242 1521.07 648.298 1519.33 Q646.377 1517.6 643.275 1517.6 Q641.076 1517.6 638.622 1518.36 Q636.191 1519.13 633.414 1520.68 L633.414 1515.95 Q636.238 1514.82 638.691 1514.24 Q641.145 1513.66 643.182 1513.66 Q648.553 1513.66 651.747 1516.35 Q654.941 1519.03 654.941 1523.52 Q654.941 1525.65 654.131 1527.57 Q653.344 1529.47 651.238 1532.07 Q650.659 1532.74 647.557 1535.95 Q644.455 1539.15 638.807 1544.91 Z\" fill=\"#000000\" fill-rule=\"nonzero\" fill-opacity=\"1\" /><path clip-path=\"url(#clip740)\" d=\"M918.965 1532.02 L948.64 1532.02 L948.64 1535.95 L918.965 1535.95 L918.965 1532.02 Z\" fill=\"#000000\" fill-rule=\"nonzero\" fill-opacity=\"1\" /><path clip-path=\"url(#clip740)\" d=\"M959.543 1544.91 L967.182 1544.91 L967.182 1518.55 L958.872 1520.21 L958.872 1515.95 L967.136 1514.29 L971.811 1514.29 L971.811 1544.91 L979.45 1544.91 L979.45 1548.85 L959.543 1548.85 L959.543 1544.91 Z\" fill=\"#000000\" fill-rule=\"nonzero\" fill-opacity=\"1\" /><path clip-path=\"url(#clip740)\" d=\"M1273.35 1517.37 Q1269.73 1517.37 1267.91 1520.93 Q1266.1 1524.47 1266.1 1531.6 Q1266.1 1538.71 1267.91 1542.27 Q1269.73 1545.82 1273.35 1545.82 Q1276.98 1545.82 1278.79 1542.27 Q1280.61 1538.71 1280.61 1531.6 Q1280.61 1524.47 1278.79 1520.93 Q1276.98 1517.37 1273.35 1517.37 M1273.35 1513.66 Q1279.16 1513.66 1282.21 1518.27 Q1285.29 1522.85 1285.29 1531.6 Q1285.29 1540.33 1282.21 1544.94 Q1279.16 1549.52 1273.35 1549.52 Q1267.54 1549.52 1264.46 1544.94 Q1261.4 1540.33 1261.4 1531.6 Q1261.4 1522.85 1264.46 1518.27 Q1267.54 1513.66 1273.35 1513.66 Z\" fill=\"#000000\" fill-rule=\"nonzero\" fill-opacity=\"1\" /><path clip-path=\"url(#clip740)\" d=\"M1587.87 1544.91 L1595.51 1544.91 L1595.51 1518.55 L1587.2 1520.21 L1587.2 1515.95 L1595.46 1514.29 L1600.13 1514.29 L1600.13 1544.91 L1607.77 1544.91 L1607.77 1548.85 L1587.87 1548.85 L1587.87 1544.91 Z\" fill=\"#000000\" fill-rule=\"nonzero\" fill-opacity=\"1\" /><path clip-path=\"url(#clip740)\" d=\"M1916.28 1544.91 L1932.6 1544.91 L1932.6 1548.85 L1910.65 1548.85 L1910.65 1544.91 Q1913.31 1542.16 1917.9 1537.53 Q1922.5 1532.88 1923.68 1531.53 Q1925.93 1529.01 1926.81 1527.27 Q1927.71 1525.51 1927.71 1523.82 Q1927.71 1521.07 1925.77 1519.33 Q1923.85 1517.6 1920.74 1517.6 Q1918.54 1517.6 1916.09 1518.36 Q1913.66 1519.13 1910.88 1520.68 L1910.88 1515.95 Q1913.71 1514.82 1916.16 1514.24 Q1918.61 1513.66 1920.65 1513.66 Q1926.02 1513.66 1929.22 1516.35 Q1932.41 1519.03 1932.41 1523.52 Q1932.41 1525.65 1931.6 1527.57 Q1930.81 1529.47 1928.71 1532.07 Q1928.13 1532.74 1925.03 1535.95 Q1921.92 1539.15 1916.28 1544.91 Z\" fill=\"#000000\" fill-rule=\"nonzero\" fill-opacity=\"1\" /><path clip-path=\"url(#clip740)\" d=\"M2250.01 1530.21 Q2253.37 1530.93 2255.24 1533.2 Q2257.14 1535.47 2257.14 1538.8 Q2257.14 1543.92 2253.62 1546.72 Q2250.1 1549.52 2243.62 1549.52 Q2241.44 1549.52 2239.13 1549.08 Q2236.84 1548.66 2234.38 1547.81 L2234.38 1543.29 Q2236.33 1544.43 2238.64 1545.01 Q2240.96 1545.58 2243.48 1545.58 Q2247.88 1545.58 2250.17 1543.85 Q2252.49 1542.11 2252.49 1538.8 Q2252.49 1535.75 2250.33 1534.03 Q2248.2 1532.3 2244.38 1532.3 L2240.36 1532.3 L2240.36 1528.45 L2244.57 1528.45 Q2248.02 1528.45 2249.85 1527.09 Q2251.68 1525.7 2251.68 1523.11 Q2251.68 1520.45 2249.78 1519.03 Q2247.9 1517.6 2244.38 1517.6 Q2242.46 1517.6 2240.26 1518.01 Q2238.06 1518.43 2235.43 1519.31 L2235.43 1515.14 Q2238.09 1514.4 2240.4 1514.03 Q2242.74 1513.66 2244.8 1513.66 Q2250.12 1513.66 2253.23 1516.09 Q2256.33 1518.5 2256.33 1522.62 Q2256.33 1525.49 2254.69 1527.48 Q2253.04 1529.45 2250.01 1530.21 Z\" fill=\"#000000\" fill-rule=\"nonzero\" fill-opacity=\"1\" /><polyline clip-path=\"url(#clip740)\" style=\"stroke:#000000; stroke-linecap:round; stroke-linejoin:round; stroke-width:4; stroke-opacity:1; fill:none\" points=\"193.936,1486.45 193.936,47.2441 \"/>\n",
       "<polyline clip-path=\"url(#clip740)\" style=\"stroke:#000000; stroke-linecap:round; stroke-linejoin:round; stroke-width:4; stroke-opacity:1; fill:none\" points=\"193.936,1325.18 212.834,1325.18 \"/>\n",
       "<polyline clip-path=\"url(#clip740)\" style=\"stroke:#000000; stroke-linecap:round; stroke-linejoin:round; stroke-width:4; stroke-opacity:1; fill:none\" points=\"193.936,1070.82 212.834,1070.82 \"/>\n",
       "<polyline clip-path=\"url(#clip740)\" style=\"stroke:#000000; stroke-linecap:round; stroke-linejoin:round; stroke-width:4; stroke-opacity:1; fill:none\" points=\"193.936,816.452 212.834,816.452 \"/>\n",
       "<polyline clip-path=\"url(#clip740)\" style=\"stroke:#000000; stroke-linecap:round; stroke-linejoin:round; stroke-width:4; stroke-opacity:1; fill:none\" points=\"193.936,562.087 212.834,562.087 \"/>\n",
       "<polyline clip-path=\"url(#clip740)\" style=\"stroke:#000000; stroke-linecap:round; stroke-linejoin:round; stroke-width:4; stroke-opacity:1; fill:none\" points=\"193.936,307.722 212.834,307.722 \"/>\n",
       "<polyline clip-path=\"url(#clip740)\" style=\"stroke:#000000; stroke-linecap:round; stroke-linejoin:round; stroke-width:4; stroke-opacity:1; fill:none\" points=\"193.936,53.3571 212.834,53.3571 \"/>\n",
       "<path clip-path=\"url(#clip740)\" d=\"M50.9921 1325.63 L80.6679 1325.63 L80.6679 1329.57 L50.9921 1329.57 L50.9921 1325.63 Z\" fill=\"#000000\" fill-rule=\"nonzero\" fill-opacity=\"1\" /><path clip-path=\"url(#clip740)\" d=\"M91.5706 1338.53 L99.2095 1338.53 L99.2095 1312.16 L90.8993 1313.83 L90.8993 1309.57 L99.1632 1307.9 L103.839 1307.9 L103.839 1338.53 L111.478 1338.53 L111.478 1342.46 L91.5706 1342.46 L91.5706 1338.53 Z\" fill=\"#000000\" fill-rule=\"nonzero\" fill-opacity=\"1\" /><path clip-path=\"url(#clip740)\" d=\"M120.922 1336.58 L125.807 1336.58 L125.807 1342.46 L120.922 1342.46 L120.922 1336.58 Z\" fill=\"#000000\" fill-rule=\"nonzero\" fill-opacity=\"1\" /><path clip-path=\"url(#clip740)\" d=\"M145.992 1310.98 Q142.381 1310.98 140.552 1314.55 Q138.746 1318.09 138.746 1325.22 Q138.746 1332.32 140.552 1335.89 Q142.381 1339.43 145.992 1339.43 Q149.626 1339.43 151.431 1335.89 Q153.26 1332.32 153.26 1325.22 Q153.26 1318.09 151.431 1314.55 Q149.626 1310.98 145.992 1310.98 M145.992 1307.28 Q151.802 1307.28 154.857 1311.88 Q157.936 1316.47 157.936 1325.22 Q157.936 1333.94 154.857 1338.55 Q151.802 1343.13 145.992 1343.13 Q140.181 1343.13 137.103 1338.55 Q134.047 1333.94 134.047 1325.22 Q134.047 1316.47 137.103 1311.88 Q140.181 1307.28 145.992 1307.28 Z\" fill=\"#000000\" fill-rule=\"nonzero\" fill-opacity=\"1\" /><path clip-path=\"url(#clip740)\" d=\"M51.9875 1071.27 L81.6633 1071.27 L81.6633 1075.2 L51.9875 1075.2 L51.9875 1071.27 Z\" fill=\"#000000\" fill-rule=\"nonzero\" fill-opacity=\"1\" /><path clip-path=\"url(#clip740)\" d=\"M101.756 1056.62 Q98.1447 1056.62 96.316 1060.18 Q94.5104 1063.72 94.5104 1070.85 Q94.5104 1077.96 96.316 1081.52 Q98.1447 1085.06 101.756 1085.06 Q105.39 1085.06 107.196 1081.52 Q109.024 1077.96 109.024 1070.85 Q109.024 1063.72 107.196 1060.18 Q105.39 1056.62 101.756 1056.62 M101.756 1052.91 Q107.566 1052.91 110.621 1057.52 Q113.7 1062.1 113.7 1070.85 Q113.7 1079.58 110.621 1084.19 Q107.566 1088.77 101.756 1088.77 Q95.9456 1088.77 92.8669 1084.19 Q89.8114 1079.58 89.8114 1070.85 Q89.8114 1062.1 92.8669 1057.52 Q95.9456 1052.91 101.756 1052.91 Z\" fill=\"#000000\" fill-rule=\"nonzero\" fill-opacity=\"1\" /><path clip-path=\"url(#clip740)\" d=\"M121.918 1082.22 L126.802 1082.22 L126.802 1088.1 L121.918 1088.1 L121.918 1082.22 Z\" fill=\"#000000\" fill-rule=\"nonzero\" fill-opacity=\"1\" /><path clip-path=\"url(#clip740)\" d=\"M137.033 1053.54 L155.39 1053.54 L155.39 1057.47 L141.316 1057.47 L141.316 1065.94 Q142.334 1065.6 143.353 1065.44 Q144.371 1065.25 145.39 1065.25 Q151.177 1065.25 154.556 1068.42 Q157.936 1071.59 157.936 1077.01 Q157.936 1082.59 154.464 1085.69 Q150.992 1088.77 144.672 1088.77 Q142.496 1088.77 140.228 1088.4 Q137.982 1088.03 135.575 1087.29 L135.575 1082.59 Q137.658 1083.72 139.881 1084.28 Q142.103 1084.83 144.58 1084.83 Q148.584 1084.83 150.922 1082.73 Q153.26 1080.62 153.26 1077.01 Q153.26 1073.4 150.922 1071.29 Q148.584 1069.19 144.58 1069.19 Q142.705 1069.19 140.83 1069.6 Q138.978 1070.02 137.033 1070.9 L137.033 1053.54 Z\" fill=\"#000000\" fill-rule=\"nonzero\" fill-opacity=\"1\" /><path clip-path=\"url(#clip740)\" d=\"M100.76 802.251 Q97.1493 802.251 95.3206 805.816 Q93.515 809.357 93.515 816.487 Q93.515 823.593 95.3206 827.158 Q97.1493 830.7 100.76 830.7 Q104.395 830.7 106.2 827.158 Q108.029 823.593 108.029 816.487 Q108.029 809.357 106.2 805.816 Q104.395 802.251 100.76 802.251 M100.76 798.547 Q106.571 798.547 109.626 803.154 Q112.705 807.737 112.705 816.487 Q112.705 825.214 109.626 829.82 Q106.571 834.403 100.76 834.403 Q94.9502 834.403 91.8715 829.82 Q88.816 825.214 88.816 816.487 Q88.816 807.737 91.8715 803.154 Q94.9502 798.547 100.76 798.547 Z\" fill=\"#000000\" fill-rule=\"nonzero\" fill-opacity=\"1\" /><path clip-path=\"url(#clip740)\" d=\"M120.922 827.852 L125.807 827.852 L125.807 833.732 L120.922 833.732 L120.922 827.852 Z\" fill=\"#000000\" fill-rule=\"nonzero\" fill-opacity=\"1\" /><path clip-path=\"url(#clip740)\" d=\"M145.992 802.251 Q142.381 802.251 140.552 805.816 Q138.746 809.357 138.746 816.487 Q138.746 823.593 140.552 827.158 Q142.381 830.7 145.992 830.7 Q149.626 830.7 151.431 827.158 Q153.26 823.593 153.26 816.487 Q153.26 809.357 151.431 805.816 Q149.626 802.251 145.992 802.251 M145.992 798.547 Q151.802 798.547 154.857 803.154 Q157.936 807.737 157.936 816.487 Q157.936 825.214 154.857 829.82 Q151.802 834.403 145.992 834.403 Q140.181 834.403 137.103 829.82 Q134.047 825.214 134.047 816.487 Q134.047 807.737 137.103 803.154 Q140.181 798.547 145.992 798.547 Z\" fill=\"#000000\" fill-rule=\"nonzero\" fill-opacity=\"1\" /><path clip-path=\"url(#clip740)\" d=\"M101.756 547.886 Q98.1447 547.886 96.316 551.451 Q94.5104 554.992 94.5104 562.122 Q94.5104 569.228 96.316 572.793 Q98.1447 576.335 101.756 576.335 Q105.39 576.335 107.196 572.793 Q109.024 569.228 109.024 562.122 Q109.024 554.992 107.196 551.451 Q105.39 547.886 101.756 547.886 M101.756 544.182 Q107.566 544.182 110.621 548.789 Q113.7 553.372 113.7 562.122 Q113.7 570.849 110.621 575.455 Q107.566 580.038 101.756 580.038 Q95.9456 580.038 92.8669 575.455 Q89.8114 570.849 89.8114 562.122 Q89.8114 553.372 92.8669 548.789 Q95.9456 544.182 101.756 544.182 Z\" fill=\"#000000\" fill-rule=\"nonzero\" fill-opacity=\"1\" /><path clip-path=\"url(#clip740)\" d=\"M121.918 573.487 L126.802 573.487 L126.802 579.367 L121.918 579.367 L121.918 573.487 Z\" fill=\"#000000\" fill-rule=\"nonzero\" fill-opacity=\"1\" /><path clip-path=\"url(#clip740)\" d=\"M137.033 544.807 L155.39 544.807 L155.39 548.742 L141.316 548.742 L141.316 557.214 Q142.334 556.867 143.353 556.705 Q144.371 556.52 145.39 556.52 Q151.177 556.52 154.556 559.691 Q157.936 562.863 157.936 568.279 Q157.936 573.858 154.464 576.96 Q150.992 580.038 144.672 580.038 Q142.496 580.038 140.228 579.668 Q137.982 579.298 135.575 578.557 L135.575 573.858 Q137.658 574.992 139.881 575.548 Q142.103 576.103 144.58 576.103 Q148.584 576.103 150.922 573.997 Q153.26 571.89 153.26 568.279 Q153.26 564.668 150.922 562.562 Q148.584 560.455 144.58 560.455 Q142.705 560.455 140.83 560.872 Q138.978 561.288 137.033 562.168 L137.033 544.807 Z\" fill=\"#000000\" fill-rule=\"nonzero\" fill-opacity=\"1\" /><path clip-path=\"url(#clip740)\" d=\"M91.5706 321.067 L99.2095 321.067 L99.2095 294.701 L90.8993 296.368 L90.8993 292.109 L99.1632 290.442 L103.839 290.442 L103.839 321.067 L111.478 321.067 L111.478 325.002 L91.5706 325.002 L91.5706 321.067 Z\" fill=\"#000000\" fill-rule=\"nonzero\" fill-opacity=\"1\" /><path clip-path=\"url(#clip740)\" d=\"M120.922 319.123 L125.807 319.123 L125.807 325.002 L120.922 325.002 L120.922 319.123 Z\" fill=\"#000000\" fill-rule=\"nonzero\" fill-opacity=\"1\" /><path clip-path=\"url(#clip740)\" d=\"M145.992 293.521 Q142.381 293.521 140.552 297.086 Q138.746 300.627 138.746 307.757 Q138.746 314.863 140.552 318.428 Q142.381 321.97 145.992 321.97 Q149.626 321.97 151.431 318.428 Q153.26 314.863 153.26 307.757 Q153.26 300.627 151.431 297.086 Q149.626 293.521 145.992 293.521 M145.992 289.817 Q151.802 289.817 154.857 294.424 Q157.936 299.007 157.936 307.757 Q157.936 316.484 154.857 321.09 Q151.802 325.673 145.992 325.673 Q140.181 325.673 137.103 321.09 Q134.047 316.484 134.047 307.757 Q134.047 299.007 137.103 294.424 Q140.181 289.817 145.992 289.817 Z\" fill=\"#000000\" fill-rule=\"nonzero\" fill-opacity=\"1\" /><path clip-path=\"url(#clip740)\" d=\"M92.566 66.702 L100.205 66.702 L100.205 40.3364 L91.8947 42.003 L91.8947 37.7438 L100.159 36.0771 L104.834 36.0771 L104.834 66.702 L112.473 66.702 L112.473 70.6371 L92.566 70.6371 L92.566 66.702 Z\" fill=\"#000000\" fill-rule=\"nonzero\" fill-opacity=\"1\" /><path clip-path=\"url(#clip740)\" d=\"M121.918 64.7575 L126.802 64.7575 L126.802 70.6371 L121.918 70.6371 L121.918 64.7575 Z\" fill=\"#000000\" fill-rule=\"nonzero\" fill-opacity=\"1\" /><path clip-path=\"url(#clip740)\" d=\"M137.033 36.0771 L155.39 36.0771 L155.39 40.0123 L141.316 40.0123 L141.316 48.4845 Q142.334 48.1373 143.353 47.9752 Q144.371 47.79 145.39 47.79 Q151.177 47.79 154.556 50.9613 Q157.936 54.1326 157.936 59.5492 Q157.936 65.1279 154.464 68.2297 Q150.992 71.3084 144.672 71.3084 Q142.496 71.3084 140.228 70.9381 Q137.982 70.5677 135.575 69.8269 L135.575 65.1279 Q137.658 66.2622 139.881 66.8177 Q142.103 67.3733 144.58 67.3733 Q148.584 67.3733 150.922 65.2668 Q153.26 63.1603 153.26 59.5492 Q153.26 55.9381 150.922 53.8317 Q148.584 51.7252 144.58 51.7252 Q142.705 51.7252 140.83 52.1419 Q138.978 52.5585 137.033 53.4381 L137.033 36.0771 Z\" fill=\"#000000\" fill-rule=\"nonzero\" fill-opacity=\"1\" /><circle clip-path=\"url(#clip742)\" cx=\"255.035\" cy=\"850.207\" r=\"14.4\" fill=\"#009af9\" fill-rule=\"evenodd\" fill-opacity=\"1\" stroke=\"#000000\" stroke-opacity=\"1\" stroke-width=\"3.2\"/>\n",
       "<circle clip-path=\"url(#clip742)\" cx=\"362.225\" cy=\"1087.85\" r=\"14.4\" fill=\"#009af9\" fill-rule=\"evenodd\" fill-opacity=\"1\" stroke=\"#000000\" stroke-opacity=\"1\" stroke-width=\"3.2\"/>\n",
       "<circle clip-path=\"url(#clip742)\" cx=\"469.416\" cy=\"1403.71\" r=\"14.4\" fill=\"#009af9\" fill-rule=\"evenodd\" fill-opacity=\"1\" stroke=\"#000000\" stroke-opacity=\"1\" stroke-width=\"3.2\"/>\n",
       "<circle clip-path=\"url(#clip742)\" cx=\"576.607\" cy=\"1162.4\" r=\"14.4\" fill=\"#009af9\" fill-rule=\"evenodd\" fill-opacity=\"1\" stroke=\"#000000\" stroke-opacity=\"1\" stroke-width=\"3.2\"/>\n",
       "<circle clip-path=\"url(#clip742)\" cx=\"683.797\" cy=\"1438.5\" r=\"14.4\" fill=\"#009af9\" fill-rule=\"evenodd\" fill-opacity=\"1\" stroke=\"#000000\" stroke-opacity=\"1\" stroke-width=\"3.2\"/>\n",
       "<circle clip-path=\"url(#clip742)\" cx=\"790.988\" cy=\"1238.64\" r=\"14.4\" fill=\"#009af9\" fill-rule=\"evenodd\" fill-opacity=\"1\" stroke=\"#000000\" stroke-opacity=\"1\" stroke-width=\"3.2\"/>\n",
       "<circle clip-path=\"url(#clip742)\" cx=\"898.179\" cy=\"1445.72\" r=\"14.4\" fill=\"#009af9\" fill-rule=\"evenodd\" fill-opacity=\"1\" stroke=\"#000000\" stroke-opacity=\"1\" stroke-width=\"3.2\"/>\n",
       "<circle clip-path=\"url(#clip742)\" cx=\"1005.37\" cy=\"1132.09\" r=\"14.4\" fill=\"#009af9\" fill-rule=\"evenodd\" fill-opacity=\"1\" stroke=\"#000000\" stroke-opacity=\"1\" stroke-width=\"3.2\"/>\n",
       "<circle clip-path=\"url(#clip742)\" cx=\"1112.56\" cy=\"1023.25\" r=\"14.4\" fill=\"#009af9\" fill-rule=\"evenodd\" fill-opacity=\"1\" stroke=\"#000000\" stroke-opacity=\"1\" stroke-width=\"3.2\"/>\n",
       "<circle clip-path=\"url(#clip742)\" cx=\"1219.75\" cy=\"1125.69\" r=\"14.4\" fill=\"#009af9\" fill-rule=\"evenodd\" fill-opacity=\"1\" stroke=\"#000000\" stroke-opacity=\"1\" stroke-width=\"3.2\"/>\n",
       "<circle clip-path=\"url(#clip742)\" cx=\"1326.94\" cy=\"849.212\" r=\"14.4\" fill=\"#009af9\" fill-rule=\"evenodd\" fill-opacity=\"1\" stroke=\"#000000\" stroke-opacity=\"1\" stroke-width=\"3.2\"/>\n",
       "<circle clip-path=\"url(#clip742)\" cx=\"1434.13\" cy=\"930.157\" r=\"14.4\" fill=\"#009af9\" fill-rule=\"evenodd\" fill-opacity=\"1\" stroke=\"#000000\" stroke-opacity=\"1\" stroke-width=\"3.2\"/>\n",
       "<circle clip-path=\"url(#clip742)\" cx=\"1541.32\" cy=\"529.532\" r=\"14.4\" fill=\"#009af9\" fill-rule=\"evenodd\" fill-opacity=\"1\" stroke=\"#000000\" stroke-opacity=\"1\" stroke-width=\"3.2\"/>\n",
       "<circle clip-path=\"url(#clip742)\" cx=\"1648.51\" cy=\"440.784\" r=\"14.4\" fill=\"#009af9\" fill-rule=\"evenodd\" fill-opacity=\"1\" stroke=\"#000000\" stroke-opacity=\"1\" stroke-width=\"3.2\"/>\n",
       "<circle clip-path=\"url(#clip742)\" cx=\"1755.7\" cy=\"87.9763\" r=\"14.4\" fill=\"#009af9\" fill-rule=\"evenodd\" fill-opacity=\"1\" stroke=\"#000000\" stroke-opacity=\"1\" stroke-width=\"3.2\"/>\n",
       "<circle clip-path=\"url(#clip742)\" cx=\"1862.89\" cy=\"405.915\" r=\"14.4\" fill=\"#009af9\" fill-rule=\"evenodd\" fill-opacity=\"1\" stroke=\"#000000\" stroke-opacity=\"1\" stroke-width=\"3.2\"/>\n",
       "<circle clip-path=\"url(#clip742)\" cx=\"1970.09\" cy=\"272.459\" r=\"14.4\" fill=\"#009af9\" fill-rule=\"evenodd\" fill-opacity=\"1\" stroke=\"#000000\" stroke-opacity=\"1\" stroke-width=\"3.2\"/>\n",
       "<circle clip-path=\"url(#clip742)\" cx=\"2077.28\" cy=\"555.127\" r=\"14.4\" fill=\"#009af9\" fill-rule=\"evenodd\" fill-opacity=\"1\" stroke=\"#000000\" stroke-opacity=\"1\" stroke-width=\"3.2\"/>\n",
       "<circle clip-path=\"url(#clip742)\" cx=\"2184.47\" cy=\"476.729\" r=\"14.4\" fill=\"#009af9\" fill-rule=\"evenodd\" fill-opacity=\"1\" stroke=\"#000000\" stroke-opacity=\"1\" stroke-width=\"3.2\"/>\n",
       "<circle clip-path=\"url(#clip742)\" cx=\"2291.66\" cy=\"751.908\" r=\"14.4\" fill=\"#009af9\" fill-rule=\"evenodd\" fill-opacity=\"1\" stroke=\"#000000\" stroke-opacity=\"1\" stroke-width=\"3.2\"/>\n",
       "<polyline clip-path=\"url(#clip742)\" style=\"stroke:#0000ff; stroke-linecap:round; stroke-linejoin:round; stroke-width:4; stroke-opacity:1; fill:none\" stroke-dasharray=\"16, 10\" points=\"255.035,816.452 260.139,824.463 265.243,832.472 270.348,840.477 275.452,848.475 280.556,856.466 285.661,864.447 290.765,872.417 295.869,880.372 300.974,888.311 306.078,896.233 311.182,904.135 316.286,912.015 321.391,919.871 326.495,927.702 331.599,935.505 336.704,943.278 341.808,951.021 346.912,958.729 352.017,966.403 357.121,974.039 362.225,981.636 367.33,989.193 372.434,996.706 377.538,1004.17 382.643,1011.6 387.747,1018.97 392.851,1026.29 397.956,1033.57 403.06,1040.78 408.164,1047.95 413.269,1055.05 418.373,1062.1 423.477,1069.08 428.581,1076 433.686,1082.86 438.79,1089.65 443.894,1096.38 448.999,1103.03 454.103,1109.61 459.207,1116.12 464.312,1122.56 469.416,1128.92 474.52,1135.2 479.625,1141.41 484.729,1147.53 489.833,1153.57 494.938,1159.53 500.042,1165.4 505.146,1171.19 510.251,1176.89 515.355,1182.49 520.459,1188.01 525.563,1193.44 530.668,1198.77 535.772,1204.01 540.876,1209.15 545.981,1214.19 551.085,1219.14 556.189,1223.98 561.294,1228.73 566.398,1233.37 571.502,1237.91 576.607,1242.34 581.711,1246.67 586.815,1250.89 591.92,1255.01 597.024,1259.01 602.128,1262.91 607.233,1266.7 612.337,1270.37 617.441,1273.93 622.546,1277.38 627.65,1280.71 632.754,1283.93 637.858,1287.03 642.963,1290.02 648.067,1292.88 653.171,1295.63 658.276,1298.26 663.38,1300.78 668.484,1303.17 673.589,1305.44 678.693,1307.59 683.797,1309.62 688.902,1311.52 694.006,1313.3 699.11,1314.96 704.215,1316.5 709.319,1317.91 714.423,1319.2 719.528,1320.36 724.632,1321.4 729.736,1322.31 734.84,1323.1 739.945,1323.76 745.049,1324.3 750.153,1324.71 755.258,1324.99 760.362,1325.15 765.466,1325.18 770.571,1325.08 775.675,1324.86 780.779,1324.52 785.884,1324.04 790.988,1323.44 796.092,1322.72 801.197,1321.87 806.301,1320.89 811.405,1319.79 816.51,1318.57 821.614,1317.22 826.718,1315.75 831.823,1314.15 836.927,1312.43 842.031,1310.58 847.135,1308.62 852.24,1306.53 857.344,1304.32 862.448,1301.99 867.553,1299.53 872.657,1296.96 877.761,1294.27 882.866,1291.46 887.97,1288.54 893.074,1285.49 898.179,1282.33 903.283,1279.06 908.387,1275.67 913.492,1272.16 918.596,1268.55 923.7,1264.82 928.805,1260.98 933.909,1257.03 939.013,1252.97 944.117,1248.8 949.222,1244.52 954.326,1240.14 959.43,1235.65 964.535,1231.06 969.639,1226.37 974.743,1221.57 979.848,1216.68 984.952,1211.68 990.056,1206.59 995.161,1201.4 1000.26,1196.12 1005.37,1190.74 1010.47,1185.26 1015.58,1179.7 1020.68,1174.05 1025.79,1168.31 1030.89,1162.48 1036,1156.56 1041.1,1150.56 1046.2,1144.48 1051.31,1138.32 1056.41,1132.07 1061.52,1125.75 1066.62,1119.35 1071.73,1112.88 1076.83,1106.33 1081.93,1099.71 1087.04,1093.02 1092.14,1086.26 1097.25,1079.44 1102.35,1072.55 1107.46,1065.6 1112.56,1058.58 1117.66,1051.51 1122.77,1044.37 1127.87,1037.18 1132.98,1029.94 1138.08,1022.64 1143.19,1015.29 1148.29,1007.89 1153.39,1000.45 1158.5,992.955 1163.6,985.42 1168.71,977.843 1173.81,970.226 1178.92,962.571 1184.02,954.879 1189.12,947.154 1194.23,939.395 1199.33,931.607 1204.44,923.79 1209.54,915.946 1214.65,908.077 1219.75,900.186 1224.85,892.274 1229.96,884.344 1235.06,876.396 1240.17,868.434 1245.27,860.458 1250.38,852.472 1255.48,844.477 1260.59,836.475 1265.69,828.468 1270.79,820.458 1275.9,812.447 1281,804.436 1286.11,796.429 1291.21,788.427 1296.32,780.432 1301.42,772.446 1306.52,764.471 1311.63,756.508 1316.73,748.561 1321.84,740.63 1326.94,732.718 1332.05,724.827 1337.15,716.958 1342.25,709.114 1347.36,701.297 1352.46,693.509 1357.57,685.751 1362.67,678.025 1367.78,670.334 1372.88,662.678 1377.98,655.061 1383.09,647.484 1388.19,639.949 1393.3,632.458 1398.4,625.012 1403.51,617.614 1408.61,610.265 1413.71,602.967 1418.82,595.722 1423.92,588.532 1429.03,581.399 1434.13,574.323 1439.24,567.308 1444.34,560.355 1449.44,553.465 1454.55,546.64 1459.65,539.882 1464.76,533.193 1469.86,526.574 1474.97,520.026 1480.07,513.553 1485.18,507.154 1490.28,500.832 1495.38,494.589 1500.49,488.425 1505.59,482.343 1510.7,476.343 1515.8,470.428 1520.91,464.598 1526.01,458.856 1531.11,453.203 1536.22,447.639 1541.32,442.167 1546.43,436.788 1551.53,431.503 1556.64,426.314 1561.74,421.221 1566.84,416.226 1571.95,411.33 1577.05,406.535 1582.16,401.842 1587.26,397.251 1592.37,392.764 1597.47,388.383 1602.57,384.107 1607.68,379.939 1612.78,375.879 1617.89,371.928 1622.99,368.088 1628.1,364.358 1633.2,360.741 1638.3,357.237 1643.41,353.846 1648.51,350.571 1653.62,347.411 1658.72,344.367 1663.83,341.44 1668.93,338.631 1674.03,335.941 1679.14,333.369 1684.24,330.918 1689.35,328.587 1694.45,326.376 1699.56,324.288 1704.66,322.321 1709.77,320.477 1714.87,318.756 1719.97,317.158 1725.08,315.684 1730.18,314.335 1735.29,313.11 1740.39,312.009 1745.5,311.034 1750.6,310.184 1755.7,309.46 1760.81,308.861 1765.91,308.388 1771.02,308.041 1776.12,307.821 1781.23,307.726 1786.33,307.758 1791.43,307.915 1796.54,308.199 1801.64,308.609 1806.75,309.145 1811.85,309.806 1816.96,310.593 1822.06,311.506 1827.16,312.544 1832.27,313.707 1837.37,314.994 1842.48,316.406 1847.58,317.942 1852.69,319.601 1857.79,321.384 1862.89,323.289 1868,325.317 1873.1,327.466 1878.21,329.737 1883.31,332.128 1888.42,334.64 1893.52,337.271 1898.62,340.021 1903.73,342.889 1908.83,345.874 1913.94,348.976 1919.04,352.194 1924.15,355.527 1929.25,358.975 1934.36,362.536 1939.46,366.209 1944.56,369.994 1949.67,373.89 1954.77,377.895 1959.88,382.01 1964.98,386.232 1970.09,390.56 1975.19,394.995 1980.29,399.534 1985.4,404.176 1990.5,408.92 1995.61,413.766 2000.71,418.711 2005.82,423.755 2010.92,428.896 2016.02,434.134 2021.13,439.466 2026.23,444.892 2031.34,450.41 2036.44,456.018 2041.55,461.716 2046.65,467.502 2051.75,473.375 2056.86,479.332 2061.96,485.374 2067.07,491.497 2072.17,497.701 2077.28,503.984 2082.38,510.344 2087.48,516.78 2092.59,523.291 2097.69,529.874 2102.8,536.529 2107.9,543.252 2113.01,550.044 2118.11,556.902 2123.21,563.824 2128.32,570.808 2133.42,577.854 2138.53,584.958 2143.63,592.12 2148.74,599.338 2153.84,606.61 2158.94,613.933 2164.05,621.307 2169.15,628.729 2174.26,636.198 2179.36,643.711 2184.47,651.268 2189.57,658.865 2194.68,666.501 2199.78,674.175 2204.88,681.884 2209.99,689.626 2215.09,697.399 2220.2,705.202 2225.3,713.033 2230.41,720.89 2235.51,728.77 2240.61,736.671 2245.72,744.593 2250.82,752.532 2255.93,760.488 2261.03,768.457 2266.14,776.438 2271.24,784.429 2276.34,792.428 2281.45,800.432 2286.55,808.441 2291.66,816.452 \"/>\n",
       "<polyline clip-path=\"url(#clip742)\" style=\"stroke:#ff0000; stroke-linecap:round; stroke-linejoin:round; stroke-width:8; stroke-opacity:1; fill:none\" points=\"255.035,842.179 260.139,855.877 265.243,869.376 270.348,882.677 275.452,895.781 280.556,908.688 285.661,921.401 290.765,933.92 295.869,946.245 300.974,958.379 306.078,970.321 311.182,982.073 316.286,993.636 321.391,1005.01 326.495,1016.2 331.599,1027.2 336.704,1038.01 341.808,1048.64 346.912,1059.09 352.017,1069.36 357.121,1079.44 362.225,1089.34 367.33,1099.07 372.434,1108.61 377.538,1117.98 382.643,1127.17 387.747,1136.19 392.851,1145.03 397.956,1153.7 403.06,1162.19 408.164,1170.51 413.269,1178.67 418.373,1186.65 423.477,1194.46 428.581,1202.11 433.686,1209.58 438.79,1216.9 443.894,1224.05 448.999,1231.03 454.103,1237.85 459.207,1244.51 464.312,1251.01 469.416,1257.34 474.52,1263.52 479.625,1269.54 484.729,1275.41 489.833,1281.11 494.938,1286.67 500.042,1292.06 505.146,1297.31 510.251,1302.4 515.355,1307.34 520.459,1312.13 525.563,1316.78 530.668,1321.27 535.772,1325.61 540.876,1329.81 545.981,1333.87 551.085,1337.78 556.189,1341.54 561.294,1345.16 566.398,1348.65 571.502,1351.99 576.607,1355.19 581.711,1358.25 586.815,1361.18 591.92,1363.96 597.024,1366.62 602.128,1369.14 607.233,1371.52 612.337,1373.77 617.441,1375.89 622.546,1377.88 627.65,1379.74 632.754,1381.47 637.858,1383.07 642.963,1384.54 648.067,1385.89 653.171,1387.12 658.276,1388.22 663.38,1389.19 668.484,1390.05 673.589,1390.78 678.693,1391.39 683.797,1391.89 688.902,1392.26 694.006,1392.52 699.11,1392.66 704.215,1392.69 709.319,1392.6 714.423,1392.4 719.528,1392.09 724.632,1391.66 729.736,1391.13 734.84,1390.48 739.945,1389.73 745.049,1388.87 750.153,1387.9 755.258,1386.83 760.362,1385.65 765.466,1384.37 770.571,1382.99 775.675,1381.5 780.779,1379.92 785.884,1378.23 790.988,1376.45 796.092,1374.56 801.197,1372.59 806.301,1370.51 811.405,1368.34 816.51,1366.08 821.614,1363.72 826.718,1361.27 831.823,1358.73 836.927,1356.1 842.031,1353.38 847.135,1350.58 852.24,1347.68 857.344,1344.7 862.448,1341.64 867.553,1338.49 872.657,1335.26 877.761,1331.94 882.866,1328.55 887.97,1325.07 893.074,1321.51 898.179,1317.88 903.283,1314.17 908.387,1310.38 913.492,1306.52 918.596,1302.58 923.7,1298.57 928.805,1294.49 933.909,1290.33 939.013,1286.11 944.117,1281.81 949.222,1277.45 954.326,1273.02 959.43,1268.52 964.535,1263.95 969.639,1259.33 974.743,1254.63 979.848,1249.88 984.952,1245.06 990.056,1240.18 995.161,1235.25 1000.26,1230.25 1005.37,1225.2 1010.47,1220.09 1015.58,1214.92 1020.68,1209.7 1025.79,1204.42 1030.89,1199.09 1036,1193.71 1041.1,1188.28 1046.2,1182.8 1051.31,1177.26 1056.41,1171.68 1061.52,1166.06 1066.62,1160.38 1071.73,1154.67 1076.83,1148.9 1081.93,1143.1 1087.04,1137.25 1092.14,1131.36 1097.25,1125.43 1102.35,1119.46 1107.46,1113.45 1112.56,1107.41 1117.66,1101.32 1122.77,1095.21 1127.87,1089.05 1132.98,1082.87 1138.08,1076.65 1143.19,1070.4 1148.29,1064.12 1153.39,1057.81 1158.5,1051.47 1163.6,1045.1 1168.71,1038.71 1173.81,1032.29 1178.92,1025.85 1184.02,1019.38 1189.12,1012.89 1194.23,1006.37 1199.33,999.84 1204.44,993.286 1209.54,986.713 1214.65,980.123 1219.75,973.515 1224.85,966.891 1229.96,960.252 1235.06,953.599 1240.17,946.933 1245.27,940.254 1250.38,933.565 1255.48,926.865 1260.59,920.156 1265.69,913.438 1270.79,906.713 1275.9,899.982 1281,893.246 1286.11,886.505 1291.21,879.761 1296.32,873.014 1301.42,866.266 1306.52,859.517 1311.63,852.769 1316.73,846.022 1321.84,839.277 1326.94,832.536 1332.05,825.799 1337.15,819.068 1342.25,812.343 1347.36,805.625 1352.46,798.916 1357.57,792.215 1362.67,785.525 1367.78,778.846 1372.88,772.179 1377.98,765.526 1383.09,758.886 1388.19,752.261 1393.3,745.653 1398.4,739.061 1403.51,732.488 1408.61,725.933 1413.71,719.398 1418.82,712.885 1423.92,706.393 1429.03,699.924 1434.13,693.478 1439.24,687.058 1444.34,680.663 1449.44,674.295 1454.55,667.955 1459.65,661.643 1464.76,655.361 1469.86,649.11 1474.97,642.89 1480.07,636.703 1485.18,630.549 1490.28,624.43 1495.38,618.346 1500.49,612.299 1505.59,606.29 1510.7,600.318 1515.8,594.386 1520.91,588.495 1526.01,582.644 1531.11,576.836 1536.22,571.072 1541.32,565.351 1546.43,559.676 1551.53,554.047 1556.64,548.465 1561.74,542.931 1566.84,537.446 1571.95,532.012 1577.05,526.628 1582.16,521.297 1587.26,516.018 1592.37,510.794 1597.47,505.624 1602.57,500.51 1607.68,495.454 1612.78,490.455 1617.89,485.515 1622.99,480.634 1628.1,475.815 1633.2,471.057 1638.3,466.362 1643.41,461.731 1648.51,457.164 1653.62,452.663 1658.72,448.229 1663.83,443.862 1668.93,439.564 1674.03,435.335 1679.14,431.177 1684.24,427.09 1689.35,423.076 1694.45,419.135 1699.56,415.269 1704.66,411.478 1709.77,407.763 1714.87,404.126 1719.97,400.567 1725.08,397.087 1730.18,393.687 1735.29,390.369 1740.39,387.133 1745.5,383.98 1750.6,380.911 1755.7,377.927 1760.81,375.029 1765.91,372.219 1771.02,369.496 1776.12,366.862 1781.23,364.319 1786.33,361.866 1791.43,359.505 1796.54,357.237 1801.64,355.063 1806.75,352.984 1811.85,351 1816.96,349.114 1822.06,347.325 1827.16,345.635 1832.27,344.044 1837.37,342.554 1842.48,341.166 1847.58,339.881 1852.69,338.699 1857.79,337.621 1862.89,336.649 1868,335.784 1873.1,335.026 1878.21,334.377 1883.31,333.837 1888.42,333.407 1893.52,333.089 1898.62,332.883 1903.73,332.79 1908.83,332.812 1913.94,332.949 1919.04,333.202 1924.15,333.572 1929.25,334.061 1934.36,334.669 1939.46,335.396 1944.56,336.245 1949.67,337.216 1954.77,338.31 1959.88,339.529 1964.98,340.872 1970.09,342.341 1975.19,343.937 1980.29,345.661 1985.4,347.513 1990.5,349.496 1995.61,351.609 2000.71,353.855 2005.82,356.233 2010.92,358.744 2016.02,361.391 2021.13,364.173 2026.23,367.092 2031.34,370.148 2036.44,373.343 2041.55,376.678 2046.65,380.153 2051.75,383.77 2056.86,387.529 2061.96,391.432 2067.07,395.479 2072.17,399.672 2077.28,404.011 2082.38,408.497 2087.48,413.132 2092.59,417.916 2097.69,422.85 2102.8,427.936 2107.9,433.173 2113.01,438.564 2118.11,444.11 2123.21,449.81 2128.32,455.666 2133.42,461.68 2138.53,467.851 2143.63,474.182 2148.74,480.673 2153.84,487.324 2158.94,494.138 2164.05,501.114 2169.15,508.255 2174.26,515.56 2179.36,523.031 2184.47,530.669 2189.57,538.475 2194.68,546.45 2199.78,554.594 2204.88,562.909 2209.99,571.396 2215.09,580.055 2220.2,588.888 2225.3,597.895 2230.41,607.079 2235.51,616.438 2240.61,625.976 2245.72,635.691 2250.82,645.586 2255.93,655.662 2261.03,665.919 2266.14,676.359 2271.24,686.981 2276.34,697.789 2281.45,708.781 2286.55,719.96 2291.66,731.326 \"/>\n",
       "<path clip-path=\"url(#clip740)\" d=\"M265.897 302.578 L964.137 302.578 L964.137 95.2176 L265.897 95.2176  Z\" fill=\"#ffffff\" fill-rule=\"evenodd\" fill-opacity=\"1\"/>\n",
       "<polyline clip-path=\"url(#clip740)\" style=\"stroke:#000000; stroke-linecap:round; stroke-linejoin:round; stroke-width:4; stroke-opacity:1; fill:none\" points=\"265.897,302.578 964.137,302.578 964.137,95.2176 265.897,95.2176 265.897,302.578 \"/>\n",
       "<circle clip-path=\"url(#clip740)\" cx=\"361.844\" cy=\"147.058\" r=\"20.48\" fill=\"#009af9\" fill-rule=\"evenodd\" fill-opacity=\"1\" stroke=\"#000000\" stroke-opacity=\"1\" stroke-width=\"4.55111\"/>\n",
       "<path clip-path=\"url(#clip740)\" d=\"M476.218 139.176 L476.218 143.203 Q474.412 142.277 472.468 141.815 Q470.523 141.352 468.44 141.352 Q465.269 141.352 463.671 142.324 Q462.097 143.296 462.097 145.24 Q462.097 146.722 463.232 147.578 Q464.366 148.412 467.792 149.176 L469.25 149.5 Q473.787 150.472 475.685 152.254 Q477.606 154.014 477.606 157.185 Q477.606 160.796 474.736 162.902 Q471.889 165.009 466.889 165.009 Q464.806 165.009 462.537 164.592 Q460.292 164.199 457.792 163.388 L457.792 158.99 Q460.153 160.217 462.445 160.842 Q464.736 161.444 466.982 161.444 Q469.991 161.444 471.611 160.426 Q473.231 159.384 473.231 157.509 Q473.231 155.773 472.051 154.847 Q470.894 153.921 466.935 153.064 L465.454 152.717 Q461.495 151.884 459.736 150.171 Q457.977 148.435 457.977 145.426 Q457.977 141.768 460.57 139.778 Q463.162 137.787 467.931 137.787 Q470.292 137.787 472.375 138.134 Q474.458 138.481 476.218 139.176 Z\" fill=\"#000000\" fill-rule=\"nonzero\" fill-opacity=\"1\" /><path clip-path=\"url(#clip740)\" d=\"M496.171 151.305 Q491.009 151.305 489.018 152.486 Q487.028 153.666 487.028 156.514 Q487.028 158.782 488.509 160.125 Q490.014 161.444 492.583 161.444 Q496.125 161.444 498.255 158.944 Q500.407 156.421 500.407 152.254 L500.407 151.305 L496.171 151.305 M504.667 149.546 L504.667 164.338 L500.407 164.338 L500.407 160.402 Q498.949 162.763 496.773 163.898 Q494.597 165.009 491.449 165.009 Q487.468 165.009 485.106 162.787 Q482.768 160.541 482.768 156.791 Q482.768 152.416 485.685 150.194 Q488.625 147.972 494.435 147.972 L500.407 147.972 L500.407 147.555 Q500.407 144.615 498.463 143.018 Q496.542 141.398 493.046 141.398 Q490.824 141.398 488.718 141.93 Q486.611 142.463 484.667 143.527 L484.667 139.592 Q487.005 138.69 489.204 138.25 Q491.403 137.787 493.486 137.787 Q499.111 137.787 501.889 140.703 Q504.667 143.62 504.667 149.546 Z\" fill=\"#000000\" fill-rule=\"nonzero\" fill-opacity=\"1\" /><path clip-path=\"url(#clip740)\" d=\"M533.625 143.389 Q535.222 140.518 537.444 139.153 Q539.666 137.787 542.676 137.787 Q546.726 137.787 548.926 140.634 Q551.125 143.458 551.125 148.689 L551.125 164.338 L546.842 164.338 L546.842 148.828 Q546.842 145.102 545.523 143.296 Q544.203 141.49 541.495 141.49 Q538.185 141.49 536.264 143.69 Q534.342 145.889 534.342 149.685 L534.342 164.338 L530.06 164.338 L530.06 148.828 Q530.06 145.078 528.74 143.296 Q527.421 141.49 524.666 141.49 Q521.403 141.49 519.481 143.713 Q517.56 145.912 517.56 149.685 L517.56 164.338 L513.278 164.338 L513.278 138.412 L517.56 138.412 L517.56 142.44 Q519.018 140.055 521.055 138.921 Q523.092 137.787 525.893 137.787 Q528.717 137.787 530.685 139.222 Q532.676 140.657 533.625 143.389 Z\" fill=\"#000000\" fill-rule=\"nonzero\" fill-opacity=\"1\" /><path clip-path=\"url(#clip740)\" d=\"M563.74 160.449 L563.74 174.199 L559.458 174.199 L559.458 138.412 L563.74 138.412 L563.74 142.347 Q565.083 140.032 567.12 138.921 Q569.18 137.787 572.027 137.787 Q576.749 137.787 579.689 141.537 Q582.652 145.287 582.652 151.398 Q582.652 157.509 579.689 161.259 Q576.749 165.009 572.027 165.009 Q569.18 165.009 567.12 163.898 Q565.083 162.763 563.74 160.449 M578.231 151.398 Q578.231 146.699 576.286 144.037 Q574.365 141.352 570.986 141.352 Q567.606 141.352 565.662 144.037 Q563.74 146.699 563.74 151.398 Q563.74 156.097 565.662 158.782 Q567.606 161.444 570.986 161.444 Q574.365 161.444 576.286 158.782 Q578.231 156.097 578.231 151.398 Z\" fill=\"#000000\" fill-rule=\"nonzero\" fill-opacity=\"1\" /><path clip-path=\"url(#clip740)\" d=\"M589.712 128.319 L593.972 128.319 L593.972 164.338 L589.712 164.338 L589.712 128.319 Z\" fill=\"#000000\" fill-rule=\"nonzero\" fill-opacity=\"1\" /><path clip-path=\"url(#clip740)\" d=\"M625.059 150.31 L625.059 152.393 L605.476 152.393 Q605.754 156.791 608.115 159.106 Q610.499 161.398 614.735 161.398 Q617.189 161.398 619.481 160.796 Q621.796 160.194 624.064 158.99 L624.064 163.018 Q621.772 163.99 619.365 164.5 Q616.958 165.009 614.481 165.009 Q608.277 165.009 604.643 161.398 Q601.032 157.787 601.032 151.629 Q601.032 145.264 604.458 141.537 Q607.907 137.787 613.74 137.787 Q618.971 137.787 622.004 141.166 Q625.059 144.523 625.059 150.31 M620.8 149.06 Q620.754 145.565 618.833 143.481 Q616.934 141.398 613.786 141.398 Q610.222 141.398 608.069 143.412 Q605.939 145.426 605.615 149.083 L620.8 149.06 Z\" fill=\"#000000\" fill-rule=\"nonzero\" fill-opacity=\"1\" /><polyline clip-path=\"url(#clip740)\" style=\"stroke:#0000ff; stroke-linecap:round; stroke-linejoin:round; stroke-width:4; stroke-opacity:1; fill:none\" stroke-dasharray=\"16, 10\" points=\"289.884,198.898 433.805,198.898 \"/>\n",
       "<path clip-path=\"url(#clip740)\" d=\"M476.218 191.016 L476.218 195.043 Q474.412 194.117 472.468 193.655 Q470.523 193.192 468.44 193.192 Q465.269 193.192 463.671 194.164 Q462.097 195.136 462.097 197.08 Q462.097 198.562 463.232 199.418 Q464.366 200.252 467.792 201.016 L469.25 201.34 Q473.787 202.312 475.685 204.094 Q477.606 205.854 477.606 209.025 Q477.606 212.636 474.736 214.742 Q471.889 216.849 466.889 216.849 Q464.806 216.849 462.537 216.432 Q460.292 216.039 457.792 215.228 L457.792 210.83 Q460.153 212.057 462.445 212.682 Q464.736 213.284 466.982 213.284 Q469.991 213.284 471.611 212.266 Q473.231 211.224 473.231 209.349 Q473.231 207.613 472.051 206.687 Q470.894 205.761 466.935 204.904 L465.454 204.557 Q461.495 203.724 459.736 202.011 Q457.977 200.275 457.977 197.266 Q457.977 193.608 460.57 191.618 Q463.162 189.627 467.931 189.627 Q470.292 189.627 472.375 189.974 Q474.458 190.321 476.218 191.016 Z\" fill=\"#000000\" fill-rule=\"nonzero\" fill-opacity=\"1\" /><path clip-path=\"url(#clip740)\" d=\"M484.389 190.252 L488.648 190.252 L488.648 216.178 L484.389 216.178 L484.389 190.252 M484.389 180.159 L488.648 180.159 L488.648 185.553 L484.389 185.553 L484.389 180.159 Z\" fill=\"#000000\" fill-rule=\"nonzero\" fill-opacity=\"1\" /><path clip-path=\"url(#clip740)\" d=\"M519.111 200.529 L519.111 216.178 L514.852 216.178 L514.852 200.668 Q514.852 196.988 513.416 195.159 Q511.981 193.33 509.111 193.33 Q505.662 193.33 503.671 195.53 Q501.68 197.729 501.68 201.525 L501.68 216.178 L497.398 216.178 L497.398 190.252 L501.68 190.252 L501.68 194.28 Q503.208 191.942 505.268 190.784 Q507.352 189.627 510.06 189.627 Q514.528 189.627 516.819 192.405 Q519.111 195.159 519.111 200.529 Z\" fill=\"#000000\" fill-rule=\"nonzero\" fill-opacity=\"1\" /><path clip-path=\"url(#clip740)\" d=\"M537.838 180.206 Q534.736 185.53 533.231 190.738 Q531.727 195.946 531.727 201.293 Q531.727 206.641 533.231 211.895 Q534.759 217.127 537.838 222.428 L534.134 222.428 Q530.662 216.988 528.926 211.733 Q527.213 206.479 527.213 201.293 Q527.213 196.131 528.926 190.9 Q530.639 185.668 534.134 180.206 L537.838 180.206 Z\" fill=\"#000000\" fill-rule=\"nonzero\" fill-opacity=\"1\" /><path clip-path=\"url(#clip740)\" d=\"M567.652 190.252 L558.277 202.867 L568.138 216.178 L563.115 216.178 L555.569 205.992 L548.023 216.178 L543 216.178 L553.069 202.613 L543.856 190.252 L548.879 190.252 L555.754 199.488 L562.629 190.252 L567.652 190.252 Z\" fill=\"#000000\" fill-rule=\"nonzero\" fill-opacity=\"1\" /><path clip-path=\"url(#clip740)\" d=\"M573.486 180.206 L577.189 180.206 Q580.661 185.668 582.374 190.9 Q584.111 196.131 584.111 201.293 Q584.111 206.479 582.374 211.733 Q580.661 216.988 577.189 222.428 L573.486 222.428 Q576.564 217.127 578.069 211.895 Q579.597 206.641 579.597 201.293 Q579.597 195.946 578.069 190.738 Q576.564 185.53 573.486 180.206 Z\" fill=\"#000000\" fill-rule=\"nonzero\" fill-opacity=\"1\" /><polyline clip-path=\"url(#clip740)\" style=\"stroke:#ff0000; stroke-linecap:round; stroke-linejoin:round; stroke-width:8; stroke-opacity:1; fill:none\" points=\"289.884,250.738 433.805,250.738 \"/>\n",
       "<path clip-path=\"url(#clip740)\" d=\"M476.704 246.027 L476.704 231.999 L480.963 231.999 L480.963 268.018 L476.704 268.018 L476.704 264.129 Q475.361 266.443 473.301 267.578 Q471.264 268.689 468.394 268.689 Q463.695 268.689 460.732 264.939 Q457.792 261.189 457.792 255.078 Q457.792 248.967 460.732 245.217 Q463.695 241.467 468.394 241.467 Q471.264 241.467 473.301 242.601 Q475.361 243.712 476.704 246.027 M462.19 255.078 Q462.19 259.777 464.111 262.462 Q466.056 265.124 469.435 265.124 Q472.815 265.124 474.759 262.462 Q476.704 259.777 476.704 255.078 Q476.704 250.379 474.759 247.717 Q472.815 245.032 469.435 245.032 Q466.056 245.032 464.111 247.717 Q462.19 250.379 462.19 255.078 Z\" fill=\"#000000\" fill-rule=\"nonzero\" fill-opacity=\"1\" /><path clip-path=\"url(#clip740)\" d=\"M511.912 253.99 L511.912 256.073 L492.329 256.073 Q492.606 260.471 494.967 262.786 Q497.352 265.078 501.588 265.078 Q504.042 265.078 506.333 264.476 Q508.648 263.874 510.916 262.67 L510.916 266.698 Q508.625 267.67 506.217 268.18 Q503.81 268.689 501.333 268.689 Q495.13 268.689 491.495 265.078 Q487.884 261.467 487.884 255.309 Q487.884 248.944 491.31 245.217 Q494.759 241.467 500.592 241.467 Q505.824 241.467 508.856 244.846 Q511.912 248.203 511.912 253.99 M507.653 252.74 Q507.606 249.245 505.685 247.161 Q503.787 245.078 500.639 245.078 Q497.074 245.078 494.921 247.092 Q492.792 249.106 492.468 252.763 L507.653 252.74 Z\" fill=\"#000000\" fill-rule=\"nonzero\" fill-opacity=\"1\" /><path clip-path=\"url(#clip740)\" d=\"M535.963 254.754 Q535.963 250.124 534.041 247.578 Q532.143 245.032 528.694 245.032 Q525.268 245.032 523.347 247.578 Q521.449 250.124 521.449 254.754 Q521.449 259.36 523.347 261.906 Q525.268 264.453 528.694 264.453 Q532.143 264.453 534.041 261.906 Q535.963 259.36 535.963 254.754 M540.222 264.8 Q540.222 271.42 537.282 274.638 Q534.342 277.879 528.277 277.879 Q526.032 277.879 524.041 277.531 Q522.051 277.207 520.176 276.513 L520.176 272.369 Q522.051 273.388 523.879 273.874 Q525.708 274.36 527.606 274.36 Q531.796 274.36 533.879 272.161 Q535.963 269.985 535.963 265.564 L535.963 263.457 Q534.643 265.749 532.583 266.883 Q530.523 268.018 527.653 268.018 Q522.884 268.018 519.967 264.383 Q517.051 260.749 517.051 254.754 Q517.051 248.735 519.967 245.101 Q522.884 241.467 527.653 241.467 Q530.523 241.467 532.583 242.601 Q534.643 243.735 535.963 246.027 L535.963 242.092 L540.222 242.092 L540.222 264.8 Z\" fill=\"#000000\" fill-rule=\"nonzero\" fill-opacity=\"1\" /><path clip-path=\"url(#clip740)\" d=\"M564.018 246.073 Q563.3 245.657 562.444 245.471 Q561.611 245.263 560.592 245.263 Q556.981 245.263 555.037 247.624 Q553.115 249.962 553.115 254.36 L553.115 268.018 L548.833 268.018 L548.833 242.092 L553.115 242.092 L553.115 246.12 Q554.458 243.758 556.611 242.624 Q558.763 241.467 561.842 241.467 Q562.282 241.467 562.814 241.536 Q563.347 241.583 563.995 241.698 L564.018 246.073 Z\" fill=\"#000000\" fill-rule=\"nonzero\" fill-opacity=\"1\" /><path clip-path=\"url(#clip740)\" d=\"M589.62 253.99 L589.62 256.073 L570.037 256.073 Q570.314 260.471 572.675 262.786 Q575.06 265.078 579.296 265.078 Q581.749 265.078 584.041 264.476 Q586.356 263.874 588.624 262.67 L588.624 266.698 Q586.333 267.67 583.925 268.18 Q581.518 268.689 579.041 268.689 Q572.837 268.689 569.203 265.078 Q565.592 261.467 565.592 255.309 Q565.592 248.944 569.018 245.217 Q572.467 241.467 578.3 241.467 Q583.532 241.467 586.564 244.846 Q589.62 248.203 589.62 253.99 M585.361 252.74 Q585.314 249.245 583.393 247.161 Q581.495 245.078 578.347 245.078 Q574.782 245.078 572.629 247.092 Q570.499 249.106 570.175 252.763 L585.361 252.74 Z\" fill=\"#000000\" fill-rule=\"nonzero\" fill-opacity=\"1\" /><path clip-path=\"url(#clip740)\" d=\"M618.786 253.99 L618.786 256.073 L599.203 256.073 Q599.481 260.471 601.842 262.786 Q604.226 265.078 608.462 265.078 Q610.916 265.078 613.208 264.476 Q615.522 263.874 617.791 262.67 L617.791 266.698 Q615.499 267.67 613.092 268.18 Q610.684 268.689 608.208 268.689 Q602.004 268.689 598.37 265.078 Q594.759 261.467 594.759 255.309 Q594.759 248.944 598.185 245.217 Q601.634 241.467 607.467 241.467 Q612.698 241.467 615.731 244.846 Q618.786 248.203 618.786 253.99 M614.527 252.74 Q614.481 249.245 612.559 247.161 Q610.661 245.078 607.513 245.078 Q603.948 245.078 601.796 247.092 Q599.666 249.106 599.342 252.763 L614.527 252.74 Z\" fill=\"#000000\" fill-rule=\"nonzero\" fill-opacity=\"1\" /><path clip-path=\"url(#clip740)\" d=\"M623.624 253.133 L636.101 253.133 L636.101 256.93 L623.624 256.93 L623.624 253.133 Z\" fill=\"#000000\" fill-rule=\"nonzero\" fill-opacity=\"1\" /><path clip-path=\"url(#clip740)\" d=\"M657.652 249.383 Q661.008 250.101 662.883 252.369 Q664.781 254.638 664.781 257.971 Q664.781 263.087 661.263 265.888 Q657.744 268.689 651.263 268.689 Q649.087 268.689 646.772 268.249 Q644.481 267.832 642.027 266.976 L642.027 262.462 Q643.971 263.596 646.286 264.175 Q648.601 264.754 651.124 264.754 Q655.522 264.754 657.814 263.018 Q660.129 261.281 660.129 257.971 Q660.129 254.916 657.976 253.203 Q655.846 251.467 652.027 251.467 L647.999 251.467 L647.999 247.624 L652.212 247.624 Q655.661 247.624 657.49 246.258 Q659.318 244.87 659.318 242.277 Q659.318 239.615 657.42 238.203 Q655.545 236.768 652.027 236.768 Q650.106 236.768 647.906 237.184 Q645.707 237.601 643.069 238.481 L643.069 234.314 Q645.731 233.573 648.045 233.203 Q650.383 232.833 652.443 232.833 Q657.768 232.833 660.869 235.263 Q663.971 237.67 663.971 241.791 Q663.971 244.661 662.328 246.652 Q660.684 248.62 657.652 249.383 Z\" fill=\"#000000\" fill-rule=\"nonzero\" fill-opacity=\"1\" /><path clip-path=\"url(#clip740)\" d=\"M692.235 264.129 L692.235 277.879 L687.953 277.879 L687.953 242.092 L692.235 242.092 L692.235 246.027 Q693.578 243.712 695.615 242.601 Q697.675 241.467 700.522 241.467 Q705.244 241.467 708.184 245.217 Q711.147 248.967 711.147 255.078 Q711.147 261.189 708.184 264.939 Q705.244 268.689 700.522 268.689 Q697.675 268.689 695.615 267.578 Q693.578 266.443 692.235 264.129 M706.726 255.078 Q706.726 250.379 704.781 247.717 Q702.86 245.032 699.48 245.032 Q696.101 245.032 694.156 247.717 Q692.235 250.379 692.235 255.078 Q692.235 259.777 694.156 262.462 Q696.101 265.124 699.48 265.124 Q702.86 265.124 704.781 262.462 Q706.726 259.777 706.726 255.078 Z\" fill=\"#000000\" fill-rule=\"nonzero\" fill-opacity=\"1\" /><path clip-path=\"url(#clip740)\" d=\"M728.253 245.078 Q724.827 245.078 722.837 247.763 Q720.846 250.425 720.846 255.078 Q720.846 259.731 722.813 262.416 Q724.804 265.078 728.253 265.078 Q731.656 265.078 733.647 262.393 Q735.637 259.707 735.637 255.078 Q735.637 250.471 733.647 247.786 Q731.656 245.078 728.253 245.078 M728.253 241.467 Q733.809 241.467 736.98 245.078 Q740.151 248.689 740.151 255.078 Q740.151 261.444 736.98 265.078 Q733.809 268.689 728.253 268.689 Q722.675 268.689 719.503 265.078 Q716.355 261.444 716.355 255.078 Q716.355 248.689 719.503 245.078 Q722.675 241.467 728.253 241.467 Z\" fill=\"#000000\" fill-rule=\"nonzero\" fill-opacity=\"1\" /><path clip-path=\"url(#clip740)\" d=\"M747.212 231.999 L751.471 231.999 L751.471 268.018 L747.212 268.018 L747.212 231.999 Z\" fill=\"#000000\" fill-rule=\"nonzero\" fill-opacity=\"1\" /><path clip-path=\"url(#clip740)\" d=\"M771.17 270.425 Q769.364 275.055 767.651 276.467 Q765.938 277.879 763.068 277.879 L759.665 277.879 L759.665 274.314 L762.165 274.314 Q763.924 274.314 764.897 273.48 Q765.869 272.647 767.049 269.545 L767.813 267.601 L757.327 242.092 L761.841 242.092 L769.943 262.369 L778.045 242.092 L782.559 242.092 L771.17 270.425 Z\" fill=\"#000000\" fill-rule=\"nonzero\" fill-opacity=\"1\" /><path clip-path=\"url(#clip740)\" d=\"M809.989 252.369 L809.989 268.018 L805.73 268.018 L805.73 252.508 Q805.73 248.828 804.295 246.999 Q802.859 245.17 799.989 245.17 Q796.54 245.17 794.549 247.37 Q792.558 249.569 792.558 253.365 L792.558 268.018 L788.276 268.018 L788.276 242.092 L792.558 242.092 L792.558 246.12 Q794.086 243.782 796.146 242.624 Q798.23 241.467 800.938 241.467 Q805.406 241.467 807.697 244.245 Q809.989 246.999 809.989 252.369 Z\" fill=\"#000000\" fill-rule=\"nonzero\" fill-opacity=\"1\" /><path clip-path=\"url(#clip740)\" d=\"M828.531 245.078 Q825.105 245.078 823.114 247.763 Q821.123 250.425 821.123 255.078 Q821.123 259.731 823.091 262.416 Q825.081 265.078 828.531 265.078 Q831.933 265.078 833.924 262.393 Q835.915 259.707 835.915 255.078 Q835.915 250.471 833.924 247.786 Q831.933 245.078 828.531 245.078 M828.531 241.467 Q834.086 241.467 837.257 245.078 Q840.429 248.689 840.429 255.078 Q840.429 261.444 837.257 265.078 Q834.086 268.689 828.531 268.689 Q822.952 268.689 819.781 265.078 Q816.632 261.444 816.632 255.078 Q816.632 248.689 819.781 245.078 Q822.952 241.467 828.531 241.467 Z\" fill=\"#000000\" fill-rule=\"nonzero\" fill-opacity=\"1\" /><path clip-path=\"url(#clip740)\" d=\"M867.674 247.069 Q869.271 244.198 871.493 242.833 Q873.715 241.467 876.725 241.467 Q880.776 241.467 882.975 244.314 Q885.174 247.138 885.174 252.369 L885.174 268.018 L880.891 268.018 L880.891 252.508 Q880.891 248.782 879.572 246.976 Q878.252 245.17 875.544 245.17 Q872.234 245.17 870.313 247.37 Q868.391 249.569 868.391 253.365 L868.391 268.018 L864.109 268.018 L864.109 252.508 Q864.109 248.758 862.79 246.976 Q861.47 245.17 858.716 245.17 Q855.452 245.17 853.53 247.393 Q851.609 249.592 851.609 253.365 L851.609 268.018 L847.327 268.018 L847.327 242.092 L851.609 242.092 L851.609 246.12 Q853.067 243.735 855.104 242.601 Q857.141 241.467 859.942 241.467 Q862.766 241.467 864.734 242.902 Q866.725 244.337 867.674 247.069 Z\" fill=\"#000000\" fill-rule=\"nonzero\" fill-opacity=\"1\" /><path clip-path=\"url(#clip740)\" d=\"M893.669 242.092 L897.928 242.092 L897.928 268.018 L893.669 268.018 L893.669 242.092 M893.669 231.999 L897.928 231.999 L897.928 237.393 L893.669 237.393 L893.669 231.999 Z\" fill=\"#000000\" fill-rule=\"nonzero\" fill-opacity=\"1\" /><path clip-path=\"url(#clip740)\" d=\"M918.623 254.985 Q913.461 254.985 911.47 256.166 Q909.479 257.346 909.479 260.194 Q909.479 262.462 910.961 263.805 Q912.465 265.124 915.035 265.124 Q918.576 265.124 920.706 262.624 Q922.859 260.101 922.859 255.934 L922.859 254.985 L918.623 254.985 M927.118 253.226 L927.118 268.018 L922.859 268.018 L922.859 264.082 Q921.4 266.443 919.224 267.578 Q917.049 268.689 913.9 268.689 Q909.919 268.689 907.558 266.467 Q905.22 264.221 905.22 260.471 Q905.22 256.096 908.137 253.874 Q911.076 251.652 916.887 251.652 L922.859 251.652 L922.859 251.235 Q922.859 248.295 920.914 246.698 Q918.993 245.078 915.498 245.078 Q913.275 245.078 911.169 245.61 Q909.062 246.143 907.118 247.207 L907.118 243.272 Q909.456 242.37 911.655 241.93 Q913.854 241.467 915.937 241.467 Q921.562 241.467 924.34 244.383 Q927.118 247.3 927.118 253.226 Z\" fill=\"#000000\" fill-rule=\"nonzero\" fill-opacity=\"1\" /><path clip-path=\"url(#clip740)\" d=\"M935.891 231.999 L940.15 231.999 L940.15 268.018 L935.891 268.018 L935.891 231.999 Z\" fill=\"#000000\" fill-rule=\"nonzero\" fill-opacity=\"1\" /></svg>\n"
      ],
      "text/html": [
       "<img src=\"data:image/png;base64,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\" />"
      ]
     },
     "execution_count": 62,
     "metadata": {},
     "output_type": "execute_result"
    }
   ],
   "source": [
    "begin\n",
    "    using Plots\n",
    "    default(fmt=:png)\n",
    "    n = 20\n",
    "    x = range(-π, π; length=20)\n",
    "    noise = 0.3randn(n)\n",
    "    y = sin.(x) + noise\n",
    "    X = x .^ (0:3)'\n",
    "    b = X\\y\n",
    "    f(x) = evalpoly(x, b)\n",
    "    xs = range(-π, π; length=400)\n",
    "    plot(; legend=:topleft)\n",
    "    scatter!(x, y; label=\"sample\")\n",
    "    plot!(xs, sin.(xs); label=\"sin(x)\", color=:blue, ls=:dash)\n",
    "    plot!(xs, f.(xs); label=\"degree-3 polynomial\", color=:red, lw=2)\n",
    "end"
   ]
  },
  {
   "cell_type": "code",
   "execution_count": 63,
   "metadata": {},
   "outputs": [
    {
     "name": "stdout",
     "output_type": "stream",
     "text": [
      "(:block, \n",
      "    (:using, \n",
      "        (:., :Plots)), \n",
      "    (:call, :default, \n",
      "        (:kw, :fmt, QuoteNode(:png))), \n",
      "    (:(=), :n, 20), \n",
      "    (:(=), :x, \n",
      "        (:call, :range, \n",
      "            (:parameters, \n",
      "                (:kw, :length, 20)), \n",
      "            (:call, :-, :π), :π)), \n",
      "    (:(=), :noise, \n",
      "        (:call, :*, 0.3, \n",
      "            (:call, :randn, :n))), \n",
      "    (:(=), :y, \n",
      "        (:call, :+, \n",
      "            (:., :sin, \n",
      "                (:tuple, :x)), :noise)), \n",
      "    (:(=), :X, \n",
      "        (:call, :.^, :x, \n",
      "            (Symbol(\"'\"), \n",
      "                (:call, :(:), 0, 3)))), \n",
      "    (:(=), :b, \n",
      "        (:call, :\\, :X, :y)), \n",
      "    (:(=), \n",
      "        (:call, :f, :x), \n",
      "        (:block, \n",
      "            (:call, :evalpoly, :x, :b))), \n",
      "    (:(=), :xs, \n",
      "        (:call, :range, \n",
      "            (:parameters, \n",
      "                (:kw, :length, 400)), \n",
      "            (:call, :-, :π), :π)), \n",
      "    (:call, :plot, \n",
      "        (:parameters, \n",
      "            (:kw, :legend, QuoteNode(:topleft)))), \n",
      "    (:call, :scatter!, \n",
      "        (:parameters, \n",
      "            (:kw, :label, \"sample\")), :x, :y), \n",
      "    (:call, :plot!, \n",
      "        (:parameters, \n",
      "            (:kw, :label, \"sin(x)\"), \n",
      "            (:kw, :color, QuoteNode(:blue)), \n",
      "            (:kw, :ls, QuoteNode(:dash))), :xs, \n",
      "        (:., :sin, \n",
      "            (:tuple, :xs))), \n",
      "    (:call, :plot!, \n",
      "        (:parameters, \n",
      "            (:kw, :label, \"degree-3 polynomial\"), \n",
      "            (:kw, :color, QuoteNode(:red)), \n",
      "            (:kw, :lw, 2)), :xs, \n",
      "        (:., :f, \n",
      "            (:tuple, :xs))))"
     ]
    }
   ],
   "source": [
    "@show_texpr begin\n",
    "    using Plots\n",
    "    default(fmt=:png)\n",
    "    n = 20\n",
    "    x = range(-π, π; length=20)\n",
    "    noise = 0.3randn(n)\n",
    "    y = sin.(x) + noise\n",
    "    X = x .^ (0:3)'\n",
    "    b = X\\y\n",
    "    f(x) = evalpoly(x, b)\n",
    "    xs = range(-π, π; length=400)\n",
    "    plot(; legend=:topleft)\n",
    "    scatter!(x, y; label=\"sample\")\n",
    "    plot!(xs, sin.(xs); label=\"sin(x)\", color=:blue, ls=:dash)\n",
    "    plot!(xs, f.(xs); label=\"degree-3 polynomial\", color=:red, lw=2)\n",
    "end"
   ]
  },
  {
   "cell_type": "code",
   "execution_count": 64,
   "metadata": {},
   "outputs": [
    {
     "data": {
      "image/png": "[encoded data removed]",
      "image/svg+xml": [
       "<?xml version=\"1.0\" encoding=\"utf-8\"?>\n",
       "<svg xmlns=\"http://www.w3.org/2000/svg\" xmlns:xlink=\"http://www.w3.org/1999/xlink\" width=\"600\" height=\"400\" viewBox=\"0 0 2400 1600\">\n",
       "<defs>\n",
       "  <clipPath id=\"clip800\">\n",
       "    <rect x=\"0\" y=\"0\" width=\"2400\" height=\"1600\"/>\n",
       "  </clipPath>\n",
       "</defs>\n",
       "<path clip-path=\"url(#clip800)\" d=\"M0 1600 L2400 1600 L2400 0 L0 0  Z\" fill=\"#ffffff\" fill-rule=\"evenodd\" fill-opacity=\"1\"/>\n",
       "<defs>\n",
       "  <clipPath id=\"clip801\">\n",
       "    <rect x=\"480\" y=\"0\" width=\"1681\" height=\"1600\"/>\n",
       "  </clipPath>\n",
       "</defs>\n",
       "<path clip-path=\"url(#clip800)\" d=\"M193.936 1486.45 L2352.76 1486.45 L2352.76 47.2441 L193.936 47.2441  Z\" fill=\"#ffffff\" fill-rule=\"evenodd\" fill-opacity=\"1\"/>\n",
       "<defs>\n",
       "  <clipPath id=\"clip802\">\n",
       "    <rect x=\"193\" y=\"47\" width=\"2160\" height=\"1440\"/>\n",
       "  </clipPath>\n",
       "</defs>\n",
       "<polyline clip-path=\"url(#clip802)\" style=\"stroke:#000000; stroke-linecap:round; stroke-linejoin:round; stroke-width:2; stroke-opacity:0.1; fill:none\" points=\"300.93,1486.45 300.93,47.2441 \"/>\n",
       "<polyline clip-path=\"url(#clip802)\" style=\"stroke:#000000; stroke-linecap:round; stroke-linejoin:round; stroke-width:2; stroke-opacity:0.1; fill:none\" points=\"625.069,1486.45 625.069,47.2441 \"/>\n",
       "<polyline clip-path=\"url(#clip802)\" style=\"stroke:#000000; stroke-linecap:round; stroke-linejoin:round; stroke-width:2; stroke-opacity:0.1; fill:none\" points=\"949.207,1486.45 949.207,47.2441 \"/>\n",
       "<polyline clip-path=\"url(#clip802)\" style=\"stroke:#000000; stroke-linecap:round; stroke-linejoin:round; stroke-width:2; stroke-opacity:0.1; fill:none\" points=\"1273.35,1486.45 1273.35,47.2441 \"/>\n",
       "<polyline clip-path=\"url(#clip802)\" style=\"stroke:#000000; stroke-linecap:round; stroke-linejoin:round; stroke-width:2; stroke-opacity:0.1; fill:none\" points=\"1597.48,1486.45 1597.48,47.2441 \"/>\n",
       "<polyline clip-path=\"url(#clip802)\" style=\"stroke:#000000; stroke-linecap:round; stroke-linejoin:round; stroke-width:2; stroke-opacity:0.1; fill:none\" points=\"1921.62,1486.45 1921.62,47.2441 \"/>\n",
       "<polyline clip-path=\"url(#clip802)\" style=\"stroke:#000000; stroke-linecap:round; stroke-linejoin:round; stroke-width:2; stroke-opacity:0.1; fill:none\" points=\"2245.76,1486.45 2245.76,47.2441 \"/>\n",
       "<polyline clip-path=\"url(#clip802)\" style=\"stroke:#000000; stroke-linecap:round; stroke-linejoin:round; stroke-width:2; stroke-opacity:0.1; fill:none\" points=\"193.936,1249.23 2352.76,1249.23 \"/>\n",
       "<polyline clip-path=\"url(#clip802)\" style=\"stroke:#000000; stroke-linecap:round; stroke-linejoin:round; stroke-width:2; stroke-opacity:0.1; fill:none\" points=\"193.936,1002.57 2352.76,1002.57 \"/>\n",
       "<polyline clip-path=\"url(#clip802)\" style=\"stroke:#000000; stroke-linecap:round; stroke-linejoin:round; stroke-width:2; stroke-opacity:0.1; fill:none\" points=\"193.936,755.914 2352.76,755.914 \"/>\n",
       "<polyline clip-path=\"url(#clip802)\" style=\"stroke:#000000; stroke-linecap:round; stroke-linejoin:round; stroke-width:2; stroke-opacity:0.1; fill:none\" points=\"193.936,509.258 2352.76,509.258 \"/>\n",
       "<polyline clip-path=\"url(#clip802)\" style=\"stroke:#000000; stroke-linecap:round; stroke-linejoin:round; stroke-width:2; stroke-opacity:0.1; fill:none\" points=\"193.936,262.601 2352.76,262.601 \"/>\n",
       "<polyline clip-path=\"url(#clip800)\" style=\"stroke:#000000; stroke-linecap:round; stroke-linejoin:round; stroke-width:4; stroke-opacity:1; fill:none\" points=\"193.936,1486.45 2352.76,1486.45 \"/>\n",
       "<polyline clip-path=\"url(#clip800)\" style=\"stroke:#000000; stroke-linecap:round; stroke-linejoin:round; stroke-width:4; stroke-opacity:1; fill:none\" points=\"300.93,1486.45 300.93,1467.55 \"/>\n",
       "<polyline clip-path=\"url(#clip800)\" style=\"stroke:#000000; stroke-linecap:round; stroke-linejoin:round; stroke-width:4; stroke-opacity:1; fill:none\" points=\"625.069,1486.45 625.069,1467.55 \"/>\n",
       "<polyline clip-path=\"url(#clip800)\" style=\"stroke:#000000; stroke-linecap:round; stroke-linejoin:round; stroke-width:4; stroke-opacity:1; fill:none\" points=\"949.207,1486.45 949.207,1467.55 \"/>\n",
       "<polyline clip-path=\"url(#clip800)\" style=\"stroke:#000000; stroke-linecap:round; stroke-linejoin:round; stroke-width:4; stroke-opacity:1; fill:none\" points=\"1273.35,1486.45 1273.35,1467.55 \"/>\n",
       "<polyline clip-path=\"url(#clip800)\" style=\"stroke:#000000; stroke-linecap:round; stroke-linejoin:round; stroke-width:4; stroke-opacity:1; fill:none\" points=\"1597.48,1486.45 1597.48,1467.55 \"/>\n",
       "<polyline clip-path=\"url(#clip800)\" style=\"stroke:#000000; stroke-linecap:round; stroke-linejoin:round; stroke-width:4; stroke-opacity:1; fill:none\" points=\"1921.62,1486.45 1921.62,1467.55 \"/>\n",
       "<polyline clip-path=\"url(#clip800)\" style=\"stroke:#000000; stroke-linecap:round; stroke-linejoin:round; stroke-width:4; stroke-opacity:1; fill:none\" points=\"2245.76,1486.45 2245.76,1467.55 \"/>\n",
       "<path clip-path=\"url(#clip800)\" d=\"M270.398 1532.02 L300.074 1532.02 L300.074 1535.95 L270.398 1535.95 L270.398 1532.02 Z\" fill=\"#000000\" fill-rule=\"nonzero\" fill-opacity=\"1\" /><path clip-path=\"url(#clip800)\" d=\"M324.333 1530.21 Q327.689 1530.93 329.564 1533.2 Q331.463 1535.47 331.463 1538.8 Q331.463 1543.92 327.944 1546.72 Q324.426 1549.52 317.944 1549.52 Q315.768 1549.52 313.453 1549.08 Q311.162 1548.66 308.708 1547.81 L308.708 1543.29 Q310.652 1544.43 312.967 1545.01 Q315.282 1545.58 317.805 1545.58 Q322.203 1545.58 324.495 1543.85 Q326.81 1542.11 326.81 1538.8 Q326.81 1535.75 324.657 1534.03 Q322.527 1532.3 318.708 1532.3 L314.68 1532.3 L314.68 1528.45 L318.893 1528.45 Q322.342 1528.45 324.171 1527.09 Q326 1525.7 326 1523.11 Q326 1520.45 324.101 1519.03 Q322.226 1517.6 318.708 1517.6 Q316.787 1517.6 314.588 1518.01 Q312.389 1518.43 309.75 1519.31 L309.75 1515.14 Q312.412 1514.4 314.727 1514.03 Q317.064 1513.66 319.125 1513.66 Q324.449 1513.66 327.551 1516.09 Q330.652 1518.5 330.652 1522.62 Q330.652 1525.49 329.009 1527.48 Q327.365 1529.45 324.333 1530.21 Z\" fill=\"#000000\" fill-rule=\"nonzero\" fill-opacity=\"1\" /><path clip-path=\"url(#clip800)\" d=\"M595.011 1532.02 L624.687 1532.02 L624.687 1535.95 L595.011 1535.95 L595.011 1532.02 Z\" fill=\"#000000\" fill-rule=\"nonzero\" fill-opacity=\"1\" /><path clip-path=\"url(#clip800)\" d=\"M638.807 1544.91 L655.127 1544.91 L655.127 1548.85 L633.182 1548.85 L633.182 1544.91 Q635.844 1542.16 640.428 1537.53 Q645.034 1532.88 646.215 1531.53 Q648.46 1529.01 649.34 1527.27 Q650.242 1525.51 650.242 1523.82 Q650.242 1521.07 648.298 1519.33 Q646.377 1517.6 643.275 1517.6 Q641.076 1517.6 638.622 1518.36 Q636.191 1519.13 633.414 1520.68 L633.414 1515.95 Q636.238 1514.82 638.691 1514.24 Q641.145 1513.66 643.182 1513.66 Q648.553 1513.66 651.747 1516.35 Q654.941 1519.03 654.941 1523.52 Q654.941 1525.65 654.131 1527.57 Q653.344 1529.47 651.238 1532.07 Q650.659 1532.74 647.557 1535.95 Q644.455 1539.15 638.807 1544.91 Z\" fill=\"#000000\" fill-rule=\"nonzero\" fill-opacity=\"1\" /><path clip-path=\"url(#clip800)\" d=\"M918.965 1532.02 L948.64 1532.02 L948.64 1535.95 L918.965 1535.95 L918.965 1532.02 Z\" fill=\"#000000\" fill-rule=\"nonzero\" fill-opacity=\"1\" /><path clip-path=\"url(#clip800)\" d=\"M959.543 1544.91 L967.182 1544.91 L967.182 1518.55 L958.872 1520.21 L958.872 1515.95 L967.136 1514.29 L971.811 1514.29 L971.811 1544.91 L979.45 1544.91 L979.45 1548.85 L959.543 1548.85 L959.543 1544.91 Z\" fill=\"#000000\" fill-rule=\"nonzero\" fill-opacity=\"1\" /><path clip-path=\"url(#clip800)\" d=\"M1273.35 1517.37 Q1269.73 1517.37 1267.91 1520.93 Q1266.1 1524.47 1266.1 1531.6 Q1266.1 1538.71 1267.91 1542.27 Q1269.73 1545.82 1273.35 1545.82 Q1276.98 1545.82 1278.79 1542.27 Q1280.61 1538.71 1280.61 1531.6 Q1280.61 1524.47 1278.79 1520.93 Q1276.98 1517.37 1273.35 1517.37 M1273.35 1513.66 Q1279.16 1513.66 1282.21 1518.27 Q1285.29 1522.85 1285.29 1531.6 Q1285.29 1540.33 1282.21 1544.94 Q1279.16 1549.52 1273.35 1549.52 Q1267.54 1549.52 1264.46 1544.94 Q1261.4 1540.33 1261.4 1531.6 Q1261.4 1522.85 1264.46 1518.27 Q1267.54 1513.66 1273.35 1513.66 Z\" fill=\"#000000\" fill-rule=\"nonzero\" fill-opacity=\"1\" /><path clip-path=\"url(#clip800)\" d=\"M1587.87 1544.91 L1595.51 1544.91 L1595.51 1518.55 L1587.2 1520.21 L1587.2 1515.95 L1595.46 1514.29 L1600.13 1514.29 L1600.13 1544.91 L1607.77 1544.91 L1607.77 1548.85 L1587.87 1548.85 L1587.87 1544.91 Z\" fill=\"#000000\" fill-rule=\"nonzero\" fill-opacity=\"1\" /><path clip-path=\"url(#clip800)\" d=\"M1916.28 1544.91 L1932.6 1544.91 L1932.6 1548.85 L1910.65 1548.85 L1910.65 1544.91 Q1913.31 1542.16 1917.9 1537.53 Q1922.5 1532.88 1923.68 1531.53 Q1925.93 1529.01 1926.81 1527.27 Q1927.71 1525.51 1927.71 1523.82 Q1927.71 1521.07 1925.77 1519.33 Q1923.85 1517.6 1920.74 1517.6 Q1918.54 1517.6 1916.09 1518.36 Q1913.66 1519.13 1910.88 1520.68 L1910.88 1515.95 Q1913.71 1514.82 1916.16 1514.24 Q1918.61 1513.66 1920.65 1513.66 Q1926.02 1513.66 1929.22 1516.35 Q1932.41 1519.03 1932.41 1523.52 Q1932.41 1525.65 1931.6 1527.57 Q1930.81 1529.47 1928.71 1532.07 Q1928.13 1532.74 1925.03 1535.95 Q1921.92 1539.15 1916.28 1544.91 Z\" fill=\"#000000\" fill-rule=\"nonzero\" fill-opacity=\"1\" /><path clip-path=\"url(#clip800)\" d=\"M2250.01 1530.21 Q2253.37 1530.93 2255.24 1533.2 Q2257.14 1535.47 2257.14 1538.8 Q2257.14 1543.92 2253.62 1546.72 Q2250.1 1549.52 2243.62 1549.52 Q2241.44 1549.52 2239.13 1549.08 Q2236.84 1548.66 2234.38 1547.81 L2234.38 1543.29 Q2236.33 1544.43 2238.64 1545.01 Q2240.96 1545.58 2243.48 1545.58 Q2247.88 1545.58 2250.17 1543.85 Q2252.49 1542.11 2252.49 1538.8 Q2252.49 1535.75 2250.33 1534.03 Q2248.2 1532.3 2244.38 1532.3 L2240.36 1532.3 L2240.36 1528.45 L2244.57 1528.45 Q2248.02 1528.45 2249.85 1527.09 Q2251.68 1525.7 2251.68 1523.11 Q2251.68 1520.45 2249.78 1519.03 Q2247.9 1517.6 2244.38 1517.6 Q2242.46 1517.6 2240.26 1518.01 Q2238.06 1518.43 2235.43 1519.31 L2235.43 1515.14 Q2238.09 1514.4 2240.4 1514.03 Q2242.74 1513.66 2244.8 1513.66 Q2250.12 1513.66 2253.23 1516.09 Q2256.33 1518.5 2256.33 1522.62 Q2256.33 1525.49 2254.69 1527.48 Q2253.04 1529.45 2250.01 1530.21 Z\" fill=\"#000000\" fill-rule=\"nonzero\" fill-opacity=\"1\" /><polyline clip-path=\"url(#clip800)\" style=\"stroke:#000000; stroke-linecap:round; stroke-linejoin:round; stroke-width:4; stroke-opacity:1; fill:none\" points=\"193.936,1486.45 193.936,47.2441 \"/>\n",
       "<polyline clip-path=\"url(#clip800)\" style=\"stroke:#000000; stroke-linecap:round; stroke-linejoin:round; stroke-width:4; stroke-opacity:1; fill:none\" points=\"193.936,1249.23 212.834,1249.23 \"/>\n",
       "<polyline clip-path=\"url(#clip800)\" style=\"stroke:#000000; stroke-linecap:round; stroke-linejoin:round; stroke-width:4; stroke-opacity:1; fill:none\" points=\"193.936,1002.57 212.834,1002.57 \"/>\n",
       "<polyline clip-path=\"url(#clip800)\" style=\"stroke:#000000; stroke-linecap:round; stroke-linejoin:round; stroke-width:4; stroke-opacity:1; fill:none\" points=\"193.936,755.914 212.834,755.914 \"/>\n",
       "<polyline clip-path=\"url(#clip800)\" style=\"stroke:#000000; stroke-linecap:round; stroke-linejoin:round; stroke-width:4; stroke-opacity:1; fill:none\" points=\"193.936,509.258 212.834,509.258 \"/>\n",
       "<polyline clip-path=\"url(#clip800)\" style=\"stroke:#000000; stroke-linecap:round; stroke-linejoin:round; stroke-width:4; stroke-opacity:1; fill:none\" points=\"193.936,262.601 212.834,262.601 \"/>\n",
       "<path clip-path=\"url(#clip800)\" d=\"M50.9921 1249.68 L80.6679 1249.68 L80.6679 1253.61 L50.9921 1253.61 L50.9921 1249.68 Z\" fill=\"#000000\" fill-rule=\"nonzero\" fill-opacity=\"1\" /><path clip-path=\"url(#clip800)\" d=\"M91.5706 1262.57 L99.2095 1262.57 L99.2095 1236.21 L90.8993 1237.87 L90.8993 1233.61 L99.1632 1231.95 L103.839 1231.95 L103.839 1262.57 L111.478 1262.57 L111.478 1266.51 L91.5706 1266.51 L91.5706 1262.57 Z\" fill=\"#000000\" fill-rule=\"nonzero\" fill-opacity=\"1\" /><path clip-path=\"url(#clip800)\" d=\"M120.922 1260.63 L125.807 1260.63 L125.807 1266.51 L120.922 1266.51 L120.922 1260.63 Z\" fill=\"#000000\" fill-rule=\"nonzero\" fill-opacity=\"1\" /><path clip-path=\"url(#clip800)\" d=\"M145.992 1235.03 Q142.381 1235.03 140.552 1238.59 Q138.746 1242.13 138.746 1249.26 Q138.746 1256.37 140.552 1259.93 Q142.381 1263.48 145.992 1263.48 Q149.626 1263.48 151.431 1259.93 Q153.26 1256.37 153.26 1249.26 Q153.26 1242.13 151.431 1238.59 Q149.626 1235.03 145.992 1235.03 M145.992 1231.32 Q151.802 1231.32 154.857 1235.93 Q157.936 1240.51 157.936 1249.26 Q157.936 1257.99 154.857 1262.6 Q151.802 1267.18 145.992 1267.18 Q140.181 1267.18 137.103 1262.6 Q134.047 1257.99 134.047 1249.26 Q134.047 1240.51 137.103 1235.93 Q140.181 1231.32 145.992 1231.32 Z\" fill=\"#000000\" fill-rule=\"nonzero\" fill-opacity=\"1\" /><path clip-path=\"url(#clip800)\" d=\"M51.9875 1003.02 L81.6633 1003.02 L81.6633 1006.96 L51.9875 1006.96 L51.9875 1003.02 Z\" fill=\"#000000\" fill-rule=\"nonzero\" fill-opacity=\"1\" /><path clip-path=\"url(#clip800)\" d=\"M101.756 988.37 Q98.1447 988.37 96.316 991.935 Q94.5104 995.476 94.5104 1002.61 Q94.5104 1009.71 96.316 1013.28 Q98.1447 1016.82 101.756 1016.82 Q105.39 1016.82 107.196 1013.28 Q109.024 1009.71 109.024 1002.61 Q109.024 995.476 107.196 991.935 Q105.39 988.37 101.756 988.37 M101.756 984.666 Q107.566 984.666 110.621 989.273 Q113.7 993.856 113.7 1002.61 Q113.7 1011.33 110.621 1015.94 Q107.566 1020.52 101.756 1020.52 Q95.9456 1020.52 92.8669 1015.94 Q89.8114 1011.33 89.8114 1002.61 Q89.8114 993.856 92.8669 989.273 Q95.9456 984.666 101.756 984.666 Z\" fill=\"#000000\" fill-rule=\"nonzero\" fill-opacity=\"1\" /><path clip-path=\"url(#clip800)\" d=\"M121.918 1013.97 L126.802 1013.97 L126.802 1019.85 L121.918 1019.85 L121.918 1013.97 Z\" fill=\"#000000\" fill-rule=\"nonzero\" fill-opacity=\"1\" /><path clip-path=\"url(#clip800)\" d=\"M137.033 985.291 L155.39 985.291 L155.39 989.226 L141.316 989.226 L141.316 997.698 Q142.334 997.351 143.353 997.189 Q144.371 997.004 145.39 997.004 Q151.177 997.004 154.556 1000.18 Q157.936 1003.35 157.936 1008.76 Q157.936 1014.34 154.464 1017.44 Q150.992 1020.52 144.672 1020.52 Q142.496 1020.52 140.228 1020.15 Q137.982 1019.78 135.575 1019.04 L135.575 1014.34 Q137.658 1015.48 139.881 1016.03 Q142.103 1016.59 144.58 1016.59 Q148.584 1016.59 150.922 1014.48 Q153.26 1012.37 153.26 1008.76 Q153.26 1005.15 150.922 1003.05 Q148.584 1000.94 144.58 1000.94 Q142.705 1000.94 140.83 1001.36 Q138.978 1001.77 137.033 1002.65 L137.033 985.291 Z\" fill=\"#000000\" fill-rule=\"nonzero\" fill-opacity=\"1\" /><path clip-path=\"url(#clip800)\" d=\"M100.76 741.713 Q97.1493 741.713 95.3206 745.278 Q93.515 748.82 93.515 755.949 Q93.515 763.056 95.3206 766.62 Q97.1493 770.162 100.76 770.162 Q104.395 770.162 106.2 766.62 Q108.029 763.056 108.029 755.949 Q108.029 748.82 106.2 745.278 Q104.395 741.713 100.76 741.713 M100.76 738.009 Q106.571 738.009 109.626 742.616 Q112.705 747.199 112.705 755.949 Q112.705 764.676 109.626 769.282 Q106.571 773.866 100.76 773.866 Q94.9502 773.866 91.8715 769.282 Q88.816 764.676 88.816 755.949 Q88.816 747.199 91.8715 742.616 Q94.9502 738.009 100.76 738.009 Z\" fill=\"#000000\" fill-rule=\"nonzero\" fill-opacity=\"1\" /><path clip-path=\"url(#clip800)\" d=\"M120.922 767.315 L125.807 767.315 L125.807 773.194 L120.922 773.194 L120.922 767.315 Z\" fill=\"#000000\" fill-rule=\"nonzero\" fill-opacity=\"1\" /><path clip-path=\"url(#clip800)\" d=\"M145.992 741.713 Q142.381 741.713 140.552 745.278 Q138.746 748.82 138.746 755.949 Q138.746 763.056 140.552 766.62 Q142.381 770.162 145.992 770.162 Q149.626 770.162 151.431 766.62 Q153.26 763.056 153.26 755.949 Q153.26 748.82 151.431 745.278 Q149.626 741.713 145.992 741.713 M145.992 738.009 Q151.802 738.009 154.857 742.616 Q157.936 747.199 157.936 755.949 Q157.936 764.676 154.857 769.282 Q151.802 773.866 145.992 773.866 Q140.181 773.866 137.103 769.282 Q134.047 764.676 134.047 755.949 Q134.047 747.199 137.103 742.616 Q140.181 738.009 145.992 738.009 Z\" fill=\"#000000\" fill-rule=\"nonzero\" fill-opacity=\"1\" /><path clip-path=\"url(#clip800)\" d=\"M101.756 495.057 Q98.1447 495.057 96.316 498.621 Q94.5104 502.163 94.5104 509.293 Q94.5104 516.399 96.316 519.964 Q98.1447 523.505 101.756 523.505 Q105.39 523.505 107.196 519.964 Q109.024 516.399 109.024 509.293 Q109.024 502.163 107.196 498.621 Q105.39 495.057 101.756 495.057 M101.756 491.353 Q107.566 491.353 110.621 495.959 Q113.7 500.543 113.7 509.293 Q113.7 518.019 110.621 522.626 Q107.566 527.209 101.756 527.209 Q95.9456 527.209 92.8669 522.626 Q89.8114 518.019 89.8114 509.293 Q89.8114 500.543 92.8669 495.959 Q95.9456 491.353 101.756 491.353 Z\" fill=\"#000000\" fill-rule=\"nonzero\" fill-opacity=\"1\" /><path clip-path=\"url(#clip800)\" d=\"M121.918 520.658 L126.802 520.658 L126.802 526.538 L121.918 526.538 L121.918 520.658 Z\" fill=\"#000000\" fill-rule=\"nonzero\" fill-opacity=\"1\" /><path clip-path=\"url(#clip800)\" d=\"M137.033 491.978 L155.39 491.978 L155.39 495.913 L141.316 495.913 L141.316 504.385 Q142.334 504.038 143.353 503.876 Q144.371 503.691 145.39 503.691 Q151.177 503.691 154.556 506.862 Q157.936 510.033 157.936 515.45 Q157.936 521.029 154.464 524.13 Q150.992 527.209 144.672 527.209 Q142.496 527.209 140.228 526.839 Q137.982 526.468 135.575 525.728 L135.575 521.029 Q137.658 522.163 139.881 522.718 Q142.103 523.274 144.58 523.274 Q148.584 523.274 150.922 521.168 Q153.26 519.061 153.26 515.45 Q153.26 511.839 150.922 509.732 Q148.584 507.626 144.58 507.626 Q142.705 507.626 140.83 508.043 Q138.978 508.459 137.033 509.339 L137.033 491.978 Z\" fill=\"#000000\" fill-rule=\"nonzero\" fill-opacity=\"1\" /><path clip-path=\"url(#clip800)\" d=\"M91.5706 275.946 L99.2095 275.946 L99.2095 249.58 L90.8993 251.247 L90.8993 246.988 L99.1632 245.321 L103.839 245.321 L103.839 275.946 L111.478 275.946 L111.478 279.881 L91.5706 279.881 L91.5706 275.946 Z\" fill=\"#000000\" fill-rule=\"nonzero\" fill-opacity=\"1\" /><path clip-path=\"url(#clip800)\" d=\"M120.922 274.002 L125.807 274.002 L125.807 279.881 L120.922 279.881 L120.922 274.002 Z\" fill=\"#000000\" fill-rule=\"nonzero\" fill-opacity=\"1\" /><path clip-path=\"url(#clip800)\" d=\"M145.992 248.4 Q142.381 248.4 140.552 251.965 Q138.746 255.506 138.746 262.636 Q138.746 269.742 140.552 273.307 Q142.381 276.849 145.992 276.849 Q149.626 276.849 151.431 273.307 Q153.26 269.742 153.26 262.636 Q153.26 255.506 151.431 251.965 Q149.626 248.4 145.992 248.4 M145.992 244.696 Q151.802 244.696 154.857 249.303 Q157.936 253.886 157.936 262.636 Q157.936 271.363 154.857 275.969 Q151.802 280.553 145.992 280.553 Q140.181 280.553 137.103 275.969 Q134.047 271.363 134.047 262.636 Q134.047 253.886 137.103 249.303 Q140.181 244.696 145.992 244.696 Z\" fill=\"#000000\" fill-rule=\"nonzero\" fill-opacity=\"1\" /><circle clip-path=\"url(#clip802)\" cx=\"255.035\" cy=\"542.726\" r=\"14.4\" fill=\"#009af9\" fill-rule=\"evenodd\" fill-opacity=\"1\" stroke=\"#000000\" stroke-opacity=\"1\" stroke-width=\"3.2\"/>\n",
       "<circle clip-path=\"url(#clip802)\" cx=\"362.225\" cy=\"1120.43\" r=\"14.4\" fill=\"#009af9\" fill-rule=\"evenodd\" fill-opacity=\"1\" stroke=\"#000000\" stroke-opacity=\"1\" stroke-width=\"3.2\"/>\n",
       "<circle clip-path=\"url(#clip802)\" cx=\"469.416\" cy=\"887.876\" r=\"14.4\" fill=\"#009af9\" fill-rule=\"evenodd\" fill-opacity=\"1\" stroke=\"#000000\" stroke-opacity=\"1\" stroke-width=\"3.2\"/>\n",
       "<circle clip-path=\"url(#clip802)\" cx=\"576.607\" cy=\"1204.91\" r=\"14.4\" fill=\"#009af9\" fill-rule=\"evenodd\" fill-opacity=\"1\" stroke=\"#000000\" stroke-opacity=\"1\" stroke-width=\"3.2\"/>\n",
       "<circle clip-path=\"url(#clip802)\" cx=\"683.797\" cy=\"1188.1\" r=\"14.4\" fill=\"#009af9\" fill-rule=\"evenodd\" fill-opacity=\"1\" stroke=\"#000000\" stroke-opacity=\"1\" stroke-width=\"3.2\"/>\n",
       "<circle clip-path=\"url(#clip802)\" cx=\"790.988\" cy=\"1080.89\" r=\"14.4\" fill=\"#009af9\" fill-rule=\"evenodd\" fill-opacity=\"1\" stroke=\"#000000\" stroke-opacity=\"1\" stroke-width=\"3.2\"/>\n",
       "<circle clip-path=\"url(#clip802)\" cx=\"898.179\" cy=\"1286.93\" r=\"14.4\" fill=\"#009af9\" fill-rule=\"evenodd\" fill-opacity=\"1\" stroke=\"#000000\" stroke-opacity=\"1\" stroke-width=\"3.2\"/>\n",
       "<circle clip-path=\"url(#clip802)\" cx=\"1005.37\" cy=\"1445.72\" r=\"14.4\" fill=\"#009af9\" fill-rule=\"evenodd\" fill-opacity=\"1\" stroke=\"#000000\" stroke-opacity=\"1\" stroke-width=\"3.2\"/>\n",
       "<circle clip-path=\"url(#clip802)\" cx=\"1112.56\" cy=\"888.469\" r=\"14.4\" fill=\"#009af9\" fill-rule=\"evenodd\" fill-opacity=\"1\" stroke=\"#000000\" stroke-opacity=\"1\" stroke-width=\"3.2\"/>\n",
       "<circle clip-path=\"url(#clip802)\" cx=\"1219.75\" cy=\"1014.62\" r=\"14.4\" fill=\"#009af9\" fill-rule=\"evenodd\" fill-opacity=\"1\" stroke=\"#000000\" stroke-opacity=\"1\" stroke-width=\"3.2\"/>\n",
       "<circle clip-path=\"url(#clip802)\" cx=\"1326.94\" cy=\"619.951\" r=\"14.4\" fill=\"#009af9\" fill-rule=\"evenodd\" fill-opacity=\"1\" stroke=\"#000000\" stroke-opacity=\"1\" stroke-width=\"3.2\"/>\n",
       "<circle clip-path=\"url(#clip802)\" cx=\"1434.13\" cy=\"290.755\" r=\"14.4\" fill=\"#009af9\" fill-rule=\"evenodd\" fill-opacity=\"1\" stroke=\"#000000\" stroke-opacity=\"1\" stroke-width=\"3.2\"/>\n",
       "<circle clip-path=\"url(#clip802)\" cx=\"1541.32\" cy=\"228.481\" r=\"14.4\" fill=\"#009af9\" fill-rule=\"evenodd\" fill-opacity=\"1\" stroke=\"#000000\" stroke-opacity=\"1\" stroke-width=\"3.2\"/>\n",
       "<circle clip-path=\"url(#clip802)\" cx=\"1648.51\" cy=\"289.21\" r=\"14.4\" fill=\"#009af9\" fill-rule=\"evenodd\" fill-opacity=\"1\" stroke=\"#000000\" stroke-opacity=\"1\" stroke-width=\"3.2\"/>\n",
       "<circle clip-path=\"url(#clip802)\" cx=\"1755.7\" cy=\"87.9763\" r=\"14.4\" fill=\"#009af9\" fill-rule=\"evenodd\" fill-opacity=\"1\" stroke=\"#000000\" stroke-opacity=\"1\" stroke-width=\"3.2\"/>\n",
       "<circle clip-path=\"url(#clip802)\" cx=\"1862.89\" cy=\"590.509\" r=\"14.4\" fill=\"#009af9\" fill-rule=\"evenodd\" fill-opacity=\"1\" stroke=\"#000000\" stroke-opacity=\"1\" stroke-width=\"3.2\"/>\n",
       "<circle clip-path=\"url(#clip802)\" cx=\"1970.09\" cy=\"115.107\" r=\"14.4\" fill=\"#009af9\" fill-rule=\"evenodd\" fill-opacity=\"1\" stroke=\"#000000\" stroke-opacity=\"1\" stroke-width=\"3.2\"/>\n",
       "<circle clip-path=\"url(#clip802)\" cx=\"2077.28\" cy=\"244.777\" r=\"14.4\" fill=\"#009af9\" fill-rule=\"evenodd\" fill-opacity=\"1\" stroke=\"#000000\" stroke-opacity=\"1\" stroke-width=\"3.2\"/>\n",
       "<circle clip-path=\"url(#clip802)\" cx=\"2184.47\" cy=\"741.567\" r=\"14.4\" fill=\"#009af9\" fill-rule=\"evenodd\" fill-opacity=\"1\" stroke=\"#000000\" stroke-opacity=\"1\" stroke-width=\"3.2\"/>\n",
       "<circle clip-path=\"url(#clip802)\" cx=\"2291.66\" cy=\"645.427\" r=\"14.4\" fill=\"#009af9\" fill-rule=\"evenodd\" fill-opacity=\"1\" stroke=\"#000000\" stroke-opacity=\"1\" stroke-width=\"3.2\"/>\n",
       "<polyline clip-path=\"url(#clip802)\" style=\"stroke:#0000ff; stroke-linecap:round; stroke-linejoin:round; stroke-width:4; stroke-opacity:1; fill:none\" stroke-dasharray=\"16, 10\" points=\"255.035,755.914 260.139,763.683 265.243,771.449 270.348,779.211 275.452,786.967 280.556,794.716 285.661,802.455 290.765,810.183 295.869,817.897 300.974,825.596 306.078,833.277 311.182,840.94 316.286,848.581 321.391,856.199 326.495,863.793 331.599,871.359 336.704,878.897 341.808,886.405 346.912,893.88 352.017,901.321 357.121,908.726 362.225,916.093 367.33,923.42 372.434,930.706 377.538,937.949 382.643,945.146 387.747,952.296 392.851,959.398 397.956,966.449 403.06,973.448 408.164,980.393 413.269,987.282 418.373,994.114 423.477,1000.89 428.581,1007.6 433.686,1014.25 438.79,1020.84 443.894,1027.36 448.999,1033.81 454.103,1040.19 459.207,1046.5 464.312,1052.75 469.416,1058.91 474.52,1065.01 479.625,1071.02 484.729,1076.96 489.833,1082.82 494.938,1088.6 500.042,1094.29 505.146,1099.9 510.251,1105.43 515.355,1110.86 520.459,1116.21 525.563,1121.48 530.668,1126.65 535.772,1131.73 540.876,1136.71 545.981,1141.6 551.085,1146.4 556.189,1151.1 561.294,1155.7 566.398,1160.2 571.502,1164.6 576.607,1168.9 581.711,1173.1 586.815,1177.19 591.92,1181.18 597.024,1185.07 602.128,1188.84 607.233,1192.51 612.337,1196.08 617.441,1199.53 622.546,1202.87 627.65,1206.1 632.754,1209.22 637.858,1212.23 642.963,1215.13 648.067,1217.91 653.171,1220.57 658.276,1223.13 663.38,1225.56 668.484,1227.88 673.589,1230.08 678.693,1232.17 683.797,1234.13 688.902,1235.98 694.006,1237.71 699.11,1239.32 704.215,1240.81 709.319,1242.18 714.423,1243.42 719.528,1244.55 724.632,1245.56 729.736,1246.44 734.84,1247.21 739.945,1247.85 745.049,1248.37 750.153,1248.77 755.258,1249.04 760.362,1249.19 765.466,1249.22 770.571,1249.13 775.675,1248.92 780.779,1248.58 785.884,1248.12 790.988,1247.54 796.092,1246.84 801.197,1246.02 806.301,1245.07 811.405,1244 816.51,1242.82 821.614,1241.51 826.718,1240.08 831.823,1238.53 836.927,1236.86 842.031,1235.07 847.135,1233.16 852.24,1231.14 857.344,1229 862.448,1226.74 867.553,1224.36 872.657,1221.86 877.761,1219.26 882.866,1216.53 887.97,1213.69 893.074,1210.74 898.179,1207.68 903.283,1204.5 908.387,1201.21 913.492,1197.82 918.596,1194.31 923.7,1190.69 928.805,1186.97 933.909,1183.14 939.013,1179.2 944.117,1175.16 949.222,1171.01 954.326,1166.76 959.43,1162.41 964.535,1157.96 969.639,1153.41 974.743,1148.76 979.848,1144.01 984.952,1139.17 990.056,1134.23 995.161,1129.2 1000.26,1124.07 1005.37,1118.86 1010.47,1113.55 1015.58,1108.16 1020.68,1102.67 1025.79,1097.11 1030.89,1091.45 1036,1085.72 1041.1,1079.9 1046.2,1074 1051.31,1068.02 1056.41,1061.97 1061.52,1055.84 1066.62,1049.63 1071.73,1043.36 1076.83,1037.01 1081.93,1030.59 1087.04,1024.1 1092.14,1017.55 1097.25,1010.93 1102.35,1004.25 1107.46,997.508 1112.56,990.706 1117.66,983.845 1122.77,976.927 1127.87,969.955 1132.98,962.93 1138.08,955.853 1143.19,948.727 1148.29,941.553 1153.39,934.333 1158.5,927.069 1163.6,919.762 1168.71,912.414 1173.81,905.028 1178.92,897.605 1184.02,890.147 1189.12,882.655 1194.23,875.132 1199.33,867.58 1204.44,859.999 1209.54,852.393 1214.65,844.763 1219.75,837.111 1224.85,829.439 1229.96,821.749 1235.06,814.042 1240.17,806.321 1245.27,798.587 1250.38,790.843 1255.48,783.09 1260.59,775.33 1265.69,767.566 1270.79,759.799 1275.9,752.03 1281,744.263 1286.11,736.499 1291.21,728.739 1296.32,720.986 1301.42,713.242 1306.52,705.508 1311.63,697.787 1316.73,690.08 1321.84,682.39 1326.94,674.718 1332.05,667.066 1337.15,659.436 1342.25,651.83 1347.36,644.249 1352.46,636.697 1357.57,629.174 1362.67,621.682 1367.78,614.224 1372.88,606.801 1377.98,599.415 1383.09,592.067 1388.19,584.76 1393.3,577.496 1398.4,570.276 1403.51,563.102 1408.61,555.976 1413.71,548.899 1418.82,541.874 1423.92,534.902 1429.03,527.984 1434.13,521.123 1439.24,514.321 1444.34,507.578 1449.44,500.897 1454.55,494.279 1459.65,487.726 1464.76,481.239 1469.86,474.821 1474.97,468.472 1480.07,462.194 1485.18,455.99 1490.28,449.859 1495.38,443.805 1500.49,437.828 1505.59,431.93 1510.7,426.112 1515.8,420.376 1520.91,414.723 1526.01,409.155 1531.11,403.673 1536.22,398.278 1541.32,392.972 1546.43,387.756 1551.53,382.631 1556.64,377.599 1561.74,372.66 1566.84,367.817 1571.95,363.07 1577.05,358.42 1582.16,353.869 1587.26,349.417 1592.37,345.066 1597.47,340.818 1602.57,336.672 1607.68,332.63 1612.78,328.693 1617.89,324.862 1622.99,321.137 1628.1,317.521 1633.2,314.013 1638.3,310.615 1643.41,307.328 1648.51,304.151 1653.62,301.087 1658.72,298.135 1663.83,295.297 1668.93,292.573 1674.03,289.964 1679.14,287.471 1684.24,285.094 1689.35,282.833 1694.45,280.69 1699.56,278.665 1704.66,276.758 1709.77,274.97 1714.87,273.301 1719.97,271.751 1725.08,270.322 1730.18,269.013 1735.29,267.825 1740.39,266.758 1745.5,265.813 1750.6,264.989 1755.7,264.286 1760.81,263.706 1765.91,263.247 1771.02,262.911 1776.12,262.697 1781.23,262.605 1786.33,262.636 1791.43,262.789 1796.54,263.064 1801.64,263.461 1806.75,263.981 1811.85,264.622 1816.96,265.385 1822.06,266.27 1827.16,267.277 1832.27,268.404 1837.37,269.653 1842.48,271.022 1847.58,272.511 1852.69,274.12 1857.79,275.849 1862.89,277.696 1868,279.663 1873.1,281.747 1878.21,283.949 1883.31,286.268 1888.42,288.703 1893.52,291.255 1898.62,293.921 1903.73,296.702 1908.83,299.597 1913.94,302.605 1919.04,305.726 1924.15,308.958 1929.25,312.301 1934.36,315.754 1939.46,319.316 1944.56,322.986 1949.67,326.764 1954.77,330.648 1959.88,334.638 1964.98,338.732 1970.09,342.929 1975.19,347.229 1980.29,351.63 1985.4,356.132 1990.5,360.733 1995.61,365.431 2000.71,370.227 2005.82,375.118 2010.92,380.103 2016.02,385.182 2021.13,390.353 2026.23,395.614 2031.34,400.965 2036.44,406.403 2041.55,411.929 2046.65,417.539 2051.75,423.234 2056.86,429.011 2061.96,434.869 2067.07,440.807 2072.17,446.823 2077.28,452.915 2082.38,459.083 2087.48,465.324 2092.59,471.637 2097.69,478.021 2102.8,484.474 2107.9,490.994 2113.01,497.58 2118.11,504.229 2123.21,510.942 2128.32,517.715 2133.42,524.547 2138.53,531.436 2143.63,538.381 2148.74,545.38 2153.84,552.431 2158.94,559.533 2164.05,566.683 2169.15,573.88 2174.26,581.123 2179.36,588.409 2184.47,595.736 2189.57,603.103 2194.68,610.508 2199.78,617.949 2204.88,625.424 2209.99,632.932 2215.09,640.47 2220.2,648.036 2225.3,655.63 2230.41,663.248 2235.51,670.889 2240.61,678.551 2245.72,686.233 2250.82,693.932 2255.93,701.646 2261.03,709.374 2266.14,717.113 2271.24,724.862 2276.34,732.618 2281.45,740.38 2286.55,748.146 2291.66,755.914 \"/>\n",
       "<polyline clip-path=\"url(#clip802)\" style=\"stroke:#ff0000; stroke-linecap:round; stroke-linejoin:round; stroke-width:8; stroke-opacity:1; fill:none\" points=\"255.035,589.484 260.139,605.882 265.243,622.046 270.348,637.977 275.452,653.677 280.556,669.146 285.661,684.385 290.765,699.397 295.869,714.182 300.974,728.741 306.078,743.076 311.182,757.187 316.286,771.076 321.391,784.743 326.495,798.191 331.599,811.42 336.704,824.431 341.808,837.226 346.912,849.806 352.017,862.171 357.121,874.324 362.225,886.265 367.33,897.995 372.434,909.516 377.538,920.828 382.643,931.933 387.747,942.832 392.851,953.527 397.956,964.018 403.06,974.306 408.164,984.393 413.269,994.28 418.373,1003.97 423.477,1013.46 428.581,1022.75 433.686,1031.85 438.79,1040.75 443.894,1049.46 448.999,1057.98 454.103,1066.31 459.207,1074.45 464.312,1082.4 469.416,1090.16 474.52,1097.73 479.625,1105.12 484.729,1112.33 489.833,1119.36 494.938,1126.2 500.042,1132.86 505.146,1139.34 510.251,1145.65 515.355,1151.78 520.459,1157.73 525.563,1163.51 530.668,1169.11 535.772,1174.55 540.876,1179.81 545.981,1184.9 551.085,1189.82 556.189,1194.58 561.294,1199.16 566.398,1203.59 571.502,1207.85 576.607,1211.94 581.711,1215.88 586.815,1219.65 591.92,1223.27 597.024,1226.73 602.128,1230.02 607.233,1233.17 612.337,1236.16 617.441,1238.99 622.546,1241.68 627.65,1244.21 632.754,1246.59 637.858,1248.82 642.963,1250.91 648.067,1252.84 653.171,1254.64 658.276,1256.28 663.38,1257.79 668.484,1259.15 673.589,1260.38 678.693,1261.46 683.797,1262.4 688.902,1263.21 694.006,1263.88 699.11,1264.42 704.215,1264.82 709.319,1265.09 714.423,1265.23 719.528,1265.24 724.632,1265.11 729.736,1264.86 734.84,1264.49 739.945,1263.99 745.049,1263.36 750.153,1262.61 755.258,1261.74 760.362,1260.75 765.466,1259.63 770.571,1258.4 775.675,1257.05 780.779,1255.59 785.884,1254.01 790.988,1252.31 796.092,1250.51 801.197,1248.59 806.301,1246.56 811.405,1244.42 816.51,1242.17 821.614,1239.82 826.718,1237.36 831.823,1234.79 836.927,1232.13 842.031,1229.36 847.135,1226.48 852.24,1223.51 857.344,1220.44 862.448,1217.27 867.553,1214.01 872.657,1210.65 877.761,1207.19 882.866,1203.65 887.97,1200.01 893.074,1196.28 898.179,1192.46 903.283,1188.55 908.387,1184.55 913.492,1180.47 918.596,1176.3 923.7,1172.05 928.805,1167.72 933.909,1163.31 939.013,1158.81 944.117,1154.24 949.222,1149.59 954.326,1144.86 959.43,1140.06 964.535,1135.18 969.639,1130.23 974.743,1125.2 979.848,1120.11 984.952,1114.94 990.056,1109.71 995.161,1104.41 1000.26,1099.04 1005.37,1093.61 1010.47,1088.11 1015.58,1082.56 1020.68,1076.93 1025.79,1071.25 1030.89,1065.51 1036,1059.72 1041.1,1053.86 1046.2,1047.95 1051.31,1041.98 1056.41,1035.96 1061.52,1029.89 1066.62,1023.77 1071.73,1017.6 1076.83,1011.38 1081.93,1005.11 1087.04,998.79 1092.14,992.429 1097.25,986.024 1102.35,979.576 1107.46,973.086 1112.56,966.555 1117.66,959.985 1122.77,953.376 1127.87,946.73 1132.98,940.048 1138.08,933.331 1143.19,926.581 1148.29,919.798 1153.39,912.983 1158.5,906.139 1163.6,899.265 1168.71,892.364 1173.81,885.435 1178.92,878.482 1184.02,871.503 1189.12,864.502 1194.23,857.478 1199.33,850.434 1204.44,843.37 1209.54,836.287 1214.65,829.187 1219.75,822.071 1224.85,814.939 1229.96,807.794 1235.06,800.636 1240.17,793.466 1245.27,786.286 1250.38,779.097 1255.48,771.9 1260.59,764.695 1265.69,757.485 1270.79,750.27 1275.9,743.052 1281,735.832 1286.11,728.61 1291.21,721.389 1296.32,714.168 1301.42,706.95 1306.52,699.736 1311.63,692.526 1316.73,685.323 1321.84,678.126 1326.94,670.937 1332.05,663.758 1337.15,656.59 1342.25,649.433 1347.36,642.289 1352.46,635.158 1357.57,628.044 1362.67,620.945 1367.78,613.864 1372.88,606.802 1377.98,599.759 1383.09,592.738 1388.19,585.738 1393.3,578.762 1398.4,571.811 1403.51,564.885 1408.61,557.986 1413.71,551.115 1418.82,544.273 1423.92,537.462 1429.03,530.682 1434.13,523.934 1439.24,517.221 1444.34,510.542 1449.44,503.9 1454.55,497.294 1459.65,490.728 1464.76,484.201 1469.86,477.714 1474.97,471.27 1480.07,464.869 1485.18,458.512 1490.28,452.2 1495.38,445.935 1500.49,439.718 1505.59,433.55 1510.7,427.432 1515.8,421.365 1520.91,415.351 1526.01,409.39 1531.11,403.484 1536.22,397.634 1541.32,391.841 1546.43,386.106 1551.53,380.431 1556.64,374.816 1561.74,369.263 1566.84,363.773 1571.95,358.347 1577.05,352.987 1582.16,347.692 1587.26,342.465 1592.37,337.307 1597.47,332.219 1602.57,327.202 1607.68,322.257 1612.78,317.386 1617.89,312.589 1622.99,307.867 1628.1,303.223 1633.2,298.657 1638.3,294.17 1643.41,289.763 1648.51,285.438 1653.62,281.195 1658.72,277.037 1663.83,272.963 1668.93,268.975 1674.03,265.075 1679.14,261.264 1684.24,257.542 1689.35,253.911 1694.45,250.372 1699.56,246.926 1704.66,243.574 1709.77,240.318 1714.87,237.159 1719.97,234.098 1725.08,231.135 1730.18,228.273 1735.29,225.512 1740.39,222.853 1745.5,220.298 1750.6,217.848 1755.7,215.504 1760.81,213.267 1765.91,211.138 1771.02,209.119 1776.12,207.21 1781.23,205.413 1786.33,203.73 1791.43,202.16 1796.54,200.705 1801.64,199.368 1806.75,198.147 1811.85,197.046 1816.96,196.064 1822.06,195.203 1827.16,194.465 1832.27,193.85 1837.37,193.36 1842.48,192.996 1847.58,192.758 1852.69,192.649 1857.79,192.669 1862.89,192.819 1868,193.101 1873.1,193.515 1878.21,194.064 1883.31,194.747 1888.42,195.567 1893.52,196.525 1898.62,197.62 1903.73,198.856 1908.83,200.232 1913.94,201.751 1919.04,203.412 1924.15,205.219 1929.25,207.17 1934.36,209.269 1939.46,211.515 1944.56,213.91 1949.67,216.456 1954.77,219.152 1959.88,222.002 1964.98,225.005 1970.09,228.163 1975.19,231.477 1980.29,234.948 1985.4,238.578 1990.5,242.367 1995.61,246.317 2000.71,250.428 2005.82,254.703 2010.92,259.142 2016.02,263.746 2021.13,268.516 2026.23,273.455 2031.34,278.562 2036.44,283.839 2041.55,289.287 2046.65,294.908 2051.75,300.702 2056.86,306.671 2061.96,312.815 2067.07,319.137 2072.17,325.637 2077.28,332.316 2082.38,339.175 2087.48,346.216 2092.59,353.44 2097.69,360.848 2102.8,368.441 2107.9,376.22 2113.01,384.187 2118.11,392.342 2123.21,400.688 2128.32,409.224 2133.42,417.952 2138.53,426.873 2143.63,435.989 2148.74,445.301 2153.84,454.809 2158.94,464.515 2164.05,474.421 2169.15,484.526 2174.26,494.833 2179.36,505.343 2184.47,516.056 2189.57,526.975 2194.68,538.099 2199.78,549.431 2204.88,560.971 2209.99,572.72 2215.09,584.681 2220.2,596.853 2225.3,609.238 2230.41,621.838 2235.51,634.653 2240.61,647.684 2245.72,660.933 2250.82,674.401 2255.93,688.089 2261.03,701.999 2266.14,716.13 2271.24,730.486 2276.34,745.066 2281.45,759.871 2286.55,774.904 2291.66,790.165 \"/>\n",
       "<path clip-path=\"url(#clip800)\" d=\"M265.897 302.578 L964.137 302.578 L964.137 95.2176 L265.897 95.2176  Z\" fill=\"#ffffff\" fill-rule=\"evenodd\" fill-opacity=\"1\"/>\n",
       "<polyline clip-path=\"url(#clip800)\" style=\"stroke:#000000; stroke-linecap:round; stroke-linejoin:round; stroke-width:4; stroke-opacity:1; fill:none\" points=\"265.897,302.578 964.137,302.578 964.137,95.2176 265.897,95.2176 265.897,302.578 \"/>\n",
       "<circle clip-path=\"url(#clip800)\" cx=\"361.844\" cy=\"147.058\" r=\"20.48\" fill=\"#009af9\" fill-rule=\"evenodd\" fill-opacity=\"1\" stroke=\"#000000\" stroke-opacity=\"1\" stroke-width=\"4.55111\"/>\n",
       "<path clip-path=\"url(#clip800)\" d=\"M476.218 139.176 L476.218 143.203 Q474.412 142.277 472.468 141.815 Q470.523 141.352 468.44 141.352 Q465.269 141.352 463.671 142.324 Q462.097 143.296 462.097 145.24 Q462.097 146.722 463.232 147.578 Q464.366 148.412 467.792 149.176 L469.25 149.5 Q473.787 150.472 475.685 152.254 Q477.606 154.014 477.606 157.185 Q477.606 160.796 474.736 162.902 Q471.889 165.009 466.889 165.009 Q464.806 165.009 462.537 164.592 Q460.292 164.199 457.792 163.388 L457.792 158.99 Q460.153 160.217 462.445 160.842 Q464.736 161.444 466.982 161.444 Q469.991 161.444 471.611 160.426 Q473.231 159.384 473.231 157.509 Q473.231 155.773 472.051 154.847 Q470.894 153.921 466.935 153.064 L465.454 152.717 Q461.495 151.884 459.736 150.171 Q457.977 148.435 457.977 145.426 Q457.977 141.768 460.57 139.778 Q463.162 137.787 467.931 137.787 Q470.292 137.787 472.375 138.134 Q474.458 138.481 476.218 139.176 Z\" fill=\"#000000\" fill-rule=\"nonzero\" fill-opacity=\"1\" /><path clip-path=\"url(#clip800)\" d=\"M496.171 151.305 Q491.009 151.305 489.018 152.486 Q487.028 153.666 487.028 156.514 Q487.028 158.782 488.509 160.125 Q490.014 161.444 492.583 161.444 Q496.125 161.444 498.255 158.944 Q500.407 156.421 500.407 152.254 L500.407 151.305 L496.171 151.305 M504.667 149.546 L504.667 164.338 L500.407 164.338 L500.407 160.402 Q498.949 162.763 496.773 163.898 Q494.597 165.009 491.449 165.009 Q487.468 165.009 485.106 162.787 Q482.768 160.541 482.768 156.791 Q482.768 152.416 485.685 150.194 Q488.625 147.972 494.435 147.972 L500.407 147.972 L500.407 147.555 Q500.407 144.615 498.463 143.018 Q496.542 141.398 493.046 141.398 Q490.824 141.398 488.718 141.93 Q486.611 142.463 484.667 143.527 L484.667 139.592 Q487.005 138.69 489.204 138.25 Q491.403 137.787 493.486 137.787 Q499.111 137.787 501.889 140.703 Q504.667 143.62 504.667 149.546 Z\" fill=\"#000000\" fill-rule=\"nonzero\" fill-opacity=\"1\" /><path clip-path=\"url(#clip800)\" d=\"M533.625 143.389 Q535.222 140.518 537.444 139.153 Q539.666 137.787 542.676 137.787 Q546.726 137.787 548.926 140.634 Q551.125 143.458 551.125 148.689 L551.125 164.338 L546.842 164.338 L546.842 148.828 Q546.842 145.102 545.523 143.296 Q544.203 141.49 541.495 141.49 Q538.185 141.49 536.264 143.69 Q534.342 145.889 534.342 149.685 L534.342 164.338 L530.06 164.338 L530.06 148.828 Q530.06 145.078 528.74 143.296 Q527.421 141.49 524.666 141.49 Q521.403 141.49 519.481 143.713 Q517.56 145.912 517.56 149.685 L517.56 164.338 L513.278 164.338 L513.278 138.412 L517.56 138.412 L517.56 142.44 Q519.018 140.055 521.055 138.921 Q523.092 137.787 525.893 137.787 Q528.717 137.787 530.685 139.222 Q532.676 140.657 533.625 143.389 Z\" fill=\"#000000\" fill-rule=\"nonzero\" fill-opacity=\"1\" /><path clip-path=\"url(#clip800)\" d=\"M563.74 160.449 L563.74 174.199 L559.458 174.199 L559.458 138.412 L563.74 138.412 L563.74 142.347 Q565.083 140.032 567.12 138.921 Q569.18 137.787 572.027 137.787 Q576.749 137.787 579.689 141.537 Q582.652 145.287 582.652 151.398 Q582.652 157.509 579.689 161.259 Q576.749 165.009 572.027 165.009 Q569.18 165.009 567.12 163.898 Q565.083 162.763 563.74 160.449 M578.231 151.398 Q578.231 146.699 576.286 144.037 Q574.365 141.352 570.986 141.352 Q567.606 141.352 565.662 144.037 Q563.74 146.699 563.74 151.398 Q563.74 156.097 565.662 158.782 Q567.606 161.444 570.986 161.444 Q574.365 161.444 576.286 158.782 Q578.231 156.097 578.231 151.398 Z\" fill=\"#000000\" fill-rule=\"nonzero\" fill-opacity=\"1\" /><path clip-path=\"url(#clip800)\" d=\"M589.712 128.319 L593.972 128.319 L593.972 164.338 L589.712 164.338 L589.712 128.319 Z\" fill=\"#000000\" fill-rule=\"nonzero\" fill-opacity=\"1\" /><path clip-path=\"url(#clip800)\" d=\"M625.059 150.31 L625.059 152.393 L605.476 152.393 Q605.754 156.791 608.115 159.106 Q610.499 161.398 614.735 161.398 Q617.189 161.398 619.481 160.796 Q621.796 160.194 624.064 158.99 L624.064 163.018 Q621.772 163.99 619.365 164.5 Q616.958 165.009 614.481 165.009 Q608.277 165.009 604.643 161.398 Q601.032 157.787 601.032 151.629 Q601.032 145.264 604.458 141.537 Q607.907 137.787 613.74 137.787 Q618.971 137.787 622.004 141.166 Q625.059 144.523 625.059 150.31 M620.8 149.06 Q620.754 145.565 618.833 143.481 Q616.934 141.398 613.786 141.398 Q610.222 141.398 608.069 143.412 Q605.939 145.426 605.615 149.083 L620.8 149.06 Z\" fill=\"#000000\" fill-rule=\"nonzero\" fill-opacity=\"1\" /><polyline clip-path=\"url(#clip800)\" style=\"stroke:#0000ff; stroke-linecap:round; stroke-linejoin:round; stroke-width:4; stroke-opacity:1; fill:none\" stroke-dasharray=\"16, 10\" points=\"289.884,198.898 433.805,198.898 \"/>\n",
       "<path clip-path=\"url(#clip800)\" d=\"M476.218 191.016 L476.218 195.043 Q474.412 194.117 472.468 193.655 Q470.523 193.192 468.44 193.192 Q465.269 193.192 463.671 194.164 Q462.097 195.136 462.097 197.08 Q462.097 198.562 463.232 199.418 Q464.366 200.252 467.792 201.016 L469.25 201.34 Q473.787 202.312 475.685 204.094 Q477.606 205.854 477.606 209.025 Q477.606 212.636 474.736 214.742 Q471.889 216.849 466.889 216.849 Q464.806 216.849 462.537 216.432 Q460.292 216.039 457.792 215.228 L457.792 210.83 Q460.153 212.057 462.445 212.682 Q464.736 213.284 466.982 213.284 Q469.991 213.284 471.611 212.266 Q473.231 211.224 473.231 209.349 Q473.231 207.613 472.051 206.687 Q470.894 205.761 466.935 204.904 L465.454 204.557 Q461.495 203.724 459.736 202.011 Q457.977 200.275 457.977 197.266 Q457.977 193.608 460.57 191.618 Q463.162 189.627 467.931 189.627 Q470.292 189.627 472.375 189.974 Q474.458 190.321 476.218 191.016 Z\" fill=\"#000000\" fill-rule=\"nonzero\" fill-opacity=\"1\" /><path clip-path=\"url(#clip800)\" d=\"M484.389 190.252 L488.648 190.252 L488.648 216.178 L484.389 216.178 L484.389 190.252 M484.389 180.159 L488.648 180.159 L488.648 185.553 L484.389 185.553 L484.389 180.159 Z\" fill=\"#000000\" fill-rule=\"nonzero\" fill-opacity=\"1\" /><path clip-path=\"url(#clip800)\" d=\"M519.111 200.529 L519.111 216.178 L514.852 216.178 L514.852 200.668 Q514.852 196.988 513.416 195.159 Q511.981 193.33 509.111 193.33 Q505.662 193.33 503.671 195.53 Q501.68 197.729 501.68 201.525 L501.68 216.178 L497.398 216.178 L497.398 190.252 L501.68 190.252 L501.68 194.28 Q503.208 191.942 505.268 190.784 Q507.352 189.627 510.06 189.627 Q514.528 189.627 516.819 192.405 Q519.111 195.159 519.111 200.529 Z\" fill=\"#000000\" fill-rule=\"nonzero\" fill-opacity=\"1\" /><path clip-path=\"url(#clip800)\" d=\"M537.838 180.206 Q534.736 185.53 533.231 190.738 Q531.727 195.946 531.727 201.293 Q531.727 206.641 533.231 211.895 Q534.759 217.127 537.838 222.428 L534.134 222.428 Q530.662 216.988 528.926 211.733 Q527.213 206.479 527.213 201.293 Q527.213 196.131 528.926 190.9 Q530.639 185.668 534.134 180.206 L537.838 180.206 Z\" fill=\"#000000\" fill-rule=\"nonzero\" fill-opacity=\"1\" /><path clip-path=\"url(#clip800)\" d=\"M567.652 190.252 L558.277 202.867 L568.138 216.178 L563.115 216.178 L555.569 205.992 L548.023 216.178 L543 216.178 L553.069 202.613 L543.856 190.252 L548.879 190.252 L555.754 199.488 L562.629 190.252 L567.652 190.252 Z\" fill=\"#000000\" fill-rule=\"nonzero\" fill-opacity=\"1\" /><path clip-path=\"url(#clip800)\" d=\"M573.486 180.206 L577.189 180.206 Q580.661 185.668 582.374 190.9 Q584.111 196.131 584.111 201.293 Q584.111 206.479 582.374 211.733 Q580.661 216.988 577.189 222.428 L573.486 222.428 Q576.564 217.127 578.069 211.895 Q579.597 206.641 579.597 201.293 Q579.597 195.946 578.069 190.738 Q576.564 185.53 573.486 180.206 Z\" fill=\"#000000\" fill-rule=\"nonzero\" fill-opacity=\"1\" /><polyline clip-path=\"url(#clip800)\" style=\"stroke:#ff0000; stroke-linecap:round; stroke-linejoin:round; stroke-width:8; stroke-opacity:1; fill:none\" points=\"289.884,250.738 433.805,250.738 \"/>\n",
       "<path clip-path=\"url(#clip800)\" d=\"M476.704 246.027 L476.704 231.999 L480.963 231.999 L480.963 268.018 L476.704 268.018 L476.704 264.129 Q475.361 266.443 473.301 267.578 Q471.264 268.689 468.394 268.689 Q463.695 268.689 460.732 264.939 Q457.792 261.189 457.792 255.078 Q457.792 248.967 460.732 245.217 Q463.695 241.467 468.394 241.467 Q471.264 241.467 473.301 242.601 Q475.361 243.712 476.704 246.027 M462.19 255.078 Q462.19 259.777 464.111 262.462 Q466.056 265.124 469.435 265.124 Q472.815 265.124 474.759 262.462 Q476.704 259.777 476.704 255.078 Q476.704 250.379 474.759 247.717 Q472.815 245.032 469.435 245.032 Q466.056 245.032 464.111 247.717 Q462.19 250.379 462.19 255.078 Z\" fill=\"#000000\" fill-rule=\"nonzero\" fill-opacity=\"1\" /><path clip-path=\"url(#clip800)\" d=\"M511.912 253.99 L511.912 256.073 L492.329 256.073 Q492.606 260.471 494.967 262.786 Q497.352 265.078 501.588 265.078 Q504.042 265.078 506.333 264.476 Q508.648 263.874 510.916 262.67 L510.916 266.698 Q508.625 267.67 506.217 268.18 Q503.81 268.689 501.333 268.689 Q495.13 268.689 491.495 265.078 Q487.884 261.467 487.884 255.309 Q487.884 248.944 491.31 245.217 Q494.759 241.467 500.592 241.467 Q505.824 241.467 508.856 244.846 Q511.912 248.203 511.912 253.99 M507.653 252.74 Q507.606 249.245 505.685 247.161 Q503.787 245.078 500.639 245.078 Q497.074 245.078 494.921 247.092 Q492.792 249.106 492.468 252.763 L507.653 252.74 Z\" fill=\"#000000\" fill-rule=\"nonzero\" fill-opacity=\"1\" /><path clip-path=\"url(#clip800)\" d=\"M535.963 254.754 Q535.963 250.124 534.041 247.578 Q532.143 245.032 528.694 245.032 Q525.268 245.032 523.347 247.578 Q521.449 250.124 521.449 254.754 Q521.449 259.36 523.347 261.906 Q525.268 264.453 528.694 264.453 Q532.143 264.453 534.041 261.906 Q535.963 259.36 535.963 254.754 M540.222 264.8 Q540.222 271.42 537.282 274.638 Q534.342 277.879 528.277 277.879 Q526.032 277.879 524.041 277.531 Q522.051 277.207 520.176 276.513 L520.176 272.369 Q522.051 273.388 523.879 273.874 Q525.708 274.36 527.606 274.36 Q531.796 274.36 533.879 272.161 Q535.963 269.985 535.963 265.564 L535.963 263.457 Q534.643 265.749 532.583 266.883 Q530.523 268.018 527.653 268.018 Q522.884 268.018 519.967 264.383 Q517.051 260.749 517.051 254.754 Q517.051 248.735 519.967 245.101 Q522.884 241.467 527.653 241.467 Q530.523 241.467 532.583 242.601 Q534.643 243.735 535.963 246.027 L535.963 242.092 L540.222 242.092 L540.222 264.8 Z\" fill=\"#000000\" fill-rule=\"nonzero\" fill-opacity=\"1\" /><path clip-path=\"url(#clip800)\" d=\"M564.018 246.073 Q563.3 245.657 562.444 245.471 Q561.611 245.263 560.592 245.263 Q556.981 245.263 555.037 247.624 Q553.115 249.962 553.115 254.36 L553.115 268.018 L548.833 268.018 L548.833 242.092 L553.115 242.092 L553.115 246.12 Q554.458 243.758 556.611 242.624 Q558.763 241.467 561.842 241.467 Q562.282 241.467 562.814 241.536 Q563.347 241.583 563.995 241.698 L564.018 246.073 Z\" fill=\"#000000\" fill-rule=\"nonzero\" fill-opacity=\"1\" /><path clip-path=\"url(#clip800)\" d=\"M589.62 253.99 L589.62 256.073 L570.037 256.073 Q570.314 260.471 572.675 262.786 Q575.06 265.078 579.296 265.078 Q581.749 265.078 584.041 264.476 Q586.356 263.874 588.624 262.67 L588.624 266.698 Q586.333 267.67 583.925 268.18 Q581.518 268.689 579.041 268.689 Q572.837 268.689 569.203 265.078 Q565.592 261.467 565.592 255.309 Q565.592 248.944 569.018 245.217 Q572.467 241.467 578.3 241.467 Q583.532 241.467 586.564 244.846 Q589.62 248.203 589.62 253.99 M585.361 252.74 Q585.314 249.245 583.393 247.161 Q581.495 245.078 578.347 245.078 Q574.782 245.078 572.629 247.092 Q570.499 249.106 570.175 252.763 L585.361 252.74 Z\" fill=\"#000000\" fill-rule=\"nonzero\" fill-opacity=\"1\" /><path clip-path=\"url(#clip800)\" d=\"M618.786 253.99 L618.786 256.073 L599.203 256.073 Q599.481 260.471 601.842 262.786 Q604.226 265.078 608.462 265.078 Q610.916 265.078 613.208 264.476 Q615.522 263.874 617.791 262.67 L617.791 266.698 Q615.499 267.67 613.092 268.18 Q610.684 268.689 608.208 268.689 Q602.004 268.689 598.37 265.078 Q594.759 261.467 594.759 255.309 Q594.759 248.944 598.185 245.217 Q601.634 241.467 607.467 241.467 Q612.698 241.467 615.731 244.846 Q618.786 248.203 618.786 253.99 M614.527 252.74 Q614.481 249.245 612.559 247.161 Q610.661 245.078 607.513 245.078 Q603.948 245.078 601.796 247.092 Q599.666 249.106 599.342 252.763 L614.527 252.74 Z\" fill=\"#000000\" fill-rule=\"nonzero\" fill-opacity=\"1\" /><path clip-path=\"url(#clip800)\" d=\"M623.624 253.133 L636.101 253.133 L636.101 256.93 L623.624 256.93 L623.624 253.133 Z\" fill=\"#000000\" fill-rule=\"nonzero\" fill-opacity=\"1\" /><path clip-path=\"url(#clip800)\" d=\"M657.652 249.383 Q661.008 250.101 662.883 252.369 Q664.781 254.638 664.781 257.971 Q664.781 263.087 661.263 265.888 Q657.744 268.689 651.263 268.689 Q649.087 268.689 646.772 268.249 Q644.481 267.832 642.027 266.976 L642.027 262.462 Q643.971 263.596 646.286 264.175 Q648.601 264.754 651.124 264.754 Q655.522 264.754 657.814 263.018 Q660.129 261.281 660.129 257.971 Q660.129 254.916 657.976 253.203 Q655.846 251.467 652.027 251.467 L647.999 251.467 L647.999 247.624 L652.212 247.624 Q655.661 247.624 657.49 246.258 Q659.318 244.87 659.318 242.277 Q659.318 239.615 657.42 238.203 Q655.545 236.768 652.027 236.768 Q650.106 236.768 647.906 237.184 Q645.707 237.601 643.069 238.481 L643.069 234.314 Q645.731 233.573 648.045 233.203 Q650.383 232.833 652.443 232.833 Q657.768 232.833 660.869 235.263 Q663.971 237.67 663.971 241.791 Q663.971 244.661 662.328 246.652 Q660.684 248.62 657.652 249.383 Z\" fill=\"#000000\" fill-rule=\"nonzero\" fill-opacity=\"1\" /><path clip-path=\"url(#clip800)\" d=\"M692.235 264.129 L692.235 277.879 L687.953 277.879 L687.953 242.092 L692.235 242.092 L692.235 246.027 Q693.578 243.712 695.615 242.601 Q697.675 241.467 700.522 241.467 Q705.244 241.467 708.184 245.217 Q711.147 248.967 711.147 255.078 Q711.147 261.189 708.184 264.939 Q705.244 268.689 700.522 268.689 Q697.675 268.689 695.615 267.578 Q693.578 266.443 692.235 264.129 M706.726 255.078 Q706.726 250.379 704.781 247.717 Q702.86 245.032 699.48 245.032 Q696.101 245.032 694.156 247.717 Q692.235 250.379 692.235 255.078 Q692.235 259.777 694.156 262.462 Q696.101 265.124 699.48 265.124 Q702.86 265.124 704.781 262.462 Q706.726 259.777 706.726 255.078 Z\" fill=\"#000000\" fill-rule=\"nonzero\" fill-opacity=\"1\" /><path clip-path=\"url(#clip800)\" d=\"M728.253 245.078 Q724.827 245.078 722.837 247.763 Q720.846 250.425 720.846 255.078 Q720.846 259.731 722.813 262.416 Q724.804 265.078 728.253 265.078 Q731.656 265.078 733.647 262.393 Q735.637 259.707 735.637 255.078 Q735.637 250.471 733.647 247.786 Q731.656 245.078 728.253 245.078 M728.253 241.467 Q733.809 241.467 736.98 245.078 Q740.151 248.689 740.151 255.078 Q740.151 261.444 736.98 265.078 Q733.809 268.689 728.253 268.689 Q722.675 268.689 719.503 265.078 Q716.355 261.444 716.355 255.078 Q716.355 248.689 719.503 245.078 Q722.675 241.467 728.253 241.467 Z\" fill=\"#000000\" fill-rule=\"nonzero\" fill-opacity=\"1\" /><path clip-path=\"url(#clip800)\" d=\"M747.212 231.999 L751.471 231.999 L751.471 268.018 L747.212 268.018 L747.212 231.999 Z\" fill=\"#000000\" fill-rule=\"nonzero\" fill-opacity=\"1\" /><path clip-path=\"url(#clip800)\" d=\"M771.17 270.425 Q769.364 275.055 767.651 276.467 Q765.938 277.879 763.068 277.879 L759.665 277.879 L759.665 274.314 L762.165 274.314 Q763.924 274.314 764.897 273.48 Q765.869 272.647 767.049 269.545 L767.813 267.601 L757.327 242.092 L761.841 242.092 L769.943 262.369 L778.045 242.092 L782.559 242.092 L771.17 270.425 Z\" fill=\"#000000\" fill-rule=\"nonzero\" fill-opacity=\"1\" /><path clip-path=\"url(#clip800)\" d=\"M809.989 252.369 L809.989 268.018 L805.73 268.018 L805.73 252.508 Q805.73 248.828 804.295 246.999 Q802.859 245.17 799.989 245.17 Q796.54 245.17 794.549 247.37 Q792.558 249.569 792.558 253.365 L792.558 268.018 L788.276 268.018 L788.276 242.092 L792.558 242.092 L792.558 246.12 Q794.086 243.782 796.146 242.624 Q798.23 241.467 800.938 241.467 Q805.406 241.467 807.697 244.245 Q809.989 246.999 809.989 252.369 Z\" fill=\"#000000\" fill-rule=\"nonzero\" fill-opacity=\"1\" /><path clip-path=\"url(#clip800)\" d=\"M828.531 245.078 Q825.105 245.078 823.114 247.763 Q821.123 250.425 821.123 255.078 Q821.123 259.731 823.091 262.416 Q825.081 265.078 828.531 265.078 Q831.933 265.078 833.924 262.393 Q835.915 259.707 835.915 255.078 Q835.915 250.471 833.924 247.786 Q831.933 245.078 828.531 245.078 M828.531 241.467 Q834.086 241.467 837.257 245.078 Q840.429 248.689 840.429 255.078 Q840.429 261.444 837.257 265.078 Q834.086 268.689 828.531 268.689 Q822.952 268.689 819.781 265.078 Q816.632 261.444 816.632 255.078 Q816.632 248.689 819.781 245.078 Q822.952 241.467 828.531 241.467 Z\" fill=\"#000000\" fill-rule=\"nonzero\" fill-opacity=\"1\" /><path clip-path=\"url(#clip800)\" d=\"M867.674 247.069 Q869.271 244.198 871.493 242.833 Q873.715 241.467 876.725 241.467 Q880.776 241.467 882.975 244.314 Q885.174 247.138 885.174 252.369 L885.174 268.018 L880.891 268.018 L880.891 252.508 Q880.891 248.782 879.572 246.976 Q878.252 245.17 875.544 245.17 Q872.234 245.17 870.313 247.37 Q868.391 249.569 868.391 253.365 L868.391 268.018 L864.109 268.018 L864.109 252.508 Q864.109 248.758 862.79 246.976 Q861.47 245.17 858.716 245.17 Q855.452 245.17 853.53 247.393 Q851.609 249.592 851.609 253.365 L851.609 268.018 L847.327 268.018 L847.327 242.092 L851.609 242.092 L851.609 246.12 Q853.067 243.735 855.104 242.601 Q857.141 241.467 859.942 241.467 Q862.766 241.467 864.734 242.902 Q866.725 244.337 867.674 247.069 Z\" fill=\"#000000\" fill-rule=\"nonzero\" fill-opacity=\"1\" /><path clip-path=\"url(#clip800)\" d=\"M893.669 242.092 L897.928 242.092 L897.928 268.018 L893.669 268.018 L893.669 242.092 M893.669 231.999 L897.928 231.999 L897.928 237.393 L893.669 237.393 L893.669 231.999 Z\" fill=\"#000000\" fill-rule=\"nonzero\" fill-opacity=\"1\" /><path clip-path=\"url(#clip800)\" d=\"M918.623 254.985 Q913.461 254.985 911.47 256.166 Q909.479 257.346 909.479 260.194 Q909.479 262.462 910.961 263.805 Q912.465 265.124 915.035 265.124 Q918.576 265.124 920.706 262.624 Q922.859 260.101 922.859 255.934 L922.859 254.985 L918.623 254.985 M927.118 253.226 L927.118 268.018 L922.859 268.018 L922.859 264.082 Q921.4 266.443 919.224 267.578 Q917.049 268.689 913.9 268.689 Q909.919 268.689 907.558 266.467 Q905.22 264.221 905.22 260.471 Q905.22 256.096 908.137 253.874 Q911.076 251.652 916.887 251.652 L922.859 251.652 L922.859 251.235 Q922.859 248.295 920.914 246.698 Q918.993 245.078 915.498 245.078 Q913.275 245.078 911.169 245.61 Q909.062 246.143 907.118 247.207 L907.118 243.272 Q909.456 242.37 911.655 241.93 Q913.854 241.467 915.937 241.467 Q921.562 241.467 924.34 244.383 Q927.118 247.3 927.118 253.226 Z\" fill=\"#000000\" fill-rule=\"nonzero\" fill-opacity=\"1\" /><path clip-path=\"url(#clip800)\" d=\"M935.891 231.999 L940.15 231.999 L940.15 268.018 L935.891 268.018 L935.891 231.999 Z\" fill=\"#000000\" fill-rule=\"nonzero\" fill-opacity=\"1\" /></svg>\n"
      ],
      "text/html": [
       "<img src=\"data:image/png;base64,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\" />"
      ]
     },
     "execution_count": 64,
     "metadata": {},
     "output_type": "execute_result"
    }
   ],
   "source": [
    "@teval (:block, \n",
    "    (:using, (:., :Plots)), \n",
    "    (:default, (:kw, :fmt, QuoteNode(:png))), \n",
    "    (:(=), :n, 20), \n",
    "    (:(=), :x, (:range, (:parameters, (:kw, :length, 20)), (:-, :π), :π)), \n",
    "    (:(=), :noise, (:*, 0.3, (:randn, :n))), \n",
    "    (:(=), :y, (:+, (:., :sin, (:tuple, :x)), :noise)), \n",
    "    (:(=), :X, (:call, :.^, :x, (Symbol(\"'\"), (:call, :(:), 0, 3)))),  \n",
    "    (:(=), :b, (:\\, :X, :y)), \n",
    "    (:(=), (:call, :f, :x), (:block, (:call, :evalpoly, :x, :b))),\n",
    "    (:(=), :xs, (:range, (:parameters, (:kw, :length, 400)), (:-, :π), :π)), \n",
    "    (:plot, (:parameters, (:kw, :legend, QuoteNode(:topleft)))), \n",
    "    (:scatter!, (:parameters, (:kw, :label, \"sample\")), :x, :y), \n",
    "    (:plot!, (:parameters, \n",
    "            (:kw, :label, \"sin(x)\"), \n",
    "            (:kw, :color, QuoteNode(:blue)), \n",
    "            (:kw, :ls, QuoteNode(:dash))), \n",
    "        :xs, (:., :sin, (:tuple, :xs))), \n",
    "    (:plot!, (:parameters, \n",
    "            (:kw, :label, \"degree-3 polynomial\"), \n",
    "            (:kw, :color, QuoteNode(:red)), \n",
    "            (:kw, :lw, 2)), \n",
    "        :xs, (:., :f, (:tuple, :xs))))"
   ]
  },
  {
   "cell_type": "code",
   "execution_count": 65,
   "metadata": {},
   "outputs": [
    {
     "data": {
      "text/markdown": [
       "```julia\n",
       "begin\n",
       "    using Plots\n",
       "    default(fmt = :png)\n",
       "    n = 20\n",
       "    x = range(-π, π; length = 20)\n",
       "    noise = 0.3 * randn(n)\n",
       "    y = sin.(x) + noise\n",
       "    X = x .^ var\"'\"(0:3)\n",
       "    b = X \\ y\n",
       "    f(x) = begin\n",
       "            evalpoly(x, b)\n",
       "        end\n",
       "    xs = range(-π, π; length = 400)\n",
       "    plot(; legend = :topleft)\n",
       "    scatter!(x, y; label = \"sample\")\n",
       "    plot!(xs, sin.(xs); label = \"sin(x)\", color = :blue, ls = :dash)\n",
       "    plot!(xs, f.(xs); label = \"degree-3 polynomial\", color = :red, lw = 2)\n",
       "end\n",
       "```"
      ]
     },
     "metadata": {},
     "output_type": "display_data"
    }
   ],
   "source": [
    "(:block, \n",
    "    (:using, (:., :Plots)),\n",
    "    (:default, (:kw, :fmt, QuoteNode(:png))), \n",
    "    (:(=), :n, 20), \n",
    "    (:(=), :x, (:range, (:parameters, (:kw, :length, 20)), (:-, :π), :π)), \n",
    "    (:(=), :noise, (:*, 0.3, (:randn, :n))), \n",
    "    (:(=), :y, (:+, (:., :sin, (:tuple, :x)), :noise)), \n",
    "    (:(=), :X, (:call, :.^, :x, (Symbol(\"'\"), (:call, :(:), 0, 3)))),  \n",
    "    (:(=), :b, (:\\, :X, :y)), \n",
    "    (:(=), (:call, :f, :x), (:block, (:call, :evalpoly, :x, :b))),\n",
    "    (:(=), :xs, (:range, (:parameters, (:kw, :length, 400)), (:-, :π), :π)), \n",
    "    (:plot, (:parameters, (:kw, :legend, QuoteNode(:topleft)))), \n",
    "    (:scatter!, (:parameters, (:kw, :label, \"sample\")), :x, :y), \n",
    "    (:plot!, (:parameters, \n",
    "            (:kw, :label, \"sin(x)\"), \n",
    "            (:kw, :color, QuoteNode(:blue)), \n",
    "            (:kw, :ls, QuoteNode(:dash))), \n",
    "        :xs, (:., :sin, (:tuple, :xs))), \n",
    "    (:plot!, (:parameters, \n",
    "            (:kw, :label, \"degree-3 polynomial\"), \n",
    "            (:kw, :color, QuoteNode(:red)), \n",
    "            (:kw, :lw, 2)), \n",
    "        :xs, (:., :f, (:tuple, :xs)))) |> texpr2expr |> \n",
    "x -> display(\"text/markdown\", \"```julia\\n$x\\n```\")"
   ]
  },
  {
   "cell_type": "markdown",
   "metadata": {},
   "source": [
    "## Documents"
   ]
  },
  {
   "cell_type": "code",
   "execution_count": 66,
   "metadata": {},
   "outputs": [
    {
     "data": {
      "text/latex": [
       "\\begin{verbatim}\n",
       "MetaUtils\n",
       "\\end{verbatim}\n",
       "contains utilities for metaprogramming in Julia.\n",
       "\n",
       "\\begin{verbatim}\n",
       "export @show_sexpr, \n",
       "    show_tree, @show_tree, \n",
       "    print_subtypes, \n",
       "    show_expr, @show_expr, \n",
       "    show_texpr, @show_texpr, \n",
       "    texpr2expr, teval, @teval\n",
       "\\end{verbatim}\n"
      ],
      "text/markdown": [
       "```\n",
       "MetaUtils\n",
       "```\n",
       "\n",
       "contains utilities for metaprogramming in Julia.\n",
       "\n",
       "```julia\n",
       "export @show_sexpr, \n",
       "    show_tree, @show_tree, \n",
       "    print_subtypes, \n",
       "    show_expr, @show_expr, \n",
       "    show_texpr, @show_texpr, \n",
       "    texpr2expr, teval, @teval\n",
       "```\n"
      ],
      "text/plain": [
       "\u001b[36m  MetaUtils\u001b[39m\n",
       "\n",
       "  contains utilities for metaprogramming in Julia.\n",
       "\n",
       "\u001b[36m  export @show_sexpr, \u001b[39m\n",
       "\u001b[36m      show_tree, @show_tree, \u001b[39m\n",
       "\u001b[36m      print_subtypes, \u001b[39m\n",
       "\u001b[36m      show_expr, @show_expr, \u001b[39m\n",
       "\u001b[36m      show_texpr, @show_texpr, \u001b[39m\n",
       "\u001b[36m      texpr2expr, teval, @teval\u001b[39m"
      ]
     },
     "execution_count": 66,
     "metadata": {},
     "output_type": "execute_result"
    }
   ],
   "source": [
    "@doc MetaUtils"
   ]
  },
  {
   "cell_type": "code",
   "execution_count": 67,
   "metadata": {},
   "outputs": [
    {
     "data": {
      "text/latex": [
       "\\begin{verbatim}\n",
       "@show_sexpr(expr, linenums=false)\n",
       "\\end{verbatim}\n",
       "shows the lisp style S-expression of \\texttt{expr} and prints the line number nodes if \\texttt{linenums} is true.  This is the macro version of \\texttt{Meta.show\\_sexpr}.\n",
       "\n",
       "\\subsection{Example}\n",
       "\\begin{verbatim}\n",
       "julia> @show_sexpr 2x+1\n",
       "(:call, :+, (:call, :*, 2, :x), 1)\n",
       "\\end{verbatim}\n",
       "\\texttt{teval} function can evaluate the output of \\texttt{@show\\_sexpr}. \n",
       "\n",
       "\\begin{verbatim}\n",
       "julia> x = 10; (:call, :+, (:call, :*, 2, :x), 1) |> teval\n",
       "21\n",
       "\\end{verbatim}\n"
      ],
      "text/markdown": [
       "```\n",
       "@show_sexpr(expr, linenums=false)\n",
       "```\n",
       "\n",
       "shows the lisp style S-expression of `expr` and prints the line number nodes if `linenums` is true.  This is the macro version of `Meta.show_sexpr`.\n",
       "\n",
       "## Example\n",
       "\n",
       "```julia\n",
       "julia> @show_sexpr 2x+1\n",
       "(:call, :+, (:call, :*, 2, :x), 1)\n",
       "```\n",
       "\n",
       "`teval` function can evaluate the output of `@show_sexpr`. \n",
       "\n",
       "```julia\n",
       "julia> x = 10; (:call, :+, (:call, :*, 2, :x), 1) |> teval\n",
       "21\n",
       "```\n"
      ],
      "text/plain": [
       "\u001b[36m  @show_sexpr(expr, linenums=false)\u001b[39m\n",
       "\n",
       "  shows the lisp style S-expression of \u001b[36mexpr\u001b[39m and prints the line number nodes\n",
       "  if \u001b[36mlinenums\u001b[39m is true. This is the macro version of \u001b[36mMeta.show_sexpr\u001b[39m.\n",
       "\n",
       "\u001b[1m  Example\u001b[22m\n",
       "\u001b[1m  =======\u001b[22m\n",
       "\n",
       "\u001b[36m  julia> @show_sexpr 2x+1\u001b[39m\n",
       "\u001b[36m  (:call, :+, (:call, :*, 2, :x), 1)\u001b[39m\n",
       "\n",
       "  \u001b[36mteval\u001b[39m function can evaluate the output of \u001b[36m@show_sexpr\u001b[39m.\n",
       "\n",
       "\u001b[36m  julia> x = 10; (:call, :+, (:call, :*, 2, :x), 1) |> teval\u001b[39m\n",
       "\u001b[36m  21\u001b[39m"
      ]
     },
     "execution_count": 67,
     "metadata": {},
     "output_type": "execute_result"
    }
   ],
   "source": [
    "@doc @show_sexpr"
   ]
  },
  {
   "cell_type": "code",
   "execution_count": 68,
   "metadata": {},
   "outputs": [
    {
     "data": {
      "text/latex": [
       "\\begin{verbatim}\n",
       "@show_tree(expr, maxdepth=10, linenums=false)\n",
       "\\end{verbatim}\n",
       "shows the tree form of the expression \\texttt{expr} with maxdepth and prints the line number nodes if \\texttt{linenums} is true.\n",
       "\n",
       "\\subsection{Example}\n",
       "\\begin{verbatim}\n",
       "julia> @show_tree 2x+1\n",
       "Expr(:call)\n",
       "├─ :+\n",
       "├─ Expr(:call)\n",
       "│  ├─ :*\n",
       "│  ├─ 2\n",
       "│  └─ :x\n",
       "└─ 1\n",
       "\\end{verbatim}\n"
      ],
      "text/markdown": [
       "```\n",
       "@show_tree(expr, maxdepth=10, linenums=false)\n",
       "```\n",
       "\n",
       "shows the tree form of the expression `expr` with maxdepth and prints the line number nodes if `linenums` is true.\n",
       "\n",
       "## Example\n",
       "\n",
       "```julia\n",
       "julia> @show_tree 2x+1\n",
       "Expr(:call)\n",
       "├─ :+\n",
       "├─ Expr(:call)\n",
       "│  ├─ :*\n",
       "│  ├─ 2\n",
       "│  └─ :x\n",
       "└─ 1\n",
       "```\n"
      ],
      "text/plain": [
       "\u001b[36m  @show_tree(expr, maxdepth=10, linenums=false)\u001b[39m\n",
       "\n",
       "  shows the tree form of the expression \u001b[36mexpr\u001b[39m with maxdepth and prints the line\n",
       "  number nodes if \u001b[36mlinenums\u001b[39m is true.\n",
       "\n",
       "\u001b[1m  Example\u001b[22m\n",
       "\u001b[1m  =======\u001b[22m\n",
       "\n",
       "\u001b[36m  julia> @show_tree 2x+1\u001b[39m\n",
       "\u001b[36m  Expr(:call)\u001b[39m\n",
       "\u001b[36m  ├─ :+\u001b[39m\n",
       "\u001b[36m  ├─ Expr(:call)\u001b[39m\n",
       "\u001b[36m  │  ├─ :*\u001b[39m\n",
       "\u001b[36m  │  ├─ 2\u001b[39m\n",
       "\u001b[36m  │  └─ :x\u001b[39m\n",
       "\u001b[36m  └─ 1\u001b[39m"
      ]
     },
     "execution_count": 68,
     "metadata": {},
     "output_type": "execute_result"
    }
   ],
   "source": [
    "@doc @show_tree"
   ]
  },
  {
   "cell_type": "code",
   "execution_count": 69,
   "metadata": {},
   "outputs": [
    {
     "data": {
      "text/latex": [
       "\\begin{verbatim}\n",
       "show_tree(expr) = AbstractTrees.print_tree(expr)\n",
       "\\end{verbatim}\n",
       "can be regarded as the function version of \\texttt{@show\\_tree}.\n",
       "\n"
      ],
      "text/markdown": [
       "```\n",
       "show_tree(expr) = AbstractTrees.print_tree(expr)\n",
       "```\n",
       "\n",
       "can be regarded as the function version of `@show_tree`.\n"
      ],
      "text/plain": [
       "\u001b[36m  show_tree(expr) = AbstractTrees.print_tree(expr)\u001b[39m\n",
       "\n",
       "  can be regarded as the function version of \u001b[36m@show_tree\u001b[39m."
      ]
     },
     "execution_count": 69,
     "metadata": {},
     "output_type": "execute_result"
    }
   ],
   "source": [
    "@doc show_tree"
   ]
  },
  {
   "cell_type": "code",
   "execution_count": 70,
   "metadata": {},
   "outputs": [
    {
     "data": {
      "text/latex": [
       "\\begin{verbatim}\n",
       "print_subtypes(T::Type; kwargs...)\n",
       "print_subtypes(io::IO, T::Type; kwargs...)\n",
       "print_subtypes(f, io::IO, T::Type; kwargs...)\n",
       "\\end{verbatim}\n",
       "prints the subtypes of \\texttt{T} by \\texttt{AbstractTrees.print\\_tree}.\n",
       "\n",
       "\\subsection{Example}\n",
       "\\begin{verbatim}\n",
       "julia> print_subtypes(AbstractRange)\n",
       "AbstractRange\n",
       "├─ LinRange\n",
       "├─ OrdinalRange\n",
       "│  ├─ AbstractUnitRange\n",
       "│  │  ├─ Base.IdentityUnitRange\n",
       "│  │  ├─ Base.OneTo\n",
       "│  │  ├─ Base.Slice\n",
       "│  │  └─ UnitRange\n",
       "│  └─ StepRange\n",
       "└─ StepRangeLen\n",
       "\\end{verbatim}\n"
      ],
      "text/markdown": [
       "```\n",
       "print_subtypes(T::Type; kwargs...)\n",
       "print_subtypes(io::IO, T::Type; kwargs...)\n",
       "print_subtypes(f, io::IO, T::Type; kwargs...)\n",
       "```\n",
       "\n",
       "prints the subtypes of `T` by `AbstractTrees.print_tree`.\n",
       "\n",
       "## Example\n",
       "\n",
       "```julia\n",
       "julia> print_subtypes(AbstractRange)\n",
       "AbstractRange\n",
       "├─ LinRange\n",
       "├─ OrdinalRange\n",
       "│  ├─ AbstractUnitRange\n",
       "│  │  ├─ Base.IdentityUnitRange\n",
       "│  │  ├─ Base.OneTo\n",
       "│  │  ├─ Base.Slice\n",
       "│  │  └─ UnitRange\n",
       "│  └─ StepRange\n",
       "└─ StepRangeLen\n",
       "```\n"
      ],
      "text/plain": [
       "\u001b[36m  print_subtypes(T::Type; kwargs...)\u001b[39m\n",
       "\u001b[36m  print_subtypes(io::IO, T::Type; kwargs...)\u001b[39m\n",
       "\u001b[36m  print_subtypes(f, io::IO, T::Type; kwargs...)\u001b[39m\n",
       "\n",
       "  prints the subtypes of \u001b[36mT\u001b[39m by \u001b[36mAbstractTrees.print_tree\u001b[39m.\n",
       "\n",
       "\u001b[1m  Example\u001b[22m\n",
       "\u001b[1m  =======\u001b[22m\n",
       "\n",
       "\u001b[36m  julia> print_subtypes(AbstractRange)\u001b[39m\n",
       "\u001b[36m  AbstractRange\u001b[39m\n",
       "\u001b[36m  ├─ LinRange\u001b[39m\n",
       "\u001b[36m  ├─ OrdinalRange\u001b[39m\n",
       "\u001b[36m  │  ├─ AbstractUnitRange\u001b[39m\n",
       "\u001b[36m  │  │  ├─ Base.IdentityUnitRange\u001b[39m\n",
       "\u001b[36m  │  │  ├─ Base.OneTo\u001b[39m\n",
       "\u001b[36m  │  │  ├─ Base.Slice\u001b[39m\n",
       "\u001b[36m  │  │  └─ UnitRange\u001b[39m\n",
       "\u001b[36m  │  └─ StepRange\u001b[39m\n",
       "\u001b[36m  └─ StepRangeLen\u001b[39m"
      ]
     },
     "execution_count": 70,
     "metadata": {},
     "output_type": "execute_result"
    }
   ],
   "source": [
    "@doc print_subtypes"
   ]
  },
  {
   "cell_type": "code",
   "execution_count": 71,
   "metadata": {},
   "outputs": [
    {
     "data": {
      "text/latex": [
       "\\begin{verbatim}\n",
       "show_expr([io::IO,], ex)\n",
       "\\end{verbatim}\n",
       "shows expression \\texttt{ex} as a Julia style expression.\n",
       "\n",
       "\\section{Examples}\n",
       "\\begin{verbatim}\n",
       "julia> show_expr(:(f(x, g(y, z))))\n",
       "Expr(:call, :f, :x, \n",
       "    Expr(:call, :g, :y, :z))\n",
       "\\end{verbatim}\n"
      ],
      "text/markdown": [
       "```\n",
       "show_expr([io::IO,], ex)\n",
       "```\n",
       "\n",
       "shows expression `ex` as a Julia style expression.\n",
       "\n",
       "# Examples\n",
       "\n",
       "```julia\n",
       "julia> show_expr(:(f(x, g(y, z))))\n",
       "Expr(:call, :f, :x, \n",
       "    Expr(:call, :g, :y, :z))\n",
       "```\n"
      ],
      "text/plain": [
       "\u001b[36m  show_expr([io::IO,], ex)\u001b[39m\n",
       "\n",
       "  shows expression \u001b[36mex\u001b[39m as a Julia style expression.\n",
       "\n",
       "\u001b[1m  Examples\u001b[22m\n",
       "\u001b[1m  ≡≡≡≡≡≡≡≡\u001b[22m\n",
       "\n",
       "\u001b[36m  julia> show_expr(:(f(x, g(y, z))))\u001b[39m\n",
       "\u001b[36m  Expr(:call, :f, :x, \u001b[39m\n",
       "\u001b[36m      Expr(:call, :g, :y, :z))\u001b[39m"
      ]
     },
     "execution_count": 71,
     "metadata": {},
     "output_type": "execute_result"
    }
   ],
   "source": [
    "@doc show_expr"
   ]
  },
  {
   "cell_type": "code",
   "execution_count": 72,
   "metadata": {},
   "outputs": [
    {
     "data": {
      "text/latex": [
       "\\begin{verbatim}\n",
       "@show_expr(expr, linenums=false)\n",
       "\\end{verbatim}\n",
       "shows the Juia style expression of \\texttt{expr} and prints the line number nodes if \\texttt{linenums} is true.  This is the macro version of \\texttt{show\\_expr}.\n",
       "\n",
       "\\subsection{Example}\n",
       "\\begin{verbatim}\n",
       "julia> @show_expr 2x+1\n",
       "Expr(:call, :+, \n",
       "    Expr(:call, :*, 2, :x), 1)\n",
       "\\end{verbatim}\n",
       "\\texttt{eval} function can evaluate the output of \\texttt{@show\\_expr}. \n",
       "\n",
       "\\begin{verbatim}\n",
       "julia> x = 10; Expr(:call, :+, \n",
       "    Expr(:call, :*, 2, :x), 1) |> eval\n",
       "21\n",
       "\\end{verbatim}\n"
      ],
      "text/markdown": [
       "```\n",
       "@show_expr(expr, linenums=false)\n",
       "```\n",
       "\n",
       "shows the Juia style expression of `expr` and prints the line number nodes if `linenums` is true.  This is the macro version of `show_expr`.\n",
       "\n",
       "## Example\n",
       "\n",
       "```julia\n",
       "julia> @show_expr 2x+1\n",
       "Expr(:call, :+, \n",
       "    Expr(:call, :*, 2, :x), 1)\n",
       "```\n",
       "\n",
       "`eval` function can evaluate the output of `@show_expr`. \n",
       "\n",
       "```julia\n",
       "julia> x = 10; Expr(:call, :+, \n",
       "    Expr(:call, :*, 2, :x), 1) |> eval\n",
       "21\n",
       "```\n"
      ],
      "text/plain": [
       "\u001b[36m  @show_expr(expr, linenums=false)\u001b[39m\n",
       "\n",
       "  shows the Juia style expression of \u001b[36mexpr\u001b[39m and prints the line number nodes if\n",
       "  \u001b[36mlinenums\u001b[39m is true. This is the macro version of \u001b[36mshow_expr\u001b[39m.\n",
       "\n",
       "\u001b[1m  Example\u001b[22m\n",
       "\u001b[1m  =======\u001b[22m\n",
       "\n",
       "\u001b[36m  julia> @show_expr 2x+1\u001b[39m\n",
       "\u001b[36m  Expr(:call, :+, \u001b[39m\n",
       "\u001b[36m      Expr(:call, :*, 2, :x), 1)\u001b[39m\n",
       "\n",
       "  \u001b[36meval\u001b[39m function can evaluate the output of \u001b[36m@show_expr\u001b[39m.\n",
       "\n",
       "\u001b[36m  julia> x = 10; Expr(:call, :+, \u001b[39m\n",
       "\u001b[36m      Expr(:call, :*, 2, :x), 1) |> eval\u001b[39m\n",
       "\u001b[36m  21\u001b[39m"
      ]
     },
     "execution_count": 72,
     "metadata": {},
     "output_type": "execute_result"
    }
   ],
   "source": [
    "@doc @show_expr"
   ]
  },
  {
   "cell_type": "code",
   "execution_count": 73,
   "metadata": {},
   "outputs": [
    {
     "data": {
      "text/latex": [
       "\\begin{verbatim}\n",
       "show_texpr([io::IO,], ex)\n",
       "\\end{verbatim}\n",
       "Yet another \\texttt{Meta.show\\_sexpr}.  It shows expression \\texttt{ex} as a lisp style expression.\n",
       "\n",
       "Remark: The indentation is different from \\texttt{Meta.show\\_sexpr}.\n",
       "\n",
       "\\section{Examples}\n",
       "\\begin{verbatim}\n",
       "julia> show_texpr(:(f(x, g(y, z))))\n",
       "Expr(:call, :f, :x, \n",
       "    Expr(:call, :g, :y, :z))\n",
       "\\end{verbatim}\n"
      ],
      "text/markdown": [
       "```\n",
       "show_texpr([io::IO,], ex)\n",
       "```\n",
       "\n",
       "Yet another `Meta.show_sexpr`.  It shows expression `ex` as a lisp style expression.\n",
       "\n",
       "Remark: The indentation is different from `Meta.show_sexpr`.\n",
       "\n",
       "# Examples\n",
       "\n",
       "```julia\n",
       "julia> show_texpr(:(f(x, g(y, z))))\n",
       "Expr(:call, :f, :x, \n",
       "    Expr(:call, :g, :y, :z))\n",
       "```\n"
      ],
      "text/plain": [
       "\u001b[36m  show_texpr([io::IO,], ex)\u001b[39m\n",
       "\n",
       "  Yet another \u001b[36mMeta.show_sexpr\u001b[39m. It shows expression \u001b[36mex\u001b[39m as a lisp style\n",
       "  expression.\n",
       "\n",
       "  Remark: The indentation is different from \u001b[36mMeta.show_sexpr\u001b[39m.\n",
       "\n",
       "\u001b[1m  Examples\u001b[22m\n",
       "\u001b[1m  ≡≡≡≡≡≡≡≡\u001b[22m\n",
       "\n",
       "\u001b[36m  julia> show_texpr(:(f(x, g(y, z))))\u001b[39m\n",
       "\u001b[36m  Expr(:call, :f, :x, \u001b[39m\n",
       "\u001b[36m      Expr(:call, :g, :y, :z))\u001b[39m"
      ]
     },
     "execution_count": 73,
     "metadata": {},
     "output_type": "execute_result"
    }
   ],
   "source": [
    "@doc show_texpr"
   ]
  },
  {
   "cell_type": "code",
   "execution_count": 74,
   "metadata": {},
   "outputs": [
    {
     "data": {
      "text/latex": [
       "\\begin{verbatim}\n",
       "@show_texpr(expr, linenums=false)\n",
       "\\end{verbatim}\n",
       "Yet another \\texttt{@show\\_sexpr}.  It shows the lisp style S-expression of \\texttt{expr} and prints the line number nodes if \\texttt{linenums} is true.\n",
       "\n",
       "Remark: The indentation is different from \\texttt{@show\\_sexpr}.\n",
       "\n",
       "\\subsection{Example}\n",
       "\\begin{verbatim}\n",
       "julia> @show_texpr 2x+1\n",
       "(:call, :+, \n",
       "    (:call, :*, 2, :x), 1)\n",
       "\\end{verbatim}\n",
       "\\texttt{teval} function can evaluate the output of \\texttt{@show\\_texpr}.\n",
       "\n",
       "\\begin{verbatim}\n",
       "julia> x = 10; (:call, :+, \n",
       "    (:call, :*, 2, :x), 1) |> teval\n",
       "21\n",
       "\\end{verbatim}\n"
      ],
      "text/markdown": [
       "```\n",
       "@show_texpr(expr, linenums=false)\n",
       "```\n",
       "\n",
       "Yet another `@show_sexpr`.  It shows the lisp style S-expression of `expr` and prints the line number nodes if `linenums` is true.\n",
       "\n",
       "Remark: The indentation is different from `@show_sexpr`.\n",
       "\n",
       "## Example\n",
       "\n",
       "```julia\n",
       "julia> @show_texpr 2x+1\n",
       "(:call, :+, \n",
       "    (:call, :*, 2, :x), 1)\n",
       "```\n",
       "\n",
       "`teval` function can evaluate the output of `@show_texpr`.\n",
       "\n",
       "```julia\n",
       "julia> x = 10; (:call, :+, \n",
       "    (:call, :*, 2, :x), 1) |> teval\n",
       "21\n",
       "```\n"
      ],
      "text/plain": [
       "\u001b[36m  @show_texpr(expr, linenums=false)\u001b[39m\n",
       "\n",
       "  Yet another \u001b[36m@show_sexpr\u001b[39m. It shows the lisp style S-expression of \u001b[36mexpr\u001b[39m and\n",
       "  prints the line number nodes if \u001b[36mlinenums\u001b[39m is true.\n",
       "\n",
       "  Remark: The indentation is different from \u001b[36m@show_sexpr\u001b[39m.\n",
       "\n",
       "\u001b[1m  Example\u001b[22m\n",
       "\u001b[1m  =======\u001b[22m\n",
       "\n",
       "\u001b[36m  julia> @show_texpr 2x+1\u001b[39m\n",
       "\u001b[36m  (:call, :+, \u001b[39m\n",
       "\u001b[36m      (:call, :*, 2, :x), 1)\u001b[39m\n",
       "\n",
       "  \u001b[36mteval\u001b[39m function can evaluate the output of \u001b[36m@show_texpr\u001b[39m.\n",
       "\n",
       "\u001b[36m  julia> x = 10; (:call, :+, \u001b[39m\n",
       "\u001b[36m      (:call, :*, 2, :x), 1) |> teval\u001b[39m\n",
       "\u001b[36m  21\u001b[39m"
      ]
     },
     "execution_count": 74,
     "metadata": {},
     "output_type": "execute_result"
    }
   ],
   "source": [
    "@doc @show_texpr"
   ]
  },
  {
   "cell_type": "code",
   "execution_count": 75,
   "metadata": {},
   "outputs": [
    {
     "data": {
      "text/latex": [
       "\\begin{verbatim}\n",
       "teval(texpr, m::Module=Main)\n",
       "\\end{verbatim}\n",
       "evaluates the lisp-like tuple expression \\texttt{texpr}.\n",
       "\n",
       "Example: Calculation of \\texttt{sin(π/6)}\n",
       "\n",
       "\\begin{verbatim}\n",
       "julia> (:call, :sin, (:call, :/, π, 6)) |> teval\n",
       "0.49999999999999994\n",
       "\\end{verbatim}\n",
       "In some cases, you can omit \\texttt{:call}.\n",
       "\n",
       "\\begin{verbatim}\n",
       "julia> (:sin, (:/, π, 6)) |> teval\n",
       "0.49999999999999994\n",
       "\\end{verbatim}\n"
      ],
      "text/markdown": [
       "```\n",
       "teval(texpr, m::Module=Main)\n",
       "```\n",
       "\n",
       "evaluates the lisp-like tuple expression `texpr`.\n",
       "\n",
       "Example: Calculation of `sin(π/6)`\n",
       "\n",
       "```julia\n",
       "julia> (:call, :sin, (:call, :/, π, 6)) |> teval\n",
       "0.49999999999999994\n",
       "```\n",
       "\n",
       "In some cases, you can omit `:call`.\n",
       "\n",
       "```julia\n",
       "julia> (:sin, (:/, π, 6)) |> teval\n",
       "0.49999999999999994\n",
       "```\n"
      ],
      "text/plain": [
       "\u001b[36m  teval(texpr, m::Module=Main)\u001b[39m\n",
       "\n",
       "  evaluates the lisp-like tuple expression \u001b[36mtexpr\u001b[39m.\n",
       "\n",
       "  Example: Calculation of \u001b[36msin(π/6)\u001b[39m\n",
       "\n",
       "\u001b[36m  julia> (:call, :sin, (:call, :/, π, 6)) |> teval\u001b[39m\n",
       "\u001b[36m  0.49999999999999994\u001b[39m\n",
       "\n",
       "  In some cases, you can omit \u001b[36m:call\u001b[39m.\n",
       "\n",
       "\u001b[36m  julia> (:sin, (:/, π, 6)) |> teval\u001b[39m\n",
       "\u001b[36m  0.49999999999999994\u001b[39m"
      ]
     },
     "execution_count": 75,
     "metadata": {},
     "output_type": "execute_result"
    }
   ],
   "source": [
    "@doc teval"
   ]
  },
  {
   "cell_type": "code",
   "execution_count": 76,
   "metadata": {},
   "outputs": [
    {
     "data": {
      "text/latex": [
       "\\begin{verbatim}\n",
       "@teval texpr\n",
       "\\end{verbatim}\n",
       "evaluates the lisp-like tuple expression \\texttt{texpr}.\n",
       "\n",
       "Example: Calculation of \\texttt{sin(π/6)}\n",
       "\n",
       "\\begin{verbatim}\n",
       "julia> @teval (:call, :sin, (:call, :/, π, 6))\n",
       "0.49999999999999994\n",
       "\\end{verbatim}\n",
       "In some cases, you can omit \\texttt{:call}.\n",
       "\n",
       "\\begin{verbatim}\n",
       "julia> @teval (:sin, (:/, π, 6))\n",
       "0.49999999999999994\n",
       "\\end{verbatim}\n"
      ],
      "text/markdown": [
       "```\n",
       "@teval texpr\n",
       "```\n",
       "\n",
       "evaluates the lisp-like tuple expression `texpr`.\n",
       "\n",
       "Example: Calculation of `sin(π/6)`\n",
       "\n",
       "```julia\n",
       "julia> @teval (:call, :sin, (:call, :/, π, 6))\n",
       "0.49999999999999994\n",
       "```\n",
       "\n",
       "In some cases, you can omit `:call`.\n",
       "\n",
       "```julia\n",
       "julia> @teval (:sin, (:/, π, 6))\n",
       "0.49999999999999994\n",
       "```\n"
      ],
      "text/plain": [
       "\u001b[36m  @teval texpr\u001b[39m\n",
       "\n",
       "  evaluates the lisp-like tuple expression \u001b[36mtexpr\u001b[39m.\n",
       "\n",
       "  Example: Calculation of \u001b[36msin(π/6)\u001b[39m\n",
       "\n",
       "\u001b[36m  julia> @teval (:call, :sin, (:call, :/, π, 6))\u001b[39m\n",
       "\u001b[36m  0.49999999999999994\u001b[39m\n",
       "\n",
       "  In some cases, you can omit \u001b[36m:call\u001b[39m.\n",
       "\n",
       "\u001b[36m  julia> @teval (:sin, (:/, π, 6))\u001b[39m\n",
       "\u001b[36m  0.49999999999999994\u001b[39m"
      ]
     },
     "execution_count": 76,
     "metadata": {},
     "output_type": "execute_result"
    }
   ],
   "source": [
    "@doc @teval"
   ]
  },
  {
   "cell_type": "code",
   "execution_count": 77,
   "metadata": {},
   "outputs": [
    {
     "data": {
      "text/latex": [
       "\\begin{verbatim}\n",
       "MetaUtils.@t texpr\n",
       "\\end{verbatim}\n",
       "shows the Julia expression and the value of the lisp-like tuple expression \\texttt{texpr}.\n",
       "\n",
       "Example:\n",
       "\n",
       "\\begin{verbatim}\n",
       "julia> MetaUtils.@t (:call, :sin, (:call, :/, π, 6))\n",
       ":(sin(π / 6))\n",
       "→ 0.49999999999999994\n",
       "\\end{verbatim}\n"
      ],
      "text/markdown": [
       "```\n",
       "MetaUtils.@t texpr\n",
       "```\n",
       "\n",
       "shows the Julia expression and the value of the lisp-like tuple expression `texpr`.\n",
       "\n",
       "Example:\n",
       "\n",
       "```julia\n",
       "julia> MetaUtils.@t (:call, :sin, (:call, :/, π, 6))\n",
       ":(sin(π / 6))\n",
       "→ 0.49999999999999994\n",
       "```\n"
      ],
      "text/plain": [
       "\u001b[36m  MetaUtils.@t texpr\u001b[39m\n",
       "\n",
       "  shows the Julia expression and the value of the lisp-like tuple expression\n",
       "  \u001b[36mtexpr\u001b[39m.\n",
       "\n",
       "  Example:\n",
       "\n",
       "\u001b[36m  julia> MetaUtils.@t (:call, :sin, (:call, :/, π, 6))\u001b[39m\n",
       "\u001b[36m  :(sin(π / 6))\u001b[39m\n",
       "\u001b[36m  → 0.49999999999999994\u001b[39m"
      ]
     },
     "execution_count": 77,
     "metadata": {},
     "output_type": "execute_result"
    }
   ],
   "source": [
    "@doc MetaUtils.@t"
   ]
  },
  {
   "cell_type": "code",
   "execution_count": 78,
   "metadata": {},
   "outputs": [
    {
     "data": {
      "text/latex": [
       "\\begin{verbatim}\n",
       "MetaUtils.@T texpr\n",
       "\\end{verbatim}\n",
       "shows \\texttt{show(texpr)}, \\texttt{show\\_texpr(texpr)}, the Julia expression, and the value of the lisp-like tuple expression \\texttt{texpr}.\n",
       "\n",
       "Example:\n",
       "\n",
       "\\begin{verbatim}\n",
       "julia> MetaUtils.@T (:call, :sin, (:call, :/, π, 6))\n",
       "(:call, :sin, (:call, :/, π, 6))\n",
       "→ (:call, :sin, \n",
       "    (:call, :/, π, 6))\n",
       "→ :(sin(π / 6))\n",
       "→ 0.49999999999999994\n",
       "\\end{verbatim}\n"
      ],
      "text/markdown": [
       "```\n",
       "MetaUtils.@T texpr\n",
       "```\n",
       "\n",
       "shows `show(texpr)`, `show_texpr(texpr)`, the Julia expression, and the value of the lisp-like tuple expression `texpr`.\n",
       "\n",
       "Example:\n",
       "\n",
       "```julia\n",
       "julia> MetaUtils.@T (:call, :sin, (:call, :/, π, 6))\n",
       "(:call, :sin, (:call, :/, π, 6))\n",
       "→ (:call, :sin, \n",
       "    (:call, :/, π, 6))\n",
       "→ :(sin(π / 6))\n",
       "→ 0.49999999999999994\n",
       "```\n"
      ],
      "text/plain": [
       "\u001b[36m  MetaUtils.@T texpr\u001b[39m\n",
       "\n",
       "  shows \u001b[36mshow(texpr)\u001b[39m, \u001b[36mshow_texpr(texpr)\u001b[39m, the Julia expression, and the value of\n",
       "  the lisp-like tuple expression \u001b[36mtexpr\u001b[39m.\n",
       "\n",
       "  Example:\n",
       "\n",
       "\u001b[36m  julia> MetaUtils.@T (:call, :sin, (:call, :/, π, 6))\u001b[39m\n",
       "\u001b[36m  (:call, :sin, (:call, :/, π, 6))\u001b[39m\n",
       "\u001b[36m  → (:call, :sin, \u001b[39m\n",
       "\u001b[36m      (:call, :/, π, 6))\u001b[39m\n",
       "\u001b[36m  → :(sin(π / 6))\u001b[39m\n",
       "\u001b[36m  → 0.49999999999999994\u001b[39m"
      ]
     },
     "execution_count": 78,
     "metadata": {},
     "output_type": "execute_result"
    }
   ],
   "source": [
    "@doc MetaUtils.@T"
   ]
  },
  {
   "cell_type": "code",
   "execution_count": null,
   "metadata": {},
   "outputs": [],
   "source": []
  }
 ],
 "metadata": {
  "@webio": {
   "lastCommId": null,
   "lastKernelId": null
  },
  "jupytext": {
   "cell_metadata_json": true,
   "formats": "ipynb,md"
  },
  "kernelspec": {
   "display_name": "Julia 1.10.5",
   "language": "julia",
   "name": "julia-1.10"
  },
  "language_info": {
   "file_extension": ".jl",
   "mimetype": "application/julia",
   "name": "julia",
   "version": "1.10.5"
  },
  "toc": {
   "base_numbering": 1,
   "nav_menu": {},
   "number_sections": true,
   "sideBar": true,
   "skip_h1_title": true,
   "title_cell": "Table of Contents",
   "title_sidebar": "Contents",
   "toc_cell": true,
   "toc_position": {
    "height": "calc(100% - 180px)",
    "left": "10px",
    "top": "150px",
    "width": "250px"
   },
   "toc_section_display": true,
   "toc_window_display": false
  }
 },
 "nbformat": 4,
 "nbformat_minor": 4
}
