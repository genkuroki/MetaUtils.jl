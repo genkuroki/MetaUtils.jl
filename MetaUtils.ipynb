{
 "cells": [
  {
   "cell_type": "markdown",
   "metadata": {},
   "source": [
    "# MetaUtils\n",
    "\n",
    "* Author: Gen Kuroki\n",
    "* Date: 2020-10-11～2020-10-17, 2021-03-20\n",
    "* Repository: https://github.com/genkuroki/MetaUtils.jl\n",
    "* File: https://nbviewer.jupyter.org/github/genkuroki/MetaUtils.jl/blob/master/MetaUtils.ipynb"
   ]
  },
  {
   "cell_type": "markdown",
   "metadata": {
    "toc": true
   },
   "source": [
    "<h1>Table of Contents<span class=\"tocSkip\"></span></h1>\n",
    "<div class=\"toc\"><ul class=\"toc-item\"><li><span><a href=\"#Explanatory-examples\" data-toc-modified-id=\"Explanatory-examples-1\"><span class=\"toc-item-num\">1&nbsp;&nbsp;</span>Explanatory examples</a></span></li><li><span><a href=\"#Miscellaneous-examples-of-@show_texpr,-etc.\" data-toc-modified-id=\"Miscellaneous-examples-of-@show_texpr,-etc.-2\"><span class=\"toc-item-num\">2&nbsp;&nbsp;</span>Miscellaneous examples of @show_texpr, etc.</a></span><ul class=\"toc-item\"><li><span><a href=\"#for-loop\" data-toc-modified-id=\"for-loop-2.1\"><span class=\"toc-item-num\">2.1&nbsp;&nbsp;</span>for loop</a></span></li><li><span><a href=\"#type-trees\" data-toc-modified-id=\"type-trees-2.2\"><span class=\"toc-item-num\">2.2&nbsp;&nbsp;</span>type trees</a></span></li><li><span><a href=\"#function-definition\" data-toc-modified-id=\"function-definition-2.3\"><span class=\"toc-item-num\">2.3&nbsp;&nbsp;</span>function definition</a></span></li><li><span><a href=\"#macro-and-LineNumberNode\" data-toc-modified-id=\"macro-and-LineNumberNode-2.4\"><span class=\"toc-item-num\">2.4&nbsp;&nbsp;</span>macro and LineNumberNode</a></span></li><li><span><a href=\"#QuoteNode\" data-toc-modified-id=\"QuoteNode-2.5\"><span class=\"toc-item-num\">2.5&nbsp;&nbsp;</span>QuoteNode</a></span></li></ul></li><li><span><a href=\"#Evaluation-of-Lisp-like-tuple-expressions\" data-toc-modified-id=\"Evaluation-of-Lisp-like-tuple-expressions-3\"><span class=\"toc-item-num\">3&nbsp;&nbsp;</span>Evaluation of Lisp-like tuple expressions</a></span></li><li><span><a href=\"#Plot-example\" data-toc-modified-id=\"Plot-example-4\"><span class=\"toc-item-num\">4&nbsp;&nbsp;</span>Plot example</a></span></li><li><span><a href=\"#Documents\" data-toc-modified-id=\"Documents-5\"><span class=\"toc-item-num\">5&nbsp;&nbsp;</span>Documents</a></span></li></ul></div>"
   ]
  },
  {
   "cell_type": "code",
   "execution_count": 1,
   "metadata": {},
   "outputs": [],
   "source": [
    "if isfile(\"Project.toml\")\n",
    "    using Pkg\n",
    "    Pkg.activate(\".\")\n",
    "    using Revise\n",
    "end"
   ]
  },
  {
   "cell_type": "code",
   "execution_count": 2,
   "metadata": {},
   "outputs": [
    {
     "name": "stderr",
     "output_type": "stream",
     "text": [
      "┌ Info: Precompiling MetaUtils [ed17dc9e-20eb-4460-9701-8d0520e45e1f]\n",
      "└ @ Base loading.jl:1314\n"
     ]
    }
   ],
   "source": [
    "using MetaUtils"
   ]
  },
  {
   "cell_type": "markdown",
   "metadata": {},
   "source": [
    "## Explanatory examples"
   ]
  },
  {
   "cell_type": "code",
   "execution_count": 3,
   "metadata": {},
   "outputs": [
    {
     "name": "stdout",
     "output_type": "stream",
     "text": [
      "(:call, :+, (:call, :*, 2, :x), 1)"
     ]
    }
   ],
   "source": [
    "@show_sexpr 2x+1"
   ]
  },
  {
   "cell_type": "code",
   "execution_count": 4,
   "metadata": {},
   "outputs": [
    {
     "data": {
      "text/plain": [
       "21"
      ]
     },
     "execution_count": 4,
     "metadata": {},
     "output_type": "execute_result"
    }
   ],
   "source": [
    "x = 10; (:call, :+, (:call, :*, 2, :x), 1) |> teval"
   ]
  },
  {
   "cell_type": "code",
   "execution_count": 5,
   "metadata": {},
   "outputs": [
    {
     "name": "stdout",
     "output_type": "stream",
     "text": [
      "Expr(:call)\n",
      "├─ :+\n",
      "├─ Expr(:call)\n",
      "│  ├─ :*\n",
      "│  ├─ 2\n",
      "│  └─ :x\n",
      "└─ 1\n"
     ]
    }
   ],
   "source": [
    "@show_tree 2x+1"
   ]
  },
  {
   "cell_type": "code",
   "execution_count": 6,
   "metadata": {},
   "outputs": [
    {
     "name": "stdout",
     "output_type": "stream",
     "text": [
      "AbstractRange\n",
      "├─ LinRange\n",
      "├─ OrdinalRange\n",
      "│  ├─ AbstractUnitRange\n",
      "│  │  ├─ IdentityUnitRange\n",
      "│  │  ├─ OneTo\n",
      "│  │  ├─ Slice\n",
      "│  │  └─ UnitRange\n",
      "│  └─ StepRange\n",
      "└─ StepRangeLen\n"
     ]
    }
   ],
   "source": [
    "print_tree(AbstractRange)"
   ]
  },
  {
   "cell_type": "code",
   "execution_count": 7,
   "metadata": {},
   "outputs": [
    {
     "name": "stdout",
     "output_type": "stream",
     "text": [
      "Expr(:call, :f, :x, \n",
      "    Expr(:call, :g, :y, :z))"
     ]
    }
   ],
   "source": [
    "show_expr(:(f(x, g(y, z))))"
   ]
  },
  {
   "cell_type": "code",
   "execution_count": 8,
   "metadata": {},
   "outputs": [
    {
     "name": "stdout",
     "output_type": "stream",
     "text": [
      "Expr(:call, :+, \n",
      "    Expr(:call, :*, 2, :x), 1)"
     ]
    }
   ],
   "source": [
    "@show_expr 2x+1"
   ]
  },
  {
   "cell_type": "code",
   "execution_count": 9,
   "metadata": {},
   "outputs": [
    {
     "data": {
      "text/plain": [
       "21"
      ]
     },
     "execution_count": 9,
     "metadata": {},
     "output_type": "execute_result"
    }
   ],
   "source": [
    "x = 10; Expr(:call, :+, \n",
    "    Expr(:call, :*, 2, :x), 1) |> eval"
   ]
  },
  {
   "cell_type": "code",
   "execution_count": 10,
   "metadata": {},
   "outputs": [
    {
     "name": "stdout",
     "output_type": "stream",
     "text": [
      "(:call, :f, :x, \n",
      "    (:call, :g, :y, :z))"
     ]
    }
   ],
   "source": [
    "show_texpr(:(f(x, g(y, z))))"
   ]
  },
  {
   "cell_type": "code",
   "execution_count": 11,
   "metadata": {},
   "outputs": [
    {
     "name": "stdout",
     "output_type": "stream",
     "text": [
      "(:call, :+, \n",
      "    (:call, :*, 2, :x), 1)"
     ]
    }
   ],
   "source": [
    "@show_texpr 2x+1"
   ]
  },
  {
   "cell_type": "code",
   "execution_count": 12,
   "metadata": {},
   "outputs": [
    {
     "data": {
      "text/plain": [
       "21"
      ]
     },
     "execution_count": 12,
     "metadata": {},
     "output_type": "execute_result"
    }
   ],
   "source": [
    "x = 10; (:call, :+, \n",
    "    (:call, :*, 2, :x), 1) |> teval"
   ]
  },
  {
   "cell_type": "code",
   "execution_count": 13,
   "metadata": {
    "scrolled": true
   },
   "outputs": [
    {
     "data": {
      "text/plain": [
       ":(sin(π / 6))"
      ]
     },
     "execution_count": 13,
     "metadata": {},
     "output_type": "execute_result"
    }
   ],
   "source": [
    "texpr2expr((:call, :sin, (:call, :/, π, 6)))"
   ]
  },
  {
   "cell_type": "code",
   "execution_count": 14,
   "metadata": {
    "scrolled": true
   },
   "outputs": [
    {
     "data": {
      "text/plain": [
       "0.49999999999999994"
      ]
     },
     "execution_count": 14,
     "metadata": {},
     "output_type": "execute_result"
    }
   ],
   "source": [
    "(:call, :sin, (:call, :/, π, 6)) |> teval"
   ]
  },
  {
   "cell_type": "code",
   "execution_count": 15,
   "metadata": {
    "scrolled": true
   },
   "outputs": [
    {
     "data": {
      "text/plain": [
       "0.49999999999999994"
      ]
     },
     "execution_count": 15,
     "metadata": {},
     "output_type": "execute_result"
    }
   ],
   "source": [
    "@teval (:call, :sin, (:call, :/, π, 6))"
   ]
  },
  {
   "cell_type": "code",
   "execution_count": 16,
   "metadata": {},
   "outputs": [
    {
     "name": "stdout",
     "output_type": "stream",
     "text": [
      ":(sin(π / 6))\n",
      "→ 0.49999999999999994\n"
     ]
    }
   ],
   "source": [
    "MetaUtils.@t (:call, :sin, (:call, :/, π, 6))"
   ]
  },
  {
   "cell_type": "code",
   "execution_count": 17,
   "metadata": {},
   "outputs": [
    {
     "name": "stdout",
     "output_type": "stream",
     "text": [
      "(:call, :sin, (:call, :/, π, 6))\n",
      "→ (:call, :sin, \n",
      "    (:call, :/, π, 6))\n",
      "→ :(sin(π / 6))\n",
      "→ 0.49999999999999994\n"
     ]
    }
   ],
   "source": [
    "MetaUtils.@T (:call, :sin, (:call, :/, π, 6))"
   ]
  },
  {
   "cell_type": "code",
   "execution_count": 18,
   "metadata": {
    "scrolled": true
   },
   "outputs": [
    {
     "data": {
      "text/plain": [
       "0.49999999999999994"
      ]
     },
     "execution_count": 18,
     "metadata": {},
     "output_type": "execute_result"
    }
   ],
   "source": [
    "(:sin, (:/, π, 6)) |> teval"
   ]
  },
  {
   "cell_type": "code",
   "execution_count": 19,
   "metadata": {
    "scrolled": true
   },
   "outputs": [
    {
     "data": {
      "text/plain": [
       "0.49999999999999994"
      ]
     },
     "execution_count": 19,
     "metadata": {},
     "output_type": "execute_result"
    }
   ],
   "source": [
    "@teval (:sin, (:/, π, 6))"
   ]
  },
  {
   "cell_type": "code",
   "execution_count": 20,
   "metadata": {},
   "outputs": [
    {
     "name": "stdout",
     "output_type": "stream",
     "text": [
      ":(sin(π / 6))\n",
      "→ 0.49999999999999994\n"
     ]
    }
   ],
   "source": [
    "MetaUtils.@t (:sin, (:/, π, 6))"
   ]
  },
  {
   "cell_type": "code",
   "execution_count": 21,
   "metadata": {},
   "outputs": [
    {
     "name": "stdout",
     "output_type": "stream",
     "text": [
      "(:sin, (:/, π, 6))\n",
      "→ (:call, :sin, \n",
      "    (:call, :/, π, 6))\n",
      "→ :(sin(π / 6))\n",
      "→ 0.49999999999999994\n"
     ]
    }
   ],
   "source": [
    "MetaUtils.@T (:sin, (:/, π, 6))"
   ]
  },
  {
   "cell_type": "markdown",
   "metadata": {},
   "source": [
    "## Miscellaneous examples of @show_texpr, etc."
   ]
  },
  {
   "cell_type": "markdown",
   "metadata": {},
   "source": [
    "### for loop"
   ]
  },
  {
   "cell_type": "code",
   "execution_count": 22,
   "metadata": {},
   "outputs": [
    {
     "name": "stdout",
     "output_type": "stream",
     "text": [
      "(:for, \n",
      "    (:(=), :k, \n",
      "        (:call, :(:), 1, 10)), \n",
      "    (:block, \n",
      "        (:(=), :x, \n",
      "            (:call, :÷, \n",
      "                (:call, :*, :k, \n",
      "                    (:call, :+, :k, 1)), 2)), \n",
      "        (:call, :println, \"k(k+1)/2 = \", :x)))"
     ]
    }
   ],
   "source": [
    "@show_texpr for k in 1:10\n",
    "    x = k*(k+1) ÷ 2\n",
    "    println(\"k(k+1)/2 = \", x)\n",
    "end"
   ]
  },
  {
   "cell_type": "code",
   "execution_count": 23,
   "metadata": {},
   "outputs": [
    {
     "name": "stdout",
     "output_type": "stream",
     "text": [
      "(:for, \n",
      "    (:(=), :k, \n",
      "        (:call, :(:), 1, 10)), \n",
      "    (:block, LineNumberNode(2, Symbol(\"In[23]\")), \n",
      "        (:(=), :x, \n",
      "            (:call, :÷, \n",
      "                (:call, :*, :k, \n",
      "                    (:call, :+, :k, 1)), 2)), LineNumberNode(3, Symbol(\"In[23]\")), \n",
      "        (:call, :println, \"k(k+1)/2 = \", :x)))"
     ]
    }
   ],
   "source": [
    "@show_texpr for k in 1:10\n",
    "    x = k*(k+1) ÷ 2\n",
    "    println(\"k(k+1)/2 = \", x)\n",
    "end true"
   ]
  },
  {
   "cell_type": "code",
   "execution_count": 24,
   "metadata": {},
   "outputs": [
    {
     "name": "stdout",
     "output_type": "stream",
     "text": [
      "Expr(:for)\n",
      "├─ Expr(:(=))\n",
      "│  ├─ :k\n",
      "│  └─ Expr(:call)\n",
      "│     ⋮\n",
      "│     \n",
      "└─ Expr(:block)\n",
      "   ├─ Expr(:(=))\n",
      "   │  ⋮\n",
      "   │  \n",
      "   └─ Expr(:call)\n",
      "      ⋮\n",
      "      \n"
     ]
    }
   ],
   "source": [
    "@show_tree for k in 1:10\n",
    "    x = k*(k+1) ÷ 2\n",
    "    println(\"k(k+1)/2 = \", x)\n",
    "end 2"
   ]
  },
  {
   "cell_type": "code",
   "execution_count": 25,
   "metadata": {},
   "outputs": [
    {
     "name": "stdout",
     "output_type": "stream",
     "text": [
      "Expr(:for)\n",
      "├─ Expr(:(=))\n",
      "│  ├─ :k\n",
      "│  └─ Expr(:call)\n",
      "│     ├─ :(:)\n",
      "│     ├─ 1\n",
      "│     └─ 10\n",
      "└─ Expr(:block)\n",
      "   ├─ Expr(:(=))\n",
      "   │  ├─ :x\n",
      "   │  └─ Expr(:call)\n",
      "   │     ├─ :÷\n",
      "   │     ├─ Expr(:call)\n",
      "   │     │  ├─ :*\n",
      "   │     │  ├─ :k\n",
      "   │     │  └─ Expr(:call)\n",
      "   │     │     ├─ :+\n",
      "   │     │     ├─ :k\n",
      "   │     │     └─ 1\n",
      "   │     └─ 2\n",
      "   └─ Expr(:call)\n",
      "      ├─ :println\n",
      "      ├─ \"k(k+1)/2 = \"\n",
      "      └─ :x\n"
     ]
    }
   ],
   "source": [
    "@show_tree for k in 1:10\n",
    "    x = k*(k+1) ÷ 2\n",
    "    println(\"k(k+1)/2 = \", x)\n",
    "end"
   ]
  },
  {
   "cell_type": "code",
   "execution_count": 26,
   "metadata": {},
   "outputs": [
    {
     "name": "stdout",
     "output_type": "stream",
     "text": [
      "Expr(:for)\n",
      "├─ Expr(:(=))\n",
      "│  ├─ :k\n",
      "│  └─ Expr(:call)\n",
      "│     ├─ :(:)\n",
      "│     ├─ 1\n",
      "│     └─ 10\n",
      "└─ Expr(:block)\n",
      "   ├─ :(#= In[26]:2 =#)\n",
      "   ├─ Expr(:(=))\n",
      "   │  ├─ :x\n",
      "   │  └─ Expr(:call)\n",
      "   │     ├─ :÷\n",
      "   │     ├─ Expr(:call)\n",
      "   │     │  ├─ :*\n",
      "   │     │  ├─ :k\n",
      "   │     │  └─ Expr(:call)\n",
      "   │     │     ├─ :+\n",
      "   │     │     ├─ :k\n",
      "   │     │     └─ 1\n",
      "   │     └─ 2\n",
      "   ├─ :(#= In[26]:3 =#)\n",
      "   └─ Expr(:call)\n",
      "      ├─ :println\n",
      "      ├─ \"k(k+1)/2 = \"\n",
      "      └─ :x\n"
     ]
    }
   ],
   "source": [
    "@show_tree for k in 1:10\n",
    "    x = k*(k+1) ÷ 2\n",
    "    println(\"k(k+1)/2 = \", x)\n",
    "end 10 true"
   ]
  },
  {
   "cell_type": "code",
   "execution_count": 27,
   "metadata": {},
   "outputs": [
    {
     "name": "stdout",
     "output_type": "stream",
     "text": [
      "Expr\n",
      "  head: Symbol for\n",
      "  args: Array{Any}((2,))\n",
      "    1: Expr\n",
      "      head: Symbol =\n",
      "      args: Array{Any}((2,))\n",
      "        1: Symbol k\n",
      "        2: Expr\n",
      "          head: Symbol call\n",
      "          args: Array{Any}((3,))\n",
      "            1: Symbol :\n",
      "            2: Int64 1\n",
      "            3: Int64 10\n",
      "    2: Expr\n",
      "      head: Symbol block\n",
      "      args: Array{Any}((4,))\n",
      "        1: LineNumberNode\n",
      "          line: Int64 2\n",
      "          file: Symbol In[27]\n",
      "        2: Expr\n",
      "          head: Symbol =\n",
      "          args: Array{Any}((2,))\n",
      "            1: Symbol x\n",
      "            2: Expr\n",
      "              head: Symbol call\n",
      "              args: Array{Any}((3,))\n",
      "                1: Symbol ÷\n",
      "                2: Expr\n",
      "                3: Int64 2\n",
      "        3: LineNumberNode\n",
      "          line: Int64 3\n",
      "          file: Symbol In[27]\n",
      "        4: Expr\n",
      "          head: Symbol call\n",
      "          args: Array{Any}((3,))\n",
      "            1: Symbol println\n",
      "            2: String \"k(k+1)/2 = \"\n",
      "            3: Symbol x\n"
     ]
    }
   ],
   "source": [
    "Meta.@dump for k in 1:10\n",
    "    x = k*(k+1) ÷ 2\n",
    "    println(\"k(k+1)/2 = \", x)\n",
    "end"
   ]
  },
  {
   "cell_type": "code",
   "execution_count": 28,
   "metadata": {
    "scrolled": true
   },
   "outputs": [
    {
     "name": "stdout",
     "output_type": "stream",
     "text": [
      "Expr(:for, \n",
      "    Expr(:(=), :k, \n",
      "        Expr(:call, :(:), 1, 10)), \n",
      "    Expr(:block, \n",
      "        Expr(:(=), :x, \n",
      "            Expr(:call, :÷, \n",
      "                Expr(:call, :*, :k, \n",
      "                    Expr(:call, :+, :k, 1)), 2)), \n",
      "        Expr(:call, :println, \"k(k+1)/2 = \", :x)))"
     ]
    }
   ],
   "source": [
    "@show_expr for k in 1:10\n",
    "    x = k*(k+1) ÷ 2\n",
    "    println(\"k(k+1)/2 = \", x)\n",
    "end"
   ]
  },
  {
   "cell_type": "code",
   "execution_count": 29,
   "metadata": {},
   "outputs": [
    {
     "name": "stdout",
     "output_type": "stream",
     "text": [
      "(:for, \n",
      "    (:(=), :k, \n",
      "        (:call, :(:), 1, 10)), \n",
      "    (:block, \n",
      "        (:(=), :x, \n",
      "            (:call, :÷, \n",
      "                (:call, :*, :k, \n",
      "                    (:call, :+, :k, 1)), 2)), \n",
      "        (:call, :println, \"k(k+1)/2 = \", :x)))"
     ]
    }
   ],
   "source": [
    "@show_texpr for k in 1:10\n",
    "    x = k*(k+1) ÷ 2\n",
    "    println(\"k(k+1)/2 = \", x)\n",
    "end"
   ]
  },
  {
   "cell_type": "markdown",
   "metadata": {},
   "source": [
    "### type trees"
   ]
  },
  {
   "cell_type": "code",
   "execution_count": 30,
   "metadata": {},
   "outputs": [
    {
     "name": "stdout",
     "output_type": "stream",
     "text": [
      "Number\n",
      "├─ Complex\n",
      "└─ Real\n",
      "   ├─ AbstractFloat\n",
      "   │  ├─ BigFloat\n",
      "   │  ├─ Float16\n",
      "   │  ├─ Float32\n",
      "   │  └─ Float64\n",
      "   ├─ AbstractIrrational\n",
      "   │  └─ Irrational\n",
      "   ├─ Integer\n",
      "   │  ├─ Bool\n",
      "   │  ├─ Signed\n",
      "   │  │  ├─ BigInt\n",
      "   │  │  ├─ Int128\n",
      "   │  │  ├─ Int16\n",
      "   │  │  ├─ Int32\n",
      "   │  │  ├─ Int64\n",
      "   │  │  └─ Int8\n",
      "   │  └─ Unsigned\n",
      "   │     ├─ UInt128\n",
      "   │     ├─ UInt16\n",
      "   │     ├─ UInt32\n",
      "   │     ├─ UInt64\n",
      "   │     └─ UInt8\n",
      "   └─ Rational\n"
     ]
    }
   ],
   "source": [
    "print_tree(Number)"
   ]
  },
  {
   "cell_type": "code",
   "execution_count": 31,
   "metadata": {},
   "outputs": [
    {
     "name": "stdout",
     "output_type": "stream",
     "text": [
      "AbstractVector{T} where T\n",
      "├─ AbstractRange\n",
      "│  ├─ LinRange\n",
      "│  ├─ OrdinalRange\n",
      "│  │  ├─ AbstractUnitRange\n",
      "│  │  │  ├─ IdentityUnitRange\n",
      "│  │  │  ├─ OneTo\n",
      "│  │  │  ├─ Slice\n",
      "│  │  │  └─ UnitRange\n",
      "│  │  └─ StepRange\n",
      "│  └─ StepRangeLen\n",
      "├─ LogicalIndex\n",
      "├─ ReinterpretArray{T, 1, S, A, IsReshaped} where {T, S, A<:(AbstractArray{S, N} where N), IsReshaped}\n",
      "├─ ReshapedArray{T, 1, P, MI} where {T, P<:AbstractArray, MI<:Tuple{Vararg{SignedMultiplicativeInverse{Int64}}}}\n",
      "├─ BitVector\n",
      "├─ CartesianIndices{1, R} where R<:Tuple{OrdinalRange{Int64, Int64}}\n",
      "├─ AbstractRange\n",
      "│  ├─ LinRange\n",
      "│  ├─ OrdinalRange\n",
      "│  │  ├─ AbstractUnitRange\n",
      "│  │  │  ├─ IdentityUnitRange\n",
      "│  │  │  ├─ OneTo\n",
      "│  │  │  ├─ Slice\n",
      "│  │  │  ├─ StmtRange\n",
      "│  │  │  └─ UnitRange\n",
      "│  │  └─ StepRange\n",
      "│  └─ StepRangeLen\n",
      "├─ BitArray{1}\n",
      "├─ LinearIndices{1, R} where R<:Tuple{AbstractUnitRange{Int64}}\n",
      "├─ DenseVector{T} where T\n",
      "│  ├─ CodeUnits\n",
      "│  ├─ Const{T, 1} where T\n",
      "│  ├─ UnsafeView\n",
      "│  ├─ SharedVector{T} where T\n",
      "│  └─ Vector{T} where T\n",
      "├─ LinearIndices{1, R} where R<:Tuple{AbstractUnitRange{Int64}}\n",
      "├─ PermutedDimsArray{T, 1, perm, iperm, AA} where {T, perm, iperm, AA<:AbstractArray}\n",
      "├─ AbstractSparseVector{Tv, Ti} where {Tv, Ti}\n",
      "│  └─ SparseVector\n",
      "├─ SubArray{T, 1, P, I, L} where {T, P, I, L}\n",
      "├─ GenericArray{T, 1} where T\n",
      "└─ Message\n"
     ]
    }
   ],
   "source": [
    "print_tree(AbstractVector)"
   ]
  },
  {
   "cell_type": "markdown",
   "metadata": {},
   "source": [
    "### function definition"
   ]
  },
  {
   "cell_type": "code",
   "execution_count": 32,
   "metadata": {},
   "outputs": [
    {
     "name": "stdout",
     "output_type": "stream",
     "text": [
      "(:function, \n",
      "    (:where, \n",
      "        (:call, :f, \n",
      "            (:(::), :x, :T)), \n",
      "        (:<:, :T, :Number)), \n",
      "    (:block, \n",
      "        (:call, :sin, :x)))"
     ]
    }
   ],
   "source": [
    "@show_texpr function f(x::T) where T<:Number\n",
    "    sin(x)\n",
    "end"
   ]
  },
  {
   "cell_type": "code",
   "execution_count": 33,
   "metadata": {},
   "outputs": [
    {
     "name": "stdout",
     "output_type": "stream",
     "text": [
      "Expr(:function)\n",
      "├─ Expr(:where)\n",
      "│  ├─ Expr(:call)\n",
      "│  │  ├─ :f\n",
      "│  │  └─ Expr(:(::))\n",
      "│  │     ├─ :x\n",
      "│  │     └─ :T\n",
      "│  └─ Expr(:<:)\n",
      "│     ├─ :T\n",
      "│     └─ :Number\n",
      "└─ Expr(:block)\n",
      "   └─ Expr(:call)\n",
      "      ├─ :sin\n",
      "      └─ :x\n"
     ]
    }
   ],
   "source": [
    "@show_tree function f(x::T) where T<:Number\n",
    "    sin(x)\n",
    "end"
   ]
  },
  {
   "cell_type": "code",
   "execution_count": 34,
   "metadata": {},
   "outputs": [
    {
     "name": "stdout",
     "output_type": "stream",
     "text": [
      "Expr(:function, \n",
      "    Expr(:where, \n",
      "        Expr(:call, :f, \n",
      "            Expr(:(::), :x, :T)), \n",
      "        Expr(:<:, :T, :Number)), \n",
      "    Expr(:block, \n",
      "        Expr(:call, :sin, :x)))"
     ]
    }
   ],
   "source": [
    "@show_expr function f(x::T) where T<:Number\n",
    "    sin(x)\n",
    "end"
   ]
  },
  {
   "cell_type": "code",
   "execution_count": 35,
   "metadata": {},
   "outputs": [
    {
     "name": "stdout",
     "output_type": "stream",
     "text": [
      "(:function, \n",
      "    (:where, \n",
      "        (:call, :f, \n",
      "            (:(::), :x, :T)), \n",
      "        (:<:, :T, :Number)), \n",
      "    (:block, \n",
      "        (:call, :sin, :x)))"
     ]
    }
   ],
   "source": [
    "@show_texpr function f(x::T) where T<:Number\n",
    "    sin(x)\n",
    "end"
   ]
  },
  {
   "cell_type": "markdown",
   "metadata": {},
   "source": [
    "### macro and LineNumberNode"
   ]
  },
  {
   "cell_type": "code",
   "execution_count": 36,
   "metadata": {},
   "outputs": [
    {
     "name": "stdout",
     "output_type": "stream",
     "text": [
      "Expr(:macrocall)\n",
      "├─ Symbol(\"@show\")\n",
      "├─ :(#= In[36]:1 =#)\n",
      "└─ Expr(:call)\n",
      "   ├─ :float\n",
      "   └─ :π\n"
     ]
    }
   ],
   "source": [
    "@show_tree @show float(π)"
   ]
  },
  {
   "cell_type": "code",
   "execution_count": 37,
   "metadata": {},
   "outputs": [
    {
     "name": "stdout",
     "output_type": "stream",
     "text": [
      "(:macrocall, Symbol(\"@show\"), :(#= In[37]:1 =#), (:call, :float, :π))"
     ]
    }
   ],
   "source": [
    "@show_sexpr @show float(π)"
   ]
  },
  {
   "cell_type": "code",
   "execution_count": 38,
   "metadata": {},
   "outputs": [
    {
     "name": "stdout",
     "output_type": "stream",
     "text": [
      "float(π) = 3.141592653589793\n"
     ]
    },
    {
     "data": {
      "text/plain": [
       "3.141592653589793"
      ]
     },
     "execution_count": 38,
     "metadata": {},
     "output_type": "execute_result"
    }
   ],
   "source": [
    "@teval (:macrocall, Symbol(\"@show\"), :(#= In[34]:1 =#), (:call, :float, :π))"
   ]
  },
  {
   "cell_type": "code",
   "execution_count": 39,
   "metadata": {},
   "outputs": [
    {
     "name": "stdout",
     "output_type": "stream",
     "text": [
      "Expr(:macrocall, Symbol(\"@show\"), LineNumberNode(1, Symbol(\"In[39]\")), \n",
      "    Expr(:call, :float, :π))"
     ]
    }
   ],
   "source": [
    "@show_expr @show float(π)"
   ]
  },
  {
   "cell_type": "code",
   "execution_count": 40,
   "metadata": {},
   "outputs": [
    {
     "name": "stdout",
     "output_type": "stream",
     "text": [
      "Expr(:macrocall, Symbol(\"@show\"), LineNumberNode(1, Symbol(\"In[40]\")), \n",
      "    Expr(:call, :float, :π))"
     ]
    }
   ],
   "source": [
    "Expr(:macrocall, Symbol(\"@show\"), LineNumberNode(@__LINE__, @__FILE__), \n",
    "    Expr(:call, :float, :π)) |> show_expr"
   ]
  },
  {
   "cell_type": "code",
   "execution_count": 41,
   "metadata": {},
   "outputs": [
    {
     "name": "stdout",
     "output_type": "stream",
     "text": [
      "float(π) = 3.141592653589793\n"
     ]
    },
    {
     "data": {
      "text/plain": [
       "3.141592653589793"
      ]
     },
     "execution_count": 41,
     "metadata": {},
     "output_type": "execute_result"
    }
   ],
   "source": [
    "Expr(:macrocall, Symbol(\"@show\"), LineNumberNode(@__LINE__, @__FILE__), \n",
    "    Expr(:call, :float, :π)) |> eval"
   ]
  },
  {
   "cell_type": "code",
   "execution_count": 42,
   "metadata": {},
   "outputs": [
    {
     "name": "stdout",
     "output_type": "stream",
     "text": [
      "(:macrocall, Symbol(\"@show\"), LineNumberNode(1, Symbol(\"In[42]\")), \n",
      "    (:call, :float, :π))"
     ]
    }
   ],
   "source": [
    "@show_texpr @show float(π)"
   ]
  },
  {
   "cell_type": "code",
   "execution_count": 43,
   "metadata": {},
   "outputs": [
    {
     "name": "stdout",
     "output_type": "stream",
     "text": [
      "float(π) = 3.141592653589793\n"
     ]
    },
    {
     "data": {
      "text/plain": [
       "3.141592653589793"
      ]
     },
     "execution_count": 43,
     "metadata": {},
     "output_type": "execute_result"
    }
   ],
   "source": [
    "(:macrocall, Symbol(\"@show\"), LineNumberNode(@__LINE__, @__FILE__), \n",
    "    (:call, :float, :π)) |> teval"
   ]
  },
  {
   "cell_type": "code",
   "execution_count": 44,
   "metadata": {},
   "outputs": [
    {
     "name": "stdout",
     "output_type": "stream",
     "text": [
      "float(π) = 3.141592653589793\n"
     ]
    },
    {
     "data": {
      "text/plain": [
       "3.141592653589793"
      ]
     },
     "execution_count": 44,
     "metadata": {},
     "output_type": "execute_result"
    }
   ],
   "source": [
    "@teval (:macrocall, Symbol(\"@show\"), LineNumberNode(@__LINE__, @__FILE__),  \n",
    "    (:call, :float, :π))"
   ]
  },
  {
   "cell_type": "markdown",
   "metadata": {},
   "source": [
    "### QuoteNode"
   ]
  },
  {
   "cell_type": "code",
   "execution_count": 45,
   "metadata": {},
   "outputs": [
    {
     "data": {
      "text/plain": [
       ":($(QuoteNode(:(sin(x)))))"
      ]
     },
     "execution_count": 45,
     "metadata": {},
     "output_type": "execute_result"
    }
   ],
   "source": [
    "QuoteNode(:(sin(x)))"
   ]
  },
  {
   "cell_type": "code",
   "execution_count": 46,
   "metadata": {},
   "outputs": [
    {
     "name": "stdout",
     "output_type": "stream",
     "text": [
      "(:quote, #QuoteNode\n",
      "  (:call, :sin, :x)\n",
      ")"
     ]
    }
   ],
   "source": [
    "QuoteNode(:(sin(x))) |> Meta.show_sexpr"
   ]
  },
  {
   "cell_type": "code",
   "execution_count": 47,
   "metadata": {},
   "outputs": [
    {
     "name": "stdout",
     "output_type": "stream",
     "text": [
      "QuoteNode(\n",
      "    Expr(:call, :sin, :x))"
     ]
    }
   ],
   "source": [
    "QuoteNode(:(sin(x))) |> show_expr"
   ]
  },
  {
   "cell_type": "code",
   "execution_count": 48,
   "metadata": {},
   "outputs": [
    {
     "name": "stdout",
     "output_type": "stream",
     "text": [
      "QuoteNode(\n",
      "    (:call, :sin, :x))"
     ]
    }
   ],
   "source": [
    "QuoteNode(:(sin(x))) |> show_texpr"
   ]
  },
  {
   "cell_type": "code",
   "execution_count": 49,
   "metadata": {},
   "outputs": [
    {
     "data": {
      "text/plain": [
       "true"
      ]
     },
     "execution_count": 49,
     "metadata": {},
     "output_type": "execute_result"
    }
   ],
   "source": [
    "QuoteNode(\n",
    "    (:call, :sin, :x)) |> texpr2expr == QuoteNode(:(sin(x)))"
   ]
  },
  {
   "cell_type": "code",
   "execution_count": 50,
   "metadata": {},
   "outputs": [
    {
     "data": {
      "text/plain": [
       ":(sin(x))"
      ]
     },
     "execution_count": 50,
     "metadata": {},
     "output_type": "execute_result"
    }
   ],
   "source": [
    "@teval QuoteNode(\n",
    "    (:call, :sin, :x))"
   ]
  },
  {
   "cell_type": "markdown",
   "metadata": {},
   "source": [
    "## Evaluation of Lisp-like tuple expressions\n",
    "\n",
    "If you want more Lisp-like examamples, see [LispLikeEval.ipynb](https://nbviewer.jupyter.org/github/genkuroki/LispLikeEval.jl/blob/master/LispLikeEval.ipynb)."
   ]
  },
  {
   "cell_type": "code",
   "execution_count": 51,
   "metadata": {},
   "outputs": [],
   "source": [
    "using MetaUtils: @t, @T"
   ]
  },
  {
   "cell_type": "code",
   "execution_count": 52,
   "metadata": {},
   "outputs": [
    {
     "name": "stdout",
     "output_type": "stream",
     "text": [
      ":(f(x) = sin(x))\n",
      "→ f\n",
      "\n",
      ":(f(π / 6))\n",
      "→ 0.49999999999999994\n"
     ]
    }
   ],
   "source": [
    "# Define and run a function f(x) = sin(x)\n",
    "\n",
    "@t (:(=), :(f(x)), (:sin, :x))\n",
    "println()\n",
    "@t (:f, (:/, π, 6))"
   ]
  },
  {
   "cell_type": "code",
   "execution_count": 53,
   "metadata": {},
   "outputs": [
    {
     "name": "stdout",
     "output_type": "stream",
     "text": [
      "(:(=), :(f(x)), (:sin, :x))\n",
      "→ (:(=), \n",
      "    (:call, :f, :x), \n",
      "    (:call, :sin, :x))\n",
      "→ :(f(x) = sin(x))\n",
      "→ f\n",
      "\n",
      "(:f, (:/, π, 6))\n",
      "→ (:call, :f, \n",
      "    (:call, :/, π, 6))\n",
      "→ :(f(π / 6))\n",
      "→ 0.49999999999999994\n"
     ]
    }
   ],
   "source": [
    "# Define and run a function f(x) = sin(x)\n",
    "\n",
    "@T (:(=), :(f(x)), (:sin, :x))\n",
    "println()\n",
    "@T (:f, (:/, π, 6))"
   ]
  },
  {
   "cell_type": "code",
   "execution_count": 54,
   "metadata": {},
   "outputs": [
    {
     "name": "stdout",
     "output_type": "stream",
     "text": [
      "quote\n",
      "    function g(x)\n",
      "        sin(x)\n",
      "    end\n",
      "    g(π / 6)\n",
      "end\n",
      "→ 0.49999999999999994\n"
     ]
    }
   ],
   "source": [
    "# Define and run a function g(x) = sin(x)\n",
    "\n",
    "@t (:block,\n",
    "    (:function, :(g(x)), (:sin, :x)),\n",
    "    (:call, :g, (:/, π, 6)))"
   ]
  },
  {
   "cell_type": "code",
   "execution_count": 55,
   "metadata": {},
   "outputs": [
    {
     "name": "stdout",
     "output_type": "stream",
     "text": [
      "(:block, (:function, :(g(x)), (:sin, :x)), (:call, :g, (:/, π, 6)))\n",
      "→ (:block, \n",
      "    (:function, \n",
      "        (:call, :g, :x), \n",
      "        (:call, :sin, :x)), \n",
      "    (:call, :g, \n",
      "        (:call, :/, π, 6)))\n",
      "→ quote\n",
      "    function g(x)\n",
      "        sin(x)\n",
      "    end\n",
      "    g(π / 6)\n",
      "end\n",
      "→ 0.49999999999999994\n"
     ]
    }
   ],
   "source": [
    "# Define and run a function g(x) = sin(x)\n",
    "\n",
    "@T (:block,\n",
    "    (:function, :(g(x)), (:sin, :x)),\n",
    "    (:call, :g, (:/, π, 6)))"
   ]
  },
  {
   "cell_type": "code",
   "execution_count": 56,
   "metadata": {},
   "outputs": [
    {
     "name": "stdout",
     "output_type": "stream",
     "text": [
      "quote\n",
      "    function pi_mc(N)\n",
      "        c = 0\n",
      "        for i = 1:N\n",
      "            c += ifelse(rand() ^ 2 + rand() ^ 2 ≤ 1, 1, 0)\n",
      "        end\n",
      "        (4c) / N\n",
      "    end\n",
      "    pi_mc(10 ^ 8)\n",
      "end\n",
      "→ 3.14144212\n"
     ]
    }
   ],
   "source": [
    "# Calculation of pi by the Monte Carlo method\n",
    "\n",
    "@t (:block, \n",
    "    (:function, :(pi_mc(N)), \n",
    "        (:block, \n",
    "            (:(=), :c, 0), \n",
    "            (:for, (:(=), :i, (:(:), 1, :N)), \n",
    "                (:block, \n",
    "                    (:+=, :c, \n",
    "                        (:call, :ifelse, \n",
    "                            (:≤, (:+, (:^, (:rand,), 2), (:^, (:rand,), 2)), 1), \n",
    "                            1, 0)))), \n",
    "            (:/, (:*, 4, :c), :N))), \n",
    "    (:call, :pi_mc, (:^, 10, 8)))"
   ]
  },
  {
   "cell_type": "code",
   "execution_count": 57,
   "metadata": {},
   "outputs": [
    {
     "name": "stdout",
     "output_type": "stream",
     "text": [
      ":($(Expr(:quote, :(sin(x)))))\n",
      "→ :(sin(x))\n"
     ]
    }
   ],
   "source": [
    "# quote\n",
    "\n",
    "@t (:quote, (:sin, :x))"
   ]
  },
  {
   "cell_type": "code",
   "execution_count": 58,
   "metadata": {},
   "outputs": [
    {
     "name": "stdout",
     "output_type": "stream",
     "text": [
      ":((1, 2, 3))\n",
      "→ (1, 2, 3)\n"
     ]
    }
   ],
   "source": [
    "# tuple\n",
    "\n",
    "@t (:tuple, 1, 2, 3)"
   ]
  },
  {
   "cell_type": "markdown",
   "metadata": {},
   "source": [
    "## Plot example"
   ]
  },
  {
   "cell_type": "code",
   "execution_count": 59,
   "metadata": {},
   "outputs": [
    {
     "data": {
      "image/svg+xml": [
       "<?xml version=\"1.0\" encoding=\"utf-8\"?>\n",
       "<svg xmlns=\"http://www.w3.org/2000/svg\" xmlns:xlink=\"http://www.w3.org/1999/xlink\" width=\"600\" height=\"400\" viewBox=\"0 0 2400 1600\">\n",
       "<defs>\n",
       "  <clipPath id=\"clip190\">\n",
       "    <rect x=\"0\" y=\"0\" width=\"2400\" height=\"1600\"/>\n",
       "  </clipPath>\n",
       "</defs>\n",
       "<path clip-path=\"url(#clip190)\" d=\"\n",
       "M0 1600 L2400 1600 L2400 0 L0 0  Z\n",
       "  \" fill=\"#ffffff\" fill-rule=\"evenodd\" fill-opacity=\"1\"/>\n",
       "<defs>\n",
       "  <clipPath id=\"clip191\">\n",
       "    <rect x=\"480\" y=\"0\" width=\"1681\" height=\"1600\"/>\n",
       "  </clipPath>\n",
       "</defs>\n",
       "<path clip-path=\"url(#clip190)\" d=\"\n",
       "M179.654 1486.45 L2352.76 1486.45 L2352.76 47.2441 L179.654 47.2441  Z\n",
       "  \" fill=\"#ffffff\" fill-rule=\"evenodd\" fill-opacity=\"1\"/>\n",
       "<defs>\n",
       "  <clipPath id=\"clip192\">\n",
       "    <rect x=\"179\" y=\"47\" width=\"2174\" height=\"1440\"/>\n",
       "  </clipPath>\n",
       "</defs>\n",
       "<polyline clip-path=\"url(#clip192)\" style=\"stroke:#000000; stroke-width:2; stroke-opacity:0.1; fill:none\" points=\"\n",
       "  287.356,1486.45 287.356,47.2441 \n",
       "  \"/>\n",
       "<polyline clip-path=\"url(#clip192)\" style=\"stroke:#000000; stroke-width:2; stroke-opacity:0.1; fill:none\" points=\"\n",
       "  613.639,1486.45 613.639,47.2441 \n",
       "  \"/>\n",
       "<polyline clip-path=\"url(#clip192)\" style=\"stroke:#000000; stroke-width:2; stroke-opacity:0.1; fill:none\" points=\"\n",
       "  939.922,1486.45 939.922,47.2441 \n",
       "  \"/>\n",
       "<polyline clip-path=\"url(#clip192)\" style=\"stroke:#000000; stroke-width:2; stroke-opacity:0.1; fill:none\" points=\"\n",
       "  1266.2,1486.45 1266.2,47.2441 \n",
       "  \"/>\n",
       "<polyline clip-path=\"url(#clip192)\" style=\"stroke:#000000; stroke-width:2; stroke-opacity:0.1; fill:none\" points=\"\n",
       "  1592.49,1486.45 1592.49,47.2441 \n",
       "  \"/>\n",
       "<polyline clip-path=\"url(#clip192)\" style=\"stroke:#000000; stroke-width:2; stroke-opacity:0.1; fill:none\" points=\"\n",
       "  1918.77,1486.45 1918.77,47.2441 \n",
       "  \"/>\n",
       "<polyline clip-path=\"url(#clip192)\" style=\"stroke:#000000; stroke-width:2; stroke-opacity:0.1; fill:none\" points=\"\n",
       "  2245.05,1486.45 2245.05,47.2441 \n",
       "  \"/>\n",
       "<polyline clip-path=\"url(#clip190)\" style=\"stroke:#000000; stroke-width:4; stroke-opacity:1; fill:none\" points=\"\n",
       "  179.654,1486.45 2352.76,1486.45 \n",
       "  \"/>\n",
       "<polyline clip-path=\"url(#clip190)\" style=\"stroke:#000000; stroke-width:4; stroke-opacity:1; fill:none\" points=\"\n",
       "  287.356,1486.45 287.356,1469.18 \n",
       "  \"/>\n",
       "<polyline clip-path=\"url(#clip190)\" style=\"stroke:#000000; stroke-width:4; stroke-opacity:1; fill:none\" points=\"\n",
       "  613.639,1486.45 613.639,1469.18 \n",
       "  \"/>\n",
       "<polyline clip-path=\"url(#clip190)\" style=\"stroke:#000000; stroke-width:4; stroke-opacity:1; fill:none\" points=\"\n",
       "  939.922,1486.45 939.922,1469.18 \n",
       "  \"/>\n",
       "<polyline clip-path=\"url(#clip190)\" style=\"stroke:#000000; stroke-width:4; stroke-opacity:1; fill:none\" points=\"\n",
       "  1266.2,1486.45 1266.2,1469.18 \n",
       "  \"/>\n",
       "<polyline clip-path=\"url(#clip190)\" style=\"stroke:#000000; stroke-width:4; stroke-opacity:1; fill:none\" points=\"\n",
       "  1592.49,1486.45 1592.49,1469.18 \n",
       "  \"/>\n",
       "<polyline clip-path=\"url(#clip190)\" style=\"stroke:#000000; stroke-width:4; stroke-opacity:1; fill:none\" points=\"\n",
       "  1918.77,1486.45 1918.77,1469.18 \n",
       "  \"/>\n",
       "<polyline clip-path=\"url(#clip190)\" style=\"stroke:#000000; stroke-width:4; stroke-opacity:1; fill:none\" points=\"\n",
       "  2245.05,1486.45 2245.05,1469.18 \n",
       "  \"/>\n",
       "<path clip-path=\"url(#clip190)\" d=\"M 0 0 M259.335 1530.29 L289.011 1530.29 L289.011 1534.23 L259.335 1534.23 L259.335 1530.29 Z\" fill=\"#000000\" fill-rule=\"evenodd\" fill-opacity=\"1\" /><path clip-path=\"url(#clip190)\" d=\"M 0 0 M308.247 1528.49 Q311.603 1529.2 313.478 1531.47 Q315.377 1533.74 315.377 1537.07 Q315.377 1542.19 311.858 1544.99 Q308.34 1547.79 301.858 1547.79 Q299.682 1547.79 297.367 1547.35 Q295.076 1546.93 292.622 1546.08 L292.622 1541.56 Q294.566 1542.7 296.881 1543.28 Q299.196 1543.86 301.719 1543.86 Q306.117 1543.86 308.409 1542.12 Q310.724 1540.38 310.724 1537.07 Q310.724 1534.02 308.571 1532.31 Q306.441 1530.57 302.622 1530.57 L298.594 1530.57 L298.594 1526.73 L302.807 1526.73 Q306.256 1526.73 308.085 1525.36 Q309.914 1523.97 309.914 1521.38 Q309.914 1518.72 308.015 1517.31 Q306.14 1515.87 302.622 1515.87 Q300.701 1515.87 298.502 1516.29 Q296.303 1516.7 293.664 1517.58 L293.664 1513.42 Q296.326 1512.68 298.64 1512.31 Q300.978 1511.93 303.039 1511.93 Q308.363 1511.93 311.465 1514.37 Q314.566 1516.77 314.566 1520.89 Q314.566 1523.76 312.923 1525.75 Q311.279 1527.72 308.247 1528.49 Z\" fill=\"#000000\" fill-rule=\"evenodd\" fill-opacity=\"1\" /><path clip-path=\"url(#clip190)\" d=\"M 0 0 M586.093 1530.29 L615.768 1530.29 L615.768 1534.23 L586.093 1534.23 L586.093 1530.29 Z\" fill=\"#000000\" fill-rule=\"evenodd\" fill-opacity=\"1\" /><path clip-path=\"url(#clip190)\" d=\"M 0 0 M624.866 1543.18 L641.185 1543.18 L641.185 1547.12 L619.241 1547.12 L619.241 1543.18 Q621.903 1540.43 626.486 1535.8 Q631.092 1531.15 632.273 1529.81 Q634.518 1527.28 635.398 1525.55 Q636.301 1523.79 636.301 1522.1 Q636.301 1519.34 634.356 1517.61 Q632.435 1515.87 629.333 1515.87 Q627.134 1515.87 624.68 1516.63 Q622.25 1517.4 619.472 1518.95 L619.472 1514.23 Q622.296 1513.09 624.75 1512.51 Q627.204 1511.93 629.241 1511.93 Q634.611 1511.93 637.805 1514.62 Q641 1517.31 641 1521.8 Q641 1523.93 640.19 1525.85 Q639.403 1527.74 637.296 1530.34 Q636.717 1531.01 633.616 1534.23 Q630.514 1537.42 624.866 1543.18 Z\" fill=\"#000000\" fill-rule=\"evenodd\" fill-opacity=\"1\" /><path clip-path=\"url(#clip190)\" d=\"M 0 0 M912.19 1530.29 L941.866 1530.29 L941.866 1534.23 L912.19 1534.23 L912.19 1530.29 Z\" fill=\"#000000\" fill-rule=\"evenodd\" fill-opacity=\"1\" /><path clip-path=\"url(#clip190)\" d=\"M 0 0 M947.746 1543.18 L955.385 1543.18 L955.385 1516.82 L947.075 1518.49 L947.075 1514.23 L955.338 1512.56 L960.014 1512.56 L960.014 1543.18 L967.653 1543.18 L967.653 1547.12 L947.746 1547.12 L947.746 1543.18 Z\" fill=\"#000000\" fill-rule=\"evenodd\" fill-opacity=\"1\" /><path clip-path=\"url(#clip190)\" d=\"M 0 0 M1266.2 1515.64 Q1262.59 1515.64 1260.77 1519.2 Q1258.96 1522.75 1258.96 1529.87 Q1258.96 1536.98 1260.77 1540.55 Q1262.59 1544.09 1266.2 1544.09 Q1269.84 1544.09 1271.64 1540.55 Q1273.47 1536.98 1273.47 1529.87 Q1273.47 1522.75 1271.64 1519.2 Q1269.84 1515.64 1266.2 1515.64 M1266.2 1511.93 Q1272.01 1511.93 1275.07 1516.54 Q1278.15 1521.12 1278.15 1529.87 Q1278.15 1538.6 1275.07 1543.21 Q1272.01 1547.79 1266.2 1547.79 Q1260.39 1547.79 1257.32 1543.21 Q1254.26 1538.6 1254.26 1529.87 Q1254.26 1521.12 1257.32 1516.54 Q1260.39 1511.93 1266.2 1511.93 Z\" fill=\"#000000\" fill-rule=\"evenodd\" fill-opacity=\"1\" /><path clip-path=\"url(#clip190)\" d=\"M 0 0 M1582.87 1543.18 L1590.51 1543.18 L1590.51 1516.82 L1582.2 1518.49 L1582.2 1514.23 L1590.46 1512.56 L1595.14 1512.56 L1595.14 1543.18 L1602.78 1543.18 L1602.78 1547.12 L1582.87 1547.12 L1582.87 1543.18 Z\" fill=\"#000000\" fill-rule=\"evenodd\" fill-opacity=\"1\" /><path clip-path=\"url(#clip190)\" d=\"M 0 0 M1913.42 1543.18 L1929.74 1543.18 L1929.74 1547.12 L1907.8 1547.12 L1907.8 1543.18 Q1910.46 1540.43 1915.04 1535.8 Q1919.65 1531.15 1920.83 1529.81 Q1923.08 1527.28 1923.96 1525.55 Q1924.86 1523.79 1924.86 1522.1 Q1924.86 1519.34 1922.91 1517.61 Q1920.99 1515.87 1917.89 1515.87 Q1915.69 1515.87 1913.24 1516.63 Q1910.81 1517.4 1908.03 1518.95 L1908.03 1514.23 Q1910.85 1513.09 1913.31 1512.51 Q1915.76 1511.93 1917.8 1511.93 Q1923.17 1511.93 1926.36 1514.62 Q1929.56 1517.31 1929.56 1521.8 Q1929.56 1523.93 1928.75 1525.85 Q1927.96 1527.74 1925.85 1530.34 Q1925.28 1531.01 1922.17 1534.23 Q1919.07 1537.42 1913.42 1543.18 Z\" fill=\"#000000\" fill-rule=\"evenodd\" fill-opacity=\"1\" /><path clip-path=\"url(#clip190)\" d=\"M 0 0 M2249.3 1528.49 Q2252.66 1529.2 2254.53 1531.47 Q2256.43 1533.74 2256.43 1537.07 Q2256.43 1542.19 2252.91 1544.99 Q2249.39 1547.79 2242.91 1547.79 Q2240.74 1547.79 2238.42 1547.35 Q2236.13 1546.93 2233.68 1546.08 L2233.68 1541.56 Q2235.62 1542.7 2237.94 1543.28 Q2240.25 1543.86 2242.77 1543.86 Q2247.17 1543.86 2249.46 1542.12 Q2251.78 1540.38 2251.78 1537.07 Q2251.78 1534.02 2249.63 1532.31 Q2247.5 1530.57 2243.68 1530.57 L2239.65 1530.57 L2239.65 1526.73 L2243.86 1526.73 Q2247.31 1526.73 2249.14 1525.36 Q2250.97 1523.97 2250.97 1521.38 Q2250.97 1518.72 2249.07 1517.31 Q2247.19 1515.87 2243.68 1515.87 Q2241.76 1515.87 2239.56 1516.29 Q2237.36 1516.7 2234.72 1517.58 L2234.72 1513.42 Q2237.38 1512.68 2239.69 1512.31 Q2242.03 1511.93 2244.09 1511.93 Q2249.42 1511.93 2252.52 1514.37 Q2255.62 1516.77 2255.62 1520.89 Q2255.62 1523.76 2253.98 1525.75 Q2252.33 1527.72 2249.3 1528.49 Z\" fill=\"#000000\" fill-rule=\"evenodd\" fill-opacity=\"1\" /><polyline clip-path=\"url(#clip192)\" style=\"stroke:#000000; stroke-width:2; stroke-opacity:0.1; fill:none\" points=\"\n",
       "  179.654,1262.09 2352.76,1262.09 \n",
       "  \"/>\n",
       "<polyline clip-path=\"url(#clip192)\" style=\"stroke:#000000; stroke-width:2; stroke-opacity:0.1; fill:none\" points=\"\n",
       "  179.654,1032.05 2352.76,1032.05 \n",
       "  \"/>\n",
       "<polyline clip-path=\"url(#clip192)\" style=\"stroke:#000000; stroke-width:2; stroke-opacity:0.1; fill:none\" points=\"\n",
       "  179.654,802.019 2352.76,802.019 \n",
       "  \"/>\n",
       "<polyline clip-path=\"url(#clip192)\" style=\"stroke:#000000; stroke-width:2; stroke-opacity:0.1; fill:none\" points=\"\n",
       "  179.654,571.985 2352.76,571.985 \n",
       "  \"/>\n",
       "<polyline clip-path=\"url(#clip192)\" style=\"stroke:#000000; stroke-width:2; stroke-opacity:0.1; fill:none\" points=\"\n",
       "  179.654,341.951 2352.76,341.951 \n",
       "  \"/>\n",
       "<polyline clip-path=\"url(#clip192)\" style=\"stroke:#000000; stroke-width:2; stroke-opacity:0.1; fill:none\" points=\"\n",
       "  179.654,111.917 2352.76,111.917 \n",
       "  \"/>\n",
       "<polyline clip-path=\"url(#clip190)\" style=\"stroke:#000000; stroke-width:4; stroke-opacity:1; fill:none\" points=\"\n",
       "  179.654,1486.45 179.654,47.2441 \n",
       "  \"/>\n",
       "<polyline clip-path=\"url(#clip190)\" style=\"stroke:#000000; stroke-width:4; stroke-opacity:1; fill:none\" points=\"\n",
       "  179.654,1262.09 205.731,1262.09 \n",
       "  \"/>\n",
       "<polyline clip-path=\"url(#clip190)\" style=\"stroke:#000000; stroke-width:4; stroke-opacity:1; fill:none\" points=\"\n",
       "  179.654,1032.05 205.731,1032.05 \n",
       "  \"/>\n",
       "<polyline clip-path=\"url(#clip190)\" style=\"stroke:#000000; stroke-width:4; stroke-opacity:1; fill:none\" points=\"\n",
       "  179.654,802.019 205.731,802.019 \n",
       "  \"/>\n",
       "<polyline clip-path=\"url(#clip190)\" style=\"stroke:#000000; stroke-width:4; stroke-opacity:1; fill:none\" points=\"\n",
       "  179.654,571.985 205.731,571.985 \n",
       "  \"/>\n",
       "<polyline clip-path=\"url(#clip190)\" style=\"stroke:#000000; stroke-width:4; stroke-opacity:1; fill:none\" points=\"\n",
       "  179.654,341.951 205.731,341.951 \n",
       "  \"/>\n",
       "<polyline clip-path=\"url(#clip190)\" style=\"stroke:#000000; stroke-width:4; stroke-opacity:1; fill:none\" points=\"\n",
       "  179.654,111.917 205.731,111.917 \n",
       "  \"/>\n",
       "<path clip-path=\"url(#clip190)\" d=\"M 0 0 M51.2236 1262.54 L80.8994 1262.54 L80.8994 1266.47 L51.2236 1266.47 L51.2236 1262.54 Z\" fill=\"#000000\" fill-rule=\"evenodd\" fill-opacity=\"1\" /><path clip-path=\"url(#clip190)\" d=\"M 0 0 M86.779 1275.43 L94.4178 1275.43 L94.4178 1249.07 L86.1077 1250.73 L86.1077 1246.47 L94.3715 1244.81 L99.0474 1244.81 L99.0474 1275.43 L106.686 1275.43 L106.686 1279.37 L86.779 1279.37 L86.779 1275.43 Z\" fill=\"#000000\" fill-rule=\"evenodd\" fill-opacity=\"1\" /><path clip-path=\"url(#clip190)\" d=\"M 0 0 M111.756 1273.49 L116.64 1273.49 L116.64 1279.37 L111.756 1279.37 L111.756 1273.49 Z\" fill=\"#000000\" fill-rule=\"evenodd\" fill-opacity=\"1\" /><path clip-path=\"url(#clip190)\" d=\"M 0 0 M131.709 1247.89 Q128.098 1247.89 126.27 1251.45 Q124.464 1254.99 124.464 1262.12 Q124.464 1269.23 126.27 1272.79 Q128.098 1276.33 131.709 1276.33 Q135.344 1276.33 137.149 1272.79 Q138.978 1269.23 138.978 1262.12 Q138.978 1254.99 137.149 1251.45 Q135.344 1247.89 131.709 1247.89 M131.709 1244.18 Q137.519 1244.18 140.575 1248.79 Q143.654 1253.37 143.654 1262.12 Q143.654 1270.85 140.575 1275.46 Q137.519 1280.04 131.709 1280.04 Q125.899 1280.04 122.82 1275.46 Q119.765 1270.85 119.765 1262.12 Q119.765 1253.37 122.82 1248.79 Q125.899 1244.18 131.709 1244.18 Z\" fill=\"#000000\" fill-rule=\"evenodd\" fill-opacity=\"1\" /><path clip-path=\"url(#clip190)\" d=\"M 0 0 M50.9921 1032.5 L80.6679 1032.5 L80.6679 1036.44 L50.9921 1036.44 L50.9921 1032.5 Z\" fill=\"#000000\" fill-rule=\"evenodd\" fill-opacity=\"1\" /><path clip-path=\"url(#clip190)\" d=\"M 0 0 M95.7373 1017.85 Q92.1262 1017.85 90.2975 1021.42 Q88.4919 1024.96 88.4919 1032.09 Q88.4919 1039.19 90.2975 1042.76 Q92.1262 1046.3 95.7373 1046.3 Q99.3715 1046.3 101.177 1042.76 Q103.006 1039.19 103.006 1032.09 Q103.006 1024.96 101.177 1021.42 Q99.3715 1017.85 95.7373 1017.85 M95.7373 1014.15 Q101.547 1014.15 104.603 1018.75 Q107.682 1023.34 107.682 1032.09 Q107.682 1040.81 104.603 1045.42 Q101.547 1050 95.7373 1050 Q89.9271 1050 86.8484 1045.42 Q83.7929 1040.81 83.7929 1032.09 Q83.7929 1023.34 86.8484 1018.75 Q89.9271 1014.15 95.7373 1014.15 Z\" fill=\"#000000\" fill-rule=\"evenodd\" fill-opacity=\"1\" /><path clip-path=\"url(#clip190)\" d=\"M 0 0 M112.751 1043.45 L117.635 1043.45 L117.635 1049.33 L112.751 1049.33 L112.751 1043.45 Z\" fill=\"#000000\" fill-rule=\"evenodd\" fill-opacity=\"1\" /><path clip-path=\"url(#clip190)\" d=\"M 0 0 M122.751 1014.77 L141.107 1014.77 L141.107 1018.71 L127.033 1018.71 L127.033 1027.18 Q128.052 1026.83 129.07 1026.67 Q130.089 1026.49 131.107 1026.49 Q136.894 1026.49 140.274 1029.66 Q143.654 1032.83 143.654 1038.25 Q143.654 1043.82 140.181 1046.93 Q136.709 1050 130.39 1050 Q128.214 1050 125.945 1049.63 Q123.7 1049.26 121.293 1048.52 L121.293 1043.82 Q123.376 1044.96 125.598 1045.51 Q127.82 1046.07 130.297 1046.07 Q134.302 1046.07 136.64 1043.96 Q138.978 1041.86 138.978 1038.25 Q138.978 1034.63 136.64 1032.53 Q134.302 1030.42 130.297 1030.42 Q128.422 1030.42 126.547 1030.84 Q124.695 1031.25 122.751 1032.13 L122.751 1014.77 Z\" fill=\"#000000\" fill-rule=\"evenodd\" fill-opacity=\"1\" /><path clip-path=\"url(#clip190)\" d=\"M 0 0 M94.7419 787.818 Q91.1308 787.818 89.3021 791.383 Q87.4966 794.924 87.4966 802.054 Q87.4966 809.16 89.3021 812.725 Q91.1308 816.267 94.7419 816.267 Q98.3761 816.267 100.182 812.725 Q102.01 809.16 102.01 802.054 Q102.01 794.924 100.182 791.383 Q98.3761 787.818 94.7419 787.818 M94.7419 784.114 Q100.552 784.114 103.608 788.721 Q106.686 793.304 106.686 802.054 Q106.686 810.781 103.608 815.387 Q100.552 819.971 94.7419 819.971 Q88.9317 819.971 85.8531 815.387 Q82.7975 810.781 82.7975 802.054 Q82.7975 793.304 85.8531 788.721 Q88.9317 784.114 94.7419 784.114 Z\" fill=\"#000000\" fill-rule=\"evenodd\" fill-opacity=\"1\" /><path clip-path=\"url(#clip190)\" d=\"M 0 0 M111.756 813.42 L116.64 813.42 L116.64 819.299 L111.756 819.299 L111.756 813.42 Z\" fill=\"#000000\" fill-rule=\"evenodd\" fill-opacity=\"1\" /><path clip-path=\"url(#clip190)\" d=\"M 0 0 M131.709 787.818 Q128.098 787.818 126.27 791.383 Q124.464 794.924 124.464 802.054 Q124.464 809.16 126.27 812.725 Q128.098 816.267 131.709 816.267 Q135.344 816.267 137.149 812.725 Q138.978 809.16 138.978 802.054 Q138.978 794.924 137.149 791.383 Q135.344 787.818 131.709 787.818 M131.709 784.114 Q137.519 784.114 140.575 788.721 Q143.654 793.304 143.654 802.054 Q143.654 810.781 140.575 815.387 Q137.519 819.971 131.709 819.971 Q125.899 819.971 122.82 815.387 Q119.765 810.781 119.765 802.054 Q119.765 793.304 122.82 788.721 Q125.899 784.114 131.709 784.114 Z\" fill=\"#000000\" fill-rule=\"evenodd\" fill-opacity=\"1\" /><path clip-path=\"url(#clip190)\" d=\"M 0 0 M95.7373 557.784 Q92.1262 557.784 90.2975 561.349 Q88.4919 564.89 88.4919 572.02 Q88.4919 579.127 90.2975 582.691 Q92.1262 586.233 95.7373 586.233 Q99.3715 586.233 101.177 582.691 Q103.006 579.127 103.006 572.02 Q103.006 564.89 101.177 561.349 Q99.3715 557.784 95.7373 557.784 M95.7373 554.08 Q101.547 554.08 104.603 558.687 Q107.682 563.27 107.682 572.02 Q107.682 580.747 104.603 585.353 Q101.547 589.937 95.7373 589.937 Q89.9271 589.937 86.8484 585.353 Q83.7929 580.747 83.7929 572.02 Q83.7929 563.27 86.8484 558.687 Q89.9271 554.08 95.7373 554.08 Z\" fill=\"#000000\" fill-rule=\"evenodd\" fill-opacity=\"1\" /><path clip-path=\"url(#clip190)\" d=\"M 0 0 M112.751 583.386 L117.635 583.386 L117.635 589.265 L112.751 589.265 L112.751 583.386 Z\" fill=\"#000000\" fill-rule=\"evenodd\" fill-opacity=\"1\" /><path clip-path=\"url(#clip190)\" d=\"M 0 0 M122.751 554.705 L141.107 554.705 L141.107 558.641 L127.033 558.641 L127.033 567.113 Q128.052 566.765 129.07 566.603 Q130.089 566.418 131.107 566.418 Q136.894 566.418 140.274 569.59 Q143.654 572.761 143.654 578.177 Q143.654 583.756 140.181 586.858 Q136.709 589.937 130.39 589.937 Q128.214 589.937 125.945 589.566 Q123.7 589.196 121.293 588.455 L121.293 583.756 Q123.376 584.89 125.598 585.446 Q127.82 586.001 130.297 586.001 Q134.302 586.001 136.64 583.895 Q138.978 581.789 138.978 578.177 Q138.978 574.566 136.64 572.46 Q134.302 570.353 130.297 570.353 Q128.422 570.353 126.547 570.77 Q124.695 571.187 122.751 572.066 L122.751 554.705 Z\" fill=\"#000000\" fill-rule=\"evenodd\" fill-opacity=\"1\" /><path clip-path=\"url(#clip190)\" d=\"M 0 0 M86.779 355.296 L94.4178 355.296 L94.4178 328.931 L86.1077 330.597 L86.1077 326.338 L94.3715 324.671 L99.0474 324.671 L99.0474 355.296 L106.686 355.296 L106.686 359.231 L86.779 359.231 L86.779 355.296 Z\" fill=\"#000000\" fill-rule=\"evenodd\" fill-opacity=\"1\" /><path clip-path=\"url(#clip190)\" d=\"M 0 0 M111.756 353.352 L116.64 353.352 L116.64 359.231 L111.756 359.231 L111.756 353.352 Z\" fill=\"#000000\" fill-rule=\"evenodd\" fill-opacity=\"1\" /><path clip-path=\"url(#clip190)\" d=\"M 0 0 M131.709 327.75 Q128.098 327.75 126.27 331.315 Q124.464 334.857 124.464 341.986 Q124.464 349.093 126.27 352.657 Q128.098 356.199 131.709 356.199 Q135.344 356.199 137.149 352.657 Q138.978 349.093 138.978 341.986 Q138.978 334.857 137.149 331.315 Q135.344 327.75 131.709 327.75 M131.709 324.046 Q137.519 324.046 140.575 328.653 Q143.654 333.236 143.654 341.986 Q143.654 350.713 140.575 355.319 Q137.519 359.903 131.709 359.903 Q125.899 359.903 122.82 355.319 Q119.765 350.713 119.765 341.986 Q119.765 333.236 122.82 328.653 Q125.899 324.046 131.709 324.046 Z\" fill=\"#000000\" fill-rule=\"evenodd\" fill-opacity=\"1\" /><path clip-path=\"url(#clip190)\" d=\"M 0 0 M87.7743 125.262 L95.4132 125.262 L95.4132 98.8967 L87.103 100.563 L87.103 96.3041 L95.3669 94.6375 L100.043 94.6375 L100.043 125.262 L107.682 125.262 L107.682 129.197 L87.7743 129.197 L87.7743 125.262 Z\" fill=\"#000000\" fill-rule=\"evenodd\" fill-opacity=\"1\" /><path clip-path=\"url(#clip190)\" d=\"M 0 0 M112.751 123.318 L117.635 123.318 L117.635 129.197 L112.751 129.197 L112.751 123.318 Z\" fill=\"#000000\" fill-rule=\"evenodd\" fill-opacity=\"1\" /><path clip-path=\"url(#clip190)\" d=\"M 0 0 M122.751 94.6375 L141.107 94.6375 L141.107 98.5726 L127.033 98.5726 L127.033 107.045 Q128.052 106.698 129.07 106.536 Q130.089 106.35 131.107 106.35 Q136.894 106.35 140.274 109.522 Q143.654 112.693 143.654 118.11 Q143.654 123.688 140.181 126.79 Q136.709 129.869 130.39 129.869 Q128.214 129.869 125.945 129.498 Q123.7 129.128 121.293 128.387 L121.293 123.688 Q123.376 124.823 125.598 125.378 Q127.82 125.934 130.297 125.934 Q134.302 125.934 136.64 123.827 Q138.978 121.721 138.978 118.11 Q138.978 114.498 136.64 112.392 Q134.302 110.286 130.297 110.286 Q128.422 110.286 126.547 110.702 Q124.695 111.119 122.751 111.998 L122.751 94.6375 Z\" fill=\"#000000\" fill-rule=\"evenodd\" fill-opacity=\"1\" /><circle clip-path=\"url(#clip192)\" cx=\"241.157\" cy=\"984.857\" r=\"14\" fill=\"#009af9\" fill-rule=\"evenodd\" fill-opacity=\"1\" stroke=\"#000000\" stroke-opacity=\"1\" stroke-width=\"3.2\"/>\n",
       "<circle clip-path=\"url(#clip192)\" cx=\"349.056\" cy=\"842.209\" r=\"14\" fill=\"#009af9\" fill-rule=\"evenodd\" fill-opacity=\"1\" stroke=\"#000000\" stroke-opacity=\"1\" stroke-width=\"3.2\"/>\n",
       "<circle clip-path=\"url(#clip192)\" cx=\"456.956\" cy=\"811.95\" r=\"14\" fill=\"#009af9\" fill-rule=\"evenodd\" fill-opacity=\"1\" stroke=\"#000000\" stroke-opacity=\"1\" stroke-width=\"3.2\"/>\n",
       "<circle clip-path=\"url(#clip192)\" cx=\"564.856\" cy=\"1445.72\" r=\"14\" fill=\"#009af9\" fill-rule=\"evenodd\" fill-opacity=\"1\" stroke=\"#000000\" stroke-opacity=\"1\" stroke-width=\"3.2\"/>\n",
       "<circle clip-path=\"url(#clip192)\" cx=\"672.756\" cy=\"1116.41\" r=\"14\" fill=\"#009af9\" fill-rule=\"evenodd\" fill-opacity=\"1\" stroke=\"#000000\" stroke-opacity=\"1\" stroke-width=\"3.2\"/>\n",
       "<circle clip-path=\"url(#clip192)\" cx=\"780.656\" cy=\"1338.57\" r=\"14\" fill=\"#009af9\" fill-rule=\"evenodd\" fill-opacity=\"1\" stroke=\"#000000\" stroke-opacity=\"1\" stroke-width=\"3.2\"/>\n",
       "<circle clip-path=\"url(#clip192)\" cx=\"888.555\" cy=\"1199.45\" r=\"14\" fill=\"#009af9\" fill-rule=\"evenodd\" fill-opacity=\"1\" stroke=\"#000000\" stroke-opacity=\"1\" stroke-width=\"3.2\"/>\n",
       "<circle clip-path=\"url(#clip192)\" cx=\"996.455\" cy=\"1172.59\" r=\"14\" fill=\"#009af9\" fill-rule=\"evenodd\" fill-opacity=\"1\" stroke=\"#000000\" stroke-opacity=\"1\" stroke-width=\"3.2\"/>\n",
       "<circle clip-path=\"url(#clip192)\" cx=\"1104.36\" cy=\"1022.34\" r=\"14\" fill=\"#009af9\" fill-rule=\"evenodd\" fill-opacity=\"1\" stroke=\"#000000\" stroke-opacity=\"1\" stroke-width=\"3.2\"/>\n",
       "<circle clip-path=\"url(#clip192)\" cx=\"1212.25\" cy=\"491.35\" r=\"14\" fill=\"#009af9\" fill-rule=\"evenodd\" fill-opacity=\"1\" stroke=\"#000000\" stroke-opacity=\"1\" stroke-width=\"3.2\"/>\n",
       "<circle clip-path=\"url(#clip192)\" cx=\"1320.15\" cy=\"882.762\" r=\"14\" fill=\"#009af9\" fill-rule=\"evenodd\" fill-opacity=\"1\" stroke=\"#000000\" stroke-opacity=\"1\" stroke-width=\"3.2\"/>\n",
       "<circle clip-path=\"url(#clip192)\" cx=\"1428.05\" cy=\"808.072\" r=\"14\" fill=\"#009af9\" fill-rule=\"evenodd\" fill-opacity=\"1\" stroke=\"#000000\" stroke-opacity=\"1\" stroke-width=\"3.2\"/>\n",
       "<circle clip-path=\"url(#clip192)\" cx=\"1535.95\" cy=\"641.841\" r=\"14\" fill=\"#009af9\" fill-rule=\"evenodd\" fill-opacity=\"1\" stroke=\"#000000\" stroke-opacity=\"1\" stroke-width=\"3.2\"/>\n",
       "<circle clip-path=\"url(#clip192)\" cx=\"1643.85\" cy=\"599.775\" r=\"14\" fill=\"#009af9\" fill-rule=\"evenodd\" fill-opacity=\"1\" stroke=\"#000000\" stroke-opacity=\"1\" stroke-width=\"3.2\"/>\n",
       "<circle clip-path=\"url(#clip192)\" cx=\"1751.75\" cy=\"254.493\" r=\"14\" fill=\"#009af9\" fill-rule=\"evenodd\" fill-opacity=\"1\" stroke=\"#000000\" stroke-opacity=\"1\" stroke-width=\"3.2\"/>\n",
       "<circle clip-path=\"url(#clip192)\" cx=\"1859.65\" cy=\"87.9763\" r=\"14\" fill=\"#009af9\" fill-rule=\"evenodd\" fill-opacity=\"1\" stroke=\"#000000\" stroke-opacity=\"1\" stroke-width=\"3.2\"/>\n",
       "<circle clip-path=\"url(#clip192)\" cx=\"1967.55\" cy=\"362.567\" r=\"14\" fill=\"#009af9\" fill-rule=\"evenodd\" fill-opacity=\"1\" stroke=\"#000000\" stroke-opacity=\"1\" stroke-width=\"3.2\"/>\n",
       "<circle clip-path=\"url(#clip192)\" cx=\"2075.45\" cy=\"553.069\" r=\"14\" fill=\"#009af9\" fill-rule=\"evenodd\" fill-opacity=\"1\" stroke=\"#000000\" stroke-opacity=\"1\" stroke-width=\"3.2\"/>\n",
       "<circle clip-path=\"url(#clip192)\" cx=\"2183.35\" cy=\"628.801\" r=\"14\" fill=\"#009af9\" fill-rule=\"evenodd\" fill-opacity=\"1\" stroke=\"#000000\" stroke-opacity=\"1\" stroke-width=\"3.2\"/>\n",
       "<circle clip-path=\"url(#clip192)\" cx=\"2291.25\" cy=\"1212.22\" r=\"14\" fill=\"#009af9\" fill-rule=\"evenodd\" fill-opacity=\"1\" stroke=\"#000000\" stroke-opacity=\"1\" stroke-width=\"3.2\"/>\n",
       "<polyline clip-path=\"url(#clip192)\" style=\"stroke:#0000ff; stroke-width:4; stroke-opacity:1; fill:none\" stroke-dasharray=\"16, 10\" points=\"\n",
       "  241.157,802.019 246.295,809.264 251.433,816.507 256.571,823.746 261.709,830.979 266.847,838.206 271.985,845.424 277.123,852.631 282.261,859.825 287.399,867.005 \n",
       "  292.537,874.169 297.676,881.315 302.814,888.441 307.952,895.546 313.09,902.627 318.228,909.684 323.366,916.714 328.504,923.716 333.642,930.687 338.78,937.627 \n",
       "  343.918,944.533 349.056,951.403 354.194,958.237 359.333,965.031 364.471,971.786 369.609,978.498 374.747,985.166 379.885,991.789 385.023,998.365 390.161,1004.89 \n",
       "  395.299,1011.37 400.437,1017.79 405.575,1024.17 410.713,1030.48 415.851,1036.74 420.99,1042.94 426.128,1049.09 431.266,1055.17 436.404,1061.18 441.542,1067.14 \n",
       "  446.68,1073.03 451.818,1078.85 456.956,1084.6 462.094,1090.28 467.232,1095.89 472.37,1101.43 477.509,1106.89 482.647,1112.28 487.785,1117.59 492.923,1122.82 \n",
       "  498.061,1127.98 503.199,1133.05 508.337,1138.04 513.475,1142.95 518.613,1147.77 523.751,1152.5 528.889,1157.15 534.027,1161.71 539.166,1166.19 544.304,1170.57 \n",
       "  549.442,1174.86 554.58,1179.06 559.718,1183.16 564.856,1187.17 569.994,1191.09 575.132,1194.91 580.27,1198.63 585.408,1202.25 590.546,1205.77 595.685,1209.19 \n",
       "  600.823,1212.52 605.961,1215.74 611.099,1218.85 616.237,1221.87 621.375,1224.78 626.513,1227.58 631.651,1230.28 636.789,1232.88 641.927,1235.36 647.065,1237.74 \n",
       "  652.203,1240.02 657.342,1242.18 662.48,1244.23 667.618,1246.18 672.756,1248.01 677.894,1249.73 683.032,1251.34 688.17,1252.85 693.308,1254.23 698.446,1255.51 \n",
       "  703.584,1256.68 708.722,1257.73 713.861,1258.67 718.999,1259.49 724.137,1260.2 729.275,1260.8 734.413,1261.29 739.551,1261.66 744.689,1261.91 749.827,1262.06 \n",
       "  754.965,1262.08 760.103,1262 765.241,1261.8 770.379,1261.48 775.518,1261.06 780.656,1260.52 785.794,1259.86 790.932,1259.09 796.07,1258.21 801.208,1257.22 \n",
       "  806.346,1256.11 811.484,1254.89 816.622,1253.55 821.76,1252.11 826.898,1250.55 832.036,1248.88 837.175,1247.11 842.313,1245.22 847.451,1243.22 852.589,1241.11 \n",
       "  857.727,1238.89 862.865,1236.57 868.003,1234.13 873.141,1231.59 878.279,1228.95 883.417,1226.2 888.555,1223.34 893.694,1220.37 898.832,1217.31 903.97,1214.14 \n",
       "  909.108,1210.87 914.246,1207.5 919.384,1204.02 924.522,1200.45 929.66,1196.78 934.798,1193.01 939.936,1189.14 945.074,1185.18 950.212,1181.12 955.351,1176.97 \n",
       "  960.489,1172.73 965.627,1168.39 970.765,1163.96 975.903,1159.45 981.041,1154.84 986.179,1150.15 991.317,1145.37 996.455,1140.5 1001.59,1135.55 1006.73,1130.52 \n",
       "  1011.87,1125.41 1017.01,1120.22 1022.15,1114.94 1027.28,1109.6 1032.42,1104.17 1037.56,1098.67 1042.7,1093.1 1047.84,1087.45 1052.97,1081.73 1058.11,1075.95 \n",
       "  1063.25,1070.09 1068.39,1064.17 1073.53,1058.18 1078.66,1052.13 1083.8,1046.02 1088.94,1039.85 1094.08,1033.62 1099.22,1027.33 1104.36,1020.99 1109.49,1014.59 \n",
       "  1114.63,1008.14 1119.77,1001.64 1124.91,995.083 1130.05,988.484 1135.18,981.838 1140.32,975.147 1145.46,968.414 1150.6,961.639 1155.74,954.825 1160.87,947.972 \n",
       "  1166.01,941.084 1171.15,934.161 1176.29,927.205 1181.43,920.219 1186.56,913.203 1191.7,906.159 1196.84,899.09 1201.98,891.996 1207.12,884.88 1212.25,877.744 \n",
       "  1217.39,870.589 1222.53,863.417 1227.67,856.229 1232.81,849.029 1237.95,841.816 1243.08,834.594 1248.22,827.363 1253.36,820.127 1258.5,812.886 1263.64,805.642 \n",
       "  1268.77,798.397 1273.91,791.153 1279.05,783.912 1284.19,776.675 1289.33,769.445 1294.46,762.222 1299.6,755.01 1304.74,747.809 1309.88,740.622 1315.02,733.45 \n",
       "  1320.15,726.295 1325.29,719.158 1330.43,712.042 1335.57,704.949 1340.71,697.88 1345.85,690.836 1350.98,683.82 1356.12,676.833 1361.26,669.878 1366.4,662.955 \n",
       "  1371.54,656.066 1376.67,649.214 1381.81,642.4 1386.95,635.625 1392.09,628.891 1397.23,622.201 1402.36,615.555 1407.5,608.955 1412.64,602.403 1417.78,595.901 \n",
       "  1422.92,589.45 1428.05,583.051 1433.19,576.707 1438.33,570.419 1443.47,564.188 1448.61,558.016 1453.74,551.904 1458.88,545.855 1464.02,539.869 1469.16,533.948 \n",
       "  1474.3,528.094 1479.44,522.307 1484.57,516.59 1489.71,510.944 1494.85,505.369 1499.99,499.869 1505.13,494.443 1510.26,489.094 1515.4,483.822 1520.54,478.629 \n",
       "  1525.68,473.516 1530.82,468.485 1535.95,463.536 1541.09,458.672 1546.23,453.892 1551.37,449.199 1556.51,444.593 1561.64,440.076 1566.78,435.649 1571.92,431.313 \n",
       "  1577.06,427.068 1582.2,422.917 1587.34,418.859 1592.47,414.897 1597.61,411.03 1602.75,407.26 1607.89,403.589 1613.03,400.016 1618.16,396.543 1623.3,393.17 \n",
       "  1628.44,389.899 1633.58,386.73 1638.72,383.664 1643.85,380.701 1648.99,377.844 1654.13,375.091 1659.27,372.444 1664.41,369.904 1669.54,367.471 1674.68,365.145 \n",
       "  1679.82,362.928 1684.96,360.82 1690.1,358.821 1695.23,356.932 1700.37,355.154 1705.51,353.486 1710.65,351.93 1715.79,350.485 1720.93,349.152 1726.06,347.932 \n",
       "  1731.2,346.824 1736.34,345.828 1741.48,344.947 1746.62,344.178 1751.75,343.523 1756.89,342.981 1762.03,342.554 1767.17,342.24 1772.31,342.041 1777.44,341.955 \n",
       "  1782.58,341.984 1787.72,342.126 1792.86,342.383 1798,342.753 1803.13,343.238 1808.27,343.836 1813.41,344.548 1818.55,345.373 1823.69,346.312 1828.83,347.363 \n",
       "  1833.96,348.528 1839.1,349.805 1844.24,351.193 1849.38,352.694 1854.52,354.306 1859.65,356.029 1864.79,357.863 1869.93,359.807 1875.07,361.86 1880.21,364.023 \n",
       "  1885.34,366.294 1890.48,368.674 1895.62,371.161 1900.76,373.754 1905.9,376.454 1911.03,379.259 1916.17,382.17 1921.31,385.184 1926.45,388.302 1931.59,391.522 \n",
       "  1936.73,394.844 1941.86,398.267 1947,401.79 1952.14,405.412 1957.28,409.133 1962.42,412.951 1967.55,416.866 1972.69,420.876 1977.83,424.981 1982.97,429.179 \n",
       "  1988.11,433.469 1993.24,437.851 1998.38,442.324 2003.52,446.885 2008.66,451.535 2013.8,456.271 2018.93,461.093 2024.07,466 2029.21,470.99 2034.35,476.062 \n",
       "  2039.49,481.215 2044.62,486.448 2049.76,491.759 2054.9,497.146 2060.04,502.61 2065.18,508.147 2070.32,513.758 2075.45,519.44 2080.59,525.192 2085.73,531.012 \n",
       "  2090.87,536.9 2096.01,542.854 2101.14,548.872 2106.28,554.952 2111.42,561.094 2116.56,567.296 2121.7,573.556 2126.83,579.872 2131.97,586.244 2137.11,592.669 \n",
       "  2142.25,599.146 2147.39,605.673 2152.52,612.249 2157.66,618.872 2162.8,625.541 2167.94,632.253 2173.08,639.007 2178.22,645.802 2183.35,652.635 2188.49,659.506 \n",
       "  2193.63,666.412 2198.77,673.351 2203.91,680.323 2209.04,687.324 2214.18,694.354 2219.32,701.411 2224.46,708.493 2229.6,715.598 2234.73,722.724 2239.87,729.87 \n",
       "  2245.01,737.034 2250.15,744.214 2255.29,751.408 2260.42,758.615 2265.56,765.833 2270.7,773.059 2275.84,780.293 2280.98,787.532 2286.11,794.775 2291.25,802.019 \n",
       "  \n",
       "  \"/>\n",
       "<polyline clip-path=\"url(#clip192)\" style=\"stroke:#ff0000; stroke-width:8; stroke-opacity:1; fill:none\" points=\"\n",
       "  241.157,736.523 246.295,750.042 251.433,763.36 256.571,776.477 261.709,789.393 266.847,802.111 271.985,814.632 277.123,826.955 282.261,839.083 287.399,851.016 \n",
       "  292.537,862.756 297.676,874.303 302.814,885.658 307.952,896.823 313.09,907.798 318.228,918.586 323.366,929.185 328.504,939.599 333.642,949.827 338.78,959.871 \n",
       "  343.918,969.731 349.056,979.41 354.194,988.907 359.333,998.224 364.471,1007.36 369.609,1016.32 374.747,1025.11 379.885,1033.71 385.023,1042.15 390.161,1050.4 \n",
       "  395.299,1058.49 400.437,1066.4 405.575,1074.15 410.713,1081.72 415.851,1089.13 420.99,1096.36 426.128,1103.43 431.266,1110.34 436.404,1117.08 441.542,1123.66 \n",
       "  446.68,1130.07 451.818,1136.32 456.956,1142.42 462.094,1148.35 467.232,1154.13 472.37,1159.74 477.509,1165.21 482.647,1170.51 487.785,1175.67 492.923,1180.67 \n",
       "  498.061,1185.51 503.199,1190.21 508.337,1194.76 513.475,1199.15 518.613,1203.4 523.751,1207.51 528.889,1211.46 534.027,1215.28 539.166,1218.95 544.304,1222.47 \n",
       "  549.442,1225.86 554.58,1229.1 559.718,1232.2 564.856,1235.17 569.994,1238 575.132,1240.69 580.27,1243.25 585.408,1245.67 590.546,1247.96 595.685,1250.11 \n",
       "  600.823,1252.14 605.961,1254.04 611.099,1255.8 616.237,1257.44 621.375,1258.95 626.513,1260.33 631.651,1261.59 636.789,1262.73 641.927,1263.74 647.065,1264.63 \n",
       "  652.203,1265.4 657.342,1266.05 662.48,1266.59 667.618,1267 672.756,1267.3 677.894,1267.48 683.032,1267.55 688.17,1267.5 693.308,1267.34 698.446,1267.07 \n",
       "  703.584,1266.69 708.722,1266.2 713.861,1265.6 718.999,1264.89 724.137,1264.08 729.275,1263.16 734.413,1262.14 739.551,1261.02 744.689,1259.79 749.827,1258.46 \n",
       "  754.965,1257.03 760.103,1255.5 765.241,1253.88 770.379,1252.16 775.518,1250.34 780.656,1248.42 785.794,1246.42 790.932,1244.32 796.07,1242.13 801.208,1239.84 \n",
       "  806.346,1237.47 811.484,1235.01 816.622,1232.46 821.76,1229.83 826.898,1227.11 832.036,1224.3 837.175,1221.42 842.313,1218.45 847.451,1215.39 852.589,1212.26 \n",
       "  857.727,1209.05 862.865,1205.76 868.003,1202.4 873.141,1198.95 878.279,1195.44 883.417,1191.84 888.555,1188.18 893.694,1184.44 898.832,1180.63 903.97,1176.76 \n",
       "  909.108,1172.81 914.246,1168.79 919.384,1164.71 924.522,1160.57 929.66,1156.35 934.798,1152.08 939.936,1147.74 945.074,1143.34 950.212,1138.88 955.351,1134.36 \n",
       "  960.489,1129.78 965.627,1125.15 970.765,1120.46 975.903,1115.71 981.041,1110.91 986.179,1106.05 991.317,1101.14 996.455,1096.19 1001.59,1091.18 1006.73,1086.12 \n",
       "  1011.87,1081.01 1017.01,1075.86 1022.15,1070.66 1027.28,1065.42 1032.42,1060.13 1037.56,1054.8 1042.7,1049.43 1047.84,1044.01 1052.97,1038.56 1058.11,1033.07 \n",
       "  1063.25,1027.54 1068.39,1021.97 1073.53,1016.37 1078.66,1010.74 1083.8,1005.07 1088.94,999.364 1094.08,993.63 1099.22,987.866 1104.36,982.072 1109.49,976.251 \n",
       "  1114.63,970.402 1119.77,964.526 1124.91,958.626 1130.05,952.701 1135.18,946.753 1140.32,940.783 1145.46,934.792 1150.6,928.781 1155.74,922.751 1160.87,916.703 \n",
       "  1166.01,910.638 1171.15,904.558 1176.29,898.462 1181.43,892.353 1186.56,886.231 1191.7,880.097 1196.84,873.953 1201.98,867.799 1207.12,861.636 1212.25,855.466 \n",
       "  1217.39,849.29 1222.53,843.108 1227.67,836.921 1232.81,830.731 1237.95,824.539 1243.08,818.346 1248.22,812.152 1253.36,805.959 1258.5,799.768 1263.64,793.579 \n",
       "  1268.77,787.395 1273.91,781.216 1279.05,775.042 1284.19,768.876 1289.33,762.717 1294.46,756.568 1299.6,750.428 1304.74,744.3 1309.88,738.185 1315.02,732.082 \n",
       "  1320.15,725.994 1325.29,719.921 1330.43,713.864 1335.57,707.825 1340.71,701.804 1345.85,695.803 1350.98,689.822 1356.12,683.863 1361.26,677.926 1366.4,672.013 \n",
       "  1371.54,666.125 1376.67,660.263 1381.81,654.427 1386.95,648.619 1392.09,642.84 1397.23,637.091 1402.36,631.372 1407.5,625.686 1412.64,620.033 1417.78,614.413 \n",
       "  1422.92,608.829 1428.05,603.281 1433.19,597.77 1438.33,592.297 1443.47,586.864 1448.61,581.471 1453.74,576.119 1458.88,570.809 1464.02,565.543 1469.16,560.321 \n",
       "  1474.3,555.145 1479.44,550.015 1484.57,544.933 1489.71,539.899 1494.85,534.915 1499.99,529.982 1505.13,525.1 1510.26,520.272 1515.4,515.497 1520.54,510.776 \n",
       "  1525.68,506.112 1530.82,501.505 1535.95,496.955 1541.09,492.465 1546.23,488.034 1551.37,483.665 1556.51,479.357 1561.64,475.113 1566.78,470.933 1571.92,466.818 \n",
       "  1577.06,462.77 1582.2,458.789 1587.34,454.876 1592.47,451.032 1597.61,447.259 1602.75,443.558 1607.89,439.929 1613.03,436.373 1618.16,432.892 1623.3,429.487 \n",
       "  1628.44,426.158 1633.58,422.907 1638.72,419.735 1643.85,416.642 1648.99,413.631 1654.13,410.701 1659.27,407.854 1664.41,405.091 1669.54,402.413 1674.68,399.821 \n",
       "  1679.82,397.316 1684.96,394.899 1690.1,392.572 1695.23,390.334 1700.37,388.188 1705.51,386.134 1710.65,384.173 1715.79,382.307 1720.93,380.535 1726.06,378.861 \n",
       "  1731.2,377.284 1736.34,375.805 1741.48,374.426 1746.62,373.147 1751.75,371.97 1756.89,370.896 1762.03,369.925 1767.17,369.059 1772.31,368.299 1777.44,367.645 \n",
       "  1782.58,367.1 1787.72,366.663 1792.86,366.336 1798,366.12 1803.13,366.017 1808.27,366.026 1813.41,366.149 1818.55,366.388 1823.69,366.742 1828.83,367.214 \n",
       "  1833.96,367.804 1839.1,368.513 1844.24,369.343 1849.38,370.294 1854.52,371.367 1859.65,372.564 1864.79,373.885 1869.93,375.332 1875.07,376.905 1880.21,378.606 \n",
       "  1885.34,380.436 1890.48,382.395 1895.62,384.485 1900.76,386.707 1905.9,389.061 1911.03,391.55 1916.17,394.173 1921.31,396.932 1926.45,399.828 1931.59,402.862 \n",
       "  1936.73,406.035 1941.86,409.348 1947,412.803 1952.14,416.399 1957.28,420.139 1962.42,424.022 1967.55,428.052 1972.69,432.227 1977.83,436.55 1982.97,441.021 \n",
       "  1988.11,445.641 1993.24,450.412 1998.38,455.335 2003.52,460.41 2008.66,465.638 2013.8,471.022 2018.93,476.561 2024.07,482.256 2029.21,488.109 2034.35,494.122 \n",
       "  2039.49,500.293 2044.62,506.626 2049.76,513.121 2054.9,519.779 2060.04,526.6 2065.18,533.587 2070.32,540.739 2075.45,548.059 2080.59,555.547 2085.73,563.204 \n",
       "  2090.87,571.031 2096.01,579.03 2101.14,587.201 2106.28,595.545 2111.42,604.063 2116.56,612.757 2121.7,621.628 2126.83,630.675 2131.97,639.902 2137.11,649.308 \n",
       "  2142.25,658.894 2147.39,668.663 2152.52,678.613 2157.66,688.748 2162.8,699.067 2167.94,709.573 2173.08,720.265 2178.22,731.145 2183.35,742.213 2188.49,753.472 \n",
       "  2193.63,764.922 2198.77,776.564 2203.91,788.399 2209.04,800.428 2214.18,812.652 2219.32,825.072 2224.46,837.69 2229.6,850.506 2234.73,863.521 2239.87,876.737 \n",
       "  2245.01,890.154 2250.15,903.773 2255.29,917.596 2260.42,931.623 2265.56,945.856 2270.7,960.296 2275.84,974.943 2280.98,989.799 2286.11,1004.86 2291.25,1020.14 \n",
       "  \n",
       "  \"/>\n",
       "<path clip-path=\"url(#clip190)\" d=\"\n",
       "M252.09 337.138 L923.174 337.138 L923.174 95.2176 L252.09 95.2176  Z\n",
       "  \" fill=\"#ffffff\" fill-rule=\"evenodd\" fill-opacity=\"1\"/>\n",
       "<polyline clip-path=\"url(#clip190)\" style=\"stroke:#000000; stroke-width:4; stroke-opacity:1; fill:none\" points=\"\n",
       "  252.09,337.138 923.174,337.138 923.174,95.2176 252.09,95.2176 252.09,337.138 \n",
       "  \"/>\n",
       "<circle clip-path=\"url(#clip190)\" cx=\"348.673\" cy=\"155.698\" r=\"23\" fill=\"#009af9\" fill-rule=\"evenodd\" fill-opacity=\"1\" stroke=\"#000000\" stroke-opacity=\"1\" stroke-width=\"5.12\"/>\n",
       "<path clip-path=\"url(#clip190)\" d=\"M 0 0 M463.681 147.816 L463.681 151.843 Q461.875 150.917 459.931 150.455 Q457.986 149.992 455.903 149.992 Q452.732 149.992 451.135 150.964 Q449.561 151.936 449.561 153.88 Q449.561 155.362 450.695 156.218 Q451.829 157.052 455.255 157.816 L456.713 158.14 Q461.25 159.112 463.148 160.894 Q465.07 162.654 465.07 165.825 Q465.07 169.436 462.199 171.542 Q459.352 173.649 454.352 173.649 Q452.269 173.649 450 173.232 Q447.755 172.839 445.255 172.028 L445.255 167.63 Q447.616 168.857 449.908 169.482 Q452.199 170.084 454.445 170.084 Q457.454 170.084 459.074 169.066 Q460.695 168.024 460.695 166.149 Q460.695 164.413 459.514 163.487 Q458.357 162.561 454.399 161.704 L452.917 161.357 Q448.959 160.524 447.199 158.811 Q445.44 157.075 445.44 154.066 Q445.44 150.408 448.033 148.418 Q450.625 146.427 455.394 146.427 Q457.755 146.427 459.838 146.774 Q461.922 147.121 463.681 147.816 Z\" fill=\"#000000\" fill-rule=\"evenodd\" fill-opacity=\"1\" /><path clip-path=\"url(#clip190)\" d=\"M 0 0 M481.32 159.945 Q476.158 159.945 474.167 161.126 Q472.176 162.306 472.176 165.154 Q472.176 167.422 473.658 168.765 Q475.162 170.084 477.732 170.084 Q481.273 170.084 483.403 167.584 Q485.556 165.061 485.556 160.894 L485.556 159.945 L481.32 159.945 M489.815 158.186 L489.815 172.978 L485.556 172.978 L485.556 169.042 Q484.097 171.403 481.922 172.538 Q479.746 173.649 476.597 173.649 Q472.616 173.649 470.255 171.427 Q467.917 169.181 467.917 165.431 Q467.917 161.056 470.834 158.834 Q473.773 156.612 479.584 156.612 L485.556 156.612 L485.556 156.195 Q485.556 153.255 483.611 151.658 Q481.69 150.038 478.195 150.038 Q475.972 150.038 473.866 150.57 Q471.76 151.103 469.815 152.167 L469.815 148.232 Q472.153 147.33 474.352 146.89 Q476.551 146.427 478.635 146.427 Q484.259 146.427 487.037 149.343 Q489.815 152.26 489.815 158.186 Z\" fill=\"#000000\" fill-rule=\"evenodd\" fill-opacity=\"1\" /><path clip-path=\"url(#clip190)\" d=\"M 0 0 M514.468 152.029 Q516.065 149.158 518.287 147.793 Q520.509 146.427 523.519 146.427 Q527.569 146.427 529.768 149.274 Q531.968 152.098 531.968 157.329 L531.968 172.978 L527.685 172.978 L527.685 157.468 Q527.685 153.742 526.366 151.936 Q525.046 150.13 522.338 150.13 Q519.028 150.13 517.107 152.33 Q515.185 154.529 515.185 158.325 L515.185 172.978 L510.903 172.978 L510.903 157.468 Q510.903 153.718 509.583 151.936 Q508.264 150.13 505.509 150.13 Q502.245 150.13 500.324 152.353 Q498.403 154.552 498.403 158.325 L498.403 172.978 L494.121 172.978 L494.121 147.052 L498.403 147.052 L498.403 151.08 Q499.861 148.695 501.898 147.561 Q503.935 146.427 506.736 146.427 Q509.56 146.427 511.528 147.862 Q513.519 149.297 514.468 152.029 Z\" fill=\"#000000\" fill-rule=\"evenodd\" fill-opacity=\"1\" /><path clip-path=\"url(#clip190)\" d=\"M 0 0 M540.555 169.089 L540.555 182.839 L536.273 182.839 L536.273 147.052 L540.555 147.052 L540.555 150.987 Q541.898 148.672 543.935 147.561 Q545.995 146.427 548.842 146.427 Q553.565 146.427 556.504 150.177 Q559.467 153.927 559.467 160.038 Q559.467 166.149 556.504 169.899 Q553.565 173.649 548.842 173.649 Q545.995 173.649 543.935 172.538 Q541.898 171.403 540.555 169.089 M555.046 160.038 Q555.046 155.339 553.102 152.677 Q551.18 149.992 547.801 149.992 Q544.421 149.992 542.477 152.677 Q540.555 155.339 540.555 160.038 Q540.555 164.737 542.477 167.422 Q544.421 170.084 547.801 170.084 Q551.18 170.084 553.102 167.422 Q555.046 164.737 555.046 160.038 Z\" fill=\"#000000\" fill-rule=\"evenodd\" fill-opacity=\"1\" /><path clip-path=\"url(#clip190)\" d=\"M 0 0 M563.935 136.959 L568.194 136.959 L568.194 172.978 L563.935 172.978 L563.935 136.959 Z\" fill=\"#000000\" fill-rule=\"evenodd\" fill-opacity=\"1\" /><path clip-path=\"url(#clip190)\" d=\"M 0 0 M594.838 158.95 L594.838 161.033 L575.254 161.033 Q575.532 165.431 577.893 167.746 Q580.277 170.038 584.514 170.038 Q586.967 170.038 589.259 169.436 Q591.574 168.834 593.842 167.63 L593.842 171.658 Q591.551 172.63 589.143 173.14 Q586.736 173.649 584.259 173.649 Q578.055 173.649 574.421 170.038 Q570.81 166.427 570.81 160.269 Q570.81 153.904 574.236 150.177 Q577.685 146.427 583.518 146.427 Q588.75 146.427 591.782 149.806 Q594.838 153.163 594.838 158.95 M590.578 157.7 Q590.532 154.205 588.611 152.121 Q586.713 150.038 583.564 150.038 Q580 150.038 577.847 152.052 Q575.717 154.066 575.393 157.723 L590.578 157.7 Z\" fill=\"#000000\" fill-rule=\"evenodd\" fill-opacity=\"1\" /><polyline clip-path=\"url(#clip190)\" style=\"stroke:#0000ff; stroke-width:4; stroke-opacity:1; fill:none\" stroke-dasharray=\"16, 10\" points=\"\n",
       "  276.236,216.178 421.109,216.178 \n",
       "  \"/>\n",
       "<path clip-path=\"url(#clip190)\" d=\"M 0 0 M463.681 208.296 L463.681 212.323 Q461.875 211.397 459.931 210.935 Q457.986 210.472 455.903 210.472 Q452.732 210.472 451.135 211.444 Q449.561 212.416 449.561 214.36 Q449.561 215.842 450.695 216.698 Q451.829 217.532 455.255 218.296 L456.713 218.62 Q461.25 219.592 463.148 221.374 Q465.07 223.134 465.07 226.305 Q465.07 229.916 462.199 232.022 Q459.352 234.129 454.352 234.129 Q452.269 234.129 450 233.712 Q447.755 233.319 445.255 232.508 L445.255 228.11 Q447.616 229.337 449.908 229.962 Q452.199 230.564 454.445 230.564 Q457.454 230.564 459.074 229.546 Q460.695 228.504 460.695 226.629 Q460.695 224.893 459.514 223.967 Q458.357 223.041 454.399 222.184 L452.917 221.837 Q448.959 221.004 447.199 219.291 Q445.44 217.555 445.44 214.546 Q445.44 210.888 448.033 208.898 Q450.625 206.907 455.394 206.907 Q457.755 206.907 459.838 207.254 Q461.922 207.601 463.681 208.296 Z\" fill=\"#000000\" fill-rule=\"evenodd\" fill-opacity=\"1\" /><path clip-path=\"url(#clip190)\" d=\"M 0 0 M469.537 207.532 L473.797 207.532 L473.797 233.458 L469.537 233.458 L469.537 207.532 M469.537 197.439 L473.797 197.439 L473.797 202.833 L469.537 202.833 L469.537 197.439 Z\" fill=\"#000000\" fill-rule=\"evenodd\" fill-opacity=\"1\" /><path clip-path=\"url(#clip190)\" d=\"M 0 0 M499.815 217.809 L499.815 233.458 L495.556 233.458 L495.556 217.948 Q495.556 214.268 494.121 212.439 Q492.685 210.61 489.815 210.61 Q486.366 210.61 484.375 212.81 Q482.384 215.009 482.384 218.805 L482.384 233.458 L478.102 233.458 L478.102 207.532 L482.384 207.532 L482.384 211.56 Q483.912 209.222 485.972 208.064 Q488.056 206.907 490.764 206.907 Q495.232 206.907 497.523 209.685 Q499.815 212.439 499.815 217.809 Z\" fill=\"#000000\" fill-rule=\"evenodd\" fill-opacity=\"1\" /><path clip-path=\"url(#clip190)\" d=\"M 0 0 M514.514 197.486 Q511.412 202.81 509.907 208.018 Q508.403 213.226 508.403 218.573 Q508.403 223.921 509.907 229.175 Q511.435 234.407 514.514 239.708 L510.81 239.708 Q507.338 234.268 505.602 229.013 Q503.889 223.759 503.889 218.573 Q503.889 213.411 505.602 208.18 Q507.315 202.948 510.81 197.486 L514.514 197.486 Z\" fill=\"#000000\" fill-rule=\"evenodd\" fill-opacity=\"1\" /><path clip-path=\"url(#clip190)\" d=\"M 0 0 M540.532 207.532 L531.157 220.147 L541.018 233.458 L535.995 233.458 L528.449 223.272 L520.903 233.458 L515.88 233.458 L525.949 219.893 L516.736 207.532 L521.759 207.532 L528.634 216.768 L535.509 207.532 L540.532 207.532 Z\" fill=\"#000000\" fill-rule=\"evenodd\" fill-opacity=\"1\" /><path clip-path=\"url(#clip190)\" d=\"M 0 0 M544.815 197.486 L548.518 197.486 Q551.991 202.948 553.704 208.18 Q555.44 213.411 555.44 218.573 Q555.44 223.759 553.704 229.013 Q551.991 234.268 548.518 239.708 L544.815 239.708 Q547.893 234.407 549.398 229.175 Q550.926 223.921 550.926 218.573 Q550.926 213.226 549.398 208.018 Q547.893 202.81 544.815 197.486 Z\" fill=\"#000000\" fill-rule=\"evenodd\" fill-opacity=\"1\" /><polyline clip-path=\"url(#clip190)\" style=\"stroke:#ff0000; stroke-width:4; stroke-opacity:1; fill:none\" points=\"\n",
       "  276.236,276.658 421.109,276.658 \n",
       "  \"/>\n",
       "<path clip-path=\"url(#clip190)\" d=\"M 0 0 M464.167 271.947 L464.167 257.919 L468.426 257.919 L468.426 293.938 L464.167 293.938 L464.167 290.049 Q462.824 292.363 460.764 293.498 Q458.727 294.609 455.857 294.609 Q451.158 294.609 448.195 290.859 Q445.255 287.109 445.255 280.998 Q445.255 274.887 448.195 271.137 Q451.158 267.387 455.857 267.387 Q458.727 267.387 460.764 268.521 Q462.824 269.632 464.167 271.947 M449.653 280.998 Q449.653 285.697 451.574 288.382 Q453.519 291.044 456.899 291.044 Q460.278 291.044 462.223 288.382 Q464.167 285.697 464.167 280.998 Q464.167 276.299 462.223 273.637 Q460.278 270.952 456.899 270.952 Q453.519 270.952 451.574 273.637 Q449.653 276.299 449.653 280.998 Z\" fill=\"#000000\" fill-rule=\"evenodd\" fill-opacity=\"1\" /><path clip-path=\"url(#clip190)\" d=\"M 0 0 M495.07 279.91 L495.07 281.993 L475.486 281.993 Q475.764 286.391 478.125 288.706 Q480.509 290.998 484.746 290.998 Q487.199 290.998 489.491 290.396 Q491.806 289.794 494.074 288.59 L494.074 292.618 Q491.783 293.59 489.375 294.1 Q486.968 294.609 484.491 294.609 Q478.287 294.609 474.653 290.998 Q471.042 287.387 471.042 281.229 Q471.042 274.864 474.468 271.137 Q477.917 267.387 483.75 267.387 Q488.982 267.387 492.014 270.766 Q495.07 274.123 495.07 279.91 M490.81 278.66 Q490.764 275.165 488.843 273.081 Q486.945 270.998 483.797 270.998 Q480.232 270.998 478.079 273.012 Q475.949 275.026 475.625 278.683 L490.81 278.66 Z\" fill=\"#000000\" fill-rule=\"evenodd\" fill-opacity=\"1\" /><path clip-path=\"url(#clip190)\" d=\"M 0 0 M516.597 280.674 Q516.597 276.044 514.676 273.498 Q512.778 270.952 509.329 270.952 Q505.903 270.952 503.982 273.498 Q502.083 276.044 502.083 280.674 Q502.083 285.28 503.982 287.826 Q505.903 290.373 509.329 290.373 Q512.778 290.373 514.676 287.826 Q516.597 285.28 516.597 280.674 M520.856 290.72 Q520.856 297.34 517.917 300.558 Q514.977 303.799 508.912 303.799 Q506.667 303.799 504.676 303.451 Q502.685 303.127 500.81 302.433 L500.81 298.289 Q502.685 299.308 504.514 299.794 Q506.343 300.28 508.241 300.28 Q512.431 300.28 514.514 298.081 Q516.597 295.905 516.597 291.484 L516.597 289.377 Q515.278 291.669 513.218 292.803 Q511.157 293.938 508.287 293.938 Q503.519 293.938 500.602 290.303 Q497.685 286.669 497.685 280.674 Q497.685 274.655 500.602 271.021 Q503.519 267.387 508.287 267.387 Q511.157 267.387 513.218 268.521 Q515.278 269.655 516.597 271.947 L516.597 268.012 L520.856 268.012 L520.856 290.72 Z\" fill=\"#000000\" fill-rule=\"evenodd\" fill-opacity=\"1\" /><path clip-path=\"url(#clip190)\" d=\"M 0 0 M540.347 271.993 Q539.63 271.577 538.773 271.391 Q537.94 271.183 536.921 271.183 Q533.31 271.183 531.366 273.544 Q529.444 275.882 529.444 280.28 L529.444 293.938 L525.162 293.938 L525.162 268.012 L529.444 268.012 L529.444 272.04 Q530.787 269.678 532.94 268.544 Q535.093 267.387 538.171 267.387 Q538.611 267.387 539.143 267.456 Q539.676 267.503 540.324 267.618 L540.347 271.993 Z\" fill=\"#000000\" fill-rule=\"evenodd\" fill-opacity=\"1\" /><path clip-path=\"url(#clip190)\" d=\"M 0 0 M565.949 279.91 L565.949 281.993 L546.366 281.993 Q546.643 286.391 549.004 288.706 Q551.389 290.998 555.625 290.998 Q558.079 290.998 560.37 290.396 Q562.685 289.794 564.953 288.59 L564.953 292.618 Q562.662 293.59 560.254 294.1 Q557.847 294.609 555.37 294.609 Q549.167 294.609 545.532 290.998 Q541.921 287.387 541.921 281.229 Q541.921 274.864 545.347 271.137 Q548.796 267.387 554.629 267.387 Q559.861 267.387 562.893 270.766 Q565.949 274.123 565.949 279.91 M561.69 278.66 Q561.643 275.165 559.722 273.081 Q557.824 270.998 554.676 270.998 Q551.111 270.998 548.958 273.012 Q546.829 275.026 546.505 278.683 L561.69 278.66 Z\" fill=\"#000000\" fill-rule=\"evenodd\" fill-opacity=\"1\" /><path clip-path=\"url(#clip190)\" d=\"M 0 0 M592.592 279.91 L592.592 281.993 L573.009 281.993 Q573.287 286.391 575.648 288.706 Q578.032 290.998 582.268 290.998 Q584.722 290.998 587.014 290.396 Q589.328 289.794 591.597 288.59 L591.597 292.618 Q589.305 293.59 586.898 294.1 Q584.49 294.609 582.014 294.609 Q575.81 294.609 572.176 290.998 Q568.565 287.387 568.565 281.229 Q568.565 274.864 571.99 271.137 Q575.44 267.387 581.273 267.387 Q586.504 267.387 589.537 270.766 Q592.592 274.123 592.592 279.91 M588.333 278.66 Q588.287 275.165 586.365 273.081 Q584.467 270.998 581.319 270.998 Q577.754 270.998 575.602 273.012 Q573.472 275.026 573.148 278.683 L588.333 278.66 Z\" fill=\"#000000\" fill-rule=\"evenodd\" fill-opacity=\"1\" /><path clip-path=\"url(#clip190)\" d=\"M 0 0 M594.907 279.053 L607.384 279.053 L607.384 282.85 L594.907 282.85 L594.907 279.053 Z\" fill=\"#000000\" fill-rule=\"evenodd\" fill-opacity=\"1\" /><path clip-path=\"url(#clip190)\" d=\"M 0 0 M626.62 275.303 Q629.976 276.021 631.851 278.289 Q633.749 280.558 633.749 283.891 Q633.749 289.007 630.231 291.808 Q626.712 294.609 620.231 294.609 Q618.055 294.609 615.74 294.169 Q613.449 293.752 610.995 292.896 L610.995 288.382 Q612.939 289.516 615.254 290.095 Q617.569 290.674 620.092 290.674 Q624.49 290.674 626.782 288.938 Q629.097 287.201 629.097 283.891 Q629.097 280.836 626.944 279.123 Q624.814 277.387 620.995 277.387 L616.967 277.387 L616.967 273.544 L621.18 273.544 Q624.629 273.544 626.458 272.178 Q628.286 270.79 628.286 268.197 Q628.286 265.535 626.388 264.123 Q624.513 262.688 620.995 262.688 Q619.074 262.688 616.875 263.104 Q614.675 263.521 612.037 264.401 L612.037 260.234 Q614.699 259.493 617.013 259.123 Q619.351 258.753 621.412 258.753 Q626.736 258.753 629.837 261.183 Q632.939 263.59 632.939 267.711 Q632.939 270.581 631.296 272.572 Q629.652 274.54 626.62 275.303 Z\" fill=\"#000000\" fill-rule=\"evenodd\" fill-opacity=\"1\" /><path clip-path=\"url(#clip190)\" d=\"M 0 0 M657.407 290.049 L657.407 303.799 L653.124 303.799 L653.124 268.012 L657.407 268.012 L657.407 271.947 Q658.749 269.632 660.786 268.521 Q662.846 267.387 665.694 267.387 Q670.416 267.387 673.356 271.137 Q676.319 274.887 676.319 280.998 Q676.319 287.109 673.356 290.859 Q670.416 294.609 665.694 294.609 Q662.846 294.609 660.786 293.498 Q658.749 292.363 657.407 290.049 M671.897 280.998 Q671.897 276.299 669.953 273.637 Q668.032 270.952 664.652 270.952 Q661.272 270.952 659.328 273.637 Q657.407 276.299 657.407 280.998 Q657.407 285.697 659.328 288.382 Q661.272 291.044 664.652 291.044 Q668.032 291.044 669.953 288.382 Q671.897 285.697 671.897 280.998 Z\" fill=\"#000000\" fill-rule=\"evenodd\" fill-opacity=\"1\" /><path clip-path=\"url(#clip190)\" d=\"M 0 0 M690.832 270.998 Q687.407 270.998 685.416 273.683 Q683.425 276.345 683.425 280.998 Q683.425 285.651 685.393 288.336 Q687.383 290.998 690.832 290.998 Q694.235 290.998 696.226 288.313 Q698.217 285.627 698.217 280.998 Q698.217 276.391 696.226 273.706 Q694.235 270.998 690.832 270.998 M690.832 267.387 Q696.388 267.387 699.559 270.998 Q702.731 274.609 702.731 280.998 Q702.731 287.364 699.559 290.998 Q696.388 294.609 690.832 294.609 Q685.254 294.609 682.082 290.998 Q678.934 287.364 678.934 280.998 Q678.934 274.609 682.082 270.998 Q685.254 267.387 690.832 267.387 Z\" fill=\"#000000\" fill-rule=\"evenodd\" fill-opacity=\"1\" /><path clip-path=\"url(#clip190)\" d=\"M 0 0 M707.198 257.919 L711.457 257.919 L711.457 293.938 L707.198 293.938 L707.198 257.919 Z\" fill=\"#000000\" fill-rule=\"evenodd\" fill-opacity=\"1\" /><path clip-path=\"url(#clip190)\" d=\"M 0 0 M726.712 296.345 Q724.906 300.975 723.193 302.387 Q721.48 303.799 718.61 303.799 L715.207 303.799 L715.207 300.234 L717.707 300.234 Q719.467 300.234 720.439 299.4 Q721.411 298.567 722.592 295.465 L723.355 293.521 L712.869 268.012 L717.383 268.012 L725.485 288.289 L733.587 268.012 L738.101 268.012 L726.712 296.345 Z\" fill=\"#000000\" fill-rule=\"evenodd\" fill-opacity=\"1\" /><path clip-path=\"url(#clip190)\" d=\"M 0 0 M764.119 278.289 L764.119 293.938 L759.86 293.938 L759.86 278.428 Q759.86 274.748 758.425 272.919 Q756.989 271.09 754.119 271.09 Q750.67 271.09 748.679 273.29 Q746.689 275.489 746.689 279.285 L746.689 293.938 L742.406 293.938 L742.406 268.012 L746.689 268.012 L746.689 272.04 Q748.216 269.702 750.277 268.544 Q752.36 267.387 755.068 267.387 Q759.536 267.387 761.827 270.165 Q764.119 272.919 764.119 278.289 Z\" fill=\"#000000\" fill-rule=\"evenodd\" fill-opacity=\"1\" /><path clip-path=\"url(#clip190)\" d=\"M 0 0 M778.633 270.998 Q775.207 270.998 773.216 273.683 Q771.226 276.345 771.226 280.998 Q771.226 285.651 773.193 288.336 Q775.184 290.998 778.633 290.998 Q782.036 290.998 784.026 288.313 Q786.017 285.627 786.017 280.998 Q786.017 276.391 784.026 273.706 Q782.036 270.998 778.633 270.998 M778.633 267.387 Q784.188 267.387 787.36 270.998 Q790.531 274.609 790.531 280.998 Q790.531 287.364 787.36 290.998 Q784.188 294.609 778.633 294.609 Q773.054 294.609 769.883 290.998 Q766.735 287.364 766.735 280.998 Q766.735 274.609 769.883 270.998 Q773.054 267.387 778.633 267.387 Z\" fill=\"#000000\" fill-rule=\"evenodd\" fill-opacity=\"1\" /><path clip-path=\"url(#clip190)\" d=\"M 0 0 M815.184 272.989 Q816.781 270.118 819.003 268.753 Q821.225 267.387 824.235 267.387 Q828.285 267.387 830.484 270.234 Q832.684 273.058 832.684 278.289 L832.684 293.938 L828.401 293.938 L828.401 278.428 Q828.401 274.702 827.082 272.896 Q825.762 271.09 823.054 271.09 Q819.744 271.09 817.822 273.29 Q815.901 275.489 815.901 279.285 L815.901 293.938 L811.619 293.938 L811.619 278.428 Q811.619 274.678 810.299 272.896 Q808.98 271.09 806.225 271.09 Q802.961 271.09 801.04 273.313 Q799.119 275.512 799.119 279.285 L799.119 293.938 L794.837 293.938 L794.837 268.012 L799.119 268.012 L799.119 272.04 Q800.577 269.655 802.614 268.521 Q804.651 267.387 807.452 267.387 Q810.276 267.387 812.244 268.822 Q814.235 270.257 815.184 272.989 Z\" fill=\"#000000\" fill-rule=\"evenodd\" fill-opacity=\"1\" /><path clip-path=\"url(#clip190)\" d=\"M 0 0 M837.151 268.012 L841.41 268.012 L841.41 293.938 L837.151 293.938 L837.151 268.012 M837.151 257.919 L841.41 257.919 L841.41 263.313 L837.151 263.313 L837.151 257.919 Z\" fill=\"#000000\" fill-rule=\"evenodd\" fill-opacity=\"1\" /><path clip-path=\"url(#clip190)\" d=\"M 0 0 M857.66 280.905 Q852.498 280.905 850.508 282.086 Q848.517 283.266 848.517 286.114 Q848.517 288.382 849.998 289.725 Q851.503 291.044 854.072 291.044 Q857.614 291.044 859.744 288.544 Q861.896 286.021 861.896 281.854 L861.896 280.905 L857.66 280.905 M866.156 279.146 L866.156 293.938 L861.896 293.938 L861.896 290.002 Q860.438 292.363 858.262 293.498 Q856.086 294.609 852.938 294.609 Q848.957 294.609 846.595 292.387 Q844.258 290.141 844.258 286.391 Q844.258 282.016 847.174 279.794 Q850.114 277.572 855.924 277.572 L861.896 277.572 L861.896 277.155 Q861.896 274.215 859.952 272.618 Q858.031 270.998 854.535 270.998 Q852.313 270.998 850.207 271.53 Q848.1 272.063 846.156 273.127 L846.156 269.192 Q848.494 268.29 850.693 267.85 Q852.892 267.387 854.975 267.387 Q860.6 267.387 863.378 270.303 Q866.156 273.22 866.156 279.146 Z\" fill=\"#000000\" fill-rule=\"evenodd\" fill-opacity=\"1\" /><path clip-path=\"url(#clip190)\" d=\"M 0 0 M870.623 257.919 L874.882 257.919 L874.882 293.938 L870.623 293.938 L870.623 257.919 Z\" fill=\"#000000\" fill-rule=\"evenodd\" fill-opacity=\"1\" /></svg>\n"
      ]
     },
     "execution_count": 59,
     "metadata": {},
     "output_type": "execute_result"
    }
   ],
   "source": [
    "begin\n",
    "    using Plots\n",
    "    n = 20\n",
    "    x = range(-π, π; length=20)\n",
    "    noise = 0.3randn(n)\n",
    "    y = sin.(x) + noise\n",
    "    X = hcat((x.^k for k in 0:3)...)\n",
    "    b = X\\y\n",
    "    f(x) = sum(b[k+1]*x^k for k in 0:3)\n",
    "    xs = range(-π, π; length=400)\n",
    "    plot(; legend=:topleft)\n",
    "    scatter!(x, y; label=\"sample\")\n",
    "    plot!(xs, sin.(xs); label=\"sin(x)\", color=:blue, ls=:dash)\n",
    "    plot!(xs, f.(xs); label=\"degree-3 polynomial\", color=:red, lw=2)\n",
    "end"
   ]
  },
  {
   "cell_type": "code",
   "execution_count": 60,
   "metadata": {},
   "outputs": [
    {
     "name": "stdout",
     "output_type": "stream",
     "text": [
      "(:block, \n",
      "    (:using, \n",
      "        (:., :Plots)), \n",
      "    (:(=), :n, 20), \n",
      "    (:(=), :x, \n",
      "        (:call, :range, \n",
      "            (:parameters, \n",
      "                (:kw, :length, 20)), \n",
      "            (:call, :-, :π), :π)), \n",
      "    (:(=), :noise, \n",
      "        (:call, :*, 0.3, \n",
      "            (:call, :randn, :n))), \n",
      "    (:(=), :y, \n",
      "        (:call, :+, \n",
      "            (:., :sin, \n",
      "                (:tuple, :x)), :noise)), \n",
      "    (:(=), :X, \n",
      "        (:call, :hcat, \n",
      "            (:..., \n",
      "                (:generator, \n",
      "                    (:call, :.^, :x, :k), \n",
      "                    (:(=), :k, \n",
      "                        (:call, :(:), 0, 3)))))), \n",
      "    (:(=), :b, \n",
      "        (:call, :\\, :X, :y)), \n",
      "    (:(=), \n",
      "        (:call, :f, :x), \n",
      "        (:block, \n",
      "            (:call, :sum, \n",
      "                (:generator, \n",
      "                    (:call, :*, \n",
      "                        (:ref, :b, \n",
      "                            (:call, :+, :k, 1)), \n",
      "                        (:call, :^, :x, :k)), \n",
      "                    (:(=), :k, \n",
      "                        (:call, :(:), 0, 3)))))), \n",
      "    (:(=), :xs, \n",
      "        (:call, :range, \n",
      "            (:parameters, \n",
      "                (:kw, :length, 400)), \n",
      "            (:call, :-, :π), :π)), \n",
      "    (:call, :plot, \n",
      "        (:parameters, \n",
      "            (:kw, :legend, QuoteNode(:topleft)))), \n",
      "    (:call, :scatter!, \n",
      "        (:parameters, \n",
      "            (:kw, :label, \"sample\")), :x, :y), \n",
      "    (:call, :plot!, \n",
      "        (:parameters, \n",
      "            (:kw, :label, \"sin(x)\"), \n",
      "            (:kw, :color, QuoteNode(:blue)), \n",
      "            (:kw, :ls, QuoteNode(:dash))), :xs, \n",
      "        (:., :sin, \n",
      "            (:tuple, :xs))), \n",
      "    (:call, :plot!, \n",
      "        (:parameters, \n",
      "            (:kw, :label, \"degree-3 polynomial\"), \n",
      "            (:kw, :color, QuoteNode(:red)), \n",
      "            (:kw, :lw, 2)), :xs, \n",
      "        (:., :f, \n",
      "            (:tuple, :xs))))"
     ]
    }
   ],
   "source": [
    "@show_texpr begin\n",
    "    using Plots\n",
    "    n = 20\n",
    "    x = range(-π, π; length=20)\n",
    "    noise = 0.3randn(n)\n",
    "    y = sin.(x) + noise\n",
    "    X = hcat((x.^k for k in 0:3)...)\n",
    "    b = X\\y\n",
    "    f(x) = sum(b[k+1]*x^k for k in 0:3)\n",
    "    xs = range(-π, π; length=400)\n",
    "    plot(; legend=:topleft)\n",
    "    scatter!(x, y; label=\"sample\")\n",
    "    plot!(xs, sin.(xs); label=\"sin(x)\", color=:blue, ls=:dash)\n",
    "    plot!(xs, f.(xs); label=\"degree-3 polynomial\", color=:red, lw=2)\n",
    "end"
   ]
  },
  {
   "cell_type": "code",
   "execution_count": 61,
   "metadata": {},
   "outputs": [
    {
     "data": {
      "image/svg+xml": [
       "<?xml version=\"1.0\" encoding=\"utf-8\"?>\n",
       "<svg xmlns=\"http://www.w3.org/2000/svg\" xmlns:xlink=\"http://www.w3.org/1999/xlink\" width=\"600\" height=\"400\" viewBox=\"0 0 2400 1600\">\n",
       "<defs>\n",
       "  <clipPath id=\"clip230\">\n",
       "    <rect x=\"0\" y=\"0\" width=\"2400\" height=\"1600\"/>\n",
       "  </clipPath>\n",
       "</defs>\n",
       "<path clip-path=\"url(#clip230)\" d=\"\n",
       "M0 1600 L2400 1600 L2400 0 L0 0  Z\n",
       "  \" fill=\"#ffffff\" fill-rule=\"evenodd\" fill-opacity=\"1\"/>\n",
       "<defs>\n",
       "  <clipPath id=\"clip231\">\n",
       "    <rect x=\"480\" y=\"0\" width=\"1681\" height=\"1600\"/>\n",
       "  </clipPath>\n",
       "</defs>\n",
       "<path clip-path=\"url(#clip230)\" d=\"\n",
       "M179.654 1486.45 L2352.76 1486.45 L2352.76 47.2441 L179.654 47.2441  Z\n",
       "  \" fill=\"#ffffff\" fill-rule=\"evenodd\" fill-opacity=\"1\"/>\n",
       "<defs>\n",
       "  <clipPath id=\"clip232\">\n",
       "    <rect x=\"179\" y=\"47\" width=\"2174\" height=\"1440\"/>\n",
       "  </clipPath>\n",
       "</defs>\n",
       "<polyline clip-path=\"url(#clip232)\" style=\"stroke:#000000; stroke-width:2; stroke-opacity:0.1; fill:none\" points=\"\n",
       "  287.356,1486.45 287.356,47.2441 \n",
       "  \"/>\n",
       "<polyline clip-path=\"url(#clip232)\" style=\"stroke:#000000; stroke-width:2; stroke-opacity:0.1; fill:none\" points=\"\n",
       "  613.639,1486.45 613.639,47.2441 \n",
       "  \"/>\n",
       "<polyline clip-path=\"url(#clip232)\" style=\"stroke:#000000; stroke-width:2; stroke-opacity:0.1; fill:none\" points=\"\n",
       "  939.922,1486.45 939.922,47.2441 \n",
       "  \"/>\n",
       "<polyline clip-path=\"url(#clip232)\" style=\"stroke:#000000; stroke-width:2; stroke-opacity:0.1; fill:none\" points=\"\n",
       "  1266.2,1486.45 1266.2,47.2441 \n",
       "  \"/>\n",
       "<polyline clip-path=\"url(#clip232)\" style=\"stroke:#000000; stroke-width:2; stroke-opacity:0.1; fill:none\" points=\"\n",
       "  1592.49,1486.45 1592.49,47.2441 \n",
       "  \"/>\n",
       "<polyline clip-path=\"url(#clip232)\" style=\"stroke:#000000; stroke-width:2; stroke-opacity:0.1; fill:none\" points=\"\n",
       "  1918.77,1486.45 1918.77,47.2441 \n",
       "  \"/>\n",
       "<polyline clip-path=\"url(#clip232)\" style=\"stroke:#000000; stroke-width:2; stroke-opacity:0.1; fill:none\" points=\"\n",
       "  2245.05,1486.45 2245.05,47.2441 \n",
       "  \"/>\n",
       "<polyline clip-path=\"url(#clip230)\" style=\"stroke:#000000; stroke-width:4; stroke-opacity:1; fill:none\" points=\"\n",
       "  179.654,1486.45 2352.76,1486.45 \n",
       "  \"/>\n",
       "<polyline clip-path=\"url(#clip230)\" style=\"stroke:#000000; stroke-width:4; stroke-opacity:1; fill:none\" points=\"\n",
       "  287.356,1486.45 287.356,1469.18 \n",
       "  \"/>\n",
       "<polyline clip-path=\"url(#clip230)\" style=\"stroke:#000000; stroke-width:4; stroke-opacity:1; fill:none\" points=\"\n",
       "  613.639,1486.45 613.639,1469.18 \n",
       "  \"/>\n",
       "<polyline clip-path=\"url(#clip230)\" style=\"stroke:#000000; stroke-width:4; stroke-opacity:1; fill:none\" points=\"\n",
       "  939.922,1486.45 939.922,1469.18 \n",
       "  \"/>\n",
       "<polyline clip-path=\"url(#clip230)\" style=\"stroke:#000000; stroke-width:4; stroke-opacity:1; fill:none\" points=\"\n",
       "  1266.2,1486.45 1266.2,1469.18 \n",
       "  \"/>\n",
       "<polyline clip-path=\"url(#clip230)\" style=\"stroke:#000000; stroke-width:4; stroke-opacity:1; fill:none\" points=\"\n",
       "  1592.49,1486.45 1592.49,1469.18 \n",
       "  \"/>\n",
       "<polyline clip-path=\"url(#clip230)\" style=\"stroke:#000000; stroke-width:4; stroke-opacity:1; fill:none\" points=\"\n",
       "  1918.77,1486.45 1918.77,1469.18 \n",
       "  \"/>\n",
       "<polyline clip-path=\"url(#clip230)\" style=\"stroke:#000000; stroke-width:4; stroke-opacity:1; fill:none\" points=\"\n",
       "  2245.05,1486.45 2245.05,1469.18 \n",
       "  \"/>\n",
       "<path clip-path=\"url(#clip230)\" d=\"M 0 0 M259.335 1530.29 L289.011 1530.29 L289.011 1534.23 L259.335 1534.23 L259.335 1530.29 Z\" fill=\"#000000\" fill-rule=\"evenodd\" fill-opacity=\"1\" /><path clip-path=\"url(#clip230)\" d=\"M 0 0 M308.247 1528.49 Q311.603 1529.2 313.478 1531.47 Q315.377 1533.74 315.377 1537.07 Q315.377 1542.19 311.858 1544.99 Q308.34 1547.79 301.858 1547.79 Q299.682 1547.79 297.367 1547.35 Q295.076 1546.93 292.622 1546.08 L292.622 1541.56 Q294.566 1542.7 296.881 1543.28 Q299.196 1543.86 301.719 1543.86 Q306.117 1543.86 308.409 1542.12 Q310.724 1540.38 310.724 1537.07 Q310.724 1534.02 308.571 1532.31 Q306.441 1530.57 302.622 1530.57 L298.594 1530.57 L298.594 1526.73 L302.807 1526.73 Q306.256 1526.73 308.085 1525.36 Q309.914 1523.97 309.914 1521.38 Q309.914 1518.72 308.015 1517.31 Q306.14 1515.87 302.622 1515.87 Q300.701 1515.87 298.502 1516.29 Q296.303 1516.7 293.664 1517.58 L293.664 1513.42 Q296.326 1512.68 298.64 1512.31 Q300.978 1511.93 303.039 1511.93 Q308.363 1511.93 311.465 1514.37 Q314.566 1516.77 314.566 1520.89 Q314.566 1523.76 312.923 1525.75 Q311.279 1527.72 308.247 1528.49 Z\" fill=\"#000000\" fill-rule=\"evenodd\" fill-opacity=\"1\" /><path clip-path=\"url(#clip230)\" d=\"M 0 0 M586.093 1530.29 L615.768 1530.29 L615.768 1534.23 L586.093 1534.23 L586.093 1530.29 Z\" fill=\"#000000\" fill-rule=\"evenodd\" fill-opacity=\"1\" /><path clip-path=\"url(#clip230)\" d=\"M 0 0 M624.866 1543.18 L641.185 1543.18 L641.185 1547.12 L619.241 1547.12 L619.241 1543.18 Q621.903 1540.43 626.486 1535.8 Q631.092 1531.15 632.273 1529.81 Q634.518 1527.28 635.398 1525.55 Q636.301 1523.79 636.301 1522.1 Q636.301 1519.34 634.356 1517.61 Q632.435 1515.87 629.333 1515.87 Q627.134 1515.87 624.68 1516.63 Q622.25 1517.4 619.472 1518.95 L619.472 1514.23 Q622.296 1513.09 624.75 1512.51 Q627.204 1511.93 629.241 1511.93 Q634.611 1511.93 637.805 1514.62 Q641 1517.31 641 1521.8 Q641 1523.93 640.19 1525.85 Q639.403 1527.74 637.296 1530.34 Q636.717 1531.01 633.616 1534.23 Q630.514 1537.42 624.866 1543.18 Z\" fill=\"#000000\" fill-rule=\"evenodd\" fill-opacity=\"1\" /><path clip-path=\"url(#clip230)\" d=\"M 0 0 M912.19 1530.29 L941.866 1530.29 L941.866 1534.23 L912.19 1534.23 L912.19 1530.29 Z\" fill=\"#000000\" fill-rule=\"evenodd\" fill-opacity=\"1\" /><path clip-path=\"url(#clip230)\" d=\"M 0 0 M947.746 1543.18 L955.385 1543.18 L955.385 1516.82 L947.075 1518.49 L947.075 1514.23 L955.338 1512.56 L960.014 1512.56 L960.014 1543.18 L967.653 1543.18 L967.653 1547.12 L947.746 1547.12 L947.746 1543.18 Z\" fill=\"#000000\" fill-rule=\"evenodd\" fill-opacity=\"1\" /><path clip-path=\"url(#clip230)\" d=\"M 0 0 M1266.2 1515.64 Q1262.59 1515.64 1260.77 1519.2 Q1258.96 1522.75 1258.96 1529.87 Q1258.96 1536.98 1260.77 1540.55 Q1262.59 1544.09 1266.2 1544.09 Q1269.84 1544.09 1271.64 1540.55 Q1273.47 1536.98 1273.47 1529.87 Q1273.47 1522.75 1271.64 1519.2 Q1269.84 1515.64 1266.2 1515.64 M1266.2 1511.93 Q1272.01 1511.93 1275.07 1516.54 Q1278.15 1521.12 1278.15 1529.87 Q1278.15 1538.6 1275.07 1543.21 Q1272.01 1547.79 1266.2 1547.79 Q1260.39 1547.79 1257.32 1543.21 Q1254.26 1538.6 1254.26 1529.87 Q1254.26 1521.12 1257.32 1516.54 Q1260.39 1511.93 1266.2 1511.93 Z\" fill=\"#000000\" fill-rule=\"evenodd\" fill-opacity=\"1\" /><path clip-path=\"url(#clip230)\" d=\"M 0 0 M1582.87 1543.18 L1590.51 1543.18 L1590.51 1516.82 L1582.2 1518.49 L1582.2 1514.23 L1590.46 1512.56 L1595.14 1512.56 L1595.14 1543.18 L1602.78 1543.18 L1602.78 1547.12 L1582.87 1547.12 L1582.87 1543.18 Z\" fill=\"#000000\" fill-rule=\"evenodd\" fill-opacity=\"1\" /><path clip-path=\"url(#clip230)\" d=\"M 0 0 M1913.42 1543.18 L1929.74 1543.18 L1929.74 1547.12 L1907.8 1547.12 L1907.8 1543.18 Q1910.46 1540.43 1915.04 1535.8 Q1919.65 1531.15 1920.83 1529.81 Q1923.08 1527.28 1923.96 1525.55 Q1924.86 1523.79 1924.86 1522.1 Q1924.86 1519.34 1922.91 1517.61 Q1920.99 1515.87 1917.89 1515.87 Q1915.69 1515.87 1913.24 1516.63 Q1910.81 1517.4 1908.03 1518.95 L1908.03 1514.23 Q1910.85 1513.09 1913.31 1512.51 Q1915.76 1511.93 1917.8 1511.93 Q1923.17 1511.93 1926.36 1514.62 Q1929.56 1517.31 1929.56 1521.8 Q1929.56 1523.93 1928.75 1525.85 Q1927.96 1527.74 1925.85 1530.34 Q1925.28 1531.01 1922.17 1534.23 Q1919.07 1537.42 1913.42 1543.18 Z\" fill=\"#000000\" fill-rule=\"evenodd\" fill-opacity=\"1\" /><path clip-path=\"url(#clip230)\" d=\"M 0 0 M2249.3 1528.49 Q2252.66 1529.2 2254.53 1531.47 Q2256.43 1533.74 2256.43 1537.07 Q2256.43 1542.19 2252.91 1544.99 Q2249.39 1547.79 2242.91 1547.79 Q2240.74 1547.79 2238.42 1547.35 Q2236.13 1546.93 2233.68 1546.08 L2233.68 1541.56 Q2235.62 1542.7 2237.94 1543.28 Q2240.25 1543.86 2242.77 1543.86 Q2247.17 1543.86 2249.46 1542.12 Q2251.78 1540.38 2251.78 1537.07 Q2251.78 1534.02 2249.63 1532.31 Q2247.5 1530.57 2243.68 1530.57 L2239.65 1530.57 L2239.65 1526.73 L2243.86 1526.73 Q2247.31 1526.73 2249.14 1525.36 Q2250.97 1523.97 2250.97 1521.38 Q2250.97 1518.72 2249.07 1517.31 Q2247.19 1515.87 2243.68 1515.87 Q2241.76 1515.87 2239.56 1516.29 Q2237.36 1516.7 2234.72 1517.58 L2234.72 1513.42 Q2237.38 1512.68 2239.69 1512.31 Q2242.03 1511.93 2244.09 1511.93 Q2249.42 1511.93 2252.52 1514.37 Q2255.62 1516.77 2255.62 1520.89 Q2255.62 1523.76 2253.98 1525.75 Q2252.33 1527.72 2249.3 1528.49 Z\" fill=\"#000000\" fill-rule=\"evenodd\" fill-opacity=\"1\" /><polyline clip-path=\"url(#clip232)\" style=\"stroke:#000000; stroke-width:2; stroke-opacity:0.1; fill:none\" points=\"\n",
       "  179.654,1253.22 2352.76,1253.22 \n",
       "  \"/>\n",
       "<polyline clip-path=\"url(#clip232)\" style=\"stroke:#000000; stroke-width:2; stroke-opacity:0.1; fill:none\" points=\"\n",
       "  179.654,961.908 2352.76,961.908 \n",
       "  \"/>\n",
       "<polyline clip-path=\"url(#clip232)\" style=\"stroke:#000000; stroke-width:2; stroke-opacity:0.1; fill:none\" points=\"\n",
       "  179.654,670.596 2352.76,670.596 \n",
       "  \"/>\n",
       "<polyline clip-path=\"url(#clip232)\" style=\"stroke:#000000; stroke-width:2; stroke-opacity:0.1; fill:none\" points=\"\n",
       "  179.654,379.284 2352.76,379.284 \n",
       "  \"/>\n",
       "<polyline clip-path=\"url(#clip232)\" style=\"stroke:#000000; stroke-width:2; stroke-opacity:0.1; fill:none\" points=\"\n",
       "  179.654,87.9718 2352.76,87.9718 \n",
       "  \"/>\n",
       "<polyline clip-path=\"url(#clip230)\" style=\"stroke:#000000; stroke-width:4; stroke-opacity:1; fill:none\" points=\"\n",
       "  179.654,1486.45 179.654,47.2441 \n",
       "  \"/>\n",
       "<polyline clip-path=\"url(#clip230)\" style=\"stroke:#000000; stroke-width:4; stroke-opacity:1; fill:none\" points=\"\n",
       "  179.654,1253.22 205.731,1253.22 \n",
       "  \"/>\n",
       "<polyline clip-path=\"url(#clip230)\" style=\"stroke:#000000; stroke-width:4; stroke-opacity:1; fill:none\" points=\"\n",
       "  179.654,961.908 205.731,961.908 \n",
       "  \"/>\n",
       "<polyline clip-path=\"url(#clip230)\" style=\"stroke:#000000; stroke-width:4; stroke-opacity:1; fill:none\" points=\"\n",
       "  179.654,670.596 205.731,670.596 \n",
       "  \"/>\n",
       "<polyline clip-path=\"url(#clip230)\" style=\"stroke:#000000; stroke-width:4; stroke-opacity:1; fill:none\" points=\"\n",
       "  179.654,379.284 205.731,379.284 \n",
       "  \"/>\n",
       "<polyline clip-path=\"url(#clip230)\" style=\"stroke:#000000; stroke-width:4; stroke-opacity:1; fill:none\" points=\"\n",
       "  179.654,87.9718 205.731,87.9718 \n",
       "  \"/>\n",
       "<path clip-path=\"url(#clip230)\" d=\"M 0 0 M51.2236 1253.67 L80.8994 1253.67 L80.8994 1257.61 L51.2236 1257.61 L51.2236 1253.67 Z\" fill=\"#000000\" fill-rule=\"evenodd\" fill-opacity=\"1\" /><path clip-path=\"url(#clip230)\" d=\"M 0 0 M86.779 1266.56 L94.4178 1266.56 L94.4178 1240.2 L86.1077 1241.87 L86.1077 1237.61 L94.3715 1235.94 L99.0474 1235.94 L99.0474 1266.56 L106.686 1266.56 L106.686 1270.5 L86.779 1270.5 L86.779 1266.56 Z\" fill=\"#000000\" fill-rule=\"evenodd\" fill-opacity=\"1\" /><path clip-path=\"url(#clip230)\" d=\"M 0 0 M111.756 1264.62 L116.64 1264.62 L116.64 1270.5 L111.756 1270.5 L111.756 1264.62 Z\" fill=\"#000000\" fill-rule=\"evenodd\" fill-opacity=\"1\" /><path clip-path=\"url(#clip230)\" d=\"M 0 0 M131.709 1239.02 Q128.098 1239.02 126.27 1242.58 Q124.464 1246.13 124.464 1253.25 Q124.464 1260.36 126.27 1263.93 Q128.098 1267.47 131.709 1267.47 Q135.344 1267.47 137.149 1263.93 Q138.978 1260.36 138.978 1253.25 Q138.978 1246.13 137.149 1242.58 Q135.344 1239.02 131.709 1239.02 M131.709 1235.32 Q137.519 1235.32 140.575 1239.92 Q143.654 1244.5 143.654 1253.25 Q143.654 1261.98 140.575 1266.59 Q137.519 1271.17 131.709 1271.17 Q125.899 1271.17 122.82 1266.59 Q119.765 1261.98 119.765 1253.25 Q119.765 1244.5 122.82 1239.92 Q125.899 1235.32 131.709 1235.32 Z\" fill=\"#000000\" fill-rule=\"evenodd\" fill-opacity=\"1\" /><path clip-path=\"url(#clip230)\" d=\"M 0 0 M50.9921 962.359 L80.6679 962.359 L80.6679 966.295 L50.9921 966.295 L50.9921 962.359 Z\" fill=\"#000000\" fill-rule=\"evenodd\" fill-opacity=\"1\" /><path clip-path=\"url(#clip230)\" d=\"M 0 0 M95.7373 947.707 Q92.1262 947.707 90.2975 951.272 Q88.4919 954.813 88.4919 961.943 Q88.4919 969.049 90.2975 972.614 Q92.1262 976.156 95.7373 976.156 Q99.3715 976.156 101.177 972.614 Q103.006 969.049 103.006 961.943 Q103.006 954.813 101.177 951.272 Q99.3715 947.707 95.7373 947.707 M95.7373 944.003 Q101.547 944.003 104.603 948.61 Q107.682 953.193 107.682 961.943 Q107.682 970.67 104.603 975.276 Q101.547 979.859 95.7373 979.859 Q89.9271 979.859 86.8484 975.276 Q83.7929 970.67 83.7929 961.943 Q83.7929 953.193 86.8484 948.61 Q89.9271 944.003 95.7373 944.003 Z\" fill=\"#000000\" fill-rule=\"evenodd\" fill-opacity=\"1\" /><path clip-path=\"url(#clip230)\" d=\"M 0 0 M112.751 973.308 L117.635 973.308 L117.635 979.188 L112.751 979.188 L112.751 973.308 Z\" fill=\"#000000\" fill-rule=\"evenodd\" fill-opacity=\"1\" /><path clip-path=\"url(#clip230)\" d=\"M 0 0 M122.751 944.628 L141.107 944.628 L141.107 948.563 L127.033 948.563 L127.033 957.035 Q128.052 956.688 129.07 956.526 Q130.089 956.341 131.107 956.341 Q136.894 956.341 140.274 959.512 Q143.654 962.684 143.654 968.1 Q143.654 973.679 140.181 976.781 Q136.709 979.859 130.39 979.859 Q128.214 979.859 125.945 979.489 Q123.7 979.119 121.293 978.378 L121.293 973.679 Q123.376 974.813 125.598 975.369 Q127.82 975.924 130.297 975.924 Q134.302 975.924 136.64 973.818 Q138.978 971.711 138.978 968.1 Q138.978 964.489 136.64 962.383 Q134.302 960.276 130.297 960.276 Q128.422 960.276 126.547 960.693 Q124.695 961.109 122.751 961.989 L122.751 944.628 Z\" fill=\"#000000\" fill-rule=\"evenodd\" fill-opacity=\"1\" /><path clip-path=\"url(#clip230)\" d=\"M 0 0 M94.7419 656.395 Q91.1308 656.395 89.3021 659.959 Q87.4966 663.501 87.4966 670.631 Q87.4966 677.737 89.3021 681.302 Q91.1308 684.844 94.7419 684.844 Q98.3761 684.844 100.182 681.302 Q102.01 677.737 102.01 670.631 Q102.01 663.501 100.182 659.959 Q98.3761 656.395 94.7419 656.395 M94.7419 652.691 Q100.552 652.691 103.608 657.297 Q106.686 661.881 106.686 670.631 Q106.686 679.357 103.608 683.964 Q100.552 688.547 94.7419 688.547 Q88.9317 688.547 85.8531 683.964 Q82.7975 679.357 82.7975 670.631 Q82.7975 661.881 85.8531 657.297 Q88.9317 652.691 94.7419 652.691 Z\" fill=\"#000000\" fill-rule=\"evenodd\" fill-opacity=\"1\" /><path clip-path=\"url(#clip230)\" d=\"M 0 0 M111.756 681.996 L116.64 681.996 L116.64 687.876 L111.756 687.876 L111.756 681.996 Z\" fill=\"#000000\" fill-rule=\"evenodd\" fill-opacity=\"1\" /><path clip-path=\"url(#clip230)\" d=\"M 0 0 M131.709 656.395 Q128.098 656.395 126.27 659.959 Q124.464 663.501 124.464 670.631 Q124.464 677.737 126.27 681.302 Q128.098 684.844 131.709 684.844 Q135.344 684.844 137.149 681.302 Q138.978 677.737 138.978 670.631 Q138.978 663.501 137.149 659.959 Q135.344 656.395 131.709 656.395 M131.709 652.691 Q137.519 652.691 140.575 657.297 Q143.654 661.881 143.654 670.631 Q143.654 679.357 140.575 683.964 Q137.519 688.547 131.709 688.547 Q125.899 688.547 122.82 683.964 Q119.765 679.357 119.765 670.631 Q119.765 661.881 122.82 657.297 Q125.899 652.691 131.709 652.691 Z\" fill=\"#000000\" fill-rule=\"evenodd\" fill-opacity=\"1\" /><path clip-path=\"url(#clip230)\" d=\"M 0 0 M95.7373 365.083 Q92.1262 365.083 90.2975 368.647 Q88.4919 372.189 88.4919 379.319 Q88.4919 386.425 90.2975 389.99 Q92.1262 393.531 95.7373 393.531 Q99.3715 393.531 101.177 389.99 Q103.006 386.425 103.006 379.319 Q103.006 372.189 101.177 368.647 Q99.3715 365.083 95.7373 365.083 M95.7373 361.379 Q101.547 361.379 104.603 365.985 Q107.682 370.569 107.682 379.319 Q107.682 388.045 104.603 392.652 Q101.547 397.235 95.7373 397.235 Q89.9271 397.235 86.8484 392.652 Q83.7929 388.045 83.7929 379.319 Q83.7929 370.569 86.8484 365.985 Q89.9271 361.379 95.7373 361.379 Z\" fill=\"#000000\" fill-rule=\"evenodd\" fill-opacity=\"1\" /><path clip-path=\"url(#clip230)\" d=\"M 0 0 M112.751 390.684 L117.635 390.684 L117.635 396.564 L112.751 396.564 L112.751 390.684 Z\" fill=\"#000000\" fill-rule=\"evenodd\" fill-opacity=\"1\" /><path clip-path=\"url(#clip230)\" d=\"M 0 0 M122.751 362.004 L141.107 362.004 L141.107 365.939 L127.033 365.939 L127.033 374.411 Q128.052 374.064 129.07 373.902 Q130.089 373.717 131.107 373.717 Q136.894 373.717 140.274 376.888 Q143.654 380.059 143.654 385.476 Q143.654 391.055 140.181 394.156 Q136.709 397.235 130.39 397.235 Q128.214 397.235 125.945 396.865 Q123.7 396.494 121.293 395.754 L121.293 391.055 Q123.376 392.189 125.598 392.744 Q127.82 393.3 130.297 393.3 Q134.302 393.3 136.64 391.194 Q138.978 389.087 138.978 385.476 Q138.978 381.865 136.64 379.758 Q134.302 377.652 130.297 377.652 Q128.422 377.652 126.547 378.069 Q124.695 378.485 122.751 379.365 L122.751 362.004 Z\" fill=\"#000000\" fill-rule=\"evenodd\" fill-opacity=\"1\" /><path clip-path=\"url(#clip230)\" d=\"M 0 0 M86.779 101.317 L94.4178 101.317 L94.4178 74.951 L86.1077 76.6177 L86.1077 72.3584 L94.3715 70.6918 L99.0474 70.6918 L99.0474 101.317 L106.686 101.317 L106.686 105.252 L86.779 105.252 L86.779 101.317 Z\" fill=\"#000000\" fill-rule=\"evenodd\" fill-opacity=\"1\" /><path clip-path=\"url(#clip230)\" d=\"M 0 0 M111.756 99.3722 L116.64 99.3722 L116.64 105.252 L111.756 105.252 L111.756 99.3722 Z\" fill=\"#000000\" fill-rule=\"evenodd\" fill-opacity=\"1\" /><path clip-path=\"url(#clip230)\" d=\"M 0 0 M131.709 73.7704 Q128.098 73.7704 126.27 77.3352 Q124.464 80.8769 124.464 88.0065 Q124.464 95.1129 126.27 98.6777 Q128.098 102.219 131.709 102.219 Q135.344 102.219 137.149 98.6777 Q138.978 95.1129 138.978 88.0065 Q138.978 80.8769 137.149 77.3352 Q135.344 73.7704 131.709 73.7704 M131.709 70.0668 Q137.519 70.0668 140.575 74.6732 Q143.654 79.2565 143.654 88.0065 Q143.654 96.7333 140.575 101.34 Q137.519 105.923 131.709 105.923 Q125.899 105.923 122.82 101.34 Q119.765 96.7333 119.765 88.0065 Q119.765 79.2565 122.82 74.6732 Q125.899 70.0668 131.709 70.0668 Z\" fill=\"#000000\" fill-rule=\"evenodd\" fill-opacity=\"1\" /><circle clip-path=\"url(#clip232)\" cx=\"241.157\" cy=\"471.83\" r=\"14\" fill=\"#009af9\" fill-rule=\"evenodd\" fill-opacity=\"1\" stroke=\"#000000\" stroke-opacity=\"1\" stroke-width=\"3.2\"/>\n",
       "<circle clip-path=\"url(#clip232)\" cx=\"349.056\" cy=\"890.52\" r=\"14\" fill=\"#009af9\" fill-rule=\"evenodd\" fill-opacity=\"1\" stroke=\"#000000\" stroke-opacity=\"1\" stroke-width=\"3.2\"/>\n",
       "<circle clip-path=\"url(#clip232)\" cx=\"456.956\" cy=\"971.495\" r=\"14\" fill=\"#009af9\" fill-rule=\"evenodd\" fill-opacity=\"1\" stroke=\"#000000\" stroke-opacity=\"1\" stroke-width=\"3.2\"/>\n",
       "<circle clip-path=\"url(#clip232)\" cx=\"564.856\" cy=\"1095.78\" r=\"14\" fill=\"#009af9\" fill-rule=\"evenodd\" fill-opacity=\"1\" stroke=\"#000000\" stroke-opacity=\"1\" stroke-width=\"3.2\"/>\n",
       "<circle clip-path=\"url(#clip232)\" cx=\"672.756\" cy=\"1198.56\" r=\"14\" fill=\"#009af9\" fill-rule=\"evenodd\" fill-opacity=\"1\" stroke=\"#000000\" stroke-opacity=\"1\" stroke-width=\"3.2\"/>\n",
       "<circle clip-path=\"url(#clip232)\" cx=\"780.656\" cy=\"1304.3\" r=\"14\" fill=\"#009af9\" fill-rule=\"evenodd\" fill-opacity=\"1\" stroke=\"#000000\" stroke-opacity=\"1\" stroke-width=\"3.2\"/>\n",
       "<circle clip-path=\"url(#clip232)\" cx=\"888.555\" cy=\"1285.61\" r=\"14\" fill=\"#009af9\" fill-rule=\"evenodd\" fill-opacity=\"1\" stroke=\"#000000\" stroke-opacity=\"1\" stroke-width=\"3.2\"/>\n",
       "<circle clip-path=\"url(#clip232)\" cx=\"996.455\" cy=\"1445.72\" r=\"14\" fill=\"#009af9\" fill-rule=\"evenodd\" fill-opacity=\"1\" stroke=\"#000000\" stroke-opacity=\"1\" stroke-width=\"3.2\"/>\n",
       "<circle clip-path=\"url(#clip232)\" cx=\"1104.36\" cy=\"903.509\" r=\"14\" fill=\"#009af9\" fill-rule=\"evenodd\" fill-opacity=\"1\" stroke=\"#000000\" stroke-opacity=\"1\" stroke-width=\"3.2\"/>\n",
       "<circle clip-path=\"url(#clip232)\" cx=\"1212.25\" cy=\"1223.2\" r=\"14\" fill=\"#009af9\" fill-rule=\"evenodd\" fill-opacity=\"1\" stroke=\"#000000\" stroke-opacity=\"1\" stroke-width=\"3.2\"/>\n",
       "<circle clip-path=\"url(#clip232)\" cx=\"1320.15\" cy=\"735.227\" r=\"14\" fill=\"#009af9\" fill-rule=\"evenodd\" fill-opacity=\"1\" stroke=\"#000000\" stroke-opacity=\"1\" stroke-width=\"3.2\"/>\n",
       "<circle clip-path=\"url(#clip232)\" cx=\"1428.05\" cy=\"393.795\" r=\"14\" fill=\"#009af9\" fill-rule=\"evenodd\" fill-opacity=\"1\" stroke=\"#000000\" stroke-opacity=\"1\" stroke-width=\"3.2\"/>\n",
       "<circle clip-path=\"url(#clip232)\" cx=\"1535.95\" cy=\"178.222\" r=\"14\" fill=\"#009af9\" fill-rule=\"evenodd\" fill-opacity=\"1\" stroke=\"#000000\" stroke-opacity=\"1\" stroke-width=\"3.2\"/>\n",
       "<circle clip-path=\"url(#clip232)\" cx=\"1643.85\" cy=\"168.805\" r=\"14\" fill=\"#009af9\" fill-rule=\"evenodd\" fill-opacity=\"1\" stroke=\"#000000\" stroke-opacity=\"1\" stroke-width=\"3.2\"/>\n",
       "<circle clip-path=\"url(#clip232)\" cx=\"1751.75\" cy=\"300.944\" r=\"14\" fill=\"#009af9\" fill-rule=\"evenodd\" fill-opacity=\"1\" stroke=\"#000000\" stroke-opacity=\"1\" stroke-width=\"3.2\"/>\n",
       "<circle clip-path=\"url(#clip232)\" cx=\"1859.65\" cy=\"123.27\" r=\"14\" fill=\"#009af9\" fill-rule=\"evenodd\" fill-opacity=\"1\" stroke=\"#000000\" stroke-opacity=\"1\" stroke-width=\"3.2\"/>\n",
       "<circle clip-path=\"url(#clip232)\" cx=\"1967.55\" cy=\"242.297\" r=\"14\" fill=\"#009af9\" fill-rule=\"evenodd\" fill-opacity=\"1\" stroke=\"#000000\" stroke-opacity=\"1\" stroke-width=\"3.2\"/>\n",
       "<circle clip-path=\"url(#clip232)\" cx=\"2075.45\" cy=\"475.429\" r=\"14\" fill=\"#009af9\" fill-rule=\"evenodd\" fill-opacity=\"1\" stroke=\"#000000\" stroke-opacity=\"1\" stroke-width=\"3.2\"/>\n",
       "<circle clip-path=\"url(#clip232)\" cx=\"2183.35\" cy=\"459.537\" r=\"14\" fill=\"#009af9\" fill-rule=\"evenodd\" fill-opacity=\"1\" stroke=\"#000000\" stroke-opacity=\"1\" stroke-width=\"3.2\"/>\n",
       "<circle clip-path=\"url(#clip232)\" cx=\"2291.25\" cy=\"730.504\" r=\"14\" fill=\"#009af9\" fill-rule=\"evenodd\" fill-opacity=\"1\" stroke=\"#000000\" stroke-opacity=\"1\" stroke-width=\"3.2\"/>\n",
       "<polyline clip-path=\"url(#clip232)\" style=\"stroke:#0000ff; stroke-width:4; stroke-opacity:1; fill:none\" stroke-dasharray=\"16, 10\" points=\"\n",
       "  241.157,670.596 246.295,679.77 251.433,688.942 256.571,698.11 261.709,707.271 266.847,716.422 271.985,725.563 277.123,734.689 282.261,743.8 287.399,752.893 \n",
       "  292.537,761.965 297.676,771.015 302.814,780.039 307.952,789.037 313.09,798.005 318.228,806.941 323.366,815.844 328.504,824.711 333.642,833.539 338.78,842.327 \n",
       "  343.918,851.073 349.056,859.774 354.194,868.428 359.333,877.032 364.471,885.586 369.609,894.086 374.747,902.531 379.885,910.918 385.023,919.246 390.161,927.512 \n",
       "  395.299,935.715 400.437,943.851 405.575,951.92 410.713,959.919 415.851,967.847 420.99,975.7 426.128,983.478 431.266,991.179 436.404,998.8 441.542,1006.34 \n",
       "  446.68,1013.8 451.818,1021.17 456.956,1028.45 462.094,1035.65 467.232,1042.75 472.37,1049.76 477.509,1056.68 482.647,1063.51 487.785,1070.23 492.923,1076.86 \n",
       "  498.061,1083.38 503.199,1089.81 508.337,1096.13 513.475,1102.34 518.613,1108.45 523.751,1114.45 528.889,1120.33 534.027,1126.11 539.166,1131.77 544.304,1137.32 \n",
       "  549.442,1142.76 554.58,1148.07 559.718,1153.27 564.856,1158.35 569.994,1163.31 575.132,1168.14 580.27,1172.85 585.408,1177.44 590.546,1181.9 595.685,1186.24 \n",
       "  600.823,1190.44 605.961,1194.52 611.099,1198.47 616.237,1202.29 621.375,1205.97 626.513,1209.53 631.651,1212.95 636.789,1216.23 641.927,1219.38 647.065,1222.39 \n",
       "  652.203,1225.27 657.342,1228.01 662.48,1230.61 667.618,1233.07 672.756,1235.39 677.894,1237.57 683.032,1239.62 688.17,1241.52 693.308,1243.28 698.446,1244.89 \n",
       "  703.584,1246.37 708.722,1247.7 713.861,1248.89 718.999,1249.93 724.137,1250.83 729.275,1251.59 734.413,1252.2 739.551,1252.67 744.689,1253 749.827,1253.18 \n",
       "  754.965,1253.22 760.103,1253.11 765.241,1252.85 770.379,1252.46 775.518,1251.92 780.656,1251.23 785.794,1250.4 790.932,1249.43 796.07,1248.31 801.208,1247.05 \n",
       "  806.346,1245.65 811.484,1244.1 816.622,1242.41 821.76,1240.58 826.898,1238.61 832.036,1236.5 837.175,1234.25 842.313,1231.86 847.451,1229.33 852.589,1226.66 \n",
       "  857.727,1223.85 862.865,1220.9 868.003,1217.82 873.141,1214.6 878.279,1211.25 883.417,1207.77 888.555,1204.15 893.694,1200.4 898.832,1196.51 903.97,1192.5 \n",
       "  909.108,1188.36 914.246,1184.09 919.384,1179.69 924.522,1175.16 929.66,1170.51 934.798,1165.74 939.936,1160.84 945.074,1155.83 950.212,1150.69 955.351,1145.43 \n",
       "  960.489,1140.05 965.627,1134.56 970.765,1128.96 975.903,1123.24 981.041,1117.4 986.179,1111.46 991.317,1105.41 996.455,1099.25 1001.59,1092.98 1006.73,1086.61 \n",
       "  1011.87,1080.13 1017.01,1073.56 1022.15,1066.88 1027.28,1060.11 1032.42,1053.24 1037.56,1046.27 1042.7,1039.21 1047.84,1032.06 1052.97,1024.82 1058.11,1017.49 \n",
       "  1063.25,1010.08 1068.39,1002.58 1073.53,994.999 1078.66,987.339 1083.8,979.599 1088.94,971.783 1094.08,963.892 1099.22,955.929 1104.36,947.894 1109.49,939.791 \n",
       "  1114.63,931.622 1119.77,923.387 1124.91,915.09 1130.05,906.732 1135.18,898.316 1140.32,889.843 1145.46,881.316 1150.6,872.736 1155.74,864.107 1160.87,855.429 \n",
       "  1166.01,846.706 1171.15,837.939 1176.29,829.13 1181.43,820.282 1186.56,811.397 1191.7,802.477 1196.84,793.525 1201.98,784.541 1207.12,775.53 1212.25,766.493 \n",
       "  1217.39,757.432 1222.53,748.349 1227.67,739.247 1232.81,730.128 1237.95,720.994 1243.08,711.848 1248.22,702.691 1253.36,693.527 1258.5,684.357 1263.64,675.183 \n",
       "  1268.77,666.009 1273.91,656.835 1279.05,647.665 1284.19,638.5 1289.33,629.344 1294.46,620.198 1299.6,611.064 1304.74,601.945 1309.88,592.843 1315.02,583.76 \n",
       "  1320.15,574.699 1325.29,565.662 1330.43,556.65 1335.57,547.667 1340.71,538.715 1345.85,529.795 1350.98,520.91 1356.12,512.062 1361.26,503.253 1366.4,494.486 \n",
       "  1371.54,485.763 1376.67,477.085 1381.81,468.456 1386.95,459.876 1392.09,451.349 1397.23,442.876 1402.36,434.46 1407.5,426.102 1412.64,417.805 1417.78,409.57 \n",
       "  1422.92,401.401 1428.05,393.297 1433.19,385.263 1438.33,377.3 1443.47,369.409 1448.61,361.593 1453.74,353.853 1458.88,346.192 1464.02,338.612 1469.16,331.114 \n",
       "  1474.3,323.7 1479.44,316.372 1484.57,309.132 1489.71,301.981 1494.85,294.922 1499.99,287.956 1505.13,281.085 1510.26,274.311 1515.4,267.635 1520.54,261.058 \n",
       "  1525.68,254.584 1530.82,248.212 1535.95,241.945 1541.09,235.785 1546.23,229.732 1551.37,223.789 1556.51,217.956 1561.64,212.236 1566.78,206.629 1571.92,201.138 \n",
       "  1577.06,195.763 1582.2,190.505 1587.34,185.367 1592.47,180.349 1597.61,175.452 1602.75,170.678 1607.89,166.029 1613.03,161.504 1618.16,157.106 1623.3,152.835 \n",
       "  1628.44,148.692 1633.58,144.679 1638.72,140.796 1643.85,137.044 1648.99,133.425 1654.13,129.939 1659.27,126.587 1664.41,123.37 1669.54,120.289 1674.68,117.344 \n",
       "  1679.82,114.537 1684.96,111.867 1690.1,109.336 1695.23,106.944 1700.37,104.691 1705.51,102.579 1710.65,100.608 1715.79,98.7786 1720.93,97.0906 1726.06,95.5449 \n",
       "  1731.2,94.1418 1736.34,92.8816 1741.48,91.7647 1746.62,90.7913 1751.75,89.9617 1756.89,89.2761 1762.03,88.7346 1767.17,88.3374 1772.31,88.0846 1777.44,87.9763 \n",
       "  1782.58,88.0124 1787.72,88.193 1792.86,88.518 1798,88.9873 1803.13,89.6009 1808.27,90.3585 1813.41,91.2601 1818.55,92.3052 1823.69,93.4938 1828.83,94.8255 \n",
       "  1833.96,96.3 1839.1,97.9169 1844.24,99.6757 1849.38,101.576 1854.52,103.618 1859.65,105.8 1864.79,108.122 1869.93,110.584 1875.07,113.184 1880.21,115.923 \n",
       "  1885.34,118.799 1890.48,121.813 1895.62,124.962 1900.76,128.246 1905.9,131.665 1911.03,135.218 1916.17,138.904 1921.31,142.721 1926.45,146.669 1931.59,150.747 \n",
       "  1936.73,154.954 1941.86,159.289 1947,163.751 1952.14,168.338 1957.28,173.05 1962.42,177.885 1967.55,182.843 1972.69,187.921 1977.83,193.119 1982.97,198.435 \n",
       "  1988.11,203.869 1993.24,209.418 1998.38,215.082 2003.52,220.859 2008.66,226.747 2013.8,232.745 2018.93,238.852 2024.07,245.066 2029.21,251.385 2034.35,257.808 \n",
       "  2039.49,264.334 2044.62,270.96 2049.76,277.686 2054.9,284.509 2060.04,291.428 2065.18,298.44 2070.32,305.545 2075.45,312.741 2080.59,320.025 2085.73,327.396 \n",
       "  2090.87,334.853 2096.01,342.392 2101.14,350.013 2106.28,357.713 2111.42,365.491 2116.56,373.345 2121.7,381.273 2126.83,389.272 2131.97,397.341 2137.11,405.477 \n",
       "  2142.25,413.68 2147.39,421.946 2152.52,430.273 2157.66,438.661 2162.8,447.106 2167.94,455.606 2173.08,464.16 2178.22,472.764 2183.35,481.418 2188.49,490.119 \n",
       "  2193.63,498.864 2198.77,507.653 2203.91,516.481 2209.04,525.348 2214.18,534.251 2219.32,543.187 2224.46,552.155 2229.6,561.153 2234.73,570.177 2239.87,579.227 \n",
       "  2245.01,588.299 2250.15,597.392 2255.29,606.503 2260.42,615.629 2265.56,624.769 2270.7,633.921 2275.84,643.082 2280.98,652.249 2286.11,661.422 2291.25,670.596 \n",
       "  \n",
       "  \"/>\n",
       "<polyline clip-path=\"url(#clip232)\" style=\"stroke:#ff0000; stroke-width:8; stroke-opacity:1; fill:none\" points=\"\n",
       "  241.157,427.349 246.295,447.639 251.433,467.656 256.571,487.402 261.709,506.877 266.847,526.084 271.985,545.023 277.123,563.695 282.261,582.103 287.399,600.248 \n",
       "  292.537,618.13 297.676,635.751 302.814,653.113 307.952,670.217 313.09,687.063 318.228,703.654 323.366,719.991 328.504,736.075 333.642,751.907 338.78,767.489 \n",
       "  343.918,782.822 349.056,797.907 354.194,812.746 359.333,827.34 364.471,841.69 369.609,855.798 374.747,869.665 379.885,883.292 385.023,896.681 390.161,909.833 \n",
       "  395.299,922.749 400.437,935.431 405.575,947.88 410.713,960.097 415.851,972.084 420.99,983.841 426.128,995.371 431.266,1006.67 436.404,1017.75 441.542,1028.61 \n",
       "  446.68,1039.24 451.818,1049.65 456.956,1059.84 462.094,1069.81 467.232,1079.57 472.37,1089.11 477.509,1098.43 482.647,1107.55 487.785,1116.45 492.923,1125.14 \n",
       "  498.061,1133.62 503.199,1141.89 508.337,1149.95 513.475,1157.82 518.613,1165.47 523.751,1172.93 528.889,1180.18 534.027,1187.23 539.166,1194.09 544.304,1200.74 \n",
       "  549.442,1207.21 554.58,1213.47 559.718,1219.55 564.856,1225.43 569.994,1231.12 575.132,1236.62 580.27,1241.93 585.408,1247.06 590.546,1252 595.685,1256.76 \n",
       "  600.823,1261.33 605.961,1265.73 611.099,1269.94 616.237,1273.98 621.375,1277.83 626.513,1281.51 631.651,1285.02 636.789,1288.35 641.927,1291.52 647.065,1294.51 \n",
       "  652.203,1297.33 657.342,1299.98 662.48,1302.47 667.618,1304.79 672.756,1306.94 677.894,1308.94 683.032,1310.77 688.17,1312.44 693.308,1313.95 698.446,1315.31 \n",
       "  703.584,1316.51 708.722,1317.55 713.861,1318.44 718.999,1319.18 724.137,1319.77 729.275,1320.21 734.413,1320.5 739.551,1320.64 744.689,1320.64 749.827,1320.49 \n",
       "  754.965,1320.2 760.103,1319.77 765.241,1319.2 770.379,1318.49 775.518,1317.64 780.656,1316.66 785.794,1315.54 790.932,1314.29 796.07,1312.9 801.208,1311.39 \n",
       "  806.346,1309.74 811.484,1307.97 816.622,1306.07 821.76,1304.04 826.898,1301.89 832.036,1299.62 837.175,1297.22 842.313,1294.7 847.451,1292.07 852.589,1289.32 \n",
       "  857.727,1286.45 862.865,1283.46 868.003,1280.36 873.141,1277.15 878.279,1273.83 883.417,1270.4 888.555,1266.86 893.694,1263.21 898.832,1259.46 903.97,1255.6 \n",
       "  909.108,1251.64 914.246,1247.58 919.384,1243.42 924.522,1239.15 929.66,1234.79 934.798,1230.34 939.936,1225.79 945.074,1221.14 950.212,1216.4 955.351,1211.57 \n",
       "  960.489,1206.65 965.627,1201.65 970.765,1196.55 975.903,1191.37 981.041,1186.1 986.179,1180.75 991.317,1175.32 996.455,1169.81 1001.59,1164.22 1006.73,1158.55 \n",
       "  1011.87,1152.81 1017.01,1146.99 1022.15,1141.09 1027.28,1135.13 1032.42,1129.09 1037.56,1122.98 1042.7,1116.8 1047.84,1110.56 1052.97,1104.25 1058.11,1097.87 \n",
       "  1063.25,1091.43 1068.39,1084.93 1073.53,1078.37 1078.66,1071.75 1083.8,1065.07 1088.94,1058.33 1094.08,1051.54 1099.22,1044.7 1104.36,1037.8 1109.49,1030.85 \n",
       "  1114.63,1023.85 1119.77,1016.8 1124.91,1009.7 1130.05,1002.56 1135.18,995.375 1140.32,988.144 1145.46,980.871 1150.6,973.558 1155.74,966.205 1160.87,958.813 \n",
       "  1166.01,951.385 1171.15,943.922 1176.29,936.424 1181.43,928.893 1186.56,921.33 1191.7,913.738 1196.84,906.116 1201.98,898.467 1207.12,890.791 1212.25,883.091 \n",
       "  1217.39,875.367 1222.53,867.62 1227.67,859.853 1232.81,852.066 1237.95,844.261 1243.08,836.439 1248.22,828.601 1253.36,820.748 1258.5,812.883 1263.64,805.006 \n",
       "  1268.77,797.119 1273.91,789.222 1279.05,781.318 1284.19,773.408 1289.33,765.492 1294.46,757.573 1299.6,749.651 1304.74,741.728 1309.88,733.806 1315.02,725.885 \n",
       "  1320.15,717.967 1325.29,710.053 1330.43,702.145 1335.57,694.243 1340.71,686.35 1345.85,678.466 1350.98,670.593 1356.12,662.732 1361.26,654.885 1366.4,647.053 \n",
       "  1371.54,639.236 1376.67,631.437 1381.81,623.657 1386.95,615.898 1392.09,608.159 1397.23,600.443 1402.36,592.752 1407.5,585.086 1412.64,577.446 1417.78,569.835 \n",
       "  1422.92,562.253 1428.05,554.702 1433.19,547.183 1438.33,539.697 1443.47,532.246 1448.61,524.831 1453.74,517.453 1458.88,510.114 1464.02,502.815 1469.16,495.557 \n",
       "  1474.3,488.342 1479.44,481.171 1484.57,474.045 1489.71,466.966 1494.85,459.935 1499.99,452.953 1505.13,446.022 1510.26,439.143 1515.4,432.317 1520.54,425.545 \n",
       "  1525.68,418.83 1530.82,412.171 1535.95,405.572 1541.09,399.032 1546.23,392.553 1551.37,386.137 1556.51,379.785 1561.64,373.498 1566.78,367.277 1571.92,361.124 \n",
       "  1577.06,355.041 1582.2,349.028 1587.34,343.087 1592.47,337.219 1597.61,331.425 1602.75,325.707 1607.89,320.067 1613.03,314.504 1618.16,309.022 1623.3,303.62 \n",
       "  1628.44,298.301 1633.58,293.066 1638.72,287.916 1643.85,282.852 1648.99,277.876 1654.13,272.989 1659.27,268.193 1664.41,263.488 1669.54,258.876 1674.68,254.359 \n",
       "  1679.82,249.937 1684.96,245.612 1690.1,241.385 1695.23,237.259 1700.37,233.233 1705.51,229.309 1710.65,225.489 1715.79,221.774 1720.93,218.166 1726.06,214.665 \n",
       "  1731.2,211.272 1736.34,207.991 1741.48,204.82 1746.62,201.763 1751.75,198.82 1756.89,195.992 1762.03,193.281 1767.17,190.689 1772.31,188.216 1777.44,185.864 \n",
       "  1782.58,183.634 1787.72,181.528 1792.86,179.546 1798,177.691 1803.13,175.963 1808.27,174.364 1813.41,172.895 1818.55,171.557 1823.69,170.353 1828.83,169.282 \n",
       "  1833.96,168.347 1839.1,167.549 1844.24,166.888 1849.38,166.368 1854.52,165.987 1859.65,165.749 1864.79,165.655 1869.93,165.705 1875.07,165.901 1880.21,166.245 \n",
       "  1885.34,166.737 1890.48,167.379 1895.62,168.173 1900.76,169.119 1905.9,170.219 1911.03,171.475 1916.17,172.887 1921.31,174.458 1926.45,176.187 1931.59,178.077 \n",
       "  1936.73,180.129 1941.86,182.345 1947,184.725 1952.14,187.271 1957.28,189.984 1962.42,192.866 1967.55,195.918 1972.69,199.141 1977.83,202.536 1982.97,206.105 \n",
       "  1988.11,209.85 1993.24,213.771 1998.38,217.87 2003.52,222.148 2008.66,226.607 2013.8,231.248 2018.93,236.071 2024.07,241.08 2029.21,246.274 2034.35,251.655 \n",
       "  2039.49,257.224 2044.62,262.984 2049.76,268.934 2054.9,275.077 2060.04,281.414 2065.18,287.946 2070.32,294.674 2075.45,301.6 2080.59,308.725 2085.73,316.05 \n",
       "  2090.87,323.578 2096.01,331.308 2101.14,339.242 2106.28,347.383 2111.42,355.73 2116.56,364.286 2121.7,373.051 2126.83,382.027 2131.97,391.216 2137.11,400.618 \n",
       "  2142.25,410.236 2147.39,420.069 2152.52,430.121 2157.66,440.391 2162.8,450.881 2167.94,461.593 2173.08,472.528 2178.22,483.687 2183.35,495.072 2188.49,506.684 \n",
       "  2193.63,518.524 2198.77,530.594 2203.91,542.894 2209.04,555.427 2214.18,568.193 2219.32,581.194 2224.46,594.431 2229.6,607.906 2234.73,621.619 2239.87,635.573 \n",
       "  2245.01,649.768 2250.15,664.206 2255.29,678.888 2260.42,693.816 2265.56,708.99 2270.7,724.413 2275.84,740.085 2280.98,756.008 2286.11,772.182 2291.25,788.611 \n",
       "  \n",
       "  \"/>\n",
       "<path clip-path=\"url(#clip230)\" d=\"\n",
       "M252.09 337.138 L923.174 337.138 L923.174 95.2176 L252.09 95.2176  Z\n",
       "  \" fill=\"#ffffff\" fill-rule=\"evenodd\" fill-opacity=\"1\"/>\n",
       "<polyline clip-path=\"url(#clip230)\" style=\"stroke:#000000; stroke-width:4; stroke-opacity:1; fill:none\" points=\"\n",
       "  252.09,337.138 923.174,337.138 923.174,95.2176 252.09,95.2176 252.09,337.138 \n",
       "  \"/>\n",
       "<circle clip-path=\"url(#clip230)\" cx=\"348.673\" cy=\"155.698\" r=\"23\" fill=\"#009af9\" fill-rule=\"evenodd\" fill-opacity=\"1\" stroke=\"#000000\" stroke-opacity=\"1\" stroke-width=\"5.12\"/>\n",
       "<path clip-path=\"url(#clip230)\" d=\"M 0 0 M463.681 147.816 L463.681 151.843 Q461.875 150.917 459.931 150.455 Q457.986 149.992 455.903 149.992 Q452.732 149.992 451.135 150.964 Q449.561 151.936 449.561 153.88 Q449.561 155.362 450.695 156.218 Q451.829 157.052 455.255 157.816 L456.713 158.14 Q461.25 159.112 463.148 160.894 Q465.07 162.654 465.07 165.825 Q465.07 169.436 462.199 171.542 Q459.352 173.649 454.352 173.649 Q452.269 173.649 450 173.232 Q447.755 172.839 445.255 172.028 L445.255 167.63 Q447.616 168.857 449.908 169.482 Q452.199 170.084 454.445 170.084 Q457.454 170.084 459.074 169.066 Q460.695 168.024 460.695 166.149 Q460.695 164.413 459.514 163.487 Q458.357 162.561 454.399 161.704 L452.917 161.357 Q448.959 160.524 447.199 158.811 Q445.44 157.075 445.44 154.066 Q445.44 150.408 448.033 148.418 Q450.625 146.427 455.394 146.427 Q457.755 146.427 459.838 146.774 Q461.922 147.121 463.681 147.816 Z\" fill=\"#000000\" fill-rule=\"evenodd\" fill-opacity=\"1\" /><path clip-path=\"url(#clip230)\" d=\"M 0 0 M481.32 159.945 Q476.158 159.945 474.167 161.126 Q472.176 162.306 472.176 165.154 Q472.176 167.422 473.658 168.765 Q475.162 170.084 477.732 170.084 Q481.273 170.084 483.403 167.584 Q485.556 165.061 485.556 160.894 L485.556 159.945 L481.32 159.945 M489.815 158.186 L489.815 172.978 L485.556 172.978 L485.556 169.042 Q484.097 171.403 481.922 172.538 Q479.746 173.649 476.597 173.649 Q472.616 173.649 470.255 171.427 Q467.917 169.181 467.917 165.431 Q467.917 161.056 470.834 158.834 Q473.773 156.612 479.584 156.612 L485.556 156.612 L485.556 156.195 Q485.556 153.255 483.611 151.658 Q481.69 150.038 478.195 150.038 Q475.972 150.038 473.866 150.57 Q471.76 151.103 469.815 152.167 L469.815 148.232 Q472.153 147.33 474.352 146.89 Q476.551 146.427 478.635 146.427 Q484.259 146.427 487.037 149.343 Q489.815 152.26 489.815 158.186 Z\" fill=\"#000000\" fill-rule=\"evenodd\" fill-opacity=\"1\" /><path clip-path=\"url(#clip230)\" d=\"M 0 0 M514.468 152.029 Q516.065 149.158 518.287 147.793 Q520.509 146.427 523.519 146.427 Q527.569 146.427 529.768 149.274 Q531.968 152.098 531.968 157.329 L531.968 172.978 L527.685 172.978 L527.685 157.468 Q527.685 153.742 526.366 151.936 Q525.046 150.13 522.338 150.13 Q519.028 150.13 517.107 152.33 Q515.185 154.529 515.185 158.325 L515.185 172.978 L510.903 172.978 L510.903 157.468 Q510.903 153.718 509.583 151.936 Q508.264 150.13 505.509 150.13 Q502.245 150.13 500.324 152.353 Q498.403 154.552 498.403 158.325 L498.403 172.978 L494.121 172.978 L494.121 147.052 L498.403 147.052 L498.403 151.08 Q499.861 148.695 501.898 147.561 Q503.935 146.427 506.736 146.427 Q509.56 146.427 511.528 147.862 Q513.519 149.297 514.468 152.029 Z\" fill=\"#000000\" fill-rule=\"evenodd\" fill-opacity=\"1\" /><path clip-path=\"url(#clip230)\" d=\"M 0 0 M540.555 169.089 L540.555 182.839 L536.273 182.839 L536.273 147.052 L540.555 147.052 L540.555 150.987 Q541.898 148.672 543.935 147.561 Q545.995 146.427 548.842 146.427 Q553.565 146.427 556.504 150.177 Q559.467 153.927 559.467 160.038 Q559.467 166.149 556.504 169.899 Q553.565 173.649 548.842 173.649 Q545.995 173.649 543.935 172.538 Q541.898 171.403 540.555 169.089 M555.046 160.038 Q555.046 155.339 553.102 152.677 Q551.18 149.992 547.801 149.992 Q544.421 149.992 542.477 152.677 Q540.555 155.339 540.555 160.038 Q540.555 164.737 542.477 167.422 Q544.421 170.084 547.801 170.084 Q551.18 170.084 553.102 167.422 Q555.046 164.737 555.046 160.038 Z\" fill=\"#000000\" fill-rule=\"evenodd\" fill-opacity=\"1\" /><path clip-path=\"url(#clip230)\" d=\"M 0 0 M563.935 136.959 L568.194 136.959 L568.194 172.978 L563.935 172.978 L563.935 136.959 Z\" fill=\"#000000\" fill-rule=\"evenodd\" fill-opacity=\"1\" /><path clip-path=\"url(#clip230)\" d=\"M 0 0 M594.838 158.95 L594.838 161.033 L575.254 161.033 Q575.532 165.431 577.893 167.746 Q580.277 170.038 584.514 170.038 Q586.967 170.038 589.259 169.436 Q591.574 168.834 593.842 167.63 L593.842 171.658 Q591.551 172.63 589.143 173.14 Q586.736 173.649 584.259 173.649 Q578.055 173.649 574.421 170.038 Q570.81 166.427 570.81 160.269 Q570.81 153.904 574.236 150.177 Q577.685 146.427 583.518 146.427 Q588.75 146.427 591.782 149.806 Q594.838 153.163 594.838 158.95 M590.578 157.7 Q590.532 154.205 588.611 152.121 Q586.713 150.038 583.564 150.038 Q580 150.038 577.847 152.052 Q575.717 154.066 575.393 157.723 L590.578 157.7 Z\" fill=\"#000000\" fill-rule=\"evenodd\" fill-opacity=\"1\" /><polyline clip-path=\"url(#clip230)\" style=\"stroke:#0000ff; stroke-width:4; stroke-opacity:1; fill:none\" stroke-dasharray=\"16, 10\" points=\"\n",
       "  276.236,216.178 421.109,216.178 \n",
       "  \"/>\n",
       "<path clip-path=\"url(#clip230)\" d=\"M 0 0 M463.681 208.296 L463.681 212.323 Q461.875 211.397 459.931 210.935 Q457.986 210.472 455.903 210.472 Q452.732 210.472 451.135 211.444 Q449.561 212.416 449.561 214.36 Q449.561 215.842 450.695 216.698 Q451.829 217.532 455.255 218.296 L456.713 218.62 Q461.25 219.592 463.148 221.374 Q465.07 223.134 465.07 226.305 Q465.07 229.916 462.199 232.022 Q459.352 234.129 454.352 234.129 Q452.269 234.129 450 233.712 Q447.755 233.319 445.255 232.508 L445.255 228.11 Q447.616 229.337 449.908 229.962 Q452.199 230.564 454.445 230.564 Q457.454 230.564 459.074 229.546 Q460.695 228.504 460.695 226.629 Q460.695 224.893 459.514 223.967 Q458.357 223.041 454.399 222.184 L452.917 221.837 Q448.959 221.004 447.199 219.291 Q445.44 217.555 445.44 214.546 Q445.44 210.888 448.033 208.898 Q450.625 206.907 455.394 206.907 Q457.755 206.907 459.838 207.254 Q461.922 207.601 463.681 208.296 Z\" fill=\"#000000\" fill-rule=\"evenodd\" fill-opacity=\"1\" /><path clip-path=\"url(#clip230)\" d=\"M 0 0 M469.537 207.532 L473.797 207.532 L473.797 233.458 L469.537 233.458 L469.537 207.532 M469.537 197.439 L473.797 197.439 L473.797 202.833 L469.537 202.833 L469.537 197.439 Z\" fill=\"#000000\" fill-rule=\"evenodd\" fill-opacity=\"1\" /><path clip-path=\"url(#clip230)\" d=\"M 0 0 M499.815 217.809 L499.815 233.458 L495.556 233.458 L495.556 217.948 Q495.556 214.268 494.121 212.439 Q492.685 210.61 489.815 210.61 Q486.366 210.61 484.375 212.81 Q482.384 215.009 482.384 218.805 L482.384 233.458 L478.102 233.458 L478.102 207.532 L482.384 207.532 L482.384 211.56 Q483.912 209.222 485.972 208.064 Q488.056 206.907 490.764 206.907 Q495.232 206.907 497.523 209.685 Q499.815 212.439 499.815 217.809 Z\" fill=\"#000000\" fill-rule=\"evenodd\" fill-opacity=\"1\" /><path clip-path=\"url(#clip230)\" d=\"M 0 0 M514.514 197.486 Q511.412 202.81 509.907 208.018 Q508.403 213.226 508.403 218.573 Q508.403 223.921 509.907 229.175 Q511.435 234.407 514.514 239.708 L510.81 239.708 Q507.338 234.268 505.602 229.013 Q503.889 223.759 503.889 218.573 Q503.889 213.411 505.602 208.18 Q507.315 202.948 510.81 197.486 L514.514 197.486 Z\" fill=\"#000000\" fill-rule=\"evenodd\" fill-opacity=\"1\" /><path clip-path=\"url(#clip230)\" d=\"M 0 0 M540.532 207.532 L531.157 220.147 L541.018 233.458 L535.995 233.458 L528.449 223.272 L520.903 233.458 L515.88 233.458 L525.949 219.893 L516.736 207.532 L521.759 207.532 L528.634 216.768 L535.509 207.532 L540.532 207.532 Z\" fill=\"#000000\" fill-rule=\"evenodd\" fill-opacity=\"1\" /><path clip-path=\"url(#clip230)\" d=\"M 0 0 M544.815 197.486 L548.518 197.486 Q551.991 202.948 553.704 208.18 Q555.44 213.411 555.44 218.573 Q555.44 223.759 553.704 229.013 Q551.991 234.268 548.518 239.708 L544.815 239.708 Q547.893 234.407 549.398 229.175 Q550.926 223.921 550.926 218.573 Q550.926 213.226 549.398 208.018 Q547.893 202.81 544.815 197.486 Z\" fill=\"#000000\" fill-rule=\"evenodd\" fill-opacity=\"1\" /><polyline clip-path=\"url(#clip230)\" style=\"stroke:#ff0000; stroke-width:4; stroke-opacity:1; fill:none\" points=\"\n",
       "  276.236,276.658 421.109,276.658 \n",
       "  \"/>\n",
       "<path clip-path=\"url(#clip230)\" d=\"M 0 0 M464.167 271.947 L464.167 257.919 L468.426 257.919 L468.426 293.938 L464.167 293.938 L464.167 290.049 Q462.824 292.363 460.764 293.498 Q458.727 294.609 455.857 294.609 Q451.158 294.609 448.195 290.859 Q445.255 287.109 445.255 280.998 Q445.255 274.887 448.195 271.137 Q451.158 267.387 455.857 267.387 Q458.727 267.387 460.764 268.521 Q462.824 269.632 464.167 271.947 M449.653 280.998 Q449.653 285.697 451.574 288.382 Q453.519 291.044 456.899 291.044 Q460.278 291.044 462.223 288.382 Q464.167 285.697 464.167 280.998 Q464.167 276.299 462.223 273.637 Q460.278 270.952 456.899 270.952 Q453.519 270.952 451.574 273.637 Q449.653 276.299 449.653 280.998 Z\" fill=\"#000000\" fill-rule=\"evenodd\" fill-opacity=\"1\" /><path clip-path=\"url(#clip230)\" d=\"M 0 0 M495.07 279.91 L495.07 281.993 L475.486 281.993 Q475.764 286.391 478.125 288.706 Q480.509 290.998 484.746 290.998 Q487.199 290.998 489.491 290.396 Q491.806 289.794 494.074 288.59 L494.074 292.618 Q491.783 293.59 489.375 294.1 Q486.968 294.609 484.491 294.609 Q478.287 294.609 474.653 290.998 Q471.042 287.387 471.042 281.229 Q471.042 274.864 474.468 271.137 Q477.917 267.387 483.75 267.387 Q488.982 267.387 492.014 270.766 Q495.07 274.123 495.07 279.91 M490.81 278.66 Q490.764 275.165 488.843 273.081 Q486.945 270.998 483.797 270.998 Q480.232 270.998 478.079 273.012 Q475.949 275.026 475.625 278.683 L490.81 278.66 Z\" fill=\"#000000\" fill-rule=\"evenodd\" fill-opacity=\"1\" /><path clip-path=\"url(#clip230)\" d=\"M 0 0 M516.597 280.674 Q516.597 276.044 514.676 273.498 Q512.778 270.952 509.329 270.952 Q505.903 270.952 503.982 273.498 Q502.083 276.044 502.083 280.674 Q502.083 285.28 503.982 287.826 Q505.903 290.373 509.329 290.373 Q512.778 290.373 514.676 287.826 Q516.597 285.28 516.597 280.674 M520.856 290.72 Q520.856 297.34 517.917 300.558 Q514.977 303.799 508.912 303.799 Q506.667 303.799 504.676 303.451 Q502.685 303.127 500.81 302.433 L500.81 298.289 Q502.685 299.308 504.514 299.794 Q506.343 300.28 508.241 300.28 Q512.431 300.28 514.514 298.081 Q516.597 295.905 516.597 291.484 L516.597 289.377 Q515.278 291.669 513.218 292.803 Q511.157 293.938 508.287 293.938 Q503.519 293.938 500.602 290.303 Q497.685 286.669 497.685 280.674 Q497.685 274.655 500.602 271.021 Q503.519 267.387 508.287 267.387 Q511.157 267.387 513.218 268.521 Q515.278 269.655 516.597 271.947 L516.597 268.012 L520.856 268.012 L520.856 290.72 Z\" fill=\"#000000\" fill-rule=\"evenodd\" fill-opacity=\"1\" /><path clip-path=\"url(#clip230)\" d=\"M 0 0 M540.347 271.993 Q539.63 271.577 538.773 271.391 Q537.94 271.183 536.921 271.183 Q533.31 271.183 531.366 273.544 Q529.444 275.882 529.444 280.28 L529.444 293.938 L525.162 293.938 L525.162 268.012 L529.444 268.012 L529.444 272.04 Q530.787 269.678 532.94 268.544 Q535.093 267.387 538.171 267.387 Q538.611 267.387 539.143 267.456 Q539.676 267.503 540.324 267.618 L540.347 271.993 Z\" fill=\"#000000\" fill-rule=\"evenodd\" fill-opacity=\"1\" /><path clip-path=\"url(#clip230)\" d=\"M 0 0 M565.949 279.91 L565.949 281.993 L546.366 281.993 Q546.643 286.391 549.004 288.706 Q551.389 290.998 555.625 290.998 Q558.079 290.998 560.37 290.396 Q562.685 289.794 564.953 288.59 L564.953 292.618 Q562.662 293.59 560.254 294.1 Q557.847 294.609 555.37 294.609 Q549.167 294.609 545.532 290.998 Q541.921 287.387 541.921 281.229 Q541.921 274.864 545.347 271.137 Q548.796 267.387 554.629 267.387 Q559.861 267.387 562.893 270.766 Q565.949 274.123 565.949 279.91 M561.69 278.66 Q561.643 275.165 559.722 273.081 Q557.824 270.998 554.676 270.998 Q551.111 270.998 548.958 273.012 Q546.829 275.026 546.505 278.683 L561.69 278.66 Z\" fill=\"#000000\" fill-rule=\"evenodd\" fill-opacity=\"1\" /><path clip-path=\"url(#clip230)\" d=\"M 0 0 M592.592 279.91 L592.592 281.993 L573.009 281.993 Q573.287 286.391 575.648 288.706 Q578.032 290.998 582.268 290.998 Q584.722 290.998 587.014 290.396 Q589.328 289.794 591.597 288.59 L591.597 292.618 Q589.305 293.59 586.898 294.1 Q584.49 294.609 582.014 294.609 Q575.81 294.609 572.176 290.998 Q568.565 287.387 568.565 281.229 Q568.565 274.864 571.99 271.137 Q575.44 267.387 581.273 267.387 Q586.504 267.387 589.537 270.766 Q592.592 274.123 592.592 279.91 M588.333 278.66 Q588.287 275.165 586.365 273.081 Q584.467 270.998 581.319 270.998 Q577.754 270.998 575.602 273.012 Q573.472 275.026 573.148 278.683 L588.333 278.66 Z\" fill=\"#000000\" fill-rule=\"evenodd\" fill-opacity=\"1\" /><path clip-path=\"url(#clip230)\" d=\"M 0 0 M594.907 279.053 L607.384 279.053 L607.384 282.85 L594.907 282.85 L594.907 279.053 Z\" fill=\"#000000\" fill-rule=\"evenodd\" fill-opacity=\"1\" /><path clip-path=\"url(#clip230)\" d=\"M 0 0 M626.62 275.303 Q629.976 276.021 631.851 278.289 Q633.749 280.558 633.749 283.891 Q633.749 289.007 630.231 291.808 Q626.712 294.609 620.231 294.609 Q618.055 294.609 615.74 294.169 Q613.449 293.752 610.995 292.896 L610.995 288.382 Q612.939 289.516 615.254 290.095 Q617.569 290.674 620.092 290.674 Q624.49 290.674 626.782 288.938 Q629.097 287.201 629.097 283.891 Q629.097 280.836 626.944 279.123 Q624.814 277.387 620.995 277.387 L616.967 277.387 L616.967 273.544 L621.18 273.544 Q624.629 273.544 626.458 272.178 Q628.286 270.79 628.286 268.197 Q628.286 265.535 626.388 264.123 Q624.513 262.688 620.995 262.688 Q619.074 262.688 616.875 263.104 Q614.675 263.521 612.037 264.401 L612.037 260.234 Q614.699 259.493 617.013 259.123 Q619.351 258.753 621.412 258.753 Q626.736 258.753 629.837 261.183 Q632.939 263.59 632.939 267.711 Q632.939 270.581 631.296 272.572 Q629.652 274.54 626.62 275.303 Z\" fill=\"#000000\" fill-rule=\"evenodd\" fill-opacity=\"1\" /><path clip-path=\"url(#clip230)\" d=\"M 0 0 M657.407 290.049 L657.407 303.799 L653.124 303.799 L653.124 268.012 L657.407 268.012 L657.407 271.947 Q658.749 269.632 660.786 268.521 Q662.846 267.387 665.694 267.387 Q670.416 267.387 673.356 271.137 Q676.319 274.887 676.319 280.998 Q676.319 287.109 673.356 290.859 Q670.416 294.609 665.694 294.609 Q662.846 294.609 660.786 293.498 Q658.749 292.363 657.407 290.049 M671.897 280.998 Q671.897 276.299 669.953 273.637 Q668.032 270.952 664.652 270.952 Q661.272 270.952 659.328 273.637 Q657.407 276.299 657.407 280.998 Q657.407 285.697 659.328 288.382 Q661.272 291.044 664.652 291.044 Q668.032 291.044 669.953 288.382 Q671.897 285.697 671.897 280.998 Z\" fill=\"#000000\" fill-rule=\"evenodd\" fill-opacity=\"1\" /><path clip-path=\"url(#clip230)\" d=\"M 0 0 M690.832 270.998 Q687.407 270.998 685.416 273.683 Q683.425 276.345 683.425 280.998 Q683.425 285.651 685.393 288.336 Q687.383 290.998 690.832 290.998 Q694.235 290.998 696.226 288.313 Q698.217 285.627 698.217 280.998 Q698.217 276.391 696.226 273.706 Q694.235 270.998 690.832 270.998 M690.832 267.387 Q696.388 267.387 699.559 270.998 Q702.731 274.609 702.731 280.998 Q702.731 287.364 699.559 290.998 Q696.388 294.609 690.832 294.609 Q685.254 294.609 682.082 290.998 Q678.934 287.364 678.934 280.998 Q678.934 274.609 682.082 270.998 Q685.254 267.387 690.832 267.387 Z\" fill=\"#000000\" fill-rule=\"evenodd\" fill-opacity=\"1\" /><path clip-path=\"url(#clip230)\" d=\"M 0 0 M707.198 257.919 L711.457 257.919 L711.457 293.938 L707.198 293.938 L707.198 257.919 Z\" fill=\"#000000\" fill-rule=\"evenodd\" fill-opacity=\"1\" /><path clip-path=\"url(#clip230)\" d=\"M 0 0 M726.712 296.345 Q724.906 300.975 723.193 302.387 Q721.48 303.799 718.61 303.799 L715.207 303.799 L715.207 300.234 L717.707 300.234 Q719.467 300.234 720.439 299.4 Q721.411 298.567 722.592 295.465 L723.355 293.521 L712.869 268.012 L717.383 268.012 L725.485 288.289 L733.587 268.012 L738.101 268.012 L726.712 296.345 Z\" fill=\"#000000\" fill-rule=\"evenodd\" fill-opacity=\"1\" /><path clip-path=\"url(#clip230)\" d=\"M 0 0 M764.119 278.289 L764.119 293.938 L759.86 293.938 L759.86 278.428 Q759.86 274.748 758.425 272.919 Q756.989 271.09 754.119 271.09 Q750.67 271.09 748.679 273.29 Q746.689 275.489 746.689 279.285 L746.689 293.938 L742.406 293.938 L742.406 268.012 L746.689 268.012 L746.689 272.04 Q748.216 269.702 750.277 268.544 Q752.36 267.387 755.068 267.387 Q759.536 267.387 761.827 270.165 Q764.119 272.919 764.119 278.289 Z\" fill=\"#000000\" fill-rule=\"evenodd\" fill-opacity=\"1\" /><path clip-path=\"url(#clip230)\" d=\"M 0 0 M778.633 270.998 Q775.207 270.998 773.216 273.683 Q771.226 276.345 771.226 280.998 Q771.226 285.651 773.193 288.336 Q775.184 290.998 778.633 290.998 Q782.036 290.998 784.026 288.313 Q786.017 285.627 786.017 280.998 Q786.017 276.391 784.026 273.706 Q782.036 270.998 778.633 270.998 M778.633 267.387 Q784.188 267.387 787.36 270.998 Q790.531 274.609 790.531 280.998 Q790.531 287.364 787.36 290.998 Q784.188 294.609 778.633 294.609 Q773.054 294.609 769.883 290.998 Q766.735 287.364 766.735 280.998 Q766.735 274.609 769.883 270.998 Q773.054 267.387 778.633 267.387 Z\" fill=\"#000000\" fill-rule=\"evenodd\" fill-opacity=\"1\" /><path clip-path=\"url(#clip230)\" d=\"M 0 0 M815.184 272.989 Q816.781 270.118 819.003 268.753 Q821.225 267.387 824.235 267.387 Q828.285 267.387 830.484 270.234 Q832.684 273.058 832.684 278.289 L832.684 293.938 L828.401 293.938 L828.401 278.428 Q828.401 274.702 827.082 272.896 Q825.762 271.09 823.054 271.09 Q819.744 271.09 817.822 273.29 Q815.901 275.489 815.901 279.285 L815.901 293.938 L811.619 293.938 L811.619 278.428 Q811.619 274.678 810.299 272.896 Q808.98 271.09 806.225 271.09 Q802.961 271.09 801.04 273.313 Q799.119 275.512 799.119 279.285 L799.119 293.938 L794.837 293.938 L794.837 268.012 L799.119 268.012 L799.119 272.04 Q800.577 269.655 802.614 268.521 Q804.651 267.387 807.452 267.387 Q810.276 267.387 812.244 268.822 Q814.235 270.257 815.184 272.989 Z\" fill=\"#000000\" fill-rule=\"evenodd\" fill-opacity=\"1\" /><path clip-path=\"url(#clip230)\" d=\"M 0 0 M837.151 268.012 L841.41 268.012 L841.41 293.938 L837.151 293.938 L837.151 268.012 M837.151 257.919 L841.41 257.919 L841.41 263.313 L837.151 263.313 L837.151 257.919 Z\" fill=\"#000000\" fill-rule=\"evenodd\" fill-opacity=\"1\" /><path clip-path=\"url(#clip230)\" d=\"M 0 0 M857.66 280.905 Q852.498 280.905 850.508 282.086 Q848.517 283.266 848.517 286.114 Q848.517 288.382 849.998 289.725 Q851.503 291.044 854.072 291.044 Q857.614 291.044 859.744 288.544 Q861.896 286.021 861.896 281.854 L861.896 280.905 L857.66 280.905 M866.156 279.146 L866.156 293.938 L861.896 293.938 L861.896 290.002 Q860.438 292.363 858.262 293.498 Q856.086 294.609 852.938 294.609 Q848.957 294.609 846.595 292.387 Q844.258 290.141 844.258 286.391 Q844.258 282.016 847.174 279.794 Q850.114 277.572 855.924 277.572 L861.896 277.572 L861.896 277.155 Q861.896 274.215 859.952 272.618 Q858.031 270.998 854.535 270.998 Q852.313 270.998 850.207 271.53 Q848.1 272.063 846.156 273.127 L846.156 269.192 Q848.494 268.29 850.693 267.85 Q852.892 267.387 854.975 267.387 Q860.6 267.387 863.378 270.303 Q866.156 273.22 866.156 279.146 Z\" fill=\"#000000\" fill-rule=\"evenodd\" fill-opacity=\"1\" /><path clip-path=\"url(#clip230)\" d=\"M 0 0 M870.623 257.919 L874.882 257.919 L874.882 293.938 L870.623 293.938 L870.623 257.919 Z\" fill=\"#000000\" fill-rule=\"evenodd\" fill-opacity=\"1\" /></svg>\n"
      ]
     },
     "execution_count": 61,
     "metadata": {},
     "output_type": "execute_result"
    }
   ],
   "source": [
    "@teval (:block, \n",
    "    (:using, (:., :Plots)), \n",
    "    (:(=), :n, 20), \n",
    "    (:(=), :x, (:range, (:parameters, (:kw, :length, 20)), (:-, :π), :π)), \n",
    "    (:(=), :noise, (:*, 0.3, (:randn, :n))), \n",
    "    (:(=), :y, (:+, (:., :sin, (:tuple, :x)), :noise)), \n",
    "    (:(=), :X, \n",
    "        (:hcat, (:..., (:generator, (:call, :.^, :x, :k), (:(=), :k, (:(:), 0, 3)))))), \n",
    "    (:(=), :b, (:\\, :X, :y)), \n",
    "    (:(=), (:call, :f, :x), \n",
    "        (:sum, (:generator, (:*, (:ref, :b, (:+, :k, 1)), (:^, :x, :k)), \n",
    "            (:(=), :k, (:(:), 0, 3))))), \n",
    "    (:(=), :xs, (:range, (:parameters, (:kw, :length, 400)), (:-, :π), :π)), \n",
    "    (:plot, (:parameters, (:kw, :legend, QuoteNode(:topleft)))), \n",
    "    (:scatter!, (:parameters, (:kw, :label, \"sample\")), :x, :y), \n",
    "    (:plot!, (:parameters, \n",
    "            (:kw, :label, \"sin(x)\"), \n",
    "            (:kw, :color, QuoteNode(:blue)), \n",
    "            (:kw, :ls, QuoteNode(:dash))), \n",
    "        :xs, (:., :sin, (:tuple, :xs))), \n",
    "    (:plot!, (:parameters, \n",
    "            (:kw, :label, \"degree-3 polynomial\"), \n",
    "            (:kw, :color, QuoteNode(:red)), \n",
    "            (:kw, :lw, 2)), \n",
    "        :xs, (:., :f, (:tuple, :xs))))"
   ]
  },
  {
   "cell_type": "code",
   "execution_count": 62,
   "metadata": {},
   "outputs": [
    {
     "data": {
      "text/markdown": [
       "```julia\n",
       "begin\n",
       "    using Plots\n",
       "    n = 20\n",
       "    x = range(-π, π; length = 20)\n",
       "    noise = 0.3 * randn(n)\n",
       "    y = sin.(x) + noise\n",
       "    X = hcat((x .^ k for k = 0:3)...)\n",
       "    b = X \\ y\n",
       "    f(x) = sum((b[k + 1] * x ^ k for k = 0:3))\n",
       "    xs = range(-π, π; length = 400)\n",
       "    plot(; legend = :topleft)\n",
       "    scatter!(x, y; label = \"sample\")\n",
       "    plot!(xs, sin.(xs); label = \"sin(x)\", color = :blue, ls = :dash)\n",
       "    plot!(xs, f.(xs); label = \"degree-3 polynomial\", color = :red, lw = 2)\n",
       "end\n",
       "```"
      ]
     },
     "metadata": {},
     "output_type": "display_data"
    }
   ],
   "source": [
    "(:block, \n",
    "    (:using, (:., :Plots)), \n",
    "    (:(=), :n, 20), \n",
    "    (:(=), :x, (:range, (:parameters, (:kw, :length, 20)), (:-, :π), :π)), \n",
    "    (:(=), :noise, (:*, 0.3, (:randn, :n))), \n",
    "    (:(=), :y, (:+, (:., :sin, (:tuple, :x)), :noise)), \n",
    "    (:(=), :X, \n",
    "        (:hcat, (:..., (:generator, (:call, :.^, :x, :k), (:(=), :k, (:(:), 0, 3)))))), \n",
    "    (:(=), :b, (:\\, :X, :y)), \n",
    "    (:(=), (:call, :f, :x), \n",
    "        (:sum, (:generator, (:*, (:ref, :b, (:+, :k, 1)), (:^, :x, :k)), \n",
    "            (:(=), :k, (:(:), 0, 3))))), \n",
    "    (:(=), :xs, (:range, (:parameters, (:kw, :length, 400)), (:-, :π), :π)), \n",
    "    (:plot, (:parameters, (:kw, :legend, QuoteNode(:topleft)))), \n",
    "    (:scatter!, (:parameters, (:kw, :label, \"sample\")), :x, :y), \n",
    "    (:plot!, (:parameters, \n",
    "            (:kw, :label, \"sin(x)\"), \n",
    "            (:kw, :color, QuoteNode(:blue)), \n",
    "            (:kw, :ls, QuoteNode(:dash))), \n",
    "        :xs, (:., :sin, (:tuple, :xs))), \n",
    "    (:plot!, (:parameters, \n",
    "            (:kw, :label, \"degree-3 polynomial\"), \n",
    "            (:kw, :color, QuoteNode(:red)), \n",
    "            (:kw, :lw, 2)), \n",
    "        :xs, (:., :f, (:tuple, :xs)))) |> texpr2expr |> \n",
    "x -> display(\"text/markdown\", \"```julia\\n$x\\n```\")"
   ]
  },
  {
   "cell_type": "markdown",
   "metadata": {},
   "source": [
    "## Documents"
   ]
  },
  {
   "cell_type": "code",
   "execution_count": 63,
   "metadata": {},
   "outputs": [
    {
     "data": {
      "text/latex": [
       "\\begin{verbatim}\n",
       "MetaUtils\n",
       "\\end{verbatim}\n",
       "contains utilities for metaprogramming in Julia.\n",
       "\n",
       "\\begin{verbatim}\n",
       "export @show_sexpr, \n",
       "    @show_tree, \n",
       "    print_tree, \n",
       "    show_expr, @show_expr, \n",
       "    show_texpr, @show_texpr, \n",
       "    texpr2expr, teval, @teval\n",
       "\\end{verbatim}\n"
      ],
      "text/markdown": [
       "```\n",
       "MetaUtils\n",
       "```\n",
       "\n",
       "contains utilities for metaprogramming in Julia.\n",
       "\n",
       "```julia\n",
       "export @show_sexpr, \n",
       "    @show_tree, \n",
       "    print_tree, \n",
       "    show_expr, @show_expr, \n",
       "    show_texpr, @show_texpr, \n",
       "    texpr2expr, teval, @teval\n",
       "```\n"
      ],
      "text/plain": [
       "\u001b[36m  MetaUtils\u001b[39m\n",
       "\n",
       "  contains utilities for metaprogramming in Julia.\n",
       "\n",
       "\u001b[36m  export @show_sexpr, \u001b[39m\n",
       "\u001b[36m      @show_tree, \u001b[39m\n",
       "\u001b[36m      print_tree, \u001b[39m\n",
       "\u001b[36m      show_expr, @show_expr, \u001b[39m\n",
       "\u001b[36m      show_texpr, @show_texpr, \u001b[39m\n",
       "\u001b[36m      texpr2expr, teval, @teval\u001b[39m"
      ]
     },
     "execution_count": 63,
     "metadata": {},
     "output_type": "execute_result"
    }
   ],
   "source": [
    "@doc MetaUtils"
   ]
  },
  {
   "cell_type": "code",
   "execution_count": 64,
   "metadata": {},
   "outputs": [
    {
     "data": {
      "text/latex": [
       "\\begin{verbatim}\n",
       "@show_sexpr(expr, linenums=false)\n",
       "\\end{verbatim}\n",
       "shows the lisp style S-expression of \\texttt{expr} and prints the line number nodes if \\texttt{linenums} is true.  This is the macro version of \\texttt{Meta.show\\_sexpr}.\n",
       "\n",
       "\\subsection{Example}\n",
       "\\begin{verbatim}\n",
       "julia> @show_sexpr 2x+1\n",
       "(:call, :+, (:call, :*, 2, :x), 1)\n",
       "\\end{verbatim}\n",
       "\\texttt{teval} function can evaluate the output of \\texttt{@show\\_sexpr}. \n",
       "\n",
       "\\begin{verbatim}\n",
       "julia> x = 10; (:call, :+, (:call, :*, 2, :x), 1) |> teval\n",
       "21\n",
       "\\end{verbatim}\n"
      ],
      "text/markdown": [
       "```\n",
       "@show_sexpr(expr, linenums=false)\n",
       "```\n",
       "\n",
       "shows the lisp style S-expression of `expr` and prints the line number nodes if `linenums` is true.  This is the macro version of `Meta.show_sexpr`.\n",
       "\n",
       "## Example\n",
       "\n",
       "```julia\n",
       "julia> @show_sexpr 2x+1\n",
       "(:call, :+, (:call, :*, 2, :x), 1)\n",
       "```\n",
       "\n",
       "`teval` function can evaluate the output of `@show_sexpr`. \n",
       "\n",
       "```julia\n",
       "julia> x = 10; (:call, :+, (:call, :*, 2, :x), 1) |> teval\n",
       "21\n",
       "```\n"
      ],
      "text/plain": [
       "\u001b[36m  @show_sexpr(expr, linenums=false)\u001b[39m\n",
       "\n",
       "  shows the lisp style S-expression of \u001b[36mexpr\u001b[39m and prints the line number nodes\n",
       "  if \u001b[36mlinenums\u001b[39m is true. This is the macro version of \u001b[36mMeta.show_sexpr\u001b[39m.\n",
       "\n",
       "\u001b[1m  Example\u001b[22m\n",
       "\u001b[1m  =========\u001b[22m\n",
       "\n",
       "\u001b[36m  julia> @show_sexpr 2x+1\u001b[39m\n",
       "\u001b[36m  (:call, :+, (:call, :*, 2, :x), 1)\u001b[39m\n",
       "\n",
       "  \u001b[36mteval\u001b[39m function can evaluate the output of \u001b[36m@show_sexpr\u001b[39m.\n",
       "\n",
       "\u001b[36m  julia> x = 10; (:call, :+, (:call, :*, 2, :x), 1) |> teval\u001b[39m\n",
       "\u001b[36m  21\u001b[39m"
      ]
     },
     "execution_count": 64,
     "metadata": {},
     "output_type": "execute_result"
    }
   ],
   "source": [
    "@doc @show_sexpr"
   ]
  },
  {
   "cell_type": "code",
   "execution_count": 65,
   "metadata": {},
   "outputs": [
    {
     "data": {
      "text/latex": [
       "\\begin{verbatim}\n",
       "@show_tree(expr, maxdepth=10, linenums=false)\n",
       "\\end{verbatim}\n",
       "shows the tree form of the expression \\texttt{expr} with maxdepth and prints the line number nodes if \\texttt{linenums} is true.\n",
       "\n",
       "\\subsection{Example}\n",
       "\\begin{verbatim}\n",
       "julia> @show_tree 2x+1\n",
       ":call\n",
       "├─ :+\n",
       "├─ :call\n",
       "│  ├─ :*\n",
       "│  ├─ 2\n",
       "│  └─ :x\n",
       "└─ 1\n",
       "\\end{verbatim}\n"
      ],
      "text/markdown": [
       "```\n",
       "@show_tree(expr, maxdepth=10, linenums=false)\n",
       "```\n",
       "\n",
       "shows the tree form of the expression `expr` with maxdepth and prints the line number nodes if `linenums` is true.\n",
       "\n",
       "## Example\n",
       "\n",
       "```julia\n",
       "julia> @show_tree 2x+1\n",
       ":call\n",
       "├─ :+\n",
       "├─ :call\n",
       "│  ├─ :*\n",
       "│  ├─ 2\n",
       "│  └─ :x\n",
       "└─ 1\n",
       "```\n"
      ],
      "text/plain": [
       "\u001b[36m  @show_tree(expr, maxdepth=10, linenums=false)\u001b[39m\n",
       "\n",
       "  shows the tree form of the expression \u001b[36mexpr\u001b[39m with maxdepth and prints the line\n",
       "  number nodes if \u001b[36mlinenums\u001b[39m is true.\n",
       "\n",
       "\u001b[1m  Example\u001b[22m\n",
       "\u001b[1m  =========\u001b[22m\n",
       "\n",
       "\u001b[36m  julia> @show_tree 2x+1\u001b[39m\n",
       "\u001b[36m  :call\u001b[39m\n",
       "\u001b[36m  ├─ :+\u001b[39m\n",
       "\u001b[36m  ├─ :call\u001b[39m\n",
       "\u001b[36m  │  ├─ :*\u001b[39m\n",
       "\u001b[36m  │  ├─ 2\u001b[39m\n",
       "\u001b[36m  │  └─ :x\u001b[39m\n",
       "\u001b[36m  └─ 1\u001b[39m"
      ]
     },
     "execution_count": 65,
     "metadata": {},
     "output_type": "execute_result"
    }
   ],
   "source": [
    "@doc @show_tree"
   ]
  },
  {
   "cell_type": "code",
   "execution_count": 66,
   "metadata": {},
   "outputs": [
    {
     "data": {
      "text/latex": [
       "\\begin{verbatim}\n",
       "print_tree(tree; kwargs...)\n",
       "print_tree(io::IO, tree; kwargs...)\n",
       "print_tree(f::Function, io::IO, tree; kwargs...)\n",
       "\\end{verbatim}\n",
       "Print a text representation of \\texttt{tree} to the given \\texttt{io} object.\n",
       "\n",
       "\\section{Arguments}\n",
       "\\begin{itemize}\n",
       "\\item \\texttt{f::Function} - custom implementation of \\href{@ref}{\\texttt{printnode}} to use. Should have the signature \\texttt{f(io::IO, node)}.\n",
       "\n",
       "\n",
       "\\item \\texttt{maxdepth::Integer = 5} - truncate printing of subtrees at this depth.\n",
       "\n",
       "\n",
       "\\item \\texttt{indicate\\_truncation::Bool = true} - print a vertical ellipsis character beneath truncated nodes.\n",
       "\n",
       "\n",
       "\\item \\texttt{charset::TreeCharSet} - \\href{@ref}{\\texttt{TreeCharSet}} to use to print branches.\n",
       "\n",
       "\\end{itemize}\n",
       "\\section{Examples}\n",
       "\\begin{verbatim}\n",
       "julia> print_tree(stdout, Dict(\"a\"=>\"b\",\"b\"=>['c','d']))\n",
       "Dict{String,Any}(\"b\"=>['c','d'],\"a\"=>\"b\")\n",
       "├─ b\n",
       "│  ├─ c\n",
       "│  └─ d\n",
       "└─ a\n",
       "   └─ b\n",
       "\n",
       "julia> print_tree(stdout, '0'=>'1'=>'2'=>'3', 2)\n",
       "'0'\n",
       "└─ '1'\n",
       "    └─ '2'\n",
       "        ⋮\n",
       "\n",
       "julia> print_tree(stdout, Dict(\"a\"=>\"b\",\"b\"=>['c','d']);\n",
       "        charset = TreeCharSet('+','\\\\','|',\"--\",\"⋮\"))\n",
       "Dict{String,Any}(\"b\"=>['c','d'],\"a\"=>\"b\")\n",
       "+-- b\n",
       "|   +-- c\n",
       "|   \\-- d\n",
       "\\-- a\n",
       "   \\-- b\n",
       "\\end{verbatim}\n",
       "\\begin{verbatim}\n",
       "print_tree(T::Type; kwargs...)\n",
       "\\end{verbatim}\n",
       "prints the subtree of the type \\texttt{T}.\n",
       "\n",
       "\\subsection{Example}\n",
       "\\begin{verbatim}\n",
       "julia> print_tree(AbstractRange)\n",
       "AbstractRange\n",
       "├─ LinRange\n",
       "├─ OrdinalRange\n",
       "│  ├─ AbstractUnitRange\n",
       "│  │  ├─ IdentityUnitRange\n",
       "│  │  ├─ OneTo\n",
       "│  │  ├─ Slice\n",
       "│  │  └─ UnitRange\n",
       "│  └─ StepRange\n",
       "└─ StepRangeLen\n",
       "\\end{verbatim}\n"
      ],
      "text/markdown": [
       "```\n",
       "print_tree(tree; kwargs...)\n",
       "print_tree(io::IO, tree; kwargs...)\n",
       "print_tree(f::Function, io::IO, tree; kwargs...)\n",
       "```\n",
       "\n",
       "Print a text representation of `tree` to the given `io` object.\n",
       "\n",
       "# Arguments\n",
       "\n",
       "  * `f::Function` - custom implementation of [`printnode`](@ref) to use. Should have the signature `f(io::IO, node)`.\n",
       "  * `maxdepth::Integer = 5` - truncate printing of subtrees at this depth.\n",
       "  * `indicate_truncation::Bool = true` - print a vertical ellipsis character beneath truncated nodes.\n",
       "  * `charset::TreeCharSet` - [`TreeCharSet`](@ref) to use to print branches.\n",
       "\n",
       "# Examples\n",
       "\n",
       "```julia\n",
       "julia> print_tree(stdout, Dict(\"a\"=>\"b\",\"b\"=>['c','d']))\n",
       "Dict{String,Any}(\"b\"=>['c','d'],\"a\"=>\"b\")\n",
       "├─ b\n",
       "│  ├─ c\n",
       "│  └─ d\n",
       "└─ a\n",
       "   └─ b\n",
       "\n",
       "julia> print_tree(stdout, '0'=>'1'=>'2'=>'3', 2)\n",
       "'0'\n",
       "└─ '1'\n",
       "    └─ '2'\n",
       "        ⋮\n",
       "\n",
       "julia> print_tree(stdout, Dict(\"a\"=>\"b\",\"b\"=>['c','d']);\n",
       "        charset = TreeCharSet('+','\\\\','|',\"--\",\"⋮\"))\n",
       "Dict{String,Any}(\"b\"=>['c','d'],\"a\"=>\"b\")\n",
       "+-- b\n",
       "|   +-- c\n",
       "|   \\-- d\n",
       "\\-- a\n",
       "   \\-- b\n",
       "```\n",
       "\n",
       "```\n",
       "print_tree(T::Type; kwargs...)\n",
       "```\n",
       "\n",
       "prints the subtree of the type `T`.\n",
       "\n",
       "## Example\n",
       "\n",
       "```julia\n",
       "julia> print_tree(AbstractRange)\n",
       "AbstractRange\n",
       "├─ LinRange\n",
       "├─ OrdinalRange\n",
       "│  ├─ AbstractUnitRange\n",
       "│  │  ├─ IdentityUnitRange\n",
       "│  │  ├─ OneTo\n",
       "│  │  ├─ Slice\n",
       "│  │  └─ UnitRange\n",
       "│  └─ StepRange\n",
       "└─ StepRangeLen\n",
       "```\n"
      ],
      "text/plain": [
       "\u001b[36m  print_tree(tree; kwargs...)\u001b[39m\n",
       "\u001b[36m  print_tree(io::IO, tree; kwargs...)\u001b[39m\n",
       "\u001b[36m  print_tree(f::Function, io::IO, tree; kwargs...)\u001b[39m\n",
       "\n",
       "  Print a text representation of \u001b[36mtree\u001b[39m to the given \u001b[36mio\u001b[39m object.\n",
       "\n",
       "\u001b[1m  Arguments\u001b[22m\n",
       "\u001b[1m  ≡≡≡≡≡≡≡≡≡≡≡\u001b[22m\n",
       "\n",
       "    •  \u001b[36mf::Function\u001b[39m - custom implementation of \u001b[36mprintnode\u001b[39m to use. Should have\n",
       "       the signature \u001b[36mf(io::IO, node)\u001b[39m.\n",
       "\n",
       "    •  \u001b[36mmaxdepth::Integer = 5\u001b[39m - truncate printing of subtrees at this depth.\n",
       "\n",
       "    •  \u001b[36mindicate_truncation::Bool = true\u001b[39m - print a vertical ellipsis character\n",
       "       beneath truncated nodes.\n",
       "\n",
       "    •  \u001b[36mcharset::TreeCharSet\u001b[39m - \u001b[36mTreeCharSet\u001b[39m to use to print branches.\n",
       "\n",
       "\u001b[1m  Examples\u001b[22m\n",
       "\u001b[1m  ≡≡≡≡≡≡≡≡≡≡\u001b[22m\n",
       "\n",
       "\u001b[36m  julia> print_tree(stdout, Dict(\"a\"=>\"b\",\"b\"=>['c','d']))\u001b[39m\n",
       "\u001b[36m  Dict{String,Any}(\"b\"=>['c','d'],\"a\"=>\"b\")\u001b[39m\n",
       "\u001b[36m  ├─ b\u001b[39m\n",
       "\u001b[36m  │  ├─ c\u001b[39m\n",
       "\u001b[36m  │  └─ d\u001b[39m\n",
       "\u001b[36m  └─ a\u001b[39m\n",
       "\u001b[36m     └─ b\u001b[39m\n",
       "\u001b[36m  \u001b[39m\n",
       "\u001b[36m  julia> print_tree(stdout, '0'=>'1'=>'2'=>'3', 2)\u001b[39m\n",
       "\u001b[36m  '0'\u001b[39m\n",
       "\u001b[36m  └─ '1'\u001b[39m\n",
       "\u001b[36m      └─ '2'\u001b[39m\n",
       "\u001b[36m          ⋮\u001b[39m\n",
       "\u001b[36m  \u001b[39m\n",
       "\u001b[36m  julia> print_tree(stdout, Dict(\"a\"=>\"b\",\"b\"=>['c','d']);\u001b[39m\n",
       "\u001b[36m          charset = TreeCharSet('+','\\\\','|',\"--\",\"⋮\"))\u001b[39m\n",
       "\u001b[36m  Dict{String,Any}(\"b\"=>['c','d'],\"a\"=>\"b\")\u001b[39m\n",
       "\u001b[36m  +-- b\u001b[39m\n",
       "\u001b[36m  |   +-- c\u001b[39m\n",
       "\u001b[36m  |   \\-- d\u001b[39m\n",
       "\u001b[36m  \\-- a\u001b[39m\n",
       "\u001b[36m     \\-- b\u001b[39m\n",
       "\n",
       "\u001b[36m  print_tree(T::Type; kwargs...)\u001b[39m\n",
       "\n",
       "  prints the subtree of the type \u001b[36mT\u001b[39m.\n",
       "\n",
       "\u001b[1m  Example\u001b[22m\n",
       "\u001b[1m  =========\u001b[22m\n",
       "\n",
       "\u001b[36m  julia> print_tree(AbstractRange)\u001b[39m\n",
       "\u001b[36m  AbstractRange\u001b[39m\n",
       "\u001b[36m  ├─ LinRange\u001b[39m\n",
       "\u001b[36m  ├─ OrdinalRange\u001b[39m\n",
       "\u001b[36m  │  ├─ AbstractUnitRange\u001b[39m\n",
       "\u001b[36m  │  │  ├─ IdentityUnitRange\u001b[39m\n",
       "\u001b[36m  │  │  ├─ OneTo\u001b[39m\n",
       "\u001b[36m  │  │  ├─ Slice\u001b[39m\n",
       "\u001b[36m  │  │  └─ UnitRange\u001b[39m\n",
       "\u001b[36m  │  └─ StepRange\u001b[39m\n",
       "\u001b[36m  └─ StepRangeLen\u001b[39m"
      ]
     },
     "execution_count": 66,
     "metadata": {},
     "output_type": "execute_result"
    }
   ],
   "source": [
    "@doc print_tree"
   ]
  },
  {
   "cell_type": "code",
   "execution_count": 67,
   "metadata": {},
   "outputs": [
    {
     "data": {
      "text/latex": [
       "\\begin{verbatim}\n",
       "show_expr([io::IO,], ex)\n",
       "\\end{verbatim}\n",
       "shows expression \\texttt{ex} as a Julia style expression.\n",
       "\n",
       "\\section{Examples}\n",
       "\\begin{verbatim}\n",
       "julia> show_expr(:(f(x, g(y, z))))\n",
       "Expr(:call, :f, :x, \n",
       "    Expr(:call, :g, :y, :z))\n",
       "\\end{verbatim}\n"
      ],
      "text/markdown": [
       "```\n",
       "show_expr([io::IO,], ex)\n",
       "```\n",
       "\n",
       "shows expression `ex` as a Julia style expression.\n",
       "\n",
       "# Examples\n",
       "\n",
       "```julia\n",
       "julia> show_expr(:(f(x, g(y, z))))\n",
       "Expr(:call, :f, :x, \n",
       "    Expr(:call, :g, :y, :z))\n",
       "```\n"
      ],
      "text/plain": [
       "\u001b[36m  show_expr([io::IO,], ex)\u001b[39m\n",
       "\n",
       "  shows expression \u001b[36mex\u001b[39m as a Julia style expression.\n",
       "\n",
       "\u001b[1m  Examples\u001b[22m\n",
       "\u001b[1m  ≡≡≡≡≡≡≡≡≡≡\u001b[22m\n",
       "\n",
       "\u001b[36m  julia> show_expr(:(f(x, g(y, z))))\u001b[39m\n",
       "\u001b[36m  Expr(:call, :f, :x, \u001b[39m\n",
       "\u001b[36m      Expr(:call, :g, :y, :z))\u001b[39m"
      ]
     },
     "execution_count": 67,
     "metadata": {},
     "output_type": "execute_result"
    }
   ],
   "source": [
    "@doc show_expr"
   ]
  },
  {
   "cell_type": "code",
   "execution_count": 68,
   "metadata": {},
   "outputs": [
    {
     "data": {
      "text/latex": [
       "\\begin{verbatim}\n",
       "@show_expr(expr, linenums=false)\n",
       "\\end{verbatim}\n",
       "shows the Juia style expression of \\texttt{expr} and prints the line number nodes if \\texttt{linenums} is true.  This is the macro version of \\texttt{show\\_expr}.\n",
       "\n",
       "\\subsection{Example}\n",
       "\\begin{verbatim}\n",
       "julia> @show_expr 2x+1\n",
       "Expr(:call, :+, \n",
       "    Expr(:call, :*, 2, :x), 1)\n",
       "\\end{verbatim}\n",
       "\\texttt{eval} function can evaluate the output of \\texttt{@show\\_expr}. \n",
       "\n",
       "\\begin{verbatim}\n",
       "julia> x = 10; Expr(:call, :+, \n",
       "    Expr(:call, :*, 2, :x), 1) |> eval\n",
       "21\n",
       "\\end{verbatim}\n"
      ],
      "text/markdown": [
       "```\n",
       "@show_expr(expr, linenums=false)\n",
       "```\n",
       "\n",
       "shows the Juia style expression of `expr` and prints the line number nodes if `linenums` is true.  This is the macro version of `show_expr`.\n",
       "\n",
       "## Example\n",
       "\n",
       "```julia\n",
       "julia> @show_expr 2x+1\n",
       "Expr(:call, :+, \n",
       "    Expr(:call, :*, 2, :x), 1)\n",
       "```\n",
       "\n",
       "`eval` function can evaluate the output of `@show_expr`. \n",
       "\n",
       "```julia\n",
       "julia> x = 10; Expr(:call, :+, \n",
       "    Expr(:call, :*, 2, :x), 1) |> eval\n",
       "21\n",
       "```\n"
      ],
      "text/plain": [
       "\u001b[36m  @show_expr(expr, linenums=false)\u001b[39m\n",
       "\n",
       "  shows the Juia style expression of \u001b[36mexpr\u001b[39m and prints the line number nodes if\n",
       "  \u001b[36mlinenums\u001b[39m is true. This is the macro version of \u001b[36mshow_expr\u001b[39m.\n",
       "\n",
       "\u001b[1m  Example\u001b[22m\n",
       "\u001b[1m  =========\u001b[22m\n",
       "\n",
       "\u001b[36m  julia> @show_expr 2x+1\u001b[39m\n",
       "\u001b[36m  Expr(:call, :+, \u001b[39m\n",
       "\u001b[36m      Expr(:call, :*, 2, :x), 1)\u001b[39m\n",
       "\n",
       "  \u001b[36meval\u001b[39m function can evaluate the output of \u001b[36m@show_expr\u001b[39m.\n",
       "\n",
       "\u001b[36m  julia> x = 10; Expr(:call, :+, \u001b[39m\n",
       "\u001b[36m      Expr(:call, :*, 2, :x), 1) |> eval\u001b[39m\n",
       "\u001b[36m  21\u001b[39m"
      ]
     },
     "execution_count": 68,
     "metadata": {},
     "output_type": "execute_result"
    }
   ],
   "source": [
    "@doc @show_expr"
   ]
  },
  {
   "cell_type": "code",
   "execution_count": 69,
   "metadata": {},
   "outputs": [
    {
     "data": {
      "text/latex": [
       "\\begin{verbatim}\n",
       "show_texpr([io::IO,], ex)\n",
       "\\end{verbatim}\n",
       "Yet another \\texttt{Meta.show\\_sexpr}.  It shows expression \\texttt{ex} as a lisp style expression.\n",
       "\n",
       "Remark: The indentation is different from \\texttt{Meta.show\\_sexpr}.\n",
       "\n",
       "\\section{Examples}\n",
       "\\begin{verbatim}\n",
       "julia> show_texpr(:(f(x, g(y, z))))\n",
       "Expr(:call, :f, :x, \n",
       "    Expr(:call, :g, :y, :z))\n",
       "\\end{verbatim}\n"
      ],
      "text/markdown": [
       "```\n",
       "show_texpr([io::IO,], ex)\n",
       "```\n",
       "\n",
       "Yet another `Meta.show_sexpr`.  It shows expression `ex` as a lisp style expression.\n",
       "\n",
       "Remark: The indentation is different from `Meta.show_sexpr`.\n",
       "\n",
       "# Examples\n",
       "\n",
       "```julia\n",
       "julia> show_texpr(:(f(x, g(y, z))))\n",
       "Expr(:call, :f, :x, \n",
       "    Expr(:call, :g, :y, :z))\n",
       "```\n"
      ],
      "text/plain": [
       "\u001b[36m  show_texpr([io::IO,], ex)\u001b[39m\n",
       "\n",
       "  Yet another \u001b[36mMeta.show_sexpr\u001b[39m. It shows expression \u001b[36mex\u001b[39m as a lisp style\n",
       "  expression.\n",
       "\n",
       "  Remark: The indentation is different from \u001b[36mMeta.show_sexpr\u001b[39m.\n",
       "\n",
       "\u001b[1m  Examples\u001b[22m\n",
       "\u001b[1m  ≡≡≡≡≡≡≡≡≡≡\u001b[22m\n",
       "\n",
       "\u001b[36m  julia> show_texpr(:(f(x, g(y, z))))\u001b[39m\n",
       "\u001b[36m  Expr(:call, :f, :x, \u001b[39m\n",
       "\u001b[36m      Expr(:call, :g, :y, :z))\u001b[39m"
      ]
     },
     "execution_count": 69,
     "metadata": {},
     "output_type": "execute_result"
    }
   ],
   "source": [
    "@doc show_texpr"
   ]
  },
  {
   "cell_type": "code",
   "execution_count": 70,
   "metadata": {},
   "outputs": [
    {
     "data": {
      "text/latex": [
       "\\begin{verbatim}\n",
       "@show_texpr(expr, linenums=false)\n",
       "\\end{verbatim}\n",
       "Yet another \\texttt{@show\\_sexpr}.  It shows the lisp style S-expression of \\texttt{expr} and prints the line number nodes if \\texttt{linenums} is true.\n",
       "\n",
       "Remark: The indentation is different from \\texttt{@show\\_sexpr}.\n",
       "\n",
       "\\subsection{Example}\n",
       "\\begin{verbatim}\n",
       "julia> @show_texpr 2x+1\n",
       "(:call, :+, \n",
       "    (:call, :*, 2, :x), 1)\n",
       "\\end{verbatim}\n",
       "\\texttt{teval} function can evaluate the output of \\texttt{@show\\_texpr}.\n",
       "\n",
       "\\begin{verbatim}\n",
       "julia> x = 10; (:call, :+, \n",
       "    (:call, :*, 2, :x), 1) |> teval\n",
       "21\n",
       "\\end{verbatim}\n"
      ],
      "text/markdown": [
       "```\n",
       "@show_texpr(expr, linenums=false)\n",
       "```\n",
       "\n",
       "Yet another `@show_sexpr`.  It shows the lisp style S-expression of `expr` and prints the line number nodes if `linenums` is true.\n",
       "\n",
       "Remark: The indentation is different from `@show_sexpr`.\n",
       "\n",
       "## Example\n",
       "\n",
       "```julia\n",
       "julia> @show_texpr 2x+1\n",
       "(:call, :+, \n",
       "    (:call, :*, 2, :x), 1)\n",
       "```\n",
       "\n",
       "`teval` function can evaluate the output of `@show_texpr`.\n",
       "\n",
       "```julia\n",
       "julia> x = 10; (:call, :+, \n",
       "    (:call, :*, 2, :x), 1) |> teval\n",
       "21\n",
       "```\n"
      ],
      "text/plain": [
       "\u001b[36m  @show_texpr(expr, linenums=false)\u001b[39m\n",
       "\n",
       "  Yet another \u001b[36m@show_sexpr\u001b[39m. It shows the lisp style S-expression of \u001b[36mexpr\u001b[39m and\n",
       "  prints the line number nodes if \u001b[36mlinenums\u001b[39m is true.\n",
       "\n",
       "  Remark: The indentation is different from \u001b[36m@show_sexpr\u001b[39m.\n",
       "\n",
       "\u001b[1m  Example\u001b[22m\n",
       "\u001b[1m  =========\u001b[22m\n",
       "\n",
       "\u001b[36m  julia> @show_texpr 2x+1\u001b[39m\n",
       "\u001b[36m  (:call, :+, \u001b[39m\n",
       "\u001b[36m      (:call, :*, 2, :x), 1)\u001b[39m\n",
       "\n",
       "  \u001b[36mteval\u001b[39m function can evaluate the output of \u001b[36m@show_texpr\u001b[39m.\n",
       "\n",
       "\u001b[36m  julia> x = 10; (:call, :+, \u001b[39m\n",
       "\u001b[36m      (:call, :*, 2, :x), 1) |> teval\u001b[39m\n",
       "\u001b[36m  21\u001b[39m"
      ]
     },
     "execution_count": 70,
     "metadata": {},
     "output_type": "execute_result"
    }
   ],
   "source": [
    "@doc @show_texpr"
   ]
  },
  {
   "cell_type": "code",
   "execution_count": 71,
   "metadata": {},
   "outputs": [
    {
     "data": {
      "text/latex": [
       "\\begin{verbatim}\n",
       "teval(texpr, m::Module=Main)\n",
       "\\end{verbatim}\n",
       "evaluates the lisp-like tuple expression \\texttt{texpr}.\n",
       "\n",
       "Example: Calculation of \\texttt{sin(π/6)}\n",
       "\n",
       "\\begin{verbatim}\n",
       "julia> (:call, :sin, (:call, :/, π, 6)) |> teval\n",
       "0.49999999999999994\n",
       "\\end{verbatim}\n",
       "In some cases, you can omit \\texttt{:call}.\n",
       "\n",
       "\\begin{verbatim}\n",
       "julia> (:sin, (:/, π, 6)) |> teval\n",
       "0.49999999999999994\n",
       "\\end{verbatim}\n"
      ],
      "text/markdown": [
       "```\n",
       "teval(texpr, m::Module=Main)\n",
       "```\n",
       "\n",
       "evaluates the lisp-like tuple expression `texpr`.\n",
       "\n",
       "Example: Calculation of `sin(π/6)`\n",
       "\n",
       "```julia\n",
       "julia> (:call, :sin, (:call, :/, π, 6)) |> teval\n",
       "0.49999999999999994\n",
       "```\n",
       "\n",
       "In some cases, you can omit `:call`.\n",
       "\n",
       "```julia\n",
       "julia> (:sin, (:/, π, 6)) |> teval\n",
       "0.49999999999999994\n",
       "```\n"
      ],
      "text/plain": [
       "\u001b[36m  teval(texpr, m::Module=Main)\u001b[39m\n",
       "\n",
       "  evaluates the lisp-like tuple expression \u001b[36mtexpr\u001b[39m.\n",
       "\n",
       "  Example: Calculation of \u001b[36msin(π/6)\u001b[39m\n",
       "\n",
       "\u001b[36m  julia> (:call, :sin, (:call, :/, π, 6)) |> teval\u001b[39m\n",
       "\u001b[36m  0.49999999999999994\u001b[39m\n",
       "\n",
       "  In some cases, you can omit \u001b[36m:call\u001b[39m.\n",
       "\n",
       "\u001b[36m  julia> (:sin, (:/, π, 6)) |> teval\u001b[39m\n",
       "\u001b[36m  0.49999999999999994\u001b[39m"
      ]
     },
     "execution_count": 71,
     "metadata": {},
     "output_type": "execute_result"
    }
   ],
   "source": [
    "@doc teval"
   ]
  },
  {
   "cell_type": "code",
   "execution_count": 72,
   "metadata": {},
   "outputs": [
    {
     "data": {
      "text/latex": [
       "\\begin{verbatim}\n",
       "@teval texpr\n",
       "\\end{verbatim}\n",
       "evaluates the lisp-like tuple expression \\texttt{texpr}.\n",
       "\n",
       "Example: Calculation of \\texttt{sin(π/6)}\n",
       "\n",
       "\\begin{verbatim}\n",
       "julia> @teval (:call, :sin, (:call, :/, π, 6))\n",
       "0.49999999999999994\n",
       "\\end{verbatim}\n",
       "In some cases, you can omit \\texttt{:call}.\n",
       "\n",
       "\\begin{verbatim}\n",
       "julia> @teval (:sin, (:/, π, 6))\n",
       "0.49999999999999994\n",
       "\\end{verbatim}\n"
      ],
      "text/markdown": [
       "```\n",
       "@teval texpr\n",
       "```\n",
       "\n",
       "evaluates the lisp-like tuple expression `texpr`.\n",
       "\n",
       "Example: Calculation of `sin(π/6)`\n",
       "\n",
       "```julia\n",
       "julia> @teval (:call, :sin, (:call, :/, π, 6))\n",
       "0.49999999999999994\n",
       "```\n",
       "\n",
       "In some cases, you can omit `:call`.\n",
       "\n",
       "```julia\n",
       "julia> @teval (:sin, (:/, π, 6))\n",
       "0.49999999999999994\n",
       "```\n"
      ],
      "text/plain": [
       "\u001b[36m  @teval texpr\u001b[39m\n",
       "\n",
       "  evaluates the lisp-like tuple expression \u001b[36mtexpr\u001b[39m.\n",
       "\n",
       "  Example: Calculation of \u001b[36msin(π/6)\u001b[39m\n",
       "\n",
       "\u001b[36m  julia> @teval (:call, :sin, (:call, :/, π, 6))\u001b[39m\n",
       "\u001b[36m  0.49999999999999994\u001b[39m\n",
       "\n",
       "  In some cases, you can omit \u001b[36m:call\u001b[39m.\n",
       "\n",
       "\u001b[36m  julia> @teval (:sin, (:/, π, 6))\u001b[39m\n",
       "\u001b[36m  0.49999999999999994\u001b[39m"
      ]
     },
     "execution_count": 72,
     "metadata": {},
     "output_type": "execute_result"
    }
   ],
   "source": [
    "@doc @teval"
   ]
  },
  {
   "cell_type": "code",
   "execution_count": 73,
   "metadata": {},
   "outputs": [
    {
     "data": {
      "text/latex": [
       "\\begin{verbatim}\n",
       "MetaUtils.@t texpr\n",
       "\\end{verbatim}\n",
       "shows the Julia expression and the value of the lisp-like tuple expression \\texttt{texpr}.\n",
       "\n",
       "Example:\n",
       "\n",
       "\\begin{verbatim}\n",
       "julia> MetaUtils.@t (:call, :sin, (:call, :/, π, 6))\n",
       ":(sin(π / 6))\n",
       "→ 0.49999999999999994\n",
       "\\end{verbatim}\n"
      ],
      "text/markdown": [
       "```\n",
       "MetaUtils.@t texpr\n",
       "```\n",
       "\n",
       "shows the Julia expression and the value of the lisp-like tuple expression `texpr`.\n",
       "\n",
       "Example:\n",
       "\n",
       "```julia\n",
       "julia> MetaUtils.@t (:call, :sin, (:call, :/, π, 6))\n",
       ":(sin(π / 6))\n",
       "→ 0.49999999999999994\n",
       "```\n"
      ],
      "text/plain": [
       "\u001b[36m  MetaUtils.@t texpr\u001b[39m\n",
       "\n",
       "  shows the Julia expression and the value of the lisp-like tuple expression\n",
       "  \u001b[36mtexpr\u001b[39m.\n",
       "\n",
       "  Example:\n",
       "\n",
       "\u001b[36m  julia> MetaUtils.@t (:call, :sin, (:call, :/, π, 6))\u001b[39m\n",
       "\u001b[36m  :(sin(π / 6))\u001b[39m\n",
       "\u001b[36m  → 0.49999999999999994\u001b[39m"
      ]
     },
     "execution_count": 73,
     "metadata": {},
     "output_type": "execute_result"
    }
   ],
   "source": [
    "@doc MetaUtils.@t"
   ]
  },
  {
   "cell_type": "code",
   "execution_count": 74,
   "metadata": {},
   "outputs": [
    {
     "data": {
      "text/latex": [
       "\\begin{verbatim}\n",
       "MetaUtils.@T texpr\n",
       "\\end{verbatim}\n",
       "shows \\texttt{show(texpr)}, \\texttt{show\\_texpr(texpr)}, the Julia expression, and the value of the lisp-like tuple expression \\texttt{texpr}.\n",
       "\n",
       "Example:\n",
       "\n",
       "\\begin{verbatim}\n",
       "julia> MetaUtils.@T (:call, :sin, (:call, :/, π, 6))\n",
       "(:call, :sin, (:call, :/, π, 6))\n",
       "→ (:call, :sin, \n",
       "    (:call, :/, π, 6))\n",
       "→ :(sin(π / 6))\n",
       "→ 0.49999999999999994\n",
       "\\end{verbatim}\n"
      ],
      "text/markdown": [
       "```\n",
       "MetaUtils.@T texpr\n",
       "```\n",
       "\n",
       "shows `show(texpr)`, `show_texpr(texpr)`, the Julia expression, and the value of the lisp-like tuple expression `texpr`.\n",
       "\n",
       "Example:\n",
       "\n",
       "```julia\n",
       "julia> MetaUtils.@T (:call, :sin, (:call, :/, π, 6))\n",
       "(:call, :sin, (:call, :/, π, 6))\n",
       "→ (:call, :sin, \n",
       "    (:call, :/, π, 6))\n",
       "→ :(sin(π / 6))\n",
       "→ 0.49999999999999994\n",
       "```\n"
      ],
      "text/plain": [
       "\u001b[36m  MetaUtils.@T texpr\u001b[39m\n",
       "\n",
       "  shows \u001b[36mshow(texpr)\u001b[39m, \u001b[36mshow_texpr(texpr)\u001b[39m, the Julia expression, and the value of\n",
       "  the lisp-like tuple expression \u001b[36mtexpr\u001b[39m.\n",
       "\n",
       "  Example:\n",
       "\n",
       "\u001b[36m  julia> MetaUtils.@T (:call, :sin, (:call, :/, π, 6))\u001b[39m\n",
       "\u001b[36m  (:call, :sin, (:call, :/, π, 6))\u001b[39m\n",
       "\u001b[36m  → (:call, :sin, \u001b[39m\n",
       "\u001b[36m      (:call, :/, π, 6))\u001b[39m\n",
       "\u001b[36m  → :(sin(π / 6))\u001b[39m\n",
       "\u001b[36m  → 0.49999999999999994\u001b[39m"
      ]
     },
     "execution_count": 74,
     "metadata": {},
     "output_type": "execute_result"
    }
   ],
   "source": [
    "@doc MetaUtils.@T"
   ]
  },
  {
   "cell_type": "code",
   "execution_count": null,
   "metadata": {},
   "outputs": [],
   "source": []
  }
 ],
 "metadata": {
  "@webio": {
   "lastCommId": null,
   "lastKernelId": null
  },
  "jupytext": {
   "formats": "ipynb,md"
  },
  "kernelspec": {
   "display_name": "Julia 1.7.0-DEV depwarn -O3",
   "language": "julia",
   "name": "julia-1.7-depwarn-o3"
  },
  "language_info": {
   "file_extension": ".jl",
   "mimetype": "application/julia",
   "name": "julia",
   "version": "1.7.0"
  },
  "toc": {
   "base_numbering": 1,
   "nav_menu": {},
   "number_sections": true,
   "sideBar": true,
   "skip_h1_title": true,
   "title_cell": "Table of Contents",
   "title_sidebar": "Contents",
   "toc_cell": true,
   "toc_position": {
    "height": "calc(100% - 180px)",
    "left": "10px",
    "top": "150px",
    "width": "250px"
   },
   "toc_section_display": true,
   "toc_window_display": false
  }
 },
 "nbformat": 4,
 "nbformat_minor": 4
}
